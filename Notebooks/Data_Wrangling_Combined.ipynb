{
 "cells": [
  {
   "cell_type": "markdown",
   "metadata": {
    "collapsed": true,
    "pycharm": {
     "name": "#%% md\n"
    }
   },
   "source": [
    "# Combining and Wrangling Both Data Sets"
   ]
  },
  {
   "cell_type": "markdown",
   "source": [
    "## Imports"
   ],
   "metadata": {
    "collapsed": false
   }
  },
  {
   "cell_type": "code",
   "execution_count": 28,
   "outputs": [],
   "source": [
    "import json\n",
    "import gzip\n",
    "import pandas as pd\n",
    "import os.path\n",
    "from dotenv import load_dotenv\n",
    "import numpy as np\n",
    "\n",
    "# set some print options\n",
    "np.set_printoptions(precision=4)\n",
    "np.set_printoptions(threshold=5)\n",
    "np.set_printoptions(suppress=True)\n",
    "pd.set_option('precision', 3, 'notebook_repr_html', True, )\n",
    "\n",
    "# init random gen\n",
    "np.random.seed(2)"
   ],
   "metadata": {
    "collapsed": false,
    "pycharm": {
     "name": "#%%\n"
    }
   }
  },
  {
   "cell_type": "markdown",
   "source": [
    "## Environment Variables"
   ],
   "metadata": {
    "collapsed": false
   }
  },
  {
   "cell_type": "code",
   "execution_count": 29,
   "outputs": [],
   "source": [
    "load_dotenv()\n",
    "grocery_data_in = os.getenv('IN_DATA_FILEPATH') + os.getenv('RAW_META_FILE')\n",
    "reviews_data_in = os.getenv('IN_DATA_FILEPATH') + os.getenv('RAW_REVIEW_FILE')\n",
    "# This path is still in the markdown below because haven't found a working way to use a variable there.\n",
    "doc_filepath = os.getenv('DOCUMENTATION_FILEPATH')"
   ],
   "metadata": {
    "collapsed": false,
    "pycharm": {
     "name": "#%%\n"
    }
   }
  },
  {
   "cell_type": "markdown",
   "source": [
    "## Introduction\n",
    "Data Wrangling is the process of collecting, organizing, and determining how well-defined the data is.  \n",
    "See [Grocery Recommender - Capstone Two](../Grocery_Recommender_-_Capstone_Two.pdf) for details about this project. "
   ],
   "metadata": {
    "collapsed": false
   }
  },
  {
   "cell_type": "markdown",
   "source": [
    "## Load Data \n",
    "This public dataset is available online <sup>[1]</sup> and is not included in source/version control for space reasons.  \n",
    "After downloading the dataset add it to the file location in your .env file; see environments_example.txt."
   ],
   "metadata": {
    "collapsed": false
   }
  },
  {
   "cell_type": "markdown",
   "source": [
    "### Product Dataset"
   ],
   "metadata": {
    "collapsed": false
   }
  },
  {
   "cell_type": "code",
   "execution_count": 30,
   "outputs": [],
   "source": [
    "grocery_data = []\n",
    "with gzip.open(grocery_data_in) as f:\n",
    "    for l in f:\n",
    "        grocery_data.append(json.loads(l.strip()))"
   ],
   "metadata": {
    "collapsed": false,
    "pycharm": {
     "name": "#%%\n"
    }
   }
  },
  {
   "cell_type": "code",
   "execution_count": 31,
   "outputs": [
    {
     "name": "stdout",
     "output_type": "stream",
     "text": [
      "287051\n"
     ]
    }
   ],
   "source": [
    "# Confirm data loaded by checking total number of products.\n",
    "print(len(grocery_data))"
   ],
   "metadata": {
    "collapsed": false,
    "pycharm": {
     "name": "#%%\n"
    }
   }
  },
  {
   "cell_type": "code",
   "execution_count": 32,
   "outputs": [
    {
     "data": {
      "text/plain": "287051"
     },
     "execution_count": 32,
     "metadata": {},
     "output_type": "execute_result"
    }
   ],
   "source": [
    "# convert list into pandas dataframe\n",
    "grocery_df = pd.DataFrame.from_dict(grocery_data)\n",
    "len(grocery_df)"
   ],
   "metadata": {
    "collapsed": false,
    "pycharm": {
     "name": "#%%\n"
    }
   }
  },
  {
   "cell_type": "code",
   "execution_count": 33,
   "outputs": [
    {
     "data": {
      "text/plain": "                                            category tech1  \\\n0  [Grocery & Gourmet Food, Dairy, Cheese & Eggs,...         \n1  [Grocery & Gourmet Food, Cooking & Baking, Sug...         \n\n                                         description fit  \\\n0  [BEEMSTER GOUDA CHEESE AGED 18/24 MONTHS, Stat...       \n1  [Shipped from UK, please allow 10 to 21 busine...       \n\n                                               title  \\\n0  Beemster Gouda - Aged 18/24 Months - App. 1.5 Lbs   \n1                          Trim Healthy Mama Xylitol   \n\n                                            also_buy  \\\n0                                                 []   \n1  [B01898YHXK, B01BCM6LAC, B00Q4OL47O, B00Q4OL5Q...   \n\n                                               image tech2           brand  \\\n0                                                 []        Ariola Imports   \n1  [https://images-na.ssl-images-amazon.com/image...                         \n\n  feature                                 rank  \\\n0      []  165,181 in Grocery & Gourmet Food (   \n1      []  315,867 in Grocery & Gourmet Food (   \n\n                                           also_view main_cat similar_item  \\\n0  [B0000D9MYM, B0000D9MYL, B00ADHIGBA, B00H9OX59...  Grocery                \n1                                                 []  Grocery                \n\n  date   price        asin details  \n0       $41.91  0681727810     NaN  \n1               0853347867     NaN  ",
      "text/html": "<div>\n<style scoped>\n    .dataframe tbody tr th:only-of-type {\n        vertical-align: middle;\n    }\n\n    .dataframe tbody tr th {\n        vertical-align: top;\n    }\n\n    .dataframe thead th {\n        text-align: right;\n    }\n</style>\n<table border=\"1\" class=\"dataframe\">\n  <thead>\n    <tr style=\"text-align: right;\">\n      <th></th>\n      <th>category</th>\n      <th>tech1</th>\n      <th>description</th>\n      <th>fit</th>\n      <th>title</th>\n      <th>also_buy</th>\n      <th>image</th>\n      <th>tech2</th>\n      <th>brand</th>\n      <th>feature</th>\n      <th>rank</th>\n      <th>also_view</th>\n      <th>main_cat</th>\n      <th>similar_item</th>\n      <th>date</th>\n      <th>price</th>\n      <th>asin</th>\n      <th>details</th>\n    </tr>\n  </thead>\n  <tbody>\n    <tr>\n      <th>0</th>\n      <td>[Grocery &amp; Gourmet Food, Dairy, Cheese &amp; Eggs,...</td>\n      <td></td>\n      <td>[BEEMSTER GOUDA CHEESE AGED 18/24 MONTHS, Stat...</td>\n      <td></td>\n      <td>Beemster Gouda - Aged 18/24 Months - App. 1.5 Lbs</td>\n      <td>[]</td>\n      <td>[]</td>\n      <td></td>\n      <td>Ariola Imports</td>\n      <td>[]</td>\n      <td>165,181 in Grocery &amp; Gourmet Food (</td>\n      <td>[B0000D9MYM, B0000D9MYL, B00ADHIGBA, B00H9OX59...</td>\n      <td>Grocery</td>\n      <td></td>\n      <td></td>\n      <td>$41.91</td>\n      <td>0681727810</td>\n      <td>NaN</td>\n    </tr>\n    <tr>\n      <th>1</th>\n      <td>[Grocery &amp; Gourmet Food, Cooking &amp; Baking, Sug...</td>\n      <td></td>\n      <td>[Shipped from UK, please allow 10 to 21 busine...</td>\n      <td></td>\n      <td>Trim Healthy Mama Xylitol</td>\n      <td>[B01898YHXK, B01BCM6LAC, B00Q4OL47O, B00Q4OL5Q...</td>\n      <td>[https://images-na.ssl-images-amazon.com/image...</td>\n      <td></td>\n      <td></td>\n      <td>[]</td>\n      <td>315,867 in Grocery &amp; Gourmet Food (</td>\n      <td>[]</td>\n      <td>Grocery</td>\n      <td></td>\n      <td></td>\n      <td></td>\n      <td>0853347867</td>\n      <td>NaN</td>\n    </tr>\n  </tbody>\n</table>\n</div>"
     },
     "execution_count": 33,
     "metadata": {},
     "output_type": "execute_result"
    }
   ],
   "source": [
    "grocery_df.head(2)"
   ],
   "metadata": {
    "collapsed": false,
    "pycharm": {
     "name": "#%%\n"
    }
   }
  },
  {
   "cell_type": "markdown",
   "source": [
    "### Reviews Dataset"
   ],
   "metadata": {
    "collapsed": false,
    "pycharm": {
     "name": "#%% md\n"
    }
   }
  },
  {
   "cell_type": "code",
   "execution_count": 34,
   "outputs": [],
   "source": [
    "reviews_data = []\n",
    "with gzip.open(reviews_data_in) as f:\n",
    "    for l in f:\n",
    "        reviews_data.append(json.loads(l.strip()))"
   ],
   "metadata": {
    "collapsed": false,
    "pycharm": {
     "name": "#%%\n"
    }
   }
  },
  {
   "cell_type": "code",
   "execution_count": 35,
   "outputs": [
    {
     "name": "stdout",
     "output_type": "stream",
     "text": [
      "1143860\n"
     ]
    }
   ],
   "source": [
    "# total length equals total number of reviews\n",
    "print(len(reviews_data))"
   ],
   "metadata": {
    "collapsed": false,
    "pycharm": {
     "name": "#%%\n"
    }
   }
  },
  {
   "cell_type": "code",
   "execution_count": 36,
   "outputs": [
    {
     "data": {
      "text/plain": "1143860"
     },
     "execution_count": 36,
     "metadata": {},
     "output_type": "execute_result"
    }
   ],
   "source": [
    "# convert list into pandas dataframe\n",
    "reviews_df = pd.DataFrame.from_dict(reviews_data)\n",
    "len(reviews_df)"
   ],
   "metadata": {
    "collapsed": false,
    "pycharm": {
     "name": "#%%\n"
    }
   }
  },
  {
   "cell_type": "code",
   "execution_count": 37,
   "outputs": [
    {
     "data": {
      "text/plain": "   overall  verified   reviewTime      reviewerID        asin    reviewerName  \\\n0      5.0      True  11 19, 2014  A1QVBUH9E1V6I8  4639725183  Jamshed Mathur   \n1      5.0      True  10 13, 2016  A3GEOILWLK86XM  4639725183       itsjustme   \n\n                  reviewText         summary  unixReviewTime vote style image  \n0        No adverse comment.      Five Stars      1416355200  NaN   NaN   NaN  \n1  Gift for college student.  Great product.      1476316800  NaN   NaN   NaN  ",
      "text/html": "<div>\n<style scoped>\n    .dataframe tbody tr th:only-of-type {\n        vertical-align: middle;\n    }\n\n    .dataframe tbody tr th {\n        vertical-align: top;\n    }\n\n    .dataframe thead th {\n        text-align: right;\n    }\n</style>\n<table border=\"1\" class=\"dataframe\">\n  <thead>\n    <tr style=\"text-align: right;\">\n      <th></th>\n      <th>overall</th>\n      <th>verified</th>\n      <th>reviewTime</th>\n      <th>reviewerID</th>\n      <th>asin</th>\n      <th>reviewerName</th>\n      <th>reviewText</th>\n      <th>summary</th>\n      <th>unixReviewTime</th>\n      <th>vote</th>\n      <th>style</th>\n      <th>image</th>\n    </tr>\n  </thead>\n  <tbody>\n    <tr>\n      <th>0</th>\n      <td>5.0</td>\n      <td>True</td>\n      <td>11 19, 2014</td>\n      <td>A1QVBUH9E1V6I8</td>\n      <td>4639725183</td>\n      <td>Jamshed Mathur</td>\n      <td>No adverse comment.</td>\n      <td>Five Stars</td>\n      <td>1416355200</td>\n      <td>NaN</td>\n      <td>NaN</td>\n      <td>NaN</td>\n    </tr>\n    <tr>\n      <th>1</th>\n      <td>5.0</td>\n      <td>True</td>\n      <td>10 13, 2016</td>\n      <td>A3GEOILWLK86XM</td>\n      <td>4639725183</td>\n      <td>itsjustme</td>\n      <td>Gift for college student.</td>\n      <td>Great product.</td>\n      <td>1476316800</td>\n      <td>NaN</td>\n      <td>NaN</td>\n      <td>NaN</td>\n    </tr>\n  </tbody>\n</table>\n</div>"
     },
     "execution_count": 37,
     "metadata": {},
     "output_type": "execute_result"
    }
   ],
   "source": [
    "reviews_df.head(2)"
   ],
   "metadata": {
    "collapsed": false,
    "pycharm": {
     "name": "#%%\n"
    }
   }
  },
  {
   "cell_type": "markdown",
   "source": [
    "## Merge DataFrames"
   ],
   "metadata": {
    "collapsed": false,
    "pycharm": {
     "name": "#%% md\n"
    }
   }
  },
  {
   "cell_type": "code",
   "execution_count": 38,
   "outputs": [
    {
     "data": {
      "text/plain": "(1167889, 29)"
     },
     "execution_count": 38,
     "metadata": {},
     "output_type": "execute_result"
    }
   ],
   "source": [
    "combined_df = grocery_df.merge(reviews_df, on='asin')\n",
    "combined_df.shape"
   ],
   "metadata": {
    "collapsed": false,
    "pycharm": {
     "name": "#%%\n"
    }
   }
  },
  {
   "cell_type": "code",
   "execution_count": 39,
   "outputs": [],
   "source": [
    "# remove whitespace in column names\n",
    "combined_df.columns = combined_df.columns.str.replace(' ', '')"
   ],
   "metadata": {
    "collapsed": false,
    "pycharm": {
     "name": "#%%\n"
    }
   }
  },
  {
   "cell_type": "code",
   "execution_count": 40,
   "outputs": [
    {
     "data": {
      "text/plain": "                                            category tech1  \\\n0  [Grocery & Gourmet Food, Beverages, Coffee, Te...         \n1  [Grocery & Gourmet Food, Beverages, Coffee, Te...         \n\n                                         description fit  \\\n0  [Lipton Yellow Label Tea use only the finest t...       \n1  [Lipton Yellow Label Tea use only the finest t...       \n\n                                        title  \\\n0  Lipton Yellow Label Tea (loose tea) - 450g   \n1  Lipton Yellow Label Tea (loose tea) - 450g   \n\n                                            also_buy  \\\n0  [B00886E4K0, B00CREXSHY, B001QTRGAQ, B002EYZM4...   \n1  [B00886E4K0, B00CREXSHY, B001QTRGAQ, B002EYZM4...   \n\n                                             image_x tech2   brand feature  \\\n0  [https://images-na.ssl-images-amazon.com/image...        Lipton      []   \n1  [https://images-na.ssl-images-amazon.com/image...        Lipton      []   \n\n   ... verified   reviewTime      reviewerID       reviewerName  \\\n0  ...     True  04 29, 2012  A1J205ZK25TZ6W  kez panel project   \n1  ...     True  04 11, 2008   ACOICLIJQYECU                N D   \n\n                                          reviewText  \\\n0  I make the best brewed iced tea with this yell...   \n1  I have recently started drinking hot tea again...   \n\n                     summary unixReviewTime vote  style  image_y  \n0  Best for brewed iced tea.     1335657600    8    NaN      NaN  \n1       Not Bad for iced Tea     1207872000    9    NaN      NaN  \n\n[2 rows x 29 columns]",
      "text/html": "<div>\n<style scoped>\n    .dataframe tbody tr th:only-of-type {\n        vertical-align: middle;\n    }\n\n    .dataframe tbody tr th {\n        vertical-align: top;\n    }\n\n    .dataframe thead th {\n        text-align: right;\n    }\n</style>\n<table border=\"1\" class=\"dataframe\">\n  <thead>\n    <tr style=\"text-align: right;\">\n      <th></th>\n      <th>category</th>\n      <th>tech1</th>\n      <th>description</th>\n      <th>fit</th>\n      <th>title</th>\n      <th>also_buy</th>\n      <th>image_x</th>\n      <th>tech2</th>\n      <th>brand</th>\n      <th>feature</th>\n      <th>...</th>\n      <th>verified</th>\n      <th>reviewTime</th>\n      <th>reviewerID</th>\n      <th>reviewerName</th>\n      <th>reviewText</th>\n      <th>summary</th>\n      <th>unixReviewTime</th>\n      <th>vote</th>\n      <th>style</th>\n      <th>image_y</th>\n    </tr>\n  </thead>\n  <tbody>\n    <tr>\n      <th>0</th>\n      <td>[Grocery &amp; Gourmet Food, Beverages, Coffee, Te...</td>\n      <td></td>\n      <td>[Lipton Yellow Label Tea use only the finest t...</td>\n      <td></td>\n      <td>Lipton Yellow Label Tea (loose tea) - 450g</td>\n      <td>[B00886E4K0, B00CREXSHY, B001QTRGAQ, B002EYZM4...</td>\n      <td>[https://images-na.ssl-images-amazon.com/image...</td>\n      <td></td>\n      <td>Lipton</td>\n      <td>[]</td>\n      <td>...</td>\n      <td>True</td>\n      <td>04 29, 2012</td>\n      <td>A1J205ZK25TZ6W</td>\n      <td>kez panel project</td>\n      <td>I make the best brewed iced tea with this yell...</td>\n      <td>Best for brewed iced tea.</td>\n      <td>1335657600</td>\n      <td>8</td>\n      <td>NaN</td>\n      <td>NaN</td>\n    </tr>\n    <tr>\n      <th>1</th>\n      <td>[Grocery &amp; Gourmet Food, Beverages, Coffee, Te...</td>\n      <td></td>\n      <td>[Lipton Yellow Label Tea use only the finest t...</td>\n      <td></td>\n      <td>Lipton Yellow Label Tea (loose tea) - 450g</td>\n      <td>[B00886E4K0, B00CREXSHY, B001QTRGAQ, B002EYZM4...</td>\n      <td>[https://images-na.ssl-images-amazon.com/image...</td>\n      <td></td>\n      <td>Lipton</td>\n      <td>[]</td>\n      <td>...</td>\n      <td>True</td>\n      <td>04 11, 2008</td>\n      <td>ACOICLIJQYECU</td>\n      <td>N D</td>\n      <td>I have recently started drinking hot tea again...</td>\n      <td>Not Bad for iced Tea</td>\n      <td>1207872000</td>\n      <td>9</td>\n      <td>NaN</td>\n      <td>NaN</td>\n    </tr>\n  </tbody>\n</table>\n<p>2 rows × 29 columns</p>\n</div>"
     },
     "execution_count": 40,
     "metadata": {},
     "output_type": "execute_result"
    }
   ],
   "source": [
    "combined_df.head(2)"
   ],
   "metadata": {
    "collapsed": false,
    "pycharm": {
     "name": "#%%\n"
    }
   }
  },
  {
   "cell_type": "markdown",
   "source": [
    "## Clean Data\n",
    "See other wrangling notebooks for additional details."
   ],
   "metadata": {
    "collapsed": false,
    "pycharm": {
     "name": "#%% md\n"
    }
   }
  },
  {
   "cell_type": "code",
   "execution_count": 41,
   "outputs": [
    {
     "name": "stdout",
     "output_type": "stream",
     "text": [
      "<class 'pandas.core.frame.DataFrame'>\n",
      "Int64Index: 1167889 entries, 0 to 1167888\n",
      "Data columns (total 29 columns):\n",
      " #   Column          Non-Null Count    Dtype  \n",
      "---  ------          --------------    -----  \n",
      " 0   category        1167889 non-null  object \n",
      " 1   tech1           1167889 non-null  object \n",
      " 2   description     1167889 non-null  object \n",
      " 3   fit             1167889 non-null  object \n",
      " 4   title           1167889 non-null  object \n",
      " 5   also_buy        1167889 non-null  object \n",
      " 6   image_x         1167889 non-null  object \n",
      " 7   tech2           1167889 non-null  object \n",
      " 8   brand           1167889 non-null  object \n",
      " 9   feature         1167889 non-null  object \n",
      " 10  rank            1167889 non-null  object \n",
      " 11  also_view       1167889 non-null  object \n",
      " 12  main_cat        1167889 non-null  object \n",
      " 13  similar_item    1167889 non-null  object \n",
      " 14  date            1167889 non-null  object \n",
      " 15  price           1167889 non-null  object \n",
      " 16  asin            1167889 non-null  object \n",
      " 17  details         1167838 non-null  object \n",
      " 18  overall         1167889 non-null  float64\n",
      " 19  verified        1167889 non-null  bool   \n",
      " 20  reviewTime      1167889 non-null  object \n",
      " 21  reviewerID      1167889 non-null  object \n",
      " 22  reviewerName    1167748 non-null  object \n",
      " 23  reviewText      1167494 non-null  object \n",
      " 24  summary         1167669 non-null  object \n",
      " 25  unixReviewTime  1167889 non-null  int64  \n",
      " 26  vote            161854 non-null   object \n",
      " 27  style           606595 non-null   object \n",
      " 28  image_y         9656 non-null     object \n",
      "dtypes: bool(1), float64(1), int64(1), object(26)\n",
      "memory usage: 259.5+ MB\n"
     ]
    }
   ],
   "source": [
    "combined_df.info()"
   ],
   "metadata": {
    "collapsed": false,
    "pycharm": {
     "name": "#%%\n"
    }
   }
  },
  {
   "cell_type": "code",
   "execution_count": 42,
   "outputs": [
    {
     "name": "stdout",
     "output_type": "stream",
     "text": [
      "<class 'pandas.core.frame.DataFrame'>\n",
      "Int64Index: 1167889 entries, 0 to 1167888\n",
      "Data columns (total 29 columns):\n",
      " #   Column          Non-Null Count    Dtype  \n",
      "---  ------          --------------    -----  \n",
      " 0   category        1167889 non-null  object \n",
      " 1   tech1           6035 non-null     object \n",
      " 2   description     1167889 non-null  object \n",
      " 3   fit             0 non-null        float64\n",
      " 4   title           1167889 non-null  object \n",
      " 5   also_buy        1167889 non-null  object \n",
      " 6   image_x         1167889 non-null  object \n",
      " 7   tech2           0 non-null        float64\n",
      " 8   brand           1159512 non-null  object \n",
      " 9   feature         1167889 non-null  object \n",
      " 10  rank            1167889 non-null  object \n",
      " 11  also_view       1167889 non-null  object \n",
      " 12  main_cat        1167264 non-null  object \n",
      " 13  similar_item    1654 non-null     object \n",
      " 14  date            17115 non-null    object \n",
      " 15  price           827357 non-null   object \n",
      " 16  asin            1167889 non-null  object \n",
      " 17  details         1167838 non-null  object \n",
      " 18  overall         1167889 non-null  float64\n",
      " 19  verified        1167889 non-null  bool   \n",
      " 20  reviewTime      1167889 non-null  object \n",
      " 21  reviewerID      1167889 non-null  object \n",
      " 22  reviewerName    1167748 non-null  object \n",
      " 23  reviewText      1167494 non-null  object \n",
      " 24  summary         1167669 non-null  object \n",
      " 25  unixReviewTime  1167889 non-null  int64  \n",
      " 26  vote            161854 non-null   object \n",
      " 27  style           606595 non-null   object \n",
      " 28  image_y         9656 non-null     object \n",
      "dtypes: bool(1), float64(3), int64(1), object(24)\n",
      "memory usage: 259.5+ MB\n"
     ]
    }
   ],
   "source": [
    "# Clean multiple missing types of values\n",
    "combined_df.replace({'': np.nan, 'NaN': np.nan, 0: np.nan}, inplace=True)\n",
    "combined_df.info()"
   ],
   "metadata": {
    "collapsed": false,
    "pycharm": {
     "name": "#%%\n"
    }
   }
  },
  {
   "cell_type": "code",
   "execution_count": 43,
   "outputs": [],
   "source": [
    "# The price column has several issues with problem data; such as ranges and html without numbers\n",
    "# See Wrangling_Grocery_and_Gourmet_Food_Meta for additional info.\n",
    "combined_df['price'] = combined_df['price'].apply(lambda x: np.nan if '{' in str(x) else x)\n",
    "combined_df['price'] = combined_df['price'].apply(lambda x: np.nan if ' - ' in str(x) else x)"
   ],
   "metadata": {
    "collapsed": false,
    "pycharm": {
     "name": "#%%\n"
    }
   }
  },
  {
   "cell_type": "code",
   "execution_count": 44,
   "outputs": [],
   "source": [
    "# Clean blank lists in multiple columns\n",
    "list_columns = ['category', 'description', 'also_buy', 'feature', 'also_view']\n",
    "for col in combined_df[list_columns]:\n",
    "    combined_df[col] = combined_df[col].apply(lambda x: np.nan if len(x)==0 else x)"
   ],
   "metadata": {
    "collapsed": false,
    "pycharm": {
     "name": "#%%\n"
    }
   }
  },
  {
   "cell_type": "code",
   "execution_count": 45,
   "outputs": [],
   "source": [
    "# Remove columns that don't have at least half of the data.\n",
    "drop_thresh = combined_df.shape[0] * 0.51\n",
    "combined_df = combined_df.dropna(thresh=drop_thresh, how='all', axis='columns').copy()"
   ],
   "metadata": {
    "collapsed": false,
    "pycharm": {
     "name": "#%%\n"
    }
   }
  },
  {
   "cell_type": "code",
   "execution_count": 46,
   "outputs": [
    {
     "name": "stdout",
     "output_type": "stream",
     "text": [
      "Total NaN in category is 0\n",
      "Total NaN in description is 96824\n",
      "Total NaN in title is 0\n",
      "Total NaN in also_buy is 164495\n",
      "Total NaN in image_x is 0\n",
      "Total NaN in brand is 8377\n",
      "Total NaN in rank is 0\n",
      "Total NaN in also_view is 518601\n",
      "Total NaN in main_cat is 625\n",
      "Total NaN in price is 362643\n",
      "Total NaN in asin is 0\n",
      "Total NaN in details is 51\n",
      "Total NaN in overall is 0\n",
      "Total NaN in verified is 0\n",
      "Total NaN in reviewTime is 0\n",
      "Total NaN in reviewerID is 0\n",
      "Total NaN in reviewerName is 141\n",
      "Total NaN in reviewText is 395\n",
      "Total NaN in summary is 220\n",
      "Total NaN in unixReviewTime is 0\n",
      "Total NaN in style is 561294\n"
     ]
    }
   ],
   "source": [
    "for col in combined_df.columns:\n",
    "    print(f'Total NaN in {col} is {combined_df[col].isnull().sum()}')"
   ],
   "metadata": {
    "collapsed": false,
    "pycharm": {
     "name": "#%%\n"
    }
   }
  },
  {
   "cell_type": "code",
   "execution_count": 47,
   "outputs": [
    {
     "data": {
      "text/plain": "                                            category  \\\n0  [Grocery & Gourmet Food, Beverages, Coffee, Te...   \n1  [Grocery & Gourmet Food, Beverages, Coffee, Te...   \n\n                                         description  \\\n0  [Lipton Yellow Label Tea use only the finest t...   \n1  [Lipton Yellow Label Tea use only the finest t...   \n\n                                        title  \\\n0  Lipton Yellow Label Tea (loose tea) - 450g   \n1  Lipton Yellow Label Tea (loose tea) - 450g   \n\n                                            also_buy   brand  \\\n0  [B00886E4K0, B00CREXSHY, B001QTRGAQ, B002EYZM4...  Lipton   \n1  [B00886E4K0, B00CREXSHY, B001QTRGAQ, B002EYZM4...  Lipton   \n\n                                 rank  \\\n0  30,937 in Grocery & Gourmet Food (   \n1  30,937 in Grocery & Gourmet Food (   \n\n                                           also_view main_cat   price  \\\n0  [B00CREXSHY, B001QTRGAQ, B000JSQK70, B002EYZM4...  Grocery  $12.46   \n1  [B00CREXSHY, B001QTRGAQ, B000JSQK70, B002EYZM4...  Grocery  $12.46   \n\n         asin details  overall  verified      reviewerID  \\\n0  4639725043     NaN      5.0      True  A1J205ZK25TZ6W   \n1  4639725043     NaN      3.0      True   ACOICLIJQYECU   \n\n                                          reviewText  \\\n0  I make the best brewed iced tea with this yell...   \n1  I have recently started drinking hot tea again...   \n\n                     summary style  \n0  Best for brewed iced tea.   NaN  \n1       Not Bad for iced Tea   NaN  ",
      "text/html": "<div>\n<style scoped>\n    .dataframe tbody tr th:only-of-type {\n        vertical-align: middle;\n    }\n\n    .dataframe tbody tr th {\n        vertical-align: top;\n    }\n\n    .dataframe thead th {\n        text-align: right;\n    }\n</style>\n<table border=\"1\" class=\"dataframe\">\n  <thead>\n    <tr style=\"text-align: right;\">\n      <th></th>\n      <th>category</th>\n      <th>description</th>\n      <th>title</th>\n      <th>also_buy</th>\n      <th>brand</th>\n      <th>rank</th>\n      <th>also_view</th>\n      <th>main_cat</th>\n      <th>price</th>\n      <th>asin</th>\n      <th>details</th>\n      <th>overall</th>\n      <th>verified</th>\n      <th>reviewerID</th>\n      <th>reviewText</th>\n      <th>summary</th>\n      <th>style</th>\n    </tr>\n  </thead>\n  <tbody>\n    <tr>\n      <th>0</th>\n      <td>[Grocery &amp; Gourmet Food, Beverages, Coffee, Te...</td>\n      <td>[Lipton Yellow Label Tea use only the finest t...</td>\n      <td>Lipton Yellow Label Tea (loose tea) - 450g</td>\n      <td>[B00886E4K0, B00CREXSHY, B001QTRGAQ, B002EYZM4...</td>\n      <td>Lipton</td>\n      <td>30,937 in Grocery &amp; Gourmet Food (</td>\n      <td>[B00CREXSHY, B001QTRGAQ, B000JSQK70, B002EYZM4...</td>\n      <td>Grocery</td>\n      <td>$12.46</td>\n      <td>4639725043</td>\n      <td>NaN</td>\n      <td>5.0</td>\n      <td>True</td>\n      <td>A1J205ZK25TZ6W</td>\n      <td>I make the best brewed iced tea with this yell...</td>\n      <td>Best for brewed iced tea.</td>\n      <td>NaN</td>\n    </tr>\n    <tr>\n      <th>1</th>\n      <td>[Grocery &amp; Gourmet Food, Beverages, Coffee, Te...</td>\n      <td>[Lipton Yellow Label Tea use only the finest t...</td>\n      <td>Lipton Yellow Label Tea (loose tea) - 450g</td>\n      <td>[B00886E4K0, B00CREXSHY, B001QTRGAQ, B002EYZM4...</td>\n      <td>Lipton</td>\n      <td>30,937 in Grocery &amp; Gourmet Food (</td>\n      <td>[B00CREXSHY, B001QTRGAQ, B000JSQK70, B002EYZM4...</td>\n      <td>Grocery</td>\n      <td>$12.46</td>\n      <td>4639725043</td>\n      <td>NaN</td>\n      <td>3.0</td>\n      <td>True</td>\n      <td>ACOICLIJQYECU</td>\n      <td>I have recently started drinking hot tea again...</td>\n      <td>Not Bad for iced Tea</td>\n      <td>NaN</td>\n    </tr>\n  </tbody>\n</table>\n</div>"
     },
     "execution_count": 47,
     "metadata": {},
     "output_type": "execute_result"
    }
   ],
   "source": [
    "# Drop several columns\n",
    "# image_x link because this project won't analyze images.\n",
    "# reviewTime and unixReviewTime because this project won't do time series analysis.\n",
    "# reviewerName for privacy considerations\n",
    "combined_df.drop(columns=['image_x', 'reviewTime', 'unixReviewTime', 'reviewerName'], inplace=True)\n",
    "combined_df.head(2)"
   ],
   "metadata": {
    "collapsed": false,
    "pycharm": {
     "name": "#%%\n"
    }
   }
  },
  {
   "cell_type": "code",
   "execution_count": 48,
   "outputs": [
    {
     "name": "stdout",
     "output_type": "stream",
     "text": [
      "<class 'pandas.core.frame.DataFrame'>\n",
      "Int64Index: 1167889 entries, 0 to 1167888\n",
      "Data columns (total 17 columns):\n",
      " #   Column       Non-Null Count    Dtype  \n",
      "---  ------       --------------    -----  \n",
      " 0   category     1167889 non-null  object \n",
      " 1   description  1071065 non-null  object \n",
      " 2   title        1167889 non-null  object \n",
      " 3   also_buy     1003394 non-null  object \n",
      " 4   brand        1159512 non-null  object \n",
      " 5   rank         1167889 non-null  object \n",
      " 6   also_view    649288 non-null   object \n",
      " 7   main_cat     1167264 non-null  object \n",
      " 8   price        805246 non-null   object \n",
      " 9   asin         1167889 non-null  object \n",
      " 10  details      1167838 non-null  object \n",
      " 11  overall      1167889 non-null  float64\n",
      " 12  verified     1167889 non-null  bool   \n",
      " 13  reviewerID   1167889 non-null  object \n",
      " 14  reviewText   1167494 non-null  object \n",
      " 15  summary      1167669 non-null  object \n",
      " 16  style        606595 non-null   object \n",
      "dtypes: bool(1), float64(1), object(15)\n",
      "memory usage: 152.6+ MB\n"
     ]
    }
   ],
   "source": [
    "combined_df.info()"
   ],
   "metadata": {
    "collapsed": false,
    "pycharm": {
     "name": "#%%\n"
    }
   }
  },
  {
   "cell_type": "code",
   "execution_count": 49,
   "outputs": [
    {
     "name": "stdout",
     "output_type": "stream",
     "text": [
      "Count of products in database 1167889\n",
      "Unique count of products in database 41280\n"
     ]
    }
   ],
   "source": [
    "# Analyze asin\n",
    "print(\"Count of products in database\", len(combined_df['asin']))\n",
    "# unique asin\n",
    "print(\"Unique count of products in database\", len(set(combined_df['asin'])))"
   ],
   "metadata": {
    "collapsed": false,
    "pycharm": {
     "name": "#%%\n"
    }
   }
  },
  {
   "cell_type": "code",
   "execution_count": 50,
   "outputs": [
    {
     "data": {
      "text/plain": "                                            category  \\\n0  [Grocery & Gourmet Food, Beverages, Coffee, Te...   \n1  [Grocery & Gourmet Food, Beverages, Coffee, Te...   \n2  [Grocery & Gourmet Food, Beverages, Coffee, Te...   \n\n                                         description  \\\n0  [Lipton Yellow Label Tea use only the finest t...   \n1  [Lipton Yellow Label Tea use only the finest t...   \n2  [Lipton Yellow Label Tea use only the finest t...   \n\n                                        title  \\\n0  Lipton Yellow Label Tea (loose tea) - 450g   \n1  Lipton Yellow Label Tea (loose tea) - 450g   \n2  Lipton Yellow Label Tea (loose tea) - 450g   \n\n                                            also_buy   brand  \\\n0  [B00886E4K0, B00CREXSHY, B001QTRGAQ, B002EYZM4...  Lipton   \n1  [B00886E4K0, B00CREXSHY, B001QTRGAQ, B002EYZM4...  Lipton   \n2  [B00886E4K0, B00CREXSHY, B001QTRGAQ, B002EYZM4...  Lipton   \n\n                                 rank  \\\n0  30,937 in Grocery & Gourmet Food (   \n1  30,937 in Grocery & Gourmet Food (   \n2  30,937 in Grocery & Gourmet Food (   \n\n                                           also_view main_cat   price  \\\n0  [B00CREXSHY, B001QTRGAQ, B000JSQK70, B002EYZM4...  Grocery  $12.46   \n1  [B00CREXSHY, B001QTRGAQ, B000JSQK70, B002EYZM4...  Grocery  $12.46   \n2  [B00CREXSHY, B001QTRGAQ, B000JSQK70, B002EYZM4...  Grocery  $12.46   \n\n         asin details  overall  verified      reviewerID  \\\n0  4639725043     NaN      5.0      True  A1J205ZK25TZ6W   \n1  4639725043     NaN      3.0      True   ACOICLIJQYECU   \n2  4639725043     NaN      5.0      True  A29RCQA5G0B1BA   \n\n                                          reviewText  \\\n0  I make the best brewed iced tea with this yell...   \n1  I have recently started drinking hot tea again...   \n2  I like pretty much all of Lipton's tea... I ju...   \n\n                     summary style  \n0  Best for brewed iced tea.   NaN  \n1       Not Bad for iced Tea   NaN  \n2          A Great Cuppa...!   NaN  ",
      "text/html": "<div>\n<style scoped>\n    .dataframe tbody tr th:only-of-type {\n        vertical-align: middle;\n    }\n\n    .dataframe tbody tr th {\n        vertical-align: top;\n    }\n\n    .dataframe thead th {\n        text-align: right;\n    }\n</style>\n<table border=\"1\" class=\"dataframe\">\n  <thead>\n    <tr style=\"text-align: right;\">\n      <th></th>\n      <th>category</th>\n      <th>description</th>\n      <th>title</th>\n      <th>also_buy</th>\n      <th>brand</th>\n      <th>rank</th>\n      <th>also_view</th>\n      <th>main_cat</th>\n      <th>price</th>\n      <th>asin</th>\n      <th>details</th>\n      <th>overall</th>\n      <th>verified</th>\n      <th>reviewerID</th>\n      <th>reviewText</th>\n      <th>summary</th>\n      <th>style</th>\n    </tr>\n  </thead>\n  <tbody>\n    <tr>\n      <th>0</th>\n      <td>[Grocery &amp; Gourmet Food, Beverages, Coffee, Te...</td>\n      <td>[Lipton Yellow Label Tea use only the finest t...</td>\n      <td>Lipton Yellow Label Tea (loose tea) - 450g</td>\n      <td>[B00886E4K0, B00CREXSHY, B001QTRGAQ, B002EYZM4...</td>\n      <td>Lipton</td>\n      <td>30,937 in Grocery &amp; Gourmet Food (</td>\n      <td>[B00CREXSHY, B001QTRGAQ, B000JSQK70, B002EYZM4...</td>\n      <td>Grocery</td>\n      <td>$12.46</td>\n      <td>4639725043</td>\n      <td>NaN</td>\n      <td>5.0</td>\n      <td>True</td>\n      <td>A1J205ZK25TZ6W</td>\n      <td>I make the best brewed iced tea with this yell...</td>\n      <td>Best for brewed iced tea.</td>\n      <td>NaN</td>\n    </tr>\n    <tr>\n      <th>1</th>\n      <td>[Grocery &amp; Gourmet Food, Beverages, Coffee, Te...</td>\n      <td>[Lipton Yellow Label Tea use only the finest t...</td>\n      <td>Lipton Yellow Label Tea (loose tea) - 450g</td>\n      <td>[B00886E4K0, B00CREXSHY, B001QTRGAQ, B002EYZM4...</td>\n      <td>Lipton</td>\n      <td>30,937 in Grocery &amp; Gourmet Food (</td>\n      <td>[B00CREXSHY, B001QTRGAQ, B000JSQK70, B002EYZM4...</td>\n      <td>Grocery</td>\n      <td>$12.46</td>\n      <td>4639725043</td>\n      <td>NaN</td>\n      <td>3.0</td>\n      <td>True</td>\n      <td>ACOICLIJQYECU</td>\n      <td>I have recently started drinking hot tea again...</td>\n      <td>Not Bad for iced Tea</td>\n      <td>NaN</td>\n    </tr>\n    <tr>\n      <th>2</th>\n      <td>[Grocery &amp; Gourmet Food, Beverages, Coffee, Te...</td>\n      <td>[Lipton Yellow Label Tea use only the finest t...</td>\n      <td>Lipton Yellow Label Tea (loose tea) - 450g</td>\n      <td>[B00886E4K0, B00CREXSHY, B001QTRGAQ, B002EYZM4...</td>\n      <td>Lipton</td>\n      <td>30,937 in Grocery &amp; Gourmet Food (</td>\n      <td>[B00CREXSHY, B001QTRGAQ, B000JSQK70, B002EYZM4...</td>\n      <td>Grocery</td>\n      <td>$12.46</td>\n      <td>4639725043</td>\n      <td>NaN</td>\n      <td>5.0</td>\n      <td>True</td>\n      <td>A29RCQA5G0B1BA</td>\n      <td>I like pretty much all of Lipton's tea... I ju...</td>\n      <td>A Great Cuppa...!</td>\n      <td>NaN</td>\n    </tr>\n  </tbody>\n</table>\n</div>"
     },
     "execution_count": 50,
     "metadata": {},
     "output_type": "execute_result"
    }
   ],
   "source": [
    "# This example duplicate asin shows that it is the same product info but the reviews vary\n",
    "example_duplicate = combined_df.loc[combined_df['asin'] == '4639725043']\n",
    "example_duplicate.head(3)"
   ],
   "metadata": {
    "collapsed": false,
    "pycharm": {
     "name": "#%%\n"
    }
   }
  },
  {
   "cell_type": "code",
   "execution_count": 51,
   "outputs": [
    {
     "name": "stdout",
     "output_type": "stream",
     "text": [
      "<class 'pandas.core.frame.DataFrame'>\n",
      "Int64Index: 81341 entries, 161 to 1166228\n",
      "Data columns (total 17 columns):\n",
      " #   Column       Non-Null Count  Dtype  \n",
      "---  ------       --------------  -----  \n",
      " 0   category     81341 non-null  object \n",
      " 1   description  77928 non-null  object \n",
      " 2   title        81341 non-null  object \n",
      " 3   also_buy     73661 non-null  object \n",
      " 4   brand        80949 non-null  object \n",
      " 5   rank         81341 non-null  object \n",
      " 6   also_view    70377 non-null  object \n",
      " 7   main_cat     81341 non-null  object \n",
      " 8   price        52442 non-null  object \n",
      " 9   asin         81341 non-null  object \n",
      " 10  details      81341 non-null  object \n",
      " 11  overall      81341 non-null  float64\n",
      " 12  verified     81341 non-null  bool   \n",
      " 13  reviewerID   81341 non-null  object \n",
      " 14  reviewText   81319 non-null  object \n",
      " 15  summary      81326 non-null  object \n",
      " 16  style        45079 non-null  object \n",
      "dtypes: bool(1), float64(1), object(15)\n",
      "memory usage: 10.6+ MB\n"
     ]
    }
   ],
   "source": [
    "# Check if any of the duplicates are very similar (both the product and review info).\n",
    "# This excludes columns that are lists in the comparison to avoid errors.\n",
    "compare_columns = ['title', 'asin', 'reviewerID', 'reviewText', 'summary']\n",
    "similar_duplicates = combined_df[combined_df.duplicated(compare_columns)]\n",
    "similar_duplicates.info()"
   ],
   "metadata": {
    "collapsed": false,
    "pycharm": {
     "name": "#%%\n"
    }
   }
  },
  {
   "cell_type": "code",
   "execution_count": 52,
   "outputs": [
    {
     "name": "stdout",
     "output_type": "stream",
     "text": [
      "<class 'pandas.core.frame.DataFrame'>\n",
      "RangeIndex: 1086548 entries, 0 to 1086547\n",
      "Data columns (total 17 columns):\n",
      " #   Column       Non-Null Count    Dtype  \n",
      "---  ------       --------------    -----  \n",
      " 0   category     1086548 non-null  object \n",
      " 1   description  993137 non-null   object \n",
      " 2   title        1086548 non-null  object \n",
      " 3   also_buy     929733 non-null   object \n",
      " 4   brand        1078563 non-null  object \n",
      " 5   rank         1086548 non-null  object \n",
      " 6   also_view    578911 non-null   object \n",
      " 7   main_cat     1085923 non-null  object \n",
      " 8   price        752804 non-null   object \n",
      " 9   asin         1086548 non-null  object \n",
      " 10  details      1086497 non-null  object \n",
      " 11  overall      1086548 non-null  float64\n",
      " 12  verified     1086548 non-null  bool   \n",
      " 13  reviewerID   1086548 non-null  object \n",
      " 14  reviewText   1086175 non-null  object \n",
      " 15  summary      1086343 non-null  object \n",
      " 16  style        561516 non-null   object \n",
      "dtypes: bool(1), float64(1), object(15)\n",
      "memory usage: 133.7+ MB\n"
     ]
    }
   ],
   "source": [
    "# Drop these duplicates.\n",
    "combined_df.drop_duplicates(subset=compare_columns, keep='first', inplace=True, ignore_index=True)\n",
    "combined_df.info()"
   ],
   "metadata": {
    "collapsed": false,
    "pycharm": {
     "name": "#%%\n"
    }
   }
  },
  {
   "cell_type": "code",
   "execution_count": 53,
   "outputs": [
    {
     "data": {
      "text/plain": "Empty DataFrame\nColumns: [category, description, title, also_buy, brand, rank, also_view, main_cat, price, asin, details, overall, verified, reviewerID, reviewText, summary, style]\nIndex: []",
      "text/html": "<div>\n<style scoped>\n    .dataframe tbody tr th:only-of-type {\n        vertical-align: middle;\n    }\n\n    .dataframe tbody tr th {\n        vertical-align: top;\n    }\n\n    .dataframe thead th {\n        text-align: right;\n    }\n</style>\n<table border=\"1\" class=\"dataframe\">\n  <thead>\n    <tr style=\"text-align: right;\">\n      <th></th>\n      <th>category</th>\n      <th>description</th>\n      <th>title</th>\n      <th>also_buy</th>\n      <th>brand</th>\n      <th>rank</th>\n      <th>also_view</th>\n      <th>main_cat</th>\n      <th>price</th>\n      <th>asin</th>\n      <th>details</th>\n      <th>overall</th>\n      <th>verified</th>\n      <th>reviewerID</th>\n      <th>reviewText</th>\n      <th>summary</th>\n      <th>style</th>\n    </tr>\n  </thead>\n  <tbody>\n  </tbody>\n</table>\n</div>"
     },
     "execution_count": 53,
     "metadata": {},
     "output_type": "execute_result"
    }
   ],
   "source": [
    "similar_duplicates = combined_df[combined_df.duplicated(compare_columns)]\n",
    "similar_duplicates.head()"
   ],
   "metadata": {
    "collapsed": false,
    "pycharm": {
     "name": "#%%\n"
    }
   }
  },
  {
   "cell_type": "code",
   "execution_count": 55,
   "outputs": [
    {
     "data": {
      "text/plain": "                                            category  \\\n0  [Grocery & Gourmet Food, Beverages, Coffee, Te...   \n1  [Grocery & Gourmet Food, Beverages, Coffee, Te...   \n2  [Grocery & Gourmet Food, Beverages, Coffee, Te...   \n\n                                         description  \\\n0  [Lipton Yellow Label Tea use only the finest t...   \n1  [Lipton Yellow Label Tea use only the finest t...   \n2  [Lipton Yellow Label Tea use only the finest t...   \n\n                                        title  \\\n0  Lipton Yellow Label Tea (loose tea) - 450g   \n1  Lipton Yellow Label Tea (loose tea) - 450g   \n2  Lipton Yellow Label Tea (loose tea) - 450g   \n\n                                            also_buy   brand  \\\n0  [B00886E4K0, B00CREXSHY, B001QTRGAQ, B002EYZM4...  Lipton   \n1  [B00886E4K0, B00CREXSHY, B001QTRGAQ, B002EYZM4...  Lipton   \n2  [B00886E4K0, B00CREXSHY, B001QTRGAQ, B002EYZM4...  Lipton   \n\n                                 rank  \\\n0  30,937 in Grocery & Gourmet Food (   \n1  30,937 in Grocery & Gourmet Food (   \n2  30,937 in Grocery & Gourmet Food (   \n\n                                           also_view main_cat  price  \\\n0  [B00CREXSHY, B001QTRGAQ, B000JSQK70, B002EYZM4...  Grocery  12.46   \n1  [B00CREXSHY, B001QTRGAQ, B000JSQK70, B002EYZM4...  Grocery  12.46   \n2  [B00CREXSHY, B001QTRGAQ, B000JSQK70, B002EYZM4...  Grocery  12.46   \n\n         asin details  overall  verified      reviewerID  \\\n0  4639725043     NaN      5.0      True  A1J205ZK25TZ6W   \n1  4639725043     NaN      3.0      True   ACOICLIJQYECU   \n2  4639725043     NaN      5.0      True  A29RCQA5G0B1BA   \n\n                                          reviewText  \\\n0  I make the best brewed iced tea with this yell...   \n1  I have recently started drinking hot tea again...   \n2  I like pretty much all of Lipton's tea... I ju...   \n\n                     summary style  \n0  Best for brewed iced tea.   NaN  \n1       Not Bad for iced Tea   NaN  \n2          A Great Cuppa...!   NaN  ",
      "text/html": "<div>\n<style scoped>\n    .dataframe tbody tr th:only-of-type {\n        vertical-align: middle;\n    }\n\n    .dataframe tbody tr th {\n        vertical-align: top;\n    }\n\n    .dataframe thead th {\n        text-align: right;\n    }\n</style>\n<table border=\"1\" class=\"dataframe\">\n  <thead>\n    <tr style=\"text-align: right;\">\n      <th></th>\n      <th>category</th>\n      <th>description</th>\n      <th>title</th>\n      <th>also_buy</th>\n      <th>brand</th>\n      <th>rank</th>\n      <th>also_view</th>\n      <th>main_cat</th>\n      <th>price</th>\n      <th>asin</th>\n      <th>details</th>\n      <th>overall</th>\n      <th>verified</th>\n      <th>reviewerID</th>\n      <th>reviewText</th>\n      <th>summary</th>\n      <th>style</th>\n    </tr>\n  </thead>\n  <tbody>\n    <tr>\n      <th>0</th>\n      <td>[Grocery &amp; Gourmet Food, Beverages, Coffee, Te...</td>\n      <td>[Lipton Yellow Label Tea use only the finest t...</td>\n      <td>Lipton Yellow Label Tea (loose tea) - 450g</td>\n      <td>[B00886E4K0, B00CREXSHY, B001QTRGAQ, B002EYZM4...</td>\n      <td>Lipton</td>\n      <td>30,937 in Grocery &amp; Gourmet Food (</td>\n      <td>[B00CREXSHY, B001QTRGAQ, B000JSQK70, B002EYZM4...</td>\n      <td>Grocery</td>\n      <td>12.46</td>\n      <td>4639725043</td>\n      <td>NaN</td>\n      <td>5.0</td>\n      <td>True</td>\n      <td>A1J205ZK25TZ6W</td>\n      <td>I make the best brewed iced tea with this yell...</td>\n      <td>Best for brewed iced tea.</td>\n      <td>NaN</td>\n    </tr>\n    <tr>\n      <th>1</th>\n      <td>[Grocery &amp; Gourmet Food, Beverages, Coffee, Te...</td>\n      <td>[Lipton Yellow Label Tea use only the finest t...</td>\n      <td>Lipton Yellow Label Tea (loose tea) - 450g</td>\n      <td>[B00886E4K0, B00CREXSHY, B001QTRGAQ, B002EYZM4...</td>\n      <td>Lipton</td>\n      <td>30,937 in Grocery &amp; Gourmet Food (</td>\n      <td>[B00CREXSHY, B001QTRGAQ, B000JSQK70, B002EYZM4...</td>\n      <td>Grocery</td>\n      <td>12.46</td>\n      <td>4639725043</td>\n      <td>NaN</td>\n      <td>3.0</td>\n      <td>True</td>\n      <td>ACOICLIJQYECU</td>\n      <td>I have recently started drinking hot tea again...</td>\n      <td>Not Bad for iced Tea</td>\n      <td>NaN</td>\n    </tr>\n    <tr>\n      <th>2</th>\n      <td>[Grocery &amp; Gourmet Food, Beverages, Coffee, Te...</td>\n      <td>[Lipton Yellow Label Tea use only the finest t...</td>\n      <td>Lipton Yellow Label Tea (loose tea) - 450g</td>\n      <td>[B00886E4K0, B00CREXSHY, B001QTRGAQ, B002EYZM4...</td>\n      <td>Lipton</td>\n      <td>30,937 in Grocery &amp; Gourmet Food (</td>\n      <td>[B00CREXSHY, B001QTRGAQ, B000JSQK70, B002EYZM4...</td>\n      <td>Grocery</td>\n      <td>12.46</td>\n      <td>4639725043</td>\n      <td>NaN</td>\n      <td>5.0</td>\n      <td>True</td>\n      <td>A29RCQA5G0B1BA</td>\n      <td>I like pretty much all of Lipton's tea... I ju...</td>\n      <td>A Great Cuppa...!</td>\n      <td>NaN</td>\n    </tr>\n  </tbody>\n</table>\n</div>"
     },
     "execution_count": 55,
     "metadata": {},
     "output_type": "execute_result"
    }
   ],
   "source": [
    "# Remove additional characters/formatting in price column\n",
    "combined_df['price'] = combined_df['price'].apply(lambda x: str(x).replace(',','').replace('$', '')).astype('float')\n",
    "combined_df.head(3)"
   ],
   "metadata": {
    "collapsed": false,
    "pycharm": {
     "name": "#%%\n"
    }
   }
  }
 ],
 "metadata": {
  "kernelspec": {
   "name": "pycharm-cef1f773",
   "language": "python",
   "display_name": "PyCharm (pycon2015_tutorial322)"
  },
  "language_info": {
   "codemirror_mode": {
    "name": "ipython",
    "version": 2
   },
   "file_extension": ".py",
   "mimetype": "text/x-python",
   "name": "python",
   "nbconvert_exporter": "python",
   "pygments_lexer": "ipython2",
   "version": "2.7.6"
  }
 },
 "nbformat": 4,
 "nbformat_minor": 0
}