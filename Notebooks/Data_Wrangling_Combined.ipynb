{
 "cells": [
  {
   "cell_type": "markdown",
   "metadata": {
    "collapsed": true,
    "pycharm": {
     "name": "#%% md\n"
    }
   },
   "source": [
    "# Combining and Wrangling Both Data Sets"
   ]
  },
  {
   "cell_type": "markdown",
   "source": [
    "## Imports"
   ],
   "metadata": {
    "collapsed": false
   }
  },
  {
   "cell_type": "code",
   "execution_count": 83,
   "outputs": [],
   "source": [
    "import json\n",
    "import gzip\n",
    "import pandas as pd\n",
    "import os.path\n",
    "from dotenv import load_dotenv\n",
    "import numpy as np\n",
    "\n",
    "# set some print options\n",
    "np.set_printoptions(precision=4)\n",
    "np.set_printoptions(threshold=5)\n",
    "np.set_printoptions(suppress=True)\n",
    "pd.set_option('precision', 3, 'notebook_repr_html', True, )\n",
    "\n",
    "# init random gen\n",
    "np.random.seed(2)"
   ],
   "metadata": {
    "collapsed": false,
    "pycharm": {
     "name": "#%%\n"
    }
   }
  },
  {
   "cell_type": "markdown",
   "source": [
    "## Environment Variables"
   ],
   "metadata": {
    "collapsed": false
   }
  },
  {
   "cell_type": "code",
   "execution_count": 84,
   "outputs": [],
   "source": [
    "load_dotenv()\n",
    "grocery_data_in = os.getenv('IN_DATA_FILEPATH') + os.getenv('RAW_META_FILE')\n",
    "reviews_data_in = os.getenv('IN_DATA_FILEPATH') + os.getenv('RAW_REVIEW_FILE')\n",
    "# This path is still in the markdown below because haven't found a working way to use a variable there.\n",
    "doc_filepath = os.getenv('DOCUMENTATION_FILEPATH')"
   ],
   "metadata": {
    "collapsed": false,
    "pycharm": {
     "name": "#%%\n"
    }
   }
  },
  {
   "cell_type": "markdown",
   "source": [
    "## Introduction\n",
    "Data Wrangling is the process of collecting, organizing, and determining how well-defined the data is.  \n",
    "See [Grocery Recommender - Capstone Two](../Grocery_Recommender_-_Capstone_Two.pdf) for details about this project. "
   ],
   "metadata": {
    "collapsed": false
   }
  },
  {
   "cell_type": "markdown",
   "source": [
    "## Load Data \n",
    "This public dataset is available online <sup>[1]</sup> and is not included in source/version control for space reasons.  \n",
    "After downloading the dataset add it to the file location in your .env file; see environments_example.txt."
   ],
   "metadata": {
    "collapsed": false
   }
  },
  {
   "cell_type": "markdown",
   "source": [
    "### Product Dataset"
   ],
   "metadata": {
    "collapsed": false
   }
  },
  {
   "cell_type": "code",
   "execution_count": 85,
   "outputs": [],
   "source": [
    "grocery_data = []\n",
    "with gzip.open(grocery_data_in) as f:\n",
    "    for l in f:\n",
    "        grocery_data.append(json.loads(l.strip()))"
   ],
   "metadata": {
    "collapsed": false,
    "pycharm": {
     "name": "#%%\n"
    }
   }
  },
  {
   "cell_type": "code",
   "execution_count": 86,
   "outputs": [
    {
     "name": "stdout",
     "output_type": "stream",
     "text": [
      "287051\n"
     ]
    }
   ],
   "source": [
    "# Confirm data loaded by checking total number of products.\n",
    "print(len(grocery_data))"
   ],
   "metadata": {
    "collapsed": false,
    "pycharm": {
     "name": "#%%\n"
    }
   }
  },
  {
   "cell_type": "code",
   "execution_count": 87,
   "outputs": [
    {
     "data": {
      "text/plain": "287051"
     },
     "execution_count": 87,
     "metadata": {},
     "output_type": "execute_result"
    }
   ],
   "source": [
    "# convert list into pandas dataframe\n",
    "grocery_df = pd.DataFrame.from_dict(grocery_data)\n",
    "len(grocery_df)"
   ],
   "metadata": {
    "collapsed": false,
    "pycharm": {
     "name": "#%%\n"
    }
   }
  },
  {
   "cell_type": "code",
   "execution_count": 88,
   "outputs": [
    {
     "data": {
      "text/plain": "                                            category tech1  \\\n0  [Grocery & Gourmet Food, Dairy, Cheese & Eggs,...         \n1  [Grocery & Gourmet Food, Cooking & Baking, Sug...         \n\n                                         description fit  \\\n0  [BEEMSTER GOUDA CHEESE AGED 18/24 MONTHS, Stat...       \n1  [Shipped from UK, please allow 10 to 21 busine...       \n\n                                               title  \\\n0  Beemster Gouda - Aged 18/24 Months - App. 1.5 Lbs   \n1                          Trim Healthy Mama Xylitol   \n\n                                            also_buy  \\\n0                                                 []   \n1  [B01898YHXK, B01BCM6LAC, B00Q4OL47O, B00Q4OL5Q...   \n\n                                               image tech2           brand  \\\n0                                                 []        Ariola Imports   \n1  [https://images-na.ssl-images-amazon.com/image...                         \n\n  feature                                 rank  \\\n0      []  165,181 in Grocery & Gourmet Food (   \n1      []  315,867 in Grocery & Gourmet Food (   \n\n                                           also_view main_cat similar_item  \\\n0  [B0000D9MYM, B0000D9MYL, B00ADHIGBA, B00H9OX59...  Grocery                \n1                                                 []  Grocery                \n\n  date   price        asin details  \n0       $41.91  0681727810     NaN  \n1               0853347867     NaN  ",
      "text/html": "<div>\n<style scoped>\n    .dataframe tbody tr th:only-of-type {\n        vertical-align: middle;\n    }\n\n    .dataframe tbody tr th {\n        vertical-align: top;\n    }\n\n    .dataframe thead th {\n        text-align: right;\n    }\n</style>\n<table border=\"1\" class=\"dataframe\">\n  <thead>\n    <tr style=\"text-align: right;\">\n      <th></th>\n      <th>category</th>\n      <th>tech1</th>\n      <th>description</th>\n      <th>fit</th>\n      <th>title</th>\n      <th>also_buy</th>\n      <th>image</th>\n      <th>tech2</th>\n      <th>brand</th>\n      <th>feature</th>\n      <th>rank</th>\n      <th>also_view</th>\n      <th>main_cat</th>\n      <th>similar_item</th>\n      <th>date</th>\n      <th>price</th>\n      <th>asin</th>\n      <th>details</th>\n    </tr>\n  </thead>\n  <tbody>\n    <tr>\n      <th>0</th>\n      <td>[Grocery &amp; Gourmet Food, Dairy, Cheese &amp; Eggs,...</td>\n      <td></td>\n      <td>[BEEMSTER GOUDA CHEESE AGED 18/24 MONTHS, Stat...</td>\n      <td></td>\n      <td>Beemster Gouda - Aged 18/24 Months - App. 1.5 Lbs</td>\n      <td>[]</td>\n      <td>[]</td>\n      <td></td>\n      <td>Ariola Imports</td>\n      <td>[]</td>\n      <td>165,181 in Grocery &amp; Gourmet Food (</td>\n      <td>[B0000D9MYM, B0000D9MYL, B00ADHIGBA, B00H9OX59...</td>\n      <td>Grocery</td>\n      <td></td>\n      <td></td>\n      <td>$41.91</td>\n      <td>0681727810</td>\n      <td>NaN</td>\n    </tr>\n    <tr>\n      <th>1</th>\n      <td>[Grocery &amp; Gourmet Food, Cooking &amp; Baking, Sug...</td>\n      <td></td>\n      <td>[Shipped from UK, please allow 10 to 21 busine...</td>\n      <td></td>\n      <td>Trim Healthy Mama Xylitol</td>\n      <td>[B01898YHXK, B01BCM6LAC, B00Q4OL47O, B00Q4OL5Q...</td>\n      <td>[https://images-na.ssl-images-amazon.com/image...</td>\n      <td></td>\n      <td></td>\n      <td>[]</td>\n      <td>315,867 in Grocery &amp; Gourmet Food (</td>\n      <td>[]</td>\n      <td>Grocery</td>\n      <td></td>\n      <td></td>\n      <td></td>\n      <td>0853347867</td>\n      <td>NaN</td>\n    </tr>\n  </tbody>\n</table>\n</div>"
     },
     "execution_count": 88,
     "metadata": {},
     "output_type": "execute_result"
    }
   ],
   "source": [
    "grocery_df.head(2)"
   ],
   "metadata": {
    "collapsed": false,
    "pycharm": {
     "name": "#%%\n"
    }
   }
  },
  {
   "cell_type": "markdown",
   "source": [
    "### Reviews Dataset"
   ],
   "metadata": {
    "collapsed": false,
    "pycharm": {
     "name": "#%% md\n"
    }
   }
  },
  {
   "cell_type": "code",
   "execution_count": 89,
   "outputs": [],
   "source": [
    "reviews_data = []\n",
    "with gzip.open(reviews_data_in) as f:\n",
    "    for l in f:\n",
    "        reviews_data.append(json.loads(l.strip()))"
   ],
   "metadata": {
    "collapsed": false,
    "pycharm": {
     "name": "#%%\n"
    }
   }
  },
  {
   "cell_type": "code",
   "execution_count": 90,
   "outputs": [
    {
     "name": "stdout",
     "output_type": "stream",
     "text": [
      "1143860\n"
     ]
    }
   ],
   "source": [
    "# total length equals total number of reviews\n",
    "print(len(reviews_data))"
   ],
   "metadata": {
    "collapsed": false,
    "pycharm": {
     "name": "#%%\n"
    }
   }
  },
  {
   "cell_type": "code",
   "execution_count": 91,
   "outputs": [
    {
     "data": {
      "text/plain": "1143860"
     },
     "execution_count": 91,
     "metadata": {},
     "output_type": "execute_result"
    }
   ],
   "source": [
    "# convert list into pandas dataframe\n",
    "reviews_df = pd.DataFrame.from_dict(reviews_data)\n",
    "len(reviews_df)"
   ],
   "metadata": {
    "collapsed": false,
    "pycharm": {
     "name": "#%%\n"
    }
   }
  },
  {
   "cell_type": "code",
   "execution_count": 92,
   "outputs": [
    {
     "data": {
      "text/plain": "   overall  verified   reviewTime      reviewerID        asin    reviewerName  \\\n0      5.0      True  11 19, 2014  A1QVBUH9E1V6I8  4639725183  Jamshed Mathur   \n1      5.0      True  10 13, 2016  A3GEOILWLK86XM  4639725183       itsjustme   \n\n                  reviewText         summary  unixReviewTime vote style image  \n0        No adverse comment.      Five Stars      1416355200  NaN   NaN   NaN  \n1  Gift for college student.  Great product.      1476316800  NaN   NaN   NaN  ",
      "text/html": "<div>\n<style scoped>\n    .dataframe tbody tr th:only-of-type {\n        vertical-align: middle;\n    }\n\n    .dataframe tbody tr th {\n        vertical-align: top;\n    }\n\n    .dataframe thead th {\n        text-align: right;\n    }\n</style>\n<table border=\"1\" class=\"dataframe\">\n  <thead>\n    <tr style=\"text-align: right;\">\n      <th></th>\n      <th>overall</th>\n      <th>verified</th>\n      <th>reviewTime</th>\n      <th>reviewerID</th>\n      <th>asin</th>\n      <th>reviewerName</th>\n      <th>reviewText</th>\n      <th>summary</th>\n      <th>unixReviewTime</th>\n      <th>vote</th>\n      <th>style</th>\n      <th>image</th>\n    </tr>\n  </thead>\n  <tbody>\n    <tr>\n      <th>0</th>\n      <td>5.0</td>\n      <td>True</td>\n      <td>11 19, 2014</td>\n      <td>A1QVBUH9E1V6I8</td>\n      <td>4639725183</td>\n      <td>Jamshed Mathur</td>\n      <td>No adverse comment.</td>\n      <td>Five Stars</td>\n      <td>1416355200</td>\n      <td>NaN</td>\n      <td>NaN</td>\n      <td>NaN</td>\n    </tr>\n    <tr>\n      <th>1</th>\n      <td>5.0</td>\n      <td>True</td>\n      <td>10 13, 2016</td>\n      <td>A3GEOILWLK86XM</td>\n      <td>4639725183</td>\n      <td>itsjustme</td>\n      <td>Gift for college student.</td>\n      <td>Great product.</td>\n      <td>1476316800</td>\n      <td>NaN</td>\n      <td>NaN</td>\n      <td>NaN</td>\n    </tr>\n  </tbody>\n</table>\n</div>"
     },
     "execution_count": 92,
     "metadata": {},
     "output_type": "execute_result"
    }
   ],
   "source": [
    "reviews_df.head(2)"
   ],
   "metadata": {
    "collapsed": false,
    "pycharm": {
     "name": "#%%\n"
    }
   }
  },
  {
   "cell_type": "markdown",
   "source": [
    "## Merge DataFrames"
   ],
   "metadata": {
    "collapsed": false,
    "pycharm": {
     "name": "#%% md\n"
    }
   }
  },
  {
   "cell_type": "code",
   "execution_count": 93,
   "outputs": [
    {
     "data": {
      "text/plain": "(1412977, 29)"
     },
     "execution_count": 93,
     "metadata": {},
     "output_type": "execute_result"
    }
   ],
   "source": [
    "combined_df = grocery_df.merge(reviews_df, on='asin', how='left')\n",
    "combined_df.shape"
   ],
   "metadata": {
    "collapsed": false,
    "pycharm": {
     "name": "#%%\n"
    }
   }
  },
  {
   "cell_type": "code",
   "execution_count": 94,
   "outputs": [],
   "source": [
    "# remove whitespace in column names\n",
    "combined_df.columns = combined_df.columns.str.replace(' ', '')"
   ],
   "metadata": {
    "collapsed": false,
    "pycharm": {
     "name": "#%%\n"
    }
   }
  },
  {
   "cell_type": "code",
   "execution_count": 95,
   "outputs": [
    {
     "data": {
      "text/plain": "                                            category tech1  \\\n0  [Grocery & Gourmet Food, Dairy, Cheese & Eggs,...         \n1  [Grocery & Gourmet Food, Cooking & Baking, Sug...         \n\n                                         description fit  \\\n0  [BEEMSTER GOUDA CHEESE AGED 18/24 MONTHS, Stat...       \n1  [Shipped from UK, please allow 10 to 21 busine...       \n\n                                               title  \\\n0  Beemster Gouda - Aged 18/24 Months - App. 1.5 Lbs   \n1                          Trim Healthy Mama Xylitol   \n\n                                            also_buy  \\\n0                                                 []   \n1  [B01898YHXK, B01BCM6LAC, B00Q4OL47O, B00Q4OL5Q...   \n\n                                             image_x tech2           brand  \\\n0                                                 []        Ariola Imports   \n1  [https://images-na.ssl-images-amazon.com/image...                         \n\n  feature  ... verified reviewTime reviewerID reviewerName reviewText summary  \\\n0      []  ...      NaN        NaN        NaN          NaN        NaN     NaN   \n1      []  ...      NaN        NaN        NaN          NaN        NaN     NaN   \n\n  unixReviewTime vote  style image_y  \n0            NaN  NaN    NaN     NaN  \n1            NaN  NaN    NaN     NaN  \n\n[2 rows x 29 columns]",
      "text/html": "<div>\n<style scoped>\n    .dataframe tbody tr th:only-of-type {\n        vertical-align: middle;\n    }\n\n    .dataframe tbody tr th {\n        vertical-align: top;\n    }\n\n    .dataframe thead th {\n        text-align: right;\n    }\n</style>\n<table border=\"1\" class=\"dataframe\">\n  <thead>\n    <tr style=\"text-align: right;\">\n      <th></th>\n      <th>category</th>\n      <th>tech1</th>\n      <th>description</th>\n      <th>fit</th>\n      <th>title</th>\n      <th>also_buy</th>\n      <th>image_x</th>\n      <th>tech2</th>\n      <th>brand</th>\n      <th>feature</th>\n      <th>...</th>\n      <th>verified</th>\n      <th>reviewTime</th>\n      <th>reviewerID</th>\n      <th>reviewerName</th>\n      <th>reviewText</th>\n      <th>summary</th>\n      <th>unixReviewTime</th>\n      <th>vote</th>\n      <th>style</th>\n      <th>image_y</th>\n    </tr>\n  </thead>\n  <tbody>\n    <tr>\n      <th>0</th>\n      <td>[Grocery &amp; Gourmet Food, Dairy, Cheese &amp; Eggs,...</td>\n      <td></td>\n      <td>[BEEMSTER GOUDA CHEESE AGED 18/24 MONTHS, Stat...</td>\n      <td></td>\n      <td>Beemster Gouda - Aged 18/24 Months - App. 1.5 Lbs</td>\n      <td>[]</td>\n      <td>[]</td>\n      <td></td>\n      <td>Ariola Imports</td>\n      <td>[]</td>\n      <td>...</td>\n      <td>NaN</td>\n      <td>NaN</td>\n      <td>NaN</td>\n      <td>NaN</td>\n      <td>NaN</td>\n      <td>NaN</td>\n      <td>NaN</td>\n      <td>NaN</td>\n      <td>NaN</td>\n      <td>NaN</td>\n    </tr>\n    <tr>\n      <th>1</th>\n      <td>[Grocery &amp; Gourmet Food, Cooking &amp; Baking, Sug...</td>\n      <td></td>\n      <td>[Shipped from UK, please allow 10 to 21 busine...</td>\n      <td></td>\n      <td>Trim Healthy Mama Xylitol</td>\n      <td>[B01898YHXK, B01BCM6LAC, B00Q4OL47O, B00Q4OL5Q...</td>\n      <td>[https://images-na.ssl-images-amazon.com/image...</td>\n      <td></td>\n      <td></td>\n      <td>[]</td>\n      <td>...</td>\n      <td>NaN</td>\n      <td>NaN</td>\n      <td>NaN</td>\n      <td>NaN</td>\n      <td>NaN</td>\n      <td>NaN</td>\n      <td>NaN</td>\n      <td>NaN</td>\n      <td>NaN</td>\n      <td>NaN</td>\n    </tr>\n  </tbody>\n</table>\n<p>2 rows × 29 columns</p>\n</div>"
     },
     "execution_count": 95,
     "metadata": {},
     "output_type": "execute_result"
    }
   ],
   "source": [
    "combined_df.head(2)"
   ],
   "metadata": {
    "collapsed": false,
    "pycharm": {
     "name": "#%%\n"
    }
   }
  },
  {
   "cell_type": "markdown",
   "source": [
    "## Clean Data\n",
    "See other wrangling notebooks for additional details."
   ],
   "metadata": {
    "collapsed": false,
    "pycharm": {
     "name": "#%% md\n"
    }
   }
  },
  {
   "cell_type": "code",
   "execution_count": 96,
   "outputs": [
    {
     "name": "stdout",
     "output_type": "stream",
     "text": [
      "<class 'pandas.core.frame.DataFrame'>\n",
      "Int64Index: 1412977 entries, 0 to 1412976\n",
      "Data columns (total 29 columns):\n",
      " #   Column          Non-Null Count    Dtype  \n",
      "---  ------          --------------    -----  \n",
      " 0   category        1412977 non-null  object \n",
      " 1   tech1           1412977 non-null  object \n",
      " 2   description     1412977 non-null  object \n",
      " 3   fit             1412977 non-null  object \n",
      " 4   title           1412977 non-null  object \n",
      " 5   also_buy        1412977 non-null  object \n",
      " 6   image_x         1412977 non-null  object \n",
      " 7   tech2           1412977 non-null  object \n",
      " 8   brand           1412977 non-null  object \n",
      " 9   feature         1412977 non-null  object \n",
      " 10  rank            1412977 non-null  object \n",
      " 11  also_view       1412977 non-null  object \n",
      " 12  main_cat        1412977 non-null  object \n",
      " 13  similar_item    1412977 non-null  object \n",
      " 14  date            1412977 non-null  object \n",
      " 15  price           1412977 non-null  object \n",
      " 16  asin            1412977 non-null  object \n",
      " 17  details         1412905 non-null  object \n",
      " 18  overall         1167889 non-null  float64\n",
      " 19  verified        1167889 non-null  object \n",
      " 20  reviewTime      1167889 non-null  object \n",
      " 21  reviewerID      1167889 non-null  object \n",
      " 22  reviewerName    1167748 non-null  object \n",
      " 23  reviewText      1167494 non-null  object \n",
      " 24  summary         1167669 non-null  object \n",
      " 25  unixReviewTime  1167889 non-null  float64\n",
      " 26  vote            161854 non-null   object \n",
      " 27  style           606595 non-null   object \n",
      " 28  image_y         9656 non-null     object \n",
      "dtypes: float64(2), object(27)\n",
      "memory usage: 323.4+ MB\n"
     ]
    }
   ],
   "source": [
    "combined_df.info()"
   ],
   "metadata": {
    "collapsed": false,
    "pycharm": {
     "name": "#%%\n"
    }
   }
  },
  {
   "cell_type": "code",
   "execution_count": 97,
   "outputs": [
    {
     "name": "stdout",
     "output_type": "stream",
     "text": [
      "<class 'pandas.core.frame.DataFrame'>\n",
      "Int64Index: 1412977 entries, 0 to 1412976\n",
      "Data columns (total 29 columns):\n",
      " #   Column          Non-Null Count    Dtype  \n",
      "---  ------          --------------    -----  \n",
      " 0   category        1412977 non-null  object \n",
      " 1   tech1           6693 non-null     object \n",
      " 2   description     1412977 non-null  object \n",
      " 3   fit             4 non-null        object \n",
      " 4   title           1412974 non-null  object \n",
      " 5   also_buy        1412977 non-null  object \n",
      " 6   image_x         1412977 non-null  object \n",
      " 7   tech2           0 non-null        float64\n",
      " 8   brand           1393609 non-null  object \n",
      " 9   feature         1412977 non-null  object \n",
      " 10  rank            1412977 non-null  object \n",
      " 11  also_view       1412977 non-null  object \n",
      " 12  main_cat        1411049 non-null  object \n",
      " 13  similar_item    1849 non-null     object \n",
      " 14  date            26188 non-null    object \n",
      " 15  price           935067 non-null   object \n",
      " 16  asin            1412977 non-null  object \n",
      " 17  details         1412905 non-null  object \n",
      " 18  overall         1167889 non-null  float64\n",
      " 19  verified        1015183 non-null  object \n",
      " 20  reviewTime      1167889 non-null  object \n",
      " 21  reviewerID      1167889 non-null  object \n",
      " 22  reviewerName    1167748 non-null  object \n",
      " 23  reviewText      1167494 non-null  object \n",
      " 24  summary         1167669 non-null  object \n",
      " 25  unixReviewTime  1167889 non-null  float64\n",
      " 26  vote            161854 non-null   object \n",
      " 27  style           606595 non-null   object \n",
      " 28  image_y         9656 non-null     object \n",
      "dtypes: float64(3), object(26)\n",
      "memory usage: 323.4+ MB\n"
     ]
    }
   ],
   "source": [
    "# Clean multiple missing types of values\n",
    "combined_df.replace({'': np.nan, 'NaN': np.nan, 0: np.nan}, inplace=True)\n",
    "combined_df.info()"
   ],
   "metadata": {
    "collapsed": false,
    "pycharm": {
     "name": "#%%\n"
    }
   }
  },
  {
   "cell_type": "code",
   "execution_count": 98,
   "outputs": [],
   "source": [
    "# Clean blank lists in multiple columns\n",
    "columns = ['category', 'description', 'also_buy', 'feature', 'also_view']\n",
    "for col in combined_df[columns]:\n",
    "    combined_df[col] = combined_df[col].apply(lambda i: np.nan if len(i)==0 else i)"
   ],
   "metadata": {
    "collapsed": false,
    "pycharm": {
     "name": "#%%\n"
    }
   }
  },
  {
   "cell_type": "code",
   "execution_count": 99,
   "outputs": [],
   "source": [
    "# Remove columns that don't have at least half of the data.\n",
    "drop_thresh = combined_df.shape[0] * 0.51\n",
    "combined_df = combined_df.dropna(thresh=drop_thresh, how='all', axis='columns').copy()"
   ],
   "metadata": {
    "collapsed": false,
    "pycharm": {
     "name": "#%%\n"
    }
   }
  },
  {
   "cell_type": "code",
   "execution_count": 100,
   "outputs": [
    {
     "name": "stdout",
     "output_type": "stream",
     "text": [
      "Total NaN in category is 0\n",
      "Total NaN in description is 128801\n",
      "Total NaN in title is 3\n",
      "Total NaN in also_buy is 356253\n",
      "Total NaN in image_x is 0\n",
      "Total NaN in brand is 19368\n",
      "Total NaN in rank is 0\n",
      "Total NaN in also_view is 665660\n",
      "Total NaN in main_cat is 1928\n",
      "Total NaN in price is 477910\n",
      "Total NaN in asin is 0\n",
      "Total NaN in details is 72\n",
      "Total NaN in overall is 245088\n",
      "Total NaN in verified is 397794\n",
      "Total NaN in reviewTime is 245088\n",
      "Total NaN in reviewerID is 245088\n",
      "Total NaN in reviewerName is 245229\n",
      "Total NaN in reviewText is 245483\n",
      "Total NaN in summary is 245308\n",
      "Total NaN in unixReviewTime is 245088\n"
     ]
    }
   ],
   "source": [
    "for col in combined_df.columns:\n",
    "    print(f'Total NaN in {col} is {combined_df[col].isnull().sum()}')"
   ],
   "metadata": {
    "collapsed": false,
    "pycharm": {
     "name": "#%%\n"
    }
   }
  },
  {
   "cell_type": "code",
   "execution_count": 101,
   "outputs": [
    {
     "data": {
      "text/plain": "                                            category  \\\n0  [Grocery & Gourmet Food, Dairy, Cheese & Eggs,...   \n1  [Grocery & Gourmet Food, Cooking & Baking, Sug...   \n\n                                         description  \\\n0  [BEEMSTER GOUDA CHEESE AGED 18/24 MONTHS, Stat...   \n1  [Shipped from UK, please allow 10 to 21 busine...   \n\n                                               title  \\\n0  Beemster Gouda - Aged 18/24 Months - App. 1.5 Lbs   \n1                          Trim Healthy Mama Xylitol   \n\n                                            also_buy           brand  \\\n0                                                NaN  Ariola Imports   \n1  [B01898YHXK, B01BCM6LAC, B00Q4OL47O, B00Q4OL5Q...             NaN   \n\n                                  rank  \\\n0  165,181 in Grocery & Gourmet Food (   \n1  315,867 in Grocery & Gourmet Food (   \n\n                                           also_view main_cat   price  \\\n0  [B0000D9MYM, B0000D9MYL, B00ADHIGBA, B00H9OX59...  Grocery  $41.91   \n1                                                NaN  Grocery     NaN   \n\n         asin details  overall verified reviewerID reviewText summary  \n0  0681727810     NaN      NaN      NaN        NaN        NaN     NaN  \n1  0853347867     NaN      NaN      NaN        NaN        NaN     NaN  ",
      "text/html": "<div>\n<style scoped>\n    .dataframe tbody tr th:only-of-type {\n        vertical-align: middle;\n    }\n\n    .dataframe tbody tr th {\n        vertical-align: top;\n    }\n\n    .dataframe thead th {\n        text-align: right;\n    }\n</style>\n<table border=\"1\" class=\"dataframe\">\n  <thead>\n    <tr style=\"text-align: right;\">\n      <th></th>\n      <th>category</th>\n      <th>description</th>\n      <th>title</th>\n      <th>also_buy</th>\n      <th>brand</th>\n      <th>rank</th>\n      <th>also_view</th>\n      <th>main_cat</th>\n      <th>price</th>\n      <th>asin</th>\n      <th>details</th>\n      <th>overall</th>\n      <th>verified</th>\n      <th>reviewerID</th>\n      <th>reviewText</th>\n      <th>summary</th>\n    </tr>\n  </thead>\n  <tbody>\n    <tr>\n      <th>0</th>\n      <td>[Grocery &amp; Gourmet Food, Dairy, Cheese &amp; Eggs,...</td>\n      <td>[BEEMSTER GOUDA CHEESE AGED 18/24 MONTHS, Stat...</td>\n      <td>Beemster Gouda - Aged 18/24 Months - App. 1.5 Lbs</td>\n      <td>NaN</td>\n      <td>Ariola Imports</td>\n      <td>165,181 in Grocery &amp; Gourmet Food (</td>\n      <td>[B0000D9MYM, B0000D9MYL, B00ADHIGBA, B00H9OX59...</td>\n      <td>Grocery</td>\n      <td>$41.91</td>\n      <td>0681727810</td>\n      <td>NaN</td>\n      <td>NaN</td>\n      <td>NaN</td>\n      <td>NaN</td>\n      <td>NaN</td>\n      <td>NaN</td>\n    </tr>\n    <tr>\n      <th>1</th>\n      <td>[Grocery &amp; Gourmet Food, Cooking &amp; Baking, Sug...</td>\n      <td>[Shipped from UK, please allow 10 to 21 busine...</td>\n      <td>Trim Healthy Mama Xylitol</td>\n      <td>[B01898YHXK, B01BCM6LAC, B00Q4OL47O, B00Q4OL5Q...</td>\n      <td>NaN</td>\n      <td>315,867 in Grocery &amp; Gourmet Food (</td>\n      <td>NaN</td>\n      <td>Grocery</td>\n      <td>NaN</td>\n      <td>0853347867</td>\n      <td>NaN</td>\n      <td>NaN</td>\n      <td>NaN</td>\n      <td>NaN</td>\n      <td>NaN</td>\n      <td>NaN</td>\n    </tr>\n  </tbody>\n</table>\n</div>"
     },
     "execution_count": 101,
     "metadata": {},
     "output_type": "execute_result"
    }
   ],
   "source": [
    "# Drop several columns\n",
    "# image_x link because this project won't analyze images.\n",
    "# reviewTime and unixReviewTime because this project won't do time series analysis.\n",
    "# reviewerName for privacy considerations\n",
    "combined_df.drop(columns=['image_x', 'reviewTime', 'unixReviewTime', 'reviewerName'], inplace=True)\n",
    "combined_df.head(2)\n"
   ],
   "metadata": {
    "collapsed": false,
    "pycharm": {
     "name": "#%%\n"
    }
   }
  },
  {
   "cell_type": "code",
   "execution_count": 102,
   "outputs": [
    {
     "name": "stdout",
     "output_type": "stream",
     "text": [
      "<class 'pandas.core.frame.DataFrame'>\n",
      "Int64Index: 1412977 entries, 0 to 1412976\n",
      "Data columns (total 16 columns):\n",
      " #   Column       Non-Null Count    Dtype  \n",
      "---  ------       --------------    -----  \n",
      " 0   category     1412977 non-null  object \n",
      " 1   description  1284176 non-null  object \n",
      " 2   title        1412974 non-null  object \n",
      " 3   also_buy     1056724 non-null  object \n",
      " 4   brand        1393609 non-null  object \n",
      " 5   rank         1412977 non-null  object \n",
      " 6   also_view    747317 non-null   object \n",
      " 7   main_cat     1411049 non-null  object \n",
      " 8   price        935067 non-null   object \n",
      " 9   asin         1412977 non-null  object \n",
      " 10  details      1412905 non-null  object \n",
      " 11  overall      1167889 non-null  float64\n",
      " 12  verified     1015183 non-null  object \n",
      " 13  reviewerID   1167889 non-null  object \n",
      " 14  reviewText   1167494 non-null  object \n",
      " 15  summary      1167669 non-null  object \n",
      "dtypes: float64(1), object(15)\n",
      "memory usage: 183.3+ MB\n"
     ]
    }
   ],
   "source": [
    "combined_df.info()"
   ],
   "metadata": {
    "collapsed": false,
    "pycharm": {
     "name": "#%%\n"
    }
   }
  },
  {
   "cell_type": "code",
   "execution_count": 102,
   "outputs": [],
   "source": [],
   "metadata": {
    "collapsed": false,
    "pycharm": {
     "name": "#%%\n"
    }
   }
  }
 ],
 "metadata": {
  "kernelspec": {
   "name": "pycharm-cef1f773",
   "language": "python",
   "display_name": "PyCharm (pycon2015_tutorial322)"
  },
  "language_info": {
   "codemirror_mode": {
    "name": "ipython",
    "version": 2
   },
   "file_extension": ".py",
   "mimetype": "text/x-python",
   "name": "python",
   "nbconvert_exporter": "python",
   "pygments_lexer": "ipython2",
   "version": "2.7.6"
  }
 },
 "nbformat": 4,
 "nbformat_minor": 0
}