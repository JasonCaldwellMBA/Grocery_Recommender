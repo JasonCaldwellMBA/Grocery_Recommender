{
 "cells": [
  {
   "cell_type": "markdown",
   "metadata": {
    "collapsed": true,
    "pycharm": {
     "name": "#%% md\n"
    }
   },
   "source": [
    "## Imports"
   ]
  },
  {
   "cell_type": "code",
   "execution_count": 30,
   "outputs": [],
   "source": [
    "import pandas as pd\n",
    "import numpy as np\n",
    "import matplotlib.pyplot as plt\n",
    "import seaborn as sns"
   ],
   "metadata": {
    "collapsed": false,
    "pycharm": {
     "name": "#%%\n"
    }
   }
  },
  {
   "cell_type": "markdown",
   "source": [
    "## Data Summary"
   ],
   "metadata": {
    "collapsed": false,
    "pycharm": {
     "name": "#%% md\n"
    }
   }
  },
  {
   "cell_type": "code",
   "execution_count": 31,
   "outputs": [],
   "source": [
    "df = pd.read_csv('../Data/combined_data_cleaned.csv')"
   ],
   "metadata": {
    "collapsed": false,
    "pycharm": {
     "name": "#%%\n"
    }
   }
  },
  {
   "cell_type": "code",
   "execution_count": 32,
   "outputs": [
    {
     "data": {
      "text/plain": "                                            category  \\\n0  ['Grocery & Gourmet Food', 'Beverages', 'Coffe...   \n1  ['Grocery & Gourmet Food', 'Beverages', 'Coffe...   \n\n                                         description  \\\n0  ['Lipton Yellow Label Tea use only the finest ...   \n1  ['Lipton Yellow Label Tea use only the finest ...   \n\n                                        title  \\\n0  Lipton Yellow Label Tea (loose tea) - 450g   \n1  Lipton Yellow Label Tea (loose tea) - 450g   \n\n                                            also_buy   brand  \\\n0  ['B00886E4K0', 'B00CREXSHY', 'B001QTRGAQ', 'B0...  Lipton   \n1  ['B00886E4K0', 'B00CREXSHY', 'B001QTRGAQ', 'B0...  Lipton   \n\n                                 rank main_cat        asin details  overall  \\\n0  30,937 in Grocery & Gourmet Food (  Grocery  4639725043     NaN      5.0   \n1  30,937 in Grocery & Gourmet Food (  Grocery  4639725043     NaN      3.0   \n\n   verified      reviewerID  \\\n0      True  A1J205ZK25TZ6W   \n1      True   ACOICLIJQYECU   \n\n                                          reviewText  \\\n0  I make the best brewed iced tea with this yell...   \n1  I have recently started drinking hot tea again...   \n\n                     summary  \n0  Best for brewed iced tea.  \n1       Not Bad for iced Tea  ",
      "text/html": "<div>\n<style scoped>\n    .dataframe tbody tr th:only-of-type {\n        vertical-align: middle;\n    }\n\n    .dataframe tbody tr th {\n        vertical-align: top;\n    }\n\n    .dataframe thead th {\n        text-align: right;\n    }\n</style>\n<table border=\"1\" class=\"dataframe\">\n  <thead>\n    <tr style=\"text-align: right;\">\n      <th></th>\n      <th>category</th>\n      <th>description</th>\n      <th>title</th>\n      <th>also_buy</th>\n      <th>brand</th>\n      <th>rank</th>\n      <th>main_cat</th>\n      <th>asin</th>\n      <th>details</th>\n      <th>overall</th>\n      <th>verified</th>\n      <th>reviewerID</th>\n      <th>reviewText</th>\n      <th>summary</th>\n    </tr>\n  </thead>\n  <tbody>\n    <tr>\n      <th>0</th>\n      <td>['Grocery &amp; Gourmet Food', 'Beverages', 'Coffe...</td>\n      <td>['Lipton Yellow Label Tea use only the finest ...</td>\n      <td>Lipton Yellow Label Tea (loose tea) - 450g</td>\n      <td>['B00886E4K0', 'B00CREXSHY', 'B001QTRGAQ', 'B0...</td>\n      <td>Lipton</td>\n      <td>30,937 in Grocery &amp; Gourmet Food (</td>\n      <td>Grocery</td>\n      <td>4639725043</td>\n      <td>NaN</td>\n      <td>5.0</td>\n      <td>True</td>\n      <td>A1J205ZK25TZ6W</td>\n      <td>I make the best brewed iced tea with this yell...</td>\n      <td>Best for brewed iced tea.</td>\n    </tr>\n    <tr>\n      <th>1</th>\n      <td>['Grocery &amp; Gourmet Food', 'Beverages', 'Coffe...</td>\n      <td>['Lipton Yellow Label Tea use only the finest ...</td>\n      <td>Lipton Yellow Label Tea (loose tea) - 450g</td>\n      <td>['B00886E4K0', 'B00CREXSHY', 'B001QTRGAQ', 'B0...</td>\n      <td>Lipton</td>\n      <td>30,937 in Grocery &amp; Gourmet Food (</td>\n      <td>Grocery</td>\n      <td>4639725043</td>\n      <td>NaN</td>\n      <td>3.0</td>\n      <td>True</td>\n      <td>ACOICLIJQYECU</td>\n      <td>I have recently started drinking hot tea again...</td>\n      <td>Not Bad for iced Tea</td>\n    </tr>\n  </tbody>\n</table>\n</div>"
     },
     "execution_count": 32,
     "metadata": {},
     "output_type": "execute_result"
    }
   ],
   "source": [
    "df.head(2)"
   ],
   "metadata": {
    "collapsed": false,
    "pycharm": {
     "name": "#%%\n"
    }
   }
  },
  {
   "cell_type": "code",
   "execution_count": 33,
   "outputs": [
    {
     "name": "stdout",
     "output_type": "stream",
     "text": [
      "<class 'pandas.core.frame.DataFrame'>\n",
      "RangeIndex: 1086548 entries, 0 to 1086547\n",
      "Data columns (total 14 columns):\n",
      " #   Column       Non-Null Count    Dtype  \n",
      "---  ------       --------------    -----  \n",
      " 0   category     1086548 non-null  object \n",
      " 1   description  993137 non-null   object \n",
      " 2   title        1086548 non-null  object \n",
      " 3   also_buy     929733 non-null   object \n",
      " 4   brand        1078563 non-null  object \n",
      " 5   rank         1042485 non-null  object \n",
      " 6   main_cat     1085923 non-null  object \n",
      " 7   asin         1086548 non-null  object \n",
      " 8   details      1086497 non-null  object \n",
      " 9   overall      1086548 non-null  float64\n",
      " 10  verified     1086548 non-null  bool   \n",
      " 11  reviewerID   1086548 non-null  object \n",
      " 12  reviewText   1086175 non-null  object \n",
      " 13  summary      1086335 non-null  object \n",
      "dtypes: bool(1), float64(1), object(12)\n",
      "memory usage: 108.8+ MB\n"
     ]
    }
   ],
   "source": [
    "df.info()"
   ],
   "metadata": {
    "collapsed": false,
    "pycharm": {
     "name": "#%%\n"
    }
   }
  },
  {
   "cell_type": "markdown",
   "source": [
    "### Explore Data"
   ],
   "metadata": {
    "collapsed": false,
    "pycharm": {
     "name": "#%% md\n"
    }
   }
  },
  {
   "cell_type": "markdown",
   "source": [
    "#### Numeric Data"
   ],
   "metadata": {
    "collapsed": false,
    "pycharm": {
     "name": "#%% md\n"
    }
   }
  },
  {
   "cell_type": "code",
   "execution_count": 34,
   "outputs": [
    {
     "data": {
      "text/plain": "count    1.086548e+06\nmean     4.439878e+00\nstd      1.065040e+00\nmin      1.000000e+00\n25%      4.000000e+00\n50%      5.000000e+00\n75%      5.000000e+00\nmax      5.000000e+00\nName: overall, dtype: float64"
     },
     "execution_count": 34,
     "metadata": {},
     "output_type": "execute_result"
    }
   ],
   "source": [
    "# Only one of the features is numeric\n",
    "df.overall.describe()"
   ],
   "metadata": {
    "collapsed": false,
    "pycharm": {
     "name": "#%%\n"
    }
   }
  },
  {
   "cell_type": "code",
   "execution_count": 35,
   "outputs": [
    {
     "data": {
      "text/plain": "<Figure size 432x288 with 1 Axes>",
      "image/png": "[encoded data removed]"
     },
     "metadata": {
      "needs_background": "light"
     },
     "output_type": "display_data"
    }
   ],
   "source": [
    "labels, counts = np.unique(df.overall, return_counts=True)\n",
    "plt.bar(labels, counts, align='center')\n",
    "plt.xlabel('Rating')\n",
    "plt.ylabel('Count')\n",
    "plt.show()"
   ],
   "metadata": {
    "collapsed": false,
    "pycharm": {
     "name": "#%%\n"
    }
   }
  },
  {
   "cell_type": "markdown",
   "source": [
    "The data is heavily skewed towards 5-star reviews."
   ],
   "metadata": {
    "collapsed": false,
    "pycharm": {
     "name": "#%% md\n"
    }
   }
  },
  {
   "cell_type": "markdown",
   "source": [
    "#### Boolean Data"
   ],
   "metadata": {
    "collapsed": false
   }
  },
  {
   "cell_type": "code",
   "execution_count": 36,
   "outputs": [
    {
     "data": {
      "text/plain": "<Figure size 432x288 with 1 Axes>",
      "image/png": "[encoded data removed]"
     },
     "metadata": {
      "needs_background": "light"
     },
     "output_type": "display_data"
    }
   ],
   "source": [
    "labels, counts = np.unique(df.verified, return_counts=True)\n",
    "plt.bar(labels, counts, align='center')\n",
    "plt.xticks([0, 1])\n",
    "plt.xlabel('Rating')\n",
    "plt.ylabel('Count')\n",
    "plt.show()"
   ],
   "metadata": {
    "collapsed": false,
    "pycharm": {
     "name": "#%%\n"
    }
   }
  },
  {
   "cell_type": "code",
   "execution_count": 37,
   "outputs": [
    {
     "data": {
      "text/plain": "<AxesSubplot:>"
     },
     "execution_count": 37,
     "metadata": {},
     "output_type": "execute_result"
    },
    {
     "data": {
      "text/plain": "<Figure size 864x720 with 2 Axes>",
      "image/png": "[encoded data removed]"
     },
     "metadata": {
      "needs_background": "light"
     },
     "output_type": "display_data"
    }
   ],
   "source": [
    "plt.subplots(figsize=(12, 10))\n",
    "sns.heatmap(df.corr())"
   ],
   "metadata": {
    "collapsed": false,
    "pycharm": {
     "name": "#%%\n"
    }
   }
  },
  {
   "cell_type": "markdown",
   "source": [
    "#### Analyze Categories/Objects"
   ],
   "metadata": {
    "collapsed": false,
    "pycharm": {
     "name": "#%% md\n"
    }
   }
  },
  {
   "cell_type": "code",
   "execution_count": 38,
   "outputs": [
    {
     "data": {
      "text/plain": "       Features  Number of Categories\n0      category                  1107\n1   description                 36532\n2         title                 40969\n3      also_buy                 29115\n4         brand                  8861\n5          rank                 36865\n6      main_cat                    19\n7          asin                 41280\n8       details                 40178\n9    reviewerID                127496\n10   reviewText                888161\n11      summary                526687",
      "text/html": "<div>\n<style scoped>\n    .dataframe tbody tr th:only-of-type {\n        vertical-align: middle;\n    }\n\n    .dataframe tbody tr th {\n        vertical-align: top;\n    }\n\n    .dataframe thead th {\n        text-align: right;\n    }\n</style>\n<table border=\"1\" class=\"dataframe\">\n  <thead>\n    <tr style=\"text-align: right;\">\n      <th></th>\n      <th>Features</th>\n      <th>Number of Categories</th>\n    </tr>\n  </thead>\n  <tbody>\n    <tr>\n      <th>0</th>\n      <td>category</td>\n      <td>1107</td>\n    </tr>\n    <tr>\n      <th>1</th>\n      <td>description</td>\n      <td>36532</td>\n    </tr>\n    <tr>\n      <th>2</th>\n      <td>title</td>\n      <td>40969</td>\n    </tr>\n    <tr>\n      <th>3</th>\n      <td>also_buy</td>\n      <td>29115</td>\n    </tr>\n    <tr>\n      <th>4</th>\n      <td>brand</td>\n      <td>8861</td>\n    </tr>\n    <tr>\n      <th>5</th>\n      <td>rank</td>\n      <td>36865</td>\n    </tr>\n    <tr>\n      <th>6</th>\n      <td>main_cat</td>\n      <td>19</td>\n    </tr>\n    <tr>\n      <th>7</th>\n      <td>asin</td>\n      <td>41280</td>\n    </tr>\n    <tr>\n      <th>8</th>\n      <td>details</td>\n      <td>40178</td>\n    </tr>\n    <tr>\n      <th>9</th>\n      <td>reviewerID</td>\n      <td>127496</td>\n    </tr>\n    <tr>\n      <th>10</th>\n      <td>reviewText</td>\n      <td>888161</td>\n    </tr>\n    <tr>\n      <th>11</th>\n      <td>summary</td>\n      <td>526687</td>\n    </tr>\n  </tbody>\n</table>\n</div>"
     },
     "execution_count": 38,
     "metadata": {},
     "output_type": "execute_result"
    }
   ],
   "source": [
    "df_objects = df.select_dtypes(include='object')\n",
    "dfo_unique = pd.DataFrame(df_objects.nunique()).reset_index()\n",
    "dfo_unique.columns = ['Features', 'Number of Categories']\n",
    "dfo_unique.sort_values(by='Number of Categories', ascending=False)\n",
    "dfo_unique"
   ],
   "metadata": {
    "collapsed": false,
    "pycharm": {
     "name": "#%%\n"
    }
   }
  },
  {
   "cell_type": "markdown",
   "source": [
    "Except for the main_cat, there are too many unique categories for several traditional types of exploratory data analysis to be helpful.\n",
    "For example, one hot encoding using pd.get_dummies(df) runs into memory errors even when the biggest features are dropped from the analysis.\n",
    "Therefore, in later notebooks will use options created specifically for recommendation systems. "
   ],
   "metadata": {
    "collapsed": false,
    "pycharm": {
     "name": "#%% md\n"
    }
   }
  },
  {
   "cell_type": "code",
   "execution_count": 39,
   "outputs": [
    {
     "name": "stdout",
     "output_type": "stream",
     "text": [
      "Most common category:\n",
      "['Grocery & Gourmet Food', 'Beverages', 'Coffee, Tea & Cocoa', 'Coffee', 'Single-Serve Capsules & Pods']    72518\n",
      "['Grocery & Gourmet Food', 'Beverages', 'Coffee, Tea & Cocoa', 'Tea', 'Green']                              23105\n",
      "['Grocery & Gourmet Food', 'Snack Foods', 'Bars', 'Nut Bars']                                               20554\n",
      "Name: category, dtype: int64\n",
      "\n",
      "Most common description:\n",
      "['These bars are where our journey started and it was simple: whole ingredients like nuts, mixed with fruits and spices bound together with honey.', 'Allergen information: contains peanuts, tree nuts and dairy.<br>May contain nut shell fragments. . This product is labelled to United States standards and may differ from similar products sold elsewhere in its ingredients, labeling and allergen warnings', 'Mixed Nuts (Almonds, Peanuts, Walnuts), Chicory Root Fiber, Honey, Palm Kernel Oil, Sugar, Crisp Rice, Cocoa Powder, Non GMO Glucose, Sea Salt, Soy Lecithin, Milk Powder, Vanilla Extract.', 'Store in a cool dry place.', \"PLEASE NOTE: Product image is representative of the product offered but may not have the exact attributes. Please read product description for the specific attributes of this product. The information above is intended for reference only. While we attempt to keep our information accurate, we cannot guarantee it is an accurate representation of the latest formulation of the product. If you have any concerns, please visit the vendor's web site. The information above are the views of the product's manufacturer. These statements have not been evaluated by the Food and Drug Administration. This product is not intended to diagnose, treat, cure or prevent any disease. ***Due to temperature conditions in the Summer, this product may melt during the shipping process***.\", 'Statements regarding dietary supplements have not been evaluated by the FDA and are not intended to diagnose, treat, cure, or prevent any disease or health condition.']    9892\n",
      "['These bars are where our journey started and it was simple: whole ingredients like nuts, mixed with fruits and spices bound together with honey.', 'Allergen information:<br>Contains peanuts and tree nuts.<br>May contain nut shell fragments.', 'Mixed Nuts (Almonds, Peanuts, Cashews, Walnuts), Honey, Non GMO Glucose, Chicory Root Fiber, Crisp Rice, Madagascar Vanilla, Soy Lecithin.', 'Store in a cool dry place.', \"PLEASE NOTE: Product image is representative of the product offered but may not have the exact attributes. Please read product description for the specific attributes of this product. The information above is intended for reference only. While we attempt to keep our information accurate, we cannot guarantee it is an accurate representation of the latest formulation of the product. If you have any concerns, please visit the vendor's web site. The information above are the views of the product's manufacturer. These statements have not been evaluated by the Food and Drug Administration. This product is not intended to diagnose, treat, cure or prevent any disease. ***Due to temperature conditions in the Summer, this product may melt during the shipping process***.\", 'Statements regarding dietary supplements have not been evaluated by the FDA and are not intended to diagnose, treat, cure, or prevent any disease or health condition.']                                                                                                                                                                                                                      6142\n",
      "['These bars are where our journey started and it was simple: whole ingredients like nuts, mixed with fruits and spices bound together with honey.', 'Allergen information: contains peanuts, tree nuts and dairy.<br>May contain nut shell fragments. . This product is labelled to United States standards and may differ from similar products sold elsewhere in its ingredients, labeling and allergen warnings', 'Mixed Nuts (Almonds, Peanuts, Cashews), Chicory Root Fiber, Palm Kernel Oil, Sugar, Honey, Non GMO Glucose, Crisp Rice, Cocoa Powder, Sea Salt, Cascabel Chili, Ancho Chili, Soy Lecithin, Cinnamon, Whole Milk, Vanilla Extract, Habanero Chili.', 'Store in a cool dry place.', 'Contains tree nuts. May contain nut shell fragments.', 'Statements regarding dietary supplements have not been evaluated by the FDA and are not intended to diagnose, treat, cure, or prevent any disease or health condition.']                                                                                                                                                                                                                                                                                                                                                                                                                                                                                                                                                                                                                                                                                            6135\n",
      "Name: description, dtype: int64\n",
      "\n",
      "Most common title:\n",
      "KIND Bars, Dark Chocolate Nuts &amp; Sea Salt, Gluten Free, 1.4 Ounce Bars, 12 Count    9907\n",
      " Grocery &amp; Gourmet Food\" />                                                         7634\n",
      "Kind Bars, Madagascar Vanilla Almond, Gluten Free, Low Sugar, 1.4oz                     6142\n",
      "Name: title, dtype: int64\n",
      "\n",
      "Most common also_buy:\n",
      "['B003TNANSO', 'B003TMZQC8', 'B00IZF0LCE', 'B003TN6FSG', 'B007PE7AV6', 'B00FBCZCWS', 'B00IZF0P98', 'B019EGM8G4', 'B00D3M2QP4', 'B019EGM90O', 'B00DILEFNQ', 'B003TN8JGC', 'B00HF7W2JS', 'B078GK557L', 'B00JA9LDH6', 'B0748DHRYG', 'B000ENUC3S', 'B003P7ZMXA', 'B0012JNRKS', 'B079VP6DH5', 'B0054RPY7I', 'B0777WX969', 'B008GVJ9S4', 'B01F5EQRFC', 'B003ZMXYMG', 'B01GQ5GQEG', 'B003V5V5J6', 'B004M15U12', 'B07CB5X7RF', 'B00XABKAJM', 'B006BHRV1W', 'B0000CEO82', 'B014ABUQVC', 'B01M1G8EIY', 'B07GPKK9X6', 'B00D8VGDA4', 'B00XA0DP86', 'B06ZZQF5H6', 'B00HFC2E82', 'B07DJ16CD6', 'B001QCUKII', 'B006GKKO4A', 'B015W2CGH0', 'B007ED2FOA', 'B00CWYM3OI', 'B007JM00K2', 'B0089PYS74', 'B06XX33G82', 'B07BFPZ655', 'B01NCJSM2T', 'B072MZLXYZ', 'B01MG65NK5', 'B01LTHKYZ8', 'B0798DVT68', 'B00HSC9F2C', 'B00HKLK3X6', 'B00IHVHM4Q', 'B001CTO0YA', 'B00PLUIR2C', 'B003ZXEBOK', 'B07DKM3PJ6', 'B00FN6G3HA', 'B0032ZB03G', 'B00F6MFXCW', 'B0020VJTDG', 'B000EQYSLC', 'B00R8FQV6W', 'B00503DP0O', 'B07B4MQP18', 'B008RWUKXK', 'B01LFFGW5K', 'B01H3W4AM6', 'B073QMN75M', 'B01KQLULJW', 'B001M20XA2', 'B01M2X7EPZ', 'B001N2K068', 'B07H53Y3LL', 'B00ASBOP9S', 'B00C9SOB1K', 'B07144RV37', 'B01MZ3HE0A', 'B00Q70RCW6', 'B077K4CVJ7', 'B07C5WH4WN', 'B003P7XXPE', 'B00PDN097S', 'B00O1XAOCQ', 'B01LTHYW9W', 'B00I0DI0Z6', 'B0054LHI5A', 'B01F0FC8I6', 'B004CQWWKY', 'B074CRK54X', 'B005HG9ESG']                                7255\n",
      "['B007PE7ANY', 'B00FBCZCWS', 'B003TMZQC8', 'B003TNANSO', 'B00IZF0P98', 'B007PE7AV6', 'B003TN8JGC', 'B019EGM8G4', 'B019EGM90O', 'B00HF7W2JS', 'B003TN6FSG', 'B01M1G8EIY', 'B00JA9LDH6', 'B00D3M2QP4', 'B0777WX969', 'B00DILEFNQ', 'B000ENUC3S', 'B019EGM3EG', 'B078GYVKHR', 'B01J59BJQU', 'B00XABKAJM', 'B003P7ZMXA', 'B014ABUQVC', 'B008GVJ9S4', 'B008RWUKXK', 'B003V5V5J6', 'B0012JNRKS', 'B005HB19KW', 'B07CVZ3FZ6', 'B001QCUKII', 'B0032ZB03G', 'B00FN6G3HA', 'B00DLDH1N2', 'B000EQYSLC', 'B0061WGN98', 'B006GKKO4A', 'B079VP6DH5', 'B01LYOQ59D', 'B0089PYS74', 'B0042DIZIU', 'B01MRXE2YY', 'B00HFC2E82', 'B0079N2TGY', 'B00V4KWGEI', 'B0054RPY7I', 'B001HTIYDI', 'B00J2CJLPC', 'B015VPYWG6', 'B00E1XPY3A', 'B0792LF5DZ', 'B00FYR5HS4', 'B00D8VGDA4', 'B008BLESLM', 'B0000CEO82', 'B001CTO0YA', 'B00CWYM3OI', 'B004M15U12', 'B07B9F232M', 'B0143NQW2E', 'B073SWCZ62', 'B07CVXRYBK', 'B006JV8F8S', 'B00HSC9F2C', 'B0015068PA', 'B002XULC5W', 'B003ZMXYMG', 'B00I0DI0Z6', 'B07BWCT6YG', 'B076H6F974', 'B07B4MQP18', 'B072YR7FB3', 'B074N9Y8P9', 'B077K4CVJ7', 'B00B9GUZP4', 'B000FOIYS6', 'B000EMQF58', 'B007SNJDXM', 'B07MGPD9PJ', 'B00RTK51H6', 'B07BFPZ655', 'B00P25M858', 'B017EHDLTS', 'B0792TG324', 'B01LFFGW5K', 'B00QF27JL0', 'B01N286FM9', 'B000LKZ9Q4', 'B0785P5MP5', 'B00F6MFXCW', 'B01NCJSM2T', 'B003ZXEBOK', 'B00R0OCAMU', 'B00C37SX70', 'B001FWXSBU', 'B019C9NZCE']                                6142\n",
      "['B00JA9LDH6', 'B007PE7ANY', 'B007PE7AV6', 'B00IZF0P98', 'B00IZF0LCE', 'B003TMZQC8', 'B019EGM8G4', 'B003TNANSO', 'B00FBCZCWS', 'B019EGM90O', 'B003TN6FSG', 'B003TN8JGC', 'B001D0DMME', 'B01M1G8EIY', 'B00HF7W2JS', 'B07BFPZ655', 'B01F5EQRFC', 'B0039KES42', 'B00DILEFNQ', 'B000ENUC3S', 'B008RWUK6W', 'B078GK557L', 'B0777W3R15', 'B073SWCZ62', 'B007D6DVPA', 'B019EGM44U', 'B00DILCU92', 'B00DJQ0Y5S', 'B0074CDYI2', 'B01K0F3XLW', 'B0000CEO85', 'B008RWUKXK', 'B0061WGN98', 'B003ZMXYMG', 'B01N5YBLPL', 'B00028PPP0', 'B014MO02CA', 'B01N78WFQJ', 'B003GAJPJI', 'B0054RPY7I', 'B078S8DDZH', 'B01BMSBYVC', 'B003V5V5J6', 'B000EQYSLC', 'B0037QGLBG', 'B00E1XPYB2', 'B00GDIMCPY', 'B00D8VGD0E', 'B0741GFQHJ', 'B00XA0DP86', 'B076HSFXV4', 'B01F1NWEGI', 'B007ED2FOA', 'B004G5RHEM', 'B01FHG3R9M', 'B00CJEDDJ0', 'B072JWK8KD', 'B0020VJTDG', 'B07CB5X7RF', 'B003P7ZMXA', 'B06XX33G82', '1481477838', 'B0017SZTR8', 'B001QCUKII', 'B008GVJ9S4', 'B07GPKK9X6', 'B00FYR5HS4', 'B0012JNRKS', 'B072MZLXYZ', 'B074SLRQLV', 'B00ZK6KSS8', 'B000Q5XO4S', 'B004UA4PYS', 'B00HSC9F2C', 'B0079N94TY', 'B06XDJL7WB', 'B0019412IK', 'B003MWBFMK', 'B009RNYJGM', 'B01B5KAAUS', 'B01MDV3285', 'B003XDVERE', 'B00VB1XXS8', 'B0001EQN88', 'B001N2K068', 'B075WC3LZG', 'B000CQ01GU', 'B07C91K5GJ', 'B00JUJ1E0W', 'B0043P0GRA', 'B00PVS5PCE', 'B01NBOEODU', 'B00NJNJ6VE', 'B002CBXR46', 'B019CAC1O6', 'B000WLA73C', 'B01GFEQP2Q']    6135\n",
      "Name: also_buy, dtype: int64\n",
      "\n",
      "Most common brand:\n",
      "KIND              29781\n",
      "Bob's Red Mill    16685\n",
      "Planters          13570\n",
      "Name: brand, dtype: int64\n",
      "\n",
      "Most common rank:\n",
      "18 in Grocery & Gourmet Food (       9892\n",
      "2,949 in Grocery & Gourmet Food (    6142\n",
      "4,575 in Grocery & Gourmet Food (    6135\n",
      "Name: rank, dtype: int64\n",
      "\n",
      "Most common main_cat:\n",
      "Grocery                   1030071\n",
      "Health & Personal Care      40184\n",
      "Amazon Home                  8811\n",
      "Name: main_cat, dtype: int64\n",
      "\n",
      "Most common asin:\n",
      "B00BUKL666    7255\n",
      "B008QMX2SG    6142\n",
      "B00D3M2QP4    6135\n",
      "Name: asin, dtype: int64\n",
      "\n",
      "Most common details:\n",
      "{}                                                                                                                                                                                                                                                                                                                                                                                                                                                                                                                                                                    23787\n",
      "{'\\n    Product Dimensions: \\n    ': '6.8 x 6.1 x 2.3 inches ; 1.05 pounds', 'Shipping Weight:': '1.2 pounds (', 'Domestic Shipping: ': 'Currently, item can be shipped only within the U.S. and to APO/FPO addresses. For APO/FPO shipments, please check with the manufacturer regarding warranty and support issues.', 'International Shipping: ': 'This item can be shipped to select countries outside of the U.S.', 'ASIN: ': 'B007PE7ANY', 'UPC:': '602652177514', 'Item model number:': '17851'}                                                               9892\n",
      "{'\\n    Product Dimensions: \\n    ': '2 x 4 x 6 inches ; 1 pounds', 'Shipping Weight:': '1.2 pounds (', 'Domestic Shipping: ': 'Currently, item can be shipped only within the U.S. and to APO/FPO addresses. For APO/FPO shipments, please check with the manufacturer regarding warranty and support issues.', 'International Shipping: ': 'This item is not eligible for international shipping.', 'ASIN: ': 'B007PE7AUW', 'UPC:': '885721331509 030684321337 885376772511 021959120434 641438072483 640206711630 602652177507', 'Item model number:': '17850'}     6142\n",
      "Name: details, dtype: int64\n",
      "\n",
      "Most common reviewerID:\n",
      "A1LACH6MLQWZ      540\n",
      "A2GJX2KCUSR0EI    405\n",
      "A1GQAKL9CGQLP1    398\n",
      "Name: reviewerID, dtype: int64\n",
      "\n",
      "Most common reviewText:\n",
      "good     3996\n",
      "great    3241\n",
      "Great    2595\n",
      "Name: reviewText, dtype: int64\n",
      "\n",
      "Most common summary:\n",
      "Five Stars     219426\n",
      "Four Stars      34231\n",
      "Three Stars     15439\n",
      "Name: summary, dtype: int64\n",
      "\n"
     ]
    }
   ],
   "source": [
    "for col in df_objects.columns:\n",
    "    counts = df[col].value_counts()\n",
    "    print(f'Most common {col}:\\n{counts.head(3)}\\n')"
   ],
   "metadata": {
    "collapsed": false,
    "pycharm": {
     "name": "#%%\n"
    }
   }
  },
  {
   "cell_type": "markdown",
   "source": [
    "The most common details feature is empty.\n",
    "Earlier, when cleaning the data there were checks for empty lists; however, not for empty dictionaries.\n",
    "However, after further analysis the details feature is still useful because there are more than a million rows and only about 24k are empty."
   ],
   "metadata": {
    "collapsed": false,
    "pycharm": {
     "name": "#%% md\n"
    }
   }
  },
  {
   "cell_type": "markdown",
   "source": [
    "## Save Data"
   ],
   "metadata": {
    "collapsed": false
   }
  },
  {
   "cell_type": "code",
   "execution_count": 40,
   "outputs": [],
   "source": [
    "df.to_csv('../Data/eda_data.csv', index=False)"
   ],
   "metadata": {
    "collapsed": false,
    "pycharm": {
     "name": "#%%\n"
    }
   }
  },
  {
   "cell_type": "markdown",
   "source": [
    "## Summary\n",
    "- There is only 1 numeric (overview) and 1 boolean (verified) feature in the data set.\n",
    "- Overview ratings are heavily skewed towards 5. Also, the majority of reviews are verified.\n",
    "- The majority of the features are categories/objects/text.\n",
    "- Therefore, didn't do PCA as planned because it isn't recommended for categories.\n",
    "- Also, there are so many categories it wasn't possible to do one hot encoding because of memory issues.\n",
    "- As a result, will use processes designed specifically for recommendation systems to overcome these limitations in future notebooks.\n",
    "- Finally, could do a lot of additional text analysis using natural language processing (NLP) in the future to enhance this project."
   ],
   "metadata": {
    "collapsed": false
   }
  }
 ],
 "metadata": {
  "kernelspec": {
   "name": "pycharm-cef1f773",
   "language": "python",
   "display_name": "PyCharm (pycon2015_tutorial322)"
  },
  "language_info": {
   "codemirror_mode": {
    "name": "ipython",
    "version": 2
   },
   "file_extension": ".py",
   "mimetype": "text/x-python",
   "name": "python",
   "nbconvert_exporter": "python",
   "pygments_lexer": "ipython2",
   "version": "2.7.6"
  }
 },
 "nbformat": 4,
 "nbformat_minor": 0
}