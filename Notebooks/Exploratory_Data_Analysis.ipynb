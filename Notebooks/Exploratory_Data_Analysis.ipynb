{
 "cells": [
  {
   "cell_type": "markdown",
   "metadata": {
    "collapsed": true,
    "pycharm": {
     "name": "#%% md\n"
    }
   },
   "source": [
    "## Imports"
   ]
  },
  {
   "cell_type": "code",
   "execution_count": 1,
   "outputs": [],
   "source": [
    "import pandas as pd\n",
    "import numpy as np\n",
    "import matplotlib.pyplot as plt\n",
    "import seaborn as sns\n",
    "from IPython.core.display import display"
   ],
   "metadata": {
    "collapsed": false,
    "pycharm": {
     "name": "#%%\n"
    }
   }
  },
  {
   "cell_type": "markdown",
   "source": [
    "## Load Data"
   ],
   "metadata": {
    "collapsed": false,
    "pycharm": {
     "name": "#%% md\n"
    }
   }
  },
  {
   "cell_type": "code",
   "execution_count": 2,
   "outputs": [],
   "source": [
    "df = pd.read_csv('../Data/combined_data_cleaned.csv')"
   ],
   "metadata": {
    "collapsed": false,
    "pycharm": {
     "name": "#%%\n"
    }
   }
  },
  {
   "cell_type": "code",
   "execution_count": 3,
   "outputs": [
    {
     "data": {
      "text/plain": "                                            category  \\\n0  ['Grocery & Gourmet Food', 'Beverages', 'Coffe...   \n1  ['Grocery & Gourmet Food', 'Beverages', 'Coffe...   \n\n                                        title  \\\n0  Lipton Yellow Label Tea (loose tea) - 450g   \n1  Lipton Yellow Label Tea (loose tea) - 450g   \n\n                                            also_buy   brand  \\\n0  ['B00886E4K0', 'B00CREXSHY', 'B001QTRGAQ', 'B0...  Lipton   \n1  ['B00886E4K0', 'B00CREXSHY', 'B001QTRGAQ', 'B0...  Lipton   \n\n                                 rank  \\\n0  30,937 in Grocery & Gourmet Food (   \n1  30,937 in Grocery & Gourmet Food (   \n\n                                           also_view main_cat  price  \\\n0  ['B00CREXSHY', 'B001QTRGAQ', 'B000JSQK70', 'B0...  Grocery  12.46   \n1  ['B00CREXSHY', 'B001QTRGAQ', 'B000JSQK70', 'B0...  Grocery  12.46   \n\n         asin  overall  verified      reviewerID                    summary  \\\n0  4639725043      5.0      True  A1J205ZK25TZ6W  Best for brewed iced tea.   \n1  4639725043      3.0      True   ACOICLIJQYECU       Not Bad for iced Tea   \n\n   vote style  \n0   8.0   NaN  \n1   9.0   NaN  ",
      "text/html": "<div>\n<style scoped>\n    .dataframe tbody tr th:only-of-type {\n        vertical-align: middle;\n    }\n\n    .dataframe tbody tr th {\n        vertical-align: top;\n    }\n\n    .dataframe thead th {\n        text-align: right;\n    }\n</style>\n<table border=\"1\" class=\"dataframe\">\n  <thead>\n    <tr style=\"text-align: right;\">\n      <th></th>\n      <th>category</th>\n      <th>title</th>\n      <th>also_buy</th>\n      <th>brand</th>\n      <th>rank</th>\n      <th>also_view</th>\n      <th>main_cat</th>\n      <th>price</th>\n      <th>asin</th>\n      <th>overall</th>\n      <th>verified</th>\n      <th>reviewerID</th>\n      <th>summary</th>\n      <th>vote</th>\n      <th>style</th>\n    </tr>\n  </thead>\n  <tbody>\n    <tr>\n      <th>0</th>\n      <td>['Grocery &amp; Gourmet Food', 'Beverages', 'Coffe...</td>\n      <td>Lipton Yellow Label Tea (loose tea) - 450g</td>\n      <td>['B00886E4K0', 'B00CREXSHY', 'B001QTRGAQ', 'B0...</td>\n      <td>Lipton</td>\n      <td>30,937 in Grocery &amp; Gourmet Food (</td>\n      <td>['B00CREXSHY', 'B001QTRGAQ', 'B000JSQK70', 'B0...</td>\n      <td>Grocery</td>\n      <td>12.46</td>\n      <td>4639725043</td>\n      <td>5.0</td>\n      <td>True</td>\n      <td>A1J205ZK25TZ6W</td>\n      <td>Best for brewed iced tea.</td>\n      <td>8.0</td>\n      <td>NaN</td>\n    </tr>\n    <tr>\n      <th>1</th>\n      <td>['Grocery &amp; Gourmet Food', 'Beverages', 'Coffe...</td>\n      <td>Lipton Yellow Label Tea (loose tea) - 450g</td>\n      <td>['B00886E4K0', 'B00CREXSHY', 'B001QTRGAQ', 'B0...</td>\n      <td>Lipton</td>\n      <td>30,937 in Grocery &amp; Gourmet Food (</td>\n      <td>['B00CREXSHY', 'B001QTRGAQ', 'B000JSQK70', 'B0...</td>\n      <td>Grocery</td>\n      <td>12.46</td>\n      <td>4639725043</td>\n      <td>3.0</td>\n      <td>True</td>\n      <td>ACOICLIJQYECU</td>\n      <td>Not Bad for iced Tea</td>\n      <td>9.0</td>\n      <td>NaN</td>\n    </tr>\n  </tbody>\n</table>\n</div>"
     },
     "execution_count": 3,
     "metadata": {},
     "output_type": "execute_result"
    }
   ],
   "source": [
    "df.head(2)"
   ],
   "metadata": {
    "collapsed": false,
    "pycharm": {
     "name": "#%%\n"
    }
   }
  },
  {
   "cell_type": "code",
   "execution_count": 4,
   "outputs": [
    {
     "name": "stdout",
     "output_type": "stream",
     "text": [
      "<class 'pandas.core.frame.DataFrame'>\n",
      "RangeIndex: 1083170 entries, 0 to 1083169\n",
      "Data columns (total 15 columns):\n",
      " #   Column      Non-Null Count    Dtype  \n",
      "---  ------      --------------    -----  \n",
      " 0   category    1083170 non-null  object \n",
      " 1   title       1083170 non-null  object \n",
      " 2   also_buy    926546 non-null   object \n",
      " 3   brand       1075197 non-null  object \n",
      " 4   rank        1039163 non-null  object \n",
      " 5   also_view   577060 non-null   object \n",
      " 6   main_cat    1081896 non-null  object \n",
      " 7   price       750231 non-null   float64\n",
      " 8   asin        1083170 non-null  object \n",
      " 9   overall     1083170 non-null  float64\n",
      " 10  verified    1083170 non-null  bool   \n",
      " 11  reviewerID  1083170 non-null  object \n",
      " 12  summary     1082957 non-null  object \n",
      " 13  vote        149247 non-null   float64\n",
      " 14  style       559212 non-null   object \n",
      "dtypes: bool(1), float64(3), object(11)\n",
      "memory usage: 116.7+ MB\n"
     ]
    }
   ],
   "source": [
    "df.info()"
   ],
   "metadata": {
    "collapsed": false,
    "pycharm": {
     "name": "#%%\n"
    }
   }
  },
  {
   "cell_type": "markdown",
   "source": [
    "### Explore Data"
   ],
   "metadata": {
    "collapsed": false,
    "pycharm": {
     "name": "#%% md\n"
    }
   }
  },
  {
   "cell_type": "markdown",
   "source": [
    "#### Numeric Data\n",
    "Overall rating, vote, and price."
   ],
   "metadata": {
    "collapsed": false,
    "pycharm": {
     "name": "#%% md\n"
    }
   }
  },
  {
   "cell_type": "code",
   "execution_count": 5,
   "outputs": [
    {
     "data": {
      "text/plain": "               price       overall           vote\ncount  750231.000000  1.083170e+06  149247.000000\nmean       20.851335  4.438979e+00       6.676134\nstd        17.742246  1.065677e+00      22.092402\nmin         0.010000  1.000000e+00       2.000000\n25%        11.790000  4.000000e+00       2.000000\n50%        16.980000  5.000000e+00       3.000000\n75%        25.990000  5.000000e+00       6.000000\nmax       999.000000  5.000000e+00    2584.000000",
      "text/html": "<div>\n<style scoped>\n    .dataframe tbody tr th:only-of-type {\n        vertical-align: middle;\n    }\n\n    .dataframe tbody tr th {\n        vertical-align: top;\n    }\n\n    .dataframe thead th {\n        text-align: right;\n    }\n</style>\n<table border=\"1\" class=\"dataframe\">\n  <thead>\n    <tr style=\"text-align: right;\">\n      <th></th>\n      <th>price</th>\n      <th>overall</th>\n      <th>vote</th>\n    </tr>\n  </thead>\n  <tbody>\n    <tr>\n      <th>count</th>\n      <td>750231.000000</td>\n      <td>1.083170e+06</td>\n      <td>149247.000000</td>\n    </tr>\n    <tr>\n      <th>mean</th>\n      <td>20.851335</td>\n      <td>4.438979e+00</td>\n      <td>6.676134</td>\n    </tr>\n    <tr>\n      <th>std</th>\n      <td>17.742246</td>\n      <td>1.065677e+00</td>\n      <td>22.092402</td>\n    </tr>\n    <tr>\n      <th>min</th>\n      <td>0.010000</td>\n      <td>1.000000e+00</td>\n      <td>2.000000</td>\n    </tr>\n    <tr>\n      <th>25%</th>\n      <td>11.790000</td>\n      <td>4.000000e+00</td>\n      <td>2.000000</td>\n    </tr>\n    <tr>\n      <th>50%</th>\n      <td>16.980000</td>\n      <td>5.000000e+00</td>\n      <td>3.000000</td>\n    </tr>\n    <tr>\n      <th>75%</th>\n      <td>25.990000</td>\n      <td>5.000000e+00</td>\n      <td>6.000000</td>\n    </tr>\n    <tr>\n      <th>max</th>\n      <td>999.000000</td>\n      <td>5.000000e+00</td>\n      <td>2584.000000</td>\n    </tr>\n  </tbody>\n</table>\n</div>"
     },
     "execution_count": 5,
     "metadata": {},
     "output_type": "execute_result"
    }
   ],
   "source": [
    "df.describe()"
   ],
   "metadata": {
    "collapsed": false,
    "pycharm": {
     "name": "#%%\n"
    }
   }
  },
  {
   "cell_type": "code",
   "execution_count": 6,
   "outputs": [
    {
     "data": {
      "text/plain": "<Figure size 432x288 with 1 Axes>",
      "image/png": "[encoded data removed]"
     },
     "metadata": {
      "needs_background": "light"
     },
     "output_type": "display_data"
    }
   ],
   "source": [
    "# overall rating\n",
    "labels, counts = np.unique(df.overall, return_counts=True)\n",
    "plt.bar(labels, counts, align='center')\n",
    "plt.xlabel('Rating')\n",
    "plt.ylabel('Count')\n",
    "plt.show()"
   ],
   "metadata": {
    "collapsed": false,
    "pycharm": {
     "name": "#%%\n"
    }
   }
  },
  {
   "cell_type": "markdown",
   "source": [
    "The data is heavily skewed towards 5-star reviews."
   ],
   "metadata": {
    "collapsed": false,
    "pycharm": {
     "name": "#%% md\n"
    }
   }
  },
  {
   "cell_type": "code",
   "execution_count": 7,
   "outputs": [
    {
     "data": {
      "text/plain": "                                                 category  \\\n656762  ['Grocery & Gourmet Food', 'Produce', 'Dried F...   \n656789  ['Grocery & Gourmet Food', 'Produce', 'Dried F...   \n\n                                                    title also_buy  \\\n656762  Dried Mediterranean Apricots 4 Lbs (in 4 - 16 ...      NaN   \n656789  Dried Mediterranean Apricots 4 Lbs (in 4 - 16 ...      NaN   \n\n                     brand                                 rank  \\\n656762  Golden State Fruit  237,476 in Grocery & Gourmet Food (   \n656789  Golden State Fruit  237,476 in Grocery & Gourmet Food (   \n\n                           also_view main_cat  price        asin  overall  \\\n656762  ['B077JGYNCY', 'B00DQV4DF8']  Grocery  999.0  B00AJ3OSMO      5.0   \n656789  ['B077JGYNCY', 'B00DQV4DF8']  Grocery  999.0  B00AJ3OSMO      4.0   \n\n        verified      reviewerID          summary  vote style  \n656762      True  A1JH2B5871KG4X  Moist and Tasty   NaN   NaN  \n656789      True  A107CTGSINY3GJ      Tastes good   NaN   NaN  ",
      "text/html": "<div>\n<style scoped>\n    .dataframe tbody tr th:only-of-type {\n        vertical-align: middle;\n    }\n\n    .dataframe tbody tr th {\n        vertical-align: top;\n    }\n\n    .dataframe thead th {\n        text-align: right;\n    }\n</style>\n<table border=\"1\" class=\"dataframe\">\n  <thead>\n    <tr style=\"text-align: right;\">\n      <th></th>\n      <th>category</th>\n      <th>title</th>\n      <th>also_buy</th>\n      <th>brand</th>\n      <th>rank</th>\n      <th>also_view</th>\n      <th>main_cat</th>\n      <th>price</th>\n      <th>asin</th>\n      <th>overall</th>\n      <th>verified</th>\n      <th>reviewerID</th>\n      <th>summary</th>\n      <th>vote</th>\n      <th>style</th>\n    </tr>\n  </thead>\n  <tbody>\n    <tr>\n      <th>656762</th>\n      <td>['Grocery &amp; Gourmet Food', 'Produce', 'Dried F...</td>\n      <td>Dried Mediterranean Apricots 4 Lbs (in 4 - 16 ...</td>\n      <td>NaN</td>\n      <td>Golden State Fruit</td>\n      <td>237,476 in Grocery &amp; Gourmet Food (</td>\n      <td>['B077JGYNCY', 'B00DQV4DF8']</td>\n      <td>Grocery</td>\n      <td>999.0</td>\n      <td>B00AJ3OSMO</td>\n      <td>5.0</td>\n      <td>True</td>\n      <td>A1JH2B5871KG4X</td>\n      <td>Moist and Tasty</td>\n      <td>NaN</td>\n      <td>NaN</td>\n    </tr>\n    <tr>\n      <th>656789</th>\n      <td>['Grocery &amp; Gourmet Food', 'Produce', 'Dried F...</td>\n      <td>Dried Mediterranean Apricots 4 Lbs (in 4 - 16 ...</td>\n      <td>NaN</td>\n      <td>Golden State Fruit</td>\n      <td>237,476 in Grocery &amp; Gourmet Food (</td>\n      <td>['B077JGYNCY', 'B00DQV4DF8']</td>\n      <td>Grocery</td>\n      <td>999.0</td>\n      <td>B00AJ3OSMO</td>\n      <td>4.0</td>\n      <td>True</td>\n      <td>A107CTGSINY3GJ</td>\n      <td>Tastes good</td>\n      <td>NaN</td>\n      <td>NaN</td>\n    </tr>\n  </tbody>\n</table>\n</div>"
     },
     "execution_count": 7,
     "metadata": {},
     "output_type": "execute_result"
    }
   ],
   "source": [
    "# Some of the prices appear to be pretty high for groceries; but apparently valid.\n",
    "df[df['price'] > 950].sort_values('price', ascending=False).head(2)"
   ],
   "metadata": {
    "collapsed": false,
    "pycharm": {
     "name": "#%%\n"
    }
   }
  },
  {
   "cell_type": "code",
   "execution_count": 8,
   "outputs": [
    {
     "data": {
      "text/plain": "                               price        \n                                mean   count\nmain_cat                                    \nAll Beauty                 13.374108    1553\nAmazon Home                14.714298    6714\nArts, Crafts & Sewing      15.078947      19\nBaby                        8.362963      27\nCamera & Photo                   NaN       0\nCell Phones & Accessories        NaN       0\nGrocery                    21.028930  705418\nHealth & Personal Care     18.873219   32203\nHome Audio & Theater             NaN       0\nIndustrial & Scientific    27.418401    1126\nMusical Instruments              NaN       0\nOffice Products            18.743421     570\nPet Supplies               24.327518     141\nSoftware                         NaN       0\nSports & Outdoors          14.069673    1192\nTools & Home Improvement   27.470938      32\nToys & Games               11.267556     311",
      "text/html": "<div>\n<style scoped>\n    .dataframe tbody tr th:only-of-type {\n        vertical-align: middle;\n    }\n\n    .dataframe tbody tr th {\n        vertical-align: top;\n    }\n\n    .dataframe thead tr th {\n        text-align: left;\n    }\n\n    .dataframe thead tr:last-of-type th {\n        text-align: right;\n    }\n</style>\n<table border=\"1\" class=\"dataframe\">\n  <thead>\n    <tr>\n      <th></th>\n      <th colspan=\"2\" halign=\"left\">price</th>\n    </tr>\n    <tr>\n      <th></th>\n      <th>mean</th>\n      <th>count</th>\n    </tr>\n    <tr>\n      <th>main_cat</th>\n      <th></th>\n      <th></th>\n    </tr>\n  </thead>\n  <tbody>\n    <tr>\n      <th>All Beauty</th>\n      <td>13.374108</td>\n      <td>1553</td>\n    </tr>\n    <tr>\n      <th>Amazon Home</th>\n      <td>14.714298</td>\n      <td>6714</td>\n    </tr>\n    <tr>\n      <th>Arts, Crafts &amp; Sewing</th>\n      <td>15.078947</td>\n      <td>19</td>\n    </tr>\n    <tr>\n      <th>Baby</th>\n      <td>8.362963</td>\n      <td>27</td>\n    </tr>\n    <tr>\n      <th>Camera &amp; Photo</th>\n      <td>NaN</td>\n      <td>0</td>\n    </tr>\n    <tr>\n      <th>Cell Phones &amp; Accessories</th>\n      <td>NaN</td>\n      <td>0</td>\n    </tr>\n    <tr>\n      <th>Grocery</th>\n      <td>21.028930</td>\n      <td>705418</td>\n    </tr>\n    <tr>\n      <th>Health &amp; Personal Care</th>\n      <td>18.873219</td>\n      <td>32203</td>\n    </tr>\n    <tr>\n      <th>Home Audio &amp; Theater</th>\n      <td>NaN</td>\n      <td>0</td>\n    </tr>\n    <tr>\n      <th>Industrial &amp; Scientific</th>\n      <td>27.418401</td>\n      <td>1126</td>\n    </tr>\n    <tr>\n      <th>Musical Instruments</th>\n      <td>NaN</td>\n      <td>0</td>\n    </tr>\n    <tr>\n      <th>Office Products</th>\n      <td>18.743421</td>\n      <td>570</td>\n    </tr>\n    <tr>\n      <th>Pet Supplies</th>\n      <td>24.327518</td>\n      <td>141</td>\n    </tr>\n    <tr>\n      <th>Software</th>\n      <td>NaN</td>\n      <td>0</td>\n    </tr>\n    <tr>\n      <th>Sports &amp; Outdoors</th>\n      <td>14.069673</td>\n      <td>1192</td>\n    </tr>\n    <tr>\n      <th>Tools &amp; Home Improvement</th>\n      <td>27.470938</td>\n      <td>32</td>\n    </tr>\n    <tr>\n      <th>Toys &amp; Games</th>\n      <td>11.267556</td>\n      <td>311</td>\n    </tr>\n  </tbody>\n</table>\n</div>"
     },
     "execution_count": 8,
     "metadata": {},
     "output_type": "execute_result"
    }
   ],
   "source": [
    "df.groupby('main_cat')[['price']].agg(['mean', 'count'])"
   ],
   "metadata": {
    "collapsed": false,
    "pycharm": {
     "name": "#%%\n"
    }
   }
  },
  {
   "cell_type": "code",
   "execution_count": 9,
   "outputs": [
    {
     "data": {
      "text/plain": "<Figure size 432x288 with 1 Axes>",
      "image/png": "[encoded data removed]"
     },
     "metadata": {
      "needs_background": "light"
     },
     "output_type": "display_data"
    }
   ],
   "source": [
    "# Recommendation system may get skewed using price because of the non normal distribution.\n",
    "df.price.hist(bins=30)\n",
    "plt.xlabel('Prices')\n",
    "plt.ylabel('Item Count')\n",
    "plt.title('Distribution of prices')\n",
    "plt.show()"
   ],
   "metadata": {
    "collapsed": false,
    "pycharm": {
     "name": "#%%\n"
    }
   }
  },
  {
   "cell_type": "code",
   "execution_count": 10,
   "outputs": [
    {
     "data": {
      "text/plain": "count    748092.000000\nmean         20.367076\nstd          12.620038\nmin           0.010000\n25%          11.770000\n50%          16.980000\n75%          25.990000\nmax          99.990000\nName: price, dtype: float64"
     },
     "execution_count": 10,
     "metadata": {},
     "output_type": "execute_result"
    }
   ],
   "source": [
    "# Very skewed. May need to narrow the price range in the future.\n",
    "df.price[df['price'] < 100].describe()"
   ],
   "metadata": {
    "collapsed": false,
    "pycharm": {
     "name": "#%%\n"
    }
   }
  },
  {
   "cell_type": "code",
   "execution_count": 11,
   "outputs": [
    {
     "data": {
      "text/plain": "<AxesSubplot:>"
     },
     "execution_count": 11,
     "metadata": {},
     "output_type": "execute_result"
    },
    {
     "data": {
      "text/plain": "<Figure size 432x288 with 1 Axes>",
      "image/png": "[encoded data removed]"
     },
     "metadata": {
      "needs_background": "light"
     },
     "output_type": "display_data"
    }
   ],
   "source": [
    "df.price[df['price'] < 100].hist(bins=30)"
   ],
   "metadata": {
    "collapsed": false,
    "pycharm": {
     "name": "#%%\n"
    }
   }
  },
  {
   "cell_type": "code",
   "execution_count": 12,
   "outputs": [
    {
     "data": {
      "text/plain": "<Figure size 432x288 with 1 Axes>",
      "image/png": "[encoded data removed]"
     },
     "metadata": {
      "needs_background": "light"
     },
     "output_type": "display_data"
    }
   ],
   "source": [
    "# vote has a wide standard deviation and is also highly skewed.\n",
    "df.vote.hist(bins=30)\n",
    "plt.xlabel('Votes')\n",
    "plt.ylabel('Item Count')\n",
    "plt.title('Distribution of votes')\n",
    "plt.show()"
   ],
   "metadata": {
    "collapsed": false,
    "pycharm": {
     "name": "#%%\n"
    }
   }
  },
  {
   "cell_type": "code",
   "execution_count": 13,
   "outputs": [
    {
     "data": {
      "text/plain": "<AxesSubplot:>"
     },
     "execution_count": 13,
     "metadata": {},
     "output_type": "execute_result"
    },
    {
     "data": {
      "text/plain": "<Figure size 432x288 with 1 Axes>",
      "image/png": "[encoded data removed]"
     },
     "metadata": {
      "needs_background": "light"
     },
     "output_type": "display_data"
    }
   ],
   "source": [
    "df.vote[df['vote'] < 25].hist(bins=30)"
   ],
   "metadata": {
    "collapsed": false,
    "pycharm": {
     "name": "#%%\n"
    }
   }
  },
  {
   "cell_type": "markdown",
   "source": [
    "#### Boolean Data"
   ],
   "metadata": {
    "collapsed": false
   }
  },
  {
   "cell_type": "code",
   "execution_count": 14,
   "outputs": [
    {
     "data": {
      "text/plain": "<Figure size 432x288 with 1 Axes>",
      "image/png": "[encoded data removed]"
     },
     "metadata": {
      "needs_background": "light"
     },
     "output_type": "display_data"
    }
   ],
   "source": [
    "labels, counts = np.unique(df.verified, return_counts=True)\n",
    "plt.bar(labels, counts, align='center')\n",
    "plt.xticks([0, 1])\n",
    "plt.xlabel('Rating')\n",
    "plt.ylabel('Count')\n",
    "plt.show()"
   ],
   "metadata": {
    "collapsed": false,
    "pycharm": {
     "name": "#%%\n"
    }
   }
  },
  {
   "cell_type": "markdown",
   "source": [
    "#### Heat Map\n",
    "None of the features are correlated."
   ],
   "metadata": {
    "collapsed": false,
    "pycharm": {
     "name": "#%% md\n"
    }
   }
  },
  {
   "cell_type": "code",
   "execution_count": 15,
   "outputs": [
    {
     "data": {
      "text/plain": "<Figure size 432x288 with 2 Axes>",
      "image/png": "[encoded data removed]"
     },
     "metadata": {
      "needs_background": "light"
     },
     "output_type": "display_data"
    }
   ],
   "source": [
    "sns.heatmap(round(df.corr(), 2), annot=True)\n",
    "plt.title('Heat Map')\n",
    "plt.show()"
   ],
   "metadata": {
    "collapsed": false,
    "pycharm": {
     "name": "#%%\n"
    }
   }
  },
  {
   "cell_type": "markdown",
   "source": [
    "#### Analyze Categories/Objects"
   ],
   "metadata": {
    "collapsed": false,
    "pycharm": {
     "name": "#%% md\n"
    }
   }
  },
  {
   "cell_type": "code",
   "execution_count": 16,
   "outputs": [
    {
     "data": {
      "text/plain": "      Features  Number of Categories\n0     category                  1107\n1        title                 40969\n2     also_buy                 29115\n3        brand                  8861\n4         rank                 36865\n5    also_view                 21871\n6     main_cat                    17\n7         asin                 41280\n8   reviewerID                127496\n9      summary                526687\n10       style                 27490",
      "text/html": "<div>\n<style scoped>\n    .dataframe tbody tr th:only-of-type {\n        vertical-align: middle;\n    }\n\n    .dataframe tbody tr th {\n        vertical-align: top;\n    }\n\n    .dataframe thead th {\n        text-align: right;\n    }\n</style>\n<table border=\"1\" class=\"dataframe\">\n  <thead>\n    <tr style=\"text-align: right;\">\n      <th></th>\n      <th>Features</th>\n      <th>Number of Categories</th>\n    </tr>\n  </thead>\n  <tbody>\n    <tr>\n      <th>0</th>\n      <td>category</td>\n      <td>1107</td>\n    </tr>\n    <tr>\n      <th>1</th>\n      <td>title</td>\n      <td>40969</td>\n    </tr>\n    <tr>\n      <th>2</th>\n      <td>also_buy</td>\n      <td>29115</td>\n    </tr>\n    <tr>\n      <th>3</th>\n      <td>brand</td>\n      <td>8861</td>\n    </tr>\n    <tr>\n      <th>4</th>\n      <td>rank</td>\n      <td>36865</td>\n    </tr>\n    <tr>\n      <th>5</th>\n      <td>also_view</td>\n      <td>21871</td>\n    </tr>\n    <tr>\n      <th>6</th>\n      <td>main_cat</td>\n      <td>17</td>\n    </tr>\n    <tr>\n      <th>7</th>\n      <td>asin</td>\n      <td>41280</td>\n    </tr>\n    <tr>\n      <th>8</th>\n      <td>reviewerID</td>\n      <td>127496</td>\n    </tr>\n    <tr>\n      <th>9</th>\n      <td>summary</td>\n      <td>526687</td>\n    </tr>\n    <tr>\n      <th>10</th>\n      <td>style</td>\n      <td>27490</td>\n    </tr>\n  </tbody>\n</table>\n</div>"
     },
     "execution_count": 16,
     "metadata": {},
     "output_type": "execute_result"
    }
   ],
   "source": [
    "df_objects = df.select_dtypes(include='object')\n",
    "dfo_unique = pd.DataFrame(df_objects.nunique()).reset_index()\n",
    "dfo_unique.columns = ['Features', 'Number of Categories']\n",
    "dfo_unique.sort_values(by='Number of Categories', ascending=False)\n",
    "dfo_unique"
   ],
   "metadata": {
    "collapsed": false,
    "pycharm": {
     "name": "#%%\n"
    }
   }
  },
  {
   "cell_type": "markdown",
   "source": [
    "Except for the main_cat, there are too many unique categories for several traditional types of exploratory data analysis to be helpful.\n",
    "For example, one hot encoding using pd.get_dummies(df) runs into memory errors even when the biggest features are dropped from the analysis.\n",
    "Therefore, in later notebooks will use options created specifically for recommendation systems. "
   ],
   "metadata": {
    "collapsed": false,
    "pycharm": {
     "name": "#%% md\n"
    }
   }
  },
  {
   "cell_type": "code",
   "execution_count": 17,
   "outputs": [
    {
     "name": "stdout",
     "output_type": "stream",
     "text": [
      "Most common category:\n",
      "['Grocery & Gourmet Food', 'Beverages', 'Coffee, Tea & Cocoa', 'Coffee', 'Single-Serve Capsules & Pods']    72200\n",
      "['Grocery & Gourmet Food', 'Beverages', 'Coffee, Tea & Cocoa', 'Tea', 'Green']                              22883\n",
      "['Grocery & Gourmet Food', 'Snack Foods', 'Bars', 'Nut Bars']                                               20207\n",
      "Name: category, dtype: int64\n",
      "\n",
      "Most common title:\n",
      "KIND Bars, Dark Chocolate Nuts &amp; Sea Salt, Gluten Free, 1.4 Ounce Bars, 12 Count    9721\n",
      " Grocery &amp; Gourmet Food\" />                                                         7625\n",
      "Kind Bars, Madagascar Vanilla Almond, Gluten Free, Low Sugar, 1.4oz                     6036\n",
      "Name: title, dtype: int64\n",
      "\n",
      "Most common also_buy:\n",
      "['B003TNANSO', 'B003TMZQC8', 'B00IZF0LCE', 'B003TN6FSG', 'B007PE7AV6', 'B00FBCZCWS', 'B00IZF0P98', 'B019EGM8G4', 'B00D3M2QP4', 'B019EGM90O', 'B00DILEFNQ', 'B003TN8JGC', 'B00HF7W2JS', 'B078GK557L', 'B00JA9LDH6', 'B0748DHRYG', 'B000ENUC3S', 'B003P7ZMXA', 'B0012JNRKS', 'B079VP6DH5', 'B0054RPY7I', 'B0777WX969', 'B008GVJ9S4', 'B01F5EQRFC', 'B003ZMXYMG', 'B01GQ5GQEG', 'B003V5V5J6', 'B004M15U12', 'B07CB5X7RF', 'B00XABKAJM', 'B006BHRV1W', 'B0000CEO82', 'B014ABUQVC', 'B01M1G8EIY', 'B07GPKK9X6', 'B00D8VGDA4', 'B00XA0DP86', 'B06ZZQF5H6', 'B00HFC2E82', 'B07DJ16CD6', 'B001QCUKII', 'B006GKKO4A', 'B015W2CGH0', 'B007ED2FOA', 'B00CWYM3OI', 'B007JM00K2', 'B0089PYS74', 'B06XX33G82', 'B07BFPZ655', 'B01NCJSM2T', 'B072MZLXYZ', 'B01MG65NK5', 'B01LTHKYZ8', 'B0798DVT68', 'B00HSC9F2C', 'B00HKLK3X6', 'B00IHVHM4Q', 'B001CTO0YA', 'B00PLUIR2C', 'B003ZXEBOK', 'B07DKM3PJ6', 'B00FN6G3HA', 'B0032ZB03G', 'B00F6MFXCW', 'B0020VJTDG', 'B000EQYSLC', 'B00R8FQV6W', 'B00503DP0O', 'B07B4MQP18', 'B008RWUKXK', 'B01LFFGW5K', 'B01H3W4AM6', 'B073QMN75M', 'B01KQLULJW', 'B001M20XA2', 'B01M2X7EPZ', 'B001N2K068', 'B07H53Y3LL', 'B00ASBOP9S', 'B00C9SOB1K', 'B07144RV37', 'B01MZ3HE0A', 'B00Q70RCW6', 'B077K4CVJ7', 'B07C5WH4WN', 'B003P7XXPE', 'B00PDN097S', 'B00O1XAOCQ', 'B01LTHYW9W', 'B00I0DI0Z6', 'B0054LHI5A', 'B01F0FC8I6', 'B004CQWWKY', 'B074CRK54X', 'B005HG9ESG']                                7069\n",
      "['B007PE7ANY', 'B00FBCZCWS', 'B003TMZQC8', 'B003TNANSO', 'B00IZF0P98', 'B007PE7AV6', 'B003TN8JGC', 'B019EGM8G4', 'B019EGM90O', 'B00HF7W2JS', 'B003TN6FSG', 'B01M1G8EIY', 'B00JA9LDH6', 'B00D3M2QP4', 'B0777WX969', 'B00DILEFNQ', 'B000ENUC3S', 'B019EGM3EG', 'B078GYVKHR', 'B01J59BJQU', 'B00XABKAJM', 'B003P7ZMXA', 'B014ABUQVC', 'B008GVJ9S4', 'B008RWUKXK', 'B003V5V5J6', 'B0012JNRKS', 'B005HB19KW', 'B07CVZ3FZ6', 'B001QCUKII', 'B0032ZB03G', 'B00FN6G3HA', 'B00DLDH1N2', 'B000EQYSLC', 'B0061WGN98', 'B006GKKO4A', 'B079VP6DH5', 'B01LYOQ59D', 'B0089PYS74', 'B0042DIZIU', 'B01MRXE2YY', 'B00HFC2E82', 'B0079N2TGY', 'B00V4KWGEI', 'B0054RPY7I', 'B001HTIYDI', 'B00J2CJLPC', 'B015VPYWG6', 'B00E1XPY3A', 'B0792LF5DZ', 'B00FYR5HS4', 'B00D8VGDA4', 'B008BLESLM', 'B0000CEO82', 'B001CTO0YA', 'B00CWYM3OI', 'B004M15U12', 'B07B9F232M', 'B0143NQW2E', 'B073SWCZ62', 'B07CVXRYBK', 'B006JV8F8S', 'B00HSC9F2C', 'B0015068PA', 'B002XULC5W', 'B003ZMXYMG', 'B00I0DI0Z6', 'B07BWCT6YG', 'B076H6F974', 'B07B4MQP18', 'B072YR7FB3', 'B074N9Y8P9', 'B077K4CVJ7', 'B00B9GUZP4', 'B000FOIYS6', 'B000EMQF58', 'B007SNJDXM', 'B07MGPD9PJ', 'B00RTK51H6', 'B07BFPZ655', 'B00P25M858', 'B017EHDLTS', 'B0792TG324', 'B01LFFGW5K', 'B00QF27JL0', 'B01N286FM9', 'B000LKZ9Q4', 'B0785P5MP5', 'B00F6MFXCW', 'B01NCJSM2T', 'B003ZXEBOK', 'B00R0OCAMU', 'B00C37SX70', 'B001FWXSBU', 'B019C9NZCE']                                6036\n",
      "['B00JA9LDH6', 'B007PE7ANY', 'B007PE7AV6', 'B00IZF0P98', 'B00IZF0LCE', 'B003TMZQC8', 'B019EGM8G4', 'B003TNANSO', 'B00FBCZCWS', 'B019EGM90O', 'B003TN6FSG', 'B003TN8JGC', 'B001D0DMME', 'B01M1G8EIY', 'B00HF7W2JS', 'B07BFPZ655', 'B01F5EQRFC', 'B0039KES42', 'B00DILEFNQ', 'B000ENUC3S', 'B008RWUK6W', 'B078GK557L', 'B0777W3R15', 'B073SWCZ62', 'B007D6DVPA', 'B019EGM44U', 'B00DILCU92', 'B00DJQ0Y5S', 'B0074CDYI2', 'B01K0F3XLW', 'B0000CEO85', 'B008RWUKXK', 'B0061WGN98', 'B003ZMXYMG', 'B01N5YBLPL', 'B00028PPP0', 'B014MO02CA', 'B01N78WFQJ', 'B003GAJPJI', 'B0054RPY7I', 'B078S8DDZH', 'B01BMSBYVC', 'B003V5V5J6', 'B000EQYSLC', 'B0037QGLBG', 'B00E1XPYB2', 'B00GDIMCPY', 'B00D8VGD0E', 'B0741GFQHJ', 'B00XA0DP86', 'B076HSFXV4', 'B01F1NWEGI', 'B007ED2FOA', 'B004G5RHEM', 'B01FHG3R9M', 'B00CJEDDJ0', 'B072JWK8KD', 'B0020VJTDG', 'B07CB5X7RF', 'B003P7ZMXA', 'B06XX33G82', '1481477838', 'B0017SZTR8', 'B001QCUKII', 'B008GVJ9S4', 'B07GPKK9X6', 'B00FYR5HS4', 'B0012JNRKS', 'B072MZLXYZ', 'B074SLRQLV', 'B00ZK6KSS8', 'B000Q5XO4S', 'B004UA4PYS', 'B00HSC9F2C', 'B0079N94TY', 'B06XDJL7WB', 'B0019412IK', 'B003MWBFMK', 'B009RNYJGM', 'B01B5KAAUS', 'B01MDV3285', 'B003XDVERE', 'B00VB1XXS8', 'B0001EQN88', 'B001N2K068', 'B075WC3LZG', 'B000CQ01GU', 'B07C91K5GJ', 'B00JUJ1E0W', 'B0043P0GRA', 'B00PVS5PCE', 'B01NBOEODU', 'B00NJNJ6VE', 'B002CBXR46', 'B019CAC1O6', 'B000WLA73C', 'B01GFEQP2Q']    6029\n",
      "Name: also_buy, dtype: int64\n",
      "\n",
      "Most common brand:\n",
      "KIND              29320\n",
      "Bob's Red Mill    16664\n",
      "Planters          13547\n",
      "Name: brand, dtype: int64\n",
      "\n",
      "Most common rank:\n",
      "18 in Grocery & Gourmet Food (       9706\n",
      "2,949 in Grocery & Gourmet Food (    6036\n",
      "4,575 in Grocery & Gourmet Food (    6029\n",
      "Name: rank, dtype: int64\n",
      "\n",
      "Most common also_view:\n",
      "['B0062JSYEW', 'B005UF9LUA', 'B079Y9KD1B', 'B07HPDWRVP', 'B00J4S6C56', 'B00IS9GMYS', 'B01NCADCWT', 'B00U9W5JTG', 'B014QU8S8A', 'B00KO68SJU', 'B002HQCWYM', 'B0016G1DQW', 'B000F4F94I', 'B07G8MMD9S', 'B01959C6RQ', 'B000GG5IXM', 'B01DTIR6BA', 'B0055B5W3O', 'B00NAZK8PY', 'B075F9Y19M', 'B005763IYM', 'B07CYZV7VJ', 'B000F4J75A', 'B0028GWGWO', 'B0046IEK7G', 'B0052315I6', 'B000GFYRK8', 'B0082B2HH8', 'B007I6TGAE', 'B078PR36RJ', 'B009CPPVAI', 'B01F2DIFVA', 'B00B8XGDIG', 'B07D44YMWH', 'B001KUOGAO', 'B001QJAYD2', 'B00523174I', 'B009OY2O7U', 'B00I4B81IU', 'B01FKO5LNQ', 'B00B8XM0I8']                                                                                                                                  2991\n",
      "['B005UF9LUA', 'B01959C6RQ', 'B001GM60LE', 'B00HV04IIC', 'B00CEH8C5M', 'B06XJH281P', 'B00KO68SJU', 'B00MN4AA2Y', 'B0041OU0EW', 'B003D4J0KG', 'B007V2L8VU', 'B078PR36RJ', 'B0055B5W3O', 'B001B2SY9U', 'B00E19WJ1E', 'B00B8XGDIG', 'B00PWE9EFQ', 'B003D4MWXS', 'B00NAZK8PY', 'B000UH16JM', 'B00X7W965I', 'B000WS0HSA', 'B00CRAU0MY', 'B00F9WLGHK', 'B00NGYGUHE', 'B000NKWGJK', 'B001EXV844', 'B006M4DMIU', 'B00U9W5JTG', 'B002HQCWYM', 'B009I5NCIK', 'B01MSUQBX7', 'B00CS1S5B0', 'B00S9IT36W', 'B07638CZJD', 'B00P0BFODW', 'B00MN4AOLG', 'B07HNWZRTN', 'B000Z4WRXE', 'B00AEQIIUO', 'B06XS1MWWV', 'B006M4D6NQ', 'B01B8SA5HU', 'B075F9Y19M', 'B00OEJQT2G', 'B01F2DIFVA', 'B079Y9KD1B', 'B005P0RF8A', 'B001MOH3VW', 'B003D4IZSE']    2834\n",
      "['B06XDNJXHW', 'B0721WNLXM', 'B071KJDL7B', 'B06XD93K2X', 'B0721W6W2B', 'B0040QK4G0', 'B07HLK4CKR', 'B072KQWFFP', 'B07H1VKH8Z', 'B001OHX5P0', 'B072KPWDPF', 'B00JDCC48W', 'B01N9DCPB7', 'B07KY59WK6', 'B07JGH6MBZ', 'B008GVJ9S4', 'B07JJSRKWV', 'B07JGQZPYH', 'B01BXE9GXI', 'B00F7QFF48', 'B00E1Z25GW', 'B071GB2PPZ', 'B075WZWZSK', 'B002957S2W', 'B00ZANU9OY', 'B008M8QIGW', 'B076HCHQQZ', 'B001EPQVEO', 'B07KY5YL6D', 'B0793FRDN4', 'B00BRL9QF6', 'B00144CDSI', 'B075X1QM8R', 'B00MFBSRLQ', 'B001651228', 'B00JD8YC6I', 'B07JWH4497', 'B07JJS7BVQ', 'B000R91DVO', 'B00OEXP0UE']                                                                                                                                                2545\n",
      "Name: also_view, dtype: int64\n",
      "\n",
      "Most common main_cat:\n",
      "Grocery                   1026864\n",
      "Health & Personal Care      40062\n",
      "Amazon Home                  8794\n",
      "Name: main_cat, dtype: int64\n",
      "\n",
      "Most common asin:\n",
      "B00BUKL666    7069\n",
      "B008QMX2SG    6036\n",
      "B00D3M2QP4    6029\n",
      "Name: asin, dtype: int64\n",
      "\n",
      "Most common reviewerID:\n",
      "A1LACH6MLQWZ      538\n",
      "A2GJX2KCUSR0EI    405\n",
      "A1GQAKL9CGQLP1    398\n",
      "Name: reviewerID, dtype: int64\n",
      "\n",
      "Most common summary:\n",
      "Five Stars     217187\n",
      "Four Stars      34064\n",
      "Three Stars     15391\n",
      "Name: summary, dtype: int64\n",
      "\n",
      "Most common style:\n",
      "{'Package Quantity:': ' 1'}                 5928\n",
      "{'Size:': ' Pack of 1'}                     5679\n",
      "{'Package Type:': ' Standard Packaging'}    5013\n",
      "Name: style, dtype: int64\n",
      "\n"
     ]
    }
   ],
   "source": [
    "for col in df_objects.columns:\n",
    "    counts = df[col].value_counts()\n",
    "    print(f'Most common {col}:\\n{counts.head(3)}\\n')"
   ],
   "metadata": {
    "collapsed": false,
    "pycharm": {
     "name": "#%%\n"
    }
   }
  },
  {
   "cell_type": "markdown",
   "source": [
    "Possible issue #1: The most common details feature is empty.\n",
    "Earlier, when cleaning the data there were checks for empty lists; however, not for empty dictionaries.\n",
    "However, after further analysis the details feature is still useful because there are more than a million rows and only about 24k are empty."
   ],
   "metadata": {
    "collapsed": false,
    "pycharm": {
     "name": "#%% md\n"
    }
   }
  },
  {
   "cell_type": "markdown",
   "source": [
    "Possible issue #2: The most common information in the summary column might be a duplicate of the overall column.\n",
    "This could cause problems because the overall column is the target feature."
   ],
   "metadata": {
    "collapsed": false
   }
  },
  {
   "cell_type": "code",
   "execution_count": 18,
   "outputs": [
    {
     "data": {
      "text/plain": "Five Stars                                                                           217187\nFour Stars                                                                            34064\nThree Stars                                                                           15391\nOne Star                                                                               6872\nTwo Stars                                                                              6278\n                                                                                      ...  \n... jerky and i have to say these are the best! I don't have teeth                        1\nBut very exspensive                                                                       1\nBest sugar is from my home state.                                                         1\ndelicious. uncharacteristically (for Planters) not full of chemicals...just salt.         1\nLove Cake Boss!                                                                           1\nName: summary, Length: 526687, dtype: int64"
     },
     "execution_count": 18,
     "metadata": {},
     "output_type": "execute_result"
    }
   ],
   "source": [
    "df['summary'].value_counts()"
   ],
   "metadata": {
    "collapsed": false,
    "pycharm": {
     "name": "#%%\n"
    }
   }
  },
  {
   "cell_type": "code",
   "execution_count": 19,
   "outputs": [
    {
     "data": {
      "text/plain": "5.0    774985\n4.0    143550\n3.0     77097\n1.0     47323\n2.0     40215\nName: overall, dtype: int64"
     },
     "execution_count": 19,
     "metadata": {},
     "output_type": "execute_result"
    }
   ],
   "source": [
    "df['overall'].value_counts()"
   ],
   "metadata": {
    "collapsed": false,
    "pycharm": {
     "name": "#%%\n"
    }
   }
  },
  {
   "cell_type": "code",
   "execution_count": 20,
   "outputs": [],
   "source": [
    "# Yes, these columns do have a lot of overlap. Therefore, dropping summary.\n",
    "df.drop('summary', axis=1, inplace=True)"
   ],
   "metadata": {
    "collapsed": false,
    "pycharm": {
     "name": "#%%\n"
    }
   }
  },
  {
   "cell_type": "markdown",
   "source": [
    "#### Grouping by target\n",
    "\n",
    "Grouping by 'overall' rating to show the average highest and lowest product ratings."
   ],
   "metadata": {
    "collapsed": false,
    "pycharm": {
     "name": "#%% md\n"
    }
   }
  },
  {
   "cell_type": "code",
   "execution_count": 21,
   "outputs": [
    {
     "data": {
      "text/plain": "                                                     overall\ncategory                                                    \n['Grocery & Gourmet Food', 'Produce', 'Fresh Ve...  5.000000\n['Grocery & Gourmet Food', 'Cooking & Baking', ...  5.000000\n['Grocery & Gourmet Food', 'Herbs, Spices & Sea...  5.000000\n['Grocery & Gourmet Food', 'Meat & Seafood', 'P...  5.000000\n['Grocery & Gourmet Food', 'Dairy, Cheese & Egg...  5.000000\n...                                                      ...\n['Grocery & Gourmet Food', 'Produce', 'Packaged...  3.043478\n['Grocery & Gourmet Food', 'Canned, Jarred & Pa...  3.000000\n['Grocery & Gourmet Food', 'Olives, Pickles & R...  2.800000\n['Grocery & Gourmet Food', 'Meat Substitutes', ...  2.444444\n['Grocery & Gourmet Food', 'Cooking & Baking', ...  2.400000\n\n[1107 rows x 1 columns]",
      "text/html": "<div>\n<style scoped>\n    .dataframe tbody tr th:only-of-type {\n        vertical-align: middle;\n    }\n\n    .dataframe tbody tr th {\n        vertical-align: top;\n    }\n\n    .dataframe thead th {\n        text-align: right;\n    }\n</style>\n<table border=\"1\" class=\"dataframe\">\n  <thead>\n    <tr style=\"text-align: right;\">\n      <th></th>\n      <th>overall</th>\n    </tr>\n    <tr>\n      <th>category</th>\n      <th></th>\n    </tr>\n  </thead>\n  <tbody>\n    <tr>\n      <th>['Grocery &amp; Gourmet Food', 'Produce', 'Fresh Vegetables', 'Tomatillos']</th>\n      <td>5.000000</td>\n    </tr>\n    <tr>\n      <th>['Grocery &amp; Gourmet Food', 'Cooking &amp; Baking', 'Cooking Oils, Vinegars &amp; Sprays', 'Oils', 'Safflower']</th>\n      <td>5.000000</td>\n    </tr>\n    <tr>\n      <th>['Grocery &amp; Gourmet Food', 'Herbs, Spices &amp; Seasonings', 'Single Herbs &amp; Spices', 'Ajowan']</th>\n      <td>5.000000</td>\n    </tr>\n    <tr>\n      <th>['Grocery &amp; Gourmet Food', 'Meat &amp; Seafood', 'Pork', 'Ribs']</th>\n      <td>5.000000</td>\n    </tr>\n    <tr>\n      <th>['Grocery &amp; Gourmet Food', 'Dairy, Cheese &amp; Eggs', 'Eggs &amp; Egg Substitutes', 'Egg Whites']</th>\n      <td>5.000000</td>\n    </tr>\n    <tr>\n      <th>...</th>\n      <td>...</td>\n    </tr>\n    <tr>\n      <th>['Grocery &amp; Gourmet Food', 'Produce', 'Packaged Produce', 'Cut &amp; Packaged Fruits', 'Mangoes']</th>\n      <td>3.043478</td>\n    </tr>\n    <tr>\n      <th>['Grocery &amp; Gourmet Food', 'Canned, Jarred &amp; Packaged Foods', 'Packaged Meals &amp; Side Dishes', 'Mexican Dishes', 'Burritos']</th>\n      <td>3.000000</td>\n    </tr>\n    <tr>\n      <th>['Grocery &amp; Gourmet Food', 'Olives, Pickles &amp; Relishes', 'Olives', 'Greek']</th>\n      <td>2.800000</td>\n    </tr>\n    <tr>\n      <th>['Grocery &amp; Gourmet Food', 'Meat Substitutes', 'Pulled &amp; Flaked Meats']</th>\n      <td>2.444444</td>\n    </tr>\n    <tr>\n      <th>['Grocery &amp; Gourmet Food', 'Cooking &amp; Baking', 'Dessert Syrups &amp; Sauces', 'Marshmallow']</th>\n      <td>2.400000</td>\n    </tr>\n  </tbody>\n</table>\n<p>1107 rows × 1 columns</p>\n</div>"
     },
     "metadata": {},
     "output_type": "display_data"
    },
    {
     "data": {
      "text/plain": "                                                    overall\ntitle                                                      \nCelestial Seasonings Herbal Tea, Bengal Spice, ...      5.0\nSweetGourmet Dark Chocolate Espresso Coffee Bea...      5.0\nSweetarts Candy Canes 12ct.                             5.0\nCOPES CORN SWEET DRIED, 7.5 OZ (3 pack)                 5.0\nClement Faugier Creme de Marrons de l'Ardeche C...      5.0\n...                                                     ...\nGrove Square Coffee Single Serve Coffee Cup for...      1.2\nBrach's Candy Corn, 11 Ounce Bag, Pack of 12            1.0\nFactory Card and Party Outlet Passover Bag of P...      1.0\nBrooks Rich &amp; Tangy Ketchup 24oz - 6 Pack           1.0\nGreenfire Custom Fortune Cookies, for Special E...      1.0\n\n[40969 rows x 1 columns]",
      "text/html": "<div>\n<style scoped>\n    .dataframe tbody tr th:only-of-type {\n        vertical-align: middle;\n    }\n\n    .dataframe tbody tr th {\n        vertical-align: top;\n    }\n\n    .dataframe thead th {\n        text-align: right;\n    }\n</style>\n<table border=\"1\" class=\"dataframe\">\n  <thead>\n    <tr style=\"text-align: right;\">\n      <th></th>\n      <th>overall</th>\n    </tr>\n    <tr>\n      <th>title</th>\n      <th></th>\n    </tr>\n  </thead>\n  <tbody>\n    <tr>\n      <th>Celestial Seasonings Herbal Tea, Bengal Spice, (2 Pack)</th>\n      <td>5.0</td>\n    </tr>\n    <tr>\n      <th>SweetGourmet Dark Chocolate Espresso Coffee Beans (2Lb)</th>\n      <td>5.0</td>\n    </tr>\n    <tr>\n      <th>Sweetarts Candy Canes 12ct.</th>\n      <td>5.0</td>\n    </tr>\n    <tr>\n      <th>COPES CORN SWEET DRIED, 7.5 OZ (3 pack)</th>\n      <td>5.0</td>\n    </tr>\n    <tr>\n      <th>Clement Faugier Creme de Marrons de l'Ardeche Chestnut Spread</th>\n      <td>5.0</td>\n    </tr>\n    <tr>\n      <th>...</th>\n      <td>...</td>\n    </tr>\n    <tr>\n      <th>Grove Square Coffee Single Serve Coffee Cup for Keurig K-Cup Brewers with Bonus Creamer, 48-Count</th>\n      <td>1.2</td>\n    </tr>\n    <tr>\n      <th>Brach's Candy Corn, 11 Ounce Bag, Pack of 12</th>\n      <td>1.0</td>\n    </tr>\n    <tr>\n      <th>Factory Card and Party Outlet Passover Bag of Plagues</th>\n      <td>1.0</td>\n    </tr>\n    <tr>\n      <th>Brooks Rich &amp;amp; Tangy Ketchup 24oz - 6 Pack</th>\n      <td>1.0</td>\n    </tr>\n    <tr>\n      <th>Greenfire Custom Fortune Cookies, for Special Events and Occasions, Full Color Fortune Printing, Premium Vanilla, Bulk Quantity (300)</th>\n      <td>1.0</td>\n    </tr>\n  </tbody>\n</table>\n<p>40969 rows × 1 columns</p>\n</div>"
     },
     "metadata": {},
     "output_type": "display_data"
    },
    {
     "data": {
      "text/plain": "                                                     overall\nalso_buy                                                    \n['B00KUPB79S', 'B00JIYH2K0', 'B006EIB4PW', 'B00...  5.000000\n['B00O56V3WE', 'B0069UVB8U', 'B07FTSX49W', 'B00...  5.000000\n['B00OFBJZWY', 'B000N0286G', 'B00OFC11WU', 'B00...  5.000000\n['B00OEC8GA6', 'B008IXRXYM', 'B01HHEEERQ', 'B00...  5.000000\n['B00OD23X82', 'B001IZBH0S', 'B000NWCZYY', 'B00...  5.000000\n...                                                      ...\n['B0054RRMRS', 'B00IV6JUK6', 'B0032123XQ', 'B00...  1.710843\n['B07CX6LN8T', 'B01IVTAW9A']                        1.666667\n['B00VII15NY', 'B00VIIA2LA', 'B019CPB4C6', 'B00...  1.428571\n['B00LR5OJXG', 'B002LV6LWW', 'B00I9MN8AA', 'B00...  1.333333\n['B007UWD1E8', 'B000NHTHTA', 'B001QFBJTE', '097...  1.000000\n\n[29115 rows x 1 columns]",
      "text/html": "<div>\n<style scoped>\n    .dataframe tbody tr th:only-of-type {\n        vertical-align: middle;\n    }\n\n    .dataframe tbody tr th {\n        vertical-align: top;\n    }\n\n    .dataframe thead th {\n        text-align: right;\n    }\n</style>\n<table border=\"1\" class=\"dataframe\">\n  <thead>\n    <tr style=\"text-align: right;\">\n      <th></th>\n      <th>overall</th>\n    </tr>\n    <tr>\n      <th>also_buy</th>\n      <th></th>\n    </tr>\n  </thead>\n  <tbody>\n    <tr>\n      <th>['B00KUPB79S', 'B00JIYH2K0', 'B006EIB4PW', 'B007PRVELU', 'B00XGNE23O', 'B00KUPETO8', 'B001H0FI22', 'B00YLI8YO6', 'B001H0FHZA', 'B00NMQADC4', 'B00KUPE2CM', 'B00DR4JYA8', 'B00FZYX21K', 'B001H0FHXW', 'B00W0EYBTK', 'B003F0XHUM', 'B000K26JF8', 'B005LZVKL2', 'B001H0FI36', 'B0018D15BG', 'B00U1P8RF4', 'B076NXZ7LG', 'B01C5Y9AAE', 'B007ECMSAW', 'B0083J60CW', 'B00V9BH2EG', 'B003EAAMRO', 'B01H2T79CS', 'B016E1XXRU', 'B00EIAEZ2M', 'B00NHXH8D4', 'B00SX7RHPI', 'B00404ONB4', 'B009EFKXR2', 'B0774R3SRJ', 'B01C605YN4', 'B006DAREDM', 'B00AZW16QA', 'B01HPXC9US', 'B07CT9PQ5P', 'B00802QZV8', 'B009NKTK4U', 'B00CD2MWYU', 'B01C3R6B00', 'B0030Z95B2', 'B00LGXV9T6', 'B003YVHJ92', 'B004FUUC9U', 'B004MJ1V44', 'B01IHQYE1O', 'B07H9JXX72', 'B07BQSTXHC', 'B000ODQQQA', 'B01C612AOY', 'B0759B12DG', 'B003U72WY2', 'B06XXWVPWJ', 'B071L8D3HT', 'B004MIV9V0', 'B00BLG3GLW', 'B00KUPM14S', 'B002ZPG0FM', 'B01D20HMHS', 'B072ZYB73Q', 'B00F51T2BW', 'B01M2VH0WU', 'B000K28B8Q', 'B01MV6K1BN', 'B016BQNUGW', 'B00DFSHMN2', 'B004V94B3I', 'B00W46R05Q', 'B07G19XTD3', 'B002L5LN80', 'B01GADGYJG', 'B000ODRYD4', 'B00BWNYHVC', 'B01ARLS8PU', 'B07B44JGNH', 'B07FDJ9SBM', 'B07DM27Y1Q', 'B00KUPKX34', 'B07DV4T9ND', 'B01M0MRD00', 'B07CSSHXGK', 'B004FP7P7W', 'B074DZWD4T', 'B00JIYHK7A', 'B00KUPGIYW', 'B075JK8XQB']</th>\n      <td>5.000000</td>\n    </tr>\n    <tr>\n      <th>['B00O56V3WE', 'B0069UVB8U', 'B07FTSX49W', 'B00GMDSZSI', 'B0085SN7J0', 'B004SS632E', 'B00U33A39W', 'B009GJFBOG', 'B0187JTHW2', 'B0052T5HZ2', 'B00HQWPI8O', 'B0012XV382', 'B00GRW10FY', 'B006F63M8U', 'B01C51SWS8', 'B06WD4HJZP', 'B00BJ9URYA', 'B0046NVSG2', 'B00IR4Q9FG', 'B00O4VRLUI', 'B00PPLXMZO', 'B00KAWU4IQ', 'B00P5KD1KG']</th>\n      <td>5.000000</td>\n    </tr>\n    <tr>\n      <th>['B00OFBJZWY', 'B000N0286G', 'B00OFC11WU', 'B000ET17VI', 'B000MZ7OUW', 'B00R2I2DH6', 'B00RA27OOQ', 'B000N0T30K', 'B00TZ8BK5W', 'B000ET1678', 'B005NEXK6Y', 'B01I6U4NAS', 'B000S60EFW', 'B000EICLI2', 'B00EJVKQ1E', 'B000EICJWA', 'B000OTPJWQ', 'B01K3XCU2E', 'B000QU3JM0', 'B00THOSQ8S', 'B01LYMD0NW', 'B01MFESP5G', 'B00FSH2314', 'B00TVAD8RM', 'B00886AVOI', 'B005J8DT0Q', 'B00PZLXTB6', 'B000EPPBRS', 'B01CZ8A022', 'B00X1D0BLQ', 'B007B1V5ZK', 'B00A3K69WA', 'B01CLQSKNY', 'B00HU8VMES', 'B00LYT2HCK', 'B00PRBL8T4', 'B01EDDEPUK', 'B004I5IC5I', 'B00KJJH0D2', 'B005MH0P5Q', 'B00I9P242U', 'B079KWN564', 'B00PRB2JQA', 'B000ESWFHE', 'B01B11N3LY', 'B0086XQ4XK', 'B00A32Y3WQ', 'B005UY77VQ', 'B002P8AQJ0', 'B01MR4F4T5', 'B014QEFBSG', 'B0758VGKDF', 'B000EICISA', 'B000MZ5JJA', 'B004T5MMYY', 'B00M8VSKW4', 'B000JMAVXA', 'B004AOFZRA', 'B01N46Y9AS', 'B01NAGWV2P', 'B00CNVK1AI', 'B01ATRHSYO', 'B06XX51N55', 'B00EAFNGMA', 'B01E5NIEKA', 'B000OC3EYI', '3334353648', 'B07BBT37K9', 'B01GUDEO0W', 'B00BUIKGU0', 'B00473PVVO', 'B0753ZM6JL', 'B077GGCHRZ', 'B00JUB8N3G', 'B000ETLVXC', '0449017052', 'B012U8CWDC', 'B06XKHQH9V', 'B0000CNU15', 'B0038Z7PZW', 'B006R1UE52', 'B00MSV9S7U', 'B00QGWM57M', 'B00DUMDNTU', 'B00XGVZH4Y', 'B007YY6O2I', 'B000EWMJ8U', 'B00JH638SO', 'B0091UW4QS', 'B002TRBNOO', 'B00B617XK2', 'B0001EJ4C0', 'B0086XQ8FO', 'B0019LFC2K', 'B00GN753JW', 'B072PS7VNG']</th>\n      <td>5.000000</td>\n    </tr>\n    <tr>\n      <th>['B00OEC8GA6', 'B008IXRXYM', 'B01HHEEERQ', 'B004L045D8', 'B0086AJ1OC', 'B003J9Y4II', 'B004J0IDU6', 'B0092X768K', 'B00WLBSQMA', 'B006WWLX7O', 'B003J9ZWPW', 'B000FDOSN2', 'B003J9QJEA', 'B01MUQHGYA', 'B006WW1G8U', 'B00TG7T4B4', 'B0094Z2EOW', 'B00DXMSSRE', 'B004S1YCLK', 'B004RR435K', 'B0042M1W0Y', 'B004SIZZZA', 'B008IXQJ1K', 'B0049J3LRC', 'B004SI04C4', 'B001XSMANI', 'B00411W2O6', 'B009MMVGY6', 'B007N3KRYQ', 'B002BAYSKK', 'B004XRJ49E', 'B00KIWAUGY', 'B0094WX5RA', 'B0000DIYVM', 'B00D5VB58C', 'B004XRJ3ZE', 'B00KIWX318']</th>\n      <td>5.000000</td>\n    </tr>\n    <tr>\n      <th>['B00OD23X82', 'B001IZBH0S', 'B000NWCZYY', 'B0028C44IM', 'B00OD23XE6', 'B00OD23WXI', 'B0195HL98U', 'B00KR163S0', 'B01N6KVQQ5', 'B00IGHA3MY', 'B01N6HNJ8S', 'B00FT9VRWW', 'B01808O0A4']</th>\n      <td>5.000000</td>\n    </tr>\n    <tr>\n      <th>...</th>\n      <td>...</td>\n    </tr>\n    <tr>\n      <th>['B0054RRMRS', 'B00IV6JUK6', 'B0032123XQ', 'B000U94MN2', 'B00ZOIJO96', 'B001G8RNPU', 'B010WBZWT0', 'B00UCAGQXI', 'B000TMS0RE', 'B007UN97PY', 'B003QSORYS', 'B00RMX70NS', 'B000VHJPKI', 'B00TU7F46E', 'B00V92080U', 'B000PZQUZO', 'B002FW4WFK', 'B00JU4ROWE', 'B01FWNYJEC', 'B000TO9BR0', 'B000VHNNFQ', 'B00TG08BEC', 'B00IV6LWHK', 'B01F9I5XJA', 'B01DI50IRI', 'B00ZNMKJR4', 'B000TMZI74', 'B000U94MPA', 'B000QV32B2', 'B00WZ11YXO', 'B000U90LZA', 'B072J6TYG4', 'B000U90M5E', 'B00MHXE072', 'B0107OD2KI', 'B000JWCA1Q', 'B00MGCFYY2', 'B00CQ7SLOW', 'B000U96JEC', 'B07481XMT4', 'B01F7HCZMG', 'B00BRFRA8M', 'B00BAM7NQG', 'B000JWCA1G', 'B00EUVJ07E', 'B00U0OEDJU', 'B003QSFZ5I', 'B00024DB50', 'B0188MAZA6', 'B000WLZI1S', 'B00HOTCB3Y', 'B00UC93OZC', 'B010HU2VGI', 'B01JZXQXE4', 'B00IV6LLXA', 'B00IV6L1CG', 'B0733NJJ82', 'B000UBMO4Y', 'B00S8JY6SC', 'B00FYB8Y9E', 'B0186JDHWY', 'B00OPB1DDS', 'B00BTMDALO', 'B0010XV4BK', 'B0080MY5D8', 'B00SHOXF80', 'B01KL6JH92', 'B00TOWCFMQ', 'B00ZR9OGD6', 'B00EZQHAPS', 'B00IV6KGVI', 'B000UY0ZE2', 'B000U96JGA', 'B00024D9X4', 'B00IV6LK3G', 'B000QWW0B4', 'B00RHSXJIS', 'B000QWU5W0', 'B004OP8WMU', 'B077F4VLKN', 'B0026VPVK0', 'B0054RRN6S', 'B00U1LOHX4', 'B007VA2EOC', 'B07637MY9D', 'B000TMS0QA', 'B013LB4ZYQ', 'B00O4G8NC8', 'B01MTJYYUF', 'B00S8JY7RW', 'B00BINLMM8', 'B00S8JY5TW', 'B01DWSMU4U']</th>\n      <td>1.710843</td>\n    </tr>\n    <tr>\n      <th>['B07CX6LN8T', 'B01IVTAW9A']</th>\n      <td>1.666667</td>\n    </tr>\n    <tr>\n      <th>['B00VII15NY', 'B00VIIA2LA', 'B019CPB4C6', 'B00GU19JRI', 'B00BU8SM60', 'B00HBFKI3Q', 'B00AEUKK1U', 'B00HBFJ27O', 'B007BFZKW0', 'B005YVU6FY', 'B0053DJYOC', 'B00GU1CVUU', 'B01MU22JSD', 'B000Y0GOZQ', 'B00GU2E8UA', 'B078WLNQZF', 'B00DSE7FHQ', 'B017BR91GI', 'B074365DR9', 'B006E8OGNY', 'B00GU2K4X0', 'B01EGYY3I0', 'B000NUQJGQ', 'B00MCUUD6C', 'B071SGJZZJ', 'B01MY2OXUZ', 'B013FGY2TK', 'B00HBFH2PI', 'B00BTMDALO', 'B00Y1FT7TU', 'B00OJA0DKE', 'B00WUKSLQ8', 'B011S6SYEI', 'B0738R2QH3', 'B000G8399A', 'B00OJ9NBAO', 'B00FAU7DHI', 'B06XPHTJ6L', 'B017DX0FQU', 'B07C2S9KDT', 'B00HBGCVXA', 'B00OJ9FEAE', 'B01CMZC6IO', 'B0799CH1ZZ', 'B07GK65NJJ', 'B00S8SONH2', 'B07FMRG1PF', 'B01MRHESJN', 'B00DYUWEU2', 'B002YKCI36', 'B075312HXS', 'B07CT98B7J', 'B077H8GT4H', 'B06XR527WG', 'B005FL84X4', 'B07C33DF8R', 'B00B5I1ZO6', 'B078WJSTVJ', 'B01N9VJB54', 'B074WCZ6RL', 'B0763ZVVVD', 'B00Y1FIQ0G', 'B00HBFBQ82', 'B07DLMD94K', 'B07FMZDSV4', 'B07KPQJTVD', 'B00XMZP186', 'B07H7Q1M5F', 'B01MUGZWMZ', 'B06XTHBNM4', 'B01LZ2KJNT', 'B01MY2EKVE', 'B016C0QZ9Q', 'B00VC43YN8', 'B07BW4XQ8M', 'B00GU2S2F2', 'B07HHKVJ4M', 'B072KLBV7N', 'B07B4PRGX7', 'B00UCF5D2S', 'B01DTII3VC', 'B00WUJQREC', 'B07C339K9M', 'B0078DQ7PE', 'B00T3M0R7C', 'B074SQR62P', 'B01LWRTEPE', 'B00AEUKK42', 'B00L3IYQQC']</th>\n      <td>1.428571</td>\n    </tr>\n    <tr>\n      <th>['B00LR5OJXG', 'B002LV6LWW', 'B00I9MN8AA', 'B00XMZINYU', 'B01N479QAN', 'B009CC6WYK', 'B004MR1S3U', 'B00032C91I', 'B000EVQWIY', 'B00168AE2Y']</th>\n      <td>1.333333</td>\n    </tr>\n    <tr>\n      <th>['B007UWD1E8', 'B000NHTHTA', 'B001QFBJTE', '097912560X', '0756602858', 'B01NC0XCHM', 'B00T0WMIJK', '1976722772', 'B00BI1N8N6', 'B079L15J5M', 'B007QVJ8PE', '0692859055', 'B007BPXI6U', '1580132308', '0870685422', 'B01BRLIRZ0', 'B01N6YPWNG', 'B007DUZFEQ', '1422620557', 'B003H2TDZG', '0142300624', 'B0068DPQPC', 'B007M0SM5G', 'B007FZBH0A', 'B007RPGY7E', 'B004RZJCSA', 'B06XCS2WKL', 'B007B4WB96']</th>\n      <td>1.000000</td>\n    </tr>\n  </tbody>\n</table>\n<p>29115 rows × 1 columns</p>\n</div>"
     },
     "metadata": {},
     "output_type": "display_data"
    },
    {
     "data": {
      "text/plain": "                                overall\nbrand                                  \nBlue Runner Foods              5.000000\nTian Tao                       5.000000\nInspired By Jane               5.000000\nFrantoia                       5.000000\nFrantoia Barbera               5.000000\n...                                 ...\nWaffleWaffle                   1.714286\nTolerant Foods                 1.714286\nDrink Chia                     1.500000\nFactory Card and Party Outlet  1.000000\nBrooks                         1.000000\n\n[8861 rows x 1 columns]",
      "text/html": "<div>\n<style scoped>\n    .dataframe tbody tr th:only-of-type {\n        vertical-align: middle;\n    }\n\n    .dataframe tbody tr th {\n        vertical-align: top;\n    }\n\n    .dataframe thead th {\n        text-align: right;\n    }\n</style>\n<table border=\"1\" class=\"dataframe\">\n  <thead>\n    <tr style=\"text-align: right;\">\n      <th></th>\n      <th>overall</th>\n    </tr>\n    <tr>\n      <th>brand</th>\n      <th></th>\n    </tr>\n  </thead>\n  <tbody>\n    <tr>\n      <th>Blue Runner Foods</th>\n      <td>5.000000</td>\n    </tr>\n    <tr>\n      <th>Tian Tao</th>\n      <td>5.000000</td>\n    </tr>\n    <tr>\n      <th>Inspired By Jane</th>\n      <td>5.000000</td>\n    </tr>\n    <tr>\n      <th>Frantoia</th>\n      <td>5.000000</td>\n    </tr>\n    <tr>\n      <th>Frantoia Barbera</th>\n      <td>5.000000</td>\n    </tr>\n    <tr>\n      <th>...</th>\n      <td>...</td>\n    </tr>\n    <tr>\n      <th>WaffleWaffle</th>\n      <td>1.714286</td>\n    </tr>\n    <tr>\n      <th>Tolerant Foods</th>\n      <td>1.714286</td>\n    </tr>\n    <tr>\n      <th>Drink Chia</th>\n      <td>1.500000</td>\n    </tr>\n    <tr>\n      <th>Factory Card and Party Outlet</th>\n      <td>1.000000</td>\n    </tr>\n    <tr>\n      <th>Brooks</th>\n      <td>1.000000</td>\n    </tr>\n  </tbody>\n</table>\n<p>8861 rows × 1 columns</p>\n</div>"
     },
     "metadata": {},
     "output_type": "display_data"
    },
    {
     "data": {
      "text/plain": "                                     overall\nrank                                        \n126,465 in Grocery & Gourmet Food (      5.0\n112,845 in Grocery & Gourmet Food (      5.0\n320,667 in Grocery & Gourmet Food (      5.0\n112,762 in Grocery & Gourmet Food (      5.0\n233,328 in Grocery & Gourmet Food (      5.0\n...                                      ...\n760,848 in Grocery & Gourmet Food (      1.2\n143,507 in Grocery & Gourmet Food (      1.0\n478,636 in Grocery & Gourmet Food (      1.0\n384,445 in Health & Household (          1.0\n384,006 in Grocery & Gourmet Food (      1.0\n\n[36865 rows x 1 columns]",
      "text/html": "<div>\n<style scoped>\n    .dataframe tbody tr th:only-of-type {\n        vertical-align: middle;\n    }\n\n    .dataframe tbody tr th {\n        vertical-align: top;\n    }\n\n    .dataframe thead th {\n        text-align: right;\n    }\n</style>\n<table border=\"1\" class=\"dataframe\">\n  <thead>\n    <tr style=\"text-align: right;\">\n      <th></th>\n      <th>overall</th>\n    </tr>\n    <tr>\n      <th>rank</th>\n      <th></th>\n    </tr>\n  </thead>\n  <tbody>\n    <tr>\n      <th>126,465 in Grocery &amp; Gourmet Food (</th>\n      <td>5.0</td>\n    </tr>\n    <tr>\n      <th>112,845 in Grocery &amp; Gourmet Food (</th>\n      <td>5.0</td>\n    </tr>\n    <tr>\n      <th>320,667 in Grocery &amp; Gourmet Food (</th>\n      <td>5.0</td>\n    </tr>\n    <tr>\n      <th>112,762 in Grocery &amp; Gourmet Food (</th>\n      <td>5.0</td>\n    </tr>\n    <tr>\n      <th>233,328 in Grocery &amp; Gourmet Food (</th>\n      <td>5.0</td>\n    </tr>\n    <tr>\n      <th>...</th>\n      <td>...</td>\n    </tr>\n    <tr>\n      <th>760,848 in Grocery &amp; Gourmet Food (</th>\n      <td>1.2</td>\n    </tr>\n    <tr>\n      <th>143,507 in Grocery &amp; Gourmet Food (</th>\n      <td>1.0</td>\n    </tr>\n    <tr>\n      <th>478,636 in Grocery &amp; Gourmet Food (</th>\n      <td>1.0</td>\n    </tr>\n    <tr>\n      <th>384,445 in Health &amp; Household (</th>\n      <td>1.0</td>\n    </tr>\n    <tr>\n      <th>384,006 in Grocery &amp; Gourmet Food (</th>\n      <td>1.0</td>\n    </tr>\n  </tbody>\n</table>\n<p>36865 rows × 1 columns</p>\n</div>"
     },
     "metadata": {},
     "output_type": "display_data"
    },
    {
     "data": {
      "text/plain": "                                                    overall\nalso_view                                                  \n['B06VSHBBQZ', 'B00AK4ADQ2', 'B0064OLJZ6', 'B07...      5.0\n['B06WD5MM71', 'B00ES8ORAE', 'B01LWJLH4G', 'B07...      5.0\n['B00DOORDNG', 'B01BCXMW7W', 'B07C2F85W4', 'B00...      5.0\n['B000WS1KEU', 'B001FXZITE', 'B00GWDHRKU', 'B07...      5.0\n['B00DOKFLYI', 'B003HDJE5O', 'B001O8PRZA', 'B00...      5.0\n...                                                     ...\n['B000LKVSDM', 'B003VYH8AM']                            1.2\n['B074Q3CH6C', 'B000I07O10', 'B000CBEP9O', 'B00...      1.0\n['B00MPC4PCU', 'B01AP9E3W6', 'B008VUKZ9M', 'B00...      1.0\n['B007QVJ8PE', 'B0015844LM']                            1.0\n['B01M22URBN', 'B00DT39IH6']                            1.0\n\n[21871 rows x 1 columns]",
      "text/html": "<div>\n<style scoped>\n    .dataframe tbody tr th:only-of-type {\n        vertical-align: middle;\n    }\n\n    .dataframe tbody tr th {\n        vertical-align: top;\n    }\n\n    .dataframe thead th {\n        text-align: right;\n    }\n</style>\n<table border=\"1\" class=\"dataframe\">\n  <thead>\n    <tr style=\"text-align: right;\">\n      <th></th>\n      <th>overall</th>\n    </tr>\n    <tr>\n      <th>also_view</th>\n      <th></th>\n    </tr>\n  </thead>\n  <tbody>\n    <tr>\n      <th>['B06VSHBBQZ', 'B00AK4ADQ2', 'B0064OLJZ6', 'B079TMT6YB', 'B010GG3BBW', 'B01JKXC4JW', 'B00L4N5EB2', 'B06XQ563ZT', 'B0064OM1OE', 'B016C1RJ7C', 'B00AJSYVG2', 'B01K8V8G9C', 'B0064OM180', 'B0064OLK8W', 'B017GIQUZ2']</th>\n      <td>5.0</td>\n    </tr>\n    <tr>\n      <th>['B06WD5MM71', 'B00ES8ORAE', 'B01LWJLH4G', 'B07H16PNTS']</th>\n      <td>5.0</td>\n    </tr>\n    <tr>\n      <th>['B00DOORDNG', 'B01BCXMW7W', 'B07C2F85W4', 'B00S0AOFFI', 'B078J5G7RW', 'B0733WLT2W', 'B00113ZVAO', '1455589276', 'B071NH72NW']</th>\n      <td>5.0</td>\n    </tr>\n    <tr>\n      <th>['B000WS1KEU', 'B001FXZITE', 'B00GWDHRKU', 'B07636CR25', 'B0095FWPZE', 'B005P0REUY', 'B003AYEHSY', 'B003AYEHT8']</th>\n      <td>5.0</td>\n    </tr>\n    <tr>\n      <th>['B00DOKFLYI', 'B003HDJE5O', 'B001O8PRZA', 'B00QFR9X8W', 'B004579W2Q', 'B00HZSKMPS', 'B00UEXKVHA', 'B01MCTAWRO', 'B01BHD9UZ4', 'B079WP5VRG', 'B000VDX6TI', 'B01BHCNQR8', 'B00E1KXG0Q', 'B017QSG3LS', 'B000WSK5N2', 'B00LUXODLS', 'B00IU1T49E', 'B000EDDSE8', 'B00OZYNGUS', 'B00H4H0JXA']</th>\n      <td>5.0</td>\n    </tr>\n    <tr>\n      <th>...</th>\n      <td>...</td>\n    </tr>\n    <tr>\n      <th>['B000LKVSDM', 'B003VYH8AM']</th>\n      <td>1.2</td>\n    </tr>\n    <tr>\n      <th>['B074Q3CH6C', 'B000I07O10', 'B000CBEP9O', 'B00750E0X6', 'B0756FGPTF', 'B001V7P00G', 'B014GGH1AK', 'B07B4W2S8J', 'B075F87YJC', 'B0178CWDG6', 'B0057QMXRK', 'B0155QF4UO', 'B07F3GR5YN', 'B0016K91VW', 'B01M1DXIMK', 'B01A99GERO', 'B01DMZYWTY', 'B01M4RLHGW', 'B002MFKQQO', 'B007VHKFXW']</th>\n      <td>1.0</td>\n    </tr>\n    <tr>\n      <th>['B00MPC4PCU', 'B01AP9E3W6', 'B008VUKZ9M', 'B00PFY0J4S', 'B000WG7HI0', 'B009F5AHNG', 'B07F7STZ1T', 'B01LY7KHQE', 'B07GL7MSKT', 'B003CEBBEA']</th>\n      <td>1.0</td>\n    </tr>\n    <tr>\n      <th>['B007QVJ8PE', 'B0015844LM']</th>\n      <td>1.0</td>\n    </tr>\n    <tr>\n      <th>['B01M22URBN', 'B00DT39IH6']</th>\n      <td>1.0</td>\n    </tr>\n  </tbody>\n</table>\n<p>21871 rows × 1 columns</p>\n</div>"
     },
     "metadata": {},
     "output_type": "display_data"
    },
    {
     "data": {
      "text/plain": "                            overall\nmain_cat                           \nCell Phones & Accessories  4.800000\nMusical Instruments        4.625000\nIndustrial & Scientific    4.555371\nHome Audio & Theater       4.545455\nSports & Outdoors          4.482058\nToys & Games               4.476804\nOffice Products            4.456627\nCamera & Photo             4.444444\nGrocery                    4.439099\nHealth & Personal Care     4.438945\nAmazon Home                4.438481\nAll Beauty                 4.393612\nBaby                       4.219512\nArts, Crafts & Sewing      4.125000\nPet Supplies               4.024540\nTools & Home Improvement   4.013699\nSoftware                   3.800000",
      "text/html": "<div>\n<style scoped>\n    .dataframe tbody tr th:only-of-type {\n        vertical-align: middle;\n    }\n\n    .dataframe tbody tr th {\n        vertical-align: top;\n    }\n\n    .dataframe thead th {\n        text-align: right;\n    }\n</style>\n<table border=\"1\" class=\"dataframe\">\n  <thead>\n    <tr style=\"text-align: right;\">\n      <th></th>\n      <th>overall</th>\n    </tr>\n    <tr>\n      <th>main_cat</th>\n      <th></th>\n    </tr>\n  </thead>\n  <tbody>\n    <tr>\n      <th>Cell Phones &amp; Accessories</th>\n      <td>4.800000</td>\n    </tr>\n    <tr>\n      <th>Musical Instruments</th>\n      <td>4.625000</td>\n    </tr>\n    <tr>\n      <th>Industrial &amp; Scientific</th>\n      <td>4.555371</td>\n    </tr>\n    <tr>\n      <th>Home Audio &amp; Theater</th>\n      <td>4.545455</td>\n    </tr>\n    <tr>\n      <th>Sports &amp; Outdoors</th>\n      <td>4.482058</td>\n    </tr>\n    <tr>\n      <th>Toys &amp; Games</th>\n      <td>4.476804</td>\n    </tr>\n    <tr>\n      <th>Office Products</th>\n      <td>4.456627</td>\n    </tr>\n    <tr>\n      <th>Camera &amp; Photo</th>\n      <td>4.444444</td>\n    </tr>\n    <tr>\n      <th>Grocery</th>\n      <td>4.439099</td>\n    </tr>\n    <tr>\n      <th>Health &amp; Personal Care</th>\n      <td>4.438945</td>\n    </tr>\n    <tr>\n      <th>Amazon Home</th>\n      <td>4.438481</td>\n    </tr>\n    <tr>\n      <th>All Beauty</th>\n      <td>4.393612</td>\n    </tr>\n    <tr>\n      <th>Baby</th>\n      <td>4.219512</td>\n    </tr>\n    <tr>\n      <th>Arts, Crafts &amp; Sewing</th>\n      <td>4.125000</td>\n    </tr>\n    <tr>\n      <th>Pet Supplies</th>\n      <td>4.024540</td>\n    </tr>\n    <tr>\n      <th>Tools &amp; Home Improvement</th>\n      <td>4.013699</td>\n    </tr>\n    <tr>\n      <th>Software</th>\n      <td>3.800000</td>\n    </tr>\n  </tbody>\n</table>\n</div>"
     },
     "metadata": {},
     "output_type": "display_data"
    },
    {
     "data": {
      "text/plain": "         overall\nprice           \n38.69   5.000000\n74.73   5.000000\n50.49   5.000000\n50.55   5.000000\n73.60   5.000000\n...          ...\n82.49   2.250000\n24.34   2.200000\n7.11    2.174757\n40.15   1.400000\n275.00  1.000000\n\n[4529 rows x 1 columns]",
      "text/html": "<div>\n<style scoped>\n    .dataframe tbody tr th:only-of-type {\n        vertical-align: middle;\n    }\n\n    .dataframe tbody tr th {\n        vertical-align: top;\n    }\n\n    .dataframe thead th {\n        text-align: right;\n    }\n</style>\n<table border=\"1\" class=\"dataframe\">\n  <thead>\n    <tr style=\"text-align: right;\">\n      <th></th>\n      <th>overall</th>\n    </tr>\n    <tr>\n      <th>price</th>\n      <th></th>\n    </tr>\n  </thead>\n  <tbody>\n    <tr>\n      <th>38.69</th>\n      <td>5.000000</td>\n    </tr>\n    <tr>\n      <th>74.73</th>\n      <td>5.000000</td>\n    </tr>\n    <tr>\n      <th>50.49</th>\n      <td>5.000000</td>\n    </tr>\n    <tr>\n      <th>50.55</th>\n      <td>5.000000</td>\n    </tr>\n    <tr>\n      <th>73.60</th>\n      <td>5.000000</td>\n    </tr>\n    <tr>\n      <th>...</th>\n      <td>...</td>\n    </tr>\n    <tr>\n      <th>82.49</th>\n      <td>2.250000</td>\n    </tr>\n    <tr>\n      <th>24.34</th>\n      <td>2.200000</td>\n    </tr>\n    <tr>\n      <th>7.11</th>\n      <td>2.174757</td>\n    </tr>\n    <tr>\n      <th>40.15</th>\n      <td>1.400000</td>\n    </tr>\n    <tr>\n      <th>275.00</th>\n      <td>1.000000</td>\n    </tr>\n  </tbody>\n</table>\n<p>4529 rows × 1 columns</p>\n</div>"
     },
     "metadata": {},
     "output_type": "display_data"
    },
    {
     "data": {
      "text/plain": "            overall\nasin               \nB00F1MULHO      5.0\nB00T4G1LVI      5.0\nB006JY0SZI      5.0\nB0019LRHBE      5.0\nB0019LVGHA      5.0\n...             ...\nB004TJF39G      1.2\nB001684NJO      1.0\nB0014AJV82      1.0\nB000ZB3CRC      1.0\nB000WW6VZO      1.0\n\n[41280 rows x 1 columns]",
      "text/html": "<div>\n<style scoped>\n    .dataframe tbody tr th:only-of-type {\n        vertical-align: middle;\n    }\n\n    .dataframe tbody tr th {\n        vertical-align: top;\n    }\n\n    .dataframe thead th {\n        text-align: right;\n    }\n</style>\n<table border=\"1\" class=\"dataframe\">\n  <thead>\n    <tr style=\"text-align: right;\">\n      <th></th>\n      <th>overall</th>\n    </tr>\n    <tr>\n      <th>asin</th>\n      <th></th>\n    </tr>\n  </thead>\n  <tbody>\n    <tr>\n      <th>B00F1MULHO</th>\n      <td>5.0</td>\n    </tr>\n    <tr>\n      <th>B00T4G1LVI</th>\n      <td>5.0</td>\n    </tr>\n    <tr>\n      <th>B006JY0SZI</th>\n      <td>5.0</td>\n    </tr>\n    <tr>\n      <th>B0019LRHBE</th>\n      <td>5.0</td>\n    </tr>\n    <tr>\n      <th>B0019LVGHA</th>\n      <td>5.0</td>\n    </tr>\n    <tr>\n      <th>...</th>\n      <td>...</td>\n    </tr>\n    <tr>\n      <th>B004TJF39G</th>\n      <td>1.2</td>\n    </tr>\n    <tr>\n      <th>B001684NJO</th>\n      <td>1.0</td>\n    </tr>\n    <tr>\n      <th>B0014AJV82</th>\n      <td>1.0</td>\n    </tr>\n    <tr>\n      <th>B000ZB3CRC</th>\n      <td>1.0</td>\n    </tr>\n    <tr>\n      <th>B000WW6VZO</th>\n      <td>1.0</td>\n    </tr>\n  </tbody>\n</table>\n<p>41280 rows × 1 columns</p>\n</div>"
     },
     "metadata": {},
     "output_type": "display_data"
    },
    {
     "data": {
      "text/plain": "           overall\nverified          \nTrue      4.477156\nFalse     4.186545",
      "text/html": "<div>\n<style scoped>\n    .dataframe tbody tr th:only-of-type {\n        vertical-align: middle;\n    }\n\n    .dataframe tbody tr th {\n        vertical-align: top;\n    }\n\n    .dataframe thead th {\n        text-align: right;\n    }\n</style>\n<table border=\"1\" class=\"dataframe\">\n  <thead>\n    <tr style=\"text-align: right;\">\n      <th></th>\n      <th>overall</th>\n    </tr>\n    <tr>\n      <th>verified</th>\n      <th></th>\n    </tr>\n  </thead>\n  <tbody>\n    <tr>\n      <th>True</th>\n      <td>4.477156</td>\n    </tr>\n    <tr>\n      <th>False</th>\n      <td>4.186545</td>\n    </tr>\n  </tbody>\n</table>\n</div>"
     },
     "metadata": {},
     "output_type": "display_data"
    },
    {
     "data": {
      "text/plain": "                overall\nreviewerID             \nA5XC3V39AEW6B       5.0\nA27M44ZH1I7K97      5.0\nA27LKFG857KLKH      5.0\nANSIFHFV7O9TU       5.0\nA27LL2F4GCSHC3      5.0\n...                 ...\nA35ZBAPI1561RK      1.0\nA1CH5GVACDJRPJ      1.0\nA2VROW0VO43R0O      1.0\nA2JI85I10FZ1O9      1.0\nAOH98G0OZAOK8       1.0\n\n[127496 rows x 1 columns]",
      "text/html": "<div>\n<style scoped>\n    .dataframe tbody tr th:only-of-type {\n        vertical-align: middle;\n    }\n\n    .dataframe tbody tr th {\n        vertical-align: top;\n    }\n\n    .dataframe thead th {\n        text-align: right;\n    }\n</style>\n<table border=\"1\" class=\"dataframe\">\n  <thead>\n    <tr style=\"text-align: right;\">\n      <th></th>\n      <th>overall</th>\n    </tr>\n    <tr>\n      <th>reviewerID</th>\n      <th></th>\n    </tr>\n  </thead>\n  <tbody>\n    <tr>\n      <th>A5XC3V39AEW6B</th>\n      <td>5.0</td>\n    </tr>\n    <tr>\n      <th>A27M44ZH1I7K97</th>\n      <td>5.0</td>\n    </tr>\n    <tr>\n      <th>A27LKFG857KLKH</th>\n      <td>5.0</td>\n    </tr>\n    <tr>\n      <th>ANSIFHFV7O9TU</th>\n      <td>5.0</td>\n    </tr>\n    <tr>\n      <th>A27LL2F4GCSHC3</th>\n      <td>5.0</td>\n    </tr>\n    <tr>\n      <th>...</th>\n      <td>...</td>\n    </tr>\n    <tr>\n      <th>A35ZBAPI1561RK</th>\n      <td>1.0</td>\n    </tr>\n    <tr>\n      <th>A1CH5GVACDJRPJ</th>\n      <td>1.0</td>\n    </tr>\n    <tr>\n      <th>A2VROW0VO43R0O</th>\n      <td>1.0</td>\n    </tr>\n    <tr>\n      <th>A2JI85I10FZ1O9</th>\n      <td>1.0</td>\n    </tr>\n    <tr>\n      <th>AOH98G0OZAOK8</th>\n      <td>1.0</td>\n    </tr>\n  </tbody>\n</table>\n<p>127496 rows × 1 columns</p>\n</div>"
     },
     "metadata": {},
     "output_type": "display_data"
    },
    {
     "data": {
      "text/plain": "       overall\nvote          \n170.0      5.0\n269.0      5.0\n213.0      5.0\n214.0      5.0\n218.0      5.0\n...        ...\n428.0      1.0\n416.0      1.0\n385.0      1.0\n382.0      1.0\n414.0      1.0\n\n[333 rows x 1 columns]",
      "text/html": "<div>\n<style scoped>\n    .dataframe tbody tr th:only-of-type {\n        vertical-align: middle;\n    }\n\n    .dataframe tbody tr th {\n        vertical-align: top;\n    }\n\n    .dataframe thead th {\n        text-align: right;\n    }\n</style>\n<table border=\"1\" class=\"dataframe\">\n  <thead>\n    <tr style=\"text-align: right;\">\n      <th></th>\n      <th>overall</th>\n    </tr>\n    <tr>\n      <th>vote</th>\n      <th></th>\n    </tr>\n  </thead>\n  <tbody>\n    <tr>\n      <th>170.0</th>\n      <td>5.0</td>\n    </tr>\n    <tr>\n      <th>269.0</th>\n      <td>5.0</td>\n    </tr>\n    <tr>\n      <th>213.0</th>\n      <td>5.0</td>\n    </tr>\n    <tr>\n      <th>214.0</th>\n      <td>5.0</td>\n    </tr>\n    <tr>\n      <th>218.0</th>\n      <td>5.0</td>\n    </tr>\n    <tr>\n      <th>...</th>\n      <td>...</td>\n    </tr>\n    <tr>\n      <th>428.0</th>\n      <td>1.0</td>\n    </tr>\n    <tr>\n      <th>416.0</th>\n      <td>1.0</td>\n    </tr>\n    <tr>\n      <th>385.0</th>\n      <td>1.0</td>\n    </tr>\n    <tr>\n      <th>382.0</th>\n      <td>1.0</td>\n    </tr>\n    <tr>\n      <th>414.0</th>\n      <td>1.0</td>\n    </tr>\n  </tbody>\n</table>\n<p>333 rows × 1 columns</p>\n</div>"
     },
     "metadata": {},
     "output_type": "display_data"
    },
    {
     "data": {
      "text/plain": "                                                    overall\nstyle                                                      \n{'Size:': ' 7 Servings/ Box', 'Flavor:': ' Lemon'}      5.0\n{'Size:': ' 1 lb Slivered Almond'}                      5.0\n{'Size:': ' 4.5-oz. Bag (Pack of 6)', 'Flavor:'...      5.0\n{'Size:': ' 8 Ounce (Pack of 12)', 'Flavor:': '...      5.0\n{'Size:': ' 4.5-oz. Bag (Pack of 6)', 'Flavor:'...      5.0\n...                                                     ...\n{'Size:': ' 6 pack', 'Flavor:': ' Papaya'}              1.0\n{'Size:': ' Pack of 3', 'Flavor:': ' Organic'}          1.0\n{'Flavor:': ' Tenessee Braspberry Tea'}                 1.0\n{'Flavor:': ' Teriyaki Turkey'}                         1.0\n{'Size:': ' 25.4 Ounce', 'Flavor:': ' Peppermint'}      1.0\n\n[27490 rows x 1 columns]",
      "text/html": "<div>\n<style scoped>\n    .dataframe tbody tr th:only-of-type {\n        vertical-align: middle;\n    }\n\n    .dataframe tbody tr th {\n        vertical-align: top;\n    }\n\n    .dataframe thead th {\n        text-align: right;\n    }\n</style>\n<table border=\"1\" class=\"dataframe\">\n  <thead>\n    <tr style=\"text-align: right;\">\n      <th></th>\n      <th>overall</th>\n    </tr>\n    <tr>\n      <th>style</th>\n      <th></th>\n    </tr>\n  </thead>\n  <tbody>\n    <tr>\n      <th>{'Size:': ' 7 Servings/ Box', 'Flavor:': ' Lemon'}</th>\n      <td>5.0</td>\n    </tr>\n    <tr>\n      <th>{'Size:': ' 1 lb Slivered Almond'}</th>\n      <td>5.0</td>\n    </tr>\n    <tr>\n      <th>{'Size:': ' 4.5-oz. Bag (Pack of 6)', 'Flavor:': ' Dark Chocolate'}</th>\n      <td>5.0</td>\n    </tr>\n    <tr>\n      <th>{'Size:': ' 8 Ounce (Pack of 12)', 'Flavor:': ' Ranch'}</th>\n      <td>5.0</td>\n    </tr>\n    <tr>\n      <th>{'Size:': ' 4.5-oz. Bag (Pack of 6)', 'Flavor:': ' Milk Chocolate'}</th>\n      <td>5.0</td>\n    </tr>\n    <tr>\n      <th>...</th>\n      <td>...</td>\n    </tr>\n    <tr>\n      <th>{'Size:': ' 6 pack', 'Flavor:': ' Papaya'}</th>\n      <td>1.0</td>\n    </tr>\n    <tr>\n      <th>{'Size:': ' Pack of 3', 'Flavor:': ' Organic'}</th>\n      <td>1.0</td>\n    </tr>\n    <tr>\n      <th>{'Flavor:': ' Tenessee Braspberry Tea'}</th>\n      <td>1.0</td>\n    </tr>\n    <tr>\n      <th>{'Flavor:': ' Teriyaki Turkey'}</th>\n      <td>1.0</td>\n    </tr>\n    <tr>\n      <th>{'Size:': ' 25.4 Ounce', 'Flavor:': ' Peppermint'}</th>\n      <td>1.0</td>\n    </tr>\n  </tbody>\n</table>\n<p>27490 rows × 1 columns</p>\n</div>"
     },
     "metadata": {},
     "output_type": "display_data"
    }
   ],
   "source": [
    "non_target_features = df.columns.drop('overall')\n",
    "for feature in non_target_features:\n",
    "    overall_grouping_avg = df.groupby(feature)[['overall']].mean()\n",
    "    display(overall_grouping_avg.sort_values('overall', ascending=False))"
   ],
   "metadata": {
    "collapsed": false,
    "pycharm": {
     "name": "#%%\n"
    }
   }
  },
  {
   "cell_type": "markdown",
   "source": [
    "The above also shows that most of the features have at least some distribution of the product's rating. \n",
    "The main exception is the verified boolean."
   ],
   "metadata": {
    "collapsed": false,
    "pycharm": {
     "name": "#%% md\n"
    }
   }
  },
  {
   "cell_type": "code",
   "execution_count": 22,
   "outputs": [
    {
     "name": "stdout",
     "output_type": "stream",
     "text": [
      "<class 'pandas.core.frame.DataFrame'>\n",
      "RangeIndex: 1083170 entries, 0 to 1083169\n",
      "Data columns (total 14 columns):\n",
      " #   Column      Non-Null Count    Dtype  \n",
      "---  ------      --------------    -----  \n",
      " 0   category    1083170 non-null  object \n",
      " 1   title       1083170 non-null  object \n",
      " 2   also_buy    926546 non-null   object \n",
      " 3   brand       1075197 non-null  object \n",
      " 4   rank        1039163 non-null  object \n",
      " 5   also_view   577060 non-null   object \n",
      " 6   main_cat    1081896 non-null  object \n",
      " 7   price       750231 non-null   float64\n",
      " 8   asin        1083170 non-null  object \n",
      " 9   overall     1083170 non-null  float64\n",
      " 10  verified    1083170 non-null  bool   \n",
      " 11  reviewerID  1083170 non-null  object \n",
      " 12  vote        149247 non-null   float64\n",
      " 13  style       559212 non-null   object \n",
      "dtypes: bool(1), float64(3), object(10)\n",
      "memory usage: 108.5+ MB\n"
     ]
    }
   ],
   "source": [
    "df.info()"
   ],
   "metadata": {
    "collapsed": false,
    "pycharm": {
     "name": "#%%\n"
    }
   }
  },
  {
   "cell_type": "markdown",
   "source": [
    "Usually, would add default values for nulls in several of the columns either here, or earlier in the process.\n",
    "However, for the recommendation systems it is expected that a significant amount of the data could be null.\n",
    "Therefore, leaving this as is for now."
   ],
   "metadata": {
    "collapsed": false,
    "pycharm": {
     "name": "#%% md\n"
    }
   }
  },
  {
   "cell_type": "markdown",
   "source": [
    "## Save Data"
   ],
   "metadata": {
    "collapsed": false
   }
  },
  {
   "cell_type": "code",
   "execution_count": 23,
   "outputs": [],
   "source": [
    "df.to_csv('../Data/eda_data.csv', index=False)"
   ],
   "metadata": {
    "collapsed": false,
    "pycharm": {
     "name": "#%%\n"
    }
   }
  },
  {
   "cell_type": "markdown",
   "source": [
    "## Summary\n",
    "- There are only 3 numeric (overall, price, and vote) and 1 boolean (verified) features in the data set.\n",
    "- All of these are skewed toward one value or range of values.\n",
    "    - Overall ratings are heavily skewed towards 5.\n",
    "    - Both lower values for price and votes are most frequent.\n",
    "    - Majority of reviews are verified.\n",
    "- The majority of the features are categories/objects/text.\n",
    "- Dropped the summary feature because it contained a lot of duplicate data with the target feature of overall rating.\n",
    "- Most of the features have at least some distribution of the product's rating. The main exception is the verified boolean. \n",
    "- There are so many categories it wasn't possible to do one hot encoding because of memory issues.\n",
    "- However, this didn't matter because will use processes designed specifically for recommendation systems to overcome these limitations."
   ],
   "metadata": {
    "collapsed": false
   }
  }
 ],
 "metadata": {
  "kernelspec": {
   "name": "pycharm-cef1f773",
   "language": "python",
   "display_name": "PyCharm (pycon2015_tutorial322)"
  },
  "language_info": {
   "codemirror_mode": {
    "name": "ipython",
    "version": 2
   },
   "file_extension": ".py",
   "mimetype": "text/x-python",
   "name": "python",
   "nbconvert_exporter": "python",
   "pygments_lexer": "ipython2",
   "version": "2.7.6"
  }
 },
 "nbformat": 4,
 "nbformat_minor": 0
}