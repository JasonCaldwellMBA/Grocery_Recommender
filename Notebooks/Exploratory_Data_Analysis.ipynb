{
 "cells": [
  {
   "cell_type": "markdown",
   "metadata": {
    "collapsed": true,
    "pycharm": {
     "name": "#%% md\n"
    }
   },
   "source": [
    "## Imports"
   ]
  },
  {
   "cell_type": "code",
   "execution_count": 1,
   "outputs": [],
   "source": [
    "import pandas as pd\n",
    "import numpy as np\n",
    "import matplotlib.pyplot as plt\n",
    "import seaborn as sns\n",
    "from IPython.core.display import display"
   ],
   "metadata": {
    "collapsed": false,
    "pycharm": {
     "name": "#%%\n"
    }
   }
  },
  {
   "cell_type": "markdown",
   "source": [
    "## Load Data"
   ],
   "metadata": {
    "collapsed": false,
    "pycharm": {
     "name": "#%% md\n"
    }
   }
  },
  {
   "cell_type": "code",
   "execution_count": 2,
   "outputs": [],
   "source": [
    "df = pd.read_csv('../Data/combined_data_cleaned.csv')"
   ],
   "metadata": {
    "collapsed": false,
    "pycharm": {
     "name": "#%%\n"
    }
   }
  },
  {
   "cell_type": "code",
   "execution_count": 3,
   "outputs": [
    {
     "data": {
      "text/plain": "                                            category  \\\n0  ['Grocery & Gourmet Food', 'Beverages', 'Coffe...   \n1  ['Grocery & Gourmet Food', 'Beverages', 'Coffe...   \n\n                                         description  \\\n0  ['Lipton Yellow Label Tea use only the finest ...   \n1  ['Lipton Yellow Label Tea use only the finest ...   \n\n                                        title  \\\n0  Lipton Yellow Label Tea (loose tea) - 450g   \n1  Lipton Yellow Label Tea (loose tea) - 450g   \n\n                                            also_buy   brand  \\\n0  ['B00886E4K0', 'B00CREXSHY', 'B001QTRGAQ', 'B0...  Lipton   \n1  ['B00886E4K0', 'B00CREXSHY', 'B001QTRGAQ', 'B0...  Lipton   \n\n                                 rank  \\\n0  30,937 in Grocery & Gourmet Food (   \n1  30,937 in Grocery & Gourmet Food (   \n\n                                           also_view main_cat  price  \\\n0  ['B00CREXSHY', 'B001QTRGAQ', 'B000JSQK70', 'B0...  Grocery  12.46   \n1  ['B00CREXSHY', 'B001QTRGAQ', 'B000JSQK70', 'B0...  Grocery  12.46   \n\n         asin details  overall  verified      reviewerID  \\\n0  4639725043     NaN      5.0      True  A1J205ZK25TZ6W   \n1  4639725043     NaN      3.0      True   ACOICLIJQYECU   \n\n                                          reviewText  \\\n0  I make the best brewed iced tea with this yell...   \n1  I have recently started drinking hot tea again...   \n\n                     summary  vote style  \n0  Best for brewed iced tea.   8.0   NaN  \n1       Not Bad for iced Tea   9.0   NaN  ",
      "text/html": "<div>\n<style scoped>\n    .dataframe tbody tr th:only-of-type {\n        vertical-align: middle;\n    }\n\n    .dataframe tbody tr th {\n        vertical-align: top;\n    }\n\n    .dataframe thead th {\n        text-align: right;\n    }\n</style>\n<table border=\"1\" class=\"dataframe\">\n  <thead>\n    <tr style=\"text-align: right;\">\n      <th></th>\n      <th>category</th>\n      <th>description</th>\n      <th>title</th>\n      <th>also_buy</th>\n      <th>brand</th>\n      <th>rank</th>\n      <th>also_view</th>\n      <th>main_cat</th>\n      <th>price</th>\n      <th>asin</th>\n      <th>details</th>\n      <th>overall</th>\n      <th>verified</th>\n      <th>reviewerID</th>\n      <th>reviewText</th>\n      <th>summary</th>\n      <th>vote</th>\n      <th>style</th>\n    </tr>\n  </thead>\n  <tbody>\n    <tr>\n      <th>0</th>\n      <td>['Grocery &amp; Gourmet Food', 'Beverages', 'Coffe...</td>\n      <td>['Lipton Yellow Label Tea use only the finest ...</td>\n      <td>Lipton Yellow Label Tea (loose tea) - 450g</td>\n      <td>['B00886E4K0', 'B00CREXSHY', 'B001QTRGAQ', 'B0...</td>\n      <td>Lipton</td>\n      <td>30,937 in Grocery &amp; Gourmet Food (</td>\n      <td>['B00CREXSHY', 'B001QTRGAQ', 'B000JSQK70', 'B0...</td>\n      <td>Grocery</td>\n      <td>12.46</td>\n      <td>4639725043</td>\n      <td>NaN</td>\n      <td>5.0</td>\n      <td>True</td>\n      <td>A1J205ZK25TZ6W</td>\n      <td>I make the best brewed iced tea with this yell...</td>\n      <td>Best for brewed iced tea.</td>\n      <td>8.0</td>\n      <td>NaN</td>\n    </tr>\n    <tr>\n      <th>1</th>\n      <td>['Grocery &amp; Gourmet Food', 'Beverages', 'Coffe...</td>\n      <td>['Lipton Yellow Label Tea use only the finest ...</td>\n      <td>Lipton Yellow Label Tea (loose tea) - 450g</td>\n      <td>['B00886E4K0', 'B00CREXSHY', 'B001QTRGAQ', 'B0...</td>\n      <td>Lipton</td>\n      <td>30,937 in Grocery &amp; Gourmet Food (</td>\n      <td>['B00CREXSHY', 'B001QTRGAQ', 'B000JSQK70', 'B0...</td>\n      <td>Grocery</td>\n      <td>12.46</td>\n      <td>4639725043</td>\n      <td>NaN</td>\n      <td>3.0</td>\n      <td>True</td>\n      <td>ACOICLIJQYECU</td>\n      <td>I have recently started drinking hot tea again...</td>\n      <td>Not Bad for iced Tea</td>\n      <td>9.0</td>\n      <td>NaN</td>\n    </tr>\n  </tbody>\n</table>\n</div>"
     },
     "execution_count": 3,
     "metadata": {},
     "output_type": "execute_result"
    }
   ],
   "source": [
    "df.head(2)"
   ],
   "metadata": {
    "collapsed": false,
    "pycharm": {
     "name": "#%%\n"
    }
   }
  },
  {
   "cell_type": "code",
   "execution_count": 4,
   "outputs": [
    {
     "name": "stdout",
     "output_type": "stream",
     "text": [
      "<class 'pandas.core.frame.DataFrame'>\n",
      "RangeIndex: 1086548 entries, 0 to 1086547\n",
      "Data columns (total 18 columns):\n",
      " #   Column       Non-Null Count    Dtype  \n",
      "---  ------       --------------    -----  \n",
      " 0   category     1086548 non-null  object \n",
      " 1   description  993137 non-null   object \n",
      " 2   title        1086548 non-null  object \n",
      " 3   also_buy     929733 non-null   object \n",
      " 4   brand        1078563 non-null  object \n",
      " 5   rank         1042485 non-null  object \n",
      " 6   also_view    578911 non-null   object \n",
      " 7   main_cat     1085268 non-null  object \n",
      " 8   price        752804 non-null   float64\n",
      " 9   asin         1086548 non-null  object \n",
      " 10  details      1086497 non-null  object \n",
      " 11  overall      1086548 non-null  float64\n",
      " 12  verified     1086548 non-null  bool   \n",
      " 13  reviewerID   1086548 non-null  object \n",
      " 14  reviewText   1086175 non-null  object \n",
      " 15  summary      1086335 non-null  object \n",
      " 16  vote         149486 non-null   float64\n",
      " 17  style        561516 non-null   object \n",
      "dtypes: bool(1), float64(3), object(14)\n",
      "memory usage: 142.0+ MB\n"
     ]
    }
   ],
   "source": [
    "df.info()"
   ],
   "metadata": {
    "collapsed": false,
    "pycharm": {
     "name": "#%%\n"
    }
   }
  },
  {
   "cell_type": "markdown",
   "source": [
    "### Explore Data"
   ],
   "metadata": {
    "collapsed": false,
    "pycharm": {
     "name": "#%% md\n"
    }
   }
  },
  {
   "cell_type": "markdown",
   "source": [
    "#### Numeric Data\n",
    "Overall rating, vote, and price."
   ],
   "metadata": {
    "collapsed": false,
    "pycharm": {
     "name": "#%% md\n"
    }
   }
  },
  {
   "cell_type": "code",
   "execution_count": 5,
   "outputs": [
    {
     "data": {
      "text/plain": "               price       overall           vote\ncount  752804.000000  1.086548e+06  149486.000000\nmean       20.848562  4.439878e+00       6.678405\nstd        17.727955  1.065040e+00      22.087053\nmin         0.010000  1.000000e+00       2.000000\n25%        11.800000  4.000000e+00       2.000000\n50%        16.980000  5.000000e+00       3.000000\n75%        25.990000  5.000000e+00       6.000000\nmax       999.000000  5.000000e+00    2584.000000",
      "text/html": "<div>\n<style scoped>\n    .dataframe tbody tr th:only-of-type {\n        vertical-align: middle;\n    }\n\n    .dataframe tbody tr th {\n        vertical-align: top;\n    }\n\n    .dataframe thead th {\n        text-align: right;\n    }\n</style>\n<table border=\"1\" class=\"dataframe\">\n  <thead>\n    <tr style=\"text-align: right;\">\n      <th></th>\n      <th>price</th>\n      <th>overall</th>\n      <th>vote</th>\n    </tr>\n  </thead>\n  <tbody>\n    <tr>\n      <th>count</th>\n      <td>752804.000000</td>\n      <td>1.086548e+06</td>\n      <td>149486.000000</td>\n    </tr>\n    <tr>\n      <th>mean</th>\n      <td>20.848562</td>\n      <td>4.439878e+00</td>\n      <td>6.678405</td>\n    </tr>\n    <tr>\n      <th>std</th>\n      <td>17.727955</td>\n      <td>1.065040e+00</td>\n      <td>22.087053</td>\n    </tr>\n    <tr>\n      <th>min</th>\n      <td>0.010000</td>\n      <td>1.000000e+00</td>\n      <td>2.000000</td>\n    </tr>\n    <tr>\n      <th>25%</th>\n      <td>11.800000</td>\n      <td>4.000000e+00</td>\n      <td>2.000000</td>\n    </tr>\n    <tr>\n      <th>50%</th>\n      <td>16.980000</td>\n      <td>5.000000e+00</td>\n      <td>3.000000</td>\n    </tr>\n    <tr>\n      <th>75%</th>\n      <td>25.990000</td>\n      <td>5.000000e+00</td>\n      <td>6.000000</td>\n    </tr>\n    <tr>\n      <th>max</th>\n      <td>999.000000</td>\n      <td>5.000000e+00</td>\n      <td>2584.000000</td>\n    </tr>\n  </tbody>\n</table>\n</div>"
     },
     "execution_count": 5,
     "metadata": {},
     "output_type": "execute_result"
    }
   ],
   "source": [
    "df.describe()"
   ],
   "metadata": {
    "collapsed": false,
    "pycharm": {
     "name": "#%%\n"
    }
   }
  },
  {
   "cell_type": "code",
   "execution_count": 6,
   "outputs": [
    {
     "data": {
      "text/plain": "<Figure size 432x288 with 1 Axes>",
      "image/png": "[encoded data removed]"
     },
     "metadata": {
      "needs_background": "light"
     },
     "output_type": "display_data"
    }
   ],
   "source": [
    "# overall rating\n",
    "labels, counts = np.unique(df.overall, return_counts=True)\n",
    "plt.bar(labels, counts, align='center')\n",
    "plt.xlabel('Rating')\n",
    "plt.ylabel('Count')\n",
    "plt.show()"
   ],
   "metadata": {
    "collapsed": false,
    "pycharm": {
     "name": "#%%\n"
    }
   }
  },
  {
   "cell_type": "markdown",
   "source": [
    "The data is heavily skewed towards 5-star reviews."
   ],
   "metadata": {
    "collapsed": false,
    "pycharm": {
     "name": "#%% md\n"
    }
   }
  },
  {
   "cell_type": "code",
   "execution_count": 7,
   "outputs": [
    {
     "data": {
      "text/plain": "                                                 category  \\\n659028  ['Grocery & Gourmet Food', 'Produce', 'Dried F...   \n659055  ['Grocery & Gourmet Food', 'Produce', 'Dried F...   \n\n                                              description  \\\n659028  ['4 lbs bags of premium dried Mediterranean ap...   \n659055  ['4 lbs bags of premium dried Mediterranean ap...   \n\n                                                    title also_buy  \\\n659028  Dried Mediterranean Apricots 4 Lbs (in 4 - 16 ...      NaN   \n659055  Dried Mediterranean Apricots 4 Lbs (in 4 - 16 ...      NaN   \n\n                     brand                                 rank  \\\n659028  Golden State Fruit  237,476 in Grocery & Gourmet Food (   \n659055  Golden State Fruit  237,476 in Grocery & Gourmet Food (   \n\n                           also_view main_cat  price        asin  \\\n659028  ['B077JGYNCY', 'B00DQV4DF8']  Grocery  999.0  B00AJ3OSMO   \n659055  ['B077JGYNCY', 'B00DQV4DF8']  Grocery  999.0  B00AJ3OSMO   \n\n                                                  details  overall  verified  \\\n659028  {'\\n    Product Dimensions: \\n    ': '10 x 4 x...      5.0      True   \n659055  {'\\n    Product Dimensions: \\n    ': '10 x 4 x...      4.0      True   \n\n            reviewerID                                         reviewText  \\\n659028  A1JH2B5871KG4X  I was somewhat hesitant to order 4 pounds of d...   \n659055  A107CTGSINY3GJ  Only negative is the sulphur dioxide to preser...   \n\n                summary  vote style  \n659028  Moist and Tasty   NaN   NaN  \n659055      Tastes good   NaN   NaN  ",
      "text/html": "<div>\n<style scoped>\n    .dataframe tbody tr th:only-of-type {\n        vertical-align: middle;\n    }\n\n    .dataframe tbody tr th {\n        vertical-align: top;\n    }\n\n    .dataframe thead th {\n        text-align: right;\n    }\n</style>\n<table border=\"1\" class=\"dataframe\">\n  <thead>\n    <tr style=\"text-align: right;\">\n      <th></th>\n      <th>category</th>\n      <th>description</th>\n      <th>title</th>\n      <th>also_buy</th>\n      <th>brand</th>\n      <th>rank</th>\n      <th>also_view</th>\n      <th>main_cat</th>\n      <th>price</th>\n      <th>asin</th>\n      <th>details</th>\n      <th>overall</th>\n      <th>verified</th>\n      <th>reviewerID</th>\n      <th>reviewText</th>\n      <th>summary</th>\n      <th>vote</th>\n      <th>style</th>\n    </tr>\n  </thead>\n  <tbody>\n    <tr>\n      <th>659028</th>\n      <td>['Grocery &amp; Gourmet Food', 'Produce', 'Dried F...</td>\n      <td>['4 lbs bags of premium dried Mediterranean ap...</td>\n      <td>Dried Mediterranean Apricots 4 Lbs (in 4 - 16 ...</td>\n      <td>NaN</td>\n      <td>Golden State Fruit</td>\n      <td>237,476 in Grocery &amp; Gourmet Food (</td>\n      <td>['B077JGYNCY', 'B00DQV4DF8']</td>\n      <td>Grocery</td>\n      <td>999.0</td>\n      <td>B00AJ3OSMO</td>\n      <td>{'\\n    Product Dimensions: \\n    ': '10 x 4 x...</td>\n      <td>5.0</td>\n      <td>True</td>\n      <td>A1JH2B5871KG4X</td>\n      <td>I was somewhat hesitant to order 4 pounds of d...</td>\n      <td>Moist and Tasty</td>\n      <td>NaN</td>\n      <td>NaN</td>\n    </tr>\n    <tr>\n      <th>659055</th>\n      <td>['Grocery &amp; Gourmet Food', 'Produce', 'Dried F...</td>\n      <td>['4 lbs bags of premium dried Mediterranean ap...</td>\n      <td>Dried Mediterranean Apricots 4 Lbs (in 4 - 16 ...</td>\n      <td>NaN</td>\n      <td>Golden State Fruit</td>\n      <td>237,476 in Grocery &amp; Gourmet Food (</td>\n      <td>['B077JGYNCY', 'B00DQV4DF8']</td>\n      <td>Grocery</td>\n      <td>999.0</td>\n      <td>B00AJ3OSMO</td>\n      <td>{'\\n    Product Dimensions: \\n    ': '10 x 4 x...</td>\n      <td>4.0</td>\n      <td>True</td>\n      <td>A107CTGSINY3GJ</td>\n      <td>Only negative is the sulphur dioxide to preser...</td>\n      <td>Tastes good</td>\n      <td>NaN</td>\n      <td>NaN</td>\n    </tr>\n  </tbody>\n</table>\n</div>"
     },
     "execution_count": 7,
     "metadata": {},
     "output_type": "execute_result"
    }
   ],
   "source": [
    "# Some of the prices appear to be pretty high for groceries; but apparently valid.\n",
    "df[df['price'] > 950].sort_values('price', ascending=False).head(2)"
   ],
   "metadata": {
    "collapsed": false,
    "pycharm": {
     "name": "#%%\n"
    }
   }
  },
  {
   "cell_type": "code",
   "execution_count": 8,
   "outputs": [
    {
     "data": {
      "text/plain": "                               price        \n                                mean   count\nmain_cat                                    \nAll Beauty                 13.371246    1557\nAmazon Home                14.703652    6728\nArts, Crafts & Sewing      15.078947      19\nBaby                        8.362963      27\nCamera & Photo                   NaN       0\nCell Phones & Accessories        NaN       0\nGrocery                    21.025737  707856\nHealth & Personal Care     18.876538   32295\nHome Audio & Theater             NaN       0\nIndustrial & Scientific    27.408998    1138\nMusical Instruments              NaN       0\nOffice Products            18.746206     572\nPet Supplies               24.500280     143\nSoftware                         NaN       0\nSports & Outdoors          14.078095    1197\nTools & Home Improvement   27.470938      32\nToys & Games               11.267556     311",
      "text/html": "<div>\n<style scoped>\n    .dataframe tbody tr th:only-of-type {\n        vertical-align: middle;\n    }\n\n    .dataframe tbody tr th {\n        vertical-align: top;\n    }\n\n    .dataframe thead tr th {\n        text-align: left;\n    }\n\n    .dataframe thead tr:last-of-type th {\n        text-align: right;\n    }\n</style>\n<table border=\"1\" class=\"dataframe\">\n  <thead>\n    <tr>\n      <th></th>\n      <th colspan=\"2\" halign=\"left\">price</th>\n    </tr>\n    <tr>\n      <th></th>\n      <th>mean</th>\n      <th>count</th>\n    </tr>\n    <tr>\n      <th>main_cat</th>\n      <th></th>\n      <th></th>\n    </tr>\n  </thead>\n  <tbody>\n    <tr>\n      <th>All Beauty</th>\n      <td>13.371246</td>\n      <td>1557</td>\n    </tr>\n    <tr>\n      <th>Amazon Home</th>\n      <td>14.703652</td>\n      <td>6728</td>\n    </tr>\n    <tr>\n      <th>Arts, Crafts &amp; Sewing</th>\n      <td>15.078947</td>\n      <td>19</td>\n    </tr>\n    <tr>\n      <th>Baby</th>\n      <td>8.362963</td>\n      <td>27</td>\n    </tr>\n    <tr>\n      <th>Camera &amp; Photo</th>\n      <td>NaN</td>\n      <td>0</td>\n    </tr>\n    <tr>\n      <th>Cell Phones &amp; Accessories</th>\n      <td>NaN</td>\n      <td>0</td>\n    </tr>\n    <tr>\n      <th>Grocery</th>\n      <td>21.025737</td>\n      <td>707856</td>\n    </tr>\n    <tr>\n      <th>Health &amp; Personal Care</th>\n      <td>18.876538</td>\n      <td>32295</td>\n    </tr>\n    <tr>\n      <th>Home Audio &amp; Theater</th>\n      <td>NaN</td>\n      <td>0</td>\n    </tr>\n    <tr>\n      <th>Industrial &amp; Scientific</th>\n      <td>27.408998</td>\n      <td>1138</td>\n    </tr>\n    <tr>\n      <th>Musical Instruments</th>\n      <td>NaN</td>\n      <td>0</td>\n    </tr>\n    <tr>\n      <th>Office Products</th>\n      <td>18.746206</td>\n      <td>572</td>\n    </tr>\n    <tr>\n      <th>Pet Supplies</th>\n      <td>24.500280</td>\n      <td>143</td>\n    </tr>\n    <tr>\n      <th>Software</th>\n      <td>NaN</td>\n      <td>0</td>\n    </tr>\n    <tr>\n      <th>Sports &amp; Outdoors</th>\n      <td>14.078095</td>\n      <td>1197</td>\n    </tr>\n    <tr>\n      <th>Tools &amp; Home Improvement</th>\n      <td>27.470938</td>\n      <td>32</td>\n    </tr>\n    <tr>\n      <th>Toys &amp; Games</th>\n      <td>11.267556</td>\n      <td>311</td>\n    </tr>\n  </tbody>\n</table>\n</div>"
     },
     "execution_count": 8,
     "metadata": {},
     "output_type": "execute_result"
    }
   ],
   "source": [
    "df.groupby('main_cat')[['price']].agg(['mean', 'count'])"
   ],
   "metadata": {
    "collapsed": false,
    "pycharm": {
     "name": "#%%\n"
    }
   }
  },
  {
   "cell_type": "code",
   "execution_count": 9,
   "outputs": [
    {
     "data": {
      "text/plain": "<Figure size 432x288 with 1 Axes>",
      "image/png": "[encoded data removed]"
     },
     "metadata": {
      "needs_background": "light"
     },
     "output_type": "display_data"
    }
   ],
   "source": [
    "# Recommendation system may get skewed using price because of the non normal distribution.\n",
    "df.price.hist(bins=30)\n",
    "plt.xlabel('Prices')\n",
    "plt.ylabel('Item Count')\n",
    "plt.title('Distribution of prices')\n",
    "plt.show()"
   ],
   "metadata": {
    "collapsed": false,
    "pycharm": {
     "name": "#%%\n"
    }
   }
  },
  {
   "cell_type": "code",
   "execution_count": 10,
   "outputs": [
    {
     "data": {
      "text/plain": "count    750662.000000\nmean         20.365498\nstd          12.618823\nmin           0.010000\n25%          11.770000\n50%          16.980000\n75%          25.990000\nmax          99.990000\nName: price, dtype: float64"
     },
     "execution_count": 10,
     "metadata": {},
     "output_type": "execute_result"
    }
   ],
   "source": [
    "# Very skewed. May need to narrow the price range in the future.\n",
    "df.price[df['price'] < 100].describe()"
   ],
   "metadata": {
    "collapsed": false,
    "pycharm": {
     "name": "#%%\n"
    }
   }
  },
  {
   "cell_type": "code",
   "execution_count": 11,
   "outputs": [
    {
     "data": {
      "text/plain": "<AxesSubplot:>"
     },
     "execution_count": 11,
     "metadata": {},
     "output_type": "execute_result"
    },
    {
     "data": {
      "text/plain": "<Figure size 432x288 with 1 Axes>",
      "image/png": "[encoded data removed]"
     },
     "metadata": {
      "needs_background": "light"
     },
     "output_type": "display_data"
    }
   ],
   "source": [
    "df.price[df['price'] < 100].hist(bins=30)"
   ],
   "metadata": {
    "collapsed": false,
    "pycharm": {
     "name": "#%%\n"
    }
   }
  },
  {
   "cell_type": "code",
   "execution_count": 12,
   "outputs": [
    {
     "data": {
      "text/plain": "<Figure size 432x288 with 1 Axes>",
      "image/png": "[encoded data removed]"
     },
     "metadata": {
      "needs_background": "light"
     },
     "output_type": "display_data"
    }
   ],
   "source": [
    "# vote has a wide standard deviation and is also highly skewed.\n",
    "df.vote.hist(bins=30)\n",
    "plt.xlabel('Votes')\n",
    "plt.ylabel('Item Count')\n",
    "plt.title('Distribution of votes')\n",
    "plt.show()"
   ],
   "metadata": {
    "collapsed": false,
    "pycharm": {
     "name": "#%%\n"
    }
   }
  },
  {
   "cell_type": "code",
   "execution_count": 13,
   "outputs": [
    {
     "data": {
      "text/plain": "<AxesSubplot:>"
     },
     "execution_count": 13,
     "metadata": {},
     "output_type": "execute_result"
    },
    {
     "data": {
      "text/plain": "<Figure size 432x288 with 1 Axes>",
      "image/png": "[encoded data removed]"
     },
     "metadata": {
      "needs_background": "light"
     },
     "output_type": "display_data"
    }
   ],
   "source": [
    "df.vote[df['vote'] < 25].hist(bins=30)"
   ],
   "metadata": {
    "collapsed": false,
    "pycharm": {
     "name": "#%%\n"
    }
   }
  },
  {
   "cell_type": "markdown",
   "source": [
    "#### Boolean Data"
   ],
   "metadata": {
    "collapsed": false
   }
  },
  {
   "cell_type": "code",
   "execution_count": 14,
   "outputs": [
    {
     "data": {
      "text/plain": "<Figure size 432x288 with 1 Axes>",
      "image/png": "[encoded data removed]"
     },
     "metadata": {
      "needs_background": "light"
     },
     "output_type": "display_data"
    }
   ],
   "source": [
    "labels, counts = np.unique(df.verified, return_counts=True)\n",
    "plt.bar(labels, counts, align='center')\n",
    "plt.xticks([0, 1])\n",
    "plt.xlabel('Rating')\n",
    "plt.ylabel('Count')\n",
    "plt.show()"
   ],
   "metadata": {
    "collapsed": false,
    "pycharm": {
     "name": "#%%\n"
    }
   }
  },
  {
   "cell_type": "markdown",
   "source": [
    "#### Heat Map\n",
    "None of the features are correlated."
   ],
   "metadata": {
    "collapsed": false,
    "pycharm": {
     "name": "#%% md\n"
    }
   }
  },
  {
   "cell_type": "code",
   "execution_count": 15,
   "outputs": [
    {
     "data": {
      "text/plain": "<Figure size 432x288 with 2 Axes>",
      "image/png": "[encoded data removed]"
     },
     "metadata": {
      "needs_background": "light"
     },
     "output_type": "display_data"
    }
   ],
   "source": [
    "sns.heatmap(round(df.corr(), 2), annot=True)\n",
    "plt.title('Heat Map')\n",
    "plt.show()"
   ],
   "metadata": {
    "collapsed": false,
    "pycharm": {
     "name": "#%%\n"
    }
   }
  },
  {
   "cell_type": "markdown",
   "source": [
    "#### Analyze Categories/Objects"
   ],
   "metadata": {
    "collapsed": false,
    "pycharm": {
     "name": "#%% md\n"
    }
   }
  },
  {
   "cell_type": "code",
   "execution_count": 16,
   "outputs": [
    {
     "data": {
      "text/plain": "       Features  Number of Categories\n0      category                  1107\n1   description                 36532\n2         title                 40969\n3      also_buy                 29115\n4         brand                  8861\n5          rank                 36865\n6     also_view                 21871\n7      main_cat                    17\n8          asin                 41280\n9       details                 40178\n10   reviewerID                127496\n11   reviewText                888161\n12      summary                526687\n13        style                 27539",
      "text/html": "<div>\n<style scoped>\n    .dataframe tbody tr th:only-of-type {\n        vertical-align: middle;\n    }\n\n    .dataframe tbody tr th {\n        vertical-align: top;\n    }\n\n    .dataframe thead th {\n        text-align: right;\n    }\n</style>\n<table border=\"1\" class=\"dataframe\">\n  <thead>\n    <tr style=\"text-align: right;\">\n      <th></th>\n      <th>Features</th>\n      <th>Number of Categories</th>\n    </tr>\n  </thead>\n  <tbody>\n    <tr>\n      <th>0</th>\n      <td>category</td>\n      <td>1107</td>\n    </tr>\n    <tr>\n      <th>1</th>\n      <td>description</td>\n      <td>36532</td>\n    </tr>\n    <tr>\n      <th>2</th>\n      <td>title</td>\n      <td>40969</td>\n    </tr>\n    <tr>\n      <th>3</th>\n      <td>also_buy</td>\n      <td>29115</td>\n    </tr>\n    <tr>\n      <th>4</th>\n      <td>brand</td>\n      <td>8861</td>\n    </tr>\n    <tr>\n      <th>5</th>\n      <td>rank</td>\n      <td>36865</td>\n    </tr>\n    <tr>\n      <th>6</th>\n      <td>also_view</td>\n      <td>21871</td>\n    </tr>\n    <tr>\n      <th>7</th>\n      <td>main_cat</td>\n      <td>17</td>\n    </tr>\n    <tr>\n      <th>8</th>\n      <td>asin</td>\n      <td>41280</td>\n    </tr>\n    <tr>\n      <th>9</th>\n      <td>details</td>\n      <td>40178</td>\n    </tr>\n    <tr>\n      <th>10</th>\n      <td>reviewerID</td>\n      <td>127496</td>\n    </tr>\n    <tr>\n      <th>11</th>\n      <td>reviewText</td>\n      <td>888161</td>\n    </tr>\n    <tr>\n      <th>12</th>\n      <td>summary</td>\n      <td>526687</td>\n    </tr>\n    <tr>\n      <th>13</th>\n      <td>style</td>\n      <td>27539</td>\n    </tr>\n  </tbody>\n</table>\n</div>"
     },
     "execution_count": 16,
     "metadata": {},
     "output_type": "execute_result"
    }
   ],
   "source": [
    "df_objects = df.select_dtypes(include='object')\n",
    "dfo_unique = pd.DataFrame(df_objects.nunique()).reset_index()\n",
    "dfo_unique.columns = ['Features', 'Number of Categories']\n",
    "dfo_unique.sort_values(by='Number of Categories', ascending=False)\n",
    "dfo_unique"
   ],
   "metadata": {
    "collapsed": false,
    "pycharm": {
     "name": "#%%\n"
    }
   }
  },
  {
   "cell_type": "markdown",
   "source": [
    "Except for the main_cat, there are too many unique categories for several traditional types of exploratory data analysis to be helpful.\n",
    "For example, one hot encoding using pd.get_dummies(df) runs into memory errors even when the biggest features are dropped from the analysis.\n",
    "Therefore, in later notebooks will use options created specifically for recommendation systems. "
   ],
   "metadata": {
    "collapsed": false,
    "pycharm": {
     "name": "#%% md\n"
    }
   }
  },
  {
   "cell_type": "code",
   "execution_count": 17,
   "outputs": [
    {
     "name": "stdout",
     "output_type": "stream",
     "text": [
      "Most common category:\n",
      "['Grocery & Gourmet Food', 'Beverages', 'Coffee, Tea & Cocoa', 'Coffee', 'Single-Serve Capsules & Pods']    72518\n",
      "['Grocery & Gourmet Food', 'Beverages', 'Coffee, Tea & Cocoa', 'Tea', 'Green']                              23105\n",
      "['Grocery & Gourmet Food', 'Snack Foods', 'Bars', 'Nut Bars']                                               20554\n",
      "Name: category, dtype: int64\n",
      "\n",
      "Most common description:\n",
      "['These bars are where our journey started and it was simple: whole ingredients like nuts, mixed with fruits and spices bound together with honey.', 'Allergen information: contains peanuts, tree nuts and dairy.<br>May contain nut shell fragments. . This product is labelled to United States standards and may differ from similar products sold elsewhere in its ingredients, labeling and allergen warnings', 'Mixed Nuts (Almonds, Peanuts, Walnuts), Chicory Root Fiber, Honey, Palm Kernel Oil, Sugar, Crisp Rice, Cocoa Powder, Non GMO Glucose, Sea Salt, Soy Lecithin, Milk Powder, Vanilla Extract.', 'Store in a cool dry place.', \"PLEASE NOTE: Product image is representative of the product offered but may not have the exact attributes. Please read product description for the specific attributes of this product. The information above is intended for reference only. While we attempt to keep our information accurate, we cannot guarantee it is an accurate representation of the latest formulation of the product. If you have any concerns, please visit the vendor's web site. The information above are the views of the product's manufacturer. These statements have not been evaluated by the Food and Drug Administration. This product is not intended to diagnose, treat, cure or prevent any disease. ***Due to temperature conditions in the Summer, this product may melt during the shipping process***.\", 'Statements regarding dietary supplements have not been evaluated by the FDA and are not intended to diagnose, treat, cure, or prevent any disease or health condition.']    9892\n",
      "['These bars are where our journey started and it was simple: whole ingredients like nuts, mixed with fruits and spices bound together with honey.', 'Allergen information:<br>Contains peanuts and tree nuts.<br>May contain nut shell fragments.', 'Mixed Nuts (Almonds, Peanuts, Cashews, Walnuts), Honey, Non GMO Glucose, Chicory Root Fiber, Crisp Rice, Madagascar Vanilla, Soy Lecithin.', 'Store in a cool dry place.', \"PLEASE NOTE: Product image is representative of the product offered but may not have the exact attributes. Please read product description for the specific attributes of this product. The information above is intended for reference only. While we attempt to keep our information accurate, we cannot guarantee it is an accurate representation of the latest formulation of the product. If you have any concerns, please visit the vendor's web site. The information above are the views of the product's manufacturer. These statements have not been evaluated by the Food and Drug Administration. This product is not intended to diagnose, treat, cure or prevent any disease. ***Due to temperature conditions in the Summer, this product may melt during the shipping process***.\", 'Statements regarding dietary supplements have not been evaluated by the FDA and are not intended to diagnose, treat, cure, or prevent any disease or health condition.']                                                                                                                                                                                                                      6142\n",
      "['These bars are where our journey started and it was simple: whole ingredients like nuts, mixed with fruits and spices bound together with honey.', 'Allergen information: contains peanuts, tree nuts and dairy.<br>May contain nut shell fragments. . This product is labelled to United States standards and may differ from similar products sold elsewhere in its ingredients, labeling and allergen warnings', 'Mixed Nuts (Almonds, Peanuts, Cashews), Chicory Root Fiber, Palm Kernel Oil, Sugar, Honey, Non GMO Glucose, Crisp Rice, Cocoa Powder, Sea Salt, Cascabel Chili, Ancho Chili, Soy Lecithin, Cinnamon, Whole Milk, Vanilla Extract, Habanero Chili.', 'Store in a cool dry place.', 'Contains tree nuts. May contain nut shell fragments.', 'Statements regarding dietary supplements have not been evaluated by the FDA and are not intended to diagnose, treat, cure, or prevent any disease or health condition.']                                                                                                                                                                                                                                                                                                                                                                                                                                                                                                                                                                                                                                                                                            6135\n",
      "Name: description, dtype: int64\n",
      "\n",
      "Most common title:\n",
      "KIND Bars, Dark Chocolate Nuts &amp; Sea Salt, Gluten Free, 1.4 Ounce Bars, 12 Count    9907\n",
      " Grocery &amp; Gourmet Food\" />                                                         7634\n",
      "Kind Bars, Madagascar Vanilla Almond, Gluten Free, Low Sugar, 1.4oz                     6142\n",
      "Name: title, dtype: int64\n",
      "\n",
      "Most common also_buy:\n",
      "['B003TNANSO', 'B003TMZQC8', 'B00IZF0LCE', 'B003TN6FSG', 'B007PE7AV6', 'B00FBCZCWS', 'B00IZF0P98', 'B019EGM8G4', 'B00D3M2QP4', 'B019EGM90O', 'B00DILEFNQ', 'B003TN8JGC', 'B00HF7W2JS', 'B078GK557L', 'B00JA9LDH6', 'B0748DHRYG', 'B000ENUC3S', 'B003P7ZMXA', 'B0012JNRKS', 'B079VP6DH5', 'B0054RPY7I', 'B0777WX969', 'B008GVJ9S4', 'B01F5EQRFC', 'B003ZMXYMG', 'B01GQ5GQEG', 'B003V5V5J6', 'B004M15U12', 'B07CB5X7RF', 'B00XABKAJM', 'B006BHRV1W', 'B0000CEO82', 'B014ABUQVC', 'B01M1G8EIY', 'B07GPKK9X6', 'B00D8VGDA4', 'B00XA0DP86', 'B06ZZQF5H6', 'B00HFC2E82', 'B07DJ16CD6', 'B001QCUKII', 'B006GKKO4A', 'B015W2CGH0', 'B007ED2FOA', 'B00CWYM3OI', 'B007JM00K2', 'B0089PYS74', 'B06XX33G82', 'B07BFPZ655', 'B01NCJSM2T', 'B072MZLXYZ', 'B01MG65NK5', 'B01LTHKYZ8', 'B0798DVT68', 'B00HSC9F2C', 'B00HKLK3X6', 'B00IHVHM4Q', 'B001CTO0YA', 'B00PLUIR2C', 'B003ZXEBOK', 'B07DKM3PJ6', 'B00FN6G3HA', 'B0032ZB03G', 'B00F6MFXCW', 'B0020VJTDG', 'B000EQYSLC', 'B00R8FQV6W', 'B00503DP0O', 'B07B4MQP18', 'B008RWUKXK', 'B01LFFGW5K', 'B01H3W4AM6', 'B073QMN75M', 'B01KQLULJW', 'B001M20XA2', 'B01M2X7EPZ', 'B001N2K068', 'B07H53Y3LL', 'B00ASBOP9S', 'B00C9SOB1K', 'B07144RV37', 'B01MZ3HE0A', 'B00Q70RCW6', 'B077K4CVJ7', 'B07C5WH4WN', 'B003P7XXPE', 'B00PDN097S', 'B00O1XAOCQ', 'B01LTHYW9W', 'B00I0DI0Z6', 'B0054LHI5A', 'B01F0FC8I6', 'B004CQWWKY', 'B074CRK54X', 'B005HG9ESG']                                7255\n",
      "['B007PE7ANY', 'B00FBCZCWS', 'B003TMZQC8', 'B003TNANSO', 'B00IZF0P98', 'B007PE7AV6', 'B003TN8JGC', 'B019EGM8G4', 'B019EGM90O', 'B00HF7W2JS', 'B003TN6FSG', 'B01M1G8EIY', 'B00JA9LDH6', 'B00D3M2QP4', 'B0777WX969', 'B00DILEFNQ', 'B000ENUC3S', 'B019EGM3EG', 'B078GYVKHR', 'B01J59BJQU', 'B00XABKAJM', 'B003P7ZMXA', 'B014ABUQVC', 'B008GVJ9S4', 'B008RWUKXK', 'B003V5V5J6', 'B0012JNRKS', 'B005HB19KW', 'B07CVZ3FZ6', 'B001QCUKII', 'B0032ZB03G', 'B00FN6G3HA', 'B00DLDH1N2', 'B000EQYSLC', 'B0061WGN98', 'B006GKKO4A', 'B079VP6DH5', 'B01LYOQ59D', 'B0089PYS74', 'B0042DIZIU', 'B01MRXE2YY', 'B00HFC2E82', 'B0079N2TGY', 'B00V4KWGEI', 'B0054RPY7I', 'B001HTIYDI', 'B00J2CJLPC', 'B015VPYWG6', 'B00E1XPY3A', 'B0792LF5DZ', 'B00FYR5HS4', 'B00D8VGDA4', 'B008BLESLM', 'B0000CEO82', 'B001CTO0YA', 'B00CWYM3OI', 'B004M15U12', 'B07B9F232M', 'B0143NQW2E', 'B073SWCZ62', 'B07CVXRYBK', 'B006JV8F8S', 'B00HSC9F2C', 'B0015068PA', 'B002XULC5W', 'B003ZMXYMG', 'B00I0DI0Z6', 'B07BWCT6YG', 'B076H6F974', 'B07B4MQP18', 'B072YR7FB3', 'B074N9Y8P9', 'B077K4CVJ7', 'B00B9GUZP4', 'B000FOIYS6', 'B000EMQF58', 'B007SNJDXM', 'B07MGPD9PJ', 'B00RTK51H6', 'B07BFPZ655', 'B00P25M858', 'B017EHDLTS', 'B0792TG324', 'B01LFFGW5K', 'B00QF27JL0', 'B01N286FM9', 'B000LKZ9Q4', 'B0785P5MP5', 'B00F6MFXCW', 'B01NCJSM2T', 'B003ZXEBOK', 'B00R0OCAMU', 'B00C37SX70', 'B001FWXSBU', 'B019C9NZCE']                                6142\n",
      "['B00JA9LDH6', 'B007PE7ANY', 'B007PE7AV6', 'B00IZF0P98', 'B00IZF0LCE', 'B003TMZQC8', 'B019EGM8G4', 'B003TNANSO', 'B00FBCZCWS', 'B019EGM90O', 'B003TN6FSG', 'B003TN8JGC', 'B001D0DMME', 'B01M1G8EIY', 'B00HF7W2JS', 'B07BFPZ655', 'B01F5EQRFC', 'B0039KES42', 'B00DILEFNQ', 'B000ENUC3S', 'B008RWUK6W', 'B078GK557L', 'B0777W3R15', 'B073SWCZ62', 'B007D6DVPA', 'B019EGM44U', 'B00DILCU92', 'B00DJQ0Y5S', 'B0074CDYI2', 'B01K0F3XLW', 'B0000CEO85', 'B008RWUKXK', 'B0061WGN98', 'B003ZMXYMG', 'B01N5YBLPL', 'B00028PPP0', 'B014MO02CA', 'B01N78WFQJ', 'B003GAJPJI', 'B0054RPY7I', 'B078S8DDZH', 'B01BMSBYVC', 'B003V5V5J6', 'B000EQYSLC', 'B0037QGLBG', 'B00E1XPYB2', 'B00GDIMCPY', 'B00D8VGD0E', 'B0741GFQHJ', 'B00XA0DP86', 'B076HSFXV4', 'B01F1NWEGI', 'B007ED2FOA', 'B004G5RHEM', 'B01FHG3R9M', 'B00CJEDDJ0', 'B072JWK8KD', 'B0020VJTDG', 'B07CB5X7RF', 'B003P7ZMXA', 'B06XX33G82', '1481477838', 'B0017SZTR8', 'B001QCUKII', 'B008GVJ9S4', 'B07GPKK9X6', 'B00FYR5HS4', 'B0012JNRKS', 'B072MZLXYZ', 'B074SLRQLV', 'B00ZK6KSS8', 'B000Q5XO4S', 'B004UA4PYS', 'B00HSC9F2C', 'B0079N94TY', 'B06XDJL7WB', 'B0019412IK', 'B003MWBFMK', 'B009RNYJGM', 'B01B5KAAUS', 'B01MDV3285', 'B003XDVERE', 'B00VB1XXS8', 'B0001EQN88', 'B001N2K068', 'B075WC3LZG', 'B000CQ01GU', 'B07C91K5GJ', 'B00JUJ1E0W', 'B0043P0GRA', 'B00PVS5PCE', 'B01NBOEODU', 'B00NJNJ6VE', 'B002CBXR46', 'B019CAC1O6', 'B000WLA73C', 'B01GFEQP2Q']    6135\n",
      "Name: also_buy, dtype: int64\n",
      "\n",
      "Most common brand:\n",
      "KIND              29781\n",
      "Bob's Red Mill    16685\n",
      "Planters          13570\n",
      "Name: brand, dtype: int64\n",
      "\n",
      "Most common rank:\n",
      "18 in Grocery & Gourmet Food (       9892\n",
      "2,949 in Grocery & Gourmet Food (    6142\n",
      "4,575 in Grocery & Gourmet Food (    6135\n",
      "Name: rank, dtype: int64\n",
      "\n",
      "Most common also_view:\n",
      "['B0062JSYEW', 'B005UF9LUA', 'B079Y9KD1B', 'B07HPDWRVP', 'B00J4S6C56', 'B00IS9GMYS', 'B01NCADCWT', 'B00U9W5JTG', 'B014QU8S8A', 'B00KO68SJU', 'B002HQCWYM', 'B0016G1DQW', 'B000F4F94I', 'B07G8MMD9S', 'B01959C6RQ', 'B000GG5IXM', 'B01DTIR6BA', 'B0055B5W3O', 'B00NAZK8PY', 'B075F9Y19M', 'B005763IYM', 'B07CYZV7VJ', 'B000F4J75A', 'B0028GWGWO', 'B0046IEK7G', 'B0052315I6', 'B000GFYRK8', 'B0082B2HH8', 'B007I6TGAE', 'B078PR36RJ', 'B009CPPVAI', 'B01F2DIFVA', 'B00B8XGDIG', 'B07D44YMWH', 'B001KUOGAO', 'B001QJAYD2', 'B00523174I', 'B009OY2O7U', 'B00I4B81IU', 'B01FKO5LNQ', 'B00B8XM0I8']                                                                                                                                  3049\n",
      "['B005UF9LUA', 'B01959C6RQ', 'B001GM60LE', 'B00HV04IIC', 'B00CEH8C5M', 'B06XJH281P', 'B00KO68SJU', 'B00MN4AA2Y', 'B0041OU0EW', 'B003D4J0KG', 'B007V2L8VU', 'B078PR36RJ', 'B0055B5W3O', 'B001B2SY9U', 'B00E19WJ1E', 'B00B8XGDIG', 'B00PWE9EFQ', 'B003D4MWXS', 'B00NAZK8PY', 'B000UH16JM', 'B00X7W965I', 'B000WS0HSA', 'B00CRAU0MY', 'B00F9WLGHK', 'B00NGYGUHE', 'B000NKWGJK', 'B001EXV844', 'B006M4DMIU', 'B00U9W5JTG', 'B002HQCWYM', 'B009I5NCIK', 'B01MSUQBX7', 'B00CS1S5B0', 'B00S9IT36W', 'B07638CZJD', 'B00P0BFODW', 'B00MN4AOLG', 'B07HNWZRTN', 'B000Z4WRXE', 'B00AEQIIUO', 'B06XS1MWWV', 'B006M4D6NQ', 'B01B8SA5HU', 'B075F9Y19M', 'B00OEJQT2G', 'B01F2DIFVA', 'B079Y9KD1B', 'B005P0RF8A', 'B001MOH3VW', 'B003D4IZSE']    2892\n",
      "['B06XDNJXHW', 'B0721WNLXM', 'B071KJDL7B', 'B06XD93K2X', 'B0721W6W2B', 'B0040QK4G0', 'B07HLK4CKR', 'B072KQWFFP', 'B07H1VKH8Z', 'B001OHX5P0', 'B072KPWDPF', 'B00JDCC48W', 'B01N9DCPB7', 'B07KY59WK6', 'B07JGH6MBZ', 'B008GVJ9S4', 'B07JJSRKWV', 'B07JGQZPYH', 'B01BXE9GXI', 'B00F7QFF48', 'B00E1Z25GW', 'B071GB2PPZ', 'B075WZWZSK', 'B002957S2W', 'B00ZANU9OY', 'B008M8QIGW', 'B076HCHQQZ', 'B001EPQVEO', 'B07KY5YL6D', 'B0793FRDN4', 'B00BRL9QF6', 'B00144CDSI', 'B075X1QM8R', 'B00MFBSRLQ', 'B001651228', 'B00JD8YC6I', 'B07JWH4497', 'B07JJS7BVQ', 'B000R91DVO', 'B00OEXP0UE']                                                                                                                                                2553\n",
      "Name: also_view, dtype: int64\n",
      "\n",
      "Most common main_cat:\n",
      "Grocery                   1030071\n",
      "Health & Personal Care      40184\n",
      "Amazon Home                  8811\n",
      "Name: main_cat, dtype: int64\n",
      "\n",
      "Most common asin:\n",
      "B00BUKL666    7255\n",
      "B008QMX2SG    6142\n",
      "B00D3M2QP4    6135\n",
      "Name: asin, dtype: int64\n",
      "\n",
      "Most common details:\n",
      "{}                                                                                                                                                                                                                                                                                                                                                                                                                                                                                                                                                                    23787\n",
      "{'\\n    Product Dimensions: \\n    ': '6.8 x 6.1 x 2.3 inches ; 1.05 pounds', 'Shipping Weight:': '1.2 pounds (', 'Domestic Shipping: ': 'Currently, item can be shipped only within the U.S. and to APO/FPO addresses. For APO/FPO shipments, please check with the manufacturer regarding warranty and support issues.', 'International Shipping: ': 'This item can be shipped to select countries outside of the U.S.', 'ASIN: ': 'B007PE7ANY', 'UPC:': '602652177514', 'Item model number:': '17851'}                                                               9892\n",
      "{'\\n    Product Dimensions: \\n    ': '2 x 4 x 6 inches ; 1 pounds', 'Shipping Weight:': '1.2 pounds (', 'Domestic Shipping: ': 'Currently, item can be shipped only within the U.S. and to APO/FPO addresses. For APO/FPO shipments, please check with the manufacturer regarding warranty and support issues.', 'International Shipping: ': 'This item is not eligible for international shipping.', 'ASIN: ': 'B007PE7AUW', 'UPC:': '885721331509 030684321337 885376772511 021959120434 641438072483 640206711630 602652177507', 'Item model number:': '17850'}     6142\n",
      "Name: details, dtype: int64\n",
      "\n",
      "Most common reviewerID:\n",
      "A1LACH6MLQWZ      540\n",
      "A2GJX2KCUSR0EI    405\n",
      "A1GQAKL9CGQLP1    398\n",
      "Name: reviewerID, dtype: int64\n",
      "\n",
      "Most common reviewText:\n",
      "good     3996\n",
      "great    3241\n",
      "Great    2595\n",
      "Name: reviewText, dtype: int64\n",
      "\n",
      "Most common summary:\n",
      "Five Stars     219426\n",
      "Four Stars      34231\n",
      "Three Stars     15439\n",
      "Name: summary, dtype: int64\n",
      "\n",
      "Most common style:\n",
      "{'Package Quantity:': ' 1'}                 5930\n",
      "{'Size:': ' Pack of 1'}                     5681\n",
      "{'Package Type:': ' Standard Packaging'}    5015\n",
      "Name: style, dtype: int64\n",
      "\n"
     ]
    }
   ],
   "source": [
    "for col in df_objects.columns:\n",
    "    counts = df[col].value_counts()\n",
    "    print(f'Most common {col}:\\n{counts.head(3)}\\n')"
   ],
   "metadata": {
    "collapsed": false,
    "pycharm": {
     "name": "#%%\n"
    }
   }
  },
  {
   "cell_type": "markdown",
   "source": [
    "The most common details feature is empty.\n",
    "Earlier, when cleaning the data there were checks for empty lists; however, not for empty dictionaries.\n",
    "However, after further analysis the details feature is still useful because there are more than a million rows and only about 24k are empty."
   ],
   "metadata": {
    "collapsed": false,
    "pycharm": {
     "name": "#%% md\n"
    }
   }
  },
  {
   "cell_type": "markdown",
   "source": [
    "#### Grouping by target\n",
    "\n",
    "Grouping by 'overall' rating to show the average highest and lowest product ratings."
   ],
   "metadata": {
    "collapsed": false,
    "pycharm": {
     "name": "#%% md\n"
    }
   }
  },
  {
   "cell_type": "code",
   "execution_count": 18,
   "outputs": [
    {
     "data": {
      "text/plain": "                                                     overall\ncategory                                                    \n['Grocery & Gourmet Food', 'Dairy, Cheese & Egg...  5.000000\n['Grocery & Gourmet Food', 'Produce', 'Fresh Ve...  5.000000\n['Grocery & Gourmet Food', 'Cooking & Baking', ...  5.000000\n['Grocery & Gourmet Food', 'Cooking & Baking', ...  5.000000\n['Grocery & Gourmet Food', 'Herbs, Spices & Sea...  5.000000\n...                                                      ...\n['Grocery & Gourmet Food', 'Produce', 'Packaged...  3.043478\n['Grocery & Gourmet Food', 'Canned, Jarred & Pa...  3.000000\n['Grocery & Gourmet Food', 'Olives, Pickles & R...  2.800000\n['Grocery & Gourmet Food', 'Meat Substitutes', ...  2.444444\n['Grocery & Gourmet Food', 'Cooking & Baking', ...  2.400000\n\n[1107 rows x 1 columns]",
      "text/html": "<div>\n<style scoped>\n    .dataframe tbody tr th:only-of-type {\n        vertical-align: middle;\n    }\n\n    .dataframe tbody tr th {\n        vertical-align: top;\n    }\n\n    .dataframe thead th {\n        text-align: right;\n    }\n</style>\n<table border=\"1\" class=\"dataframe\">\n  <thead>\n    <tr style=\"text-align: right;\">\n      <th></th>\n      <th>overall</th>\n    </tr>\n    <tr>\n      <th>category</th>\n      <th></th>\n    </tr>\n  </thead>\n  <tbody>\n    <tr>\n      <th>['Grocery &amp; Gourmet Food', 'Dairy, Cheese &amp; Eggs', 'Eggs &amp; Egg Substitutes', 'Egg Whites']</th>\n      <td>5.000000</td>\n    </tr>\n    <tr>\n      <th>['Grocery &amp; Gourmet Food', 'Produce', 'Fresh Vegetables', 'Tomatillos']</th>\n      <td>5.000000</td>\n    </tr>\n    <tr>\n      <th>['Grocery &amp; Gourmet Food', 'Cooking &amp; Baking', 'Cooking Oils, Vinegars &amp; Sprays', 'Oils', 'Safflower']</th>\n      <td>5.000000</td>\n    </tr>\n    <tr>\n      <th>['Grocery &amp; Gourmet Food', 'Cooking &amp; Baking', 'Cooking Wine', 'White']</th>\n      <td>5.000000</td>\n    </tr>\n    <tr>\n      <th>['Grocery &amp; Gourmet Food', 'Herbs, Spices &amp; Seasonings', 'Single Herbs &amp; Spices', 'Ajowan']</th>\n      <td>5.000000</td>\n    </tr>\n    <tr>\n      <th>...</th>\n      <td>...</td>\n    </tr>\n    <tr>\n      <th>['Grocery &amp; Gourmet Food', 'Produce', 'Packaged Produce', 'Cut &amp; Packaged Fruits', 'Mangoes']</th>\n      <td>3.043478</td>\n    </tr>\n    <tr>\n      <th>['Grocery &amp; Gourmet Food', 'Canned, Jarred &amp; Packaged Foods', 'Packaged Meals &amp; Side Dishes', 'Mexican Dishes', 'Burritos']</th>\n      <td>3.000000</td>\n    </tr>\n    <tr>\n      <th>['Grocery &amp; Gourmet Food', 'Olives, Pickles &amp; Relishes', 'Olives', 'Greek']</th>\n      <td>2.800000</td>\n    </tr>\n    <tr>\n      <th>['Grocery &amp; Gourmet Food', 'Meat Substitutes', 'Pulled &amp; Flaked Meats']</th>\n      <td>2.444444</td>\n    </tr>\n    <tr>\n      <th>['Grocery &amp; Gourmet Food', 'Cooking &amp; Baking', 'Dessert Syrups &amp; Sauces', 'Marshmallow']</th>\n      <td>2.400000</td>\n    </tr>\n  </tbody>\n</table>\n<p>1107 rows × 1 columns</p>\n</div>"
     },
     "metadata": {},
     "output_type": "display_data"
    },
    {
     "data": {
      "text/plain": "                                                    overall\ndescription                                                \n['Salt-Free Sunland Valencia Natural Peanut But...      5.0\n['Quaker Quisp Cereal is saucer-shaped, crunchy...      5.0\n['<b>About This BlackTie Box:</b> <br /> Introd...      5.0\n['Familiar to sushi enthusiasts from its use in...      5.0\n[\"Kraft's Red Wine Vinaigrette Salad Dressing i...      5.0\n...                                                     ...\n['Thai Kitchen Curry Paste, Green, 4-Ounce Jars...      1.2\n[\"Brach's&#174; Candy Corn.<br>Since 1904.<br>M...      1.0\n[\"This is a fun new way to get a party started ...      1.0\n['Use the bag of plagues set to teach children ...      1.0\n['Brooks rich & tangy ketchup 24oz - 6 unit pac...      1.0\n\n[36532 rows x 1 columns]",
      "text/html": "<div>\n<style scoped>\n    .dataframe tbody tr th:only-of-type {\n        vertical-align: middle;\n    }\n\n    .dataframe tbody tr th {\n        vertical-align: top;\n    }\n\n    .dataframe thead th {\n        text-align: right;\n    }\n</style>\n<table border=\"1\" class=\"dataframe\">\n  <thead>\n    <tr style=\"text-align: right;\">\n      <th></th>\n      <th>overall</th>\n    </tr>\n    <tr>\n      <th>description</th>\n      <th></th>\n    </tr>\n  </thead>\n  <tbody>\n    <tr>\n      <th>['Salt-Free Sunland Valencia Natural Peanut Butter is made with 100% pure roasted Valencia peanuts ground into a perfect creamy texture for spreading. While we all call them nuts, Valencia Peanuts, like all peanuts are legumes, more closely related to peas and beans--with one important difference: they grow beneath the ground. Valencia peanuts are a smaller, sweeter version with more intense flavor than other varieties of peanut. They have three to five kernels in each shell and are grown almost exclusively in eastern New Mexico. Valencia peanuts offer higher protein content than eggs and some meats, provide quick energy from carbohydrates, are high in fiber, and are a good source of monounsaturated and polyunsaturated fats, which have generally been shown to help reduce blood cholesterol levels. Valencia Natural Peanut Butter provides all the flavor and nutritional value these small but mighty, nuts--oops, legumes have to offer.Sunland, Inc. was formed in 1988 by a group of dedicated peanut farmers in Eastern New Mexico. Their mission has not changed since inception: to grow and market the naturally sweet and dense Valencia peanut unique to the area.', '100% Roasted Valencia Peanuts.', 'Statements regarding dietary supplements have not been evaluated by the FDA and are not intended to diagnose, treat, cure, or prevent any disease or health condition.']</th>\n      <td>5.0</td>\n    </tr>\n    <tr>\n      <th>['Quaker Quisp Cereal is saucer-shaped, crunchy corn cereal has delighted kids and adults everywhere. Bring Quisp to your house and home planet today. The crispy flavor is out of this world. This is a healthy, delicious choice for everyone.', 'Corn Flour, Sugar, Oat Flour, Brown Sugar, Coconut Oil, Salt, Niacinamide (One of the B Vitamins), Reduced Iron, Zinc Oxide, Yellow 5, Yellow 6, Thiamin Mononitrate (One of the B Vitamins), Pyridoxine Hydrochloride (One of the B Vitamins), Bht (A Preservative), Riboflavin (One of the B Vitamins), Folic Acid (One of the B Vitamins).', 'Statements regarding dietary supplements have not been evaluated by the FDA and are not intended to diagnose, treat, cure, or prevent any disease or health condition.']</th>\n      <td>5.0</td>\n    </tr>\n    <tr>\n      <th>['&lt;b&gt;About This BlackTie Box:&lt;/b&gt; &lt;br /&gt; Introducing the BlackTie Box by Black Tie Mercantile, the first and only gift-ready packaging system designed for the unique challenges of E-Commerce. Whether you choose to ship directly to a recipient or to yourself, your item is guaranteed to arrive exactly as described and photographed. &lt;br /&gt; &lt;br /&gt; Founded in 1938 by Arne Dellgren and Bernt Bjurklint in Halland, Sweden, Hafi continues as a family owned and operated business into its fourth generation. Hafi brought together the community in a shared effortwith local growers providing fresh ingredients and Arnes mother, Frida, designing the beautiful labels. Although Hafi has grown considerably over the years, the company remains committed to the standards of quality and expertise that have always set it apart.&lt;br /&gt; &lt;br /&gt; Now get a BlackTie Box for any occasion featuring one 14.1 oz jar of Hafi Cloudberry Preserves.', 'Cloudberries, sugar, pectin, citric acid, potassium sorbate.', 'Statements regarding dietary supplements have not been evaluated by the FDA and are not intended to diagnose, treat, cure, or prevent any disease or health condition.']</th>\n      <td>5.0</td>\n    </tr>\n    <tr>\n      <th>['Familiar to sushi enthusiasts from its use in miso soup, Wakame is also used in seaweed salads. Emerald Cove Wakame is ready-to-eat and can be tossed right out of the bag into miso soup!']</th>\n      <td>5.0</td>\n    </tr>\n    <tr>\n      <th>[\"Kraft's Red Wine Vinaigrette Salad Dressing is a tangy dressing with an explosion of red wine flavor. And in an easy-to-pour bottle, this delicious dressing adds tangy flavor to salads, sandwiches and pasta dishes.\"]</th>\n      <td>5.0</td>\n    </tr>\n    <tr>\n      <th>...</th>\n      <td>...</td>\n    </tr>\n    <tr>\n      <th>['Thai Kitchen Curry Paste, Green, 4-Ounce Jars (Pack of 12)', 'Green Chili, Garlic, Lemongrass, Galangal (Thai Ginger), Salt, Onion, Pepper, Coriander, Cumin, Kaffir Lime.', 'Statements regarding dietary supplements have not been evaluated by the FDA and are not intended to diagnose, treat, cure, or prevent any disease or health condition.']</th>\n      <td>1.2</td>\n    </tr>\n    <tr>\n      <th>[\"Brach's&amp;#174; Candy Corn.&lt;br&gt;Since 1904.&lt;br&gt;Made with real honey.\", 'Allergen information: made on equipment that processes milk, egg and soy. Milk, egg, wheat, peanuts, tree nuts and soy may be present in the manufacturing or packaging area.', \"Sugar, Corn Syrup, Salt, Honey, Soy Protein, Gelatin, Confectioner's Glaze, Dextrose, Artificial Flavor, Titanium Dioxide Color, Yellow 6, Yellow 5, Red 3, Blue 1.\", 'Statements regarding dietary supplements have not been evaluated by the FDA and are not intended to diagnose, treat, cure, or prevent any disease or health condition.']</th>\n      <td>1.0</td>\n    </tr>\n    <tr>\n      <th>[\"This is a fun new way to get a party started at your social gathering: weddings, parties, meetings, waiting rooms, etc. Use these cookies any way you would like! Once you purchase, we will contact you by email via Amazon Order Information. We will inform you then on how to design your own fortunes. If you would prefer that we come up with them instead, NO PROBLEM! We have lots of experience. We will just ask you a series of questions so that you can be assured that you'll meet your fortune cookie goals. The fortunes inside the cookies can be FULL-COLOR, complete with photos, clip art, company branding, themes, etc. The list is endless as far as what can go on the fortunes! We have a HUGE list of wedding fortunes, as well as other fortune categories. Feel free to request that we send you a specific list to use if you'd like, otherwise we will offer. Depending on the details in the fortunes, we can have the cookies ready to ship 5 to 7 days after your order, give or take a few days. Once we know exactly the type of design of your fortunes, we can give you an exact answer. Cookies are best (freshest) if shipped to you approx 1 week prior to your event. Cookies stay fresh for up to 2 months. You can have up to 60 different personalized fortunes. If you need more than this, please let us know and we will work something out to make it happen. Feel free to email or phone us if you have any questions or would like pricing for larger bulk rates.\", 'ENRICHED FLOUR (WHEAT FLOUR, NIACIN, IRON, THIAMINE MONONITRATE, RIBOFLAVIN, AND FOLIC ACID), SUGAR WATER, EGGS, COCONUT OIL, ARTIFICIAL FLAVORING', 'Statements regarding dietary supplements have not been evaluated by the FDA and are not intended to diagnose, treat, cure, or prevent any disease or health condition.']</th>\n      <td>1.0</td>\n    </tr>\n    <tr>\n      <th>['Use the bag of plagues set to teach children about the 10 plagues, as recounted in the book of exodus. Includes symbol of each plague.']</th>\n      <td>1.0</td>\n    </tr>\n    <tr>\n      <th>['Brooks rich &amp; tangy ketchup 24oz - 6 unit pack is a tangy flavored condiment with thick rich consistency made from a tomato base blended with selected spicing. Great for all of your chili recipes.', \"'TOMATO CONCENTRATE (WATER AND TOMATO PASTE), HIGH FRUCTOSE CORN SYRUP, DISTILLED VINEGAR, SALT, SPICES.'\", 'Statements regarding dietary supplements have not been evaluated by the FDA and are not intended to diagnose, treat, cure, or prevent any disease or health condition.']</th>\n      <td>1.0</td>\n    </tr>\n  </tbody>\n</table>\n<p>36532 rows × 1 columns</p>\n</div>"
     },
     "metadata": {},
     "output_type": "display_data"
    },
    {
     "data": {
      "text/plain": "                                                    overall\ntitle                                                      \nCelestial Seasonings Herbal Tea Sampler Caffein...      5.0\nKraft Red Wine Vinaigrette Dressing and Marinad...      5.0\nAmy's Light in Sodium Organic Chili, Medium, 14...      5.0\nDaVinci Penne Rigate, 16-ounces (Pack of12)             5.0\nMujeza Black Seed Honey- (Black cumin- nigella ...      5.0\n...                                                     ...\nThai Kitchen Green Curry Paste, 4 Ounce (Pack o...      1.2\nGreenfire Custom Fortune Cookies, for Special E...      1.0\nFactory Card and Party Outlet Passover Bag of P...      1.0\nBrooks Rich &amp; Tangy Ketchup 24oz - 6 Pack           1.0\nBrach's Candy Corn, 11 Ounce Bag, Pack of 12            1.0\n\n[40969 rows x 1 columns]",
      "text/html": "<div>\n<style scoped>\n    .dataframe tbody tr th:only-of-type {\n        vertical-align: middle;\n    }\n\n    .dataframe tbody tr th {\n        vertical-align: top;\n    }\n\n    .dataframe thead th {\n        text-align: right;\n    }\n</style>\n<table border=\"1\" class=\"dataframe\">\n  <thead>\n    <tr style=\"text-align: right;\">\n      <th></th>\n      <th>overall</th>\n    </tr>\n    <tr>\n      <th>title</th>\n      <th></th>\n    </tr>\n  </thead>\n  <tbody>\n    <tr>\n      <th>Celestial Seasonings Herbal Tea Sampler Caffeine Free Herbal Tea - 18 CT</th>\n      <td>5.0</td>\n    </tr>\n    <tr>\n      <th>Kraft Red Wine Vinaigrette Dressing and Marinade, 16-Ounce Bottles (Pack of 6)</th>\n      <td>5.0</td>\n    </tr>\n    <tr>\n      <th>Amy's Light in Sodium Organic Chili, Medium, 14.7 Ounce (Pack of 6)</th>\n      <td>5.0</td>\n    </tr>\n    <tr>\n      <th>DaVinci Penne Rigate, 16-ounces (Pack of12)</th>\n      <td>5.0</td>\n    </tr>\n    <tr>\n      <th>Mujeza Black Seed Honey- (Black cumin- nigella seeds) Not mixed with oil or powder Gluten Free Unfiltered Unprocessed 100% Natural Honey (Different Sizes Available) (600g)</th>\n      <td>5.0</td>\n    </tr>\n    <tr>\n      <th>...</th>\n      <td>...</td>\n    </tr>\n    <tr>\n      <th>Thai Kitchen Green Curry Paste, 4 Ounce (Pack of 12)</th>\n      <td>1.2</td>\n    </tr>\n    <tr>\n      <th>Greenfire Custom Fortune Cookies, for Special Events and Occasions, Full Color Fortune Printing, Premium Vanilla, Bulk Quantity (300)</th>\n      <td>1.0</td>\n    </tr>\n    <tr>\n      <th>Factory Card and Party Outlet Passover Bag of Plagues</th>\n      <td>1.0</td>\n    </tr>\n    <tr>\n      <th>Brooks Rich &amp;amp; Tangy Ketchup 24oz - 6 Pack</th>\n      <td>1.0</td>\n    </tr>\n    <tr>\n      <th>Brach's Candy Corn, 11 Ounce Bag, Pack of 12</th>\n      <td>1.0</td>\n    </tr>\n  </tbody>\n</table>\n<p>40969 rows × 1 columns</p>\n</div>"
     },
     "metadata": {},
     "output_type": "display_data"
    },
    {
     "data": {
      "text/plain": "                                                     overall\nalso_buy                                                    \n['B000FOMKP4', 'B0015DSKFI', 'B001IZHRD4', 'B00...  5.000000\n['B01LAX4HLI', 'B00JSRG2TE', 'B019QR8MQQ', 'B01...  5.000000\n['B015YCMJPM', 'B00269UWFG', 'B00MW8L7BY', 'B07...  5.000000\n['B01KQLV21S', 'B06XKQFP5W', 'B00PO9NHES', 'B00...  5.000000\n['B00BBL6QDW', 'B001L048WO', 'B00BBL6U10', 'B07...  5.000000\n...                                                      ...\n['B0054RRMRS', 'B00IV6JUK6', 'B0032123XQ', 'B00...  1.710843\n['B07CX6LN8T', 'B01IVTAW9A']                        1.666667\n['B00VII15NY', 'B00VIIA2LA', 'B019CPB4C6', 'B00...  1.428571\n['B00LR5OJXG', 'B002LV6LWW', 'B00I9MN8AA', 'B00...  1.333333\n['B007UWD1E8', 'B000NHTHTA', 'B001QFBJTE', '097...  1.000000\n\n[29115 rows x 1 columns]",
      "text/html": "<div>\n<style scoped>\n    .dataframe tbody tr th:only-of-type {\n        vertical-align: middle;\n    }\n\n    .dataframe tbody tr th {\n        vertical-align: top;\n    }\n\n    .dataframe thead th {\n        text-align: right;\n    }\n</style>\n<table border=\"1\" class=\"dataframe\">\n  <thead>\n    <tr style=\"text-align: right;\">\n      <th></th>\n      <th>overall</th>\n    </tr>\n    <tr>\n      <th>also_buy</th>\n      <th></th>\n    </tr>\n  </thead>\n  <tbody>\n    <tr>\n      <th>['B000FOMKP4', 'B0015DSKFI', 'B001IZHRD4', 'B00DZQJMXC', 'B000ODV2PK', 'B007F0Y6MG', 'B01IEU0LOM', 'B002RGOHO0', 'B0773D9711', 'B00J7G9Z7C', 'B00032A9UQ', 'B00ILOUGL0']</th>\n      <td>5.000000</td>\n    </tr>\n    <tr>\n      <th>['B01LAX4HLI', 'B00JSRG2TE', 'B019QR8MQQ', 'B01DQ1509A', 'B00LLW3QD4', 'B016NBKRBQ', 'B07889L749', 'B018LLKHAC', 'B00B8Z70AY', 'B00ZAD36ZS', 'B01NGWIE9Z', 'B015LOO8UC', 'B002863BIW', 'B00VXQGY1Y', 'B01BTNDHUQ', 'B01LL3FQQC', 'B06X3YHTFK', '132853104X', 'B07DDM5S5X', 'B071WY281Q', 'B078M46S8G', 'B0716P6ZZN', 'B00OJ757SK', 'B01ENL3Q02', 'B071XY8BDQ', 'B078XPFWL6', 'B072J8YZXK', 'B01FN6GQTO', 'B0146I3ND2', 'B00CLUWME4', 'B0764G6SNW', 'B01ENITUA0', 'B075DH9627', 'B004JWLQXA', 'B00VQO4YJC', 'B00FTB8K3Y', 'B075SLBPCW', 'B072126PMX', 'B00D0VI0A8', 'B01NAFXR8L', 'B07DY26Y4P', 'B071KKKG8F', 'B001NHEBA4', 'B07FNLGP92', 'B07DDZKHWM', 'B014VGMLCI', 'B06WWHG7TX', 'B00M08ZKNC', 'B00KRFLH5U', 'B00K4QF4HO', 'B00BSZBEAG', 'B01AYYF1NC', 'B01ENL3PXA', 'B01MYCSDB2', 'B001E5E3JY', 'B01GIUFON8', 'B0764NZF5L', 'B0046IIPMW', 'B000ENUC3S', 'B005J8DT0Q', 'B008QS89UG', 'B004AHDV5A', 'B00H0040PY', 'B0089VPTZ8', 'B01BODRE6Y', 'B06Y1JPZ4F', 'B01N20YNMT', '1328839230', 'B0089VPTW6', 'B01MREWFHO', '0525577238', 'B0013OZAZ2', 'B00QU781RG', 'B071YNVDCB', 'B00M8VSKW4', 'B00WNB40U0', 'B002LMC300', 'B0143NQW2E', 'B004T80BYE', 'B0078DRR44', 'B006MWDFUC', 'B01M19Z219', 'B00BU8SM60', 'B003PR0CFI', 'B07421LW7J', 'B004KUV136', 'B01MD0T6G0', 'B001AWWC1W', 'B075YDDT2Q', 'B00CMYMRL2', 'B007C6EE84', 'B019QR8MWK', 'B07954V5CL', 'B01LXXACU0', 'B00Y3NR648']</th>\n      <td>5.000000</td>\n    </tr>\n    <tr>\n      <th>['B015YCMJPM', 'B00269UWFG', 'B00MW8L7BY', 'B077LZ2JQH', 'B00G6RK1NM', 'B003E3OTPC', 'B007WE9AVC', 'B002TY41QO', 'B002YOJER0', 'B0046GZM8O', 'B0182MQJ7A', 'B072WNVYZG', 'B002AWXELI', 'B00BQ3O2BS', 'B01FX12D3W', 'B000TYKI9K', 'B00ADX5WZ2', 'B0786YG7VM', 'B0017DGR1U', 'B01E76E5MQ', 'B00F2W4WZU', 'B00JZVWE0O', 'B000XBCBW6', 'B004YT5ZTY', 'B00JCU0QNA', 'B0044MNYIK', 'B077CLBP9C', 'B015VOTNLG', 'B06XKBWTVM', 'B008YLRX20', 'B01N4VHTH0', 'B075TW1ZXB', 'B01K300AUQ', 'B004OQLIHK', 'B014GCY8OG', 'B00BR47K2O', 'B00CF5D032', 'B079VTJD3S', 'B019HM9ZT8', 'B072N87D8W', 'B06XKNGBFP', 'B00I7FJ0OM', 'B07913JFQK', 'B074S4J2TJ', 'B009QQ8038', 'B00ISCT4PO', 'B00IOQKM5K', 'B013T80X4M', 'B004ATUND6', 'B006VYO276', 'B01E60QQ3Y', 'B00BP4UGYU', 'B000W7R7W0', 'B00FN6EC6Y', 'B00CFVDIKG', 'B004JUF3K4', 'B071KF6791', 'B071K69XHH', 'B004M15U12', 'B004W3ORA0', 'B01965DYYS', 'B078947VCS', 'B0014H6SB8', 'B019DM86LA', 'B0081A2SLK', 'B01965DY48', 'B013DSZFIW', 'B006J0WNX2', 'B001XSMANI', 'B00XERL95Q', 'B01LZ46MT7', 'B008LTRIYI', 'B00CCQWK6C', 'B0725YS2TK']</th>\n      <td>5.000000</td>\n    </tr>\n    <tr>\n      <th>['B01KQLV21S', 'B06XKQFP5W', 'B00PO9NHES', 'B000PGQQFC', 'B01N019I01', 'B0065JA1IQ', 'B00CF02AME', 'B000OQWAS0', 'B000NKWGJK', 'B000NNEESI', 'B003VIDMNU', 'B00JPY020A', 'B00D60877Y', 'B004H4QZ2M', 'B000NNCMG4', 'B00745DOK2', 'B006LPQ82M', 'B0065JENSU', 'B000R32F6M', 'B00796KNHS', 'B01958H62M', 'B0001TNPA2', 'B00WSXLT84']</th>\n      <td>5.000000</td>\n    </tr>\n    <tr>\n      <th>['B00BBL6QDW', 'B001L048WO', 'B00BBL6U10', 'B07BFKV1VK', 'B078G9ZDNR', 'B00IMTPTA2', 'B007G92C6I', 'B007FRASYO', 'B07B3Q6442', 'B00BBL6SWQ', 'B00JGAG6IK', 'B071RR7G8R', 'B07C56L5T4', 'B073WJLXH8', 'B00JGAGZ0Y', 'B007FRCIVA', 'B004YCTVIW', 'B06XPQ5WG6', 'B0049W7CBA', 'B07BC4VMSL', 'B075TS736D', 'B0118E0FD8', 'B079QN1T5J', 'B00KVVDB72', 'B07GFDGB9V', 'B00KVVDE2O', 'B06ZZGNRHT', 'B007FRDHCY', 'B01N10JHM6', 'B00BBL75L4', 'B076H7J3DY', 'B071DR41BY', 'B01MFFGAXM', 'B06XZBMGYR', 'B071922SN6', 'B07B7CL9G8', 'B01ECMU07Y', 'B07979LS83', 'B007FRDBUM', 'B06XZCMRHD', 'B06XZTSCX4', 'B06XZW1DSS', 'B078WKN32X', 'B06XZD7YG5', 'B07GSDSZGS', 'B079555RK3', 'B01AAYWE22', 'B007FRAAB0', 'B00GMRDKV6', 'B071GWSBMM', 'B007FRDB1Q', 'B008DVSATQ', 'B0797FXM6G', 'B003LNOPSG', 'B07B88PL8N', 'B01BQR2LFM', 'B014HXBLVW', 'B07DHBNGF7', 'B079DGKJJQ', 'B00DJ6IF90', 'B00F8GSGT8', 'B06XZ9YBTB', 'B00CPBS2E8', 'B01IAH86RI', 'B0714QNND3', 'B01HTTEC0S', 'B00AH6HYQ0', 'B076H6FSHR', 'B015FYRBXO', 'B00WFL8RD4', 'B06XSW1SZ9', 'B019AGPQ4E', 'B06XZS492V', 'B00T00QMHG', 'B00ECOVS3S', 'B00OHNBOBU', 'B00ECOV74I', 'B00ECOUR58', 'B07F19ZGVC', 'B005WINLTW', 'B07GNN8G1M', 'B01MZJ00DD', 'B07C4BLM1V', 'B074ZHYGCT', 'B075H33F3H']</th>\n      <td>5.000000</td>\n    </tr>\n    <tr>\n      <th>...</th>\n      <td>...</td>\n    </tr>\n    <tr>\n      <th>['B0054RRMRS', 'B00IV6JUK6', 'B0032123XQ', 'B000U94MN2', 'B00ZOIJO96', 'B001G8RNPU', 'B010WBZWT0', 'B00UCAGQXI', 'B000TMS0RE', 'B007UN97PY', 'B003QSORYS', 'B00RMX70NS', 'B000VHJPKI', 'B00TU7F46E', 'B00V92080U', 'B000PZQUZO', 'B002FW4WFK', 'B00JU4ROWE', 'B01FWNYJEC', 'B000TO9BR0', 'B000VHNNFQ', 'B00TG08BEC', 'B00IV6LWHK', 'B01F9I5XJA', 'B01DI50IRI', 'B00ZNMKJR4', 'B000TMZI74', 'B000U94MPA', 'B000QV32B2', 'B00WZ11YXO', 'B000U90LZA', 'B072J6TYG4', 'B000U90M5E', 'B00MHXE072', 'B0107OD2KI', 'B000JWCA1Q', 'B00MGCFYY2', 'B00CQ7SLOW', 'B000U96JEC', 'B07481XMT4', 'B01F7HCZMG', 'B00BRFRA8M', 'B00BAM7NQG', 'B000JWCA1G', 'B00EUVJ07E', 'B00U0OEDJU', 'B003QSFZ5I', 'B00024DB50', 'B0188MAZA6', 'B000WLZI1S', 'B00HOTCB3Y', 'B00UC93OZC', 'B010HU2VGI', 'B01JZXQXE4', 'B00IV6LLXA', 'B00IV6L1CG', 'B0733NJJ82', 'B000UBMO4Y', 'B00S8JY6SC', 'B00FYB8Y9E', 'B0186JDHWY', 'B00OPB1DDS', 'B00BTMDALO', 'B0010XV4BK', 'B0080MY5D8', 'B00SHOXF80', 'B01KL6JH92', 'B00TOWCFMQ', 'B00ZR9OGD6', 'B00EZQHAPS', 'B00IV6KGVI', 'B000UY0ZE2', 'B000U96JGA', 'B00024D9X4', 'B00IV6LK3G', 'B000QWW0B4', 'B00RHSXJIS', 'B000QWU5W0', 'B004OP8WMU', 'B077F4VLKN', 'B0026VPVK0', 'B0054RRN6S', 'B00U1LOHX4', 'B007VA2EOC', 'B07637MY9D', 'B000TMS0QA', 'B013LB4ZYQ', 'B00O4G8NC8', 'B01MTJYYUF', 'B00S8JY7RW', 'B00BINLMM8', 'B00S8JY5TW', 'B01DWSMU4U']</th>\n      <td>1.710843</td>\n    </tr>\n    <tr>\n      <th>['B07CX6LN8T', 'B01IVTAW9A']</th>\n      <td>1.666667</td>\n    </tr>\n    <tr>\n      <th>['B00VII15NY', 'B00VIIA2LA', 'B019CPB4C6', 'B00GU19JRI', 'B00BU8SM60', 'B00HBFKI3Q', 'B00AEUKK1U', 'B00HBFJ27O', 'B007BFZKW0', 'B005YVU6FY', 'B0053DJYOC', 'B00GU1CVUU', 'B01MU22JSD', 'B000Y0GOZQ', 'B00GU2E8UA', 'B078WLNQZF', 'B00DSE7FHQ', 'B017BR91GI', 'B074365DR9', 'B006E8OGNY', 'B00GU2K4X0', 'B01EGYY3I0', 'B000NUQJGQ', 'B00MCUUD6C', 'B071SGJZZJ', 'B01MY2OXUZ', 'B013FGY2TK', 'B00HBFH2PI', 'B00BTMDALO', 'B00Y1FT7TU', 'B00OJA0DKE', 'B00WUKSLQ8', 'B011S6SYEI', 'B0738R2QH3', 'B000G8399A', 'B00OJ9NBAO', 'B00FAU7DHI', 'B06XPHTJ6L', 'B017DX0FQU', 'B07C2S9KDT', 'B00HBGCVXA', 'B00OJ9FEAE', 'B01CMZC6IO', 'B0799CH1ZZ', 'B07GK65NJJ', 'B00S8SONH2', 'B07FMRG1PF', 'B01MRHESJN', 'B00DYUWEU2', 'B002YKCI36', 'B075312HXS', 'B07CT98B7J', 'B077H8GT4H', 'B06XR527WG', 'B005FL84X4', 'B07C33DF8R', 'B00B5I1ZO6', 'B078WJSTVJ', 'B01N9VJB54', 'B074WCZ6RL', 'B0763ZVVVD', 'B00Y1FIQ0G', 'B00HBFBQ82', 'B07DLMD94K', 'B07FMZDSV4', 'B07KPQJTVD', 'B00XMZP186', 'B07H7Q1M5F', 'B01MUGZWMZ', 'B06XTHBNM4', 'B01LZ2KJNT', 'B01MY2EKVE', 'B016C0QZ9Q', 'B00VC43YN8', 'B07BW4XQ8M', 'B00GU2S2F2', 'B07HHKVJ4M', 'B072KLBV7N', 'B07B4PRGX7', 'B00UCF5D2S', 'B01DTII3VC', 'B00WUJQREC', 'B07C339K9M', 'B0078DQ7PE', 'B00T3M0R7C', 'B074SQR62P', 'B01LWRTEPE', 'B00AEUKK42', 'B00L3IYQQC']</th>\n      <td>1.428571</td>\n    </tr>\n    <tr>\n      <th>['B00LR5OJXG', 'B002LV6LWW', 'B00I9MN8AA', 'B00XMZINYU', 'B01N479QAN', 'B009CC6WYK', 'B004MR1S3U', 'B00032C91I', 'B000EVQWIY', 'B00168AE2Y']</th>\n      <td>1.333333</td>\n    </tr>\n    <tr>\n      <th>['B007UWD1E8', 'B000NHTHTA', 'B001QFBJTE', '097912560X', '0756602858', 'B01NC0XCHM', 'B00T0WMIJK', '1976722772', 'B00BI1N8N6', 'B079L15J5M', 'B007QVJ8PE', '0692859055', 'B007BPXI6U', '1580132308', '0870685422', 'B01BRLIRZ0', 'B01N6YPWNG', 'B007DUZFEQ', '1422620557', 'B003H2TDZG', '0142300624', 'B0068DPQPC', 'B007M0SM5G', 'B007FZBH0A', 'B007RPGY7E', 'B004RZJCSA', 'B06XCS2WKL', 'B007B4WB96']</th>\n      <td>1.000000</td>\n    </tr>\n  </tbody>\n</table>\n<p>29115 rows × 1 columns</p>\n</div>"
     },
     "metadata": {},
     "output_type": "display_data"
    },
    {
     "data": {
      "text/plain": "                                overall\nbrand                                  \nKargher                        5.000000\nMrs Millers Homemade           5.000000\nSonny's                        5.000000\nBurt's Bees                    5.000000\nSonny & Joe's                  5.000000\n...                                 ...\nTolerant Foods                 1.714286\nWaffleWaffle                   1.714286\nDrink Chia                     1.500000\nFactory Card and Party Outlet  1.000000\nBrooks                         1.000000\n\n[8861 rows x 1 columns]",
      "text/html": "<div>\n<style scoped>\n    .dataframe tbody tr th:only-of-type {\n        vertical-align: middle;\n    }\n\n    .dataframe tbody tr th {\n        vertical-align: top;\n    }\n\n    .dataframe thead th {\n        text-align: right;\n    }\n</style>\n<table border=\"1\" class=\"dataframe\">\n  <thead>\n    <tr style=\"text-align: right;\">\n      <th></th>\n      <th>overall</th>\n    </tr>\n    <tr>\n      <th>brand</th>\n      <th></th>\n    </tr>\n  </thead>\n  <tbody>\n    <tr>\n      <th>Kargher</th>\n      <td>5.000000</td>\n    </tr>\n    <tr>\n      <th>Mrs Millers Homemade</th>\n      <td>5.000000</td>\n    </tr>\n    <tr>\n      <th>Sonny's</th>\n      <td>5.000000</td>\n    </tr>\n    <tr>\n      <th>Burt's Bees</th>\n      <td>5.000000</td>\n    </tr>\n    <tr>\n      <th>Sonny &amp; Joe's</th>\n      <td>5.000000</td>\n    </tr>\n    <tr>\n      <th>...</th>\n      <td>...</td>\n    </tr>\n    <tr>\n      <th>Tolerant Foods</th>\n      <td>1.714286</td>\n    </tr>\n    <tr>\n      <th>WaffleWaffle</th>\n      <td>1.714286</td>\n    </tr>\n    <tr>\n      <th>Drink Chia</th>\n      <td>1.500000</td>\n    </tr>\n    <tr>\n      <th>Factory Card and Party Outlet</th>\n      <td>1.000000</td>\n    </tr>\n    <tr>\n      <th>Brooks</th>\n      <td>1.000000</td>\n    </tr>\n  </tbody>\n</table>\n<p>8861 rows × 1 columns</p>\n</div>"
     },
     "metadata": {},
     "output_type": "display_data"
    },
    {
     "data": {
      "text/plain": "                                     overall\nrank                                        \n46,598 in Grocery & Gourmet Food (       5.0\n73,258 in Grocery & Gourmet Food (       5.0\n469,903 in Grocery & Gourmet Food (      5.0\n129,023 in Grocery & Gourmet Food (      5.0\n73,651 in Grocery & Gourmet Food (       5.0\n...                                      ...\n453,831 in Grocery & Gourmet Food (      1.2\n384,445 in Health & Household (          1.0\n384,006 in Grocery & Gourmet Food (      1.0\n143,507 in Grocery & Gourmet Food (      1.0\n478,636 in Grocery & Gourmet Food (      1.0\n\n[36865 rows x 1 columns]",
      "text/html": "<div>\n<style scoped>\n    .dataframe tbody tr th:only-of-type {\n        vertical-align: middle;\n    }\n\n    .dataframe tbody tr th {\n        vertical-align: top;\n    }\n\n    .dataframe thead th {\n        text-align: right;\n    }\n</style>\n<table border=\"1\" class=\"dataframe\">\n  <thead>\n    <tr style=\"text-align: right;\">\n      <th></th>\n      <th>overall</th>\n    </tr>\n    <tr>\n      <th>rank</th>\n      <th></th>\n    </tr>\n  </thead>\n  <tbody>\n    <tr>\n      <th>46,598 in Grocery &amp; Gourmet Food (</th>\n      <td>5.0</td>\n    </tr>\n    <tr>\n      <th>73,258 in Grocery &amp; Gourmet Food (</th>\n      <td>5.0</td>\n    </tr>\n    <tr>\n      <th>469,903 in Grocery &amp; Gourmet Food (</th>\n      <td>5.0</td>\n    </tr>\n    <tr>\n      <th>129,023 in Grocery &amp; Gourmet Food (</th>\n      <td>5.0</td>\n    </tr>\n    <tr>\n      <th>73,651 in Grocery &amp; Gourmet Food (</th>\n      <td>5.0</td>\n    </tr>\n    <tr>\n      <th>...</th>\n      <td>...</td>\n    </tr>\n    <tr>\n      <th>453,831 in Grocery &amp; Gourmet Food (</th>\n      <td>1.2</td>\n    </tr>\n    <tr>\n      <th>384,445 in Health &amp; Household (</th>\n      <td>1.0</td>\n    </tr>\n    <tr>\n      <th>384,006 in Grocery &amp; Gourmet Food (</th>\n      <td>1.0</td>\n    </tr>\n    <tr>\n      <th>143,507 in Grocery &amp; Gourmet Food (</th>\n      <td>1.0</td>\n    </tr>\n    <tr>\n      <th>478,636 in Grocery &amp; Gourmet Food (</th>\n      <td>1.0</td>\n    </tr>\n  </tbody>\n</table>\n<p>36865 rows × 1 columns</p>\n</div>"
     },
     "metadata": {},
     "output_type": "display_data"
    },
    {
     "data": {
      "text/plain": "                                                    overall\nalso_view                                                  \n['B002RBTV78', 'B009ZJHQVS', 'B004XDMS3C', 'B00...      5.0\n['B00KHXESLC', 'B00PFDH0IC', 'B00DDT116M', 'B07...      5.0\n['B0728JG21W', 'B000HQMNIO', 'B01MY0J2L9', 'B00...      5.0\n['B0017L0FME', 'B00AZWV1LK', 'B0017KYJK4', 'B00...      5.0\n['B0017L8JZE', 'B000WLHXOS', 'B07GD98K52', 'B00...      5.0\n...                                                     ...\n['B000LKVSDM', 'B003VYH8AM']                            1.2\n['B01M22URBN', 'B00DT39IH6']                            1.0\n['B007QVJ8PE', 'B0015844LM']                            1.0\n['B00MPC4PCU', 'B01AP9E3W6', 'B008VUKZ9M', 'B00...      1.0\n['B074Q3CH6C', 'B000I07O10', 'B000CBEP9O', 'B00...      1.0\n\n[21871 rows x 1 columns]",
      "text/html": "<div>\n<style scoped>\n    .dataframe tbody tr th:only-of-type {\n        vertical-align: middle;\n    }\n\n    .dataframe tbody tr th {\n        vertical-align: top;\n    }\n\n    .dataframe thead th {\n        text-align: right;\n    }\n</style>\n<table border=\"1\" class=\"dataframe\">\n  <thead>\n    <tr style=\"text-align: right;\">\n      <th></th>\n      <th>overall</th>\n    </tr>\n    <tr>\n      <th>also_view</th>\n      <th></th>\n    </tr>\n  </thead>\n  <tbody>\n    <tr>\n      <th>['B002RBTV78', 'B009ZJHQVS', 'B004XDMS3C', 'B00D9RRZ3Q', 'B07BDPDMW3', 'B00QIRM3CW', 'B00PNGAJCK', 'B07BQLJH5T', 'B01M4MO1BA', 'B00N24CM98', 'B00AWAYLYO', 'B004AQZNAW', 'B015OBXFMO', 'B00FAVU914', 'B007H8EJMI', 'B00AEAQJNS', 'B007R6FR2Q', 'B019NVNABM', 'B00I0C3WKK', 'B00SXRE6NO', 'B00GJ7WQBO', 'B071SFKSK8', 'B010NBQ9UK', 'B009ZJHOAG', 'B002RBTYRK', 'B002ULEFYE', 'B00405AXEO', 'B00DXLBBQU', 'B0042TVKZY', 'B00FKDFRTQ', 'B01N5Q2QEK', 'B0756LK7Z5', 'B00U3WWXA0', 'B000IXUK8G', 'B004L4EJQ2', 'B01965DYYS', 'B01AHPBP88']</th>\n      <td>5.0</td>\n    </tr>\n    <tr>\n      <th>['B00KHXESLC', 'B00PFDH0IC', 'B00DDT116M', 'B074TQ24SY', 'B014LT0712', 'B010QN2AKS', 'B06Y2KV2J1', 'B01G0S3Y44', 'B00V9FJZMY', 'B01CUW7HPG', 'B07DJ1KVDP', 'B01NAH3I71', 'B01LOQ9842', 'B013GMM3US', 'B06ZY998XB', 'B071989165', 'B06XXQF4DB', 'B00NYYVWFQ', 'B076CWTSB1', 'B017U3F1U8', 'B011DMQRXW', 'B07DM7P5PG', 'B00KQXD936', 'B07C72ZDTT', 'B01DTQD7VA', 'B0101A2FFQ', 'B017QYXVSK', 'B00WVNY0CI', 'B00Y8BUC6E', 'B018NHO87C', 'B000WB1YSE', 'B01FE95IDU', 'B01L2GW7SI', 'B015NBLJY6', 'B07BVDL7ZC', 'B013IL2JX8', 'B01C3MT4IQ', 'B014DSIT5C', 'B001B2SVOS', 'B06ZZY859Z', 'B009PARMMA', 'B0019FOZC4', 'B00O41OKEI', 'B00J7QWB14', 'B075RB264F', 'B00UG4ST1W', 'B00447S4YY', 'B00X6BX6ZG', 'B003VSEG7Q', 'B01F9CNJ42', 'B01C6F1SQ6', 'B013XKP3TG', 'B01BY9RTNQ', 'B000SATIFA']</th>\n      <td>5.0</td>\n    </tr>\n    <tr>\n      <th>['B0728JG21W', 'B000HQMNIO', 'B01MY0J2L9', 'B0002HAAQ0', 'B01NAHBW9H']</th>\n      <td>5.0</td>\n    </tr>\n    <tr>\n      <th>['B0017L0FME', 'B00AZWV1LK', 'B0017KYJK4', 'B004E2OJFM', 'B003MZBIG0']</th>\n      <td>5.0</td>\n    </tr>\n    <tr>\n      <th>['B0017L8JZE', 'B000WLHXOS', 'B07GD98K52', 'B000FBKFRW', 'B000FBQ4YU', 'B077K8CPXW', 'B00MTV3QW2', 'B0121ISUPA', 'B00886H9DE', 'B000FBKFV8', 'B077TG9RXQ', 'B005Z4B550', 'B01836WSUW', 'B00MTV2AG0', 'B017Y22WSO', 'B005Z43DVY', 'B001SAQKIW', 'B008SP4VT0', 'B000FBO9LK', 'B016ZIOC9U', 'B007CXUTHM', 'B00RZTAO6Y', 'B000FBQ50I', 'B00060P2M0', 'B0019FM36Y', 'B00C50TCSE', 'B000F9X40O', 'B01D6D1VQ4', 'B01M3X9L1P', 'B00P9YBM4A', 'B01LZ3OPTK', 'B003FJ4AN6', 'B00G18VTQY', 'B000LZYV40', 'B003VC3M90', 'B00I8VS45G', 'B00TP7HRD2', 'B000FBM3WC', 'B0061BPM2S', 'B01FUQELY4', 'B004JXGY5O', 'B004LDCZGE', 'B01M65KZYJ', 'B01MDV7MLB', 'B000MUT900', 'B076KXQ4VP', 'B003D5JJEC', 'B0759RZSJY', 'B01D6ELPPU', 'B00ICLGATE', 'B00NU8F1WQ']</th>\n      <td>5.0</td>\n    </tr>\n    <tr>\n      <th>...</th>\n      <td>...</td>\n    </tr>\n    <tr>\n      <th>['B000LKVSDM', 'B003VYH8AM']</th>\n      <td>1.2</td>\n    </tr>\n    <tr>\n      <th>['B01M22URBN', 'B00DT39IH6']</th>\n      <td>1.0</td>\n    </tr>\n    <tr>\n      <th>['B007QVJ8PE', 'B0015844LM']</th>\n      <td>1.0</td>\n    </tr>\n    <tr>\n      <th>['B00MPC4PCU', 'B01AP9E3W6', 'B008VUKZ9M', 'B00PFY0J4S', 'B000WG7HI0', 'B009F5AHNG', 'B07F7STZ1T', 'B01LY7KHQE', 'B07GL7MSKT', 'B003CEBBEA']</th>\n      <td>1.0</td>\n    </tr>\n    <tr>\n      <th>['B074Q3CH6C', 'B000I07O10', 'B000CBEP9O', 'B00750E0X6', 'B0756FGPTF', 'B001V7P00G', 'B014GGH1AK', 'B07B4W2S8J', 'B075F87YJC', 'B0178CWDG6', 'B0057QMXRK', 'B0155QF4UO', 'B07F3GR5YN', 'B0016K91VW', 'B01M1DXIMK', 'B01A99GERO', 'B01DMZYWTY', 'B01M4RLHGW', 'B002MFKQQO', 'B007VHKFXW']</th>\n      <td>1.0</td>\n    </tr>\n  </tbody>\n</table>\n<p>21871 rows × 1 columns</p>\n</div>"
     },
     "metadata": {},
     "output_type": "display_data"
    },
    {
     "data": {
      "text/plain": "                            overall\nmain_cat                           \nCell Phones & Accessories  4.800000\nMusical Instruments        4.625000\nIndustrial & Scientific    4.557296\nHome Audio & Theater       4.545455\nSports & Outdoors          4.483806\nToys & Games               4.476804\nOffice Products            4.457933\nCamera & Photo             4.444444\nGrocery                    4.440004\nHealth & Personal Care     4.439727\nAmazon Home                4.439337\nAll Beauty                 4.394344\nBaby                       4.219512\nArts, Crafts & Sewing      4.125000\nPet Supplies               4.036364\nTools & Home Improvement   4.027027\nSoftware                   3.800000",
      "text/html": "<div>\n<style scoped>\n    .dataframe tbody tr th:only-of-type {\n        vertical-align: middle;\n    }\n\n    .dataframe tbody tr th {\n        vertical-align: top;\n    }\n\n    .dataframe thead th {\n        text-align: right;\n    }\n</style>\n<table border=\"1\" class=\"dataframe\">\n  <thead>\n    <tr style=\"text-align: right;\">\n      <th></th>\n      <th>overall</th>\n    </tr>\n    <tr>\n      <th>main_cat</th>\n      <th></th>\n    </tr>\n  </thead>\n  <tbody>\n    <tr>\n      <th>Cell Phones &amp; Accessories</th>\n      <td>4.800000</td>\n    </tr>\n    <tr>\n      <th>Musical Instruments</th>\n      <td>4.625000</td>\n    </tr>\n    <tr>\n      <th>Industrial &amp; Scientific</th>\n      <td>4.557296</td>\n    </tr>\n    <tr>\n      <th>Home Audio &amp; Theater</th>\n      <td>4.545455</td>\n    </tr>\n    <tr>\n      <th>Sports &amp; Outdoors</th>\n      <td>4.483806</td>\n    </tr>\n    <tr>\n      <th>Toys &amp; Games</th>\n      <td>4.476804</td>\n    </tr>\n    <tr>\n      <th>Office Products</th>\n      <td>4.457933</td>\n    </tr>\n    <tr>\n      <th>Camera &amp; Photo</th>\n      <td>4.444444</td>\n    </tr>\n    <tr>\n      <th>Grocery</th>\n      <td>4.440004</td>\n    </tr>\n    <tr>\n      <th>Health &amp; Personal Care</th>\n      <td>4.439727</td>\n    </tr>\n    <tr>\n      <th>Amazon Home</th>\n      <td>4.439337</td>\n    </tr>\n    <tr>\n      <th>All Beauty</th>\n      <td>4.394344</td>\n    </tr>\n    <tr>\n      <th>Baby</th>\n      <td>4.219512</td>\n    </tr>\n    <tr>\n      <th>Arts, Crafts &amp; Sewing</th>\n      <td>4.125000</td>\n    </tr>\n    <tr>\n      <th>Pet Supplies</th>\n      <td>4.036364</td>\n    </tr>\n    <tr>\n      <th>Tools &amp; Home Improvement</th>\n      <td>4.027027</td>\n    </tr>\n    <tr>\n      <th>Software</th>\n      <td>3.800000</td>\n    </tr>\n  </tbody>\n</table>\n</div>"
     },
     "metadata": {},
     "output_type": "display_data"
    },
    {
     "data": {
      "text/plain": "         overall\nprice           \n17.41   5.000000\n82.54   5.000000\n70.44   5.000000\n70.28   5.000000\n40.60   5.000000\n...          ...\n82.49   2.250000\n24.34   2.200000\n7.11    2.174757\n40.15   1.400000\n275.00  1.000000\n\n[4529 rows x 1 columns]",
      "text/html": "<div>\n<style scoped>\n    .dataframe tbody tr th:only-of-type {\n        vertical-align: middle;\n    }\n\n    .dataframe tbody tr th {\n        vertical-align: top;\n    }\n\n    .dataframe thead th {\n        text-align: right;\n    }\n</style>\n<table border=\"1\" class=\"dataframe\">\n  <thead>\n    <tr style=\"text-align: right;\">\n      <th></th>\n      <th>overall</th>\n    </tr>\n    <tr>\n      <th>price</th>\n      <th></th>\n    </tr>\n  </thead>\n  <tbody>\n    <tr>\n      <th>17.41</th>\n      <td>5.000000</td>\n    </tr>\n    <tr>\n      <th>82.54</th>\n      <td>5.000000</td>\n    </tr>\n    <tr>\n      <th>70.44</th>\n      <td>5.000000</td>\n    </tr>\n    <tr>\n      <th>70.28</th>\n      <td>5.000000</td>\n    </tr>\n    <tr>\n      <th>40.60</th>\n      <td>5.000000</td>\n    </tr>\n    <tr>\n      <th>...</th>\n      <td>...</td>\n    </tr>\n    <tr>\n      <th>82.49</th>\n      <td>2.250000</td>\n    </tr>\n    <tr>\n      <th>24.34</th>\n      <td>2.200000</td>\n    </tr>\n    <tr>\n      <th>7.11</th>\n      <td>2.174757</td>\n    </tr>\n    <tr>\n      <th>40.15</th>\n      <td>1.400000</td>\n    </tr>\n    <tr>\n      <th>275.00</th>\n      <td>1.000000</td>\n    </tr>\n  </tbody>\n</table>\n<p>4529 rows × 1 columns</p>\n</div>"
     },
     "metadata": {},
     "output_type": "display_data"
    },
    {
     "data": {
      "text/plain": "            overall\nasin               \nB003QAHH5W      5.0\nB001EQ58EC      5.0\nB00MQ50AGG      5.0\nB001EQ56Y4      5.0\nB0096Q39J8      5.0\n...             ...\nB000LKXQRS      1.2\nB0014AJV82      1.0\nB000WW6VZO      1.0\nB001684NJO      1.0\nB000ZB3CRC      1.0\n\n[41280 rows x 1 columns]",
      "text/html": "<div>\n<style scoped>\n    .dataframe tbody tr th:only-of-type {\n        vertical-align: middle;\n    }\n\n    .dataframe tbody tr th {\n        vertical-align: top;\n    }\n\n    .dataframe thead th {\n        text-align: right;\n    }\n</style>\n<table border=\"1\" class=\"dataframe\">\n  <thead>\n    <tr style=\"text-align: right;\">\n      <th></th>\n      <th>overall</th>\n    </tr>\n    <tr>\n      <th>asin</th>\n      <th></th>\n    </tr>\n  </thead>\n  <tbody>\n    <tr>\n      <th>B003QAHH5W</th>\n      <td>5.0</td>\n    </tr>\n    <tr>\n      <th>B001EQ58EC</th>\n      <td>5.0</td>\n    </tr>\n    <tr>\n      <th>B00MQ50AGG</th>\n      <td>5.0</td>\n    </tr>\n    <tr>\n      <th>B001EQ56Y4</th>\n      <td>5.0</td>\n    </tr>\n    <tr>\n      <th>B0096Q39J8</th>\n      <td>5.0</td>\n    </tr>\n    <tr>\n      <th>...</th>\n      <td>...</td>\n    </tr>\n    <tr>\n      <th>B000LKXQRS</th>\n      <td>1.2</td>\n    </tr>\n    <tr>\n      <th>B0014AJV82</th>\n      <td>1.0</td>\n    </tr>\n    <tr>\n      <th>B000WW6VZO</th>\n      <td>1.0</td>\n    </tr>\n    <tr>\n      <th>B001684NJO</th>\n      <td>1.0</td>\n    </tr>\n    <tr>\n      <th>B000ZB3CRC</th>\n      <td>1.0</td>\n    </tr>\n  </tbody>\n</table>\n<p>41280 rows × 1 columns</p>\n</div>"
     },
     "metadata": {},
     "output_type": "display_data"
    },
    {
     "data": {
      "text/plain": "                                                    overall\ndetails                                                    \n{'Shipping Weight:': '6.4 pounds', 'ASIN: ': 'B...      5.0\n{'Shipping Weight:': '6.6 pounds (', 'ASIN: ': ...      5.0\n{'Shipping Weight:': '6.6 pounds (', 'Domestic ...      5.0\n{'Shipping Weight:': '6.6 pounds (', 'Domestic ...      5.0\n{'Shipping Weight:': '6.6 pounds (', 'Domestic ...      5.0\n...                                                     ...\n{'Shipping Weight:': '2 pounds', 'Domestic Ship...      1.2\n{'\\n    Item Weight: \\n    ': '15 pounds', 'Shi...      1.0\n{'Shipping Weight:': '8.8 pounds', 'Domestic Sh...      1.0\n{'\\n    Product Dimensions: \\n    ': '8 x 4.8 x...      1.0\n{'Shipping Weight:': '10.4 pounds (', 'ASIN: ':...      1.0\n\n[40178 rows x 1 columns]",
      "text/html": "<div>\n<style scoped>\n    .dataframe tbody tr th:only-of-type {\n        vertical-align: middle;\n    }\n\n    .dataframe tbody tr th {\n        vertical-align: top;\n    }\n\n    .dataframe thead th {\n        text-align: right;\n    }\n</style>\n<table border=\"1\" class=\"dataframe\">\n  <thead>\n    <tr style=\"text-align: right;\">\n      <th></th>\n      <th>overall</th>\n    </tr>\n    <tr>\n      <th>details</th>\n      <th></th>\n    </tr>\n  </thead>\n  <tbody>\n    <tr>\n      <th>{'Shipping Weight:': '6.4 pounds', 'ASIN: ': 'B007A4JB7C', 'UPC:': '030300015268'}</th>\n      <td>5.0</td>\n    </tr>\n    <tr>\n      <th>{'Shipping Weight:': '6.6 pounds (', 'ASIN: ': 'B00U6MCGD6', 'UPC:': '737069889771'}</th>\n      <td>5.0</td>\n    </tr>\n    <tr>\n      <th>{'Shipping Weight:': '6.6 pounds (', 'Domestic Shipping: ': 'Currently, item can be shipped only within the U.S. and to APO/FPO addresses. For APO/FPO shipments, please check with the manufacturer regarding warranty and support issues.', 'International Shipping: ': 'This item is not eligible for international shipping.', 'ASIN: ': 'B000ET93MS', 'UPC:': '707005290923', 'Item model number:': '10085693101002'}</th>\n      <td>5.0</td>\n    </tr>\n    <tr>\n      <th>{'Shipping Weight:': '6.6 pounds (', 'Domestic Shipping: ': 'Currently, item can be shipped only within the U.S. and to APO/FPO addresses. For APO/FPO shipments, please check with the manufacturer regarding warranty and support issues.', 'International Shipping: ': 'This item is not eligible for international shipping.', 'ASIN: ': 'B000PDMB0Y'}</th>\n      <td>5.0</td>\n    </tr>\n    <tr>\n      <th>{'Shipping Weight:': '6.6 pounds (', 'Domestic Shipping: ': 'Currently, item can be shipped only within the U.S. and to APO/FPO addresses. For APO/FPO shipments, please check with the manufacturer regarding warranty and support issues.', 'International Shipping: ': 'This item is not eligible for international shipping.', 'ASIN: ': 'B003SKYAQE', 'UPC:': '839456001091'}</th>\n      <td>5.0</td>\n    </tr>\n    <tr>\n      <th>...</th>\n      <td>...</td>\n    </tr>\n    <tr>\n      <th>{'Shipping Weight:': '2 pounds', 'Domestic Shipping: ': 'Currently, item can be shipped only within the U.S. and to APO/FPO addresses. For APO/FPO shipments, please check with the manufacturer regarding warranty and support issues.', 'International Shipping: ': 'This item is not eligible for international shipping.', 'ASIN: ': 'B004TJF39G', 'Item model number:': '35926804651'}</th>\n      <td>1.2</td>\n    </tr>\n    <tr>\n      <th>{'\\n    Item Weight: \\n    ': '15 pounds', 'Shipping Weight:': '15 pounds (', 'ASIN: ': 'B000WW6VZO', 'UPC:': '899041002261', 'Item model number:': 'FORTUNE100'}</th>\n      <td>1.0</td>\n    </tr>\n    <tr>\n      <th>{'Shipping Weight:': '8.8 pounds', 'Domestic Shipping: ': 'Currently, item can be shipped only within the U.S. and to APO/FPO addresses. For APO/FPO shipments, please check with the manufacturer regarding warranty and support issues.', 'International Shipping: ': 'This item is not eligible for international shipping.', 'ASIN: ': 'B000ZB3CRC', 'UPC:': '011300380709', 'Item model number:': '38070'}</th>\n      <td>1.0</td>\n    </tr>\n    <tr>\n      <th>{'\\n    Product Dimensions: \\n    ': '8 x 4.8 x 2 inches', 'Shipping Weight:': '1 pounds (', 'Domestic Shipping: ': 'Currently, item can be shipped only within the U.S. and to APO/FPO addresses. For APO/FPO shipments, please check with the manufacturer regarding warranty and support issues.', 'International Shipping: ': 'This item can be shipped to select countries outside of the U.S.', 'ASIN: ': 'B0014AJV82', 'UPC:': '089824008515'}</th>\n      <td>1.0</td>\n    </tr>\n    <tr>\n      <th>{'Shipping Weight:': '10.4 pounds (', 'ASIN: ': 'B001684NJO', 'UPC:': '023000955606'}</th>\n      <td>1.0</td>\n    </tr>\n  </tbody>\n</table>\n<p>40178 rows × 1 columns</p>\n</div>"
     },
     "metadata": {},
     "output_type": "display_data"
    },
    {
     "data": {
      "text/plain": "           overall\nverified          \nTrue      4.478053\nFalse     4.187316",
      "text/html": "<div>\n<style scoped>\n    .dataframe tbody tr th:only-of-type {\n        vertical-align: middle;\n    }\n\n    .dataframe tbody tr th {\n        vertical-align: top;\n    }\n\n    .dataframe thead th {\n        text-align: right;\n    }\n</style>\n<table border=\"1\" class=\"dataframe\">\n  <thead>\n    <tr style=\"text-align: right;\">\n      <th></th>\n      <th>overall</th>\n    </tr>\n    <tr>\n      <th>verified</th>\n      <th></th>\n    </tr>\n  </thead>\n  <tbody>\n    <tr>\n      <th>True</th>\n      <td>4.478053</td>\n    </tr>\n    <tr>\n      <th>False</th>\n      <td>4.187316</td>\n    </tr>\n  </tbody>\n</table>\n</div>"
     },
     "metadata": {},
     "output_type": "display_data"
    },
    {
     "data": {
      "text/plain": "                overall\nreviewerID             \nA1U7P0J1HDFAWM      5.0\nA1S4VHER8YQMPH      5.0\nAC34TPWTVKUJB       5.0\nA3CUQL4QH0B2A6      5.0\nA2CT5A2222BR6B      5.0\n...                 ...\nA2P6IDL5251A3B      1.0\nAROXQ9TFQ7G2        1.0\nA18BI4ZBFUVE2O      1.0\nA3018DON547TX3      1.0\nA2W15DE33LESS7      1.0\n\n[127496 rows x 1 columns]",
      "text/html": "<div>\n<style scoped>\n    .dataframe tbody tr th:only-of-type {\n        vertical-align: middle;\n    }\n\n    .dataframe tbody tr th {\n        vertical-align: top;\n    }\n\n    .dataframe thead th {\n        text-align: right;\n    }\n</style>\n<table border=\"1\" class=\"dataframe\">\n  <thead>\n    <tr style=\"text-align: right;\">\n      <th></th>\n      <th>overall</th>\n    </tr>\n    <tr>\n      <th>reviewerID</th>\n      <th></th>\n    </tr>\n  </thead>\n  <tbody>\n    <tr>\n      <th>A1U7P0J1HDFAWM</th>\n      <td>5.0</td>\n    </tr>\n    <tr>\n      <th>A1S4VHER8YQMPH</th>\n      <td>5.0</td>\n    </tr>\n    <tr>\n      <th>AC34TPWTVKUJB</th>\n      <td>5.0</td>\n    </tr>\n    <tr>\n      <th>A3CUQL4QH0B2A6</th>\n      <td>5.0</td>\n    </tr>\n    <tr>\n      <th>A2CT5A2222BR6B</th>\n      <td>5.0</td>\n    </tr>\n    <tr>\n      <th>...</th>\n      <td>...</td>\n    </tr>\n    <tr>\n      <th>A2P6IDL5251A3B</th>\n      <td>1.0</td>\n    </tr>\n    <tr>\n      <th>AROXQ9TFQ7G2</th>\n      <td>1.0</td>\n    </tr>\n    <tr>\n      <th>A18BI4ZBFUVE2O</th>\n      <td>1.0</td>\n    </tr>\n    <tr>\n      <th>A3018DON547TX3</th>\n      <td>1.0</td>\n    </tr>\n    <tr>\n      <th>A2W15DE33LESS7</th>\n      <td>1.0</td>\n    </tr>\n  </tbody>\n</table>\n<p>127496 rows × 1 columns</p>\n</div>"
     },
     "metadata": {},
     "output_type": "display_data"
    },
    {
     "data": {
      "text/plain": "                                                    overall\nreviewText                                                 \n\\n\\n\\n\\n\\n\\nI                                           5.0\nReally mouthwatering                                    5.0\nReally love this product for trips--we do somet...      5.0\nReally love this product!!!! Very comforting.           5.0\nReally love this product, I will definitely buy...      5.0\n...                                                     ...\nEvery can was so dented as to be unusable. I'm ...      1.0\nI purchased 2 of these because normally I reall...      1.0\nEvery cherry in the box was melted and busted o...      1.0\nI purchased 2 of the 8oz chicken with ginger an...      1.0\nThese are not individually wrapped with product...      1.0\n\n[888161 rows x 1 columns]",
      "text/html": "<div>\n<style scoped>\n    .dataframe tbody tr th:only-of-type {\n        vertical-align: middle;\n    }\n\n    .dataframe tbody tr th {\n        vertical-align: top;\n    }\n\n    .dataframe thead th {\n        text-align: right;\n    }\n</style>\n<table border=\"1\" class=\"dataframe\">\n  <thead>\n    <tr style=\"text-align: right;\">\n      <th></th>\n      <th>overall</th>\n    </tr>\n    <tr>\n      <th>reviewText</th>\n      <th></th>\n    </tr>\n  </thead>\n  <tbody>\n    <tr>\n      <th>\\n\\n\\n\\n\\n\\nI</th>\n      <td>5.0</td>\n    </tr>\n    <tr>\n      <th>Really mouthwatering</th>\n      <td>5.0</td>\n    </tr>\n    <tr>\n      <th>Really love this product for trips--we do something similar with Starbucks Vias for coffee and they work out great!  All you need is hot water and it works out very well, even better in some cases than tea bags when you can't get the water hot enough to properly steep.  Very versatile and tastes great!  Would also be great for an office as long as you have access to a microwave.</th>\n      <td>5.0</td>\n    </tr>\n    <tr>\n      <th>Really love this product!!!! Very comforting.</th>\n      <td>5.0</td>\n    </tr>\n    <tr>\n      <th>Really love this product, I will definitely buy this again.</th>\n      <td>5.0</td>\n    </tr>\n    <tr>\n      <th>...</th>\n      <td>...</td>\n    </tr>\n    <tr>\n      <th>Every can was so dented as to be unusable. I'm sure the peas are fine, but I will never know because I am throwing every can away. Almost 20 dollars in the trash. I'm not able to mail this back, I can't lift it and was counting on the postman's strong back to do the heavy lifting for me.\\nIt looks to me like on closer inspection that the flimsy cardboard and plastic wrapping for the 12 cans allow some to scoot up higher, and then the can under the rim gets dented by the neighboring can's rim. These cans were so smashed that I'm sure the food is unsafe.\\nThe exterior box was almost destroyed from rough handling.\\nThe mailing method needs changing.</th>\n      <td>1.0</td>\n    </tr>\n    <tr>\n      <th>I purchased 2 of these because normally I really like Praline syrups but this one doesn't taste anything like praline, it is all chestnut flavor and not a good chestnut flavor either. There is no nuttiness to this flavor at all, it is hard to describe but it kind of has a smokey burnt sugar flavor. Our family has only managed to drink about 1/4 of only 1 of the bottles I purchased. I hate to have to throw a brand new bottle out but it is very hard to get it down even if you mix it with another flavor to soften the smokey burnt flavor. Sorry but this one I can't recommend.</th>\n      <td>1.0</td>\n    </tr>\n    <tr>\n      <th>Every cherry in the box was melted and busted open and leaked all the goo all over in the box,  it was a sticky mess! We had to throw a lot away.  Very disappointed as I have ordered these before and they were perfect,  I got a full refund from amazon no questions asked.  Not sure I would take a chance again.</th>\n      <td>1.0</td>\n    </tr>\n    <tr>\n      <th>I purchased 2 of the 8oz chicken with ginger and 2 of the 8oz turkey with rosemary, sage and thyme. The turkey had the lid sealed but the security seal inside was already poked open. On the chicken, the lids were not even sealed and the security seal inside was already poked open.\\nSince this is provided by a third party, I do not recommend risking it. Do not buy these products.</th>\n      <td>1.0</td>\n    </tr>\n    <tr>\n      <th>These are not individually wrapped with product information.</th>\n      <td>1.0</td>\n    </tr>\n  </tbody>\n</table>\n<p>888161 rows × 1 columns</p>\n</div>"
     },
     "metadata": {},
     "output_type": "display_data"
    },
    {
     "data": {
      "text/plain": "                                                    overall\nsummary                                                    \n                                                        5.0\nOrder every other month                                 5.0\nOrder came quickly. I purchased this product to...      5.0\nOrder before you run out                                5.0\nOrder at your own risk                                  5.0\n...                                                     ...\nExpired chocolate FTW                                   1.0\nExpired by over a year                                  1.0\nNot Brazilian coconut water anymore- now is low...      1.0\nNot Brarch's - Do not rely on information given         1.0\nNot a relaxing Chamomile tea for me!                    1.0\n\n[526687 rows x 1 columns]",
      "text/html": "<div>\n<style scoped>\n    .dataframe tbody tr th:only-of-type {\n        vertical-align: middle;\n    }\n\n    .dataframe tbody tr th {\n        vertical-align: top;\n    }\n\n    .dataframe thead th {\n        text-align: right;\n    }\n</style>\n<table border=\"1\" class=\"dataframe\">\n  <thead>\n    <tr style=\"text-align: right;\">\n      <th></th>\n      <th>overall</th>\n    </tr>\n    <tr>\n      <th>summary</th>\n      <th></th>\n    </tr>\n  </thead>\n  <tbody>\n    <tr>\n      <th></th>\n      <td>5.0</td>\n    </tr>\n    <tr>\n      <th>Order every other month</th>\n      <td>5.0</td>\n    </tr>\n    <tr>\n      <th>Order came quickly. I purchased this product to use ...</th>\n      <td>5.0</td>\n    </tr>\n    <tr>\n      <th>Order before you run out</th>\n      <td>5.0</td>\n    </tr>\n    <tr>\n      <th>Order at your own risk</th>\n      <td>5.0</td>\n    </tr>\n    <tr>\n      <th>...</th>\n      <td>...</td>\n    </tr>\n    <tr>\n      <th>Expired chocolate FTW</th>\n      <td>1.0</td>\n    </tr>\n    <tr>\n      <th>Expired by over a year</th>\n      <td>1.0</td>\n    </tr>\n    <tr>\n      <th>Not Brazilian coconut water anymore- now is low qual stuff!</th>\n      <td>1.0</td>\n    </tr>\n    <tr>\n      <th>Not Brarch's - Do not rely on information given</th>\n      <td>1.0</td>\n    </tr>\n    <tr>\n      <th>Not a relaxing Chamomile tea for me!</th>\n      <td>1.0</td>\n    </tr>\n  </tbody>\n</table>\n<p>526687 rows × 1 columns</p>\n</div>"
     },
     "metadata": {},
     "output_type": "display_data"
    },
    {
     "data": {
      "text/plain": "       overall\nvote          \n170.0      5.0\n118.0      5.0\n213.0      5.0\n214.0      5.0\n218.0      5.0\n...        ...\n221.0      1.0\n223.0      1.0\n293.0      1.0\n290.0      1.0\n385.0      1.0\n\n[333 rows x 1 columns]",
      "text/html": "<div>\n<style scoped>\n    .dataframe tbody tr th:only-of-type {\n        vertical-align: middle;\n    }\n\n    .dataframe tbody tr th {\n        vertical-align: top;\n    }\n\n    .dataframe thead th {\n        text-align: right;\n    }\n</style>\n<table border=\"1\" class=\"dataframe\">\n  <thead>\n    <tr style=\"text-align: right;\">\n      <th></th>\n      <th>overall</th>\n    </tr>\n    <tr>\n      <th>vote</th>\n      <th></th>\n    </tr>\n  </thead>\n  <tbody>\n    <tr>\n      <th>170.0</th>\n      <td>5.0</td>\n    </tr>\n    <tr>\n      <th>118.0</th>\n      <td>5.0</td>\n    </tr>\n    <tr>\n      <th>213.0</th>\n      <td>5.0</td>\n    </tr>\n    <tr>\n      <th>214.0</th>\n      <td>5.0</td>\n    </tr>\n    <tr>\n      <th>218.0</th>\n      <td>5.0</td>\n    </tr>\n    <tr>\n      <th>...</th>\n      <td>...</td>\n    </tr>\n    <tr>\n      <th>221.0</th>\n      <td>1.0</td>\n    </tr>\n    <tr>\n      <th>223.0</th>\n      <td>1.0</td>\n    </tr>\n    <tr>\n      <th>293.0</th>\n      <td>1.0</td>\n    </tr>\n    <tr>\n      <th>290.0</th>\n      <td>1.0</td>\n    </tr>\n    <tr>\n      <th>385.0</th>\n      <td>1.0</td>\n    </tr>\n  </tbody>\n</table>\n<p>333 rows × 1 columns</p>\n</div>"
     },
     "metadata": {},
     "output_type": "display_data"
    },
    {
     "data": {
      "text/plain": "                                                    overall\nstyle                                                      \n{'Size:': ' 10 Lb', 'Flavor:': ' Green Unroaste...      5.0\n{'Size:': ' 10.5 Ounce (Pack of 6)', 'Flavor:':...      5.0\n{'Size:': ' 61 Ounce Box', 'Style:': ' Fruit'}          5.0\n{'Size:': ' 10.5 Ounce (Pack of 12)', 'Flavor:'...      5.0\n{'Size:': ' 10.5 Ounce (Pack of 12)', 'Flavor:'...      5.0\n...                                                     ...\n{'Style:': ' Fat Free Apple Cinnamon'}                  1.0\n{'Size:': ' 24 Ounce', 'Flavor:': ' Mixed Nuts ...      1.0\n{'Flavor:': ' 3 Pack - Culinary (Organic)'}             1.0\n{'Size:': ' 7.5 Ounce', 'Flavor:': ' Fireside C...      1.0\n{'Flavor:': ' Organic Freekeh 16oz'}                    1.0\n\n[27539 rows x 1 columns]",
      "text/html": "<div>\n<style scoped>\n    .dataframe tbody tr th:only-of-type {\n        vertical-align: middle;\n    }\n\n    .dataframe tbody tr th {\n        vertical-align: top;\n    }\n\n    .dataframe thead th {\n        text-align: right;\n    }\n</style>\n<table border=\"1\" class=\"dataframe\">\n  <thead>\n    <tr style=\"text-align: right;\">\n      <th></th>\n      <th>overall</th>\n    </tr>\n    <tr>\n      <th>style</th>\n      <th></th>\n    </tr>\n  </thead>\n  <tbody>\n    <tr>\n      <th>{'Size:': ' 10 Lb', 'Flavor:': ' Green Unroasted Ethiopia Coffee Beans'}</th>\n      <td>5.0</td>\n    </tr>\n    <tr>\n      <th>{'Size:': ' 10.5 Ounce (Pack of 6)', 'Flavor:': ' Blackberry'}</th>\n      <td>5.0</td>\n    </tr>\n    <tr>\n      <th>{'Size:': ' 61 Ounce Box', 'Style:': ' Fruit'}</th>\n      <td>5.0</td>\n    </tr>\n    <tr>\n      <th>{'Size:': ' 10.5 Ounce (Pack of 12)', 'Flavor:': ' Chocolate Peanut Butter'}</th>\n      <td>5.0</td>\n    </tr>\n    <tr>\n      <th>{'Size:': ' 10.5 Ounce (Pack of 12)', 'Flavor:': ' Healthy Request. Vegetable'}</th>\n      <td>5.0</td>\n    </tr>\n    <tr>\n      <th>...</th>\n      <td>...</td>\n    </tr>\n    <tr>\n      <th>{'Style:': ' Fat Free Apple Cinnamon'}</th>\n      <td>1.0</td>\n    </tr>\n    <tr>\n      <th>{'Size:': ' 24 Ounce', 'Flavor:': ' Mixed Nuts with Peanuts'}</th>\n      <td>1.0</td>\n    </tr>\n    <tr>\n      <th>{'Flavor:': ' 3 Pack - Culinary (Organic)'}</th>\n      <td>1.0</td>\n    </tr>\n    <tr>\n      <th>{'Size:': ' 7.5 Ounce', 'Flavor:': ' Fireside Cinnamon'}</th>\n      <td>1.0</td>\n    </tr>\n    <tr>\n      <th>{'Flavor:': ' Organic Freekeh 16oz'}</th>\n      <td>1.0</td>\n    </tr>\n  </tbody>\n</table>\n<p>27539 rows × 1 columns</p>\n</div>"
     },
     "metadata": {},
     "output_type": "display_data"
    }
   ],
   "source": [
    "non_target_features = df.columns.drop('overall')\n",
    "for feature in non_target_features:\n",
    "    overall_grouping_avg = df.groupby(feature)[['overall']].mean()\n",
    "    display(overall_grouping_avg.sort_values('overall', ascending=False))"
   ],
   "metadata": {
    "collapsed": false,
    "pycharm": {
     "name": "#%%\n"
    }
   }
  },
  {
   "cell_type": "markdown",
   "source": [
    "The above also shows that most of the features have at least some distribution of the product's rating. \n",
    "The main exception is the verified boolean."
   ],
   "metadata": {
    "collapsed": false,
    "pycharm": {
     "name": "#%% md\n"
    }
   }
  },
  {
   "cell_type": "markdown",
   "source": [
    "Usually, would add default values for nulls in several of the columns either here, or earlier in the process.\n",
    "However, for the recommendation systems it is expected that a significant amount of the data could be null.\n",
    "Therefore, leaving this as is for now."
   ],
   "metadata": {
    "collapsed": false,
    "pycharm": {
     "name": "#%% md\n"
    }
   }
  },
  {
   "cell_type": "markdown",
   "source": [
    "## Save Data"
   ],
   "metadata": {
    "collapsed": false
   }
  },
  {
   "cell_type": "code",
   "execution_count": 19,
   "outputs": [],
   "source": [
    "df.to_csv('../Data/eda_data.csv', index=False)"
   ],
   "metadata": {
    "collapsed": false,
    "pycharm": {
     "name": "#%%\n"
    }
   }
  },
  {
   "cell_type": "markdown",
   "source": [
    "## Summary\n",
    "- There are only 3 numeric (overall, price, and vote) and 1 boolean (verified) features in the data set.\n",
    "- All of these are skewed toward one value or range of values.\n",
    "    - Overall ratings are heavily skewed towards 5.\n",
    "    - Both lower values for price and votes are most frequent.\n",
    "    - Majority of reviews are verified.\n",
    "- The majority of the features are categories/objects/text.\n",
    "- Also, most of the features have at least some distribution of the product's rating. The main exception is the verified boolean. \n",
    "- There are so many categories it wasn't possible to do one hot encoding because of memory issues.\n",
    "- However, this didn't matter because will use processes designed specifically for recommendation systems to overcome these limitations."
   ],
   "metadata": {
    "collapsed": false
   }
  }
 ],
 "metadata": {
  "kernelspec": {
   "name": "pycharm-cef1f773",
   "language": "python",
   "display_name": "PyCharm (pycon2015_tutorial322)"
  },
  "language_info": {
   "codemirror_mode": {
    "name": "ipython",
    "version": 2
   },
   "file_extension": ".py",
   "mimetype": "text/x-python",
   "name": "python",
   "nbconvert_exporter": "python",
   "pygments_lexer": "ipython2",
   "version": "2.7.6"
  }
 },
 "nbformat": 4,
 "nbformat_minor": 0
}