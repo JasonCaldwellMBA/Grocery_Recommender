{
 "cells": [
  {
   "cell_type": "markdown",
   "metadata": {
    "collapsed": true,
    "pycharm": {
     "name": "#%% md\n"
    }
   },
   "source": [
    "## Imports"
   ]
  },
  {
   "cell_type": "code",
   "execution_count": 10,
   "outputs": [],
   "source": [
    "import pandas as pd\n",
    "import numpy as np\n",
    "import os\n",
    "import matplotlib.pyplot as plt\n",
    "import seaborn as sns\n",
    "from sklearn.decomposition import PCA\n",
    "from sklearn.preprocessing import scale"
   ],
   "metadata": {
    "collapsed": false,
    "pycharm": {
     "name": "#%%\n"
    }
   }
  },
  {
   "cell_type": "markdown",
   "source": [
    "## Data Summary"
   ],
   "metadata": {
    "collapsed": false,
    "pycharm": {
     "name": "#%% md\n"
    }
   }
  },
  {
   "cell_type": "code",
   "execution_count": 11,
   "outputs": [],
   "source": [
    "df = pd.read_csv('../Data/grocery_data_cleaned.csv')"
   ],
   "metadata": {
    "collapsed": false,
    "pycharm": {
     "name": "#%%\n"
    }
   }
  },
  {
   "cell_type": "code",
   "execution_count": 12,
   "outputs": [
    {
     "data": {
      "text/plain": "         asin                                           category  \\\n0  0681727810  ['Grocery & Gourmet Food', 'Dairy, Cheese & Eg...   \n1  0853347867  ['Grocery & Gourmet Food', 'Cooking & Baking',...   \n\n                                         description  \\\n0  ['BEEMSTER GOUDA CHEESE AGED 18/24 MONTHS', 'S...   \n1  ['Shipped from UK, please allow 10 to 21 busin...   \n\n                                               title  \\\n0  Beemster Gouda - Aged 18/24 Months - App. 1.5 Lbs   \n1                          Trim Healthy Mama Xylitol   \n\n                                            also_buy           brand feature  \\\n0                                                 []  Ariola Imports      []   \n1  ['B01898YHXK', 'B01BCM6LAC', 'B00Q4OL47O', 'B0...             NaN      []   \n\n                                  rank  \\\n0  165,181 in Grocery & Gourmet Food (   \n1  315,867 in Grocery & Gourmet Food (   \n\n                                           also_view main_cat  price details  \n0  ['B0000D9MYM', 'B0000D9MYL', 'B00ADHIGBA', 'B0...  Grocery  41.91     NaN  \n1                                                 []  Grocery    NaN     NaN  ",
      "text/html": "<div>\n<style scoped>\n    .dataframe tbody tr th:only-of-type {\n        vertical-align: middle;\n    }\n\n    .dataframe tbody tr th {\n        vertical-align: top;\n    }\n\n    .dataframe thead th {\n        text-align: right;\n    }\n</style>\n<table border=\"1\" class=\"dataframe\">\n  <thead>\n    <tr style=\"text-align: right;\">\n      <th></th>\n      <th>asin</th>\n      <th>category</th>\n      <th>description</th>\n      <th>title</th>\n      <th>also_buy</th>\n      <th>brand</th>\n      <th>feature</th>\n      <th>rank</th>\n      <th>also_view</th>\n      <th>main_cat</th>\n      <th>price</th>\n      <th>details</th>\n    </tr>\n  </thead>\n  <tbody>\n    <tr>\n      <th>0</th>\n      <td>0681727810</td>\n      <td>['Grocery &amp; Gourmet Food', 'Dairy, Cheese &amp; Eg...</td>\n      <td>['BEEMSTER GOUDA CHEESE AGED 18/24 MONTHS', 'S...</td>\n      <td>Beemster Gouda - Aged 18/24 Months - App. 1.5 Lbs</td>\n      <td>[]</td>\n      <td>Ariola Imports</td>\n      <td>[]</td>\n      <td>165,181 in Grocery &amp; Gourmet Food (</td>\n      <td>['B0000D9MYM', 'B0000D9MYL', 'B00ADHIGBA', 'B0...</td>\n      <td>Grocery</td>\n      <td>41.91</td>\n      <td>NaN</td>\n    </tr>\n    <tr>\n      <th>1</th>\n      <td>0853347867</td>\n      <td>['Grocery &amp; Gourmet Food', 'Cooking &amp; Baking',...</td>\n      <td>['Shipped from UK, please allow 10 to 21 busin...</td>\n      <td>Trim Healthy Mama Xylitol</td>\n      <td>['B01898YHXK', 'B01BCM6LAC', 'B00Q4OL47O', 'B0...</td>\n      <td>NaN</td>\n      <td>[]</td>\n      <td>315,867 in Grocery &amp; Gourmet Food (</td>\n      <td>[]</td>\n      <td>Grocery</td>\n      <td>NaN</td>\n      <td>NaN</td>\n    </tr>\n  </tbody>\n</table>\n</div>"
     },
     "execution_count": 12,
     "metadata": {},
     "output_type": "execute_result"
    }
   ],
   "source": [
    "df.head(2)"
   ],
   "metadata": {
    "collapsed": false,
    "pycharm": {
     "name": "#%%\n"
    }
   }
  },
  {
   "cell_type": "markdown",
   "source": [
    "## Set Index"
   ],
   "metadata": {
    "collapsed": false,
    "pycharm": {
     "name": "#%% md\n"
    }
   }
  },
  {
   "cell_type": "code",
   "execution_count": 13,
   "outputs": [
    {
     "data": {
      "text/plain": "                                                     category  \\\nasin                                                            \n0681727810  ['Grocery & Gourmet Food', 'Dairy, Cheese & Eg...   \n0853347867  ['Grocery & Gourmet Food', 'Cooking & Baking',...   \n\n                                                  description  \\\nasin                                                            \n0681727810  ['BEEMSTER GOUDA CHEESE AGED 18/24 MONTHS', 'S...   \n0853347867  ['Shipped from UK, please allow 10 to 21 busin...   \n\n                                                        title  \\\nasin                                                            \n0681727810  Beemster Gouda - Aged 18/24 Months - App. 1.5 Lbs   \n0853347867                          Trim Healthy Mama Xylitol   \n\n                                                     also_buy           brand  \\\nasin                                                                            \n0681727810                                                 []  Ariola Imports   \n0853347867  ['B01898YHXK', 'B01BCM6LAC', 'B00Q4OL47O', 'B0...             NaN   \n\n           feature                                 rank  \\\nasin                                                      \n0681727810      []  165,181 in Grocery & Gourmet Food (   \n0853347867      []  315,867 in Grocery & Gourmet Food (   \n\n                                                    also_view main_cat  price  \\\nasin                                                                            \n0681727810  ['B0000D9MYM', 'B0000D9MYL', 'B00ADHIGBA', 'B0...  Grocery  41.91   \n0853347867                                                 []  Grocery    NaN   \n\n           details  \nasin                \n0681727810     NaN  \n0853347867     NaN  ",
      "text/html": "<div>\n<style scoped>\n    .dataframe tbody tr th:only-of-type {\n        vertical-align: middle;\n    }\n\n    .dataframe tbody tr th {\n        vertical-align: top;\n    }\n\n    .dataframe thead th {\n        text-align: right;\n    }\n</style>\n<table border=\"1\" class=\"dataframe\">\n  <thead>\n    <tr style=\"text-align: right;\">\n      <th></th>\n      <th>category</th>\n      <th>description</th>\n      <th>title</th>\n      <th>also_buy</th>\n      <th>brand</th>\n      <th>feature</th>\n      <th>rank</th>\n      <th>also_view</th>\n      <th>main_cat</th>\n      <th>price</th>\n      <th>details</th>\n    </tr>\n    <tr>\n      <th>asin</th>\n      <th></th>\n      <th></th>\n      <th></th>\n      <th></th>\n      <th></th>\n      <th></th>\n      <th></th>\n      <th></th>\n      <th></th>\n      <th></th>\n      <th></th>\n    </tr>\n  </thead>\n  <tbody>\n    <tr>\n      <th>0681727810</th>\n      <td>['Grocery &amp; Gourmet Food', 'Dairy, Cheese &amp; Eg...</td>\n      <td>['BEEMSTER GOUDA CHEESE AGED 18/24 MONTHS', 'S...</td>\n      <td>Beemster Gouda - Aged 18/24 Months - App. 1.5 Lbs</td>\n      <td>[]</td>\n      <td>Ariola Imports</td>\n      <td>[]</td>\n      <td>165,181 in Grocery &amp; Gourmet Food (</td>\n      <td>['B0000D9MYM', 'B0000D9MYL', 'B00ADHIGBA', 'B0...</td>\n      <td>Grocery</td>\n      <td>41.91</td>\n      <td>NaN</td>\n    </tr>\n    <tr>\n      <th>0853347867</th>\n      <td>['Grocery &amp; Gourmet Food', 'Cooking &amp; Baking',...</td>\n      <td>['Shipped from UK, please allow 10 to 21 busin...</td>\n      <td>Trim Healthy Mama Xylitol</td>\n      <td>['B01898YHXK', 'B01BCM6LAC', 'B00Q4OL47O', 'B0...</td>\n      <td>NaN</td>\n      <td>[]</td>\n      <td>315,867 in Grocery &amp; Gourmet Food (</td>\n      <td>[]</td>\n      <td>Grocery</td>\n      <td>NaN</td>\n      <td>NaN</td>\n    </tr>\n  </tbody>\n</table>\n</div>"
     },
     "execution_count": 13,
     "metadata": {},
     "output_type": "execute_result"
    }
   ],
   "source": [
    "df.set_index('asin', inplace=True)\n",
    "df.head(2)"
   ],
   "metadata": {
    "collapsed": false,
    "pycharm": {
     "name": "#%%\n"
    }
   }
  },
  {
   "cell_type": "markdown",
   "source": [
    "## Convert Objects to Categories"
   ],
   "metadata": {
    "collapsed": false,
    "pycharm": {
     "name": "#%% md\n"
    }
   }
  },
  {
   "cell_type": "code",
   "execution_count": 14,
   "outputs": [
    {
     "name": "stdout",
     "output_type": "stream",
     "text": [
      "<class 'pandas.core.frame.DataFrame'>\n",
      "Index: 283354 entries, 0681727810 to B01HJFRDDA\n",
      "Data columns (total 10 columns):\n",
      " #   Column       Non-Null Count   Dtype \n",
      "---  ------       --------------   ----- \n",
      " 0   category     283354 non-null  object\n",
      " 1   description  283354 non-null  object\n",
      " 2   title        283351 non-null  object\n",
      " 3   also_buy     283354 non-null  object\n",
      " 4   brand        272098 non-null  object\n",
      " 5   feature      283354 non-null  object\n",
      " 6   rank         283354 non-null  object\n",
      " 7   also_view    283354 non-null  object\n",
      " 8   main_cat     281991 non-null  object\n",
      " 9   details      283330 non-null  object\n",
      "dtypes: object(10)\n",
      "memory usage: 23.8+ MB\n"
     ]
    }
   ],
   "source": [
    "df_objects = df.select_dtypes(include='object')\n",
    "df_objects.info()"
   ],
   "metadata": {
    "collapsed": false,
    "pycharm": {
     "name": "#%%\n"
    }
   }
  },
  {
   "cell_type": "code",
   "execution_count": 15,
   "outputs": [
    {
     "data": {
      "text/plain": "      Features  Number of Categories\n0     category                  1355\n1  description                224318\n2        title                280831\n3     also_buy                 80028\n4        brand                 38900\n5      feature                 12190\n6         rank                246846\n7    also_view                114476\n8     main_cat                    32\n9      details                268409",
      "text/html": "<div>\n<style scoped>\n    .dataframe tbody tr th:only-of-type {\n        vertical-align: middle;\n    }\n\n    .dataframe tbody tr th {\n        vertical-align: top;\n    }\n\n    .dataframe thead th {\n        text-align: right;\n    }\n</style>\n<table border=\"1\" class=\"dataframe\">\n  <thead>\n    <tr style=\"text-align: right;\">\n      <th></th>\n      <th>Features</th>\n      <th>Number of Categories</th>\n    </tr>\n  </thead>\n  <tbody>\n    <tr>\n      <th>0</th>\n      <td>category</td>\n      <td>1355</td>\n    </tr>\n    <tr>\n      <th>1</th>\n      <td>description</td>\n      <td>224318</td>\n    </tr>\n    <tr>\n      <th>2</th>\n      <td>title</td>\n      <td>280831</td>\n    </tr>\n    <tr>\n      <th>3</th>\n      <td>also_buy</td>\n      <td>80028</td>\n    </tr>\n    <tr>\n      <th>4</th>\n      <td>brand</td>\n      <td>38900</td>\n    </tr>\n    <tr>\n      <th>5</th>\n      <td>feature</td>\n      <td>12190</td>\n    </tr>\n    <tr>\n      <th>6</th>\n      <td>rank</td>\n      <td>246846</td>\n    </tr>\n    <tr>\n      <th>7</th>\n      <td>also_view</td>\n      <td>114476</td>\n    </tr>\n    <tr>\n      <th>8</th>\n      <td>main_cat</td>\n      <td>32</td>\n    </tr>\n    <tr>\n      <th>9</th>\n      <td>details</td>\n      <td>268409</td>\n    </tr>\n  </tbody>\n</table>\n</div>"
     },
     "execution_count": 15,
     "metadata": {},
     "output_type": "execute_result"
    }
   ],
   "source": [
    "dfo_unique = pd.DataFrame(df_objects.nunique()).reset_index()\n",
    "dfo_unique.columns = ['Features', 'Number of Categories']\n",
    "dfo_unique.sort_values(by='Number of Categories', ascending=False)\n",
    "dfo_unique"
   ],
   "metadata": {
    "collapsed": false,
    "pycharm": {
     "name": "#%%\n"
    }
   }
  },
  {
   "cell_type": "code",
   "execution_count": 16,
   "outputs": [
    {
     "ename": "MemoryError",
     "evalue": "Unable to allocate 59.2 GiB for an array with shape (283354, 224318) and data type uint8",
     "output_type": "error",
     "traceback": [
      "\u001B[1;31m---------------------------------------------------------------------------\u001B[0m",
      "\u001B[1;31mMemoryError\u001B[0m                               Traceback (most recent call last)",
      "\u001B[1;32m<ipython-input-16-d3c48b41499d>\u001B[0m in \u001B[0;36m<module>\u001B[1;34m\u001B[0m\n\u001B[1;32m----> 1\u001B[1;33m \u001B[0mdf_cat\u001B[0m \u001B[1;33m=\u001B[0m \u001B[0mpd\u001B[0m\u001B[1;33m.\u001B[0m\u001B[0mget_dummies\u001B[0m\u001B[1;33m(\u001B[0m\u001B[0mdf_objects\u001B[0m\u001B[1;33m)\u001B[0m\u001B[1;33m\u001B[0m\u001B[1;33m\u001B[0m\u001B[0m\n\u001B[0m\u001B[0;32m      2\u001B[0m \u001B[0mdf_cat\u001B[0m\u001B[1;33m.\u001B[0m\u001B[0minfo\u001B[0m\u001B[1;33m(\u001B[0m\u001B[1;33m)\u001B[0m\u001B[1;33m\u001B[0m\u001B[1;33m\u001B[0m\u001B[0m\n",
      "\u001B[1;32m~\\anaconda3\\lib\\site-packages\\pandas\\core\\reshape\\reshape.py\u001B[0m in \u001B[0;36mget_dummies\u001B[1;34m(data, prefix, prefix_sep, dummy_na, columns, sparse, drop_first, dtype)\u001B[0m\n\u001B[0;32m    891\u001B[0m         \u001B[1;32mfor\u001B[0m \u001B[1;33m(\u001B[0m\u001B[0mcol\u001B[0m\u001B[1;33m,\u001B[0m \u001B[0mpre\u001B[0m\u001B[1;33m,\u001B[0m \u001B[0msep\u001B[0m\u001B[1;33m)\u001B[0m \u001B[1;32min\u001B[0m \u001B[0mzip\u001B[0m\u001B[1;33m(\u001B[0m\u001B[0mdata_to_encode\u001B[0m\u001B[1;33m.\u001B[0m\u001B[0mitems\u001B[0m\u001B[1;33m(\u001B[0m\u001B[1;33m)\u001B[0m\u001B[1;33m,\u001B[0m \u001B[0mprefix\u001B[0m\u001B[1;33m,\u001B[0m \u001B[0mprefix_sep\u001B[0m\u001B[1;33m)\u001B[0m\u001B[1;33m:\u001B[0m\u001B[1;33m\u001B[0m\u001B[1;33m\u001B[0m\u001B[0m\n\u001B[0;32m    892\u001B[0m             \u001B[1;31m# col is (column_name, column), use just column data here\u001B[0m\u001B[1;33m\u001B[0m\u001B[1;33m\u001B[0m\u001B[1;33m\u001B[0m\u001B[0m\n\u001B[1;32m--> 893\u001B[1;33m             dummy = _get_dummies_1d(\n\u001B[0m\u001B[0;32m    894\u001B[0m                 \u001B[0mcol\u001B[0m\u001B[1;33m[\u001B[0m\u001B[1;36m1\u001B[0m\u001B[1;33m]\u001B[0m\u001B[1;33m,\u001B[0m\u001B[1;33m\u001B[0m\u001B[1;33m\u001B[0m\u001B[0m\n\u001B[0;32m    895\u001B[0m                 \u001B[0mprefix\u001B[0m\u001B[1;33m=\u001B[0m\u001B[0mpre\u001B[0m\u001B[1;33m,\u001B[0m\u001B[1;33m\u001B[0m\u001B[1;33m\u001B[0m\u001B[0m\n",
      "\u001B[1;32m~\\anaconda3\\lib\\site-packages\\pandas\\core\\reshape\\reshape.py\u001B[0m in \u001B[0;36m_get_dummies_1d\u001B[1;34m(data, prefix, prefix_sep, dummy_na, sparse, drop_first, dtype)\u001B[0m\n\u001B[0;32m   1007\u001B[0m \u001B[1;33m\u001B[0m\u001B[0m\n\u001B[0;32m   1008\u001B[0m     \u001B[1;32melse\u001B[0m\u001B[1;33m:\u001B[0m\u001B[1;33m\u001B[0m\u001B[1;33m\u001B[0m\u001B[0m\n\u001B[1;32m-> 1009\u001B[1;33m         \u001B[0mdummy_mat\u001B[0m \u001B[1;33m=\u001B[0m \u001B[0mnp\u001B[0m\u001B[1;33m.\u001B[0m\u001B[0meye\u001B[0m\u001B[1;33m(\u001B[0m\u001B[0mnumber_of_cols\u001B[0m\u001B[1;33m,\u001B[0m \u001B[0mdtype\u001B[0m\u001B[1;33m=\u001B[0m\u001B[0mdtype\u001B[0m\u001B[1;33m)\u001B[0m\u001B[1;33m.\u001B[0m\u001B[0mtake\u001B[0m\u001B[1;33m(\u001B[0m\u001B[0mcodes\u001B[0m\u001B[1;33m,\u001B[0m \u001B[0maxis\u001B[0m\u001B[1;33m=\u001B[0m\u001B[1;36m0\u001B[0m\u001B[1;33m)\u001B[0m\u001B[1;33m\u001B[0m\u001B[1;33m\u001B[0m\u001B[0m\n\u001B[0m\u001B[0;32m   1010\u001B[0m \u001B[1;33m\u001B[0m\u001B[0m\n\u001B[0;32m   1011\u001B[0m         \u001B[1;32mif\u001B[0m \u001B[1;32mnot\u001B[0m \u001B[0mdummy_na\u001B[0m\u001B[1;33m:\u001B[0m\u001B[1;33m\u001B[0m\u001B[1;33m\u001B[0m\u001B[0m\n",
      "\u001B[1;31mMemoryError\u001B[0m: Unable to allocate 59.2 GiB for an array with shape (283354, 224318) and data type uint8"
     ]
    }
   ],
   "source": [
    "# TODO Discuss memory error\n",
    "# df_cat = pd.get_dummies(df_objects)\n",
    "# df_cat.info()"
   ],
   "metadata": {
    "collapsed": false,
    "pycharm": {
     "name": "#%%\n"
    }
   }
  },
  {
   "cell_type": "code",
   "execution_count": 22,
   "outputs": [
    {
     "name": "stdout",
     "output_type": "stream",
     "text": [
      "<class 'pandas.core.frame.DataFrame'>\n",
      "Index: 283354 entries, 0681727810 to B01HJFRDDA\n",
      "Data columns (total 3 columns):\n",
      " #   Column    Non-Null Count   Dtype \n",
      "---  ------    --------------   ----- \n",
      " 0   category  283354 non-null  object\n",
      " 1   feature   283354 non-null  object\n",
      " 2   main_cat  281991 non-null  object\n",
      "dtypes: object(3)\n",
      "memory usage: 16.7+ MB\n"
     ]
    }
   ],
   "source": [
    "df_objects_cat = df_objects.drop(['description', 'title', 'also_buy', 'brand', 'rank', 'also_view', 'details'], axis=1)\n",
    "df_objects_cat.info()"
   ],
   "metadata": {
    "collapsed": false,
    "pycharm": {
     "name": "#%%\n"
    }
   }
  },
  {
   "cell_type": "code",
   "execution_count": 23,
   "outputs": [
    {
     "ename": "MemoryError",
     "evalue": "Unable to allocate 3.22 GiB for an array with shape (283354, 12190) and data type uint8",
     "output_type": "error",
     "traceback": [
      "\u001B[1;31m---------------------------------------------------------------------------\u001B[0m",
      "\u001B[1;31mMemoryError\u001B[0m                               Traceback (most recent call last)",
      "\u001B[1;32m<ipython-input-23-bbc7d1a489b6>\u001B[0m in \u001B[0;36m<module>\u001B[1;34m\u001B[0m\n\u001B[1;32m----> 1\u001B[1;33m \u001B[0mdf_cat_2\u001B[0m \u001B[1;33m=\u001B[0m \u001B[0mpd\u001B[0m\u001B[1;33m.\u001B[0m\u001B[0mget_dummies\u001B[0m\u001B[1;33m(\u001B[0m\u001B[0mdf_objects_cat\u001B[0m\u001B[1;33m)\u001B[0m\u001B[1;33m\u001B[0m\u001B[1;33m\u001B[0m\u001B[0m\n\u001B[0m\u001B[0;32m      2\u001B[0m \u001B[0mdf_cat_2\u001B[0m\u001B[1;33m.\u001B[0m\u001B[0minfo\u001B[0m\u001B[1;33m(\u001B[0m\u001B[1;33m)\u001B[0m\u001B[1;33m\u001B[0m\u001B[1;33m\u001B[0m\u001B[0m\n",
      "\u001B[1;32m~\\anaconda3\\lib\\site-packages\\pandas\\core\\reshape\\reshape.py\u001B[0m in \u001B[0;36mget_dummies\u001B[1;34m(data, prefix, prefix_sep, dummy_na, columns, sparse, drop_first, dtype)\u001B[0m\n\u001B[0;32m    891\u001B[0m         \u001B[1;32mfor\u001B[0m \u001B[1;33m(\u001B[0m\u001B[0mcol\u001B[0m\u001B[1;33m,\u001B[0m \u001B[0mpre\u001B[0m\u001B[1;33m,\u001B[0m \u001B[0msep\u001B[0m\u001B[1;33m)\u001B[0m \u001B[1;32min\u001B[0m \u001B[0mzip\u001B[0m\u001B[1;33m(\u001B[0m\u001B[0mdata_to_encode\u001B[0m\u001B[1;33m.\u001B[0m\u001B[0mitems\u001B[0m\u001B[1;33m(\u001B[0m\u001B[1;33m)\u001B[0m\u001B[1;33m,\u001B[0m \u001B[0mprefix\u001B[0m\u001B[1;33m,\u001B[0m \u001B[0mprefix_sep\u001B[0m\u001B[1;33m)\u001B[0m\u001B[1;33m:\u001B[0m\u001B[1;33m\u001B[0m\u001B[1;33m\u001B[0m\u001B[0m\n\u001B[0;32m    892\u001B[0m             \u001B[1;31m# col is (column_name, column), use just column data here\u001B[0m\u001B[1;33m\u001B[0m\u001B[1;33m\u001B[0m\u001B[1;33m\u001B[0m\u001B[0m\n\u001B[1;32m--> 893\u001B[1;33m             dummy = _get_dummies_1d(\n\u001B[0m\u001B[0;32m    894\u001B[0m                 \u001B[0mcol\u001B[0m\u001B[1;33m[\u001B[0m\u001B[1;36m1\u001B[0m\u001B[1;33m]\u001B[0m\u001B[1;33m,\u001B[0m\u001B[1;33m\u001B[0m\u001B[1;33m\u001B[0m\u001B[0m\n\u001B[0;32m    895\u001B[0m                 \u001B[0mprefix\u001B[0m\u001B[1;33m=\u001B[0m\u001B[0mpre\u001B[0m\u001B[1;33m,\u001B[0m\u001B[1;33m\u001B[0m\u001B[1;33m\u001B[0m\u001B[0m\n",
      "\u001B[1;32m~\\anaconda3\\lib\\site-packages\\pandas\\core\\reshape\\reshape.py\u001B[0m in \u001B[0;36m_get_dummies_1d\u001B[1;34m(data, prefix, prefix_sep, dummy_na, sparse, drop_first, dtype)\u001B[0m\n\u001B[0;32m   1007\u001B[0m \u001B[1;33m\u001B[0m\u001B[0m\n\u001B[0;32m   1008\u001B[0m     \u001B[1;32melse\u001B[0m\u001B[1;33m:\u001B[0m\u001B[1;33m\u001B[0m\u001B[1;33m\u001B[0m\u001B[0m\n\u001B[1;32m-> 1009\u001B[1;33m         \u001B[0mdummy_mat\u001B[0m \u001B[1;33m=\u001B[0m \u001B[0mnp\u001B[0m\u001B[1;33m.\u001B[0m\u001B[0meye\u001B[0m\u001B[1;33m(\u001B[0m\u001B[0mnumber_of_cols\u001B[0m\u001B[1;33m,\u001B[0m \u001B[0mdtype\u001B[0m\u001B[1;33m=\u001B[0m\u001B[0mdtype\u001B[0m\u001B[1;33m)\u001B[0m\u001B[1;33m.\u001B[0m\u001B[0mtake\u001B[0m\u001B[1;33m(\u001B[0m\u001B[0mcodes\u001B[0m\u001B[1;33m,\u001B[0m \u001B[0maxis\u001B[0m\u001B[1;33m=\u001B[0m\u001B[1;36m0\u001B[0m\u001B[1;33m)\u001B[0m\u001B[1;33m\u001B[0m\u001B[1;33m\u001B[0m\u001B[0m\n\u001B[0m\u001B[0;32m   1010\u001B[0m \u001B[1;33m\u001B[0m\u001B[0m\n\u001B[0;32m   1011\u001B[0m         \u001B[1;32mif\u001B[0m \u001B[1;32mnot\u001B[0m \u001B[0mdummy_na\u001B[0m\u001B[1;33m:\u001B[0m\u001B[1;33m\u001B[0m\u001B[1;33m\u001B[0m\u001B[0m\n",
      "\u001B[1;31mMemoryError\u001B[0m: Unable to allocate 3.22 GiB for an array with shape (283354, 12190) and data type uint8"
     ]
    }
   ],
   "source": [
    "df_cat_2 = pd.get_dummies(df_objects_cat)\n",
    "df_cat_2.info()"
   ],
   "metadata": {
    "collapsed": false,
    "pycharm": {
     "name": "#%%\n"
    }
   }
  },
  {
   "cell_type": "markdown",
   "source": [
    "Even removing the majority of the columns runs into this issue. Want to discuss if I'm going down the correct path before changing my system.   \n",
    "There are several suggestions to fix this here: https://stackoverflow.com/questions/57507832/unable-to-allocate-array-with-shape-and-data-type  \n",
    "I'm using Microsoft Windows [Version 10.0.19042.1110]  \n",
    "Python 3.8.8 (default, Apr 13 2021, 15:08:03) [MSC v.1916 64 bit (AMD64)] :: Anaconda, Inc. on win32"
   ],
   "metadata": {
    "collapsed": false,
    "pycharm": {
     "name": "#%% md\n"
    }
   }
  }
 ],
 "metadata": {
  "kernelspec": {
   "name": "pycharm-cef1f773",
   "language": "python",
   "display_name": "PyCharm (pycon2015_tutorial322)"
  },
  "language_info": {
   "codemirror_mode": {
    "name": "ipython",
    "version": 2
   },
   "file_extension": ".py",
   "mimetype": "text/x-python",
   "name": "python",
   "nbconvert_exporter": "python",
   "pygments_lexer": "ipython2",
   "version": "2.7.6"
  }
 },
 "nbformat": 4,
 "nbformat_minor": 0
}