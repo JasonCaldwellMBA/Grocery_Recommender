{
 "cells": [
  {
   "cell_type": "markdown",
   "metadata": {},
   "source": [
    "# Wrangling Grocery and Gourmet Food Data"
   ]
  },
  {
   "cell_type": "markdown",
   "metadata": {},
   "source": [
    "## Imports"
   ]
  },
  {
   "cell_type": "code",
   "execution_count": 1,
   "metadata": {
    "pycharm": {
     "name": "#%%\n"
    }
   },
   "outputs": [],
   "source": [
    "import json\n",
    "import gzip\n",
    "import unittest\n",
    "import matplotlib.pyplot as plt\n",
    "import pandas as pd\n",
    "import numpy as np\n",
    "import os\n",
    "import os.path\n",
    "from dotenv import load_dotenv\n",
    "import logging"
   ]
  },
  {
   "cell_type": "markdown",
   "metadata": {},
   "source": [
    "## Environment Variables"
   ]
  },
  {
   "cell_type": "code",
   "execution_count": 2,
   "metadata": {
    "pycharm": {
     "name": "#%%\n"
    }
   },
   "outputs": [],
   "source": [
    "load_dotenv()\n",
    "data_in = os.getenv('IN_DATA_FILEPATH') + os.getenv('RAW_META_FILE')\n",
    "price_logs = os.getenv('PRICES_LOG')\n",
    "# This path is still in the markdown below because haven't found a working way to use a variable there.\n",
    "doc_filepath = os.getenv('DOCUMENTATION_FILEPATH')\n",
    "data_out = os.getenv('OUT_DATA_FILEPATH') + os.getenv('CLEANED_META_FILE')"
   ]
  },
  {
   "cell_type": "markdown",
   "metadata": {},
   "source": [
    "## Introduction\n",
    "Data Wrangling is the process of collecting, organizing, and determining how well-defined the data is.  \n",
    "See [Grocery Recommender - Capstone Two](../Grocery_Recommender_-_Capstone_Two.pdf) for details about this project. \n"
   ]
  },
  {
   "cell_type": "markdown",
   "metadata": {},
   "source": [
    "## Load Data \n",
    "This public dataset is available online <sup>[1]</sup> and is not included in source/version control for space reasons.  \n",
    "After downloading the dataset add it to the file location in your .env file; see environments_example.txt."
   ]
  },
  {
   "cell_type": "code",
   "execution_count": 3,
   "metadata": {
    "pycharm": {
     "name": "#%%\n"
    }
   },
   "outputs": [],
   "source": [
    "##Load the data\n",
    "data = []\n",
    "with gzip.open(data_in) as f:\n",
    "    for l in f:\n",
    "        data.append(json.loads(l.strip()))"
   ]
  },
  {
   "cell_type": "code",
   "execution_count": 4,
   "metadata": {
    "pycharm": {
     "name": "#%%\n"
    }
   },
   "outputs": [
    {
     "name": "stdout",
     "output_type": "stream",
     "text": [
      "287051\n"
     ]
    }
   ],
   "source": [
    "# Confirm data loaded by checking total number of products.\n",
    "print(len(data))"
   ]
  },
  {
   "cell_type": "code",
   "execution_count": 5,
   "metadata": {
    "pycharm": {
     "name": "#%%\n"
    }
   },
   "outputs": [
    {
     "name": "stdout",
     "output_type": "stream",
     "text": [
      "{'category': ['Grocery & Gourmet Food', 'Dairy, Cheese & Eggs', 'Cheese', 'Gouda'], 'tech1': '', 'description': ['BEEMSTER GOUDA CHEESE AGED 18/24 MONTHS', 'Statements regarding dietary supplements have not been evaluated by the FDA and are not intended to diagnose, treat, cure, or prevent any disease or health condition.'], 'fit': '', 'title': 'Beemster Gouda - Aged 18/24 Months - App. 1.5 Lbs', 'also_buy': [], 'image': [], 'tech2': '', 'brand': 'Ariola Imports', 'feature': [], 'rank': '165,181 in Grocery & Gourmet Food (', 'also_view': ['B0000D9MYM', 'B0000D9MYL', 'B00ADHIGBA', 'B00H9OX598', 'B001LM42GY', 'B001LM5TDY'], 'main_cat': 'Grocery', 'similar_item': '', 'date': '', 'price': '$41.91', 'asin': '0681727810'}\n"
     ]
    }
   ],
   "source": [
    "# View raw data.\n",
    "print(data[0])"
   ]
  },
  {
   "cell_type": "code",
   "execution_count": 6,
   "metadata": {
    "pycharm": {
     "name": "#%%\n"
    }
   },
   "outputs": [
    {
     "data": {
      "text/plain": "                                            category tech1  \\\n0  [Grocery & Gourmet Food, Dairy, Cheese & Eggs,...         \n1  [Grocery & Gourmet Food, Cooking & Baking, Sug...         \n2  [Grocery & Gourmet Food, Cooking & Baking, Fro...         \n3  [Grocery & Gourmet Food, Cooking & Baking, Fro...         \n4  [Grocery & Gourmet Food, Cooking & Baking, Fro...         \n\n                                         description fit  \\\n0  [BEEMSTER GOUDA CHEESE AGED 18/24 MONTHS, Stat...       \n1  [Shipped from UK, please allow 10 to 21 busine...       \n2  [Jazz up your cakes with a sparkling monogram ...       \n3                      [Large Letter - Height 4.75\"]       \n4                                            [4.75\"]       \n\n                                               title  \\\n0  Beemster Gouda - Aged 18/24 Months - App. 1.5 Lbs   \n1                          Trim Healthy Mama Xylitol   \n2  Letter C - Swarovski Crystal Monogram Wedding ...   \n3  Letter H - Swarovski Crystal Monogram Wedding ...   \n4  Letter S - Swarovski Crystal Monogram Wedding ...   \n\n                                            also_buy  \\\n0                                                 []   \n1  [B01898YHXK, B01BCM6LAC, B00Q4OL47O, B00Q4OL5Q...   \n2                                                 []   \n3                                                 []   \n4                                                 []   \n\n                                               image tech2           brand  \\\n0                                                 []        Ariola Imports   \n1  [https://images-na.ssl-images-amazon.com/image...                         \n2                                                 []        Unik Occasions   \n3                                                 []                 Other   \n4                                                 []        Unik Occasions   \n\n                         feature  \\\n0                             []   \n1                             []   \n2                             []   \n3  [Large Letter - Height 4.75\"]   \n4                 [4.75\" height]   \n\n                                                rank  \\\n0                165,181 in Grocery & Gourmet Food (   \n1                315,867 in Grocery & Gourmet Food (   \n2  [>#669,941 in Kitchen & Dining (See Top 100 in...   \n3  [>#832,581 in Kitchen & Dining (See Top 100 in...   \n4  [>#590,999 in Kitchen & Dining (See Top 100 in...   \n\n                                           also_view     main_cat  \\\n0  [B0000D9MYM, B0000D9MYL, B00ADHIGBA, B00H9OX59...      Grocery   \n1                                                 []      Grocery   \n2                                       [B07DXN65TF]  Amazon Home   \n3                                                 []  Amazon Home   \n4                                                 []  Amazon Home   \n\n  similar_item                date   price        asin details  \n0                                   $41.91  0681727810     NaN  \n1                                           0853347867     NaN  \n2               September 21, 2010  $29.95  1888861118     NaN  \n3               September 11, 2011  $11.45  1888861517     NaN  \n4               September 11, 2011  $15.00  1888861614     NaN  ",
      "text/html": "<div>\n<style scoped>\n    .dataframe tbody tr th:only-of-type {\n        vertical-align: middle;\n    }\n\n    .dataframe tbody tr th {\n        vertical-align: top;\n    }\n\n    .dataframe thead th {\n        text-align: right;\n    }\n</style>\n<table border=\"1\" class=\"dataframe\">\n  <thead>\n    <tr style=\"text-align: right;\">\n      <th></th>\n      <th>category</th>\n      <th>tech1</th>\n      <th>description</th>\n      <th>fit</th>\n      <th>title</th>\n      <th>also_buy</th>\n      <th>image</th>\n      <th>tech2</th>\n      <th>brand</th>\n      <th>feature</th>\n      <th>rank</th>\n      <th>also_view</th>\n      <th>main_cat</th>\n      <th>similar_item</th>\n      <th>date</th>\n      <th>price</th>\n      <th>asin</th>\n      <th>details</th>\n    </tr>\n  </thead>\n  <tbody>\n    <tr>\n      <th>0</th>\n      <td>[Grocery &amp; Gourmet Food, Dairy, Cheese &amp; Eggs,...</td>\n      <td></td>\n      <td>[BEEMSTER GOUDA CHEESE AGED 18/24 MONTHS, Stat...</td>\n      <td></td>\n      <td>Beemster Gouda - Aged 18/24 Months - App. 1.5 Lbs</td>\n      <td>[]</td>\n      <td>[]</td>\n      <td></td>\n      <td>Ariola Imports</td>\n      <td>[]</td>\n      <td>165,181 in Grocery &amp; Gourmet Food (</td>\n      <td>[B0000D9MYM, B0000D9MYL, B00ADHIGBA, B00H9OX59...</td>\n      <td>Grocery</td>\n      <td></td>\n      <td></td>\n      <td>$41.91</td>\n      <td>0681727810</td>\n      <td>NaN</td>\n    </tr>\n    <tr>\n      <th>1</th>\n      <td>[Grocery &amp; Gourmet Food, Cooking &amp; Baking, Sug...</td>\n      <td></td>\n      <td>[Shipped from UK, please allow 10 to 21 busine...</td>\n      <td></td>\n      <td>Trim Healthy Mama Xylitol</td>\n      <td>[B01898YHXK, B01BCM6LAC, B00Q4OL47O, B00Q4OL5Q...</td>\n      <td>[https://images-na.ssl-images-amazon.com/image...</td>\n      <td></td>\n      <td></td>\n      <td>[]</td>\n      <td>315,867 in Grocery &amp; Gourmet Food (</td>\n      <td>[]</td>\n      <td>Grocery</td>\n      <td></td>\n      <td></td>\n      <td></td>\n      <td>0853347867</td>\n      <td>NaN</td>\n    </tr>\n    <tr>\n      <th>2</th>\n      <td>[Grocery &amp; Gourmet Food, Cooking &amp; Baking, Fro...</td>\n      <td></td>\n      <td>[Jazz up your cakes with a sparkling monogram ...</td>\n      <td></td>\n      <td>Letter C - Swarovski Crystal Monogram Wedding ...</td>\n      <td>[]</td>\n      <td>[]</td>\n      <td></td>\n      <td>Unik Occasions</td>\n      <td>[]</td>\n      <td>[&gt;#669,941 in Kitchen &amp; Dining (See Top 100 in...</td>\n      <td>[B07DXN65TF]</td>\n      <td>Amazon Home</td>\n      <td></td>\n      <td>September 21, 2010</td>\n      <td>$29.95</td>\n      <td>1888861118</td>\n      <td>NaN</td>\n    </tr>\n    <tr>\n      <th>3</th>\n      <td>[Grocery &amp; Gourmet Food, Cooking &amp; Baking, Fro...</td>\n      <td></td>\n      <td>[Large Letter - Height 4.75\"]</td>\n      <td></td>\n      <td>Letter H - Swarovski Crystal Monogram Wedding ...</td>\n      <td>[]</td>\n      <td>[]</td>\n      <td></td>\n      <td>Other</td>\n      <td>[Large Letter - Height 4.75\"]</td>\n      <td>[&gt;#832,581 in Kitchen &amp; Dining (See Top 100 in...</td>\n      <td>[]</td>\n      <td>Amazon Home</td>\n      <td></td>\n      <td>September 11, 2011</td>\n      <td>$11.45</td>\n      <td>1888861517</td>\n      <td>NaN</td>\n    </tr>\n    <tr>\n      <th>4</th>\n      <td>[Grocery &amp; Gourmet Food, Cooking &amp; Baking, Fro...</td>\n      <td></td>\n      <td>[4.75\"]</td>\n      <td></td>\n      <td>Letter S - Swarovski Crystal Monogram Wedding ...</td>\n      <td>[]</td>\n      <td>[]</td>\n      <td></td>\n      <td>Unik Occasions</td>\n      <td>[4.75\" height]</td>\n      <td>[&gt;#590,999 in Kitchen &amp; Dining (See Top 100 in...</td>\n      <td>[]</td>\n      <td>Amazon Home</td>\n      <td></td>\n      <td>September 11, 2011</td>\n      <td>$15.00</td>\n      <td>1888861614</td>\n      <td>NaN</td>\n    </tr>\n  </tbody>\n</table>\n</div>"
     },
     "execution_count": 6,
     "metadata": {},
     "output_type": "execute_result"
    }
   ],
   "source": [
    "# Will use a pandas dataframe to explore and analyse data.\n",
    "grocery_data = pd.DataFrame.from_dict(data)\n",
    "grocery_data.head()"
   ]
  },
  {
   "cell_type": "code",
   "execution_count": 7,
   "metadata": {
    "pycharm": {
     "name": "#%%\n"
    }
   },
   "outputs": [
    {
     "name": "stdout",
     "output_type": "stream",
     "text": [
      "<class 'pandas.core.frame.DataFrame'>\n",
      "RangeIndex: 287051 entries, 0 to 287050\n",
      "Data columns (total 18 columns):\n",
      " #   Column        Non-Null Count   Dtype \n",
      "---  ------        --------------   ----- \n",
      " 0   category      287051 non-null  object\n",
      " 1   tech1         287051 non-null  object\n",
      " 2   description   287051 non-null  object\n",
      " 3   fit           287051 non-null  object\n",
      " 4   title         287051 non-null  object\n",
      " 5   also_buy      287051 non-null  object\n",
      " 6   image         287051 non-null  object\n",
      " 7   tech2         287051 non-null  object\n",
      " 8   brand         287051 non-null  object\n",
      " 9   feature       287051 non-null  object\n",
      " 10  rank          287051 non-null  object\n",
      " 11  also_view     287051 non-null  object\n",
      " 12  main_cat      287051 non-null  object\n",
      " 13  similar_item  287051 non-null  object\n",
      " 14  date          287051 non-null  object\n",
      " 15  price         287051 non-null  object\n",
      " 16  asin          287051 non-null  object\n",
      " 17  details       287027 non-null  object\n",
      "dtypes: object(18)\n",
      "memory usage: 39.4+ MB\n"
     ]
    }
   ],
   "source": [
    "# Overview of the data shows it already is pretty well defined.\n",
    "# Only the details column is missing (NaN) some values.\n",
    "grocery_data.info()"
   ]
  },
  {
   "cell_type": "code",
   "execution_count": 8,
   "metadata": {
    "pycharm": {
     "name": "#%%\n"
    }
   },
   "outputs": [
    {
     "data": {
      "text/plain": "category        False\ntech1           False\ndescription     False\nfit             False\ntitle           False\nalso_buy        False\nimage           False\ntech2           False\nbrand           False\nfeature         False\nrank            False\nalso_view       False\nmain_cat        False\nsimilar_item    False\ndate            False\nprice           False\nasin            False\ndetails          True\ndtype: bool"
     },
     "execution_count": 8,
     "metadata": {},
     "output_type": "execute_result"
    }
   ],
   "source": [
    "# Another way to see which features are missing values. \n",
    "# This is easier to read if there's a lot of columns and similar number counts.\n",
    "grocery_data.isnull().any()"
   ]
  },
  {
   "cell_type": "code",
   "execution_count": 9,
   "metadata": {
    "pycharm": {
     "name": "#%%\n"
    }
   },
   "outputs": [
    {
     "data": {
      "text/plain": "0         17\n1         17\n2         17\n3         17\n4         17\n          ..\n287046    18\n287047    18\n287048    18\n287049    18\n287050    18\nLength: 287051, dtype: int64"
     },
     "execution_count": 9,
     "metadata": {},
     "output_type": "execute_result"
    }
   ],
   "source": [
    "# The number of features for each item/row vary (17-18).\n",
    "grocery_data.count(1)"
   ]
  },
  {
   "cell_type": "markdown",
   "metadata": {
    "pycharm": {
     "name": "#%% md\n"
    }
   },
   "source": [
    "### Observations\n",
    "- Think useful features will probably be title, also_buy, rank, also_view, similar_item, and date.\n",
    "- many special characters in multiple columns.\n",
    "- 'date' is full month dd, yyyy.\n",
    "- 'price' has $ appended.\n",
    "- Probably want to replace index with 'asin'.\n",
    "- From the numbers above it looks the various counts between columns, rows, and non-null values are consistent. However, looking at a small sample of the data it appears like more than just one value is null for several of the rows.\n",
    "\n",
    "## Explore Data\n",
    "### Find Data of Interest and Clean It - Attempt 1"
   ]
  },
  {
   "cell_type": "code",
   "execution_count": 10,
   "metadata": {
    "pycharm": {
     "name": "#%%\n"
    }
   },
   "outputs": [
    {
     "name": "stdout",
     "output_type": "stream",
     "text": [
      "5537\n"
     ]
    }
   ],
   "source": [
    "# Interested in gluten free data because of diet restrictions.\n",
    "# Find all products whose title includes gluten free using 'standard' lists and loops.\n",
    "gluten_free_list = []\n",
    "for d in data:\n",
    "    if 'title' in d and 'gluten free' in d['title'].lower():\n",
    "        gluten_free_list.append(d)\n",
    "\n",
    "print(len(gluten_free_list))"
   ]
  },
  {
   "cell_type": "code",
   "execution_count": 11,
   "metadata": {
    "pycharm": {
     "name": "#%%\n"
    }
   },
   "outputs": [
    {
     "name": "stdout",
     "output_type": "stream",
     "text": [
      "Sans Sucre Mousse Mix Gluten Free, Strawberry\n",
      "Sans Sucre Chocolate Mousse Mix - Gluten Free\n",
      "Sans Sucre Cheesecake Mousse Mix - Gluten Free\n",
      "Sans Sucre Lemon Mousse Mix - Gluten Free\n",
      "Ajika Royal Basmati Pilaf Instant Meal, Side Dish, Gluten Free, No Salt or Msg\n",
      "Natures Plus Source of Life Energy Shake - Granola Flavor - 2.2 lbs Multivitamin, Mineral &amp; Protein Powder - Whole Food Meal Replacement - Non GMO, Vegetarian, Gluten Free - 26 Servings\n",
      "Borsari All Natural Seasoned Salt, Citrus Blend, Gluten Free, No MSG, 4 Ounce Shaker Bottle\n",
      "Natures Plus Spirutein Shake - Nutty Berry Burst Flavor - 2.4 lbs, Spirulina Protein Powder - Plant Based Meal Replacement, Vitamins &amp; Minerals for Energy - Vegetarian, Gluten Free - 30 Servings\n",
      "Nando's Medium PERi-PERi Sauce - Gluten Free | Non GMO | 4.7 Oz (2 Pack)\n",
      "Amish Country Popcorn - Medium Yellow Popcorn - Old Fashioned, Non GMO, and Gluten Free - with Recipe Guide and 1 Year Freshness Warranty (2 Pound Burlap)\n"
     ]
    }
   ],
   "source": [
    "# Example product titles.\n",
    "for d in gluten_free_list[:10]:\n",
    "    print(d['title'])"
   ]
  },
  {
   "cell_type": "code",
   "execution_count": 12,
   "metadata": {
    "pycharm": {
     "name": "#%%\n"
    }
   },
   "outputs": [
    {
     "data": {
      "text/plain": "category        5537\ntech1           5537\ndescription     5537\nfit             5537\ntitle           5537\nalso_buy        5537\nimage           5537\ntech2           5537\nbrand           5537\nfeature         5537\nrank            5537\nalso_view       5537\nmain_cat        5537\nsimilar_item    5537\ndate            5537\nprice           5537\nasin            5537\ndetails         5537\ndtype: int64"
     },
     "execution_count": 12,
     "metadata": {},
     "output_type": "execute_result"
    }
   ],
   "source": [
    "# The Pandas way of doing the above is less lines of code\n",
    "gluten_free_dataframe = grocery_data[grocery_data['title'].str.lower().str.contains('gluten free')]\n",
    "gluten_free_dataframe.count()"
   ]
  },
  {
   "cell_type": "code",
   "execution_count": 13,
   "metadata": {
    "pycharm": {
     "name": "#%%\n"
    }
   },
   "outputs": [
    {
     "data": {
      "text/plain": "1180        Sans Sucre Mousse Mix Gluten Free, Strawberry\n1184        Sans Sucre Chocolate Mousse Mix - Gluten Free\n1185       Sans Sucre Cheesecake Mousse Mix - Gluten Free\n1187            Sans Sucre Lemon Mousse Mix - Gluten Free\n1543    Ajika Royal Basmati Pilaf Instant Meal, Side D...\n1702    Natures Plus Source of Life Energy Shake - Gra...\n1704    Borsari All Natural Seasoned Salt, Citrus Blen...\n1717    Natures Plus Spirutein Shake - Nutty Berry Bur...\n1755    Nando's Medium PERi-PERi Sauce - Gluten Free |...\n1954    Amish Country Popcorn - Medium Yellow Popcorn ...\nName: title, dtype: object"
     },
     "execution_count": 13,
     "metadata": {},
     "output_type": "execute_result"
    }
   ],
   "source": [
    "gluten_free_dataframe.title.iloc[:10]"
   ]
  },
  {
   "cell_type": "code",
   "execution_count": 14,
   "metadata": {
    "pycharm": {
     "name": "#%%\n"
    }
   },
   "outputs": [
    {
     "data": {
      "text/plain": "                                                         255470  \\\ncategory        [Grocery & Gourmet Food, Frozen, Bread & Dough]   \ntech1                                                             \ndescription   [These are 100 percent USDA Certified organic,...   \nfit                                                               \ntitle         Brazi Bites, Brazilian Cheese Bread, Original,...   \nalso_buy      [B00FE9LC0O, B0047IG6OU, B000RULSYK, B078HRLNL...   \nimage         [https://images-na.ssl-images-amazon.com/image...   \ntech2                                                             \nbrand                                               Brazi Bites   \nfeature                                                      []   \nrank                                                         []   \nalso_view     [B008L1A0N2, B0764JXX6R, B00H301R34, B013SGABH...   \nmain_cat                                                Grocery   \nsimilar_item                                                      \ndate                                                              \nprice                                                             \nasin                                                 B014BCDF9U   \ndetails       {'\n    Product Dimensions: \n    ': '6 x 3 x 9 ...   \n\n                                                         266702  \ncategory        [Grocery & Gourmet Food, Snack Foods, Crackers]  \ntech1                                                            \ndescription   [Brazi Bites Original Brazilian Cheese Bread, ...  \nfit                                                              \ntitle         Brazi Bites Original Brazilian Cheese Bread, 1...  \nalso_buy                                                     []  \nimage         [https://images-na.ssl-images-amazon.com/image...  \ntech2                                                            \nbrand                                               Brazi Bites  \nfeature                                                      []  \nrank                        810,992 in Grocery & Gourmet Food (  \nalso_view     [B001ACMCNU, B008L1A0N2, B0764JXX6R, B00PBLEUF...  \nmain_cat                                                Grocery  \nsimilar_item                                                     \ndate                                                             \nprice                                                            \nasin                                                 B018SRGO24  \ndetails       {'Shipping Weight:': '10 pounds', 'ASIN: ': 'B...  ",
      "text/html": "<div>\n<style scoped>\n    .dataframe tbody tr th:only-of-type {\n        vertical-align: middle;\n    }\n\n    .dataframe tbody tr th {\n        vertical-align: top;\n    }\n\n    .dataframe thead th {\n        text-align: right;\n    }\n</style>\n<table border=\"1\" class=\"dataframe\">\n  <thead>\n    <tr style=\"text-align: right;\">\n      <th></th>\n      <th>255470</th>\n      <th>266702</th>\n    </tr>\n  </thead>\n  <tbody>\n    <tr>\n      <th>category</th>\n      <td>[Grocery &amp; Gourmet Food, Frozen, Bread &amp; Dough]</td>\n      <td>[Grocery &amp; Gourmet Food, Snack Foods, Crackers]</td>\n    </tr>\n    <tr>\n      <th>tech1</th>\n      <td></td>\n      <td></td>\n    </tr>\n    <tr>\n      <th>description</th>\n      <td>[These are 100 percent USDA Certified organic,...</td>\n      <td>[Brazi Bites Original Brazilian Cheese Bread, ...</td>\n    </tr>\n    <tr>\n      <th>fit</th>\n      <td></td>\n      <td></td>\n    </tr>\n    <tr>\n      <th>title</th>\n      <td>Brazi Bites, Brazilian Cheese Bread, Original,...</td>\n      <td>Brazi Bites Original Brazilian Cheese Bread, 1...</td>\n    </tr>\n    <tr>\n      <th>also_buy</th>\n      <td>[B00FE9LC0O, B0047IG6OU, B000RULSYK, B078HRLNL...</td>\n      <td>[]</td>\n    </tr>\n    <tr>\n      <th>image</th>\n      <td>[https://images-na.ssl-images-amazon.com/image...</td>\n      <td>[https://images-na.ssl-images-amazon.com/image...</td>\n    </tr>\n    <tr>\n      <th>tech2</th>\n      <td></td>\n      <td></td>\n    </tr>\n    <tr>\n      <th>brand</th>\n      <td>Brazi Bites</td>\n      <td>Brazi Bites</td>\n    </tr>\n    <tr>\n      <th>feature</th>\n      <td>[]</td>\n      <td>[]</td>\n    </tr>\n    <tr>\n      <th>rank</th>\n      <td>[]</td>\n      <td>810,992 in Grocery &amp; Gourmet Food (</td>\n    </tr>\n    <tr>\n      <th>also_view</th>\n      <td>[B008L1A0N2, B0764JXX6R, B00H301R34, B013SGABH...</td>\n      <td>[B001ACMCNU, B008L1A0N2, B0764JXX6R, B00PBLEUF...</td>\n    </tr>\n    <tr>\n      <th>main_cat</th>\n      <td>Grocery</td>\n      <td>Grocery</td>\n    </tr>\n    <tr>\n      <th>similar_item</th>\n      <td></td>\n      <td></td>\n    </tr>\n    <tr>\n      <th>date</th>\n      <td></td>\n      <td></td>\n    </tr>\n    <tr>\n      <th>price</th>\n      <td></td>\n      <td></td>\n    </tr>\n    <tr>\n      <th>asin</th>\n      <td>B014BCDF9U</td>\n      <td>B018SRGO24</td>\n    </tr>\n    <tr>\n      <th>details</th>\n      <td>{'\n    Product Dimensions: \n    ': '6 x 3 x 9 ...</td>\n      <td>{'Shipping Weight:': '10 pounds', 'ASIN: ': 'B...</td>\n    </tr>\n  </tbody>\n</table>\n</div>"
     },
     "execution_count": 14,
     "metadata": {},
     "output_type": "execute_result"
    }
   ],
   "source": [
    "# Finding specific brand I enjoy.\n",
    "# Even though this is gluten free it doesn't show up in the gluten free dataframe because 'gluten free' isn't in the title.\n",
    "brazi_bites = grocery_data[grocery_data['brand'].str.lower().str.contains('brazi bites')].T\n",
    "brazi_bites"
   ]
  },
  {
   "cell_type": "markdown",
   "metadata": {
    "pycharm": {
     "name": "#%% md\n"
    }
   },
   "source": [
    "### Observations\n",
    "- Probably want to replace index with 'asin'.\n",
    "- So far haven't found any values in 'tech1', 'fit', 'tech2', or 'similar_item'.\n",
    "\n",
    "Even though there are missing values in the data I'm interested there isn't appear to be enough data to justify only analyzing gluten fee items.\n",
    "Therefore, shouldn't need to worry about dropping columns just based off the information I'm interested in. Instead, will worry about dropping based off of no data."
   ]
  },
  {
   "cell_type": "code",
   "execution_count": 15,
   "metadata": {
    "pycharm": {
     "name": "#%%\n"
    }
   },
   "outputs": [
    {
     "data": {
      "text/plain": "              count         %\ndetails          24  0.008361\ntech1             0  0.000000\nasin              0  0.000000\nprice             0  0.000000\ndate              0  0.000000\nsimilar_item      0  0.000000\nmain_cat          0  0.000000\nalso_view         0  0.000000\nrank              0  0.000000\ncategory          0  0.000000\nbrand             0  0.000000\ntech2             0  0.000000\nimage             0  0.000000\nalso_buy          0  0.000000\ntitle             0  0.000000\nfit               0  0.000000\ndescription       0  0.000000\nfeature           0  0.000000",
      "text/html": "<div>\n<style scoped>\n    .dataframe tbody tr th:only-of-type {\n        vertical-align: middle;\n    }\n\n    .dataframe tbody tr th {\n        vertical-align: top;\n    }\n\n    .dataframe thead th {\n        text-align: right;\n    }\n</style>\n<table border=\"1\" class=\"dataframe\">\n  <thead>\n    <tr style=\"text-align: right;\">\n      <th></th>\n      <th>count</th>\n      <th>%</th>\n    </tr>\n  </thead>\n  <tbody>\n    <tr>\n      <th>details</th>\n      <td>24</td>\n      <td>0.008361</td>\n    </tr>\n    <tr>\n      <th>tech1</th>\n      <td>0</td>\n      <td>0.000000</td>\n    </tr>\n    <tr>\n      <th>asin</th>\n      <td>0</td>\n      <td>0.000000</td>\n    </tr>\n    <tr>\n      <th>price</th>\n      <td>0</td>\n      <td>0.000000</td>\n    </tr>\n    <tr>\n      <th>date</th>\n      <td>0</td>\n      <td>0.000000</td>\n    </tr>\n    <tr>\n      <th>similar_item</th>\n      <td>0</td>\n      <td>0.000000</td>\n    </tr>\n    <tr>\n      <th>main_cat</th>\n      <td>0</td>\n      <td>0.000000</td>\n    </tr>\n    <tr>\n      <th>also_view</th>\n      <td>0</td>\n      <td>0.000000</td>\n    </tr>\n    <tr>\n      <th>rank</th>\n      <td>0</td>\n      <td>0.000000</td>\n    </tr>\n    <tr>\n      <th>category</th>\n      <td>0</td>\n      <td>0.000000</td>\n    </tr>\n    <tr>\n      <th>brand</th>\n      <td>0</td>\n      <td>0.000000</td>\n    </tr>\n    <tr>\n      <th>tech2</th>\n      <td>0</td>\n      <td>0.000000</td>\n    </tr>\n    <tr>\n      <th>image</th>\n      <td>0</td>\n      <td>0.000000</td>\n    </tr>\n    <tr>\n      <th>also_buy</th>\n      <td>0</td>\n      <td>0.000000</td>\n    </tr>\n    <tr>\n      <th>title</th>\n      <td>0</td>\n      <td>0.000000</td>\n    </tr>\n    <tr>\n      <th>fit</th>\n      <td>0</td>\n      <td>0.000000</td>\n    </tr>\n    <tr>\n      <th>description</th>\n      <td>0</td>\n      <td>0.000000</td>\n    </tr>\n    <tr>\n      <th>feature</th>\n      <td>0</td>\n      <td>0.000000</td>\n    </tr>\n  </tbody>\n</table>\n</div>"
     },
     "execution_count": 15,
     "metadata": {},
     "output_type": "execute_result"
    }
   ],
   "source": [
    "missing = pd.concat([grocery_data.isnull().sum(), 100 * grocery_data.isnull().mean()], axis=1)\n",
    "missing.columns=['count', '%']\n",
    "missing.sort_values(by=['count'], ascending=False)"
   ]
  },
  {
   "cell_type": "markdown",
   "metadata": {
    "pycharm": {
     "name": "#%% md\n"
    }
   },
   "source": [
    "This check also shows that hardly any data is missing. This is desired; however, it doesn't seem to be correct.\n",
    "\n",
    "### Find Data of Interest and Clean It - Attempt 2"
   ]
  },
  {
   "cell_type": "code",
   "execution_count": 16,
   "metadata": {
    "pycharm": {
     "name": "#%%\n"
    }
   },
   "outputs": [
    {
     "name": "stdout",
     "output_type": "stream",
     "text": [
      "tech1 should have a length: Int64Index([  1180,   1184,   1185,   1187,   1543,   1702,   1704,   1717,\n",
      "              1755,   1954,\n",
      "            ...\n",
      "            286670, 286675, 286709, 286740, 286771, 286845, 286947, 286981,\n",
      "            287001, 287009],\n",
      "           dtype='int64', length=5534)\n",
      "asin should not have anything: Int64Index([], dtype='int64')\n"
     ]
    }
   ],
   "source": [
    "# Researching on a smaller data set to see what is happening.\n",
    "\n",
    "tech1_has_blanks = gluten_free_dataframe[gluten_free_dataframe['tech1'] == ''].index\n",
    "print('tech1 should have a length:', tech1_has_blanks)\n",
    "\n",
    "asin_no_blanks = gluten_free_dataframe[gluten_free_dataframe['asin'] == ''].index\n",
    "print('asin should not have anything:', asin_no_blanks)\n"
   ]
  },
  {
   "cell_type": "code",
   "execution_count": 17,
   "metadata": {
    "pycharm": {
     "name": "#%%\n"
    }
   },
   "outputs": [
    {
     "name": "stdout",
     "output_type": "stream",
     "text": [
      "<class 'pandas.core.frame.DataFrame'>\n",
      "Int64Index: 5537 entries, 1180 to 287009\n",
      "Data columns (total 18 columns):\n",
      " #   Column        Non-Null Count  Dtype  \n",
      "---  ------        --------------  -----  \n",
      " 0   category      5537 non-null   object \n",
      " 1   tech1         3 non-null      object \n",
      " 2   description   5537 non-null   object \n",
      " 3   fit           0 non-null      float64\n",
      " 4   title         5537 non-null   object \n",
      " 5   also_buy      5537 non-null   object \n",
      " 6   image         5537 non-null   object \n",
      " 7   tech2         0 non-null      float64\n",
      " 8   brand         5379 non-null   object \n",
      " 9   feature       5537 non-null   object \n",
      " 10  rank          5537 non-null   object \n",
      " 11  also_view     5537 non-null   object \n",
      " 12  main_cat      5531 non-null   object \n",
      " 13  similar_item  4 non-null      object \n",
      " 14  date          13 non-null     object \n",
      " 15  price         2652 non-null   object \n",
      " 16  asin          5537 non-null   object \n",
      " 17  details       5537 non-null   object \n",
      "dtypes: float64(2), object(16)\n",
      "memory usage: 821.9+ KB\n"
     ]
    }
   ],
   "source": [
    "# One way to solve the problem.\n",
    "\n",
    "example_fix = gluten_free_dataframe.replace('', np.nan)\n",
    "example_fix.info()"
   ]
  },
  {
   "cell_type": "markdown",
   "metadata": {
    "pycharm": {
     "name": "#%% md\n"
    }
   },
   "source": [
    "This only fixed the issues with single cells. Blank lists are still an issue."
   ]
  },
  {
   "cell_type": "code",
   "execution_count": 18,
   "metadata": {
    "pycharm": {
     "name": "#%%\n"
    }
   },
   "outputs": [
    {
     "data": {
      "text/plain": "B0001BVF7U    2\nB0000VZXX8    2\nB0000TZHZ4    2\nB0001RIS2E    2\nB0001M0ZWU    2\n             ..\nB0001M12P4    2\nB0001M0Z1Q    2\nB015JR45KE    1\nB009KW7L6A    1\nB0161RWQF2    1\nName: asin, Length: 3700, dtype: int64"
     },
     "execution_count": 18,
     "metadata": {},
     "output_type": "execute_result"
    }
   ],
   "source": [
    "# Thought 'asin' values were unique; however, they aren't.\n",
    "grocery_data['asin'].value_counts().head(3700)"
   ]
  },
  {
   "cell_type": "code",
   "execution_count": 19,
   "metadata": {
    "pycharm": {
     "name": "#%%\n"
    }
   },
   "outputs": [
    {
     "data": {
      "text/plain": "                                               category tech1  \\\n2480  [Grocery & Gourmet Food, Herbs, Spices & Seaso...         \n6177  [Grocery & Gourmet Food, Herbs, Spices & Seaso...         \n\n                                            description fit  \\\n2480  [Seasoning Pizza. It is a high quality healthy...       \n6177  [Seasoning Pizza. It is a high quality healthy...       \n\n                                                  title  \\\n2480  Frontier Natural Products Pizza Seasoning -- 1...   \n6177  Frontier Natural Products Pizza Seasoning -- 1...   \n\n                                               also_buy image tech2     brand  \\\n2480  [B0001M10ZG, B001VNKT0Q, B001VNGKAO, B00GCDPLC...    []        Frontier   \n6177  [B0001M10ZG, B001VNKT0Q, B001VNGKAO, B00GCDPLC...    []        Frontier   \n\n     feature                                rank  \\\n2480      []  56,442 in Grocery & Gourmet Food (   \n6177      []  56,442 in Grocery & Gourmet Food (   \n\n                                              also_view main_cat similar_item  \\\n2480  [B0001M10ZG, B076THTQ1K, B00DUF3CHU, B000WR2GN...  Grocery                \n6177  [B0001M10ZG, B076THTQ1K, B00DUF3CHU, B000WR2GN...  Grocery                \n\n     date   price        asin  \\\n2480       $14.99  B0001M0YTO   \n6177       $14.99  B0001M0YTO   \n\n                                                details  \n2480  {'\n    Product Dimensions: \n    ': '4 x 4 x 10...  \n6177  {'\n    Product Dimensions: \n    ': '4 x 4 x 10...  ",
      "text/html": "<div>\n<style scoped>\n    .dataframe tbody tr th:only-of-type {\n        vertical-align: middle;\n    }\n\n    .dataframe tbody tr th {\n        vertical-align: top;\n    }\n\n    .dataframe thead th {\n        text-align: right;\n    }\n</style>\n<table border=\"1\" class=\"dataframe\">\n  <thead>\n    <tr style=\"text-align: right;\">\n      <th></th>\n      <th>category</th>\n      <th>tech1</th>\n      <th>description</th>\n      <th>fit</th>\n      <th>title</th>\n      <th>also_buy</th>\n      <th>image</th>\n      <th>tech2</th>\n      <th>brand</th>\n      <th>feature</th>\n      <th>rank</th>\n      <th>also_view</th>\n      <th>main_cat</th>\n      <th>similar_item</th>\n      <th>date</th>\n      <th>price</th>\n      <th>asin</th>\n      <th>details</th>\n    </tr>\n  </thead>\n  <tbody>\n    <tr>\n      <th>2480</th>\n      <td>[Grocery &amp; Gourmet Food, Herbs, Spices &amp; Seaso...</td>\n      <td></td>\n      <td>[Seasoning Pizza. It is a high quality healthy...</td>\n      <td></td>\n      <td>Frontier Natural Products Pizza Seasoning -- 1...</td>\n      <td>[B0001M10ZG, B001VNKT0Q, B001VNGKAO, B00GCDPLC...</td>\n      <td>[]</td>\n      <td></td>\n      <td>Frontier</td>\n      <td>[]</td>\n      <td>56,442 in Grocery &amp; Gourmet Food (</td>\n      <td>[B0001M10ZG, B076THTQ1K, B00DUF3CHU, B000WR2GN...</td>\n      <td>Grocery</td>\n      <td></td>\n      <td></td>\n      <td>$14.99</td>\n      <td>B0001M0YTO</td>\n      <td>{'\n    Product Dimensions: \n    ': '4 x 4 x 10...</td>\n    </tr>\n    <tr>\n      <th>6177</th>\n      <td>[Grocery &amp; Gourmet Food, Herbs, Spices &amp; Seaso...</td>\n      <td></td>\n      <td>[Seasoning Pizza. It is a high quality healthy...</td>\n      <td></td>\n      <td>Frontier Natural Products Pizza Seasoning -- 1...</td>\n      <td>[B0001M10ZG, B001VNKT0Q, B001VNGKAO, B00GCDPLC...</td>\n      <td>[]</td>\n      <td></td>\n      <td>Frontier</td>\n      <td>[]</td>\n      <td>56,442 in Grocery &amp; Gourmet Food (</td>\n      <td>[B0001M10ZG, B076THTQ1K, B00DUF3CHU, B000WR2GN...</td>\n      <td>Grocery</td>\n      <td></td>\n      <td></td>\n      <td>$14.99</td>\n      <td>B0001M0YTO</td>\n      <td>{'\n    Product Dimensions: \n    ': '4 x 4 x 10...</td>\n    </tr>\n  </tbody>\n</table>\n</div>"
     },
     "execution_count": 19,
     "metadata": {},
     "output_type": "execute_result"
    }
   ],
   "source": [
    "# Spot checked some and it looks like these are just duplicates in the data of the same thing; only the index is different..\n",
    "# Also, percentage wise the majority of the 'asin' number are unique so should be ok to use as id.\n",
    "grocery_data[grocery_data['asin'] == 'B0001M0YTO']"
   ]
  },
  {
   "cell_type": "code",
   "execution_count": 20,
   "metadata": {
    "pycharm": {
     "name": "#%%\n"
    }
   },
   "outputs": [
    {
     "data": {
      "text/plain": "                            11419\nUnknown                      1780\nBlack Tie Mercantile         1458\nTrader Joe's                 1234\nMcCormick                    1041\n                            ...  \nPlaza Mayor                     1\nDiet Mountain Dew               1\nIflavor                         1\nNOW&LATER STRAWBERRY 6PC        1\nDAS                             1\nName: brand, Length: 38904, dtype: int64"
     },
     "execution_count": 20,
     "metadata": {},
     "output_type": "execute_result"
    }
   ],
   "source": [
    "# # Most common brands.\n",
    "grocery_data['brand'].value_counts()"
   ]
  },
  {
   "cell_type": "markdown",
   "metadata": {},
   "source": [
    "Research: Why do the counts appear off?  \n",
    "- Is it because of whitespace? Don't think so because of the strip method when loading data. Also, selecting the cell area inside the dataframe doesn't highlight anything in these cells. However, it does select the text in non-empty cells.\n",
    "- There are definitely more missing/blank values than what the initial information revealed.\n",
    "\n",
    "Answers:  \n",
    "- Blank values.\n",
    "- Certain cells have the full HTML DOM (so long it doesn't display in Pandas and looks empty).\n",
    "- Some prices contain a range of values.\n",
    "\n",
    "### Find Data of Interest and Clean It - Attempt 3\n",
    "Ran into problems analyzing the data because didn't fully understand the info summary above.\n",
    "Copying dataframe to convert types and then analyze further. <sup>[2]</sup>"
   ]
  },
  {
   "cell_type": "code",
   "execution_count": 21,
   "metadata": {
    "pycharm": {
     "name": "#%%\n"
    }
   },
   "outputs": [
    {
     "name": "stdout",
     "output_type": "stream",
     "text": [
      "<class 'pandas.core.frame.DataFrame'>\n",
      "RangeIndex: 287051 entries, 0 to 287050\n",
      "Data columns (total 18 columns):\n",
      " #   Column        Non-Null Count   Dtype \n",
      "---  ------        --------------   ----- \n",
      " 0   category      287051 non-null  object\n",
      " 1   tech1         287051 non-null  object\n",
      " 2   description   287051 non-null  object\n",
      " 3   fit           287051 non-null  object\n",
      " 4   title         287051 non-null  object\n",
      " 5   also_buy      287051 non-null  object\n",
      " 6   image         287051 non-null  object\n",
      " 7   tech2         287051 non-null  object\n",
      " 8   brand         287051 non-null  object\n",
      " 9   feature       287051 non-null  object\n",
      " 10  rank          287051 non-null  object\n",
      " 11  also_view     287051 non-null  object\n",
      " 12  main_cat      287051 non-null  object\n",
      " 13  similar_item  287051 non-null  object\n",
      " 14  date          287051 non-null  object\n",
      " 15  price         287051 non-null  object\n",
      " 16  asin          287051 non-null  object\n",
      " 17  details       287027 non-null  object\n",
      "dtypes: object(18)\n",
      "memory usage: 39.4+ MB\n"
     ]
    }
   ],
   "source": [
    "grocery_data_copy = grocery_data.copy()\n",
    "\n",
    "grocery_data_copy.info()"
   ]
  },
  {
   "cell_type": "code",
   "execution_count": 22,
   "metadata": {
    "pycharm": {
     "name": "#%%\n"
    }
   },
   "outputs": [
    {
     "name": "stdout",
     "output_type": "stream",
     "text": [
      "<class 'pandas.core.frame.DataFrame'>\n",
      "RangeIndex: 287051 entries, 0 to 287050\n",
      "Data columns (total 18 columns):\n",
      " #   Column        Non-Null Count   Dtype  \n",
      "---  ------        --------------   -----  \n",
      " 0   category      287051 non-null  object \n",
      " 1   tech1         744 non-null     object \n",
      " 2   description   287051 non-null  object \n",
      " 3   fit           4 non-null       object \n",
      " 4   title         287048 non-null  object \n",
      " 5   also_buy      287051 non-null  object \n",
      " 6   image         287051 non-null  object \n",
      " 7   tech2         0 non-null       float64\n",
      " 8   brand         275632 non-null  object \n",
      " 9   feature       287051 non-null  object \n",
      " 10  rank          287051 non-null  object \n",
      " 11  also_view     287051 non-null  object \n",
      " 12  main_cat      285688 non-null  object \n",
      " 13  similar_item  256 non-null     object \n",
      " 14  date          9662 non-null    object \n",
      " 15  price         133858 non-null  object \n",
      " 16  asin          287051 non-null  object \n",
      " 17  details       287027 non-null  object \n",
      "dtypes: float64(1), object(17)\n",
      "memory usage: 39.4+ MB\n"
     ]
    }
   ],
   "source": [
    "# Clean blank values\n",
    "grocery_data_copy.replace('', np.nan, inplace=True)\n",
    "grocery_data_copy.info()"
   ]
  },
  {
   "cell_type": "code",
   "execution_count": 23,
   "metadata": {
    "pycharm": {
     "name": "#%%\n"
    }
   },
   "outputs": [],
   "source": [
    "# Wrangle prices\n",
    "def convert_currency(val: str) -> float:\n",
    "    \"\"\"\n",
    "    Converts input to string and output to Decimal (an accurate float for currency).\n",
    "     - Remove $ and commas.\n",
    "     - Change number ranges into np.NaN.\n",
    "     - Change other problem characters to np.NaN.\n",
    "     - All values must already be in the same currency.\n",
    "     # Note: This has many additional checks and concepts added in different ways for learning purposes.\n",
    "    \"\"\"\n",
    "    new_val = str(val)\n",
    "    \n",
    "    # Setup Logging\n",
    "    logging.basicConfig(filename=price_logs, filemode='w+', level=logging.INFO)\n",
    "    \n",
    "    # Changing problem values such as HTML and blanks to np.NaN as soon as possible.\n",
    "    # Research: Need to find better way to handle performance for these checks. \n",
    "    # See cleaned data going forward below.\n",
    "    if new_val == '':\n",
    "        return np.NaN\n",
    "    if ('/' in new_val) | ('{' in new_val) | ('}' in new_val) | ('<' in new_val) | ('>' in new_val):\n",
    "        logging.info(f\"Converting problem character(s) to np.NaN. Original: {new_val}\")\n",
    "        return np.NaN\n",
    "    # Could write this to a report for a customer or BA to determine if we want to use min, max, or mean instead.\n",
    "    if ' - ' in new_val:\n",
    "        logging.warning(f\"Converting range of numbers to np.NaN. Original: {new_val}\")\n",
    "        return np.NaN\n",
    "        \n",
    "    # If other common problem characters are found in the data they should be removed here.\n",
    "    # The exception is other currency symbols because that will remove key meaning from the data.\n",
    "    new_val = new_val.replace(',','').replace('$', '')\n",
    "    \n",
    "    # Return the desired output or throw an error.\n",
    "    try:\n",
    "        new_val = round(float(new_val), 2)\n",
    "        return new_val\n",
    "    except ValueError:\n",
    "        # This is a type of issue the user can fix on a case by case basis.\n",
    "        logging.warning(f\"\"\"\n",
    "            WARNING: The new value cannot be converted. Only numbers and '.' are allowed in the data.\n",
    "            - If there are values in multiple currencies the data must be converted into just $ first.\n",
    "            - Most likely this problem is because of unexpected character(s) at: {val}.  \n",
    "        \"\"\")\n",
    "        raise ValueError"
   ]
  },
  {
   "cell_type": "code",
   "execution_count": 24,
   "metadata": {
    "pycharm": {
     "name": "#%%\n"
    }
   },
   "outputs": [
    {
     "name": "stdout",
     "output_type": "stream",
     "text": [
      "<class 'pandas.core.frame.DataFrame'>\n",
      "RangeIndex: 287051 entries, 0 to 287050\n",
      "Data columns (total 18 columns):\n",
      " #   Column        Non-Null Count   Dtype  \n",
      "---  ------        --------------   -----  \n",
      " 0   category      287051 non-null  object \n",
      " 1   tech1         744 non-null     object \n",
      " 2   description   287051 non-null  object \n",
      " 3   fit           4 non-null       object \n",
      " 4   title         287048 non-null  object \n",
      " 5   also_buy      287051 non-null  object \n",
      " 6   image         287051 non-null  object \n",
      " 7   tech2         0 non-null       float64\n",
      " 8   brand         275632 non-null  object \n",
      " 9   feature       287051 non-null  object \n",
      " 10  rank          287051 non-null  object \n",
      " 11  also_view     287051 non-null  object \n",
      " 12  main_cat      285688 non-null  object \n",
      " 13  similar_item  256 non-null     object \n",
      " 14  date          9662 non-null    object \n",
      " 15  price         132036 non-null  float64\n",
      " 16  asin          287051 non-null  object \n",
      " 17  details       287027 non-null  object \n",
      "dtypes: float64(2), object(16)\n",
      "memory usage: 39.4+ MB\n"
     ]
    }
   ],
   "source": [
    "grocery_data_copy['price'] = grocery_data_copy['price'].apply(convert_currency)\n",
    "grocery_data_copy.info()"
   ]
  },
  {
   "cell_type": "code",
   "execution_count": 25,
   "metadata": {
    "pycharm": {
     "name": "#%%\n"
    }
   },
   "outputs": [
    {
     "name": "stdout",
     "output_type": "stream",
     "text": [
      "<class 'pandas.core.frame.DataFrame'>\n",
      "RangeIndex: 287051 entries, 0 to 287050\n",
      "Data columns (total 18 columns):\n",
      " #   Column        Non-Null Count   Dtype         \n",
      "---  ------        --------------   -----         \n",
      " 0   category      287051 non-null  object        \n",
      " 1   tech1         744 non-null     object        \n",
      " 2   description   287051 non-null  object        \n",
      " 3   fit           4 non-null       object        \n",
      " 4   title         287048 non-null  object        \n",
      " 5   also_buy      287051 non-null  object        \n",
      " 6   image         287051 non-null  object        \n",
      " 7   tech2         0 non-null       float64       \n",
      " 8   brand         275632 non-null  object        \n",
      " 9   feature       287051 non-null  object        \n",
      " 10  rank          287051 non-null  object        \n",
      " 11  also_view     287051 non-null  object        \n",
      " 12  main_cat      285688 non-null  object        \n",
      " 13  similar_item  256 non-null     object        \n",
      " 14  date          9555 non-null    datetime64[ns]\n",
      " 15  price         132036 non-null  float64       \n",
      " 16  asin          287051 non-null  object        \n",
      " 17  details       287027 non-null  object        \n",
      "dtypes: datetime64[ns](1), float64(2), object(15)\n",
      "memory usage: 39.4+ MB\n"
     ]
    }
   ],
   "source": [
    "# Reformat date\n",
    "grocery_data_copy['date'] = pd.to_datetime((grocery_data_copy['date']), errors='coerce')\n",
    "grocery_data_copy.info()"
   ]
  },
  {
   "cell_type": "code",
   "execution_count": 26,
   "metadata": {
    "pycharm": {
     "name": "#%%\n"
    }
   },
   "outputs": [
    {
     "data": {
      "text/plain": "count    132036.000000\nmean         25.414546\nstd          38.099857\nmin           0.010000\n25%          10.880000\n50%          17.980000\n75%          29.990000\nmax        5600.000000\nName: price, dtype: float64"
     },
     "execution_count": 26,
     "metadata": {},
     "output_type": "execute_result"
    }
   ],
   "source": [
    "grocery_data_copy['price'].describe()"
   ]
  },
  {
   "cell_type": "markdown",
   "source": [
    "### Find Data of Interest and Clean It - Attempt 4\n",
    "This is a way of dropping all columns where at least 90% of data is empty. <sup>3</sup>  \n",
    "Mostly matches earlier analysis but much faster."
   ],
   "metadata": {
    "collapsed": false,
    "pycharm": {
     "name": "#%% md\n"
    }
   }
  },
  {
   "cell_type": "code",
   "execution_count": 27,
   "metadata": {
    "pycharm": {
     "name": "#%%\n"
    }
   },
   "outputs": [
    {
     "name": "stdout",
     "output_type": "stream",
     "text": [
      "<class 'pandas.core.frame.DataFrame'>\n",
      "RangeIndex: 287051 entries, 0 to 287050\n",
      "Data columns (total 12 columns):\n",
      " #   Column       Non-Null Count   Dtype \n",
      "---  ------       --------------   ----- \n",
      " 0   category     287051 non-null  object\n",
      " 1   description  287051 non-null  object\n",
      " 2   title        287048 non-null  object\n",
      " 3   also_buy     287051 non-null  object\n",
      " 4   image        287051 non-null  object\n",
      " 5   brand        275632 non-null  object\n",
      " 6   feature      287051 non-null  object\n",
      " 7   rank         287051 non-null  object\n",
      " 8   also_view    287051 non-null  object\n",
      " 9   main_cat     285688 non-null  object\n",
      " 10  asin         287051 non-null  object\n",
      " 11  details      287027 non-null  object\n",
      "dtypes: object(12)\n",
      "memory usage: 26.3+ MB\n"
     ]
    }
   ],
   "source": [
    "# Research: Not sure why this dropped price. Only about 55% empty; not 90%\n",
    "# Answer: The percent isn't how empty it is. It's how much data is there.\n",
    "drop_thresh = grocery_data_copy.shape[0] * 0.9\n",
    "grocery_data_drop = grocery_data_copy.dropna(thresh=drop_thresh, how='all', axis='columns').copy()\n",
    "grocery_data_drop.info()"
   ]
  },
  {
   "cell_type": "markdown",
   "metadata": {
    "pycharm": {
     "name": "#%% md\n"
    }
   },
   "source": [
    "## Exploring columns with data in lists and dictionaries\n",
    "Note: Some of these have been dropped by now.  \n",
    "Includes category, description, also_buy, image, feature, also_view\n",
    "In some cases includes rank.\n",
    "Details are a dictionary."
   ]
  },
  {
   "cell_type": "code",
   "execution_count": 28,
   "metadata": {
    "pycharm": {
     "name": "#%%\n"
    }
   },
   "outputs": [],
   "source": [
    "def create_unique_list(dataframe_series: pd.Series) -> list:\n",
    "    \"\"\"\n",
    "    Create a list of unique values from a pandas series (data column).\n",
    "    :param dataframe_series\n",
    "    :return: list\n",
    "    \"\"\"\n",
    "    unique_values = []\n",
    "\n",
    "    for row in dataframe_series:\n",
    "        for item in row:\n",
    "            if item not in unique_values:\n",
    "                unique_values.append(item)\n",
    "                \n",
    "    return unique_values"
   ]
  },
  {
   "cell_type": "code",
   "execution_count": 29,
   "metadata": {
    "pycharm": {
     "name": "#%%\n"
    }
   },
   "outputs": [
    {
     "name": "stdout",
     "output_type": "stream",
     "text": [
      "1354\n"
     ]
    }
   ],
   "source": [
    "# categories wrangling\n",
    "unique_categories = create_unique_list(grocery_data_drop['category'])       \n",
    "print(len(unique_categories))"
   ]
  },
  {
   "cell_type": "code",
   "execution_count": 30,
   "metadata": {
    "pycharm": {
     "name": "#%%\n"
    }
   },
   "outputs": [],
   "source": [
    "# grocery_data_drop.category.astype(\"category\")\n",
    "\n",
    "# TODO: Throws TypeError: unhashable type: 'list'\n",
    "# Will return to this issue once I've completed the feature engineering model of the course."
   ]
  },
  {
   "cell_type": "code",
   "execution_count": 31,
   "metadata": {
    "pycharm": {
     "name": "#%%\n"
    }
   },
   "outputs": [
    {
     "name": "stdout",
     "output_type": "stream",
     "text": [
      "Count of products in database 287051\n",
      "Unique count of products in database 283354\n"
     ]
    }
   ],
   "source": [
    "# unique asin\n",
    "# which is also unique also_buy and also_view\n",
    "      \n",
    "print(\"Count of products in database\", len(grocery_data_drop['asin']))\n",
    "print(\"Unique count of products in database\", len(set(grocery_data_drop['asin'])))"
   ]
  },
  {
   "cell_type": "code",
   "execution_count": 32,
   "metadata": {
    "pycharm": {
     "name": "#%%\n"
    }
   },
   "outputs": [
    {
     "name": "stdout",
     "output_type": "stream",
     "text": [
      "42595\n"
     ]
    }
   ],
   "source": [
    "# feature wrangling\n",
    "unique_feature = create_unique_list(grocery_data_drop['feature'])       \n",
    "print(len(unique_feature))"
   ]
  },
  {
   "cell_type": "markdown",
   "source": [
    "## Data Set Going Forward\n",
    "\n",
    "This will combine several of the attempts and ideas from above."
   ],
   "metadata": {
    "collapsed": false,
    "pycharm": {
     "name": "#%% md\n"
    }
   }
  },
  {
   "cell_type": "code",
   "execution_count": 33,
   "outputs": [
    {
     "name": "stdout",
     "output_type": "stream",
     "text": [
      "<class 'pandas.core.frame.DataFrame'>\n",
      "RangeIndex: 287051 entries, 0 to 287050\n",
      "Data columns (total 13 columns):\n",
      " #   Column       Non-Null Count   Dtype  \n",
      "---  ------       --------------   -----  \n",
      " 0   category     287051 non-null  object \n",
      " 1   description  287051 non-null  object \n",
      " 2   title        287048 non-null  object \n",
      " 3   also_buy     287051 non-null  object \n",
      " 4   image        287051 non-null  object \n",
      " 5   brand        275632 non-null  object \n",
      " 6   feature      287051 non-null  object \n",
      " 7   rank         287051 non-null  object \n",
      " 8   also_view    287051 non-null  object \n",
      " 9   main_cat     285688 non-null  object \n",
      " 10  price        132036 non-null  float64\n",
      " 11  asin         287051 non-null  object \n",
      " 12  details      287027 non-null  object \n",
      "dtypes: float64(1), object(12)\n",
      "memory usage: 28.5+ MB\n"
     ]
    }
   ],
   "source": [
    "# Remove columns that don't have at least 40% of the data.\n",
    "\n",
    "drop_thresh = grocery_data.shape[0] * 0.4\n",
    "grocery_data_5 = grocery_data_copy.dropna(thresh=drop_thresh, how='all', axis='columns').copy()\n",
    "grocery_data_5.info()"
   ],
   "metadata": {
    "collapsed": false,
    "pycharm": {
     "name": "#%%\n"
    }
   }
  },
  {
   "cell_type": "code",
   "execution_count": 34,
   "outputs": [
    {
     "name": "stdout",
     "output_type": "stream",
     "text": [
      "<class 'pandas.core.frame.DataFrame'>\n",
      "RangeIndex: 283354 entries, 0 to 283353\n",
      "Data columns (total 13 columns):\n",
      " #   Column       Non-Null Count   Dtype  \n",
      "---  ------       --------------   -----  \n",
      " 0   category     283354 non-null  object \n",
      " 1   description  283354 non-null  object \n",
      " 2   title        283351 non-null  object \n",
      " 3   also_buy     283354 non-null  object \n",
      " 4   image        283354 non-null  object \n",
      " 5   brand        272115 non-null  object \n",
      " 6   feature      283354 non-null  object \n",
      " 7   rank         283354 non-null  object \n",
      " 8   also_view    283354 non-null  object \n",
      " 9   main_cat     281991 non-null  object \n",
      " 10  price        130134 non-null  float64\n",
      " 11  asin         283354 non-null  object \n",
      " 12  details      283330 non-null  object \n",
      "dtypes: float64(1), object(12)\n",
      "memory usage: 28.1+ MB\n"
     ]
    }
   ],
   "source": [
    "# Remove duplicate asin rows\n",
    "\n",
    "grocery_data_5.drop_duplicates(subset=['asin'], keep='first', inplace=True, ignore_index=True)\n",
    "grocery_data_5.info()\n"
   ],
   "metadata": {
    "collapsed": false,
    "pycharm": {
     "name": "#%%\n"
    }
   }
  },
  {
   "cell_type": "code",
   "execution_count": 35,
   "outputs": [],
   "source": [
    "# Set index to unique asin (Amazon Standard Identification Number).\n",
    "\n",
    "grocery_data_5.set_index(['asin'], inplace=True)"
   ],
   "metadata": {
    "collapsed": false,
    "pycharm": {
     "name": "#%%\n"
    }
   }
  },
  {
   "cell_type": "code",
   "execution_count": 36,
   "outputs": [
    {
     "data": {
      "text/plain": "                                                     category  \\\nasin                                                            \n0681727810  [Grocery & Gourmet Food, Dairy, Cheese & Eggs,...   \n0853347867  [Grocery & Gourmet Food, Cooking & Baking, Sug...   \n1888861118  [Grocery & Gourmet Food, Cooking & Baking, Fro...   \n1888861517  [Grocery & Gourmet Food, Cooking & Baking, Fro...   \n1888861614  [Grocery & Gourmet Food, Cooking & Baking, Fro...   \n\n                                                  description  \\\nasin                                                            \n0681727810  [BEEMSTER GOUDA CHEESE AGED 18/24 MONTHS, Stat...   \n0853347867  [Shipped from UK, please allow 10 to 21 busine...   \n1888861118  [Jazz up your cakes with a sparkling monogram ...   \n1888861517                      [Large Letter - Height 4.75\"]   \n1888861614                                            [4.75\"]   \n\n                                                        title  \\\nasin                                                            \n0681727810  Beemster Gouda - Aged 18/24 Months - App. 1.5 Lbs   \n0853347867                          Trim Healthy Mama Xylitol   \n1888861118  Letter C - Swarovski Crystal Monogram Wedding ...   \n1888861517  Letter H - Swarovski Crystal Monogram Wedding ...   \n1888861614  Letter S - Swarovski Crystal Monogram Wedding ...   \n\n                                                     also_buy  \\\nasin                                                            \n0681727810                                                 []   \n0853347867  [B01898YHXK, B01BCM6LAC, B00Q4OL47O, B00Q4OL5Q...   \n1888861118                                                 []   \n1888861517                                                 []   \n1888861614                                                 []   \n\n                                                        image           brand  \\\nasin                                                                            \n0681727810                                                 []  Ariola Imports   \n0853347867  [https://images-na.ssl-images-amazon.com/image...             NaN   \n1888861118                                                 []  Unik Occasions   \n1888861517                                                 []           Other   \n1888861614                                                 []  Unik Occasions   \n\n                                  feature  \\\nasin                                        \n0681727810                             []   \n0853347867                             []   \n1888861118                             []   \n1888861517  [Large Letter - Height 4.75\"]   \n1888861614                 [4.75\" height]   \n\n                                                         rank  \\\nasin                                                            \n0681727810                165,181 in Grocery & Gourmet Food (   \n0853347867                315,867 in Grocery & Gourmet Food (   \n1888861118  [>#669,941 in Kitchen & Dining (See Top 100 in...   \n1888861517  [>#832,581 in Kitchen & Dining (See Top 100 in...   \n1888861614  [>#590,999 in Kitchen & Dining (See Top 100 in...   \n\n                                                    also_view     main_cat  \\\nasin                                                                         \n0681727810  [B0000D9MYM, B0000D9MYL, B00ADHIGBA, B00H9OX59...      Grocery   \n0853347867                                                 []      Grocery   \n1888861118                                       [B07DXN65TF]  Amazon Home   \n1888861517                                                 []  Amazon Home   \n1888861614                                                 []  Amazon Home   \n\n            price details  \nasin                       \n0681727810  41.91     NaN  \n0853347867    NaN     NaN  \n1888861118  29.95     NaN  \n1888861517  11.45     NaN  \n1888861614  15.00     NaN  ",
      "text/html": "<div>\n<style scoped>\n    .dataframe tbody tr th:only-of-type {\n        vertical-align: middle;\n    }\n\n    .dataframe tbody tr th {\n        vertical-align: top;\n    }\n\n    .dataframe thead th {\n        text-align: right;\n    }\n</style>\n<table border=\"1\" class=\"dataframe\">\n  <thead>\n    <tr style=\"text-align: right;\">\n      <th></th>\n      <th>category</th>\n      <th>description</th>\n      <th>title</th>\n      <th>also_buy</th>\n      <th>image</th>\n      <th>brand</th>\n      <th>feature</th>\n      <th>rank</th>\n      <th>also_view</th>\n      <th>main_cat</th>\n      <th>price</th>\n      <th>details</th>\n    </tr>\n    <tr>\n      <th>asin</th>\n      <th></th>\n      <th></th>\n      <th></th>\n      <th></th>\n      <th></th>\n      <th></th>\n      <th></th>\n      <th></th>\n      <th></th>\n      <th></th>\n      <th></th>\n      <th></th>\n    </tr>\n  </thead>\n  <tbody>\n    <tr>\n      <th>0681727810</th>\n      <td>[Grocery &amp; Gourmet Food, Dairy, Cheese &amp; Eggs,...</td>\n      <td>[BEEMSTER GOUDA CHEESE AGED 18/24 MONTHS, Stat...</td>\n      <td>Beemster Gouda - Aged 18/24 Months - App. 1.5 Lbs</td>\n      <td>[]</td>\n      <td>[]</td>\n      <td>Ariola Imports</td>\n      <td>[]</td>\n      <td>165,181 in Grocery &amp; Gourmet Food (</td>\n      <td>[B0000D9MYM, B0000D9MYL, B00ADHIGBA, B00H9OX59...</td>\n      <td>Grocery</td>\n      <td>41.91</td>\n      <td>NaN</td>\n    </tr>\n    <tr>\n      <th>0853347867</th>\n      <td>[Grocery &amp; Gourmet Food, Cooking &amp; Baking, Sug...</td>\n      <td>[Shipped from UK, please allow 10 to 21 busine...</td>\n      <td>Trim Healthy Mama Xylitol</td>\n      <td>[B01898YHXK, B01BCM6LAC, B00Q4OL47O, B00Q4OL5Q...</td>\n      <td>[https://images-na.ssl-images-amazon.com/image...</td>\n      <td>NaN</td>\n      <td>[]</td>\n      <td>315,867 in Grocery &amp; Gourmet Food (</td>\n      <td>[]</td>\n      <td>Grocery</td>\n      <td>NaN</td>\n      <td>NaN</td>\n    </tr>\n    <tr>\n      <th>1888861118</th>\n      <td>[Grocery &amp; Gourmet Food, Cooking &amp; Baking, Fro...</td>\n      <td>[Jazz up your cakes with a sparkling monogram ...</td>\n      <td>Letter C - Swarovski Crystal Monogram Wedding ...</td>\n      <td>[]</td>\n      <td>[]</td>\n      <td>Unik Occasions</td>\n      <td>[]</td>\n      <td>[&gt;#669,941 in Kitchen &amp; Dining (See Top 100 in...</td>\n      <td>[B07DXN65TF]</td>\n      <td>Amazon Home</td>\n      <td>29.95</td>\n      <td>NaN</td>\n    </tr>\n    <tr>\n      <th>1888861517</th>\n      <td>[Grocery &amp; Gourmet Food, Cooking &amp; Baking, Fro...</td>\n      <td>[Large Letter - Height 4.75\"]</td>\n      <td>Letter H - Swarovski Crystal Monogram Wedding ...</td>\n      <td>[]</td>\n      <td>[]</td>\n      <td>Other</td>\n      <td>[Large Letter - Height 4.75\"]</td>\n      <td>[&gt;#832,581 in Kitchen &amp; Dining (See Top 100 in...</td>\n      <td>[]</td>\n      <td>Amazon Home</td>\n      <td>11.45</td>\n      <td>NaN</td>\n    </tr>\n    <tr>\n      <th>1888861614</th>\n      <td>[Grocery &amp; Gourmet Food, Cooking &amp; Baking, Fro...</td>\n      <td>[4.75\"]</td>\n      <td>Letter S - Swarovski Crystal Monogram Wedding ...</td>\n      <td>[]</td>\n      <td>[]</td>\n      <td>Unik Occasions</td>\n      <td>[4.75\" height]</td>\n      <td>[&gt;#590,999 in Kitchen &amp; Dining (See Top 100 in...</td>\n      <td>[]</td>\n      <td>Amazon Home</td>\n      <td>15.00</td>\n      <td>NaN</td>\n    </tr>\n  </tbody>\n</table>\n</div>"
     },
     "execution_count": 36,
     "metadata": {},
     "output_type": "execute_result"
    }
   ],
   "source": [
    "grocery_data_5.head()"
   ],
   "metadata": {
    "collapsed": false,
    "pycharm": {
     "name": "#%%\n"
    }
   }
  },
  {
   "cell_type": "code",
   "execution_count": 37,
   "outputs": [
    {
     "name": "stdout",
     "output_type": "stream",
     "text": [
      "<class 'pandas.core.frame.DataFrame'>\n",
      "Index: 283354 entries, 0681727810 to B01HJFRDDA\n",
      "Data columns (total 11 columns):\n",
      " #   Column       Non-Null Count   Dtype  \n",
      "---  ------       --------------   -----  \n",
      " 0   category     283354 non-null  object \n",
      " 1   description  283354 non-null  object \n",
      " 2   title        283351 non-null  object \n",
      " 3   also_buy     283354 non-null  object \n",
      " 4   brand        272115 non-null  object \n",
      " 5   feature      283354 non-null  object \n",
      " 6   rank         283354 non-null  object \n",
      " 7   also_view    283354 non-null  object \n",
      " 8   main_cat     281991 non-null  object \n",
      " 9   price        130134 non-null  float64\n",
      " 10  details      283330 non-null  object \n",
      "dtypes: float64(1), object(10)\n",
      "memory usage: 25.9+ MB\n"
     ]
    }
   ],
   "source": [
    "# Drop image link because it won't be used for this project/analysis.\n",
    "\n",
    "grocery_data_5.drop(columns=['image'], inplace=True)\n",
    "grocery_data_5.info()"
   ],
   "metadata": {
    "collapsed": false,
    "pycharm": {
     "name": "#%%\n"
    }
   }
  },
  {
   "cell_type": "markdown",
   "source": [
    "### Analysis of price\n",
    "\n",
    "Not cleaning the below for now because prices might not be used in the future since 55% of them are missing."
   ],
   "metadata": {
    "collapsed": false,
    "pycharm": {
     "name": "#%% md\n"
    }
   }
  },
  {
   "cell_type": "code",
   "execution_count": 38,
   "outputs": [
    {
     "data": {
      "text/plain": "count    130134.000000\nmean         25.486729\nstd          38.067858\nmin           0.010000\n25%          10.950000\n50%          17.990000\n75%          30.000000\nmax        5600.000000\nName: price, dtype: float64"
     },
     "execution_count": 38,
     "metadata": {},
     "output_type": "execute_result"
    }
   ],
   "source": [
    "# It looks like there probably are some outliers in price on the high end.\n",
    "grocery_data_5.price.describe()"
   ],
   "metadata": {
    "collapsed": false,
    "pycharm": {
     "name": "#%%\n"
    }
   }
  },
  {
   "cell_type": "code",
   "execution_count": 39,
   "outputs": [
    {
     "data": {
      "text/plain": "                                                     category  \\\nasin                                                            \nB00BPMO562  [Grocery & Gourmet Food, Snack Foods, Applesau...   \nB005LPLNVO  [Grocery & Gourmet Food, Meat & Seafood, Seafo...   \nB003YHKKTM  [Grocery & Gourmet Food, Canned, Jarred & Pack...   \nB005GXGSWA  [Grocery & Gourmet Food, Meat & Seafood, Seafo...   \nB0029Y12G6  [Grocery & Gourmet Food, Dairy, Cheese & Eggs,...   \nB0029XTY08  [Grocery & Gourmet Food, Dairy, Cheese & Eggs,...   \nB001F5IFLA  [Grocery & Gourmet Food, Dairy, Cheese & Eggs,...   \nB0050IKM8M  [Grocery & Gourmet Food, Meat & Seafood, Beef,...   \nB002AQPVEC  [Grocery & Gourmet Food, Meat & Seafood, Pork,...   \nB01FLYEXAC  [Grocery & Gourmet Food, Meat & Seafood, Pork,...   \nB00MD56Y7I  [Grocery & Gourmet Food, Breakfast Foods, Cere...   \n\n                                                  description  \\\nasin                                                            \nB00BPMO562                                                 []   \nB005LPLNVO  [Russian Osetra Karat Caviar-Amber Delectably ...   \nB003YHKKTM  [Harvested in the Caspian and Black Seas and i...   \nB005GXGSWA                                                 []   \nB0029Y12G6                                                 []   \nB0029XTY08  [Comte cheese is made from unpasteurized cow's...   \nB001F5IFLA  [Parmigiano-Reggiano is a completely natural c...   \nB0050IKM8M                                                 []   \nB002AQPVEC  [In the dehesas, an indigenous forest of south...   \nB01FLYEXAC  [, CyberCucina has partnered with one of the t...   \nB00MD56Y7I  [There's a bite of filling made with real frui...   \n\n                                                        title      also_buy  \\\nasin                                                                          \nB00BPMO562           Mott'S Cinnamon Apple Sauce! (90 Pieces)            []   \nB005LPLNVO  OLMA Black Caviar Russian Osetra KARAT 35.2 oz...            []   \nB003YHKKTM  Osetra Golden Imperial Caviar Malossol - 17.6 ...            []   \nB005GXGSWA  Natural Sea Yellowfin Chunk Light Tuna No Salt...            []   \nB0029Y12G6       Parmigiano Reggiano (Whole Wheel) Avg 75 Lbs            []   \nB0029XTY08  Comte Reserved Cheese (Whole Wheel) Approximat...            []   \nB001F5IFLA                     Grocery &amp; Gourmet Food\" />            []   \nB0050IKM8M  Wagyu Beef Rib Eye Steak - Marble Grade 7 - Wh...            []   \nB002AQPVEC  Jamon Iberico de Bellota, Whole Bone-in Ham - ...            []   \nB01FLYEXAC  Jamon Iberico de Pura Bellota Ham, Boneless Ap...            []   \nB00MD56Y7I     Kashi Organic Promise Berry Fruitful, 44 Ounce  [B001E5E06U]   \n\n                         brand feature                                   rank  \\\nasin                                                                            \nB00BPMO562                 NaN      []                                     []   \nB005LPLNVO                Olma      []  1,313,873 in Grocery & Gourmet Food (   \nB003YHKKTM  Gourmet Food Store      []                                     []   \nB005GXGSWA         NATURAL SEA      []                                     []   \nB0029Y12G6     For The Gourmet      []    586,090 in Grocery & Gourmet Food (   \nB0029XTY08     For The Gourmet      []  1,505,363 in Grocery & Gourmet Food (   \nB001F5IFLA          Dalla Bona      []    773,753 in Grocery & Gourmet Food (   \nB0050IKM8M                 NaN      []  1,236,825 in Grocery & Gourmet Food (   \nB002AQPVEC              Fermin      []    726,369 in Grocery & Gourmet Food (   \nB01FLYEXAC    Dehesa Cordobesa      []                                     []   \nB00MD56Y7I               Kashi      []    355,865 in Grocery & Gourmet Food (   \n\n                                                    also_view  \\\nasin                                                            \nB00BPMO562                                                 []   \nB005LPLNVO  [B01MRJZM4E, B003HWTZLI, B005LP1LD4, B00JHLZ84...   \nB003YHKKTM                                       [B008RBA69O]   \nB005GXGSWA                                                 []   \nB0029Y12G6  [B001F5IFLA, B002EDIEV8, B01LZ4OFVH, B000OXAW9...   \nB0029XTY08                                       [B0029Y12G6]   \nB001F5IFLA  [B0029Y12G6, B075RFCB95, B0012143AE, B01FMQ3GZ...   \nB0050IKM8M                                                 []   \nB002AQPVEC  [B074CS5462, B0762RCWXH, B074DKNVPL, B01HIT3TA...   \nB01FLYEXAC                           [B074CS5462, B0762RCWXH]   \nB00MD56Y7I                                                 []   \n\n                          main_cat    price  \\\nasin                                          \nB00BPMO562                 Grocery  5600.00   \nB005LPLNVO                 Grocery  2999.00   \nB003YHKKTM                 Grocery  2716.30   \nB005GXGSWA  Health & Personal Care  2491.39   \nB0029Y12G6                 Grocery  2460.40   \nB0029XTY08                 Grocery  1742.66   \nB001F5IFLA                 Grocery  1257.00   \nB0050IKM8M                 Grocery  1156.61   \nB002AQPVEC                 Grocery  1089.00   \nB01FLYEXAC                 Grocery  1061.00   \nB00MD56Y7I                 Grocery  1004.52   \n\n                                                      details  \nasin                                                           \nB00BPMO562                           {'ASIN: ': 'B00BPMO562'}  \nB005LPLNVO   {'ASIN: ': 'B005LPLNVO', 'UPC:': '856997001427'}  \nB003YHKKTM  {'Shipping Weight:': '1.1 pounds (', 'ASIN: ':...  \nB005GXGSWA   {'ASIN: ': 'B005GXGSWA', 'UPC:': '042563006259'}  \nB0029Y12G6  {'Shipping Weight:': '120 pounds (', 'ASIN: ':...  \nB0029XTY08  {'Shipping Weight:': '128 pounds (', 'ASIN: ':...  \nB001F5IFLA  {'Shipping Weight:': '99 pounds (', 'ASIN: ': ...  \nB0050IKM8M                           {'ASIN: ': 'B0050IKM8M'}  \nB002AQPVEC  {'Shipping Weight:': '14 pounds (', 'ASIN: ': ...  \nB01FLYEXAC   {'ASIN: ': 'B01FLYEXAC', 'UPC:': '825325200245'}  \nB00MD56Y7I  {'\n    Item Weight: \n    ': '2.75 pounds', 'Sh...  ",
      "text/html": "<div>\n<style scoped>\n    .dataframe tbody tr th:only-of-type {\n        vertical-align: middle;\n    }\n\n    .dataframe tbody tr th {\n        vertical-align: top;\n    }\n\n    .dataframe thead th {\n        text-align: right;\n    }\n</style>\n<table border=\"1\" class=\"dataframe\">\n  <thead>\n    <tr style=\"text-align: right;\">\n      <th></th>\n      <th>category</th>\n      <th>description</th>\n      <th>title</th>\n      <th>also_buy</th>\n      <th>brand</th>\n      <th>feature</th>\n      <th>rank</th>\n      <th>also_view</th>\n      <th>main_cat</th>\n      <th>price</th>\n      <th>details</th>\n    </tr>\n    <tr>\n      <th>asin</th>\n      <th></th>\n      <th></th>\n      <th></th>\n      <th></th>\n      <th></th>\n      <th></th>\n      <th></th>\n      <th></th>\n      <th></th>\n      <th></th>\n      <th></th>\n    </tr>\n  </thead>\n  <tbody>\n    <tr>\n      <th>B00BPMO562</th>\n      <td>[Grocery &amp; Gourmet Food, Snack Foods, Applesau...</td>\n      <td>[]</td>\n      <td>Mott'S Cinnamon Apple Sauce! (90 Pieces)</td>\n      <td>[]</td>\n      <td>NaN</td>\n      <td>[]</td>\n      <td>[]</td>\n      <td>[]</td>\n      <td>Grocery</td>\n      <td>5600.00</td>\n      <td>{'ASIN: ': 'B00BPMO562'}</td>\n    </tr>\n    <tr>\n      <th>B005LPLNVO</th>\n      <td>[Grocery &amp; Gourmet Food, Meat &amp; Seafood, Seafo...</td>\n      <td>[Russian Osetra Karat Caviar-Amber Delectably ...</td>\n      <td>OLMA Black Caviar Russian Osetra KARAT 35.2 oz...</td>\n      <td>[]</td>\n      <td>Olma</td>\n      <td>[]</td>\n      <td>1,313,873 in Grocery &amp; Gourmet Food (</td>\n      <td>[B01MRJZM4E, B003HWTZLI, B005LP1LD4, B00JHLZ84...</td>\n      <td>Grocery</td>\n      <td>2999.00</td>\n      <td>{'ASIN: ': 'B005LPLNVO', 'UPC:': '856997001427'}</td>\n    </tr>\n    <tr>\n      <th>B003YHKKTM</th>\n      <td>[Grocery &amp; Gourmet Food, Canned, Jarred &amp; Pack...</td>\n      <td>[Harvested in the Caspian and Black Seas and i...</td>\n      <td>Osetra Golden Imperial Caviar Malossol - 17.6 ...</td>\n      <td>[]</td>\n      <td>Gourmet Food Store</td>\n      <td>[]</td>\n      <td>[]</td>\n      <td>[B008RBA69O]</td>\n      <td>Grocery</td>\n      <td>2716.30</td>\n      <td>{'Shipping Weight:': '1.1 pounds (', 'ASIN: ':...</td>\n    </tr>\n    <tr>\n      <th>B005GXGSWA</th>\n      <td>[Grocery &amp; Gourmet Food, Meat &amp; Seafood, Seafo...</td>\n      <td>[]</td>\n      <td>Natural Sea Yellowfin Chunk Light Tuna No Salt...</td>\n      <td>[]</td>\n      <td>NATURAL SEA</td>\n      <td>[]</td>\n      <td>[]</td>\n      <td>[]</td>\n      <td>Health &amp; Personal Care</td>\n      <td>2491.39</td>\n      <td>{'ASIN: ': 'B005GXGSWA', 'UPC:': '042563006259'}</td>\n    </tr>\n    <tr>\n      <th>B0029Y12G6</th>\n      <td>[Grocery &amp; Gourmet Food, Dairy, Cheese &amp; Eggs,...</td>\n      <td>[]</td>\n      <td>Parmigiano Reggiano (Whole Wheel) Avg 75 Lbs</td>\n      <td>[]</td>\n      <td>For The Gourmet</td>\n      <td>[]</td>\n      <td>586,090 in Grocery &amp; Gourmet Food (</td>\n      <td>[B001F5IFLA, B002EDIEV8, B01LZ4OFVH, B000OXAW9...</td>\n      <td>Grocery</td>\n      <td>2460.40</td>\n      <td>{'Shipping Weight:': '120 pounds (', 'ASIN: ':...</td>\n    </tr>\n    <tr>\n      <th>B0029XTY08</th>\n      <td>[Grocery &amp; Gourmet Food, Dairy, Cheese &amp; Eggs,...</td>\n      <td>[Comte cheese is made from unpasteurized cow's...</td>\n      <td>Comte Reserved Cheese (Whole Wheel) Approximat...</td>\n      <td>[]</td>\n      <td>For The Gourmet</td>\n      <td>[]</td>\n      <td>1,505,363 in Grocery &amp; Gourmet Food (</td>\n      <td>[B0029Y12G6]</td>\n      <td>Grocery</td>\n      <td>1742.66</td>\n      <td>{'Shipping Weight:': '128 pounds (', 'ASIN: ':...</td>\n    </tr>\n    <tr>\n      <th>B001F5IFLA</th>\n      <td>[Grocery &amp; Gourmet Food, Dairy, Cheese &amp; Eggs,...</td>\n      <td>[Parmigiano-Reggiano is a completely natural c...</td>\n      <td>Grocery &amp;amp; Gourmet Food\" /&gt;</td>\n      <td>[]</td>\n      <td>Dalla Bona</td>\n      <td>[]</td>\n      <td>773,753 in Grocery &amp; Gourmet Food (</td>\n      <td>[B0029Y12G6, B075RFCB95, B0012143AE, B01FMQ3GZ...</td>\n      <td>Grocery</td>\n      <td>1257.00</td>\n      <td>{'Shipping Weight:': '99 pounds (', 'ASIN: ': ...</td>\n    </tr>\n    <tr>\n      <th>B0050IKM8M</th>\n      <td>[Grocery &amp; Gourmet Food, Meat &amp; Seafood, Beef,...</td>\n      <td>[]</td>\n      <td>Wagyu Beef Rib Eye Steak - Marble Grade 7 - Wh...</td>\n      <td>[]</td>\n      <td>NaN</td>\n      <td>[]</td>\n      <td>1,236,825 in Grocery &amp; Gourmet Food (</td>\n      <td>[]</td>\n      <td>Grocery</td>\n      <td>1156.61</td>\n      <td>{'ASIN: ': 'B0050IKM8M'}</td>\n    </tr>\n    <tr>\n      <th>B002AQPVEC</th>\n      <td>[Grocery &amp; Gourmet Food, Meat &amp; Seafood, Pork,...</td>\n      <td>[In the dehesas, an indigenous forest of south...</td>\n      <td>Jamon Iberico de Bellota, Whole Bone-in Ham - ...</td>\n      <td>[]</td>\n      <td>Fermin</td>\n      <td>[]</td>\n      <td>726,369 in Grocery &amp; Gourmet Food (</td>\n      <td>[B074CS5462, B0762RCWXH, B074DKNVPL, B01HIT3TA...</td>\n      <td>Grocery</td>\n      <td>1089.00</td>\n      <td>{'Shipping Weight:': '14 pounds (', 'ASIN: ': ...</td>\n    </tr>\n    <tr>\n      <th>B01FLYEXAC</th>\n      <td>[Grocery &amp; Gourmet Food, Meat &amp; Seafood, Pork,...</td>\n      <td>[, CyberCucina has partnered with one of the t...</td>\n      <td>Jamon Iberico de Pura Bellota Ham, Boneless Ap...</td>\n      <td>[]</td>\n      <td>Dehesa Cordobesa</td>\n      <td>[]</td>\n      <td>[]</td>\n      <td>[B074CS5462, B0762RCWXH]</td>\n      <td>Grocery</td>\n      <td>1061.00</td>\n      <td>{'ASIN: ': 'B01FLYEXAC', 'UPC:': '825325200245'}</td>\n    </tr>\n    <tr>\n      <th>B00MD56Y7I</th>\n      <td>[Grocery &amp; Gourmet Food, Breakfast Foods, Cere...</td>\n      <td>[There's a bite of filling made with real frui...</td>\n      <td>Kashi Organic Promise Berry Fruitful, 44 Ounce</td>\n      <td>[B001E5E06U]</td>\n      <td>Kashi</td>\n      <td>[]</td>\n      <td>355,865 in Grocery &amp; Gourmet Food (</td>\n      <td>[]</td>\n      <td>Grocery</td>\n      <td>1004.52</td>\n      <td>{'\n    Item Weight: \n    ': '2.75 pounds', 'Sh...</td>\n    </tr>\n  </tbody>\n</table>\n</div>"
     },
     "execution_count": 39,
     "metadata": {},
     "output_type": "execute_result"
    }
   ],
   "source": [
    "# These high prices look ok.\n",
    "grocery_data_5[grocery_data_5['price'] > 1000].sort_values('price', ascending=False)"
   ],
   "metadata": {
    "collapsed": false,
    "pycharm": {
     "name": "#%%\n"
    }
   }
  },
  {
   "cell_type": "code",
   "execution_count": 40,
   "outputs": [
    {
     "data": {
      "text/plain": "                                                         price\nmain_cat                                                      \n<img src=\"https://images-na.ssl-images-amazon.c...    1.940000\n<img src=\"https://images-na.ssl-images-amazon.c...         NaN\n<img src=\"https://images-na.ssl-images-amazon.c...         NaN\n<img src=\"https://images-na.ssl-images-amazon.c...   15.628710\n<img src=\"https://images-na.ssl-images-amazon.c...   14.121818\n<img src=\"https://m.media-amazon.com/images/G/0...         NaN\nAll Beauty                                           21.746172\nAll Electronics                                     116.816000\nAmazon Home                                          15.994629\nAppliances                                                 NaN\nArts, Crafts & Sewing                                16.619577\nAutomotive                                           17.380000\nBaby                                                 20.846852\nCamera & Photo                                        4.110000\nCar Electronics                                            NaN\nCell Phones & Accessories                            66.353125\nComputers                                            29.706667\nGift Cards                                           25.000000\nGrocery                                              25.886190\nHealth & Personal Care                               26.770265\nHome Audio & Theater                                  7.050000\nIndustrial & Scientific                              45.264658\nMovies & TV                                          17.470000\nMusical Instruments                                        NaN\nOffice Products                                      33.998412\nPet Supplies                                         27.354902\nPortable Audio & Accessories                               NaN\nSoftware                                                   NaN\nSports & Outdoors                                    24.521714\nTools & Home Improvement                             33.471250\nToys & Games                                         12.574538\nVideo Games                                                NaN",
      "text/html": "<div>\n<style scoped>\n    .dataframe tbody tr th:only-of-type {\n        vertical-align: middle;\n    }\n\n    .dataframe tbody tr th {\n        vertical-align: top;\n    }\n\n    .dataframe thead th {\n        text-align: right;\n    }\n</style>\n<table border=\"1\" class=\"dataframe\">\n  <thead>\n    <tr style=\"text-align: right;\">\n      <th></th>\n      <th>price</th>\n    </tr>\n    <tr>\n      <th>main_cat</th>\n      <th></th>\n    </tr>\n  </thead>\n  <tbody>\n    <tr>\n      <th>&lt;img src=\"https://images-na.ssl-images-amazon.com/images/G/01/digital/music/logos/amzn_music_logo_subnav._CB471835632_.png\" class=\"nav-categ-image\" alt=\"Digital Music\"/&gt;</th>\n      <td>1.940000</td>\n    </tr>\n    <tr>\n      <th>&lt;img src=\"https://images-na.ssl-images-amazon.com/images/G/01/handmade/brand/logos/2018/subnav_logo._CB502360610_.png\" class=\"nav-categ-image\" alt=\"Handmade\"/&gt;</th>\n      <td>NaN</td>\n    </tr>\n    <tr>\n      <th>&lt;img src=\"https://images-na.ssl-images-amazon.com/images/G/01/img16/amazon-launchpad/content-grid/launchpad_lp_nav-logo_v2._CB268684856_.png\" class=\"nav-categ-image\" alt=\"AMAZON LAUNCHPAD\"/&gt;</th>\n      <td>NaN</td>\n    </tr>\n    <tr>\n      <th>&lt;img src=\"https://images-na.ssl-images-amazon.com/images/G/01/nav2/images/gui/amazon-fashion-store-new._CB520838675_.png\" class=\"nav-categ-image\" alt=\"AMAZON FASHION\"/&gt;</th>\n      <td>15.628710</td>\n    </tr>\n    <tr>\n      <th>&lt;img src=\"https://images-na.ssl-images-amazon.com/images/G/01/pantry/subnav/pantry-subnav-logo._CB474181323_.png\" class=\"nav-categ-image\" alt=\"Prime Pantry\"/&gt;</th>\n      <td>14.121818</td>\n    </tr>\n    <tr>\n      <th>&lt;img src=\"https://m.media-amazon.com/images/G/01/nav2/images/gui/amazon-fashion-store-new._CB520838675_.png\" class=\"nav-categ-image\" alt=\"AMAZON FASHION\"/&gt;</th>\n      <td>NaN</td>\n    </tr>\n    <tr>\n      <th>All Beauty</th>\n      <td>21.746172</td>\n    </tr>\n    <tr>\n      <th>All Electronics</th>\n      <td>116.816000</td>\n    </tr>\n    <tr>\n      <th>Amazon Home</th>\n      <td>15.994629</td>\n    </tr>\n    <tr>\n      <th>Appliances</th>\n      <td>NaN</td>\n    </tr>\n    <tr>\n      <th>Arts, Crafts &amp; Sewing</th>\n      <td>16.619577</td>\n    </tr>\n    <tr>\n      <th>Automotive</th>\n      <td>17.380000</td>\n    </tr>\n    <tr>\n      <th>Baby</th>\n      <td>20.846852</td>\n    </tr>\n    <tr>\n      <th>Camera &amp; Photo</th>\n      <td>4.110000</td>\n    </tr>\n    <tr>\n      <th>Car Electronics</th>\n      <td>NaN</td>\n    </tr>\n    <tr>\n      <th>Cell Phones &amp; Accessories</th>\n      <td>66.353125</td>\n    </tr>\n    <tr>\n      <th>Computers</th>\n      <td>29.706667</td>\n    </tr>\n    <tr>\n      <th>Gift Cards</th>\n      <td>25.000000</td>\n    </tr>\n    <tr>\n      <th>Grocery</th>\n      <td>25.886190</td>\n    </tr>\n    <tr>\n      <th>Health &amp; Personal Care</th>\n      <td>26.770265</td>\n    </tr>\n    <tr>\n      <th>Home Audio &amp; Theater</th>\n      <td>7.050000</td>\n    </tr>\n    <tr>\n      <th>Industrial &amp; Scientific</th>\n      <td>45.264658</td>\n    </tr>\n    <tr>\n      <th>Movies &amp; TV</th>\n      <td>17.470000</td>\n    </tr>\n    <tr>\n      <th>Musical Instruments</th>\n      <td>NaN</td>\n    </tr>\n    <tr>\n      <th>Office Products</th>\n      <td>33.998412</td>\n    </tr>\n    <tr>\n      <th>Pet Supplies</th>\n      <td>27.354902</td>\n    </tr>\n    <tr>\n      <th>Portable Audio &amp; Accessories</th>\n      <td>NaN</td>\n    </tr>\n    <tr>\n      <th>Software</th>\n      <td>NaN</td>\n    </tr>\n    <tr>\n      <th>Sports &amp; Outdoors</th>\n      <td>24.521714</td>\n    </tr>\n    <tr>\n      <th>Tools &amp; Home Improvement</th>\n      <td>33.471250</td>\n    </tr>\n    <tr>\n      <th>Toys &amp; Games</th>\n      <td>12.574538</td>\n    </tr>\n    <tr>\n      <th>Video Games</th>\n      <td>NaN</td>\n    </tr>\n  </tbody>\n</table>\n</div>"
     },
     "execution_count": 40,
     "metadata": {},
     "output_type": "execute_result"
    }
   ],
   "source": [
    "price_by_main_category = grocery_data_5.groupby('main_cat')[['price']].mean()\n",
    "price_by_main_category.head(35)\n"
   ],
   "metadata": {
    "collapsed": false,
    "pycharm": {
     "name": "#%%\n"
    }
   }
  },
  {
   "cell_type": "code",
   "execution_count": 41,
   "outputs": [
    {
     "data": {
      "text/plain": "Text(0.5, 1.0, 'Distribution of prices')"
     },
     "execution_count": 41,
     "metadata": {},
     "output_type": "execute_result"
    },
    {
     "data": {
      "text/plain": "<Figure size 432x288 with 1 Axes>",
      "image/png": "[encoded data removed]"
     },
     "metadata": {
      "needs_background": "light"
     },
     "output_type": "display_data"
    }
   ],
   "source": [
    "# Recommendation system may get skewed using price because of the non normal distribution.\n",
    "grocery_data_5.price.hist(bins=300)\n",
    "plt.xlabel('Prices')\n",
    "plt.ylabel('Item Count')\n",
    "plt.title('Distribution of prices')"
   ],
   "metadata": {
    "collapsed": false,
    "pycharm": {
     "name": "#%%\n"
    }
   }
  },
  {
   "cell_type": "code",
   "execution_count": 42,
   "outputs": [
    {
     "data": {
      "text/plain": "               price\ncount  128004.000000\nmean       22.906609\nstd        17.128852\nmin         0.010000\n25%        10.800000\n50%        17.880000\n75%        29.950000\nmax        99.990000",
      "text/html": "<div>\n<style scoped>\n    .dataframe tbody tr th:only-of-type {\n        vertical-align: middle;\n    }\n\n    .dataframe tbody tr th {\n        vertical-align: top;\n    }\n\n    .dataframe thead th {\n        text-align: right;\n    }\n</style>\n<table border=\"1\" class=\"dataframe\">\n  <thead>\n    <tr style=\"text-align: right;\">\n      <th></th>\n      <th>price</th>\n    </tr>\n  </thead>\n  <tbody>\n    <tr>\n      <th>count</th>\n      <td>128004.000000</td>\n    </tr>\n    <tr>\n      <th>mean</th>\n      <td>22.906609</td>\n    </tr>\n    <tr>\n      <th>std</th>\n      <td>17.128852</td>\n    </tr>\n    <tr>\n      <th>min</th>\n      <td>0.010000</td>\n    </tr>\n    <tr>\n      <th>25%</th>\n      <td>10.800000</td>\n    </tr>\n    <tr>\n      <th>50%</th>\n      <td>17.880000</td>\n    </tr>\n    <tr>\n      <th>75%</th>\n      <td>29.950000</td>\n    </tr>\n    <tr>\n      <th>max</th>\n      <td>99.990000</td>\n    </tr>\n  </tbody>\n</table>\n</div>"
     },
     "execution_count": 42,
     "metadata": {},
     "output_type": "execute_result"
    }
   ],
   "source": [
    "grocery_data_5[grocery_data_5['price'] < 100].describe()"
   ],
   "metadata": {
    "collapsed": false,
    "pycharm": {
     "name": "#%%\n"
    }
   }
  },
  {
   "cell_type": "code",
   "execution_count": 43,
   "outputs": [
    {
     "data": {
      "text/plain": "array([[<matplotlib.axes._subplots.AxesSubplot object at 0x0000025A2A2DFEB0>]],\n      dtype=object)"
     },
     "execution_count": 43,
     "metadata": {},
     "output_type": "execute_result"
    },
    {
     "data": {
      "text/plain": "<Figure size 432x288 with 1 Axes>",
      "image/png": "[encoded data removed]"
     },
     "metadata": {
      "needs_background": "light"
     },
     "output_type": "display_data"
    }
   ],
   "source": [
    "# May be able to narrow the price range in the future to overcome some of the issues above.\n",
    "grocery_data_5[grocery_data_5['price'] < 100].hist(bins=30)"
   ],
   "metadata": {
    "collapsed": false,
    "pycharm": {
     "name": "#%%\n"
    }
   }
  },
  {
   "cell_type": "markdown",
   "source": [
    "## Save Data"
   ],
   "metadata": {
    "collapsed": false,
    "pycharm": {
     "name": "#%% md\n"
    }
   }
  },
  {
   "cell_type": "code",
   "execution_count": 44,
   "outputs": [],
   "source": [
    "grocery_data_5.to_csv(data_out, index=True)"
   ],
   "metadata": {
    "collapsed": false,
    "pycharm": {
     "name": "#%%\n"
    }
   }
  },
  {
   "cell_type": "markdown",
   "metadata": {},
   "source": [
    "## Summary\n",
    "- Analyzed the data several ways and added additional tasks (i.e. tests) for learning purposes.\n",
    "- Originally there were 18 columns with 287,051 rows.\n",
    "- Removed tech1, fit, tech2, similar_item, date, details because the rows were at least 60%+ blank/missing.\n",
    "- Removed image because the image url isn't needed for this project (there isn't going to be any analysis on jpg).\n",
    "- Dropped the duplicate asin rows and then set the index to them.\n",
    "- For now, carrying forward the rest of the data which is:\n",
    "   - 11 columns\n",
    "   - Max of 283,354 rows\n",
    "   - Min of 130,134 rows\n",
    "- Expect that description and details will have too much info to be helpful.\n",
    "- Also, unsure if having only 45% of the prices is enough.\n",
    "- Features of interest are title, also_buy, also_view, and rank.\n",
    "- Still need to complete the feature engineering section of the course before it's possible to analyze several of the columns.\n",
    "- Therefore, the target feature is still unknown."
   ]
  },
  {
   "cell_type": "markdown",
   "metadata": {},
   "source": [
    "## Tests\n",
    "These would usually be in a separate directory or file."
   ]
  },
  {
   "cell_type": "markdown",
   "metadata": {},
   "source": [
    "### Unit Tests"
   ]
  },
  {
   "cell_type": "code",
   "execution_count": 45,
   "metadata": {
    "pycharm": {
     "name": "#%%\n"
    }
   },
   "outputs": [],
   "source": [
    "class UnitTestExamples(unittest.TestCase):\n",
    "    \n",
    "    def test_formatting_removed(self):\n",
    "        self.assertEqual(convert_currency('$5,000.00'), 5000.00)\n",
    "    \n",
    "    def test_whole_number(self):\n",
    "        self.assertEqual(convert_currency(5), 5)\n",
    "    \n",
    "    def test_rounding_floats(self):\n",
    "        self.assertEqual(convert_currency(.16666666666666666666), 0.17)\n",
    "    \n",
    "    def test_warn_problem_character(self):\n",
    "        with self.assertRaises(ValueError):\n",
    "            convert_currency('€5')\n",
    "        \n",
    "    def test_blank_values(self):\n",
    "        self.assertTrue(np.isnan(convert_currency('')))\n",
    "            \n",
    "    def test_problem_characters(self):\n",
    "        self.assertTrue(np.isnan(convert_currency('.a-box-inner{background-color:#fff}#alohaBuyBoxWidget')))\n",
    "            \n",
    "    def test_range_of_values(self):\n",
    "        self.assertTrue(np.isnan(convert_currency('$17.24 - $39.20')))\n",
    "   "
   ]
  },
  {
   "cell_type": "markdown",
   "metadata": {},
   "source": [
    "### Integration Tests\n",
    "        "
   ]
  },
  {
   "cell_type": "code",
   "execution_count": 46,
   "metadata": {
    "pycharm": {
     "name": "#%%\n"
    }
   },
   "outputs": [],
   "source": [
    "class IntegrationTestExamples(unittest.TestCase):\n",
    "\n",
    "   def test_data_file_exists(self):\n",
    "       self.assertTrue(os.path.isfile(data_in))\n",
    "       \n",
    "   def test_documentation_file_exists(self):\n",
    "       self.assertTrue(os.path.isfile(doc_filepath))\n",
    "       \n",
    "   def test_file_exists_logic(self):\n",
    "       self.assertFalse(os.path.isfile('Does_Not_Exist.csv'))"
   ]
  },
  {
   "cell_type": "markdown",
   "metadata": {
    "pycharm": {
     "name": "#%% md\n"
    }
   },
   "source": [
    "### Test Results"
   ]
  },
  {
   "cell_type": "code",
   "execution_count": 47,
   "metadata": {
    "pycharm": {
     "name": "#%%\n"
    }
   },
   "outputs": [
    {
     "name": "stderr",
     "output_type": "stream",
     "text": [
      "test_data_file_exists (__main__.IntegrationTestExamples) ... ok\n",
      "test_documentation_file_exists (__main__.IntegrationTestExamples) ... ok\n",
      "test_file_exists_logic (__main__.IntegrationTestExamples) ... ok\n",
      "test_blank_values (__main__.UnitTestExamples) ... ok\n",
      "test_formatting_removed (__main__.UnitTestExamples) ... ok\n",
      "test_problem_characters (__main__.UnitTestExamples) ... ok\n",
      "test_range_of_values (__main__.UnitTestExamples) ... ok\n",
      "test_rounding_floats (__main__.UnitTestExamples) ... ok\n",
      "test_warn_problem_character (__main__.UnitTestExamples) ... ok\n",
      "test_whole_number (__main__.UnitTestExamples) ... ok\n",
      "\n",
      "----------------------------------------------------------------------\n",
      "Ran 10 tests in 0.008s\n",
      "\n",
      "OK\n"
     ]
    },
    {
     "data": {
      "text/plain": "<unittest.main.TestProgram at 0x25a24a44c40>"
     },
     "execution_count": 47,
     "metadata": {},
     "output_type": "execute_result"
    }
   ],
   "source": [
    "unittest.main(argv=[''], verbosity=2, exit=False)"
   ]
  },
  {
   "cell_type": "markdown",
   "metadata": {
    "pycharm": {
     "name": "#%% md\n"
    }
   },
   "source": [
    "## References\n",
    "1) Jianmo Ni 2018 [Amazon Review Data (2018)](https://nijianmo.github.io/amazon/).  \n",
    "2) Chris Moffitt 2018 [Overview of Pandas Data Types](https://pbpython.com/pandas_dtypes.html).  \n",
    "3) Chris Moffitt 2019 [Using The Pandas Category Data Type](https://pbpython.com/pandas_dtypes_cat.html)."
   ]
  }
 ],
 "metadata": {
  "kernelspec": {
   "name": "pycharm-cef1f773",
   "language": "python",
   "display_name": "PyCharm (pycon2015_tutorial322)"
  },
  "language_info": {
   "codemirror_mode": {
    "name": "ipython",
    "version": 3
   },
   "file_extension": ".py",
   "mimetype": "text/x-python",
   "name": "python",
   "nbconvert_exporter": "python",
   "pygments_lexer": "ipython3",
   "version": "3.8.3"
  }
 },
 "nbformat": 4,
 "nbformat_minor": 1
}