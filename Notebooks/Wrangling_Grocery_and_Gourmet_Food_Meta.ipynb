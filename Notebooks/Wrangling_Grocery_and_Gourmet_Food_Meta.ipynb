{
 "cells": [
  {
   "cell_type": "markdown",
   "metadata": {},
   "source": [
    "# Wrangling Grocery and Gourmet Food Data"
   ]
  },
  {
   "cell_type": "markdown",
   "metadata": {},
   "source": [
    "## Imports"
   ]
  },
  {
   "cell_type": "code",
   "execution_count": 1,
   "metadata": {
    "pycharm": {
     "name": "#%%\n"
    }
   },
   "outputs": [],
   "source": [
    "import ast\n",
    "import json\n",
    "import gzip\n",
    "import unittest\n",
    "import pandas as pd\n",
    "import numpy as np\n",
    "import csv\n",
    "import os\n",
    "import os.path\n",
    "from dotenv import load_dotenv\n",
    "import logging"
   ]
  },
  {
   "cell_type": "markdown",
   "metadata": {},
   "source": [
    "## Environment Variables"
   ]
  },
  {
   "cell_type": "code",
   "execution_count": 2,
   "metadata": {
    "pycharm": {
     "name": "#%%\n"
    }
   },
   "outputs": [],
   "source": [
    "load_dotenv()\n",
    "data_filepath = os.getenv('DATA_FILEPATH')\n",
    "price_logs = os.getenv('PRICES_LOG')\n",
    "# This path is still in the markdown below because haven't found a working way to use a variable there.\n",
    "doc_filepath = os.getenv('DOC_FILEPATH')"
   ]
  },
  {
   "cell_type": "markdown",
   "metadata": {},
   "source": [
    "## Introduction\n",
    "Data Wrangling is the process of collecting, organizing, and determining how well-defined the data is.  \n",
    "See [Grocery Recommender - Capstone Two](../Grocery_Recommender_-_Capstone_Two.pdf) for details about this project. \n"
   ]
  },
  {
   "cell_type": "markdown",
   "metadata": {},
   "source": [
    "## Load Data <sup>[1]</sup>"
   ]
  },
  {
   "cell_type": "code",
   "execution_count": 3,
   "metadata": {
    "pycharm": {
     "name": "#%%\n"
    }
   },
   "outputs": [],
   "source": [
    "##Load the data\n",
    "data = []\n",
    "with gzip.open(data_filepath) as f:\n",
    "    for l in f:\n",
    "        data.append(json.loads(l.strip()))"
   ]
  },
  {
   "cell_type": "code",
   "execution_count": 4,
   "metadata": {
    "pycharm": {
     "name": "#%%\n"
    }
   },
   "outputs": [
    {
     "name": "stdout",
     "output_type": "stream",
     "text": [
      "287051\n"
     ]
    }
   ],
   "source": [
    "# Confirm data loaded by checking total number of products.\n",
    "print(len(data))"
   ]
  },
  {
   "cell_type": "code",
   "execution_count": 5,
   "metadata": {
    "pycharm": {
     "name": "#%%\n"
    }
   },
   "outputs": [
    {
     "name": "stdout",
     "output_type": "stream",
     "text": [
      "{'category': ['Grocery & Gourmet Food', 'Dairy, Cheese & Eggs', 'Cheese', 'Gouda'], 'tech1': '', 'description': ['BEEMSTER GOUDA CHEESE AGED 18/24 MONTHS', 'Statements regarding dietary supplements have not been evaluated by the FDA and are not intended to diagnose, treat, cure, or prevent any disease or health condition.'], 'fit': '', 'title': 'Beemster Gouda - Aged 18/24 Months - App. 1.5 Lbs', 'also_buy': [], 'image': [], 'tech2': '', 'brand': 'Ariola Imports', 'feature': [], 'rank': '165,181 in Grocery & Gourmet Food (', 'also_view': ['B0000D9MYM', 'B0000D9MYL', 'B00ADHIGBA', 'B00H9OX598', 'B001LM42GY', 'B001LM5TDY'], 'main_cat': 'Grocery', 'similar_item': '', 'date': '', 'price': '$41.91', 'asin': '0681727810'}\n"
     ]
    }
   ],
   "source": [
    "# View raw data.\n",
    "print(data[0])"
   ]
  },
  {
   "cell_type": "code",
   "execution_count": 6,
   "metadata": {
    "pycharm": {
     "name": "#%%\n"
    }
   },
   "outputs": [
    {
     "data": {
      "text/html": [
       "<div>\n",
       "<style scoped>\n",
       "    .dataframe tbody tr th:only-of-type {\n",
       "        vertical-align: middle;\n",
       "    }\n",
       "\n",
       "    .dataframe tbody tr th {\n",
       "        vertical-align: top;\n",
       "    }\n",
       "\n",
       "    .dataframe thead th {\n",
       "        text-align: right;\n",
       "    }\n",
       "</style>\n",
       "<table border=\"1\" class=\"dataframe\">\n",
       "  <thead>\n",
       "    <tr style=\"text-align: right;\">\n",
       "      <th></th>\n",
       "      <th>category</th>\n",
       "      <th>tech1</th>\n",
       "      <th>description</th>\n",
       "      <th>fit</th>\n",
       "      <th>title</th>\n",
       "      <th>also_buy</th>\n",
       "      <th>image</th>\n",
       "      <th>tech2</th>\n",
       "      <th>brand</th>\n",
       "      <th>feature</th>\n",
       "      <th>rank</th>\n",
       "      <th>also_view</th>\n",
       "      <th>main_cat</th>\n",
       "      <th>similar_item</th>\n",
       "      <th>date</th>\n",
       "      <th>price</th>\n",
       "      <th>asin</th>\n",
       "      <th>details</th>\n",
       "    </tr>\n",
       "  </thead>\n",
       "  <tbody>\n",
       "    <tr>\n",
       "      <th>0</th>\n",
       "      <td>[Grocery &amp; Gourmet Food, Dairy, Cheese &amp; Eggs,...</td>\n",
       "      <td></td>\n",
       "      <td>[BEEMSTER GOUDA CHEESE AGED 18/24 MONTHS, Stat...</td>\n",
       "      <td></td>\n",
       "      <td>Beemster Gouda - Aged 18/24 Months - App. 1.5 Lbs</td>\n",
       "      <td>[]</td>\n",
       "      <td>[]</td>\n",
       "      <td></td>\n",
       "      <td>Ariola Imports</td>\n",
       "      <td>[]</td>\n",
       "      <td>165,181 in Grocery &amp; Gourmet Food (</td>\n",
       "      <td>[B0000D9MYM, B0000D9MYL, B00ADHIGBA, B00H9OX59...</td>\n",
       "      <td>Grocery</td>\n",
       "      <td></td>\n",
       "      <td></td>\n",
       "      <td>$41.91</td>\n",
       "      <td>0681727810</td>\n",
       "      <td>NaN</td>\n",
       "    </tr>\n",
       "    <tr>\n",
       "      <th>1</th>\n",
       "      <td>[Grocery &amp; Gourmet Food, Cooking &amp; Baking, Sug...</td>\n",
       "      <td></td>\n",
       "      <td>[Shipped from UK, please allow 10 to 21 busine...</td>\n",
       "      <td></td>\n",
       "      <td>Trim Healthy Mama Xylitol</td>\n",
       "      <td>[B01898YHXK, B01BCM6LAC, B00Q4OL47O, B00Q4OL5Q...</td>\n",
       "      <td>[https://images-na.ssl-images-amazon.com/image...</td>\n",
       "      <td></td>\n",
       "      <td></td>\n",
       "      <td>[]</td>\n",
       "      <td>315,867 in Grocery &amp; Gourmet Food (</td>\n",
       "      <td>[]</td>\n",
       "      <td>Grocery</td>\n",
       "      <td></td>\n",
       "      <td></td>\n",
       "      <td></td>\n",
       "      <td>0853347867</td>\n",
       "      <td>NaN</td>\n",
       "    </tr>\n",
       "    <tr>\n",
       "      <th>2</th>\n",
       "      <td>[Grocery &amp; Gourmet Food, Cooking &amp; Baking, Fro...</td>\n",
       "      <td></td>\n",
       "      <td>[Jazz up your cakes with a sparkling monogram ...</td>\n",
       "      <td></td>\n",
       "      <td>Letter C - Swarovski Crystal Monogram Wedding ...</td>\n",
       "      <td>[]</td>\n",
       "      <td>[]</td>\n",
       "      <td></td>\n",
       "      <td>Unik Occasions</td>\n",
       "      <td>[]</td>\n",
       "      <td>[&gt;#669,941 in Kitchen &amp; Dining (See Top 100 in...</td>\n",
       "      <td>[B07DXN65TF]</td>\n",
       "      <td>Amazon Home</td>\n",
       "      <td></td>\n",
       "      <td>September 21, 2010</td>\n",
       "      <td>$29.95</td>\n",
       "      <td>1888861118</td>\n",
       "      <td>NaN</td>\n",
       "    </tr>\n",
       "    <tr>\n",
       "      <th>3</th>\n",
       "      <td>[Grocery &amp; Gourmet Food, Cooking &amp; Baking, Fro...</td>\n",
       "      <td></td>\n",
       "      <td>[Large Letter - Height 4.75\"]</td>\n",
       "      <td></td>\n",
       "      <td>Letter H - Swarovski Crystal Monogram Wedding ...</td>\n",
       "      <td>[]</td>\n",
       "      <td>[]</td>\n",
       "      <td></td>\n",
       "      <td>Other</td>\n",
       "      <td>[Large Letter - Height 4.75\"]</td>\n",
       "      <td>[&gt;#832,581 in Kitchen &amp; Dining (See Top 100 in...</td>\n",
       "      <td>[]</td>\n",
       "      <td>Amazon Home</td>\n",
       "      <td></td>\n",
       "      <td>September 11, 2011</td>\n",
       "      <td>$11.45</td>\n",
       "      <td>1888861517</td>\n",
       "      <td>NaN</td>\n",
       "    </tr>\n",
       "    <tr>\n",
       "      <th>4</th>\n",
       "      <td>[Grocery &amp; Gourmet Food, Cooking &amp; Baking, Fro...</td>\n",
       "      <td></td>\n",
       "      <td>[4.75\"]</td>\n",
       "      <td></td>\n",
       "      <td>Letter S - Swarovski Crystal Monogram Wedding ...</td>\n",
       "      <td>[]</td>\n",
       "      <td>[]</td>\n",
       "      <td></td>\n",
       "      <td>Unik Occasions</td>\n",
       "      <td>[4.75\" height]</td>\n",
       "      <td>[&gt;#590,999 in Kitchen &amp; Dining (See Top 100 in...</td>\n",
       "      <td>[]</td>\n",
       "      <td>Amazon Home</td>\n",
       "      <td></td>\n",
       "      <td>September 11, 2011</td>\n",
       "      <td>$15.00</td>\n",
       "      <td>1888861614</td>\n",
       "      <td>NaN</td>\n",
       "    </tr>\n",
       "  </tbody>\n",
       "</table>\n",
       "</div>"
      ],
      "text/plain": [
       "                                            category tech1  \\\n",
       "0  [Grocery & Gourmet Food, Dairy, Cheese & Eggs,...         \n",
       "1  [Grocery & Gourmet Food, Cooking & Baking, Sug...         \n",
       "2  [Grocery & Gourmet Food, Cooking & Baking, Fro...         \n",
       "3  [Grocery & Gourmet Food, Cooking & Baking, Fro...         \n",
       "4  [Grocery & Gourmet Food, Cooking & Baking, Fro...         \n",
       "\n",
       "                                         description fit  \\\n",
       "0  [BEEMSTER GOUDA CHEESE AGED 18/24 MONTHS, Stat...       \n",
       "1  [Shipped from UK, please allow 10 to 21 busine...       \n",
       "2  [Jazz up your cakes with a sparkling monogram ...       \n",
       "3                      [Large Letter - Height 4.75\"]       \n",
       "4                                            [4.75\"]       \n",
       "\n",
       "                                               title  \\\n",
       "0  Beemster Gouda - Aged 18/24 Months - App. 1.5 Lbs   \n",
       "1                          Trim Healthy Mama Xylitol   \n",
       "2  Letter C - Swarovski Crystal Monogram Wedding ...   \n",
       "3  Letter H - Swarovski Crystal Monogram Wedding ...   \n",
       "4  Letter S - Swarovski Crystal Monogram Wedding ...   \n",
       "\n",
       "                                            also_buy  \\\n",
       "0                                                 []   \n",
       "1  [B01898YHXK, B01BCM6LAC, B00Q4OL47O, B00Q4OL5Q...   \n",
       "2                                                 []   \n",
       "3                                                 []   \n",
       "4                                                 []   \n",
       "\n",
       "                                               image tech2           brand  \\\n",
       "0                                                 []        Ariola Imports   \n",
       "1  [https://images-na.ssl-images-amazon.com/image...                         \n",
       "2                                                 []        Unik Occasions   \n",
       "3                                                 []                 Other   \n",
       "4                                                 []        Unik Occasions   \n",
       "\n",
       "                         feature  \\\n",
       "0                             []   \n",
       "1                             []   \n",
       "2                             []   \n",
       "3  [Large Letter - Height 4.75\"]   \n",
       "4                 [4.75\" height]   \n",
       "\n",
       "                                                rank  \\\n",
       "0                165,181 in Grocery & Gourmet Food (   \n",
       "1                315,867 in Grocery & Gourmet Food (   \n",
       "2  [>#669,941 in Kitchen & Dining (See Top 100 in...   \n",
       "3  [>#832,581 in Kitchen & Dining (See Top 100 in...   \n",
       "4  [>#590,999 in Kitchen & Dining (See Top 100 in...   \n",
       "\n",
       "                                           also_view     main_cat  \\\n",
       "0  [B0000D9MYM, B0000D9MYL, B00ADHIGBA, B00H9OX59...      Grocery   \n",
       "1                                                 []      Grocery   \n",
       "2                                       [B07DXN65TF]  Amazon Home   \n",
       "3                                                 []  Amazon Home   \n",
       "4                                                 []  Amazon Home   \n",
       "\n",
       "  similar_item                date   price        asin details  \n",
       "0                                   $41.91  0681727810     NaN  \n",
       "1                                           0853347867     NaN  \n",
       "2               September 21, 2010  $29.95  1888861118     NaN  \n",
       "3               September 11, 2011  $11.45  1888861517     NaN  \n",
       "4               September 11, 2011  $15.00  1888861614     NaN  "
      ]
     },
     "execution_count": 6,
     "metadata": {},
     "output_type": "execute_result"
    }
   ],
   "source": [
    "# Will use a pandas dataframe to explore and analyse data.\n",
    "grocery_data = pd.DataFrame.from_dict(data)\n",
    "grocery_data.head()"
   ]
  },
  {
   "cell_type": "code",
   "execution_count": 7,
   "metadata": {
    "pycharm": {
     "name": "#%%\n"
    }
   },
   "outputs": [
    {
     "name": "stdout",
     "output_type": "stream",
     "text": [
      "<class 'pandas.core.frame.DataFrame'>\n",
      "RangeIndex: 287051 entries, 0 to 287050\n",
      "Data columns (total 18 columns):\n",
      " #   Column        Non-Null Count   Dtype \n",
      "---  ------        --------------   ----- \n",
      " 0   category      287051 non-null  object\n",
      " 1   tech1         287051 non-null  object\n",
      " 2   description   287051 non-null  object\n",
      " 3   fit           287051 non-null  object\n",
      " 4   title         287051 non-null  object\n",
      " 5   also_buy      287051 non-null  object\n",
      " 6   image         287051 non-null  object\n",
      " 7   tech2         287051 non-null  object\n",
      " 8   brand         287051 non-null  object\n",
      " 9   feature       287051 non-null  object\n",
      " 10  rank          287051 non-null  object\n",
      " 11  also_view     287051 non-null  object\n",
      " 12  main_cat      287051 non-null  object\n",
      " 13  similar_item  287051 non-null  object\n",
      " 14  date          287051 non-null  object\n",
      " 15  price         287051 non-null  object\n",
      " 16  asin          287051 non-null  object\n",
      " 17  details       287027 non-null  object\n",
      "dtypes: object(18)\n",
      "memory usage: 39.4+ MB\n"
     ]
    }
   ],
   "source": [
    "# Overview of the data shows it already is pretty well defined.\n",
    "# Only the details column is missing (NaN) some values.\n",
    "grocery_data.info()"
   ]
  },
  {
   "cell_type": "code",
   "execution_count": 8,
   "metadata": {
    "pycharm": {
     "name": "#%%\n"
    }
   },
   "outputs": [
    {
     "data": {
      "text/plain": [
       "category        False\n",
       "tech1           False\n",
       "description     False\n",
       "fit             False\n",
       "title           False\n",
       "also_buy        False\n",
       "image           False\n",
       "tech2           False\n",
       "brand           False\n",
       "feature         False\n",
       "rank            False\n",
       "also_view       False\n",
       "main_cat        False\n",
       "similar_item    False\n",
       "date            False\n",
       "price           False\n",
       "asin            False\n",
       "details          True\n",
       "dtype: bool"
      ]
     },
     "execution_count": 8,
     "metadata": {},
     "output_type": "execute_result"
    }
   ],
   "source": [
    "# Another way to see which features are missing values. \n",
    "# This is easier to read if there's a lot of columns and similar number counts.\n",
    "grocery_data.isnull().any()"
   ]
  },
  {
   "cell_type": "code",
   "execution_count": 9,
   "metadata": {
    "pycharm": {
     "name": "#%%\n"
    }
   },
   "outputs": [
    {
     "data": {
      "text/plain": [
       "0         17\n",
       "1         17\n",
       "2         17\n",
       "3         17\n",
       "4         17\n",
       "          ..\n",
       "287046    18\n",
       "287047    18\n",
       "287048    18\n",
       "287049    18\n",
       "287050    18\n",
       "Length: 287051, dtype: int64"
      ]
     },
     "execution_count": 9,
     "metadata": {},
     "output_type": "execute_result"
    }
   ],
   "source": [
    "# The number of features for each item/row vary (17-18).\n",
    "grocery_data.count(1)"
   ]
  },
  {
   "cell_type": "markdown",
   "metadata": {
    "pycharm": {
     "name": "#%% md\n"
    }
   },
   "source": [
    "### Observations\n",
    "- Think useful features will probably be title, also_buy, rank, also_view, similar_item, and date.\n",
    "- many special characters in multiple columns.\n",
    "- 'date' is full month dd, yyyy.\n",
    "- 'price' has $ appended.\n",
    "- Probably want to replace index with 'asin'.\n",
    "- From the numbers above it looks the various counts between columns, rows, and non-null values are consistent. However, looking at a small sample of the data it appears like more than just one value is null for several of the rows.\n",
    "\n",
    "## Explore Data\n",
    "### Find Data of Interest"
   ]
  },
  {
   "cell_type": "code",
   "execution_count": 10,
   "metadata": {
    "pycharm": {
     "name": "#%%\n"
    }
   },
   "outputs": [
    {
     "name": "stdout",
     "output_type": "stream",
     "text": [
      "5537\n"
     ]
    }
   ],
   "source": [
    "# Interested in gluten free data because of diet restrictions.\n",
    "# Find all products whose title includes gluten free using 'standard' lists and loops.\n",
    "gluten_free_list = []\n",
    "for d in data:\n",
    "    if 'title' in d and 'gluten free' in d['title'].lower():\n",
    "        gluten_free_list.append(d)\n",
    "\n",
    "print(len(gluten_free_list))"
   ]
  },
  {
   "cell_type": "code",
   "execution_count": 11,
   "metadata": {
    "pycharm": {
     "name": "#%%\n"
    }
   },
   "outputs": [
    {
     "name": "stdout",
     "output_type": "stream",
     "text": [
      "Sans Sucre Mousse Mix Gluten Free, Strawberry\n",
      "Sans Sucre Chocolate Mousse Mix - Gluten Free\n",
      "Sans Sucre Cheesecake Mousse Mix - Gluten Free\n",
      "Sans Sucre Lemon Mousse Mix - Gluten Free\n",
      "Ajika Royal Basmati Pilaf Instant Meal, Side Dish, Gluten Free, No Salt or Msg\n",
      "Natures Plus Source of Life Energy Shake - Granola Flavor - 2.2 lbs Multivitamin, Mineral &amp; Protein Powder - Whole Food Meal Replacement - Non GMO, Vegetarian, Gluten Free - 26 Servings\n",
      "Borsari All Natural Seasoned Salt, Citrus Blend, Gluten Free, No MSG, 4 Ounce Shaker Bottle\n",
      "Natures Plus Spirutein Shake - Nutty Berry Burst Flavor - 2.4 lbs, Spirulina Protein Powder - Plant Based Meal Replacement, Vitamins &amp; Minerals for Energy - Vegetarian, Gluten Free - 30 Servings\n",
      "Nando's Medium PERi-PERi Sauce - Gluten Free | Non GMO | 4.7 Oz (2 Pack)\n",
      "Amish Country Popcorn - Medium Yellow Popcorn - Old Fashioned, Non GMO, and Gluten Free - with Recipe Guide and 1 Year Freshness Warranty (2 Pound Burlap)\n"
     ]
    }
   ],
   "source": [
    "# Example product titles.\n",
    "for d in gluten_free_list[:10]:\n",
    "    print(d['title'])"
   ]
  },
  {
   "cell_type": "code",
   "execution_count": 12,
   "metadata": {
    "pycharm": {
     "name": "#%%\n"
    }
   },
   "outputs": [
    {
     "data": {
      "text/plain": [
       "category        5537\n",
       "tech1           5537\n",
       "description     5537\n",
       "fit             5537\n",
       "title           5537\n",
       "also_buy        5537\n",
       "image           5537\n",
       "tech2           5537\n",
       "brand           5537\n",
       "feature         5537\n",
       "rank            5537\n",
       "also_view       5537\n",
       "main_cat        5537\n",
       "similar_item    5537\n",
       "date            5537\n",
       "price           5537\n",
       "asin            5537\n",
       "details         5537\n",
       "dtype: int64"
      ]
     },
     "execution_count": 12,
     "metadata": {},
     "output_type": "execute_result"
    }
   ],
   "source": [
    "# The Pandas way of doing the above is less lines of code\n",
    "gluten_free_dataframe = grocery_data[grocery_data['title'].str.lower().str.contains('gluten free')]\n",
    "gluten_free_dataframe.count()"
   ]
  },
  {
   "cell_type": "code",
   "execution_count": 13,
   "metadata": {
    "pycharm": {
     "name": "#%%\n"
    }
   },
   "outputs": [
    {
     "data": {
      "text/plain": [
       "1180        Sans Sucre Mousse Mix Gluten Free, Strawberry\n",
       "1184        Sans Sucre Chocolate Mousse Mix - Gluten Free\n",
       "1185       Sans Sucre Cheesecake Mousse Mix - Gluten Free\n",
       "1187            Sans Sucre Lemon Mousse Mix - Gluten Free\n",
       "1543    Ajika Royal Basmati Pilaf Instant Meal, Side D...\n",
       "1702    Natures Plus Source of Life Energy Shake - Gra...\n",
       "1704    Borsari All Natural Seasoned Salt, Citrus Blen...\n",
       "1717    Natures Plus Spirutein Shake - Nutty Berry Bur...\n",
       "1755    Nando's Medium PERi-PERi Sauce - Gluten Free |...\n",
       "1954    Amish Country Popcorn - Medium Yellow Popcorn ...\n",
       "Name: title, dtype: object"
      ]
     },
     "execution_count": 13,
     "metadata": {},
     "output_type": "execute_result"
    }
   ],
   "source": [
    "gluten_free_dataframe.title.iloc[:10]"
   ]
  },
  {
   "cell_type": "code",
   "execution_count": 14,
   "metadata": {
    "pycharm": {
     "name": "#%%\n"
    }
   },
   "outputs": [
    {
     "data": {
      "text/html": [
       "<div>\n",
       "<style scoped>\n",
       "    .dataframe tbody tr th:only-of-type {\n",
       "        vertical-align: middle;\n",
       "    }\n",
       "\n",
       "    .dataframe tbody tr th {\n",
       "        vertical-align: top;\n",
       "    }\n",
       "\n",
       "    .dataframe thead th {\n",
       "        text-align: right;\n",
       "    }\n",
       "</style>\n",
       "<table border=\"1\" class=\"dataframe\">\n",
       "  <thead>\n",
       "    <tr style=\"text-align: right;\">\n",
       "      <th></th>\n",
       "      <th>255470</th>\n",
       "      <th>266702</th>\n",
       "    </tr>\n",
       "  </thead>\n",
       "  <tbody>\n",
       "    <tr>\n",
       "      <th>category</th>\n",
       "      <td>[Grocery &amp; Gourmet Food, Frozen, Bread &amp; Dough]</td>\n",
       "      <td>[Grocery &amp; Gourmet Food, Snack Foods, Crackers]</td>\n",
       "    </tr>\n",
       "    <tr>\n",
       "      <th>tech1</th>\n",
       "      <td></td>\n",
       "      <td></td>\n",
       "    </tr>\n",
       "    <tr>\n",
       "      <th>description</th>\n",
       "      <td>[These are 100 percent USDA Certified organic,...</td>\n",
       "      <td>[Brazi Bites Original Brazilian Cheese Bread, ...</td>\n",
       "    </tr>\n",
       "    <tr>\n",
       "      <th>fit</th>\n",
       "      <td></td>\n",
       "      <td></td>\n",
       "    </tr>\n",
       "    <tr>\n",
       "      <th>title</th>\n",
       "      <td>Brazi Bites, Brazilian Cheese Bread, Original,...</td>\n",
       "      <td>Brazi Bites Original Brazilian Cheese Bread, 1...</td>\n",
       "    </tr>\n",
       "    <tr>\n",
       "      <th>also_buy</th>\n",
       "      <td>[B00FE9LC0O, B0047IG6OU, B000RULSYK, B078HRLNL...</td>\n",
       "      <td>[]</td>\n",
       "    </tr>\n",
       "    <tr>\n",
       "      <th>image</th>\n",
       "      <td>[https://images-na.ssl-images-amazon.com/image...</td>\n",
       "      <td>[https://images-na.ssl-images-amazon.com/image...</td>\n",
       "    </tr>\n",
       "    <tr>\n",
       "      <th>tech2</th>\n",
       "      <td></td>\n",
       "      <td></td>\n",
       "    </tr>\n",
       "    <tr>\n",
       "      <th>brand</th>\n",
       "      <td>Brazi Bites</td>\n",
       "      <td>Brazi Bites</td>\n",
       "    </tr>\n",
       "    <tr>\n",
       "      <th>feature</th>\n",
       "      <td>[]</td>\n",
       "      <td>[]</td>\n",
       "    </tr>\n",
       "    <tr>\n",
       "      <th>rank</th>\n",
       "      <td>[]</td>\n",
       "      <td>810,992 in Grocery &amp; Gourmet Food (</td>\n",
       "    </tr>\n",
       "    <tr>\n",
       "      <th>also_view</th>\n",
       "      <td>[B008L1A0N2, B0764JXX6R, B00H301R34, B013SGABH...</td>\n",
       "      <td>[B001ACMCNU, B008L1A0N2, B0764JXX6R, B00PBLEUF...</td>\n",
       "    </tr>\n",
       "    <tr>\n",
       "      <th>main_cat</th>\n",
       "      <td>Grocery</td>\n",
       "      <td>Grocery</td>\n",
       "    </tr>\n",
       "    <tr>\n",
       "      <th>similar_item</th>\n",
       "      <td></td>\n",
       "      <td></td>\n",
       "    </tr>\n",
       "    <tr>\n",
       "      <th>date</th>\n",
       "      <td></td>\n",
       "      <td></td>\n",
       "    </tr>\n",
       "    <tr>\n",
       "      <th>price</th>\n",
       "      <td></td>\n",
       "      <td></td>\n",
       "    </tr>\n",
       "    <tr>\n",
       "      <th>asin</th>\n",
       "      <td>B014BCDF9U</td>\n",
       "      <td>B018SRGO24</td>\n",
       "    </tr>\n",
       "    <tr>\n",
       "      <th>details</th>\n",
       "      <td>{'\n",
       "    Product Dimensions: \n",
       "    ': '6 x 3 x 9 ...</td>\n",
       "      <td>{'Shipping Weight:': '10 pounds', 'ASIN: ': 'B...</td>\n",
       "    </tr>\n",
       "  </tbody>\n",
       "</table>\n",
       "</div>"
      ],
      "text/plain": [
       "                                                         255470  \\\n",
       "category        [Grocery & Gourmet Food, Frozen, Bread & Dough]   \n",
       "tech1                                                             \n",
       "description   [These are 100 percent USDA Certified organic,...   \n",
       "fit                                                               \n",
       "title         Brazi Bites, Brazilian Cheese Bread, Original,...   \n",
       "also_buy      [B00FE9LC0O, B0047IG6OU, B000RULSYK, B078HRLNL...   \n",
       "image         [https://images-na.ssl-images-amazon.com/image...   \n",
       "tech2                                                             \n",
       "brand                                               Brazi Bites   \n",
       "feature                                                      []   \n",
       "rank                                                         []   \n",
       "also_view     [B008L1A0N2, B0764JXX6R, B00H301R34, B013SGABH...   \n",
       "main_cat                                                Grocery   \n",
       "similar_item                                                      \n",
       "date                                                              \n",
       "price                                                             \n",
       "asin                                                 B014BCDF9U   \n",
       "details       {'\n",
       "    Product Dimensions: \n",
       "    ': '6 x 3 x 9 ...   \n",
       "\n",
       "                                                         266702  \n",
       "category        [Grocery & Gourmet Food, Snack Foods, Crackers]  \n",
       "tech1                                                            \n",
       "description   [Brazi Bites Original Brazilian Cheese Bread, ...  \n",
       "fit                                                              \n",
       "title         Brazi Bites Original Brazilian Cheese Bread, 1...  \n",
       "also_buy                                                     []  \n",
       "image         [https://images-na.ssl-images-amazon.com/image...  \n",
       "tech2                                                            \n",
       "brand                                               Brazi Bites  \n",
       "feature                                                      []  \n",
       "rank                        810,992 in Grocery & Gourmet Food (  \n",
       "also_view     [B001ACMCNU, B008L1A0N2, B0764JXX6R, B00PBLEUF...  \n",
       "main_cat                                                Grocery  \n",
       "similar_item                                                     \n",
       "date                                                             \n",
       "price                                                            \n",
       "asin                                                 B018SRGO24  \n",
       "details       {'Shipping Weight:': '10 pounds', 'ASIN: ': 'B...  "
      ]
     },
     "execution_count": 14,
     "metadata": {},
     "output_type": "execute_result"
    }
   ],
   "source": [
    "# Finding specific brand I enjoy.\n",
    "# Even though this is gluten free it doesn't show up in the gluten free dataframe because 'gluten free' isn't in the title.\n",
    "brazi_bites = grocery_data[grocery_data['brand'].str.lower().str.contains('brazi bites')].T\n",
    "brazi_bites"
   ]
  },
  {
   "cell_type": "markdown",
   "metadata": {
    "pycharm": {
     "name": "#%% md\n"
    }
   },
   "source": [
    "### Observations\n",
    "- Probably want to replace index with 'asin'.\n",
    "- Will try to use only pandas' logic going forward in notebooks.\n",
    "- So far haven't found any values in 'tech1', 'fit', 'tech2', or 'similar_item'.\n",
    "\n",
    "Even though there are missing values in the data I'm interested there isn't appear to be enough data to justify only analyzing gluten fee items.\n",
    "Therefore, shouldn't need to worry about dropping columns just based off the information I'm interested in. Instead, will worry about dropping based off of no data."
   ]
  },
  {
   "cell_type": "code",
   "execution_count": 15,
   "metadata": {
    "pycharm": {
     "name": "#%%\n"
    }
   },
   "outputs": [
    {
     "data": {
      "text/html": [
       "<div>\n",
       "<style scoped>\n",
       "    .dataframe tbody tr th:only-of-type {\n",
       "        vertical-align: middle;\n",
       "    }\n",
       "\n",
       "    .dataframe tbody tr th {\n",
       "        vertical-align: top;\n",
       "    }\n",
       "\n",
       "    .dataframe thead th {\n",
       "        text-align: right;\n",
       "    }\n",
       "</style>\n",
       "<table border=\"1\" class=\"dataframe\">\n",
       "  <thead>\n",
       "    <tr style=\"text-align: right;\">\n",
       "      <th></th>\n",
       "      <th>count</th>\n",
       "      <th>%</th>\n",
       "    </tr>\n",
       "  </thead>\n",
       "  <tbody>\n",
       "    <tr>\n",
       "      <th>details</th>\n",
       "      <td>24</td>\n",
       "      <td>0.008361</td>\n",
       "    </tr>\n",
       "    <tr>\n",
       "      <th>tech1</th>\n",
       "      <td>0</td>\n",
       "      <td>0.000000</td>\n",
       "    </tr>\n",
       "    <tr>\n",
       "      <th>asin</th>\n",
       "      <td>0</td>\n",
       "      <td>0.000000</td>\n",
       "    </tr>\n",
       "    <tr>\n",
       "      <th>price</th>\n",
       "      <td>0</td>\n",
       "      <td>0.000000</td>\n",
       "    </tr>\n",
       "    <tr>\n",
       "      <th>date</th>\n",
       "      <td>0</td>\n",
       "      <td>0.000000</td>\n",
       "    </tr>\n",
       "    <tr>\n",
       "      <th>similar_item</th>\n",
       "      <td>0</td>\n",
       "      <td>0.000000</td>\n",
       "    </tr>\n",
       "    <tr>\n",
       "      <th>main_cat</th>\n",
       "      <td>0</td>\n",
       "      <td>0.000000</td>\n",
       "    </tr>\n",
       "    <tr>\n",
       "      <th>also_view</th>\n",
       "      <td>0</td>\n",
       "      <td>0.000000</td>\n",
       "    </tr>\n",
       "    <tr>\n",
       "      <th>rank</th>\n",
       "      <td>0</td>\n",
       "      <td>0.000000</td>\n",
       "    </tr>\n",
       "    <tr>\n",
       "      <th>category</th>\n",
       "      <td>0</td>\n",
       "      <td>0.000000</td>\n",
       "    </tr>\n",
       "    <tr>\n",
       "      <th>brand</th>\n",
       "      <td>0</td>\n",
       "      <td>0.000000</td>\n",
       "    </tr>\n",
       "    <tr>\n",
       "      <th>tech2</th>\n",
       "      <td>0</td>\n",
       "      <td>0.000000</td>\n",
       "    </tr>\n",
       "    <tr>\n",
       "      <th>image</th>\n",
       "      <td>0</td>\n",
       "      <td>0.000000</td>\n",
       "    </tr>\n",
       "    <tr>\n",
       "      <th>also_buy</th>\n",
       "      <td>0</td>\n",
       "      <td>0.000000</td>\n",
       "    </tr>\n",
       "    <tr>\n",
       "      <th>title</th>\n",
       "      <td>0</td>\n",
       "      <td>0.000000</td>\n",
       "    </tr>\n",
       "    <tr>\n",
       "      <th>fit</th>\n",
       "      <td>0</td>\n",
       "      <td>0.000000</td>\n",
       "    </tr>\n",
       "    <tr>\n",
       "      <th>description</th>\n",
       "      <td>0</td>\n",
       "      <td>0.000000</td>\n",
       "    </tr>\n",
       "    <tr>\n",
       "      <th>feature</th>\n",
       "      <td>0</td>\n",
       "      <td>0.000000</td>\n",
       "    </tr>\n",
       "  </tbody>\n",
       "</table>\n",
       "</div>"
      ],
      "text/plain": [
       "              count         %\n",
       "details          24  0.008361\n",
       "tech1             0  0.000000\n",
       "asin              0  0.000000\n",
       "price             0  0.000000\n",
       "date              0  0.000000\n",
       "similar_item      0  0.000000\n",
       "main_cat          0  0.000000\n",
       "also_view         0  0.000000\n",
       "rank              0  0.000000\n",
       "category          0  0.000000\n",
       "brand             0  0.000000\n",
       "tech2             0  0.000000\n",
       "image             0  0.000000\n",
       "also_buy          0  0.000000\n",
       "title             0  0.000000\n",
       "fit               0  0.000000\n",
       "description       0  0.000000\n",
       "feature           0  0.000000"
      ]
     },
     "execution_count": 15,
     "metadata": {},
     "output_type": "execute_result"
    }
   ],
   "source": [
    "missing = pd.concat([grocery_data.isnull().sum(), 100 * grocery_data.isnull().mean()], axis=1)\n",
    "missing.columns=['count', '%']\n",
    "missing.sort_values(by=['count'], ascending=False)"
   ]
  },
  {
   "cell_type": "markdown",
   "metadata": {
    "pycharm": {
     "name": "#%% md\n"
    }
   },
   "source": [
    "This check also shows that hardly any data is missing. This is desired; however, it doesn't seem to be correct."
   ]
  },
  {
   "cell_type": "code",
   "execution_count": 16,
   "metadata": {
    "pycharm": {
     "name": "#%%\n"
    }
   },
   "outputs": [
    {
     "name": "stdout",
     "output_type": "stream",
     "text": [
      "tech1 should have a length: Int64Index([  1180,   1184,   1185,   1187,   1543,   1702,   1704,   1717,\n",
      "              1755,   1954,\n",
      "            ...\n",
      "            286670, 286675, 286709, 286740, 286771, 286845, 286947, 286981,\n",
      "            287001, 287009],\n",
      "           dtype='int64', length=5534)\n",
      "asin should not have anything: Int64Index([], dtype='int64')\n"
     ]
    }
   ],
   "source": [
    "# Researching on a smaller data set to see what is happening.\n",
    "\n",
    "tech1_has_blanks = gluten_free_dataframe[gluten_free_dataframe['tech1'] == ''].index\n",
    "print('tech1 should have a length:', tech1_has_blanks)\n",
    "\n",
    "asin_no_blanks = gluten_free_dataframe[gluten_free_dataframe['asin'] == ''].index\n",
    "print('asin should not have anything:', asin_no_blanks)\n"
   ]
  },
  {
   "cell_type": "code",
   "execution_count": 17,
   "metadata": {
    "pycharm": {
     "name": "#%%\n"
    }
   },
   "outputs": [
    {
     "name": "stdout",
     "output_type": "stream",
     "text": [
      "<class 'pandas.core.frame.DataFrame'>\n",
      "Int64Index: 5537 entries, 1180 to 287009\n",
      "Data columns (total 18 columns):\n",
      " #   Column        Non-Null Count  Dtype  \n",
      "---  ------        --------------  -----  \n",
      " 0   category      5537 non-null   object \n",
      " 1   tech1         3 non-null      object \n",
      " 2   description   5537 non-null   object \n",
      " 3   fit           0 non-null      float64\n",
      " 4   title         5537 non-null   object \n",
      " 5   also_buy      5537 non-null   object \n",
      " 6   image         5537 non-null   object \n",
      " 7   tech2         0 non-null      float64\n",
      " 8   brand         5379 non-null   object \n",
      " 9   feature       5537 non-null   object \n",
      " 10  rank          5537 non-null   object \n",
      " 11  also_view     5537 non-null   object \n",
      " 12  main_cat      5531 non-null   object \n",
      " 13  similar_item  4 non-null      object \n",
      " 14  date          13 non-null     object \n",
      " 15  price         2652 non-null   object \n",
      " 16  asin          5537 non-null   object \n",
      " 17  details       5537 non-null   object \n",
      "dtypes: float64(2), object(16)\n",
      "memory usage: 821.9+ KB\n"
     ]
    }
   ],
   "source": [
    "# One way to solve the problem.\n",
    "\n",
    "example_fix = gluten_free_dataframe.replace('', np.nan)\n",
    "example_fix.info()"
   ]
  },
  {
   "cell_type": "markdown",
   "metadata": {
    "pycharm": {
     "name": "#%% md\n"
    }
   },
   "source": [
    "This only fixed the issues with single cells. Blank lists are still an issue."
   ]
  },
  {
   "cell_type": "code",
   "execution_count": 18,
   "metadata": {
    "pycharm": {
     "name": "#%%\n"
    }
   },
   "outputs": [
    {
     "data": {
      "text/plain": [
       "B0000D916Y    2\n",
       "B00016V2CS    2\n",
       "B0001LO37O    2\n",
       "B0001B8VQ8    2\n",
       "B0000DHXLY    2\n",
       "             ..\n",
       "B0001EN9I0    2\n",
       "B0000D17HR    2\n",
       "B01E7DZBHW    1\n",
       "B000H7XW88    1\n",
       "B002BXJRBW    1\n",
       "Name: asin, Length: 3700, dtype: int64"
      ]
     },
     "execution_count": 18,
     "metadata": {},
     "output_type": "execute_result"
    }
   ],
   "source": [
    "# Thought 'asin' values were unique; however, they aren't.\n",
    "grocery_data['asin'].value_counts().head(3700)"
   ]
  },
  {
   "cell_type": "code",
   "execution_count": 19,
   "metadata": {
    "pycharm": {
     "name": "#%%\n"
    }
   },
   "outputs": [
    {
     "data": {
      "text/html": [
       "<div>\n",
       "<style scoped>\n",
       "    .dataframe tbody tr th:only-of-type {\n",
       "        vertical-align: middle;\n",
       "    }\n",
       "\n",
       "    .dataframe tbody tr th {\n",
       "        vertical-align: top;\n",
       "    }\n",
       "\n",
       "    .dataframe thead th {\n",
       "        text-align: right;\n",
       "    }\n",
       "</style>\n",
       "<table border=\"1\" class=\"dataframe\">\n",
       "  <thead>\n",
       "    <tr style=\"text-align: right;\">\n",
       "      <th></th>\n",
       "      <th>category</th>\n",
       "      <th>tech1</th>\n",
       "      <th>description</th>\n",
       "      <th>fit</th>\n",
       "      <th>title</th>\n",
       "      <th>also_buy</th>\n",
       "      <th>image</th>\n",
       "      <th>tech2</th>\n",
       "      <th>brand</th>\n",
       "      <th>feature</th>\n",
       "      <th>rank</th>\n",
       "      <th>also_view</th>\n",
       "      <th>main_cat</th>\n",
       "      <th>similar_item</th>\n",
       "      <th>date</th>\n",
       "      <th>price</th>\n",
       "      <th>asin</th>\n",
       "      <th>details</th>\n",
       "    </tr>\n",
       "  </thead>\n",
       "  <tbody>\n",
       "    <tr>\n",
       "      <th>2480</th>\n",
       "      <td>[Grocery &amp; Gourmet Food, Herbs, Spices &amp; Seaso...</td>\n",
       "      <td></td>\n",
       "      <td>[Seasoning Pizza. It is a high quality healthy...</td>\n",
       "      <td></td>\n",
       "      <td>Frontier Natural Products Pizza Seasoning -- 1...</td>\n",
       "      <td>[B0001M10ZG, B001VNKT0Q, B001VNGKAO, B00GCDPLC...</td>\n",
       "      <td>[]</td>\n",
       "      <td></td>\n",
       "      <td>Frontier</td>\n",
       "      <td>[]</td>\n",
       "      <td>56,442 in Grocery &amp; Gourmet Food (</td>\n",
       "      <td>[B0001M10ZG, B076THTQ1K, B00DUF3CHU, B000WR2GN...</td>\n",
       "      <td>Grocery</td>\n",
       "      <td></td>\n",
       "      <td></td>\n",
       "      <td>$14.99</td>\n",
       "      <td>B0001M0YTO</td>\n",
       "      <td>{'\n",
       "    Product Dimensions: \n",
       "    ': '4 x 4 x 10...</td>\n",
       "    </tr>\n",
       "    <tr>\n",
       "      <th>6177</th>\n",
       "      <td>[Grocery &amp; Gourmet Food, Herbs, Spices &amp; Seaso...</td>\n",
       "      <td></td>\n",
       "      <td>[Seasoning Pizza. It is a high quality healthy...</td>\n",
       "      <td></td>\n",
       "      <td>Frontier Natural Products Pizza Seasoning -- 1...</td>\n",
       "      <td>[B0001M10ZG, B001VNKT0Q, B001VNGKAO, B00GCDPLC...</td>\n",
       "      <td>[]</td>\n",
       "      <td></td>\n",
       "      <td>Frontier</td>\n",
       "      <td>[]</td>\n",
       "      <td>56,442 in Grocery &amp; Gourmet Food (</td>\n",
       "      <td>[B0001M10ZG, B076THTQ1K, B00DUF3CHU, B000WR2GN...</td>\n",
       "      <td>Grocery</td>\n",
       "      <td></td>\n",
       "      <td></td>\n",
       "      <td>$14.99</td>\n",
       "      <td>B0001M0YTO</td>\n",
       "      <td>{'\n",
       "    Product Dimensions: \n",
       "    ': '4 x 4 x 10...</td>\n",
       "    </tr>\n",
       "  </tbody>\n",
       "</table>\n",
       "</div>"
      ],
      "text/plain": [
       "                                               category tech1  \\\n",
       "2480  [Grocery & Gourmet Food, Herbs, Spices & Seaso...         \n",
       "6177  [Grocery & Gourmet Food, Herbs, Spices & Seaso...         \n",
       "\n",
       "                                            description fit  \\\n",
       "2480  [Seasoning Pizza. It is a high quality healthy...       \n",
       "6177  [Seasoning Pizza. It is a high quality healthy...       \n",
       "\n",
       "                                                  title  \\\n",
       "2480  Frontier Natural Products Pizza Seasoning -- 1...   \n",
       "6177  Frontier Natural Products Pizza Seasoning -- 1...   \n",
       "\n",
       "                                               also_buy image tech2     brand  \\\n",
       "2480  [B0001M10ZG, B001VNKT0Q, B001VNGKAO, B00GCDPLC...    []        Frontier   \n",
       "6177  [B0001M10ZG, B001VNKT0Q, B001VNGKAO, B00GCDPLC...    []        Frontier   \n",
       "\n",
       "     feature                                rank  \\\n",
       "2480      []  56,442 in Grocery & Gourmet Food (   \n",
       "6177      []  56,442 in Grocery & Gourmet Food (   \n",
       "\n",
       "                                              also_view main_cat similar_item  \\\n",
       "2480  [B0001M10ZG, B076THTQ1K, B00DUF3CHU, B000WR2GN...  Grocery                \n",
       "6177  [B0001M10ZG, B076THTQ1K, B00DUF3CHU, B000WR2GN...  Grocery                \n",
       "\n",
       "     date   price        asin  \\\n",
       "2480       $14.99  B0001M0YTO   \n",
       "6177       $14.99  B0001M0YTO   \n",
       "\n",
       "                                                details  \n",
       "2480  {'\n",
       "    Product Dimensions: \n",
       "    ': '4 x 4 x 10...  \n",
       "6177  {'\n",
       "    Product Dimensions: \n",
       "    ': '4 x 4 x 10...  "
      ]
     },
     "execution_count": 19,
     "metadata": {},
     "output_type": "execute_result"
    }
   ],
   "source": [
    "# Spot checked some and it looks like these are just duplicates in the data of the same thing; only the index is different..\n",
    "# Also, percentage wise the majority of the 'asin' number are unique so should be ok to use as id.\n",
    "grocery_data[grocery_data['asin'] == 'B0001M0YTO']"
   ]
  },
  {
   "cell_type": "code",
   "execution_count": 20,
   "metadata": {
    "pycharm": {
     "name": "#%%\n"
    }
   },
   "outputs": [
    {
     "data": {
      "text/plain": [
       "                        11419\n",
       "Unknown                  1780\n",
       "Black Tie Mercantile     1458\n",
       "Trader Joe's             1234\n",
       "McCormick                1041\n",
       "                        ...  \n",
       "Elite Bitters               1\n",
       "Miracle Fruit World         1\n",
       "Georgia Gifts               1\n",
       "Donckels                    1\n",
       "Wicked Mix                  1\n",
       "Name: brand, Length: 38904, dtype: int64"
      ]
     },
     "execution_count": 20,
     "metadata": {},
     "output_type": "execute_result"
    }
   ],
   "source": [
    "# # Most common brands.\n",
    "grocery_data['brand'].value_counts()"
   ]
  },
  {
   "cell_type": "markdown",
   "metadata": {},
   "source": [
    "## Copying Original Data after Troubleshooting Research\n",
    "Ran into problems analyzing the data because didn't fully understand the info summary above.\n",
    "See the Questions section below for additional details.\n",
    "Copying dataframe to convert types and then analyze further. <sup>[2]</sup>"
   ]
  },
  {
   "cell_type": "code",
   "execution_count": 21,
   "metadata": {
    "pycharm": {
     "name": "#%%\n"
    }
   },
   "outputs": [
    {
     "name": "stdout",
     "output_type": "stream",
     "text": [
      "<class 'pandas.core.frame.DataFrame'>\n",
      "RangeIndex: 287051 entries, 0 to 287050\n",
      "Data columns (total 18 columns):\n",
      " #   Column        Non-Null Count   Dtype \n",
      "---  ------        --------------   ----- \n",
      " 0   category      287051 non-null  object\n",
      " 1   tech1         287051 non-null  object\n",
      " 2   description   287051 non-null  object\n",
      " 3   fit           287051 non-null  object\n",
      " 4   title         287051 non-null  object\n",
      " 5   also_buy      287051 non-null  object\n",
      " 6   image         287051 non-null  object\n",
      " 7   tech2         287051 non-null  object\n",
      " 8   brand         287051 non-null  object\n",
      " 9   feature       287051 non-null  object\n",
      " 10  rank          287051 non-null  object\n",
      " 11  also_view     287051 non-null  object\n",
      " 12  main_cat      287051 non-null  object\n",
      " 13  similar_item  287051 non-null  object\n",
      " 14  date          287051 non-null  object\n",
      " 15  price         287051 non-null  object\n",
      " 16  asin          287051 non-null  object\n",
      " 17  details       287027 non-null  object\n",
      "dtypes: object(18)\n",
      "memory usage: 39.4+ MB\n"
     ]
    }
   ],
   "source": [
    "grocery_data_copy = grocery_data.copy()\n",
    "\n",
    "grocery_data_copy.info()"
   ]
  },
  {
   "cell_type": "code",
   "execution_count": 22,
   "metadata": {
    "pycharm": {
     "name": "#%%\n"
    }
   },
   "outputs": [
    {
     "name": "stdout",
     "output_type": "stream",
     "text": [
      "<class 'pandas.core.frame.DataFrame'>\n",
      "RangeIndex: 287051 entries, 0 to 287050\n",
      "Data columns (total 18 columns):\n",
      " #   Column        Non-Null Count   Dtype  \n",
      "---  ------        --------------   -----  \n",
      " 0   category      287051 non-null  object \n",
      " 1   tech1         744 non-null     object \n",
      " 2   description   287051 non-null  object \n",
      " 3   fit           4 non-null       object \n",
      " 4   title         287048 non-null  object \n",
      " 5   also_buy      287051 non-null  object \n",
      " 6   image         287051 non-null  object \n",
      " 7   tech2         0 non-null       float64\n",
      " 8   brand         275632 non-null  object \n",
      " 9   feature       287051 non-null  object \n",
      " 10  rank          287051 non-null  object \n",
      " 11  also_view     287051 non-null  object \n",
      " 12  main_cat      285688 non-null  object \n",
      " 13  similar_item  256 non-null     object \n",
      " 14  date          9662 non-null    object \n",
      " 15  price         133858 non-null  object \n",
      " 16  asin          287051 non-null  object \n",
      " 17  details       287027 non-null  object \n",
      "dtypes: float64(1), object(17)\n",
      "memory usage: 39.4+ MB\n"
     ]
    }
   ],
   "source": [
    "# Clean blank values\n",
    "grocery_data_copy.replace('', np.nan, inplace=True)\n",
    "grocery_data_copy.info()"
   ]
  },
  {
   "cell_type": "code",
   "execution_count": 23,
   "metadata": {
    "pycharm": {
     "name": "#%%\n"
    }
   },
   "outputs": [],
   "source": [
    "# Wrangle prices\n",
    "# Note: This has many additional checks and concepts added in different ways for learning purposes.\n",
    "def convert_currency(val: str) -> float:\n",
    "    \"\"\"\n",
    "    Converts input to string and output to Decimal (an accurate float for currency).\n",
    "     - Remove $ and commas.\n",
    "     - Change number ranges into np.NaN.\n",
    "     - Change other problem characters to np.NaN.\n",
    "     - All values must already be in the same currency.\n",
    "    \"\"\"\n",
    "    new_val = str(val)\n",
    "    \n",
    "    # Setup Logging\n",
    "    logging.basicConfig(filename=price_logs, filemode='w+', level=logging.INFO)\n",
    "    \n",
    "    # Changing problem values such as HTML and blanks to np.NaN as soon as possible.\n",
    "    # TODO: best way to handle performance for these checks?\n",
    "    if new_val == '':\n",
    "        return np.NaN\n",
    "    if ('/' in new_val) | ('{' in new_val) | ('}' in new_val) | ('<' in new_val) | ('>' in new_val):\n",
    "        logging.info(f\"Converting problem character(s) to np.NaN. Original: {new_val}\")\n",
    "        return np.NaN\n",
    "    # TODO: Could change to the min, mean, or max price in the future.\n",
    "    if ' - ' in new_val:\n",
    "        logging.warning(f\"Converting range of numbers to np.NaN. Original: {new_val}\")\n",
    "        return np.NaN\n",
    "        \n",
    "    # If other common problem characters are found in the data they should be removed here.\n",
    "    # The exception is other currency symbols because that will remove key meaning from the data.\n",
    "    new_val = new_val.replace(',','').replace('$', '')\n",
    "    \n",
    "    # Return the desired output or provide a warning.\n",
    "    try:\n",
    "        new_val = round(float(new_val), 2)\n",
    "        return new_val\n",
    "    except ValueError:\n",
    "        # This is a type of issue the user can fix on a case by case basis.\n",
    "        logging.warning(f\"\"\"\n",
    "            WARNING: The new value cannot be converted. Only numbers and '.' are allowed in the data.\n",
    "            - If there are values in multiple currencies the data must be converted into just $ first.\n",
    "            - Most likely this problem is because of unexpected character(s) at: {val}.  \n",
    "        \"\"\")\n",
    "        raise ValueError"
   ]
  },
  {
   "cell_type": "code",
   "execution_count": 24,
   "metadata": {
    "pycharm": {
     "name": "#%%\n"
    }
   },
   "outputs": [
    {
     "name": "stdout",
     "output_type": "stream",
     "text": [
      "<class 'pandas.core.frame.DataFrame'>\n",
      "RangeIndex: 287051 entries, 0 to 287050\n",
      "Data columns (total 18 columns):\n",
      " #   Column        Non-Null Count   Dtype  \n",
      "---  ------        --------------   -----  \n",
      " 0   category      287051 non-null  object \n",
      " 1   tech1         744 non-null     object \n",
      " 2   description   287051 non-null  object \n",
      " 3   fit           4 non-null       object \n",
      " 4   title         287048 non-null  object \n",
      " 5   also_buy      287051 non-null  object \n",
      " 6   image         287051 non-null  object \n",
      " 7   tech2         0 non-null       float64\n",
      " 8   brand         275632 non-null  object \n",
      " 9   feature       287051 non-null  object \n",
      " 10  rank          287051 non-null  object \n",
      " 11  also_view     287051 non-null  object \n",
      " 12  main_cat      285688 non-null  object \n",
      " 13  similar_item  256 non-null     object \n",
      " 14  date          9662 non-null    object \n",
      " 15  price         132036 non-null  float64\n",
      " 16  asin          287051 non-null  object \n",
      " 17  details       287027 non-null  object \n",
      "dtypes: float64(2), object(16)\n",
      "memory usage: 39.4+ MB\n"
     ]
    }
   ],
   "source": [
    "grocery_data_copy['price'] = grocery_data_copy['price'].apply(convert_currency)\n",
    "grocery_data_copy.info()"
   ]
  },
  {
   "cell_type": "code",
   "execution_count": 25,
   "metadata": {
    "pycharm": {
     "name": "#%%\n"
    }
   },
   "outputs": [
    {
     "name": "stdout",
     "output_type": "stream",
     "text": [
      "<class 'pandas.core.frame.DataFrame'>\n",
      "RangeIndex: 287051 entries, 0 to 287050\n",
      "Data columns (total 18 columns):\n",
      " #   Column        Non-Null Count   Dtype         \n",
      "---  ------        --------------   -----         \n",
      " 0   category      287051 non-null  object        \n",
      " 1   tech1         744 non-null     object        \n",
      " 2   description   287051 non-null  object        \n",
      " 3   fit           4 non-null       object        \n",
      " 4   title         287048 non-null  object        \n",
      " 5   also_buy      287051 non-null  object        \n",
      " 6   image         287051 non-null  object        \n",
      " 7   tech2         0 non-null       float64       \n",
      " 8   brand         275632 non-null  object        \n",
      " 9   feature       287051 non-null  object        \n",
      " 10  rank          287051 non-null  object        \n",
      " 11  also_view     287051 non-null  object        \n",
      " 12  main_cat      285688 non-null  object        \n",
      " 13  similar_item  256 non-null     object        \n",
      " 14  date          9555 non-null    datetime64[ns]\n",
      " 15  price         132036 non-null  float64       \n",
      " 16  asin          287051 non-null  object        \n",
      " 17  details       287027 non-null  object        \n",
      "dtypes: datetime64[ns](1), float64(2), object(15)\n",
      "memory usage: 39.4+ MB\n"
     ]
    }
   ],
   "source": [
    "# Reformat date\n",
    "grocery_data_copy['date'] = pd.to_datetime((grocery_data_copy['date']), errors='coerce')\n",
    "grocery_data_copy.info()"
   ]
  },
  {
   "cell_type": "code",
   "execution_count": 26,
   "metadata": {
    "pycharm": {
     "name": "#%%\n"
    }
   },
   "outputs": [
    {
     "data": {
      "text/plain": [
       "count    132036.000000\n",
       "mean         25.414546\n",
       "std          38.099857\n",
       "min           0.010000\n",
       "25%          10.880000\n",
       "50%          17.980000\n",
       "75%          29.990000\n",
       "max        5600.000000\n",
       "Name: price, dtype: float64"
      ]
     },
     "execution_count": 26,
     "metadata": {},
     "output_type": "execute_result"
    }
   ],
   "source": [
    "grocery_data_copy['price'].describe()"
   ]
  },
  {
   "cell_type": "code",
   "execution_count": 27,
   "metadata": {
    "pycharm": {
     "name": "#%%\n"
    }
   },
   "outputs": [
    {
     "name": "stdout",
     "output_type": "stream",
     "text": [
      "<class 'pandas.core.frame.DataFrame'>\n",
      "RangeIndex: 287051 entries, 0 to 287050\n",
      "Data columns (total 12 columns):\n",
      " #   Column       Non-Null Count   Dtype \n",
      "---  ------       --------------   ----- \n",
      " 0   category     287051 non-null  object\n",
      " 1   description  287051 non-null  object\n",
      " 2   title        287048 non-null  object\n",
      " 3   also_buy     287051 non-null  object\n",
      " 4   image        287051 non-null  object\n",
      " 5   brand        275632 non-null  object\n",
      " 6   feature      287051 non-null  object\n",
      " 7   rank         287051 non-null  object\n",
      " 8   also_view    287051 non-null  object\n",
      " 9   main_cat     285688 non-null  object\n",
      " 10  asin         287051 non-null  object\n",
      " 11  details      287027 non-null  object\n",
      "dtypes: object(12)\n",
      "memory usage: 26.3+ MB\n"
     ]
    }
   ],
   "source": [
    "# This is a way of dropping all columns where at least 90% of data is empty.\n",
    "# Mostly matches earlier analysis but much faster.\n",
    "# TODO: Not sure why this dropped price. Only about 55% empty; not 90%\n",
    "drop_thresh = grocery_data_copy.shape[0] * 0.9\n",
    "grocery_data_drop = grocery_data_copy.dropna(thresh=drop_thresh, how='all', axis='columns').copy()\n",
    "grocery_data_drop.info()"
   ]
  },
  {
   "cell_type": "markdown",
   "metadata": {
    "pycharm": {
     "name": "#%% md\n"
    }
   },
   "source": [
    "## Dealing with columns with lists and dictionaries\n",
    "Note: Some of these have been dropped by now.\n",
    "Includes category, description, also_buy, image, feature, also_view\n",
    "In some cases includes rank.\n",
    "Details are a dictionary."
   ]
  },
  {
   "cell_type": "code",
   "execution_count": 28,
   "metadata": {
    "pycharm": {
     "name": "#%%\n"
    }
   },
   "outputs": [],
   "source": [
    "def create_unique_list(dataframe_series: pd.Series) -> list:\n",
    "    \"\"\"\n",
    "    Create a list of unique values from a pandas series (data column).\n",
    "    :param dataframe_series\n",
    "    :return: list\n",
    "    \"\"\"\n",
    "    unique_values = []\n",
    "\n",
    "    for row in dataframe_series:\n",
    "        for item in row:\n",
    "            if item not in unique_values:\n",
    "                unique_values.append(item)\n",
    "                \n",
    "    return unique_values"
   ]
  },
  {
   "cell_type": "code",
   "execution_count": 29,
   "metadata": {
    "pycharm": {
     "name": "#%%\n"
    }
   },
   "outputs": [
    {
     "name": "stdout",
     "output_type": "stream",
     "text": [
      "1354\n"
     ]
    }
   ],
   "source": [
    "# categories wrangling\n",
    "unique_categories = create_unique_list(grocery_data_drop['category'])       \n",
    "print(len(unique_categories))"
   ]
  },
  {
   "cell_type": "code",
   "execution_count": 30,
   "metadata": {
    "pycharm": {
     "name": "#%%\n"
    }
   },
   "outputs": [],
   "source": [
    "# grocery_data_drop.category.astype(\"category\")\n",
    "\n",
    "# TODO: Throws TypeError: unhashable type: 'list'\n"
   ]
  },
  {
   "cell_type": "code",
   "execution_count": 34,
   "metadata": {
    "pycharm": {
     "name": "#%%\n"
    }
   },
   "outputs": [
    {
     "name": "stdout",
     "output_type": "stream",
     "text": [
      "Count of products in database 287051\n",
      "Unique count of products in database 283354\n"
     ]
    }
   ],
   "source": [
    "# unique asin\n",
    "# which is also unique also_buy and also_view\n",
    "      \n",
    "print(\"Count of products in database\", len(grocery_data_drop['asin']))\n",
    "print(\"Unique count of products in database\", len(set(grocery_data_drop['asin'])))"
   ]
  },
  {
   "cell_type": "code",
   "execution_count": 32,
   "metadata": {
    "pycharm": {
     "name": "#%%\n"
    }
   },
   "outputs": [
    {
     "name": "stdout",
     "output_type": "stream",
     "text": [
      "42595\n"
     ]
    }
   ],
   "source": [
    "# feature wrangling\n",
    "unique_feature = create_unique_list(grocery_data_drop['feature'])       \n",
    "print(len(unique_feature))"
   ]
  },
  {
   "cell_type": "code",
   "execution_count": null,
   "metadata": {
    "pycharm": {
     "name": "#%%\n"
    }
   },
   "outputs": [],
   "source": [
    "# unique_counts = pd.DataFrame.from_records([(col, grocery_data_drop[col].nunique()) for col in grocery_data_drop.columns],\n",
    "#                           columns=['Column_Name', 'Num_Unique']).sort_values(by=['Num_Unique'])\n",
    "\n",
    "# TODO: Throws TypeError: unhashable type: 'list'"
   ]
  },
  {
   "cell_type": "markdown",
   "metadata": {},
   "source": [
    "### Questions\n",
    "\n",
    "1) Why do the counts appear off?  \n",
    "- Is it because of whitespace? Don't think so because of the strip method when loading data. Also, selecting the cell area inside the dataframe doesn't highlight anything in these cells. However, it does select the text in non-empty cells.\n",
    "- There are definitely more missing/blank values than what the initial information revealed.\n",
    "#### Answers\n",
    "- Blank values.\n",
    "- Certain cells have the full HTML DOM (so long it doesn't display in Pandas and looks empty).\n",
    "- Some prices contain a range of values.\n",
    "\n",
    "2) Difference(s) for blank value versus blank list in Pandas?  \n",
    "#### Answers\n",
    "- The list is actually an object. \n",
    "- Can fix the data for the list using series functions. To fix the blank values can use dataframe functions.\n",
    "\n",
    "3) Is all currency in dollars. Also, is this in the actual data or is this a formatter in Pandas for this column?\n",
    "#### Answers\n",
    "- All prices that had values were in dollars in the data.\n",
    "\n",
    "4) Some lambda functions can only run one time per session. \n",
    "- Running just that cell multiple times results in an error.\n",
    "- Is this common? \n",
    "- Should I handle this scenario or is it expected everything will only run once in sequence? \n",
    "#### Answers\n",
    "- Running it one time was also having an issue. It just wasn't as severe as the error on the second attempt.\n",
    "\n",
    "5) What is the best way of handling the duplicate 'asin'?\n",
    "- Will making the 'asin' the index automatically merge the duplicates?\n",
    "- Should half of them be deleted first?\n",
    "- Should all of them be deleted since they are less than 1.5% of the data?\n",
    "- Can use a set?\n",
    "\n",
    "6) See TODOs in convert_currency function.\n",
    "\n",
    "7) Why was price removed when dropping 90% blanks?\n",
    "\n",
    "8) Throws TypeError: unhashable type: 'list'\n"
   ]
  },
  {
   "cell_type": "markdown",
   "metadata": {},
   "source": [
    "## Summary\n",
    "TODO"
   ]
  },
  {
   "cell_type": "markdown",
   "metadata": {},
   "source": [
    "## Tests\n",
    "These would usually be in a separate directory or file."
   ]
  },
  {
   "cell_type": "markdown",
   "metadata": {},
   "source": [
    "### Unit Tests"
   ]
  },
  {
   "cell_type": "code",
   "execution_count": null,
   "metadata": {
    "pycharm": {
     "name": "#%%\n"
    }
   },
   "outputs": [],
   "source": [
    "class UnitTestExamples(unittest.TestCase):\n",
    "    \n",
    "    def test_formatting_removed(self):\n",
    "        self.assertEqual(convert_currency('$5,000.00'), 5000.00)\n",
    "    \n",
    "    def test_whole_number(self):\n",
    "        self.assertEqual(convert_currency(5), 5)\n",
    "    \n",
    "    def test_rounding_floats(self):\n",
    "        self.assertEqual(convert_currency(.16666666666666666666), 0.17)\n",
    "    \n",
    "    def test_warn_problem_character(self):\n",
    "        with self.assertRaises(ValueError):\n",
    "            convert_currency('€5')\n",
    "        \n",
    "    def test_blank_values(self):\n",
    "        self.assertTrue(np.isnan(convert_currency('')))\n",
    "            \n",
    "    def test_problem_characters(self):\n",
    "        self.assertTrue(np.isnan(convert_currency('.a-box-inner{background-color:#fff}#alohaBuyBoxWidget')))\n",
    "            \n",
    "    def test_range_of_values(self):\n",
    "        self.assertTrue(np.isnan(convert_currency('$17.24 - $39.20')))\n",
    "   "
   ]
  },
  {
   "cell_type": "markdown",
   "metadata": {},
   "source": [
    "### Integration Tests\n",
    "        "
   ]
  },
  {
   "cell_type": "code",
   "execution_count": null,
   "metadata": {
    "pycharm": {
     "name": "#%%\n"
    }
   },
   "outputs": [],
   "source": [
    "class IntegrationTestExamples(unittest.TestCase):\n",
    "\n",
    "   def test_data_file_exists(self):\n",
    "       self.assertTrue(os.path.isfile(data_filepath))\n",
    "       \n",
    "   def test_documentation_file_exists(self):\n",
    "       self.assertTrue(os.path.isfile(doc_filepath))\n",
    "       \n",
    "   def test_file_exists_logic(self):\n",
    "       self.assertFalse(os.path.isfile('Does_Not_Exist.csv'))"
   ]
  },
  {
   "cell_type": "markdown",
   "metadata": {
    "pycharm": {
     "name": "#%% md\n"
    }
   },
   "source": [
    "### Test Results"
   ]
  },
  {
   "cell_type": "code",
   "execution_count": null,
   "metadata": {
    "pycharm": {
     "name": "#%%\n"
    }
   },
   "outputs": [],
   "source": [
    "unittest.main(argv=[''], verbosity=2, exit=False)"
   ]
  },
  {
   "cell_type": "markdown",
   "metadata": {
    "pycharm": {
     "name": "#%% md\n"
    }
   },
   "source": [
    "## References\n",
    "1) Jianmo Ni 2018 [Amazon Review Data (2018)](https://nijianmo.github.io/amazon/).  \n",
    "2) Chris Moffitt 2018 [Overview of Pandas Data Types](https://pbpython.com/pandas_dtypes.html)."
   ]
  }
 ],
 "metadata": {
  "kernelspec": {
   "display_name": "Python 3",
   "language": "python",
   "name": "python3"
  },
  "language_info": {
   "codemirror_mode": {
    "name": "ipython",
    "version": 3
   },
   "file_extension": ".py",
   "mimetype": "text/x-python",
   "name": "python",
   "nbconvert_exporter": "python",
   "pygments_lexer": "ipython3",
   "version": "3.8.3"
  }
 },
 "nbformat": 4,
 "nbformat_minor": 1
}