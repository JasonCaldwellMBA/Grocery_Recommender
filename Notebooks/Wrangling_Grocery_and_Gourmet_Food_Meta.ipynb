{
 "cells": [
  {
   "cell_type": "markdown",
   "metadata": {},
   "source": [
    "# Wrangling Grocery and Gourmet Food Data"
   ]
  },
  {
   "cell_type": "markdown",
   "metadata": {},
   "source": [
    "## Contents <a id='Contents' />\n",
    "* [Environment Variables](#Environment_Variables)\n",
    "* [Introduction](#Introduction)\n",
    "* [Imports](#Imports)\n",
    "* [Load Data](#Load_Data)\n",
    "* [Explore Data](#Explore_Data)\n",
    "* [Cleanup](#Cleanup)\n",
    "* [Review Distributions](#Review_Distributions)\n",
    "* [Population Data](#Population_Data)\n",
    "* [Target Features](#Target_Features)\n",
    "* [Save Data](#Save_Data)\n",
    "* [Summary](#Summary)\n",
    "* [Tests](#Tests)\n",
    "* [References](#References)"
   ]
  },
  {
   "cell_type": "markdown",
   "source": [
    "## Environment Variables <a id='Environment_Variables' />\n",
    "\n",
    "Note: The actual values would be kept in a separate file and wouldn't be shared/in source control. They are shown below for simplicity."
   ],
   "metadata": {
    "collapsed": false
   }
  },
  {
   "cell_type": "code",
   "execution_count": 1,
   "outputs": [],
   "source": [
    "data_filepath = '../Raw_Data/meta_Grocery_and_Gourmet_Food.json.gz'\n",
    "# This path is still in the markdown below because haven't found a working way to use a variable there.\n",
    "doc_filepath = '../Grocery_Recommender_-_Capstone_Two.pdf' "
   ],
   "metadata": {
    "collapsed": false,
    "pycharm": {
     "name": "#%%\n"
    }
   }
  },
  {
   "cell_type": "markdown",
   "source": [
    "## Introduction <a id='Introduction' />\n",
    "Data Wrangling is the process of collecting, organizing, and determining how well-defined the data is.  \n",
    "See [Grocery Recommender - Capstone Two](../Grocery_Recommender_-_Capstone_Two.pdf) for details about this project. \n"
   ],
   "metadata": {
    "collapsed": false
   }
  },
  {
   "cell_type": "markdown",
   "source": [
    "## Imports <a id='Imports' />"
   ],
   "metadata": {
    "collapsed": false
   }
  },
  {
   "cell_type": "code",
   "execution_count": 2,
   "outputs": [],
   "source": [
    "import json\n",
    "import gzip\n",
    "import unittest\n",
    "import pandas as pd\n",
    "import numpy as np\n",
    "import csv\n",
    "import os.path\n",
    "import logging"
   ],
   "metadata": {
    "collapsed": false,
    "pycharm": {
     "name": "#%%\n"
    }
   }
  },
  {
   "cell_type": "markdown",
   "source": [
    "## Load Data<a id='Load_Data' />"
   ],
   "metadata": {
    "collapsed": false
   }
  },
  {
   "cell_type": "code",
   "execution_count": 3,
   "outputs": [],
   "source": [
    "##Load the data\n",
    "data = []\n",
    "with gzip.open(data_filepath) as f:\n",
    "    for l in f:\n",
    "        data.append(json.loads(l.strip()))"
   ],
   "metadata": {
    "collapsed": false,
    "pycharm": {
     "name": "#%%\n"
    }
   }
  },
  {
   "cell_type": "code",
   "execution_count": 4,
   "outputs": [
    {
     "name": "stdout",
     "output_type": "stream",
     "text": [
      "287051\n"
     ]
    }
   ],
   "source": [
    "# Confirm data loaded by checking total number of products.\n",
    "print(len(data))"
   ],
   "metadata": {
    "collapsed": false,
    "pycharm": {
     "name": "#%%\n"
    }
   }
  },
  {
   "cell_type": "code",
   "execution_count": 5,
   "outputs": [
    {
     "name": "stdout",
     "output_type": "stream",
     "text": [
      "{'category': ['Grocery & Gourmet Food', 'Dairy, Cheese & Eggs', 'Cheese', 'Gouda'], 'tech1': '', 'description': ['BEEMSTER GOUDA CHEESE AGED 18/24 MONTHS', 'Statements regarding dietary supplements have not been evaluated by the FDA and are not intended to diagnose, treat, cure, or prevent any disease or health condition.'], 'fit': '', 'title': 'Beemster Gouda - Aged 18/24 Months - App. 1.5 Lbs', 'also_buy': [], 'image': [], 'tech2': '', 'brand': 'Ariola Imports', 'feature': [], 'rank': '165,181 in Grocery & Gourmet Food (', 'also_view': ['B0000D9MYM', 'B0000D9MYL', 'B00ADHIGBA', 'B00H9OX598', 'B001LM42GY', 'B001LM5TDY'], 'main_cat': 'Grocery', 'similar_item': '', 'date': '', 'price': '$41.91', 'asin': '0681727810'}\n"
     ]
    }
   ],
   "source": [
    "# View raw data.\n",
    "print(data[0])"
   ],
   "metadata": {
    "collapsed": false,
    "pycharm": {
     "name": "#%%\n"
    }
   }
  },
  {
   "cell_type": "code",
   "execution_count": 6,
   "outputs": [
    {
     "data": {
      "text/plain": "                                            category tech1  \\\n0  [Grocery & Gourmet Food, Dairy, Cheese & Eggs,...         \n1  [Grocery & Gourmet Food, Cooking & Baking, Sug...         \n2  [Grocery & Gourmet Food, Cooking & Baking, Fro...         \n3  [Grocery & Gourmet Food, Cooking & Baking, Fro...         \n4  [Grocery & Gourmet Food, Cooking & Baking, Fro...         \n\n                                         description fit  \\\n0  [BEEMSTER GOUDA CHEESE AGED 18/24 MONTHS, Stat...       \n1  [Shipped from UK, please allow 10 to 21 busine...       \n2  [Jazz up your cakes with a sparkling monogram ...       \n3                      [Large Letter - Height 4.75\"]       \n4                                            [4.75\"]       \n\n                                               title  \\\n0  Beemster Gouda - Aged 18/24 Months - App. 1.5 Lbs   \n1                          Trim Healthy Mama Xylitol   \n2  Letter C - Swarovski Crystal Monogram Wedding ...   \n3  Letter H - Swarovski Crystal Monogram Wedding ...   \n4  Letter S - Swarovski Crystal Monogram Wedding ...   \n\n                                            also_buy  \\\n0                                                 []   \n1  [B01898YHXK, B01BCM6LAC, B00Q4OL47O, B00Q4OL5Q...   \n2                                                 []   \n3                                                 []   \n4                                                 []   \n\n                                               image tech2           brand  \\\n0                                                 []        Ariola Imports   \n1  [https://images-na.ssl-images-amazon.com/image...                         \n2                                                 []        Unik Occasions   \n3                                                 []                 Other   \n4                                                 []        Unik Occasions   \n\n                         feature  \\\n0                             []   \n1                             []   \n2                             []   \n3  [Large Letter - Height 4.75\"]   \n4                 [4.75\" height]   \n\n                                                rank  \\\n0                165,181 in Grocery & Gourmet Food (   \n1                315,867 in Grocery & Gourmet Food (   \n2  [>#669,941 in Kitchen & Dining (See Top 100 in...   \n3  [>#832,581 in Kitchen & Dining (See Top 100 in...   \n4  [>#590,999 in Kitchen & Dining (See Top 100 in...   \n\n                                           also_view     main_cat  \\\n0  [B0000D9MYM, B0000D9MYL, B00ADHIGBA, B00H9OX59...      Grocery   \n1                                                 []      Grocery   \n2                                       [B07DXN65TF]  Amazon Home   \n3                                                 []  Amazon Home   \n4                                                 []  Amazon Home   \n\n  similar_item                date   price        asin details  \n0                                   $41.91  0681727810     NaN  \n1                                           0853347867     NaN  \n2               September 21, 2010  $29.95  1888861118     NaN  \n3               September 11, 2011  $11.45  1888861517     NaN  \n4               September 11, 2011  $15.00  1888861614     NaN  ",
      "text/html": "<div>\n<style scoped>\n    .dataframe tbody tr th:only-of-type {\n        vertical-align: middle;\n    }\n\n    .dataframe tbody tr th {\n        vertical-align: top;\n    }\n\n    .dataframe thead th {\n        text-align: right;\n    }\n</style>\n<table border=\"1\" class=\"dataframe\">\n  <thead>\n    <tr style=\"text-align: right;\">\n      <th></th>\n      <th>category</th>\n      <th>tech1</th>\n      <th>description</th>\n      <th>fit</th>\n      <th>title</th>\n      <th>also_buy</th>\n      <th>image</th>\n      <th>tech2</th>\n      <th>brand</th>\n      <th>feature</th>\n      <th>rank</th>\n      <th>also_view</th>\n      <th>main_cat</th>\n      <th>similar_item</th>\n      <th>date</th>\n      <th>price</th>\n      <th>asin</th>\n      <th>details</th>\n    </tr>\n  </thead>\n  <tbody>\n    <tr>\n      <th>0</th>\n      <td>[Grocery &amp; Gourmet Food, Dairy, Cheese &amp; Eggs,...</td>\n      <td></td>\n      <td>[BEEMSTER GOUDA CHEESE AGED 18/24 MONTHS, Stat...</td>\n      <td></td>\n      <td>Beemster Gouda - Aged 18/24 Months - App. 1.5 Lbs</td>\n      <td>[]</td>\n      <td>[]</td>\n      <td></td>\n      <td>Ariola Imports</td>\n      <td>[]</td>\n      <td>165,181 in Grocery &amp; Gourmet Food (</td>\n      <td>[B0000D9MYM, B0000D9MYL, B00ADHIGBA, B00H9OX59...</td>\n      <td>Grocery</td>\n      <td></td>\n      <td></td>\n      <td>$41.91</td>\n      <td>0681727810</td>\n      <td>NaN</td>\n    </tr>\n    <tr>\n      <th>1</th>\n      <td>[Grocery &amp; Gourmet Food, Cooking &amp; Baking, Sug...</td>\n      <td></td>\n      <td>[Shipped from UK, please allow 10 to 21 busine...</td>\n      <td></td>\n      <td>Trim Healthy Mama Xylitol</td>\n      <td>[B01898YHXK, B01BCM6LAC, B00Q4OL47O, B00Q4OL5Q...</td>\n      <td>[https://images-na.ssl-images-amazon.com/image...</td>\n      <td></td>\n      <td></td>\n      <td>[]</td>\n      <td>315,867 in Grocery &amp; Gourmet Food (</td>\n      <td>[]</td>\n      <td>Grocery</td>\n      <td></td>\n      <td></td>\n      <td></td>\n      <td>0853347867</td>\n      <td>NaN</td>\n    </tr>\n    <tr>\n      <th>2</th>\n      <td>[Grocery &amp; Gourmet Food, Cooking &amp; Baking, Fro...</td>\n      <td></td>\n      <td>[Jazz up your cakes with a sparkling monogram ...</td>\n      <td></td>\n      <td>Letter C - Swarovski Crystal Monogram Wedding ...</td>\n      <td>[]</td>\n      <td>[]</td>\n      <td></td>\n      <td>Unik Occasions</td>\n      <td>[]</td>\n      <td>[&gt;#669,941 in Kitchen &amp; Dining (See Top 100 in...</td>\n      <td>[B07DXN65TF]</td>\n      <td>Amazon Home</td>\n      <td></td>\n      <td>September 21, 2010</td>\n      <td>$29.95</td>\n      <td>1888861118</td>\n      <td>NaN</td>\n    </tr>\n    <tr>\n      <th>3</th>\n      <td>[Grocery &amp; Gourmet Food, Cooking &amp; Baking, Fro...</td>\n      <td></td>\n      <td>[Large Letter - Height 4.75\"]</td>\n      <td></td>\n      <td>Letter H - Swarovski Crystal Monogram Wedding ...</td>\n      <td>[]</td>\n      <td>[]</td>\n      <td></td>\n      <td>Other</td>\n      <td>[Large Letter - Height 4.75\"]</td>\n      <td>[&gt;#832,581 in Kitchen &amp; Dining (See Top 100 in...</td>\n      <td>[]</td>\n      <td>Amazon Home</td>\n      <td></td>\n      <td>September 11, 2011</td>\n      <td>$11.45</td>\n      <td>1888861517</td>\n      <td>NaN</td>\n    </tr>\n    <tr>\n      <th>4</th>\n      <td>[Grocery &amp; Gourmet Food, Cooking &amp; Baking, Fro...</td>\n      <td></td>\n      <td>[4.75\"]</td>\n      <td></td>\n      <td>Letter S - Swarovski Crystal Monogram Wedding ...</td>\n      <td>[]</td>\n      <td>[]</td>\n      <td></td>\n      <td>Unik Occasions</td>\n      <td>[4.75\" height]</td>\n      <td>[&gt;#590,999 in Kitchen &amp; Dining (See Top 100 in...</td>\n      <td>[]</td>\n      <td>Amazon Home</td>\n      <td></td>\n      <td>September 11, 2011</td>\n      <td>$15.00</td>\n      <td>1888861614</td>\n      <td>NaN</td>\n    </tr>\n  </tbody>\n</table>\n</div>"
     },
     "execution_count": 6,
     "metadata": {},
     "output_type": "execute_result"
    }
   ],
   "source": [
    "# Will use a pandas dataframe to explore and analyse data.\n",
    "grocery_data = pd.DataFrame.from_dict(data)\n",
    "grocery_data.head()"
   ],
   "metadata": {
    "collapsed": false,
    "pycharm": {
     "name": "#%%\n"
    }
   }
  },
  {
   "cell_type": "code",
   "execution_count": 7,
   "outputs": [
    {
     "name": "stdout",
     "output_type": "stream",
     "text": [
      "<class 'pandas.core.frame.DataFrame'>\n",
      "RangeIndex: 287051 entries, 0 to 287050\n",
      "Data columns (total 18 columns):\n",
      " #   Column        Non-Null Count   Dtype \n",
      "---  ------        --------------   ----- \n",
      " 0   category      287051 non-null  object\n",
      " 1   tech1         287051 non-null  object\n",
      " 2   description   287051 non-null  object\n",
      " 3   fit           287051 non-null  object\n",
      " 4   title         287051 non-null  object\n",
      " 5   also_buy      287051 non-null  object\n",
      " 6   image         287051 non-null  object\n",
      " 7   tech2         287051 non-null  object\n",
      " 8   brand         287051 non-null  object\n",
      " 9   feature       287051 non-null  object\n",
      " 10  rank          287051 non-null  object\n",
      " 11  also_view     287051 non-null  object\n",
      " 12  main_cat      287051 non-null  object\n",
      " 13  similar_item  287051 non-null  object\n",
      " 14  date          287051 non-null  object\n",
      " 15  price         287051 non-null  object\n",
      " 16  asin          287051 non-null  object\n",
      " 17  details       287027 non-null  object\n",
      "dtypes: object(18)\n",
      "memory usage: 39.4+ MB\n"
     ]
    }
   ],
   "source": [
    "# Overview of the data shows it already is pretty well defined.\n",
    "# Only the details column is missing (NaN) some values.\n",
    "grocery_data.info()"
   ],
   "metadata": {
    "collapsed": false,
    "pycharm": {
     "name": "#%%\n"
    }
   }
  },
  {
   "cell_type": "code",
   "execution_count": 8,
   "outputs": [
    {
     "data": {
      "text/plain": "<class 'str'>    287051\nName: price, dtype: int64"
     },
     "execution_count": 8,
     "metadata": {},
     "output_type": "execute_result"
    }
   ],
   "source": [
    "# added much later\n",
    "\n",
    "grocery_data['price'].apply(type).value_counts()"
   ],
   "metadata": {
    "collapsed": false,
    "pycharm": {
     "name": "#%%\n"
    }
   }
  },
  {
   "cell_type": "code",
   "execution_count": 9,
   "outputs": [
    {
     "data": {
      "text/plain": "category        False\ntech1           False\ndescription     False\nfit             False\ntitle           False\nalso_buy        False\nimage           False\ntech2           False\nbrand           False\nfeature         False\nrank            False\nalso_view       False\nmain_cat        False\nsimilar_item    False\ndate            False\nprice           False\nasin            False\ndetails          True\ndtype: bool"
     },
     "execution_count": 9,
     "metadata": {},
     "output_type": "execute_result"
    }
   ],
   "source": [
    "# Another way to see which features are missing values. \n",
    "# This is easier to read if there's a lot of columns and similar number counts.\n",
    "grocery_data.isnull().any()"
   ],
   "metadata": {
    "collapsed": false,
    "pycharm": {
     "name": "#%%\n"
    }
   }
  },
  {
   "cell_type": "code",
   "execution_count": 10,
   "outputs": [
    {
     "data": {
      "text/plain": "0         17\n1         17\n2         17\n3         17\n4         17\n          ..\n287046    18\n287047    18\n287048    18\n287049    18\n287050    18\nLength: 287051, dtype: int64"
     },
     "execution_count": 10,
     "metadata": {},
     "output_type": "execute_result"
    }
   ],
   "source": [
    "# The number of features for each item/row vary (17-18).\n",
    "grocery_data.count(1)"
   ],
   "metadata": {
    "collapsed": false,
    "pycharm": {
     "name": "#%%\n"
    }
   }
  },
  {
   "cell_type": "markdown",
   "source": [
    "### Observations and Questions\n",
    "- Think useful features will probably be title, also_buy, rank, also_view, similar_item, and date.\n",
    "- many special characters in multiple columns.\n",
    "- 'date' is full month dd, yyyy.\n",
    "- 'price' has $ appended.\n",
    "- Probably want to replace index with 'asin'.\n",
    "- From the numbers above it looks the various counts between columns, rows, and non-null values are consistent. However, looking at a small sample of the data it appears like more than just one value is null for several of the rows.\n",
    "\n",
    "Question 1) Why do the counts appear off?  \n",
    "- Is it because of whitespace? Don't think so because of the strip method when loading data. Also, selecting the cell area inside the dataframe doesn't highlight anything in these cells. However, it does select the text in non-empty cells.\n",
    "- Is it because they are blank? Assuming this is it for now.\n",
    "\n",
    "Question 2) Difference(s) for blank value versus blank list in Pandas?  \n",
    "Question 3) Is all currency in $. Also, is this in the actual data or is this a formatter in Pandas for this column?"
   ],
   "metadata": {
    "collapsed": false,
    "pycharm": {
     "name": "#%% md\n"
    }
   }
  },
  {
   "cell_type": "code",
   "execution_count": 11,
   "outputs": [],
   "source": [
    "# Make copy of dataframe to convert types and then analyze further below.\n",
    "# https://pbpython.com/pandas_dtypes.html\n",
    "\n",
    "grocery_data_copy = grocery_data.copy()\n"
   ],
   "metadata": {
    "collapsed": false,
    "pycharm": {
     "name": "#%%\n"
    }
   }
  },
  {
   "cell_type": "markdown",
   "source": [
    "## Explore Data<a id='Explore_Data' />\n",
    "### Find Data of Interest"
   ],
   "metadata": {
    "collapsed": false
   }
  },
  {
   "cell_type": "code",
   "execution_count": 12,
   "outputs": [
    {
     "name": "stdout",
     "output_type": "stream",
     "text": [
      "5537\n"
     ]
    }
   ],
   "source": [
    "# Interested in gluten free data because of diet restrictions.\n",
    "# Find all products whose title includes gluten free using 'standard' lists and loops.\n",
    "gluten_free_list = []\n",
    "for d in data:\n",
    "    if 'title' in d and 'gluten free' in d['title'].lower():\n",
    "        gluten_free_list.append(d)\n",
    "\n",
    "print(len(gluten_free_list))"
   ],
   "metadata": {
    "collapsed": false,
    "pycharm": {
     "name": "#%%\n"
    }
   }
  },
  {
   "cell_type": "code",
   "execution_count": 13,
   "outputs": [
    {
     "name": "stdout",
     "output_type": "stream",
     "text": [
      "Sans Sucre Mousse Mix Gluten Free, Strawberry\n",
      "Sans Sucre Chocolate Mousse Mix - Gluten Free\n",
      "Sans Sucre Cheesecake Mousse Mix - Gluten Free\n",
      "Sans Sucre Lemon Mousse Mix - Gluten Free\n",
      "Ajika Royal Basmati Pilaf Instant Meal, Side Dish, Gluten Free, No Salt or Msg\n",
      "Natures Plus Source of Life Energy Shake - Granola Flavor - 2.2 lbs Multivitamin, Mineral &amp; Protein Powder - Whole Food Meal Replacement - Non GMO, Vegetarian, Gluten Free - 26 Servings\n",
      "Borsari All Natural Seasoned Salt, Citrus Blend, Gluten Free, No MSG, 4 Ounce Shaker Bottle\n",
      "Natures Plus Spirutein Shake - Nutty Berry Burst Flavor - 2.4 lbs, Spirulina Protein Powder - Plant Based Meal Replacement, Vitamins &amp; Minerals for Energy - Vegetarian, Gluten Free - 30 Servings\n",
      "Nando's Medium PERi-PERi Sauce - Gluten Free | Non GMO | 4.7 Oz (2 Pack)\n",
      "Amish Country Popcorn - Medium Yellow Popcorn - Old Fashioned, Non GMO, and Gluten Free - with Recipe Guide and 1 Year Freshness Warranty (2 Pound Burlap)\n"
     ]
    }
   ],
   "source": [
    "# Example product titles.\n",
    "for d in gluten_free_list[:10]:\n",
    "    print(d['title'])"
   ],
   "metadata": {
    "collapsed": false,
    "pycharm": {
     "name": "#%%\n"
    }
   }
  },
  {
   "cell_type": "code",
   "execution_count": 14,
   "outputs": [
    {
     "data": {
      "text/plain": "category        5537\ntech1           5537\ndescription     5537\nfit             5537\ntitle           5537\nalso_buy        5537\nimage           5537\ntech2           5537\nbrand           5537\nfeature         5537\nrank            5537\nalso_view       5537\nmain_cat        5537\nsimilar_item    5537\ndate            5537\nprice           5537\nasin            5537\ndetails         5537\ndtype: int64"
     },
     "execution_count": 14,
     "metadata": {},
     "output_type": "execute_result"
    }
   ],
   "source": [
    "# The Pandas way of doing the above is less lines of code\n",
    "gluten_free_dataframe = grocery_data[grocery_data['title'].str.lower().str.contains('gluten free')]\n",
    "gluten_free_dataframe.count()"
   ],
   "metadata": {
    "collapsed": false,
    "pycharm": {
     "name": "#%%\n"
    }
   }
  },
  {
   "cell_type": "code",
   "execution_count": 15,
   "outputs": [
    {
     "data": {
      "text/plain": "1180        Sans Sucre Mousse Mix Gluten Free, Strawberry\n1184        Sans Sucre Chocolate Mousse Mix - Gluten Free\n1185       Sans Sucre Cheesecake Mousse Mix - Gluten Free\n1187            Sans Sucre Lemon Mousse Mix - Gluten Free\n1543    Ajika Royal Basmati Pilaf Instant Meal, Side D...\n1702    Natures Plus Source of Life Energy Shake - Gra...\n1704    Borsari All Natural Seasoned Salt, Citrus Blen...\n1717    Natures Plus Spirutein Shake - Nutty Berry Bur...\n1755    Nando's Medium PERi-PERi Sauce - Gluten Free |...\n1954    Amish Country Popcorn - Medium Yellow Popcorn ...\nName: title, dtype: object"
     },
     "execution_count": 15,
     "metadata": {},
     "output_type": "execute_result"
    }
   ],
   "source": [
    "gluten_free_dataframe.title.iloc[:10]"
   ],
   "metadata": {
    "collapsed": false,
    "pycharm": {
     "name": "#%%\n"
    }
   }
  },
  {
   "cell_type": "code",
   "execution_count": 16,
   "outputs": [
    {
     "data": {
      "text/plain": "                                                         255470  \\\ncategory        [Grocery & Gourmet Food, Frozen, Bread & Dough]   \ntech1                                                             \ndescription   [These are 100 percent USDA Certified organic,...   \nfit                                                               \ntitle         Brazi Bites, Brazilian Cheese Bread, Original,...   \nalso_buy      [B00FE9LC0O, B0047IG6OU, B000RULSYK, B078HRLNL...   \nimage         [https://images-na.ssl-images-amazon.com/image...   \ntech2                                                             \nbrand                                               Brazi Bites   \nfeature                                                      []   \nrank                                                         []   \nalso_view     [B008L1A0N2, B0764JXX6R, B00H301R34, B013SGABH...   \nmain_cat                                                Grocery   \nsimilar_item                                                      \ndate                                                              \nprice                                                             \nasin                                                 B014BCDF9U   \ndetails       {'\n    Product Dimensions: \n    ': '6 x 3 x 9 ...   \n\n                                                         266702  \ncategory        [Grocery & Gourmet Food, Snack Foods, Crackers]  \ntech1                                                            \ndescription   [Brazi Bites Original Brazilian Cheese Bread, ...  \nfit                                                              \ntitle         Brazi Bites Original Brazilian Cheese Bread, 1...  \nalso_buy                                                     []  \nimage         [https://images-na.ssl-images-amazon.com/image...  \ntech2                                                            \nbrand                                               Brazi Bites  \nfeature                                                      []  \nrank                        810,992 in Grocery & Gourmet Food (  \nalso_view     [B001ACMCNU, B008L1A0N2, B0764JXX6R, B00PBLEUF...  \nmain_cat                                                Grocery  \nsimilar_item                                                     \ndate                                                             \nprice                                                            \nasin                                                 B018SRGO24  \ndetails       {'Shipping Weight:': '10 pounds', 'ASIN: ': 'B...  ",
      "text/html": "<div>\n<style scoped>\n    .dataframe tbody tr th:only-of-type {\n        vertical-align: middle;\n    }\n\n    .dataframe tbody tr th {\n        vertical-align: top;\n    }\n\n    .dataframe thead th {\n        text-align: right;\n    }\n</style>\n<table border=\"1\" class=\"dataframe\">\n  <thead>\n    <tr style=\"text-align: right;\">\n      <th></th>\n      <th>255470</th>\n      <th>266702</th>\n    </tr>\n  </thead>\n  <tbody>\n    <tr>\n      <th>category</th>\n      <td>[Grocery &amp; Gourmet Food, Frozen, Bread &amp; Dough]</td>\n      <td>[Grocery &amp; Gourmet Food, Snack Foods, Crackers]</td>\n    </tr>\n    <tr>\n      <th>tech1</th>\n      <td></td>\n      <td></td>\n    </tr>\n    <tr>\n      <th>description</th>\n      <td>[These are 100 percent USDA Certified organic,...</td>\n      <td>[Brazi Bites Original Brazilian Cheese Bread, ...</td>\n    </tr>\n    <tr>\n      <th>fit</th>\n      <td></td>\n      <td></td>\n    </tr>\n    <tr>\n      <th>title</th>\n      <td>Brazi Bites, Brazilian Cheese Bread, Original,...</td>\n      <td>Brazi Bites Original Brazilian Cheese Bread, 1...</td>\n    </tr>\n    <tr>\n      <th>also_buy</th>\n      <td>[B00FE9LC0O, B0047IG6OU, B000RULSYK, B078HRLNL...</td>\n      <td>[]</td>\n    </tr>\n    <tr>\n      <th>image</th>\n      <td>[https://images-na.ssl-images-amazon.com/image...</td>\n      <td>[https://images-na.ssl-images-amazon.com/image...</td>\n    </tr>\n    <tr>\n      <th>tech2</th>\n      <td></td>\n      <td></td>\n    </tr>\n    <tr>\n      <th>brand</th>\n      <td>Brazi Bites</td>\n      <td>Brazi Bites</td>\n    </tr>\n    <tr>\n      <th>feature</th>\n      <td>[]</td>\n      <td>[]</td>\n    </tr>\n    <tr>\n      <th>rank</th>\n      <td>[]</td>\n      <td>810,992 in Grocery &amp; Gourmet Food (</td>\n    </tr>\n    <tr>\n      <th>also_view</th>\n      <td>[B008L1A0N2, B0764JXX6R, B00H301R34, B013SGABH...</td>\n      <td>[B001ACMCNU, B008L1A0N2, B0764JXX6R, B00PBLEUF...</td>\n    </tr>\n    <tr>\n      <th>main_cat</th>\n      <td>Grocery</td>\n      <td>Grocery</td>\n    </tr>\n    <tr>\n      <th>similar_item</th>\n      <td></td>\n      <td></td>\n    </tr>\n    <tr>\n      <th>date</th>\n      <td></td>\n      <td></td>\n    </tr>\n    <tr>\n      <th>price</th>\n      <td></td>\n      <td></td>\n    </tr>\n    <tr>\n      <th>asin</th>\n      <td>B014BCDF9U</td>\n      <td>B018SRGO24</td>\n    </tr>\n    <tr>\n      <th>details</th>\n      <td>{'\n    Product Dimensions: \n    ': '6 x 3 x 9 ...</td>\n      <td>{'Shipping Weight:': '10 pounds', 'ASIN: ': 'B...</td>\n    </tr>\n  </tbody>\n</table>\n</div>"
     },
     "execution_count": 16,
     "metadata": {},
     "output_type": "execute_result"
    }
   ],
   "source": [
    "# Finding specific brand I enjoy.\n",
    "# Even though this is gluten free it doesn't show up in the gluten free dataframe because 'gluten free' isn't in the title.\n",
    "brazi_bites = grocery_data[grocery_data['brand'].str.lower().str.contains('brazi bites')].T\n",
    "brazi_bites"
   ],
   "metadata": {
    "collapsed": false,
    "pycharm": {
     "name": "#%%\n"
    }
   }
  },
  {
   "cell_type": "markdown",
   "source": [
    "### Observations and Questions\n",
    "- Probably want to replace index with 'asin'.\n",
    "- Will try to use only pandas' logic going forward in notebooks.\n",
    "- So far haven't found any values in 'tech1', 'fit', 'tech2', or 'similar_item'.\n",
    "- Related to Question #1 There are definitely more missing/blank values than what the initial information revealed. Will need to research further."
   ],
   "metadata": {
    "collapsed": false,
    "pycharm": {
     "name": "#%% md\n"
    }
   }
  },
  {
   "cell_type": "markdown",
   "source": [
    "Even though there are missing values in the data I'm interested there isn't appear to be enough data to justify only analyzing gluten fee items.\n",
    "Therefore, shouldn't need to worry about dropping columns just based off the information I'm interested in. Instead, will worry about dropping based off of no data."
   ],
   "metadata": {
    "collapsed": false,
    "pycharm": {
     "name": "#%% md\n"
    }
   }
  },
  {
   "cell_type": "code",
   "execution_count": 17,
   "outputs": [
    {
     "data": {
      "text/plain": "              count         %\ndetails          24  0.008361\ntech1             0  0.000000\nasin              0  0.000000\nprice             0  0.000000\ndate              0  0.000000\nsimilar_item      0  0.000000\nmain_cat          0  0.000000\nalso_view         0  0.000000\nrank              0  0.000000\ncategory          0  0.000000\nbrand             0  0.000000\ntech2             0  0.000000\nimage             0  0.000000\nalso_buy          0  0.000000\ntitle             0  0.000000\nfit               0  0.000000\ndescription       0  0.000000\nfeature           0  0.000000",
      "text/html": "<div>\n<style scoped>\n    .dataframe tbody tr th:only-of-type {\n        vertical-align: middle;\n    }\n\n    .dataframe tbody tr th {\n        vertical-align: top;\n    }\n\n    .dataframe thead th {\n        text-align: right;\n    }\n</style>\n<table border=\"1\" class=\"dataframe\">\n  <thead>\n    <tr style=\"text-align: right;\">\n      <th></th>\n      <th>count</th>\n      <th>%</th>\n    </tr>\n  </thead>\n  <tbody>\n    <tr>\n      <th>details</th>\n      <td>24</td>\n      <td>0.008361</td>\n    </tr>\n    <tr>\n      <th>tech1</th>\n      <td>0</td>\n      <td>0.000000</td>\n    </tr>\n    <tr>\n      <th>asin</th>\n      <td>0</td>\n      <td>0.000000</td>\n    </tr>\n    <tr>\n      <th>price</th>\n      <td>0</td>\n      <td>0.000000</td>\n    </tr>\n    <tr>\n      <th>date</th>\n      <td>0</td>\n      <td>0.000000</td>\n    </tr>\n    <tr>\n      <th>similar_item</th>\n      <td>0</td>\n      <td>0.000000</td>\n    </tr>\n    <tr>\n      <th>main_cat</th>\n      <td>0</td>\n      <td>0.000000</td>\n    </tr>\n    <tr>\n      <th>also_view</th>\n      <td>0</td>\n      <td>0.000000</td>\n    </tr>\n    <tr>\n      <th>rank</th>\n      <td>0</td>\n      <td>0.000000</td>\n    </tr>\n    <tr>\n      <th>category</th>\n      <td>0</td>\n      <td>0.000000</td>\n    </tr>\n    <tr>\n      <th>brand</th>\n      <td>0</td>\n      <td>0.000000</td>\n    </tr>\n    <tr>\n      <th>tech2</th>\n      <td>0</td>\n      <td>0.000000</td>\n    </tr>\n    <tr>\n      <th>image</th>\n      <td>0</td>\n      <td>0.000000</td>\n    </tr>\n    <tr>\n      <th>also_buy</th>\n      <td>0</td>\n      <td>0.000000</td>\n    </tr>\n    <tr>\n      <th>title</th>\n      <td>0</td>\n      <td>0.000000</td>\n    </tr>\n    <tr>\n      <th>fit</th>\n      <td>0</td>\n      <td>0.000000</td>\n    </tr>\n    <tr>\n      <th>description</th>\n      <td>0</td>\n      <td>0.000000</td>\n    </tr>\n    <tr>\n      <th>feature</th>\n      <td>0</td>\n      <td>0.000000</td>\n    </tr>\n  </tbody>\n</table>\n</div>"
     },
     "execution_count": 17,
     "metadata": {},
     "output_type": "execute_result"
    }
   ],
   "source": [
    "missing = pd.concat([grocery_data.isnull().sum(), 100 * grocery_data.isnull().mean()], axis=1)\n",
    "missing.columns=['count', '%']\n",
    "missing.sort_values(by=['count'], ascending=False)"
   ],
   "metadata": {
    "collapsed": false,
    "pycharm": {
     "name": "#%%\n"
    }
   }
  },
  {
   "cell_type": "markdown",
   "source": [
    "This check also shows that hardly any data is missing. This is desired; however, it doesn't seem to be correct."
   ],
   "metadata": {
    "collapsed": false,
    "pycharm": {
     "name": "#%% md\n"
    }
   }
  },
  {
   "cell_type": "code",
   "execution_count": 18,
   "outputs": [
    {
     "name": "stdout",
     "output_type": "stream",
     "text": [
      "tech1 should have a length: Int64Index([  1180,   1184,   1185,   1187,   1543,   1702,   1704,   1717,\n",
      "              1755,   1954,\n",
      "            ...\n",
      "            286670, 286675, 286709, 286740, 286771, 286845, 286947, 286981,\n",
      "            287001, 287009],\n",
      "           dtype='int64', length=5534)\n",
      "asin should not have anything: Int64Index([], dtype='int64')\n"
     ]
    }
   ],
   "source": [
    "# Researching on a smaller data set to see what is happening.\n",
    "\n",
    "tech1_has_blanks = gluten_free_dataframe[gluten_free_dataframe['tech1'] == ''].index\n",
    "print('tech1 should have a length:', tech1_has_blanks)\n",
    "\n",
    "asin_no_blanks = gluten_free_dataframe[gluten_free_dataframe['asin'] == ''].index\n",
    "print('asin should not have anything:', asin_no_blanks)"
   ],
   "metadata": {
    "collapsed": false,
    "pycharm": {
     "name": "#%%\n"
    }
   }
  },
  {
   "cell_type": "markdown",
   "source": [
    "### Answer to Question #1\n",
    "Why do the counts appear off?  \n",
    "The problem cells are blank."
   ],
   "metadata": {
    "collapsed": false,
    "pycharm": {
     "name": "#%% md\n"
    }
   }
  },
  {
   "cell_type": "code",
   "execution_count": 19,
   "outputs": [
    {
     "name": "stdout",
     "output_type": "stream",
     "text": [
      "<class 'pandas.core.frame.DataFrame'>\n",
      "Int64Index: 5537 entries, 1180 to 287009\n",
      "Data columns (total 18 columns):\n",
      " #   Column        Non-Null Count  Dtype  \n",
      "---  ------        --------------  -----  \n",
      " 0   category      5537 non-null   object \n",
      " 1   tech1         3 non-null      object \n",
      " 2   description   5537 non-null   object \n",
      " 3   fit           0 non-null      float64\n",
      " 4   title         5537 non-null   object \n",
      " 5   also_buy      5537 non-null   object \n",
      " 6   image         5537 non-null   object \n",
      " 7   tech2         0 non-null      float64\n",
      " 8   brand         5379 non-null   object \n",
      " 9   feature       5537 non-null   object \n",
      " 10  rank          5537 non-null   object \n",
      " 11  also_view     5537 non-null   object \n",
      " 12  main_cat      5531 non-null   object \n",
      " 13  similar_item  4 non-null      object \n",
      " 14  date          13 non-null     object \n",
      " 15  price         2652 non-null   object \n",
      " 16  asin          5537 non-null   object \n",
      " 17  details       5537 non-null   object \n",
      "dtypes: float64(2), object(16)\n",
      "memory usage: 821.9+ KB\n"
     ]
    }
   ],
   "source": [
    "# One way to solve the problem.\n",
    "\n",
    "example_fix = gluten_free_dataframe.replace('', np.nan)\n",
    "example_fix.info()"
   ],
   "metadata": {
    "collapsed": false,
    "pycharm": {
     "name": "#%%\n"
    }
   }
  },
  {
   "cell_type": "markdown",
   "source": [
    "This only fixed the issues with single cells. Blank lists are still an issue."
   ],
   "metadata": {
    "collapsed": false,
    "pycharm": {
     "name": "#%% md\n"
    }
   }
  },
  {
   "cell_type": "code",
   "execution_count": 20,
   "outputs": [
    {
     "name": "stdout",
     "output_type": "stream",
     "text": [
      "<class 'pandas.core.frame.DataFrame'>\n",
      "Int64Index: 5537 entries, 1180 to 287009\n",
      "Data columns (total 18 columns):\n",
      " #   Column        Non-Null Count  Dtype \n",
      "---  ------        --------------  ----- \n",
      " 0   category      5537 non-null   object\n",
      " 1   tech1         5537 non-null   object\n",
      " 2   description   5537 non-null   object\n",
      " 3   fit           5537 non-null   object\n",
      " 4   title         5537 non-null   object\n",
      " 5   also_buy      5537 non-null   object\n",
      " 6   image         5537 non-null   object\n",
      " 7   tech2         5537 non-null   object\n",
      " 8   brand         5537 non-null   object\n",
      " 9   feature       5537 non-null   object\n",
      " 10  rank          5264 non-null   object\n",
      " 11  also_view     5537 non-null   object\n",
      " 12  main_cat      5537 non-null   object\n",
      " 13  similar_item  5537 non-null   object\n",
      " 14  date          5537 non-null   object\n",
      " 15  price         5537 non-null   object\n",
      " 16  asin          5537 non-null   object\n",
      " 17  details       5537 non-null   object\n",
      "dtypes: object(18)\n",
      "memory usage: 821.9+ KB\n"
     ]
    },
    {
     "name": "stderr",
     "output_type": "stream",
     "text": [
      "<ipython-input-20-f5e3fcb334de>:2: SettingWithCopyWarning: \n",
      "A value is trying to be set on a copy of a slice from a DataFrame.\n",
      "Try using .loc[row_indexer,col_indexer] = value instead\n",
      "\n",
      "See the caveats in the documentation: https://pandas.pydata.org/pandas-docs/stable/user_guide/indexing.html#returning-a-view-versus-a-copy\n",
      "  gluten_free_dataframe['rank'] = gluten_free_dataframe['rank'].apply(lambda x: np.nan if len(x)==0 else x)\n"
     ]
    }
   ],
   "source": [
    "# Example of possible fix for 'rank' (object of blank values in lists).\n",
    "gluten_free_dataframe['rank'] = gluten_free_dataframe['rank'].apply(lambda x: np.nan if len(x)==0 else x)\n",
    "gluten_free_dataframe.info()"
   ],
   "metadata": {
    "collapsed": false,
    "pycharm": {
     "name": "#%%\n"
    }
   }
  },
  {
   "cell_type": "markdown",
   "source": [
    "### Answer to Question #2\n",
    "Difference(s) for blank value versus blank list in Pandas?  \n",
    "Answer: The list is actually an object. Can fix the data for the list using series functions. To fix the blank values can use dataframe functions."
   ],
   "metadata": {
    "collapsed": false,
    "pycharm": {
     "name": "#%% md\n"
    }
   }
  },
  {
   "cell_type": "markdown",
   "source": [
    "### Observations and Questions\n",
    "- Running the lambda function above can only happen one time per session. Running just that cell multiple times results in an error.\n",
    "\n",
    "Question 4) Is this common? Should I handle this scenario or is it expected everything will only run once in sequence?\n"
   ],
   "metadata": {
    "collapsed": false,
    "pycharm": {
     "name": "#%% md\n"
    }
   }
  },
  {
   "cell_type": "code",
   "execution_count": 21,
   "outputs": [
    {
     "name": "stderr",
     "output_type": "stream",
     "text": [
      "<ipython-input-21-de3f277af295>:1: SettingWithCopyWarning: \n",
      "A value is trying to be set on a copy of a slice from a DataFrame.\n",
      "Try using .loc[row_indexer,col_indexer] = value instead\n",
      "\n",
      "See the caveats in the documentation: https://pandas.pydata.org/pandas-docs/stable/user_guide/indexing.html#returning-a-view-versus-a-copy\n",
      "  research_dollar_sign = gluten_free_dataframe['price'] = gluten_free_dataframe.apply(lambda x: x['price'].replace('$', '').replace(',', ''), axis=1)\n"
     ]
    },
    {
     "data": {
      "text/plain": "1180       5.49\n1184       5.49\n1185       5.49\n1187       5.49\n1543           \n          ...  \n286845    28.50\n286947         \n286981         \n287001         \n287009    20.99\nLength: 5537, dtype: object"
     },
     "execution_count": 21,
     "metadata": {},
     "output_type": "execute_result"
    }
   ],
   "source": [
    "research_dollar_sign = gluten_free_dataframe['price'] = gluten_free_dataframe.apply(lambda x: x['price'].replace('$', '').replace(',', ''), axis=1)\n",
    "research_dollar_sign"
   ],
   "metadata": {
    "collapsed": false,
    "pycharm": {
     "name": "#%%\n"
    }
   }
  },
  {
   "cell_type": "markdown",
   "source": [
    "### Answer to Question 3\n",
    "Is all currency in $. Also, is this in the actual data or is this a formatter in Pandas for this column?\n",
    "\n",
    "All prices that had values were in '$' that were actually in the data.\n",
    "See the references section below for a helpful article and this solution.\n"
   ],
   "metadata": {
    "collapsed": false,
    "pycharm": {
     "name": "#%% md\n"
    }
   }
  },
  {
   "cell_type": "code",
   "execution_count": 22,
   "outputs": [
    {
     "data": {
      "text/plain": "B00028OHI6    2\nB0000CNU55    2\nB00028LFUY    2\nB0002VLEUM    2\nB0002DUMZI    2\n             ..\nB0001J2NFK    2\nB0001FQUMQ    2\nB009ZAL17M    1\nB0072DN0FA    1\nB00BUVMK9C    1\nName: asin, Length: 3700, dtype: int64"
     },
     "execution_count": 22,
     "metadata": {},
     "output_type": "execute_result"
    }
   ],
   "source": [
    "# Thought 'asin' values were unique; however, they aren't.\n",
    "grocery_data['asin'].value_counts().head(3700)"
   ],
   "metadata": {
    "collapsed": false,
    "pycharm": {
     "name": "#%%\n"
    }
   }
  },
  {
   "cell_type": "code",
   "execution_count": 23,
   "outputs": [
    {
     "data": {
      "text/plain": "                                               category tech1  \\\n2480  [Grocery & Gourmet Food, Herbs, Spices & Seaso...         \n6177  [Grocery & Gourmet Food, Herbs, Spices & Seaso...         \n\n                                            description fit  \\\n2480  [Seasoning Pizza. It is a high quality healthy...       \n6177  [Seasoning Pizza. It is a high quality healthy...       \n\n                                                  title  \\\n2480  Frontier Natural Products Pizza Seasoning -- 1...   \n6177  Frontier Natural Products Pizza Seasoning -- 1...   \n\n                                               also_buy image tech2     brand  \\\n2480  [B0001M10ZG, B001VNKT0Q, B001VNGKAO, B00GCDPLC...    []        Frontier   \n6177  [B0001M10ZG, B001VNKT0Q, B001VNGKAO, B00GCDPLC...    []        Frontier   \n\n     feature                                rank  \\\n2480      []  56,442 in Grocery & Gourmet Food (   \n6177      []  56,442 in Grocery & Gourmet Food (   \n\n                                              also_view main_cat similar_item  \\\n2480  [B0001M10ZG, B076THTQ1K, B00DUF3CHU, B000WR2GN...  Grocery                \n6177  [B0001M10ZG, B076THTQ1K, B00DUF3CHU, B000WR2GN...  Grocery                \n\n     date   price        asin  \\\n2480       $14.99  B0001M0YTO   \n6177       $14.99  B0001M0YTO   \n\n                                                details  \n2480  {'\n    Product Dimensions: \n    ': '4 x 4 x 10...  \n6177  {'\n    Product Dimensions: \n    ': '4 x 4 x 10...  ",
      "text/html": "<div>\n<style scoped>\n    .dataframe tbody tr th:only-of-type {\n        vertical-align: middle;\n    }\n\n    .dataframe tbody tr th {\n        vertical-align: top;\n    }\n\n    .dataframe thead th {\n        text-align: right;\n    }\n</style>\n<table border=\"1\" class=\"dataframe\">\n  <thead>\n    <tr style=\"text-align: right;\">\n      <th></th>\n      <th>category</th>\n      <th>tech1</th>\n      <th>description</th>\n      <th>fit</th>\n      <th>title</th>\n      <th>also_buy</th>\n      <th>image</th>\n      <th>tech2</th>\n      <th>brand</th>\n      <th>feature</th>\n      <th>rank</th>\n      <th>also_view</th>\n      <th>main_cat</th>\n      <th>similar_item</th>\n      <th>date</th>\n      <th>price</th>\n      <th>asin</th>\n      <th>details</th>\n    </tr>\n  </thead>\n  <tbody>\n    <tr>\n      <th>2480</th>\n      <td>[Grocery &amp; Gourmet Food, Herbs, Spices &amp; Seaso...</td>\n      <td></td>\n      <td>[Seasoning Pizza. It is a high quality healthy...</td>\n      <td></td>\n      <td>Frontier Natural Products Pizza Seasoning -- 1...</td>\n      <td>[B0001M10ZG, B001VNKT0Q, B001VNGKAO, B00GCDPLC...</td>\n      <td>[]</td>\n      <td></td>\n      <td>Frontier</td>\n      <td>[]</td>\n      <td>56,442 in Grocery &amp; Gourmet Food (</td>\n      <td>[B0001M10ZG, B076THTQ1K, B00DUF3CHU, B000WR2GN...</td>\n      <td>Grocery</td>\n      <td></td>\n      <td></td>\n      <td>$14.99</td>\n      <td>B0001M0YTO</td>\n      <td>{'\n    Product Dimensions: \n    ': '4 x 4 x 10...</td>\n    </tr>\n    <tr>\n      <th>6177</th>\n      <td>[Grocery &amp; Gourmet Food, Herbs, Spices &amp; Seaso...</td>\n      <td></td>\n      <td>[Seasoning Pizza. It is a high quality healthy...</td>\n      <td></td>\n      <td>Frontier Natural Products Pizza Seasoning -- 1...</td>\n      <td>[B0001M10ZG, B001VNKT0Q, B001VNGKAO, B00GCDPLC...</td>\n      <td>[]</td>\n      <td></td>\n      <td>Frontier</td>\n      <td>[]</td>\n      <td>56,442 in Grocery &amp; Gourmet Food (</td>\n      <td>[B0001M10ZG, B076THTQ1K, B00DUF3CHU, B000WR2GN...</td>\n      <td>Grocery</td>\n      <td></td>\n      <td></td>\n      <td>$14.99</td>\n      <td>B0001M0YTO</td>\n      <td>{'\n    Product Dimensions: \n    ': '4 x 4 x 10...</td>\n    </tr>\n  </tbody>\n</table>\n</div>"
     },
     "execution_count": 23,
     "metadata": {},
     "output_type": "execute_result"
    }
   ],
   "source": [
    "# Spot checked some and it looks like these are just duplicates in the data of the same thing; only the index is different..\n",
    "# Also, percentage wise the majority of the 'asin' number are unique so should be ok to use as id.\n",
    "grocery_data[grocery_data['asin'] == 'B0001M0YTO']"
   ],
   "metadata": {
    "collapsed": false,
    "pycharm": {
     "name": "#%%\n"
    }
   }
  },
  {
   "cell_type": "markdown",
   "source": [
    "### Question 5) What is the best way of handling the duplicate 'asin'?\n",
    "- Will making the 'asin' the index automatically merge the duplicates?\n",
    "- Should half of them be deleted first?\n",
    "- Should all of them be deleted since they are less than 1.5% of the data?"
   ],
   "metadata": {
    "collapsed": false,
    "pycharm": {
     "name": "#%% md\n"
    }
   }
  },
  {
   "cell_type": "code",
   "execution_count": 24,
   "outputs": [
    {
     "data": {
      "text/plain": "                        11419\nUnknown                  1780\nBlack Tie Mercantile     1458\nTrader Joe's             1234\nMcCormick                1041\n                        ...  \nJT's cart                   1\nWide Awake                  1\nTartuflanghe                1\nChuanzhiwei                 1\nBlenheim Ginger Ale         1\nName: brand, Length: 38904, dtype: int64"
     },
     "execution_count": 24,
     "metadata": {},
     "output_type": "execute_result"
    }
   ],
   "source": [
    "# # Most common brands.\n",
    "grocery_data['brand'].value_counts()"
   ],
   "metadata": {
    "collapsed": false,
    "pycharm": {
     "name": "#%%\n"
    }
   }
  },
  {
   "cell_type": "code",
   "execution_count": 25,
   "outputs": [
    {
     "data": {
      "text/plain": "[Grocery & Gourmet Food, Beverages, Coffee, Tea & Cocoa, Tea, Tea Samplers]                                                                                                                                                                                               7609\n[Grocery & Gourmet Food, Candy & Chocolate, Candy & Chocolate Bars]                                                                                                                                                                                                       7512\n[Grocery & Gourmet Food, Beverages, Coffee, Tea & Cocoa, Coffee, Single-Serve Capsules & Pods]                                                                                                                                                                            6745\n[Grocery & Gourmet Food, Beverages, Coffee, Tea & Cocoa, Coffee, Ground Coffee]                                                                                                                                                                                           5326\n[Grocery & Gourmet Food, Cooking & Baking, Frosting, Icing & Decorations, Cake & Cupcake Toppers, Cake Toppers]                                                                                                                                                           4821\n                                                                                                                                                                                                                                                                          ... \n[Grocery & Gourmet Food, Frozen, Ice Cream & Novelties, Features of this item include: 1/2 Zip, Cotton, Presidents Day Apparel, Winter Blowout Apparel]                                                                                                                      1\n[Grocery & Gourmet Food, Jams, Jellies & Sweet Spreads, Nut & Seed Butters, Peanut Butter, Handmade with polymer clay, 16\" Silver Ball Chain Necklace]                                                                                                                       1\n[Grocery & Gourmet Food, Dairy, Cheese & Eggs, Cheese, Paneer]                                                                                                                                                                                                               1\n[Grocery & Gourmet Food, Beverages, Bottled Beverages, Water & Drink Mixes, Powdered Drink Mixes & Flavorings, Powdered Drink Mixes, Soft Drink Mixes, 100% Polyvinyl Chloride, Imported, fabric lining, magnetic closure, 8\" shoulder drop, 11.75\" high, 12.25\" wide]       1\n[Grocery & Gourmet Food, Meat & Seafood, Beef, Steaks, Eye of Round]                                                                                                                                                                                                         1\nName: category, Length: 1355, dtype: int64"
     },
     "execution_count": 25,
     "metadata": {},
     "output_type": "execute_result"
    }
   ],
   "source": [
    "# Look to see what the most common categories are.\n",
    "grocery_data['category'].value_counts()"
   ],
   "metadata": {
    "collapsed": false,
    "pycharm": {
     "name": "#%%\n"
    }
   }
  },
  {
   "cell_type": "code",
   "execution_count": 26,
   "outputs": [
    {
     "data": {
      "text/plain": "1180      [Grocery & Gourmet Food, Cooking & Baking, Pud...\n1184      [Grocery & Gourmet Food, Cooking & Baking, Pud...\n1185       [Grocery & Gourmet Food, Breads & Bakery, Cakes]\n1187      [Grocery & Gourmet Food, Cooking & Baking, Pud...\n1543      [Grocery & Gourmet Food, Dried Beans, Grains &...\n                                ...                        \n286845    [Grocery & Gourmet Food, Breads & Bakery, Brea...\n286947    [Grocery & Gourmet Food, Snack Foods, Fruit Sn...\n286981    [Grocery & Gourmet Food, Breakfast Foods, Brea...\n287001    [Grocery & Gourmet Food, Snack Foods, Snack & ...\n287009    [Grocery & Gourmet Food, Snack Foods, Jerky & ...\nName: category, Length: 5537, dtype: object"
     },
     "execution_count": 26,
     "metadata": {},
     "output_type": "execute_result"
    }
   ],
   "source": [
    "gluten_free_dataframe['category']"
   ],
   "metadata": {
    "collapsed": false,
    "pycharm": {
     "name": "#%%\n"
    }
   }
  },
  {
   "cell_type": "code",
   "execution_count": 27,
   "outputs": [
    {
     "data": {
      "text/plain": "category        object\ntech1           object\ndescription     object\nfit             object\ntitle           object\nalso_buy        object\nimage           object\ntech2           object\nbrand           object\nfeature         object\nrank            object\nalso_view       object\nmain_cat        object\nsimilar_item    object\ndate            object\nprice           object\nasin            object\ndetails         object\ndtype: object"
     },
     "execution_count": 27,
     "metadata": {},
     "output_type": "execute_result"
    }
   ],
   "source": [
    "gluten_free_dataframe.dtypes"
   ],
   "metadata": {
    "collapsed": false,
    "pycharm": {
     "name": "#%%\n"
    }
   }
  },
  {
   "cell_type": "code",
   "execution_count": 28,
   "outputs": [],
   "source": [
    "# This results isn't helpful because the column values are in a list.  \n",
    "# Tested various possible solutions on a smaller sample set. This one worked as desired.\n",
    "# test = gluten_free_dataframe['category'].astype(str)\n",
    "# test = gluten_free_dataframe['category'].apply(eval)\n",
    "# test.value_counts()\n",
    "# gluten_free_dataframe.explode('category')\n",
    "# gluten_free_dataframe['category']"
   ],
   "metadata": {
    "collapsed": false,
    "pycharm": {
     "name": "#%%\n"
    }
   }
  },
  {
   "cell_type": "markdown",
   "source": [
    "# Copy data types to convert, then analyze"
   ],
   "metadata": {
    "collapsed": false,
    "pycharm": {
     "name": "#%% md\n"
    }
   }
  },
  {
   "cell_type": "code",
   "execution_count": 29,
   "outputs": [],
   "source": [
    "# Note: This has many additional checks and concepts added in different ways for learning purposes.\n",
    "def convert_currency(val: str) -> float:\n",
    "    \"\"\"\n",
    "    Converts input to string and output to Decimal (an accurate float for currency).\n",
    "     - Remove $ and commas.\n",
    "     - Change number ranges into np.NaN.\n",
    "     - Change other problem characters to np.NaN.\n",
    "     - All values must already be in the same currency.\n",
    "    \"\"\"\n",
    "    new_val = str(val)\n",
    "    \n",
    "    # Changing problem values such as HTML and blanks to np.NaN as soon as possible.\n",
    "    # TODO: best way to handle performance for these checks?\n",
    "    if new_val == '':\n",
    "        return np.NaN\n",
    "    if ('/' in new_val) | ('{' in new_val) | ('}' in new_val) | ('<' in new_val) | ('>' in new_val):\n",
    "        logging.info(f\"Converting problem character(s) to np.NaN. Original: {new_val}\")\n",
    "        return np.NaN\n",
    "    # TODO: Could change to the min, mean, or max price in the future.\n",
    "    if ' - ' in new_val:\n",
    "        logging.warning(f\"Converting range of numbers to np.NaN. Original: {new_val}\")\n",
    "        return np.NaN\n",
    "        \n",
    "    # If other common problem characters are found in the data they should be removed here.\n",
    "    # The exception is other currency symbols because that will remove key meaning from the data.\n",
    "    new_val = new_val.replace(',','').replace('$', '')\n",
    "    \n",
    "    # Return the desired output or provide a warning.\n",
    "    try:\n",
    "        new_val = round(float(new_val), 2)\n",
    "        return new_val\n",
    "    except ValueError:\n",
    "        # This is a type of issue the user can fix on a case by case basis.\n",
    "        logging.warning(f\"\"\"\n",
    "            WARNING: The new value cannot be converted. Only numbers and '.' are allowed in the data.\n",
    "            - If there are values in multiple currencies the data must be converted into just $ first.\n",
    "            - Most likely this problem is because of unexpected character(s) at: {val}.  \n",
    "        \"\"\")\n",
    "        raise ValueError\n",
    "        # Returning the original input so the non problem values can still be processed.\n",
    "        # return val"
   ],
   "metadata": {
    "collapsed": false,
    "pycharm": {
     "name": "#%%\n"
    }
   }
  },
  {
   "cell_type": "code",
   "execution_count": 30,
   "outputs": [
    {
     "name": "stdout",
     "output_type": "stream",
     "text": [
      "<class 'pandas.core.frame.DataFrame'>\n",
      "RangeIndex: 287051 entries, 0 to 287050\n",
      "Data columns (total 18 columns):\n",
      " #   Column        Non-Null Count   Dtype \n",
      "---  ------        --------------   ----- \n",
      " 0   category      287051 non-null  object\n",
      " 1   tech1         287051 non-null  object\n",
      " 2   description   287051 non-null  object\n",
      " 3   fit           287051 non-null  object\n",
      " 4   title         287051 non-null  object\n",
      " 5   also_buy      287051 non-null  object\n",
      " 6   image         287051 non-null  object\n",
      " 7   tech2         287051 non-null  object\n",
      " 8   brand         287051 non-null  object\n",
      " 9   feature       287051 non-null  object\n",
      " 10  rank          287051 non-null  object\n",
      " 11  also_view     287051 non-null  object\n",
      " 12  main_cat      287051 non-null  object\n",
      " 13  similar_item  287051 non-null  object\n",
      " 14  date          287051 non-null  object\n",
      " 15  price         287051 non-null  object\n",
      " 16  asin          287051 non-null  object\n",
      " 17  details       287027 non-null  object\n",
      "dtypes: object(18)\n",
      "memory usage: 39.4+ MB\n"
     ]
    }
   ],
   "source": [
    "grocery_data_copy.info()"
   ],
   "metadata": {
    "collapsed": false,
    "pycharm": {
     "name": "#%%\n"
    }
   }
  },
  {
   "cell_type": "code",
   "execution_count": 31,
   "outputs": [],
   "source": [
    "# testing\n",
    "# grocery_data_copy = grocery_data_copy.fillna('')"
   ],
   "metadata": {
    "collapsed": false,
    "pycharm": {
     "name": "#%%\n"
    }
   }
  },
  {
   "cell_type": "code",
   "execution_count": 32,
   "outputs": [
    {
     "name": "stderr",
     "output_type": "stream",
     "text": [
      "WARNING:root:Converting range of numbers to np.NaN. Original: $9.97 - $137.08\n",
      "WARNING:root:Converting range of numbers to np.NaN. Original: $10.00 - $81.99\n",
      "WARNING:root:Converting range of numbers to np.NaN. Original: $12.47 - $109.99\n",
      "WARNING:root:Converting range of numbers to np.NaN. Original: $19.49 - $36.50\n",
      "WARNING:root:Converting range of numbers to np.NaN. Original: $20.08 - $43.41\n",
      "WARNING:root:Converting range of numbers to np.NaN. Original: $9.88 - $32.00\n",
      "WARNING:root:Converting range of numbers to np.NaN. Original: $12.99 - $148.76\n",
      "WARNING:root:Converting range of numbers to np.NaN. Original: $8.98 - $59.01\n",
      "WARNING:root:Converting range of numbers to np.NaN. Original: $15.49 - $40.84\n",
      "WARNING:root:Converting range of numbers to np.NaN. Original: $21.00 - $192.46\n",
      "WARNING:root:Converting range of numbers to np.NaN. Original: $11.70 - $71.99\n",
      "WARNING:root:Converting range of numbers to np.NaN. Original: $4.89 - $31.47\n",
      "WARNING:root:Converting range of numbers to np.NaN. Original: $9.90 - $21.95\n",
      "WARNING:root:Converting range of numbers to np.NaN. Original: $17.24 - $39.20\n",
      "WARNING:root:Converting range of numbers to np.NaN. Original: $35.50 - $229.99\n",
      "WARNING:root:Converting range of numbers to np.NaN. Original: $38.00 - $49.99\n",
      "WARNING:root:Converting range of numbers to np.NaN. Original: $17.34 - $34.99\n",
      "WARNING:root:Converting range of numbers to np.NaN. Original: $8.25 - $139.74\n",
      "WARNING:root:Converting range of numbers to np.NaN. Original: $5.70 - $57.99\n",
      "WARNING:root:Converting range of numbers to np.NaN. Original: $54.99 - $815.63\n",
      "WARNING:root:Converting range of numbers to np.NaN. Original: $38.00 - $885.00\n",
      "WARNING:root:Converting range of numbers to np.NaN. Original: $38.00 - $841.25\n",
      "WARNING:root:Converting range of numbers to np.NaN. Original: $38.49 - $499.74\n",
      "WARNING:root:Converting range of numbers to np.NaN. Original: $18.99 - $239.72\n",
      "WARNING:root:Converting range of numbers to np.NaN. Original: $18.20 - $90.00\n",
      "WARNING:root:Converting range of numbers to np.NaN. Original: $34.99 - $543.75\n",
      "WARNING:root:Converting range of numbers to np.NaN. Original: $44.99 - $574.88\n",
      "WARNING:root:Converting range of numbers to np.NaN. Original: $16.90 - $157.17\n",
      "WARNING:root:Converting range of numbers to np.NaN. Original: $38.49 - $500.00\n",
      "WARNING:root:Converting range of numbers to np.NaN. Original: $36.05 - $500.00\n",
      "WARNING:root:Converting range of numbers to np.NaN. Original: $29.99 - $337.08\n",
      "WARNING:root:Converting range of numbers to np.NaN. Original: $25.80 - $499.74\n",
      "WARNING:root:Converting range of numbers to np.NaN. Original: $16.80 - $255.94\n",
      "WARNING:root:Converting range of numbers to np.NaN. Original: $11.49 - $59.99\n",
      "WARNING:root:Converting range of numbers to np.NaN. Original: $38.00 - $814.38\n",
      "WARNING:root:Converting range of numbers to np.NaN. Original: $8.98 - $51.23\n",
      "WARNING:root:Converting range of numbers to np.NaN. Original: $5.75 - $29.85\n",
      "WARNING:root:Converting range of numbers to np.NaN. Original: $15.01 - $146.02\n",
      "WARNING:root:Converting range of numbers to np.NaN. Original: $20.56 - $35.99\n",
      "WARNING:root:Converting range of numbers to np.NaN. Original: $10.49 - $71.99\n",
      "WARNING:root:Converting range of numbers to np.NaN. Original: $34.99 - $543.75\n",
      "WARNING:root:Converting range of numbers to np.NaN. Original: $11.99 - $32.99\n",
      "WARNING:root:Converting range of numbers to np.NaN. Original: $31.98 - $359.36\n",
      "WARNING:root:Converting range of numbers to np.NaN. Original: $12.95 - $14.49\n",
      "WARNING:root:Converting range of numbers to np.NaN. Original: $11.84 - $117.62\n",
      "WARNING:root:Converting range of numbers to np.NaN. Original: $10.98 - $36.79\n",
      "WARNING:root:Converting range of numbers to np.NaN. Original: $38.94 - $298.93\n",
      "WARNING:root:Converting range of numbers to np.NaN. Original: $14.60 - $25.00\n",
      "WARNING:root:Converting range of numbers to np.NaN. Original: $18.99 - $277.22\n",
      "WARNING:root:Converting range of numbers to np.NaN. Original: $4.50 - $39.13\n",
      "WARNING:root:Converting range of numbers to np.NaN. Original: $25.99 - $172.31\n",
      "WARNING:root:Converting range of numbers to np.NaN. Original: $75.00 - $1,602.50\n",
      "WARNING:root:Converting range of numbers to np.NaN. Original: $26.95 - $63.68\n",
      "WARNING:root:Converting range of numbers to np.NaN. Original: $10.00 - $172.63\n",
      "WARNING:root:Converting range of numbers to np.NaN. Original: $8.34 - $249.88\n",
      "WARNING:root:Converting range of numbers to np.NaN. Original: $38.94 - $298.93\n",
      "WARNING:root:Converting range of numbers to np.NaN. Original: $9.59 - $26.99\n",
      "WARNING:root:Converting range of numbers to np.NaN. Original: $23.75 - $243.99\n",
      "WARNING:root:Converting range of numbers to np.NaN. Original: $38.49 - $500.00\n",
      "WARNING:root:Converting range of numbers to np.NaN. Original: $38.00 - $49.99\n",
      "WARNING:root:Converting range of numbers to np.NaN. Original: $17.39 - $59.95\n",
      "WARNING:root:Converting range of numbers to np.NaN. Original: $17.89 - $194.72\n",
      "WARNING:root:Converting range of numbers to np.NaN. Original: $38.00 - $890.63\n",
      "WARNING:root:Converting range of numbers to np.NaN. Original: $38.00 - $793.75\n",
      "WARNING:root:Converting range of numbers to np.NaN. Original: $3.41 - $210.00\n",
      "WARNING:root:Converting range of numbers to np.NaN. Original: $8.99 - $89.99\n",
      "WARNING:root:Converting range of numbers to np.NaN. Original: $264.90 - $662.25\n",
      "WARNING:root:Converting range of numbers to np.NaN. Original: $24.15 - $26.45\n",
      "WARNING:root:Converting range of numbers to np.NaN. Original: $7.50 - $160.00\n",
      "WARNING:root:Converting range of numbers to np.NaN. Original: $38.00 - $892.50\n",
      "WARNING:root:Converting range of numbers to np.NaN. Original: $38.00 - $798.13\n",
      "WARNING:root:Converting range of numbers to np.NaN. Original: $21.19 - $219.30\n",
      "WARNING:root:Converting range of numbers to np.NaN. Original: $8.98 - $117.36\n",
      "WARNING:root:Converting range of numbers to np.NaN. Original: $8.50 - $89.97\n",
      "WARNING:root:Converting range of numbers to np.NaN. Original: $14.29 - $89.97\n",
      "WARNING:root:Converting range of numbers to np.NaN. Original: $8.99 - $78.91\n",
      "WARNING:root:Converting range of numbers to np.NaN. Original: $12.40 - $119.00\n",
      "WARNING:root:Converting range of numbers to np.NaN. Original: $38.99 - $360.00\n",
      "WARNING:root:Converting range of numbers to np.NaN. Original: $13.68 - $255.68\n",
      "WARNING:root:Converting range of numbers to np.NaN. Original: $6.75 - $12.95\n",
      "WARNING:root:Converting range of numbers to np.NaN. Original: $41.16 - $575.00\n",
      "WARNING:root:Converting range of numbers to np.NaN. Original: $8.98 - $43.91\n",
      "WARNING:root:Converting range of numbers to np.NaN. Original: $4.78 - $34.99\n",
      "WARNING:root:Converting range of numbers to np.NaN. Original: $10.00 - $162.90\n",
      "WARNING:root:Converting range of numbers to np.NaN. Original: $24.00 - $49.99\n",
      "WARNING:root:Converting range of numbers to np.NaN. Original: $35.35 - $56.82\n",
      "WARNING:root:Converting range of numbers to np.NaN. Original: $38.49 - $500.00\n",
      "WARNING:root:Converting range of numbers to np.NaN. Original: $47.79 - $49.46\n",
      "WARNING:root:Converting range of numbers to np.NaN. Original: $24.99 - $224.27\n",
      "WARNING:root:Converting range of numbers to np.NaN. Original: $38.49 - $500.00\n",
      "WARNING:root:Converting range of numbers to np.NaN. Original: $23.99 - $295.00\n",
      "WARNING:root:Converting range of numbers to np.NaN. Original: $12.60 - $219.74\n",
      "WARNING:root:Converting range of numbers to np.NaN. Original: $31.98 - $359.36\n",
      "WARNING:root:Converting range of numbers to np.NaN. Original: $19.99 - $295.00\n",
      "WARNING:root:Converting range of numbers to np.NaN. Original: $38.00 - $42.99\n",
      "WARNING:root:Converting range of numbers to np.NaN. Original: $8.98 - $33.25\n",
      "WARNING:root:Converting range of numbers to np.NaN. Original: $24.99 - $172.31\n",
      "WARNING:root:Converting range of numbers to np.NaN. Original: $4.87 - $12.95\n",
      "WARNING:root:Converting range of numbers to np.NaN. Original: $17.15 - $160.00\n",
      "WARNING:root:Converting range of numbers to np.NaN. Original: $11.88 - $177.28\n"
     ]
    },
    {
     "name": "stdout",
     "output_type": "stream",
     "text": [
      "<class 'pandas.core.frame.DataFrame'>\n",
      "RangeIndex: 287051 entries, 0 to 287050\n",
      "Data columns (total 18 columns):\n",
      " #   Column        Non-Null Count   Dtype  \n",
      "---  ------        --------------   -----  \n",
      " 0   category      287051 non-null  object \n",
      " 1   tech1         287051 non-null  object \n",
      " 2   description   287051 non-null  object \n",
      " 3   fit           287051 non-null  object \n",
      " 4   title         287051 non-null  object \n",
      " 5   also_buy      287051 non-null  object \n",
      " 6   image         287051 non-null  object \n",
      " 7   tech2         287051 non-null  object \n",
      " 8   brand         287051 non-null  object \n",
      " 9   feature       287051 non-null  object \n",
      " 10  rank          287051 non-null  object \n",
      " 11  also_view     287051 non-null  object \n",
      " 12  main_cat      287051 non-null  object \n",
      " 13  similar_item  287051 non-null  object \n",
      " 14  date          287051 non-null  object \n",
      " 15  price         132036 non-null  float64\n",
      " 16  asin          287051 non-null  object \n",
      " 17  details       287027 non-null  object \n",
      "dtypes: float64(1), object(17)\n",
      "memory usage: 39.4+ MB\n"
     ]
    }
   ],
   "source": [
    "grocery_data_copy['price'] = grocery_data_copy['price'].apply(convert_currency)\n",
    "\n",
    "grocery_data_copy.info()"
   ],
   "metadata": {
    "collapsed": false,
    "pycharm": {
     "name": "#%%\n"
    }
   }
  },
  {
   "cell_type": "code",
   "execution_count": 33,
   "outputs": [
    {
     "data": {
      "text/plain": "0     41.91\n1       NaN\n2     29.95\n3     11.45\n4     15.00\n      ...  \n95      NaN\n96     4.36\n97    15.00\n98    18.95\n99      NaN\nName: price, Length: 100, dtype: float64"
     },
     "execution_count": 33,
     "metadata": {},
     "output_type": "execute_result"
    }
   ],
   "source": [
    "grocery_data_copy['price'].head(100)\n",
    "# gluten_free_dataframe['category'] = test.apply(clean_alt_list)\n",
    "# gluten_free_dataframe['category'].value_counts()"
   ],
   "metadata": {
    "collapsed": false,
    "pycharm": {
     "name": "#%%\n"
    }
   }
  },
  {
   "cell_type": "code",
   "execution_count": 34,
   "outputs": [],
   "source": [
    "# # Most common categories.\n",
    "# grocery_data['category'] = grocery_data['category'].astype(str)\n",
    "# grocery_data['category'].value_counts()"
   ],
   "metadata": {
    "collapsed": false,
    "pycharm": {
     "name": "#%%\n"
    }
   }
  },
  {
   "cell_type": "code",
   "execution_count": 35,
   "outputs": [],
   "source": [
    "# grocery_data[['category', 'brand']].nunique()"
   ],
   "metadata": {
    "collapsed": false,
    "pycharm": {
     "name": "#%%\n"
    }
   }
  },
  {
   "cell_type": "markdown",
   "source": [
    "## Cleanup<a id='Cleanup' />"
   ],
   "metadata": {
    "collapsed": false
   }
  },
  {
   "cell_type": "markdown",
   "source": [
    "## Review Distributions<a id='Review_Distributions' />"
   ],
   "metadata": {
    "collapsed": false
   }
  },
  {
   "cell_type": "markdown",
   "source": [
    "## Population Data<a id='Population_Data' />"
   ],
   "metadata": {
    "collapsed": false
   }
  },
  {
   "cell_type": "markdown",
   "source": [
    "## Target Features<a id='Target_Features' />"
   ],
   "metadata": {
    "collapsed": false
   }
  },
  {
   "cell_type": "markdown",
   "source": [
    "## Save Data<a id='Save_Data' />"
   ],
   "metadata": {
    "collapsed": false
   }
  },
  {
   "cell_type": "markdown",
   "source": [
    "## Summary<a id='Summary' />"
   ],
   "metadata": {
    "collapsed": false
   }
  },
  {
   "cell_type": "markdown",
   "source": [
    "## Tests <a id='Tests' />\n",
    "These would usually be in a separate directory or file."
   ],
   "metadata": {
    "collapsed": false
   }
  },
  {
   "cell_type": "markdown",
   "source": [
    "### Unit Tests"
   ],
   "metadata": {
    "collapsed": false
   }
  },
  {
   "cell_type": "code",
   "execution_count": 36,
   "outputs": [],
   "source": [
    "class UnitTestExamples(unittest.TestCase):\n",
    "    \n",
    "    def test_formatting_removed(self):\n",
    "        self.assertEqual(convert_currency('$5,000.00'), 5000.00)\n",
    "    \n",
    "    def test_whole_number(self):\n",
    "        self.assertEqual(convert_currency(5), 5)\n",
    "    \n",
    "    def test_rounding_floats(self):\n",
    "        self.assertEqual(convert_currency(.16666666666666666666), 0.17)\n",
    "    \n",
    "    def test_warn_problem_character(self):\n",
    "        with self.assertRaises(ValueError):\n",
    "            convert_currency('€5')\n",
    "        \n",
    "    def test_blank_values(self):\n",
    "        self.assertTrue(np.isnan(convert_currency('')))\n",
    "            \n",
    "    def test_problem_characters(self):\n",
    "        self.assertTrue(np.isnan(convert_currency('.a-box-inner{background-color:#fff}#alohaBuyBoxWidget')))\n",
    "            \n",
    "    def test_range_of_values(self):\n",
    "        self.assertTrue(np.isnan(convert_currency('$17.24 - $39.20')))\n",
    "   "
   ],
   "metadata": {
    "collapsed": false,
    "pycharm": {
     "name": "#%%\n"
    }
   }
  },
  {
   "cell_type": "markdown",
   "source": [
    "### Integration Tests\n",
    "        "
   ],
   "metadata": {
    "collapsed": false
   }
  },
  {
   "cell_type": "code",
   "execution_count": 37,
   "outputs": [],
   "source": [
    "class IntegrationTestExamples(unittest.TestCase):\n",
    "\n",
    "   def test_data_file_exists(self):\n",
    "       self.assertTrue(os.path.isfile(data_filepath))\n",
    "       \n",
    "   def test_documentation_file_exists(self):\n",
    "       self.assertTrue(os.path.isfile(doc_filepath))\n",
    "       \n",
    "   def test_file_exists_logic(self):\n",
    "       self.assertFalse(os.path.isfile('Does_Not_Exist.csv'))"
   ],
   "metadata": {
    "collapsed": false,
    "pycharm": {
     "name": "#%%\n"
    }
   }
  },
  {
   "cell_type": "markdown",
   "source": [
    "### Test Results"
   ],
   "metadata": {
    "collapsed": false,
    "pycharm": {
     "name": "#%% md\n"
    }
   }
  },
  {
   "cell_type": "code",
   "execution_count": 38,
   "outputs": [
    {
     "name": "stderr",
     "output_type": "stream",
     "text": [
      "test_data_file_exists (__main__.IntegrationTestExamples) ... ok\n",
      "test_documentation_file_exists (__main__.IntegrationTestExamples) ... ok\n",
      "test_file_exists_logic (__main__.IntegrationTestExamples) ... ok\n",
      "test_blank_values (__main__.UnitTestExamples) ... ok\n",
      "test_formatting_removed (__main__.UnitTestExamples) ... ok\n",
      "test_problem_characters (__main__.UnitTestExamples) ... ok\n",
      "test_range_of_values (__main__.UnitTestExamples) ... WARNING:root:Converting range of numbers to np.NaN. Original: $17.24 - $39.20\n",
      "ok\n",
      "test_rounding_floats (__main__.UnitTestExamples) ... ok\n",
      "test_warn_problem_character (__main__.UnitTestExamples) ... WARNING:root:\n",
      "            WARNING: The new value cannot be converted. Only numbers and '.' are allowed in the data.\n",
      "            - If there are values in multiple currencies the data must be converted into just $ first.\n",
      "            - Most likely this problem is because of unexpected character(s) at: €5.  \n",
      "        \n",
      "ok\n",
      "test_whole_number (__main__.UnitTestExamples) ... ok\n",
      "\n",
      "----------------------------------------------------------------------\n",
      "Ran 10 tests in 0.007s\n",
      "\n",
      "OK\n"
     ]
    },
    {
     "data": {
      "text/plain": "<unittest.main.TestProgram at 0x2927c425a30>"
     },
     "execution_count": 38,
     "metadata": {},
     "output_type": "execute_result"
    }
   ],
   "source": [
    "  \n",
    "unittest.main(argv=[''], verbosity=2, exit=False)"
   ],
   "metadata": {
    "collapsed": false,
    "pycharm": {
     "name": "#%%\n"
    }
   }
  },
  {
   "cell_type": "markdown",
   "source": [
    "## References <a id='References' />\n",
    "<a href=https://nijianmo.github.io/amazon/>Amazon Review Data (2018)</a> accessed on 4/20/21.  \n",
    "Rahul Agarwal (2019) [Apply and Lambda usage in pandas. Learn these to master Pandas.](https://towardsdatascience.com/apply-and-lambda-usage-in-pandas-b13a1ea037f7)\n"
   ],
   "metadata": {
    "collapsed": false,
    "pycharm": {
     "name": "#%% md\n"
    }
   }
  }
 ],
 "metadata": {
  "kernelspec": {
   "display_name": "Python 3",
   "language": "python",
   "name": "python3"
  },
  "language_info": {
   "codemirror_mode": {
    "name": "ipython",
    "version": 3
   },
   "file_extension": ".py",
   "mimetype": "text/x-python",
   "name": "python",
   "nbconvert_exporter": "python",
   "pygments_lexer": "ipython3",
   "version": "3.8.3"
  }
 },
 "nbformat": 4,
 "nbformat_minor": 1
}