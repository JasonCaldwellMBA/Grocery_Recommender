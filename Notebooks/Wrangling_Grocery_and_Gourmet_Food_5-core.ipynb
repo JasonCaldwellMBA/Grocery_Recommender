{
 "cells": [
  {
   "cell_type": "markdown",
   "metadata": {},
   "source": [
    "# Grocery Recommender - Capstone Two<a id='Grocery_Recommender'></a>\n",
    "## Grocery and Gourmet Food 5 (Reviews) doesn't have the desired information.\n",
    "<a href=https://nijianmo.github.io/amazon/>Amazon Review Data (2018)</a> accessed on 4/20/21."
   ]
  },
  {
   "cell_type": "code",
   "execution_count": 2,
   "metadata": {
    "collapsed": true
   },
   "outputs": [],
   "source": [
    "import json\n",
    "import gzip\n",
    "import pandas as pd"
   ]
  },
  {
   "cell_type": "code",
   "execution_count": 3,
   "metadata": {
    "pycharm": {
     "name": "#%%\n"
    }
   },
   "outputs": [],
   "source": [
    "# load the data\n",
    "data = []\n",
    "with gzip.open('../Raw_Data/Grocery_and_Gourmet_Food_5.json.gz') as f:\n",
    "    for l in f:\n",
    "        data.append(json.loads(l.strip()))"
   ]
  },
  {
   "cell_type": "code",
   "execution_count": 4,
   "metadata": {
    "pycharm": {
     "name": "#%%\n"
    }
   },
   "outputs": [
    {
     "name": "stdout",
     "output_type": "stream",
     "text": [
      "1143860\n"
     ]
    }
   ],
   "source": [
    "# total length of list, this number equals total number of products\n",
    "print(len(data))"
   ]
  },
  {
   "cell_type": "code",
   "execution_count": 5,
   "metadata": {
    "pycharm": {
     "name": "#%%\n"
    }
   },
   "outputs": [
    {
     "name": "stdout",
     "output_type": "stream",
     "text": [
      "{'overall': 5.0, 'verified': True, 'reviewTime': '11 19, 2014', 'reviewerID': 'A1QVBUH9E1V6I8', 'asin': '4639725183', 'reviewerName': 'Jamshed Mathur', 'reviewText': 'No adverse comment.', 'summary': 'Five Stars', 'unixReviewTime': 1416355200}\n"
     ]
    }
   ],
   "source": [
    "# first row of the list\n",
    "print(data[0])"
   ]
  },
  {
   "cell_type": "code",
   "execution_count": 6,
   "metadata": {
    "pycharm": {
     "name": "#%%\n"
    }
   },
   "outputs": [
    {
     "data": {
      "text/plain": "1143860"
     },
     "execution_count": 6,
     "metadata": {},
     "output_type": "execute_result"
    }
   ],
   "source": [
    "# convert list into pandas dataframe\n",
    "df = pd.DataFrame.from_dict(data)\n",
    "len(df)"
   ]
  },
  {
   "cell_type": "code",
   "execution_count": 7,
   "metadata": {
    "pycharm": {
     "name": "#%%\n"
    }
   },
   "outputs": [
    {
     "data": {
      "text/plain": "   overall  verified   reviewTime      reviewerID        asin  \\\n0      5.0      True  11 19, 2014  A1QVBUH9E1V6I8  4639725183   \n1      5.0      True  10 13, 2016  A3GEOILWLK86XM  4639725183   \n2      5.0      True  11 21, 2015  A32RD6L701BIGP  4639725183   \n3      5.0      True  08 12, 2015  A2UY1O1FBGKIE6  4639725183   \n4      5.0      True  05 28, 2015  A3QHVBQYDV7Z6U  4639725183   \n\n      reviewerName                                         reviewText  \\\n0   Jamshed Mathur                                No adverse comment.   \n1        itsjustme                          Gift for college student.   \n2  Krystal Clifton  If you like strong tea, this is for you. It mi...   \n3          U. Kane  Love the tea. The flavor is way better than th...   \n4         The Nana  I have searched everywhere until I browsed Ama...   \n\n                         summary  unixReviewTime vote style image  \n0                     Five Stars      1416355200  NaN   NaN   NaN  \n1                 Great product.      1476316800  NaN   NaN   NaN  \n2                         Strong      1448064000  NaN   NaN   NaN  \n3                      Great tea      1439337600  NaN   NaN   NaN  \n4  This is the tea I remembered!      1432771200  NaN   NaN   NaN  ",
      "text/html": "<div>\n<style scoped>\n    .dataframe tbody tr th:only-of-type {\n        vertical-align: middle;\n    }\n\n    .dataframe tbody tr th {\n        vertical-align: top;\n    }\n\n    .dataframe thead th {\n        text-align: right;\n    }\n</style>\n<table border=\"1\" class=\"dataframe\">\n  <thead>\n    <tr style=\"text-align: right;\">\n      <th></th>\n      <th>overall</th>\n      <th>verified</th>\n      <th>reviewTime</th>\n      <th>reviewerID</th>\n      <th>asin</th>\n      <th>reviewerName</th>\n      <th>reviewText</th>\n      <th>summary</th>\n      <th>unixReviewTime</th>\n      <th>vote</th>\n      <th>style</th>\n      <th>image</th>\n    </tr>\n  </thead>\n  <tbody>\n    <tr>\n      <th>0</th>\n      <td>5.0</td>\n      <td>True</td>\n      <td>11 19, 2014</td>\n      <td>A1QVBUH9E1V6I8</td>\n      <td>4639725183</td>\n      <td>Jamshed Mathur</td>\n      <td>No adverse comment.</td>\n      <td>Five Stars</td>\n      <td>1416355200</td>\n      <td>NaN</td>\n      <td>NaN</td>\n      <td>NaN</td>\n    </tr>\n    <tr>\n      <th>1</th>\n      <td>5.0</td>\n      <td>True</td>\n      <td>10 13, 2016</td>\n      <td>A3GEOILWLK86XM</td>\n      <td>4639725183</td>\n      <td>itsjustme</td>\n      <td>Gift for college student.</td>\n      <td>Great product.</td>\n      <td>1476316800</td>\n      <td>NaN</td>\n      <td>NaN</td>\n      <td>NaN</td>\n    </tr>\n    <tr>\n      <th>2</th>\n      <td>5.0</td>\n      <td>True</td>\n      <td>11 21, 2015</td>\n      <td>A32RD6L701BIGP</td>\n      <td>4639725183</td>\n      <td>Krystal Clifton</td>\n      <td>If you like strong tea, this is for you. It mi...</td>\n      <td>Strong</td>\n      <td>1448064000</td>\n      <td>NaN</td>\n      <td>NaN</td>\n      <td>NaN</td>\n    </tr>\n    <tr>\n      <th>3</th>\n      <td>5.0</td>\n      <td>True</td>\n      <td>08 12, 2015</td>\n      <td>A2UY1O1FBGKIE6</td>\n      <td>4639725183</td>\n      <td>U. Kane</td>\n      <td>Love the tea. The flavor is way better than th...</td>\n      <td>Great tea</td>\n      <td>1439337600</td>\n      <td>NaN</td>\n      <td>NaN</td>\n      <td>NaN</td>\n    </tr>\n    <tr>\n      <th>4</th>\n      <td>5.0</td>\n      <td>True</td>\n      <td>05 28, 2015</td>\n      <td>A3QHVBQYDV7Z6U</td>\n      <td>4639725183</td>\n      <td>The Nana</td>\n      <td>I have searched everywhere until I browsed Ama...</td>\n      <td>This is the tea I remembered!</td>\n      <td>1432771200</td>\n      <td>NaN</td>\n      <td>NaN</td>\n      <td>NaN</td>\n    </tr>\n  </tbody>\n</table>\n</div>"
     },
     "execution_count": 7,
     "metadata": {},
     "output_type": "execute_result"
    }
   ],
   "source": [
    "# View first 5 rows of dataframe\n",
    "df.head()\n"
   ]
  }
 ],
 "metadata": {
  "kernelspec": {
   "display_name": "Python 3",
   "language": "python",
   "name": "python3"
  },
  "language_info": {
   "codemirror_mode": {
    "name": "ipython",
    "version": 3
   },
   "file_extension": ".py",
   "mimetype": "text/x-python",
   "name": "python",
   "nbconvert_exporter": "python",
   "pygments_lexer": "ipython3",
   "version": "3.8.3"
  }
 },
 "nbformat": 4,
 "nbformat_minor": 1
}