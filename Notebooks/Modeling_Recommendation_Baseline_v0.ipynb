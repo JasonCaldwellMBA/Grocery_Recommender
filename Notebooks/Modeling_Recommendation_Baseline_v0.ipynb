{
 "cells": [
  {
   "cell_type": "markdown",
   "metadata": {
    "collapsed": true,
    "pycharm": {
     "name": "#%% md\n"
    }
   },
   "source": [
    "# Modeling <sup>[1]</sup>\n",
    "\n",
    "### Evaluation: performance criterion\n",
    "\n",
    "Performance evaluation of recommendation systems include:\n",
    "\n",
    "- RMSE: $\\sqrt{\\frac{\\sum(\\hat y - y)^2}{n}}$\n",
    "- Precision / Recall / F-scores\n",
    "- ROC curves\n",
    "- Cost curves"
   ]
  },
  {
   "cell_type": "markdown",
   "source": [
    "## Imports"
   ],
   "metadata": {
    "collapsed": false
   }
  },
  {
   "cell_type": "code",
   "execution_count": 1,
   "outputs": [],
   "source": [
    "import numpy as np\n",
    "import pandas as pd"
   ],
   "metadata": {
    "collapsed": false,
    "pycharm": {
     "name": "#%%\n"
    }
   }
  },
  {
   "cell_type": "markdown",
   "source": [
    "## Load Data\n",
    "\n",
    "Only loading a subset of the original data set because this is an educational project."
   ],
   "metadata": {
    "collapsed": false
   }
  },
  {
   "cell_type": "code",
   "execution_count": 2,
   "outputs": [],
   "source": [
    "# 80/20 split earlier\n",
    "df_train = pd.read_csv('../Data/training_data_subset.csv')\n",
    "df_test = pd.read_csv('../Data/testing_data_subset.csv')"
   ],
   "metadata": {
    "collapsed": false,
    "pycharm": {
     "name": "#%%\n"
    }
   }
  },
  {
   "cell_type": "code",
   "execution_count": 3,
   "outputs": [
    {
     "data": {
      "text/plain": "                                            category  \\\n0  ['Grocery & Gourmet Food', 'Sauces, Gravies & ...   \n1  ['Grocery & Gourmet Food', 'Breakfast Foods', ...   \n\n                                         description  \\\n0  ['Sriracha chili sauce made from sun ripened c...   \n1  ['belVita Chocolate Breakfast Biscuits are lig...   \n\n                                               title  \\\n0  Huy Fong Sriracha Chili Sauce, 28 Ounce Bottle...   \n1  belVita Chocolate Breakfast Biscuits, 5 Count ...   \n\n                                            also_buy     brand  \\\n0  ['B001E5DZZM', 'B003NROMC4', 'B00U9VTL5U', 'B0...  Huy Fong   \n1  ['B00QF27JL0', 'B01BNIN5ZO', 'B01FLPFPOY', 'B0...   Belvita   \n\n                                  rank  \\\n0  145,292 in Grocery & Gourmet Food (   \n1   19,427 in Grocery & Gourmet Food (   \n\n                                           also_view main_cat  price  \\\n0  ['B001E5DZZM', 'B008AV5HLS', 'B00U9VTL5U', 'B0...  Grocery    NaN   \n1  ['B01COWTO4O', 'B01FLPFPOY', 'B00QF27JL0', 'B0...  Grocery    NaN   \n\n         asin                                            details  overall  \\\n0  B00BT7C9R0  {'Shipping Weight:': '11.4 pounds', 'ASIN: ': ...      5.0   \n1  B00IO2DO2W  {'Shipping Weight:': '4.1 pounds', 'Domestic S...      5.0   \n\n   verified      reviewerID  \\\n0      True  A3FYXMWYC9KUCK   \n1      True  A2OWR2PL3DLWS4   \n\n                                          reviewText               summary  \\\n0  I have been using Sriracha for several years n...  This stuff is great!   \n1  My daughter is a Belvita addict.  She likes al...             Delciious   \n\n   vote style  for_testing  \n0   NaN   NaN        False  \n1   NaN   NaN        False  ",
      "text/html": "<div>\n<style scoped>\n    .dataframe tbody tr th:only-of-type {\n        vertical-align: middle;\n    }\n\n    .dataframe tbody tr th {\n        vertical-align: top;\n    }\n\n    .dataframe thead th {\n        text-align: right;\n    }\n</style>\n<table border=\"1\" class=\"dataframe\">\n  <thead>\n    <tr style=\"text-align: right;\">\n      <th></th>\n      <th>category</th>\n      <th>description</th>\n      <th>title</th>\n      <th>also_buy</th>\n      <th>brand</th>\n      <th>rank</th>\n      <th>also_view</th>\n      <th>main_cat</th>\n      <th>price</th>\n      <th>asin</th>\n      <th>details</th>\n      <th>overall</th>\n      <th>verified</th>\n      <th>reviewerID</th>\n      <th>reviewText</th>\n      <th>summary</th>\n      <th>vote</th>\n      <th>style</th>\n      <th>for_testing</th>\n    </tr>\n  </thead>\n  <tbody>\n    <tr>\n      <th>0</th>\n      <td>['Grocery &amp; Gourmet Food', 'Sauces, Gravies &amp; ...</td>\n      <td>['Sriracha chili sauce made from sun ripened c...</td>\n      <td>Huy Fong Sriracha Chili Sauce, 28 Ounce Bottle...</td>\n      <td>['B001E5DZZM', 'B003NROMC4', 'B00U9VTL5U', 'B0...</td>\n      <td>Huy Fong</td>\n      <td>145,292 in Grocery &amp; Gourmet Food (</td>\n      <td>['B001E5DZZM', 'B008AV5HLS', 'B00U9VTL5U', 'B0...</td>\n      <td>Grocery</td>\n      <td>NaN</td>\n      <td>B00BT7C9R0</td>\n      <td>{'Shipping Weight:': '11.4 pounds', 'ASIN: ': ...</td>\n      <td>5.0</td>\n      <td>True</td>\n      <td>A3FYXMWYC9KUCK</td>\n      <td>I have been using Sriracha for several years n...</td>\n      <td>This stuff is great!</td>\n      <td>NaN</td>\n      <td>NaN</td>\n      <td>False</td>\n    </tr>\n    <tr>\n      <th>1</th>\n      <td>['Grocery &amp; Gourmet Food', 'Breakfast Foods', ...</td>\n      <td>['belVita Chocolate Breakfast Biscuits are lig...</td>\n      <td>belVita Chocolate Breakfast Biscuits, 5 Count ...</td>\n      <td>['B00QF27JL0', 'B01BNIN5ZO', 'B01FLPFPOY', 'B0...</td>\n      <td>Belvita</td>\n      <td>19,427 in Grocery &amp; Gourmet Food (</td>\n      <td>['B01COWTO4O', 'B01FLPFPOY', 'B00QF27JL0', 'B0...</td>\n      <td>Grocery</td>\n      <td>NaN</td>\n      <td>B00IO2DO2W</td>\n      <td>{'Shipping Weight:': '4.1 pounds', 'Domestic S...</td>\n      <td>5.0</td>\n      <td>True</td>\n      <td>A2OWR2PL3DLWS4</td>\n      <td>My daughter is a Belvita addict.  She likes al...</td>\n      <td>Delciious</td>\n      <td>NaN</td>\n      <td>NaN</td>\n      <td>False</td>\n    </tr>\n  </tbody>\n</table>\n</div>"
     },
     "execution_count": 3,
     "metadata": {},
     "output_type": "execute_result"
    }
   ],
   "source": [
    "df_train.head(2)"
   ],
   "metadata": {
    "collapsed": false,
    "pycharm": {
     "name": "#%%\n"
    }
   }
  },
  {
   "cell_type": "code",
   "execution_count": 4,
   "outputs": [
    {
     "data": {
      "text/plain": "                                            category  \\\n0  ['Grocery & Gourmet Food', 'Produce', 'Fresh V...   \n1  ['Grocery & Gourmet Food', 'Cooking & Baking',...   \n\n                                         description  \\\n0  ['<div class=\"aplus\"> <div class=\"three-fourth...   \n1  ['Light & Fluffy. Just add water. Made with re...   \n\n                                              title  \\\n0                     Organic Green Cabbage, 1 Head   \n1  Krusteaz Complete Pancake Mix, Buttermilk, 32 oz   \n\n                                            also_buy          brand rank  \\\n0                                                NaN  produce aisle  NaN   \n1  ['B000R32RJC', 'B07CX6LN8T', 'B000PXZZQG', 'B0...       Krusteaz  NaN   \n\n                                           also_view main_cat  price  \\\n0                                                NaN  Grocery    NaN   \n1  ['B00DXGGSBI', 'B00CEMP2Z0', 'B00BP2RY42', 'B0...  Grocery    NaN   \n\n         asin                                            details  overall  \\\n0  B000P6H29Q  {'\\n    Product Dimensions: \\n    ': '7.5 x 6....      5.0   \n1  B000QCLEB6  {'\\n    Product Dimensions: \\n    ': '6.1 x 2....      5.0   \n\n   verified      reviewerID  \\\n0      True  A1NKRXSU63EA4M   \n1      True  A3TR0FIT13SSVN   \n\n                                          reviewText               summary  \\\n0                                 Hugh and delicious            Five Stars   \n1  Great flavor and surprisingly fluffy out of th...  Surprisingly good :)   \n\n   vote style  for_testing  \n0   NaN   NaN         True  \n1   6.0   NaN         True  ",
      "text/html": "<div>\n<style scoped>\n    .dataframe tbody tr th:only-of-type {\n        vertical-align: middle;\n    }\n\n    .dataframe tbody tr th {\n        vertical-align: top;\n    }\n\n    .dataframe thead th {\n        text-align: right;\n    }\n</style>\n<table border=\"1\" class=\"dataframe\">\n  <thead>\n    <tr style=\"text-align: right;\">\n      <th></th>\n      <th>category</th>\n      <th>description</th>\n      <th>title</th>\n      <th>also_buy</th>\n      <th>brand</th>\n      <th>rank</th>\n      <th>also_view</th>\n      <th>main_cat</th>\n      <th>price</th>\n      <th>asin</th>\n      <th>details</th>\n      <th>overall</th>\n      <th>verified</th>\n      <th>reviewerID</th>\n      <th>reviewText</th>\n      <th>summary</th>\n      <th>vote</th>\n      <th>style</th>\n      <th>for_testing</th>\n    </tr>\n  </thead>\n  <tbody>\n    <tr>\n      <th>0</th>\n      <td>['Grocery &amp; Gourmet Food', 'Produce', 'Fresh V...</td>\n      <td>['&lt;div class=\"aplus\"&gt; &lt;div class=\"three-fourth...</td>\n      <td>Organic Green Cabbage, 1 Head</td>\n      <td>NaN</td>\n      <td>produce aisle</td>\n      <td>NaN</td>\n      <td>NaN</td>\n      <td>Grocery</td>\n      <td>NaN</td>\n      <td>B000P6H29Q</td>\n      <td>{'\\n    Product Dimensions: \\n    ': '7.5 x 6....</td>\n      <td>5.0</td>\n      <td>True</td>\n      <td>A1NKRXSU63EA4M</td>\n      <td>Hugh and delicious</td>\n      <td>Five Stars</td>\n      <td>NaN</td>\n      <td>NaN</td>\n      <td>True</td>\n    </tr>\n    <tr>\n      <th>1</th>\n      <td>['Grocery &amp; Gourmet Food', 'Cooking &amp; Baking',...</td>\n      <td>['Light &amp; Fluffy. Just add water. Made with re...</td>\n      <td>Krusteaz Complete Pancake Mix, Buttermilk, 32 oz</td>\n      <td>['B000R32RJC', 'B07CX6LN8T', 'B000PXZZQG', 'B0...</td>\n      <td>Krusteaz</td>\n      <td>NaN</td>\n      <td>['B00DXGGSBI', 'B00CEMP2Z0', 'B00BP2RY42', 'B0...</td>\n      <td>Grocery</td>\n      <td>NaN</td>\n      <td>B000QCLEB6</td>\n      <td>{'\\n    Product Dimensions: \\n    ': '6.1 x 2....</td>\n      <td>5.0</td>\n      <td>True</td>\n      <td>A3TR0FIT13SSVN</td>\n      <td>Great flavor and surprisingly fluffy out of th...</td>\n      <td>Surprisingly good :)</td>\n      <td>6.0</td>\n      <td>NaN</td>\n      <td>True</td>\n    </tr>\n  </tbody>\n</table>\n</div>"
     },
     "execution_count": 4,
     "metadata": {},
     "output_type": "execute_result"
    }
   ],
   "source": [
    "df_test.head(2)"
   ],
   "metadata": {
    "collapsed": false,
    "pycharm": {
     "name": "#%%\n"
    }
   }
  },
  {
   "cell_type": "markdown",
   "source": [
    "### RMSE"
   ],
   "metadata": {
    "collapsed": false
   }
  },
  {
   "cell_type": "code",
   "execution_count": 5,
   "outputs": [],
   "source": [
    "def compute_rmse(y_pred, y_true):\n",
    "    \"\"\" Compute Root Mean Squared Error. \"\"\"\n",
    "    \n",
    "    return np.sqrt(np.mean(np.power(y_pred - y_true, 2)))"
   ],
   "metadata": {
    "collapsed": false,
    "pycharm": {
     "name": "#%%\n"
    }
   }
  },
  {
   "cell_type": "markdown",
   "source": [
    "### Evaluation method"
   ],
   "metadata": {
    "collapsed": false
   }
  },
  {
   "cell_type": "code",
   "execution_count": 6,
   "outputs": [],
   "source": [
    "def evaluate(estimate_f):\n",
    "    \"\"\" RMSE-based predictive performance evaluation with pandas. \"\"\"\n",
    "    \n",
    "    ids_to_estimate = zip(df_test.reviewerID, df_test.asin)\n",
    "    estimated = np.array([estimate_f(u,i) for (u,i) in ids_to_estimate])\n",
    "    real = df_test.overall.values\n",
    "    return compute_rmse(estimated, real)"
   ],
   "metadata": {
    "collapsed": false,
    "pycharm": {
     "name": "#%%\n"
    }
   }
  },
  {
   "cell_type": "markdown",
   "source": [
    "### Baseline function"
   ],
   "metadata": {
    "collapsed": false,
    "pycharm": {
     "name": "#%% md\n"
    }
   }
  },
  {
   "cell_type": "code",
   "execution_count": 7,
   "outputs": [],
   "source": [
    "# This is a baseline that just gives an average rating to everything\n",
    "def baseline_function(user_id, product_id):\n",
    "    return 3"
   ],
   "metadata": {
    "collapsed": false,
    "pycharm": {
     "name": "#%%\n"
    }
   }
  },
  {
   "cell_type": "code",
   "execution_count": 8,
   "outputs": [
    {
     "name": "stdout",
     "output_type": "stream",
     "text": [
      "RMSE for baseline function: 1.801249566273369\n"
     ]
    }
   ],
   "source": [
    "print('RMSE for baseline function: %s' % evaluate(baseline_function))"
   ],
   "metadata": {
    "collapsed": false,
    "pycharm": {
     "name": "#%%\n"
    }
   }
  },
  {
   "cell_type": "markdown",
   "source": [
    "Want to improve on 1.8012 for all future analysis.  \n",
    "A value of 0 means there is no error, and the recommendation is perfect.\n",
    "A value of 4 is the maximum amount it could be off (5-1)."
   ],
   "metadata": {
    "collapsed": false
   }
  },
  {
   "cell_type": "code",
   "execution_count": 9,
   "outputs": [],
   "source": [
    "def hard_coded_5_function(user_id, product_id):\n",
    "    return 5"
   ],
   "metadata": {
    "collapsed": false,
    "pycharm": {
     "name": "#%%\n"
    }
   }
  },
  {
   "cell_type": "code",
   "execution_count": 10,
   "outputs": [
    {
     "name": "stdout",
     "output_type": "stream",
     "text": [
      "RMSE for hard coded most common rating: 1.1603878661895772\n"
     ]
    }
   ],
   "source": [
    "print('RMSE for hard coded most common rating: %s' % evaluate(hard_coded_5_function))"
   ],
   "metadata": {
    "collapsed": false,
    "pycharm": {
     "name": "#%%\n"
    }
   }
  },
  {
   "cell_type": "markdown",
   "source": [
    "This is lower than the previous baseline, and the results make sense because the majority of the reviews are 5's."
   ],
   "metadata": {
    "collapsed": false
   }
  },
  {
   "cell_type": "code",
   "execution_count": 11,
   "outputs": [],
   "source": [
    "def hard_coded_4_function(user_id, product_id):\n",
    "    return 4"
   ],
   "metadata": {
    "collapsed": false,
    "pycharm": {
     "name": "#%%\n"
    }
   }
  },
  {
   "cell_type": "code",
   "execution_count": 12,
   "outputs": [
    {
     "name": "stdout",
     "output_type": "stream",
     "text": [
      "RMSE for hard coded 4: 1.1382003338604325\n"
     ]
    }
   ],
   "source": [
    "print('RMSE for hard coded 4: %s' % evaluate(hard_coded_4_function))"
   ],
   "metadata": {
    "collapsed": false,
    "pycharm": {
     "name": "#%%\n"
    }
   }
  },
  {
   "cell_type": "markdown",
   "source": [
    "A hard coded 4 is the best so far and makes sense because there are a full range of values for the reviews. \n",
    "Despite 5 being the most common rating, it doesn't mean it is closest to the average rating."
   ],
   "metadata": {
    "collapsed": false,
    "pycharm": {
     "name": "#%% md\n"
    }
   }
  },
  {
   "cell_type": "markdown",
   "source": [
    "## Summary\n",
    "- Using a subset of the data set going forward for processing speed and testing reasons in this educational project.\n",
    "- Also, would still do this step first in most scenarios to get feedback from several models faster.\n",
    "- Then, for the best performing models, would analyze them using the full data sets to account for more scenarios.\n",
    "- Using the Root Mean Square Error (RMSE) to determine how well the model performed; i.e. how close the prediction was to the actual rating.\n",
    "- The baseline results simply set all recommendations to the same hard coded value in various scenarios.\n",
    "- Therefore, we want all future models to improve on these recommendations.\n",
    "- The hard_coded_4_function had the best result with a RMSE of 1.1382. A score of 0 is perfect."
   ],
   "metadata": {
    "collapsed": false,
    "pycharm": {
     "name": "#%% md\n"
    }
   }
  },
  {
   "cell_type": "markdown",
   "source": [
    "## References\n",
    "1) Unata 2015 [Hands-on with PyData: How to Build a Minimal Recommendation Engine](https://www.youtube.com/watch?v=F6gWjOc1FUs).  "
   ],
   "metadata": {
    "collapsed": false
   }
  }
 ],
 "metadata": {
  "kernelspec": {
   "name": "pycharm-cef1f773",
   "language": "python",
   "display_name": "PyCharm (pycon2015_tutorial322)"
  },
  "language_info": {
   "codemirror_mode": {
    "name": "ipython",
    "version": 2
   },
   "file_extension": ".py",
   "mimetype": "text/x-python",
   "name": "python",
   "nbconvert_exporter": "python",
   "pygments_lexer": "ipython2",
   "version": "2.7.6"
  }
 },
 "nbformat": 4,
 "nbformat_minor": 0
}