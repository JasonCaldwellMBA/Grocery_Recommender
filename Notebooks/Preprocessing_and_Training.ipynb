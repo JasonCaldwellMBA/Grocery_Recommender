{
 "cells": [
  {
   "cell_type": "markdown",
   "source": [
    "# Minimal Recommendation Engine"
   ],
   "metadata": {
    "collapsed": false
   }
  },
  {
   "cell_type": "markdown",
   "source": [
    "### Notation <sup>[1]</sup>\n",
    "\n",
    "- $U$ is the set of users in our domain. Its size is $|U|$.\n",
    "- $I$ is the set of items in our domain. Its size is $|I|$.\n",
    "- $I(u)$ is the set of items that user $u$ has rated.\n",
    "- $-I(u)$ is the complement of $I(u)$ i.e., the set of items not yet seen by user $u$.\n",
    "- $U(i)$ is the set of users that have rated item $i$.\n",
    "- $-U(i)$ is the complement of $U(i)$.\n",
    "- $S(u,i)$ is a function that measures the utility of item $i$ for user $u$."
   ],
   "metadata": {
    "collapsed": false
   }
  },
  {
   "cell_type": "markdown",
   "source": [
    "### Goal of a recommendation system <sup>[1]</sup>\n",
    "\n",
    "$\n",
    "i^{*} = argmax_{i \\in -I(u)} S(u,i), \\forall{u \\in U}\n",
    "$"
   ],
   "metadata": {
    "collapsed": false
   }
  },
  {
   "cell_type": "markdown",
   "source": [
    "### Problem statement <sup>[1]</sup>\n",
    "\n",
    "The recommendation problem in its most basic form is quite simple to define:\n",
    "\n",
    "```\n",
    "|-------------------+-----+-----+-----+-----+-----|\n",
    "|  user_id, asin    | a_1 | a_2 | a_3 | a_4 | a_5 |\n",
    "|-------------------+-----+-----+-----+-----+-----|\n",
    "| u_1               | ?   | ?   | 4   | ?   | 1   |\n",
    "|-------------------+-----+-----+-----+-----+-----|\n",
    "| u_2               | 3   | ?   | ?   | 2   | 2   |\n",
    "|-------------------+-----+-----+-----+-----+-----|\n",
    "| u_3               | 3   | ?   | ?   | ?   | ?   |\n",
    "|-------------------+-----+-----+-----+-----+-----|\n",
    "| u_4               | ?   | 1   | 2   | 1   | 1   |\n",
    "|-------------------+-----+-----+-----+-----+-----|\n",
    "| u_5               | ?   | ?   | ?   | ?   | ?   |\n",
    "|-------------------+-----+-----+-----+-----+-----|\n",
    "| u_6               | 2   | ?   | 2   | ?   | ?   |\n",
    "|-------------------+-----+-----+-----+-----+-----|\n",
    "| u_7               | ?   | ?   | ?   | ?   | ?   |\n",
    "|-------------------+-----+-----+-----+-----+-----|\n",
    "| u_8               | 3   | 1   | 5   | ?   | ?   |\n",
    "|-------------------+-----+-----+-----+-----+-----|\n",
    "| u_9               | ?   | ?   | ?   | ?   | 2   |\n",
    "|-------------------+-----+-----+-----+-----+-----|\n",
    "```\n",
    "\n",
    "*Given a partially filled matrix of ratings ($|U|x|I|$), estimate the missing values.*"
   ],
   "metadata": {
    "collapsed": false
   }
  },
  {
   "cell_type": "markdown",
   "metadata": {
    "collapsed": true,
    "pycharm": {
     "name": "#%% md\n"
    }
   },
   "source": [
    "## Imports"
   ]
  },
  {
   "cell_type": "code",
   "execution_count": 23,
   "outputs": [],
   "source": [
    "import numpy as np\n",
    "import pandas as pd\n",
    "from sklearn.model_selection import train_test_split"
   ],
   "metadata": {
    "collapsed": false,
    "pycharm": {
     "name": "#%%\n"
    }
   }
  },
  {
   "cell_type": "markdown",
   "source": [
    "## Load Data"
   ],
   "metadata": {
    "collapsed": false
   }
  },
  {
   "cell_type": "code",
   "execution_count": 24,
   "outputs": [],
   "source": [
    "df = pd.read_csv('../Data/eda_data.csv')"
   ],
   "metadata": {
    "collapsed": false,
    "pycharm": {
     "name": "#%%\n"
    }
   }
  },
  {
   "cell_type": "code",
   "execution_count": 25,
   "outputs": [
    {
     "data": {
      "text/plain": "                                            category  \\\n0  ['Grocery & Gourmet Food', 'Beverages', 'Coffe...   \n1  ['Grocery & Gourmet Food', 'Beverages', 'Coffe...   \n\n                                         description  \\\n0  ['Lipton Yellow Label Tea use only the finest ...   \n1  ['Lipton Yellow Label Tea use only the finest ...   \n\n                                        title  \\\n0  Lipton Yellow Label Tea (loose tea) - 450g   \n1  Lipton Yellow Label Tea (loose tea) - 450g   \n\n                                            also_buy   brand  \\\n0  ['B00886E4K0', 'B00CREXSHY', 'B001QTRGAQ', 'B0...  Lipton   \n1  ['B00886E4K0', 'B00CREXSHY', 'B001QTRGAQ', 'B0...  Lipton   \n\n                                 rank  \\\n0  30,937 in Grocery & Gourmet Food (   \n1  30,937 in Grocery & Gourmet Food (   \n\n                                           also_view main_cat  price  \\\n0  ['B00CREXSHY', 'B001QTRGAQ', 'B000JSQK70', 'B0...  Grocery  12.46   \n1  ['B00CREXSHY', 'B001QTRGAQ', 'B000JSQK70', 'B0...  Grocery  12.46   \n\n         asin details  overall  verified      reviewerID  \\\n0  4639725043     NaN      5.0      True  A1J205ZK25TZ6W   \n1  4639725043     NaN      3.0      True   ACOICLIJQYECU   \n\n                                          reviewText  \\\n0  I make the best brewed iced tea with this yell...   \n1  I have recently started drinking hot tea again...   \n\n                     summary  vote style  \n0  Best for brewed iced tea.   8.0   NaN  \n1       Not Bad for iced Tea   9.0   NaN  ",
      "text/html": "<div>\n<style scoped>\n    .dataframe tbody tr th:only-of-type {\n        vertical-align: middle;\n    }\n\n    .dataframe tbody tr th {\n        vertical-align: top;\n    }\n\n    .dataframe thead th {\n        text-align: right;\n    }\n</style>\n<table border=\"1\" class=\"dataframe\">\n  <thead>\n    <tr style=\"text-align: right;\">\n      <th></th>\n      <th>category</th>\n      <th>description</th>\n      <th>title</th>\n      <th>also_buy</th>\n      <th>brand</th>\n      <th>rank</th>\n      <th>also_view</th>\n      <th>main_cat</th>\n      <th>price</th>\n      <th>asin</th>\n      <th>details</th>\n      <th>overall</th>\n      <th>verified</th>\n      <th>reviewerID</th>\n      <th>reviewText</th>\n      <th>summary</th>\n      <th>vote</th>\n      <th>style</th>\n    </tr>\n  </thead>\n  <tbody>\n    <tr>\n      <th>0</th>\n      <td>['Grocery &amp; Gourmet Food', 'Beverages', 'Coffe...</td>\n      <td>['Lipton Yellow Label Tea use only the finest ...</td>\n      <td>Lipton Yellow Label Tea (loose tea) - 450g</td>\n      <td>['B00886E4K0', 'B00CREXSHY', 'B001QTRGAQ', 'B0...</td>\n      <td>Lipton</td>\n      <td>30,937 in Grocery &amp; Gourmet Food (</td>\n      <td>['B00CREXSHY', 'B001QTRGAQ', 'B000JSQK70', 'B0...</td>\n      <td>Grocery</td>\n      <td>12.46</td>\n      <td>4639725043</td>\n      <td>NaN</td>\n      <td>5.0</td>\n      <td>True</td>\n      <td>A1J205ZK25TZ6W</td>\n      <td>I make the best brewed iced tea with this yell...</td>\n      <td>Best for brewed iced tea.</td>\n      <td>8.0</td>\n      <td>NaN</td>\n    </tr>\n    <tr>\n      <th>1</th>\n      <td>['Grocery &amp; Gourmet Food', 'Beverages', 'Coffe...</td>\n      <td>['Lipton Yellow Label Tea use only the finest ...</td>\n      <td>Lipton Yellow Label Tea (loose tea) - 450g</td>\n      <td>['B00886E4K0', 'B00CREXSHY', 'B001QTRGAQ', 'B0...</td>\n      <td>Lipton</td>\n      <td>30,937 in Grocery &amp; Gourmet Food (</td>\n      <td>['B00CREXSHY', 'B001QTRGAQ', 'B000JSQK70', 'B0...</td>\n      <td>Grocery</td>\n      <td>12.46</td>\n      <td>4639725043</td>\n      <td>NaN</td>\n      <td>3.0</td>\n      <td>True</td>\n      <td>ACOICLIJQYECU</td>\n      <td>I have recently started drinking hot tea again...</td>\n      <td>Not Bad for iced Tea</td>\n      <td>9.0</td>\n      <td>NaN</td>\n    </tr>\n  </tbody>\n</table>\n</div>"
     },
     "execution_count": 25,
     "metadata": {},
     "output_type": "execute_result"
    }
   ],
   "source": [
    "df.head(2)"
   ],
   "metadata": {
    "collapsed": false,
    "pycharm": {
     "name": "#%%\n"
    }
   }
  },
  {
   "cell_type": "code",
   "execution_count": 26,
   "outputs": [
    {
     "name": "stdout",
     "output_type": "stream",
     "text": [
      "<class 'pandas.core.frame.DataFrame'>\n",
      "RangeIndex: 1086548 entries, 0 to 1086547\n",
      "Data columns (total 18 columns):\n",
      " #   Column       Non-Null Count    Dtype  \n",
      "---  ------       --------------    -----  \n",
      " 0   category     1086548 non-null  object \n",
      " 1   description  993137 non-null   object \n",
      " 2   title        1086548 non-null  object \n",
      " 3   also_buy     929733 non-null   object \n",
      " 4   brand        1078563 non-null  object \n",
      " 5   rank         1042485 non-null  object \n",
      " 6   also_view    578911 non-null   object \n",
      " 7   main_cat     1085268 non-null  object \n",
      " 8   price        752804 non-null   float64\n",
      " 9   asin         1086548 non-null  object \n",
      " 10  details      1086497 non-null  object \n",
      " 11  overall      1086548 non-null  float64\n",
      " 12  verified     1086548 non-null  bool   \n",
      " 13  reviewerID   1086548 non-null  object \n",
      " 14  reviewText   1086175 non-null  object \n",
      " 15  summary      1086335 non-null  object \n",
      " 16  vote         149486 non-null   float64\n",
      " 17  style        561516 non-null   object \n",
      "dtypes: bool(1), float64(3), object(14)\n",
      "memory usage: 142.0+ MB\n"
     ]
    }
   ],
   "source": [
    "df.info()"
   ],
   "metadata": {
    "collapsed": false,
    "pycharm": {
     "name": "#%%\n"
    }
   }
  },
  {
   "cell_type": "markdown",
   "source": [
    "### Preprocessing: split ratings into train and test sets"
   ],
   "metadata": {
    "collapsed": false
   }
  },
  {
   "cell_type": "code",
   "execution_count": 27,
   "outputs": [
    {
     "name": "stdout",
     "output_type": "stream",
     "text": [
      "(1086548, 18)\n",
      "127496\n",
      "41280\n"
     ]
    }
   ],
   "source": [
    "# Full grocery data set\n",
    "print(df.shape)\n",
    "print(df.reviewerID.nunique())\n",
    "print(df.asin.nunique())"
   ],
   "metadata": {
    "collapsed": false,
    "pycharm": {
     "name": "#%%\n"
    }
   }
  },
  {
   "cell_type": "code",
   "execution_count": 28,
   "outputs": [
    {
     "name": "stdout",
     "output_type": "stream",
     "text": [
      "(10000, 18)\n",
      "9367\n",
      "6641\n"
     ]
    }
   ],
   "source": [
    "# Subset of grocery dataset for testing a speed reasons\n",
    "df_subset = df.iloc[np.random.choice(df.index, size=10000, replace=False)]\n",
    "print(df_subset.shape)\n",
    "print(df_subset.reviewerID.nunique())\n",
    "print(df_subset.asin.nunique())"
   ],
   "metadata": {
    "collapsed": false,
    "pycharm": {
     "name": "#%%\n"
    }
   }
  },
  {
   "cell_type": "markdown",
   "source": [
    "### Train test split using custom function\n",
    "Generate train and test subsets by marking 20% of each users's ratings; using groupby and apply. <sup>[1]</sup>"
   ],
   "metadata": {
    "collapsed": false,
    "pycharm": {
     "name": "#%% md\n"
    }
   }
  },
  {
   "cell_type": "code",
   "execution_count": 29,
   "outputs": [
    {
     "name": "stderr",
     "output_type": "stream",
     "text": [
      "<ipython-input-29-6b08db0214dd>:8: SettingWithCopyWarning: \n",
      "A value is trying to be set on a copy of a slice from a DataFrame.\n",
      "Try using .loc[row_indexer,col_indexer] = value instead\n",
      "\n",
      "See the caveats in the documentation: https://pandas.pydata.org/pandas-docs/stable/user_guide/indexing.html#returning-a-view-versus-a-copy\n",
      "  df_subset['for_testing'] = False\n"
     ]
    },
    {
     "name": "stdout",
     "output_type": "stream",
     "text": [
      "(10000, 19)\n",
      "(633, 19)\n",
      "(9367, 19)\n"
     ]
    }
   ],
   "source": [
    "def assign_to_set(df_):\n",
    "    sampled_ids = np.random.choice(df_.index,\n",
    "                                   size=np.int64(np.ceil(df_.index.size * 0.2)),\n",
    "                                   replace=False)\n",
    "    df_.loc[sampled_ids, 'for_testing'] = True\n",
    "    return df_\n",
    "\n",
    "df_subset['for_testing'] = False\n",
    "grouped = df_subset.groupby('reviewerID', group_keys=False).apply(assign_to_set)\n",
    "df_train_subset = df_subset[grouped.for_testing == False]\n",
    "df_test_subset = df_subset[grouped.for_testing == True]\n",
    "print(df_subset.shape)\n",
    "print(df_train_subset.shape)\n",
    "print(df_test_subset.shape)\n",
    "assert len(df_train_subset.index.intersection(df_test_subset.index)) == 0"
   ],
   "metadata": {
    "collapsed": false,
    "pycharm": {
     "name": "#%%\n"
    }
   }
  },
  {
   "cell_type": "code",
   "execution_count": 30,
   "outputs": [
    {
     "data": {
      "text/plain": "                                                 category  \\\n370983  ['Grocery & Gourmet Food', 'Cooking & Baking',...   \n631706  ['Grocery & Gourmet Food', 'Beverages', 'Coffe...   \n\n                                              description  \\\n370983  ['For thousands of years, sourdough starter ha...   \n631706  [\"At high temperatures sugar carmalizes and tr...   \n\n                                                    title  \\\n370983                Breadtopia Sourdough Starter (Live)   \n631706  Starbucks Natural Fusions Caramel Ground Coffe...   \n\n                                                 also_buy       brand  \\\n370983  ['B00471MP42', 'B01GM4UZJI', '1607740079', 'B0...  Breadtopia   \n631706  ['B00UW71SQQ', 'B01MDPYFBC', 'B071CL2TXK', 'B0...   Starbucks   \n\n                                       rank  \\\n370983    1,750 in Grocery & Gourmet Food (   \n631706  261,295 in Grocery & Gourmet Food (   \n\n                                                also_view main_cat  price  \\\n370983                                                NaN  Grocery   8.95   \n631706  ['B00UW71SQQ', 'B00ILOYD96', 'B01LTI95ZM', 'B0...  Grocery  31.99   \n\n              asin                                            details  \\\n370983  B002C0E5VG  {'Shipping Weight:': '4 ounces (', 'ASIN: ': '...   \n631706  B0090X8JUG  {'Shipping Weight:': '4.8 pounds (', 'Domestic...   \n\n        overall  verified      reviewerID  \\\n370983      5.0      True  A3TXRT03F81NGO   \n631706      1.0      True  A3IILODDI2ZDFG   \n\n                                               reviewText  \\\n370983  It started right up and now I have tons of sta...   \n631706  DISGUSTING!!!!!!!!  This is NOT the same item ...   \n\n                                                  summary  vote  \\\n370983                                     Great starter.   NaN   \n631706  This is NOT the same thing you buy in the stor...   NaN   \n\n                                     style  for_testing  \n370983                                 NaN        False  \n631706  {'Size:': ' 11 Ounce (Pack of 2)'}        False  ",
      "text/html": "<div>\n<style scoped>\n    .dataframe tbody tr th:only-of-type {\n        vertical-align: middle;\n    }\n\n    .dataframe tbody tr th {\n        vertical-align: top;\n    }\n\n    .dataframe thead th {\n        text-align: right;\n    }\n</style>\n<table border=\"1\" class=\"dataframe\">\n  <thead>\n    <tr style=\"text-align: right;\">\n      <th></th>\n      <th>category</th>\n      <th>description</th>\n      <th>title</th>\n      <th>also_buy</th>\n      <th>brand</th>\n      <th>rank</th>\n      <th>also_view</th>\n      <th>main_cat</th>\n      <th>price</th>\n      <th>asin</th>\n      <th>details</th>\n      <th>overall</th>\n      <th>verified</th>\n      <th>reviewerID</th>\n      <th>reviewText</th>\n      <th>summary</th>\n      <th>vote</th>\n      <th>style</th>\n      <th>for_testing</th>\n    </tr>\n  </thead>\n  <tbody>\n    <tr>\n      <th>370983</th>\n      <td>['Grocery &amp; Gourmet Food', 'Cooking &amp; Baking',...</td>\n      <td>['For thousands of years, sourdough starter ha...</td>\n      <td>Breadtopia Sourdough Starter (Live)</td>\n      <td>['B00471MP42', 'B01GM4UZJI', '1607740079', 'B0...</td>\n      <td>Breadtopia</td>\n      <td>1,750 in Grocery &amp; Gourmet Food (</td>\n      <td>NaN</td>\n      <td>Grocery</td>\n      <td>8.95</td>\n      <td>B002C0E5VG</td>\n      <td>{'Shipping Weight:': '4 ounces (', 'ASIN: ': '...</td>\n      <td>5.0</td>\n      <td>True</td>\n      <td>A3TXRT03F81NGO</td>\n      <td>It started right up and now I have tons of sta...</td>\n      <td>Great starter.</td>\n      <td>NaN</td>\n      <td>NaN</td>\n      <td>False</td>\n    </tr>\n    <tr>\n      <th>631706</th>\n      <td>['Grocery &amp; Gourmet Food', 'Beverages', 'Coffe...</td>\n      <td>[\"At high temperatures sugar carmalizes and tr...</td>\n      <td>Starbucks Natural Fusions Caramel Ground Coffe...</td>\n      <td>['B00UW71SQQ', 'B01MDPYFBC', 'B071CL2TXK', 'B0...</td>\n      <td>Starbucks</td>\n      <td>261,295 in Grocery &amp; Gourmet Food (</td>\n      <td>['B00UW71SQQ', 'B00ILOYD96', 'B01LTI95ZM', 'B0...</td>\n      <td>Grocery</td>\n      <td>31.99</td>\n      <td>B0090X8JUG</td>\n      <td>{'Shipping Weight:': '4.8 pounds (', 'Domestic...</td>\n      <td>1.0</td>\n      <td>True</td>\n      <td>A3IILODDI2ZDFG</td>\n      <td>DISGUSTING!!!!!!!!  This is NOT the same item ...</td>\n      <td>This is NOT the same thing you buy in the stor...</td>\n      <td>NaN</td>\n      <td>{'Size:': ' 11 Ounce (Pack of 2)'}</td>\n      <td>False</td>\n    </tr>\n  </tbody>\n</table>\n</div>"
     },
     "execution_count": 30,
     "metadata": {},
     "output_type": "execute_result"
    }
   ],
   "source": [
    "df_test_subset.head(2)"
   ],
   "metadata": {
    "collapsed": false,
    "pycharm": {
     "name": "#%%\n"
    }
   }
  },
  {
   "cell_type": "code",
   "execution_count": 31,
   "outputs": [
    {
     "data": {
      "text/plain": "                                                 category  \\\n933722  ['Grocery & Gourmet Food', 'Snack Foods', 'Cra...   \n293456  ['Grocery & Gourmet Food', 'Herbs, Spices & Se...   \n\n                                              description  \\\n933722  ['Shortly after the American Revolution, at th...   \n293456  ['Flavorful Tip 1/8 tsp. McCormickGranulated G...   \n\n                                                    title  \\\n933722  New England Original Westminster Bakeries Oyst...   \n293456  McCormick Garlic, Granulated, 26-Ounce Units (...   \n\n                                                 also_buy               brand  \\\n933722  ['B000J2DQ46', 'B00EQD7F82', 'B0096POWJ0', 'B0...  Westminster Bakers   \n293456  ['B008OGCPSM', 'B008OU2XQW', 'B00FOLNUZC', 'B0...           McCormick   \n\n                                       rank  \\\n933722   18,324 in Grocery & Gourmet Food (   \n293456  198,987 in Grocery & Gourmet Food (   \n\n                                                also_view main_cat  price  \\\n933722                                                NaN  Grocery   5.51   \n293456  ['B074ZK8MQS', 'B001PQOATU', 'B008OU2XQW', 'B0...  Grocery    NaN   \n\n              asin                                            details  \\\n933722  B00Q3DQI0E  {'\\n    Product Dimensions: \\n    ': '8.5 x 2 ...   \n293456  B001EQ56NA  {'Shipping Weight:': '3.6 pounds', 'Domestic S...   \n\n        overall  verified      reviewerID  \\\n933722      5.0      True   AOLRD8F5KRBOB   \n293456      5.0      True  A2696CFF1SBXH0   \n\n                                               reviewText  \\\n933722  Oyster crackers were a terrific surprise for r...   \n293456                           Good quality and flavor.   \n\n                                                  summary  vote  \\\n933722  Oyster crackers were a terrific surprise for r...   NaN   \n293456                                         Five Stars   NaN   \n\n                      style  for_testing  \n933722                  NaN        False  \n293456  {'Size:': ' 26 oz'}        False  ",
      "text/html": "<div>\n<style scoped>\n    .dataframe tbody tr th:only-of-type {\n        vertical-align: middle;\n    }\n\n    .dataframe tbody tr th {\n        vertical-align: top;\n    }\n\n    .dataframe thead th {\n        text-align: right;\n    }\n</style>\n<table border=\"1\" class=\"dataframe\">\n  <thead>\n    <tr style=\"text-align: right;\">\n      <th></th>\n      <th>category</th>\n      <th>description</th>\n      <th>title</th>\n      <th>also_buy</th>\n      <th>brand</th>\n      <th>rank</th>\n      <th>also_view</th>\n      <th>main_cat</th>\n      <th>price</th>\n      <th>asin</th>\n      <th>details</th>\n      <th>overall</th>\n      <th>verified</th>\n      <th>reviewerID</th>\n      <th>reviewText</th>\n      <th>summary</th>\n      <th>vote</th>\n      <th>style</th>\n      <th>for_testing</th>\n    </tr>\n  </thead>\n  <tbody>\n    <tr>\n      <th>933722</th>\n      <td>['Grocery &amp; Gourmet Food', 'Snack Foods', 'Cra...</td>\n      <td>['Shortly after the American Revolution, at th...</td>\n      <td>New England Original Westminster Bakeries Oyst...</td>\n      <td>['B000J2DQ46', 'B00EQD7F82', 'B0096POWJ0', 'B0...</td>\n      <td>Westminster Bakers</td>\n      <td>18,324 in Grocery &amp; Gourmet Food (</td>\n      <td>NaN</td>\n      <td>Grocery</td>\n      <td>5.51</td>\n      <td>B00Q3DQI0E</td>\n      <td>{'\\n    Product Dimensions: \\n    ': '8.5 x 2 ...</td>\n      <td>5.0</td>\n      <td>True</td>\n      <td>AOLRD8F5KRBOB</td>\n      <td>Oyster crackers were a terrific surprise for r...</td>\n      <td>Oyster crackers were a terrific surprise for r...</td>\n      <td>NaN</td>\n      <td>NaN</td>\n      <td>False</td>\n    </tr>\n    <tr>\n      <th>293456</th>\n      <td>['Grocery &amp; Gourmet Food', 'Herbs, Spices &amp; Se...</td>\n      <td>['Flavorful Tip 1/8 tsp. McCormickGranulated G...</td>\n      <td>McCormick Garlic, Granulated, 26-Ounce Units (...</td>\n      <td>['B008OGCPSM', 'B008OU2XQW', 'B00FOLNUZC', 'B0...</td>\n      <td>McCormick</td>\n      <td>198,987 in Grocery &amp; Gourmet Food (</td>\n      <td>['B074ZK8MQS', 'B001PQOATU', 'B008OU2XQW', 'B0...</td>\n      <td>Grocery</td>\n      <td>NaN</td>\n      <td>B001EQ56NA</td>\n      <td>{'Shipping Weight:': '3.6 pounds', 'Domestic S...</td>\n      <td>5.0</td>\n      <td>True</td>\n      <td>A2696CFF1SBXH0</td>\n      <td>Good quality and flavor.</td>\n      <td>Five Stars</td>\n      <td>NaN</td>\n      <td>{'Size:': ' 26 oz'}</td>\n      <td>False</td>\n    </tr>\n  </tbody>\n</table>\n</div>"
     },
     "execution_count": 31,
     "metadata": {},
     "output_type": "execute_result"
    }
   ],
   "source": [
    "df_train_subset.head(2)"
   ],
   "metadata": {
    "collapsed": false,
    "pycharm": {
     "name": "#%%\n"
    }
   }
  },
  {
   "cell_type": "markdown",
   "source": [
    "## Save Data"
   ],
   "metadata": {
    "collapsed": false,
    "pycharm": {
     "name": "#%% md\n"
    }
   }
  },
  {
   "cell_type": "code",
   "execution_count": 32,
   "outputs": [],
   "source": [
    "# df_train.to_csv('../Data/training_data.csv', index=False)"
   ],
   "metadata": {
    "collapsed": false,
    "pycharm": {
     "name": "#%%\n"
    }
   }
  },
  {
   "cell_type": "code",
   "execution_count": 33,
   "outputs": [],
   "source": [
    "# df_test.to_csv('../Data/testing_data.csv', index=False)"
   ],
   "metadata": {
    "collapsed": false,
    "pycharm": {
     "name": "#%%\n"
    }
   }
  },
  {
   "cell_type": "markdown",
   "source": [
    "## References\n",
    "1) Unata 2015 [Hands-on with PyData: How to Build a Minimal Recommendation Engine](https://www.youtube.com/watch?v=F6gWjOc1FUs).  "
   ],
   "metadata": {
    "collapsed": false
   }
  }
 ],
 "metadata": {
  "kernelspec": {
   "name": "pycharm-cef1f773",
   "language": "python",
   "display_name": "PyCharm (pycon2015_tutorial322)"
  },
  "language_info": {
   "codemirror_mode": {
    "name": "ipython",
    "version": 2
   },
   "file_extension": ".py",
   "mimetype": "text/x-python",
   "name": "python",
   "nbconvert_exporter": "python",
   "pygments_lexer": "ipython2",
   "version": "2.7.6"
  }
 },
 "nbformat": 4,
 "nbformat_minor": 0
}