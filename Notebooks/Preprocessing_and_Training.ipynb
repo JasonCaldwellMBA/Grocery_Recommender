{
 "cells": [
  {
   "cell_type": "markdown",
   "source": [
    "# Minimal Recommendation Engine"
   ],
   "metadata": {
    "collapsed": false
   }
  },
  {
   "cell_type": "markdown",
   "source": [
    "### Notation <sup>[1]</sup>\n",
    "\n",
    "- $U$ is the set of users in our domain. Its size is $|U|$.\n",
    "- $I$ is the set of items in our domain. Its size is $|I|$.\n",
    "- $I(u)$ is the set of items that user $u$ has rated.\n",
    "- $-I(u)$ is the complement of $I(u)$ i.e., the set of items not yet seen by user $u$.\n",
    "- $U(i)$ is the set of users that have rated item $i$.\n",
    "- $-U(i)$ is the complement of $U(i)$.\n",
    "- $S(u,i)$ is a function that measures the utility of item $i$ for user $u$."
   ],
   "metadata": {
    "collapsed": false
   }
  },
  {
   "cell_type": "markdown",
   "source": [
    "### Goal of a recommendation system <sup>[1]</sup>\n",
    "\n",
    "$\n",
    "i^{*} = argmax_{i \\in -I(u)} S(u,i), \\forall{u \\in U}\n",
    "$"
   ],
   "metadata": {
    "collapsed": false
   }
  },
  {
   "cell_type": "markdown",
   "source": [
    "### Problem statement <sup>[1]</sup>\n",
    "\n",
    "The recommendation problem in its most basic form is quite simple to define:\n",
    "\n",
    "```\n",
    "|-------------------+-----+-----+-----+-----+-----|\n",
    "|  user_id, asin    | a_1 | a_2 | a_3 | a_4 | a_5 |\n",
    "|-------------------+-----+-----+-----+-----+-----|\n",
    "| u_1               | ?   | ?   | 4   | ?   | 1   |\n",
    "|-------------------+-----+-----+-----+-----+-----|\n",
    "| u_2               | 3   | ?   | ?   | 2   | 2   |\n",
    "|-------------------+-----+-----+-----+-----+-----|\n",
    "| u_3               | 3   | ?   | ?   | ?   | ?   |\n",
    "|-------------------+-----+-----+-----+-----+-----|\n",
    "| u_4               | ?   | 1   | 2   | 1   | 1   |\n",
    "|-------------------+-----+-----+-----+-----+-----|\n",
    "| u_5               | ?   | ?   | ?   | ?   | ?   |\n",
    "|-------------------+-----+-----+-----+-----+-----|\n",
    "| u_6               | 2   | ?   | 2   | ?   | ?   |\n",
    "|-------------------+-----+-----+-----+-----+-----|\n",
    "| u_7               | ?   | ?   | ?   | ?   | ?   |\n",
    "|-------------------+-----+-----+-----+-----+-----|\n",
    "| u_8               | 3   | 1   | 5   | ?   | ?   |\n",
    "|-------------------+-----+-----+-----+-----+-----|\n",
    "| u_9               | ?   | ?   | ?   | ?   | 2   |\n",
    "|-------------------+-----+-----+-----+-----+-----|\n",
    "```\n",
    "\n",
    "*Given a partially filled matrix of ratings ($|U|x|I|$), estimate the missing values.*"
   ],
   "metadata": {
    "collapsed": false
   }
  },
  {
   "cell_type": "markdown",
   "metadata": {
    "collapsed": true,
    "pycharm": {
     "name": "#%% md\n"
    }
   },
   "source": [
    "## Imports"
   ]
  },
  {
   "cell_type": "code",
   "execution_count": 1,
   "outputs": [],
   "source": [
    "import numpy as np\n",
    "import pandas as pd\n",
    "from sklearn.model_selection import train_test_split"
   ],
   "metadata": {
    "collapsed": false,
    "pycharm": {
     "name": "#%%\n"
    }
   }
  },
  {
   "cell_type": "markdown",
   "source": [
    "## Load Data"
   ],
   "metadata": {
    "collapsed": false
   }
  },
  {
   "cell_type": "code",
   "execution_count": 2,
   "outputs": [],
   "source": [
    "df = pd.read_csv('../Data/eda_data.csv')"
   ],
   "metadata": {
    "collapsed": false,
    "pycharm": {
     "name": "#%%\n"
    }
   }
  },
  {
   "cell_type": "code",
   "execution_count": 3,
   "outputs": [
    {
     "data": {
      "text/plain": "                                            category  \\\n0  ['Grocery & Gourmet Food', 'Beverages', 'Coffe...   \n1  ['Grocery & Gourmet Food', 'Beverages', 'Coffe...   \n\n                                         description  \\\n0  ['Lipton Yellow Label Tea use only the finest ...   \n1  ['Lipton Yellow Label Tea use only the finest ...   \n\n                                        title  \\\n0  Lipton Yellow Label Tea (loose tea) - 450g   \n1  Lipton Yellow Label Tea (loose tea) - 450g   \n\n                                            also_buy   brand  \\\n0  ['B00886E4K0', 'B00CREXSHY', 'B001QTRGAQ', 'B0...  Lipton   \n1  ['B00886E4K0', 'B00CREXSHY', 'B001QTRGAQ', 'B0...  Lipton   \n\n                                 rank  \\\n0  30,937 in Grocery & Gourmet Food (   \n1  30,937 in Grocery & Gourmet Food (   \n\n                                           also_view main_cat  price  \\\n0  ['B00CREXSHY', 'B001QTRGAQ', 'B000JSQK70', 'B0...  Grocery  12.46   \n1  ['B00CREXSHY', 'B001QTRGAQ', 'B000JSQK70', 'B0...  Grocery  12.46   \n\n         asin details  overall  verified      reviewerID  \\\n0  4639725043     NaN      5.0      True  A1J205ZK25TZ6W   \n1  4639725043     NaN      3.0      True   ACOICLIJQYECU   \n\n                                          reviewText  \\\n0  I make the best brewed iced tea with this yell...   \n1  I have recently started drinking hot tea again...   \n\n                     summary  vote style  \n0  Best for brewed iced tea.   8.0   NaN  \n1       Not Bad for iced Tea   9.0   NaN  ",
      "text/html": "<div>\n<style scoped>\n    .dataframe tbody tr th:only-of-type {\n        vertical-align: middle;\n    }\n\n    .dataframe tbody tr th {\n        vertical-align: top;\n    }\n\n    .dataframe thead th {\n        text-align: right;\n    }\n</style>\n<table border=\"1\" class=\"dataframe\">\n  <thead>\n    <tr style=\"text-align: right;\">\n      <th></th>\n      <th>category</th>\n      <th>description</th>\n      <th>title</th>\n      <th>also_buy</th>\n      <th>brand</th>\n      <th>rank</th>\n      <th>also_view</th>\n      <th>main_cat</th>\n      <th>price</th>\n      <th>asin</th>\n      <th>details</th>\n      <th>overall</th>\n      <th>verified</th>\n      <th>reviewerID</th>\n      <th>reviewText</th>\n      <th>summary</th>\n      <th>vote</th>\n      <th>style</th>\n    </tr>\n  </thead>\n  <tbody>\n    <tr>\n      <th>0</th>\n      <td>['Grocery &amp; Gourmet Food', 'Beverages', 'Coffe...</td>\n      <td>['Lipton Yellow Label Tea use only the finest ...</td>\n      <td>Lipton Yellow Label Tea (loose tea) - 450g</td>\n      <td>['B00886E4K0', 'B00CREXSHY', 'B001QTRGAQ', 'B0...</td>\n      <td>Lipton</td>\n      <td>30,937 in Grocery &amp; Gourmet Food (</td>\n      <td>['B00CREXSHY', 'B001QTRGAQ', 'B000JSQK70', 'B0...</td>\n      <td>Grocery</td>\n      <td>12.46</td>\n      <td>4639725043</td>\n      <td>NaN</td>\n      <td>5.0</td>\n      <td>True</td>\n      <td>A1J205ZK25TZ6W</td>\n      <td>I make the best brewed iced tea with this yell...</td>\n      <td>Best for brewed iced tea.</td>\n      <td>8.0</td>\n      <td>NaN</td>\n    </tr>\n    <tr>\n      <th>1</th>\n      <td>['Grocery &amp; Gourmet Food', 'Beverages', 'Coffe...</td>\n      <td>['Lipton Yellow Label Tea use only the finest ...</td>\n      <td>Lipton Yellow Label Tea (loose tea) - 450g</td>\n      <td>['B00886E4K0', 'B00CREXSHY', 'B001QTRGAQ', 'B0...</td>\n      <td>Lipton</td>\n      <td>30,937 in Grocery &amp; Gourmet Food (</td>\n      <td>['B00CREXSHY', 'B001QTRGAQ', 'B000JSQK70', 'B0...</td>\n      <td>Grocery</td>\n      <td>12.46</td>\n      <td>4639725043</td>\n      <td>NaN</td>\n      <td>3.0</td>\n      <td>True</td>\n      <td>ACOICLIJQYECU</td>\n      <td>I have recently started drinking hot tea again...</td>\n      <td>Not Bad for iced Tea</td>\n      <td>9.0</td>\n      <td>NaN</td>\n    </tr>\n  </tbody>\n</table>\n</div>"
     },
     "execution_count": 3,
     "metadata": {},
     "output_type": "execute_result"
    }
   ],
   "source": [
    "df.head(2)"
   ],
   "metadata": {
    "collapsed": false,
    "pycharm": {
     "name": "#%%\n"
    }
   }
  },
  {
   "cell_type": "code",
   "execution_count": 4,
   "outputs": [
    {
     "name": "stdout",
     "output_type": "stream",
     "text": [
      "<class 'pandas.core.frame.DataFrame'>\n",
      "RangeIndex: 1086548 entries, 0 to 1086547\n",
      "Data columns (total 18 columns):\n",
      " #   Column       Non-Null Count    Dtype  \n",
      "---  ------       --------------    -----  \n",
      " 0   category     1086548 non-null  object \n",
      " 1   description  993137 non-null   object \n",
      " 2   title        1086548 non-null  object \n",
      " 3   also_buy     929733 non-null   object \n",
      " 4   brand        1078563 non-null  object \n",
      " 5   rank         1042485 non-null  object \n",
      " 6   also_view    578911 non-null   object \n",
      " 7   main_cat     1085268 non-null  object \n",
      " 8   price        752804 non-null   float64\n",
      " 9   asin         1086548 non-null  object \n",
      " 10  details      1086497 non-null  object \n",
      " 11  overall      1086548 non-null  float64\n",
      " 12  verified     1086548 non-null  bool   \n",
      " 13  reviewerID   1086548 non-null  object \n",
      " 14  reviewText   1086175 non-null  object \n",
      " 15  summary      1086335 non-null  object \n",
      " 16  vote         149486 non-null   float64\n",
      " 17  style        561516 non-null   object \n",
      "dtypes: bool(1), float64(3), object(14)\n",
      "memory usage: 142.0+ MB\n"
     ]
    }
   ],
   "source": [
    "df.info()"
   ],
   "metadata": {
    "collapsed": false,
    "pycharm": {
     "name": "#%%\n"
    }
   }
  },
  {
   "cell_type": "markdown",
   "source": [
    "### Preprocessing: split ratings into train and test sets"
   ],
   "metadata": {
    "collapsed": false
   }
  },
  {
   "cell_type": "code",
   "execution_count": 5,
   "outputs": [
    {
     "name": "stdout",
     "output_type": "stream",
     "text": [
      "(1086548, 18)\n",
      "127496\n",
      "41280\n"
     ]
    }
   ],
   "source": [
    "# Full grocery data set\n",
    "print(df.shape)\n",
    "print(df.reviewerID.nunique())\n",
    "print(df.asin.nunique())"
   ],
   "metadata": {
    "collapsed": false,
    "pycharm": {
     "name": "#%%\n"
    }
   }
  },
  {
   "cell_type": "code",
   "execution_count": 6,
   "outputs": [
    {
     "name": "stdout",
     "output_type": "stream",
     "text": [
      "(10000, 18)\n",
      "9373\n",
      "6669\n"
     ]
    }
   ],
   "source": [
    "# Subset of grocery dataset for testing a speed reasons\n",
    "df_subset = df.iloc[np.random.choice(df.index, size=10000, replace=False)]\n",
    "print(df_subset.shape)\n",
    "print(df_subset.reviewerID.nunique())\n",
    "print(df_subset.asin.nunique())"
   ],
   "metadata": {
    "collapsed": false,
    "pycharm": {
     "name": "#%%\n"
    }
   }
  },
  {
   "cell_type": "markdown",
   "source": [
    "### Train test split using custom function\n",
    "Generate train and test subsets using an 80/20 split."
   ],
   "metadata": {
    "collapsed": false,
    "pycharm": {
     "name": "#%% md\n"
    }
   }
  },
  {
   "cell_type": "code",
   "execution_count": 6,
   "outputs": [],
   "source": [],
   "metadata": {
    "collapsed": false,
    "pycharm": {
     "name": "#%%\n"
    }
   }
  },
  {
   "cell_type": "code",
   "execution_count": 7,
   "outputs": [
    {
     "name": "stdout",
     "output_type": "stream",
     "text": [
      "(1086548, 18)\n",
      "(869238, 18)\n",
      "(217310, 18)\n"
     ]
    }
   ],
   "source": [
    "df_train, df_test = train_test_split(df, test_size=0.2, random_state=26)\n",
    "print(df.shape)\n",
    "print(df_train.shape)\n",
    "print(df_test.shape)\n",
    "assert len(df_train.index.intersection(df_test.index)) == 0"
   ],
   "metadata": {
    "collapsed": false,
    "pycharm": {
     "name": "#%%\n"
    }
   }
  },
  {
   "cell_type": "code",
   "execution_count": 8,
   "outputs": [
    {
     "data": {
      "text/plain": "                                                 category  \\\n906154  ['Grocery & Gourmet Food', 'Beverages', 'Bottl...   \n663706  ['Grocery & Gourmet Food', 'Beverages', 'Coffe...   \n\n                                              description  \\\n906154  ['Bai Bubbles Jamaica Blood Orange is a refres...   \n663706  ['The awesome, centering energy of golden turm...   \n\n                                                    title  \\\n906154  Bai Bubbles, Sparkling Water, Jamaica Blood Or...   \n663706  Rishi Tea Organic Caffeine-Free Turmeric Ginge...   \n\n                                                 also_buy      brand  \\\n906154  ['B004JLRYCS', 'B0799978Q3', 'B017W3QUL0', 'B0...        bai   \n663706  ['B008YDOKL0', 'B00E7VTFHC', 'B00CX33V6C', 'B0...  Rishi Tea   \n\n                                     rank  \\\n906154  3,954 in Grocery & Gourmet Food (   \n663706  4,193 in Grocery & Gourmet Food (   \n\n                                                also_view main_cat  price  \\\n906154                                                NaN  Grocery  20.02   \n663706  ['B017TNT4K2', 'B01CIW4ELI', 'B006PTWQJI', 'B0...  Grocery    NaN   \n\n              asin                                            details  \\\n906154  B00N14ZDDQ  {'\\n    Item Weight: \\n    ': '11.5 ounces', '...   \n663706  B00AR6Q5JC  {'\\n    Product Dimensions: \\n    ': '2.8 x 2....   \n\n        overall  verified      reviewerID  \\\n906154      4.0     False   APYHSY5CVS48I   \n663706      5.0      True  A2E7UZ9BLOTZVO   \n\n                                               reviewText  \\\n906154  This is probably my favorite Bai bubbles.  I s...   \n663706  I love the taste and it helps my chronic tendo...   \n\n                                       summary  vote  \\\n906154  Pretty good.  My favorite Bai Bubbles!   NaN   \n663706                           Great product   NaN   \n\n                                       style  \n906154  {'Flavor:': ' Waikiki Coconut Lime'}  \n663706                                   NaN  ",
      "text/html": "<div>\n<style scoped>\n    .dataframe tbody tr th:only-of-type {\n        vertical-align: middle;\n    }\n\n    .dataframe tbody tr th {\n        vertical-align: top;\n    }\n\n    .dataframe thead th {\n        text-align: right;\n    }\n</style>\n<table border=\"1\" class=\"dataframe\">\n  <thead>\n    <tr style=\"text-align: right;\">\n      <th></th>\n      <th>category</th>\n      <th>description</th>\n      <th>title</th>\n      <th>also_buy</th>\n      <th>brand</th>\n      <th>rank</th>\n      <th>also_view</th>\n      <th>main_cat</th>\n      <th>price</th>\n      <th>asin</th>\n      <th>details</th>\n      <th>overall</th>\n      <th>verified</th>\n      <th>reviewerID</th>\n      <th>reviewText</th>\n      <th>summary</th>\n      <th>vote</th>\n      <th>style</th>\n    </tr>\n  </thead>\n  <tbody>\n    <tr>\n      <th>906154</th>\n      <td>['Grocery &amp; Gourmet Food', 'Beverages', 'Bottl...</td>\n      <td>['Bai Bubbles Jamaica Blood Orange is a refres...</td>\n      <td>Bai Bubbles, Sparkling Water, Jamaica Blood Or...</td>\n      <td>['B004JLRYCS', 'B0799978Q3', 'B017W3QUL0', 'B0...</td>\n      <td>bai</td>\n      <td>3,954 in Grocery &amp; Gourmet Food (</td>\n      <td>NaN</td>\n      <td>Grocery</td>\n      <td>20.02</td>\n      <td>B00N14ZDDQ</td>\n      <td>{'\\n    Item Weight: \\n    ': '11.5 ounces', '...</td>\n      <td>4.0</td>\n      <td>False</td>\n      <td>APYHSY5CVS48I</td>\n      <td>This is probably my favorite Bai bubbles.  I s...</td>\n      <td>Pretty good.  My favorite Bai Bubbles!</td>\n      <td>NaN</td>\n      <td>{'Flavor:': ' Waikiki Coconut Lime'}</td>\n    </tr>\n    <tr>\n      <th>663706</th>\n      <td>['Grocery &amp; Gourmet Food', 'Beverages', 'Coffe...</td>\n      <td>['The awesome, centering energy of golden turm...</td>\n      <td>Rishi Tea Organic Caffeine-Free Turmeric Ginge...</td>\n      <td>['B008YDOKL0', 'B00E7VTFHC', 'B00CX33V6C', 'B0...</td>\n      <td>Rishi Tea</td>\n      <td>4,193 in Grocery &amp; Gourmet Food (</td>\n      <td>['B017TNT4K2', 'B01CIW4ELI', 'B006PTWQJI', 'B0...</td>\n      <td>Grocery</td>\n      <td>NaN</td>\n      <td>B00AR6Q5JC</td>\n      <td>{'\\n    Product Dimensions: \\n    ': '2.8 x 2....</td>\n      <td>5.0</td>\n      <td>True</td>\n      <td>A2E7UZ9BLOTZVO</td>\n      <td>I love the taste and it helps my chronic tendo...</td>\n      <td>Great product</td>\n      <td>NaN</td>\n      <td>NaN</td>\n    </tr>\n  </tbody>\n</table>\n</div>"
     },
     "execution_count": 8,
     "metadata": {},
     "output_type": "execute_result"
    }
   ],
   "source": [
    "df_test.head(2)"
   ],
   "metadata": {
    "collapsed": false,
    "pycharm": {
     "name": "#%%\n"
    }
   }
  },
  {
   "cell_type": "code",
   "execution_count": 9,
   "outputs": [
    {
     "data": {
      "text/plain": "                                                 category  \\\n93329   ['Grocery & Gourmet Food', 'Snack Foods', 'Coo...   \n481878  ['Grocery & Gourmet Food', 'Cooking & Baking',...   \n\n                                              description  \\\n93329   ['The Original Digestive: Wheat meal Biscuit. ...   \n481878  [\"Over time, CARNATION Milk has found its way ...   \n\n                                                    title  \\\n93329   McVitie's Digestive Biscuits -400g 3 Pack, Ori...   \n481878  Nestle Carnation Instant Nonfat Dry Milk, 25.6...   \n\n                                                 also_buy      brand  \\\n93329   ['B000F9X40O', 'B00I8VS45G', 'B009CS3LNE', 'B0...  McVitie's   \n481878  ['B005CUM0J2', 'B0054DDBGI', 'B00FRFRZF6', 'B0...  Carnation   \n\n                                      rank  \\\n93329    7,580 in Grocery & Gourmet Food (   \n481878  20,889 in Grocery & Gourmet Food (   \n\n                                                also_view main_cat  price  \\\n93329   ['B000JSOC0C', 'B000F9X40O', 'B00I8VS45G', 'B0...  Grocery  12.59   \n481878  ['B0054DDBGI', 'B00FRFRZF6', 'B004K0862K', 'B0...  Grocery    NaN   \n\n              asin                                            details  \\\n93329   B000FA8SH2  {'\\n    Product Dimensions: \\n    ': '6 x 4 x ...   \n481878  B004VITI0K  {'Shipping Weight:': '1.7 pounds', 'Domestic S...   \n\n        overall  verified     reviewerID  \\\n93329       5.0      True  A6KL17KKN0A5L   \n481878      4.0      True  AAOY6JB236XZW   \n\n                                               reviewText  \\\n93329   I grew up with Digestives biscuits, and nothin...   \n481878  Expensive but what can you do?  I need it for ...   \n\n                                            summary  vote  \\\n93329   and nothing goes better with tea than these   NaN   \n481878                                         Good   NaN   \n\n                          style  \n93329   {'Size:': ' Pack of 3'}  \n481878  {'Size:': ' Pack of 1'}  ",
      "text/html": "<div>\n<style scoped>\n    .dataframe tbody tr th:only-of-type {\n        vertical-align: middle;\n    }\n\n    .dataframe tbody tr th {\n        vertical-align: top;\n    }\n\n    .dataframe thead th {\n        text-align: right;\n    }\n</style>\n<table border=\"1\" class=\"dataframe\">\n  <thead>\n    <tr style=\"text-align: right;\">\n      <th></th>\n      <th>category</th>\n      <th>description</th>\n      <th>title</th>\n      <th>also_buy</th>\n      <th>brand</th>\n      <th>rank</th>\n      <th>also_view</th>\n      <th>main_cat</th>\n      <th>price</th>\n      <th>asin</th>\n      <th>details</th>\n      <th>overall</th>\n      <th>verified</th>\n      <th>reviewerID</th>\n      <th>reviewText</th>\n      <th>summary</th>\n      <th>vote</th>\n      <th>style</th>\n    </tr>\n  </thead>\n  <tbody>\n    <tr>\n      <th>93329</th>\n      <td>['Grocery &amp; Gourmet Food', 'Snack Foods', 'Coo...</td>\n      <td>['The Original Digestive: Wheat meal Biscuit. ...</td>\n      <td>McVitie's Digestive Biscuits -400g 3 Pack, Ori...</td>\n      <td>['B000F9X40O', 'B00I8VS45G', 'B009CS3LNE', 'B0...</td>\n      <td>McVitie's</td>\n      <td>7,580 in Grocery &amp; Gourmet Food (</td>\n      <td>['B000JSOC0C', 'B000F9X40O', 'B00I8VS45G', 'B0...</td>\n      <td>Grocery</td>\n      <td>12.59</td>\n      <td>B000FA8SH2</td>\n      <td>{'\\n    Product Dimensions: \\n    ': '6 x 4 x ...</td>\n      <td>5.0</td>\n      <td>True</td>\n      <td>A6KL17KKN0A5L</td>\n      <td>I grew up with Digestives biscuits, and nothin...</td>\n      <td>and nothing goes better with tea than these</td>\n      <td>NaN</td>\n      <td>{'Size:': ' Pack of 3'}</td>\n    </tr>\n    <tr>\n      <th>481878</th>\n      <td>['Grocery &amp; Gourmet Food', 'Cooking &amp; Baking',...</td>\n      <td>[\"Over time, CARNATION Milk has found its way ...</td>\n      <td>Nestle Carnation Instant Nonfat Dry Milk, 25.6...</td>\n      <td>['B005CUM0J2', 'B0054DDBGI', 'B00FRFRZF6', 'B0...</td>\n      <td>Carnation</td>\n      <td>20,889 in Grocery &amp; Gourmet Food (</td>\n      <td>['B0054DDBGI', 'B00FRFRZF6', 'B004K0862K', 'B0...</td>\n      <td>Grocery</td>\n      <td>NaN</td>\n      <td>B004VITI0K</td>\n      <td>{'Shipping Weight:': '1.7 pounds', 'Domestic S...</td>\n      <td>4.0</td>\n      <td>True</td>\n      <td>AAOY6JB236XZW</td>\n      <td>Expensive but what can you do?  I need it for ...</td>\n      <td>Good</td>\n      <td>NaN</td>\n      <td>{'Size:': ' Pack of 1'}</td>\n    </tr>\n  </tbody>\n</table>\n</div>"
     },
     "execution_count": 9,
     "metadata": {},
     "output_type": "execute_result"
    }
   ],
   "source": [
    "df_train.head(2)"
   ],
   "metadata": {
    "collapsed": false,
    "pycharm": {
     "name": "#%%\n"
    }
   }
  },
  {
   "cell_type": "code",
   "execution_count": 10,
   "outputs": [
    {
     "name": "stdout",
     "output_type": "stream",
     "text": [
      "(10000, 18)\n",
      "(8000, 19)\n",
      "(2000, 19)\n"
     ]
    },
    {
     "name": "stderr",
     "output_type": "stream",
     "text": [
      "<ipython-input-10-4a629cea4478>:2: SettingWithCopyWarning: \n",
      "A value is trying to be set on a copy of a slice from a DataFrame.\n",
      "Try using .loc[row_indexer,col_indexer] = value instead\n",
      "\n",
      "See the caveats in the documentation: https://pandas.pydata.org/pandas-docs/stable/user_guide/indexing.html#returning-a-view-versus-a-copy\n",
      "  df_train_subset['for_testing'] = False\n",
      "<ipython-input-10-4a629cea4478>:3: SettingWithCopyWarning: \n",
      "A value is trying to be set on a copy of a slice from a DataFrame.\n",
      "Try using .loc[row_indexer,col_indexer] = value instead\n",
      "\n",
      "See the caveats in the documentation: https://pandas.pydata.org/pandas-docs/stable/user_guide/indexing.html#returning-a-view-versus-a-copy\n",
      "  df_test_subset['for_testing'] = True\n"
     ]
    }
   ],
   "source": [
    "df_train_subset, df_test_subset = train_test_split(df_subset, test_size=0.2, random_state=123)\n",
    "df_train_subset['for_testing'] = False\n",
    "df_test_subset['for_testing'] = True\n",
    "print(df_subset.shape)\n",
    "print(df_train_subset.shape)\n",
    "print(df_test_subset.shape)"
   ],
   "metadata": {
    "collapsed": false,
    "pycharm": {
     "name": "#%%\n"
    }
   }
  },
  {
   "cell_type": "code",
   "execution_count": 11,
   "outputs": [
    {
     "data": {
      "text/plain": "                                                 category description  \\\n715571  ['Grocery & Gourmet Food', 'Herbs, Spices & Se...         NaN   \n434633  ['Grocery & Gourmet Food', 'Beverages', 'Coffe...         NaN   \n\n                                         title  \\\n715571  Bay Leaves, Ground-4oz-Bay Leaf Powder   \n434633    Aiya Organic Ceremonial Matcha (30g)   \n\n                                                 also_buy            brand  \\\n715571  ['B00PXAWB1I', 'B000N8MTWG', 'B000N4OF6S', 'B0...  Red Bunny Farms   \n434633  ['B006LLWB8G', 'B003VSEG7Q', 'B00L9IEBE8', 'B0...             Aiya   \n\n                                      rank also_view main_cat  price  \\\n715571  25,024 in Grocery & Gourmet Food (       NaN  Grocery   6.88   \n434633  27,596 in Grocery & Gourmet Food (       NaN  Grocery  24.03   \n\n              asin                                            details  \\\n715571  B00CJ27NJS  {'Shipping Weight:': '4 ounces (', 'ASIN: ': '...   \n434633  B00447S4YY  {'\\n    Product Dimensions: \\n    ': '2.5 x 2....   \n\n        overall  verified      reviewerID  \\\n715571      4.0      True  A3BBZVH5MRLC7O   \n434633      4.0      True  A11B369RS9ON4L   \n\n                                               reviewText  \\\n715571  good bay leaf powder, but only needed a very s...   \n434633                        Nice,  but a little clumpy.   \n\n                     summary  vote                    style  for_testing  \n715571  good bay leaf powder   NaN                      NaN         True  \n434633                Clumpy   NaN  {'Size:': ' 100 grams'}         True  ",
      "text/html": "<div>\n<style scoped>\n    .dataframe tbody tr th:only-of-type {\n        vertical-align: middle;\n    }\n\n    .dataframe tbody tr th {\n        vertical-align: top;\n    }\n\n    .dataframe thead th {\n        text-align: right;\n    }\n</style>\n<table border=\"1\" class=\"dataframe\">\n  <thead>\n    <tr style=\"text-align: right;\">\n      <th></th>\n      <th>category</th>\n      <th>description</th>\n      <th>title</th>\n      <th>also_buy</th>\n      <th>brand</th>\n      <th>rank</th>\n      <th>also_view</th>\n      <th>main_cat</th>\n      <th>price</th>\n      <th>asin</th>\n      <th>details</th>\n      <th>overall</th>\n      <th>verified</th>\n      <th>reviewerID</th>\n      <th>reviewText</th>\n      <th>summary</th>\n      <th>vote</th>\n      <th>style</th>\n      <th>for_testing</th>\n    </tr>\n  </thead>\n  <tbody>\n    <tr>\n      <th>715571</th>\n      <td>['Grocery &amp; Gourmet Food', 'Herbs, Spices &amp; Se...</td>\n      <td>NaN</td>\n      <td>Bay Leaves, Ground-4oz-Bay Leaf Powder</td>\n      <td>['B00PXAWB1I', 'B000N8MTWG', 'B000N4OF6S', 'B0...</td>\n      <td>Red Bunny Farms</td>\n      <td>25,024 in Grocery &amp; Gourmet Food (</td>\n      <td>NaN</td>\n      <td>Grocery</td>\n      <td>6.88</td>\n      <td>B00CJ27NJS</td>\n      <td>{'Shipping Weight:': '4 ounces (', 'ASIN: ': '...</td>\n      <td>4.0</td>\n      <td>True</td>\n      <td>A3BBZVH5MRLC7O</td>\n      <td>good bay leaf powder, but only needed a very s...</td>\n      <td>good bay leaf powder</td>\n      <td>NaN</td>\n      <td>NaN</td>\n      <td>True</td>\n    </tr>\n    <tr>\n      <th>434633</th>\n      <td>['Grocery &amp; Gourmet Food', 'Beverages', 'Coffe...</td>\n      <td>NaN</td>\n      <td>Aiya Organic Ceremonial Matcha (30g)</td>\n      <td>['B006LLWB8G', 'B003VSEG7Q', 'B00L9IEBE8', 'B0...</td>\n      <td>Aiya</td>\n      <td>27,596 in Grocery &amp; Gourmet Food (</td>\n      <td>NaN</td>\n      <td>Grocery</td>\n      <td>24.03</td>\n      <td>B00447S4YY</td>\n      <td>{'\\n    Product Dimensions: \\n    ': '2.5 x 2....</td>\n      <td>4.0</td>\n      <td>True</td>\n      <td>A11B369RS9ON4L</td>\n      <td>Nice,  but a little clumpy.</td>\n      <td>Clumpy</td>\n      <td>NaN</td>\n      <td>{'Size:': ' 100 grams'}</td>\n      <td>True</td>\n    </tr>\n  </tbody>\n</table>\n</div>"
     },
     "execution_count": 11,
     "metadata": {},
     "output_type": "execute_result"
    }
   ],
   "source": [
    "df_test_subset.head(2)"
   ],
   "metadata": {
    "collapsed": false,
    "pycharm": {
     "name": "#%%\n"
    }
   }
  },
  {
   "cell_type": "code",
   "execution_count": 12,
   "outputs": [
    {
     "data": {
      "text/plain": "                                                 category  \\\n865780  ['Grocery & Gourmet Food', 'Beverages', 'Coffe...   \n262733  ['Grocery & Gourmet Food', 'Beverages', 'Coffe...   \n\n                                              description  \\\n865780  ['This sampler pack includes 50 premium gourme...   \n262733  ['Organic French Roast, Dark Roast, Caffeine F...   \n\n                                                    title  \\\n865780  Coffee, Tea, and Hot Chocolate Variety Sampler...   \n262733  Teeccino Maya Herbal Coffee Caffe Dark Roast F...   \n\n                                                 also_buy  \\\n865780  ['B003KRHDNC', 'B00N5I46BI', 'B071Z8LD77', 'B0...   \n262733  ['B072FJCVZQ', 'B00TZ5UV28', 'B07FDPWMJ1', 'B0...   \n\n                      brand                                rank also_view  \\\n865780  Custom Variety Pack   1,988 in Grocery & Gourmet Food (       NaN   \n262733             Teeccino  58,716 in Grocery & Gourmet Food (       NaN   \n\n       main_cat  price        asin  \\\n865780  Grocery  29.75  B00K2RYBMO   \n262733  Grocery  10.00  B001BYGJLS   \n\n                                                  details  overall  verified  \\\n865780  {'Shipping Weight:': '2 pounds (', 'Domestic S...      5.0      True   \n262733  {'\\n    Product Dimensions: \\n    ': '6 x 6 x ...      3.0      True   \n\n            reviewerID                                         reviewText  \\\n865780   AZBWA0QDFA2XR  This sampler has a really great variety. I fou...   \n262733  A152DM9G44QW8J                                          It is OK.   \n\n                             summary  vote  \\\n865780  No duplicates, great variety   2.0   \n262733                   Three Stars   NaN   \n\n                                                  style  for_testing  \n865780                                              NaN        False  \n262733  {'Size:': ' 11 oz', 'Flavor:': ' French Roast'}        False  ",
      "text/html": "<div>\n<style scoped>\n    .dataframe tbody tr th:only-of-type {\n        vertical-align: middle;\n    }\n\n    .dataframe tbody tr th {\n        vertical-align: top;\n    }\n\n    .dataframe thead th {\n        text-align: right;\n    }\n</style>\n<table border=\"1\" class=\"dataframe\">\n  <thead>\n    <tr style=\"text-align: right;\">\n      <th></th>\n      <th>category</th>\n      <th>description</th>\n      <th>title</th>\n      <th>also_buy</th>\n      <th>brand</th>\n      <th>rank</th>\n      <th>also_view</th>\n      <th>main_cat</th>\n      <th>price</th>\n      <th>asin</th>\n      <th>details</th>\n      <th>overall</th>\n      <th>verified</th>\n      <th>reviewerID</th>\n      <th>reviewText</th>\n      <th>summary</th>\n      <th>vote</th>\n      <th>style</th>\n      <th>for_testing</th>\n    </tr>\n  </thead>\n  <tbody>\n    <tr>\n      <th>865780</th>\n      <td>['Grocery &amp; Gourmet Food', 'Beverages', 'Coffe...</td>\n      <td>['This sampler pack includes 50 premium gourme...</td>\n      <td>Coffee, Tea, and Hot Chocolate Variety Sampler...</td>\n      <td>['B003KRHDNC', 'B00N5I46BI', 'B071Z8LD77', 'B0...</td>\n      <td>Custom Variety Pack</td>\n      <td>1,988 in Grocery &amp; Gourmet Food (</td>\n      <td>NaN</td>\n      <td>Grocery</td>\n      <td>29.75</td>\n      <td>B00K2RYBMO</td>\n      <td>{'Shipping Weight:': '2 pounds (', 'Domestic S...</td>\n      <td>5.0</td>\n      <td>True</td>\n      <td>AZBWA0QDFA2XR</td>\n      <td>This sampler has a really great variety. I fou...</td>\n      <td>No duplicates, great variety</td>\n      <td>2.0</td>\n      <td>NaN</td>\n      <td>False</td>\n    </tr>\n    <tr>\n      <th>262733</th>\n      <td>['Grocery &amp; Gourmet Food', 'Beverages', 'Coffe...</td>\n      <td>['Organic French Roast, Dark Roast, Caffeine F...</td>\n      <td>Teeccino Maya Herbal Coffee Caffe Dark Roast F...</td>\n      <td>['B072FJCVZQ', 'B00TZ5UV28', 'B07FDPWMJ1', 'B0...</td>\n      <td>Teeccino</td>\n      <td>58,716 in Grocery &amp; Gourmet Food (</td>\n      <td>NaN</td>\n      <td>Grocery</td>\n      <td>10.00</td>\n      <td>B001BYGJLS</td>\n      <td>{'\\n    Product Dimensions: \\n    ': '6 x 6 x ...</td>\n      <td>3.0</td>\n      <td>True</td>\n      <td>A152DM9G44QW8J</td>\n      <td>It is OK.</td>\n      <td>Three Stars</td>\n      <td>NaN</td>\n      <td>{'Size:': ' 11 oz', 'Flavor:': ' French Roast'}</td>\n      <td>False</td>\n    </tr>\n  </tbody>\n</table>\n</div>"
     },
     "execution_count": 12,
     "metadata": {},
     "output_type": "execute_result"
    }
   ],
   "source": [
    "df_train_subset.head(2)"
   ],
   "metadata": {
    "collapsed": false,
    "pycharm": {
     "name": "#%%\n"
    }
   }
  },
  {
   "cell_type": "markdown",
   "source": [
    "## Save Data"
   ],
   "metadata": {
    "collapsed": false,
    "pycharm": {
     "name": "#%% md\n"
    }
   }
  },
  {
   "cell_type": "code",
   "execution_count": 13,
   "outputs": [],
   "source": [
    "df_train.to_csv('../Data/training_data.csv', index=False)\n",
    "df_test.to_csv('../Data/testing_data.csv', index=False)\n",
    "df_train_subset.to_csv('../Data/training_data_subset.csv', index=False)\n",
    "df_test_subset.to_csv('../Data/testing_data_subset.csv', index=False)"
   ],
   "metadata": {
    "collapsed": false,
    "pycharm": {
     "name": "#%%\n"
    }
   }
  },
  {
   "cell_type": "markdown",
   "source": [
    "## References\n",
    "1) Unata 2015 [Hands-on with PyData: How to Build a Minimal Recommendation Engine](https://www.youtube.com/watch?v=F6gWjOc1FUs).  "
   ],
   "metadata": {
    "collapsed": false
   }
  }
 ],
 "metadata": {
  "kernelspec": {
   "name": "pycharm-cef1f773",
   "language": "python",
   "display_name": "PyCharm (pycon2015_tutorial322)"
  },
  "language_info": {
   "codemirror_mode": {
    "name": "ipython",
    "version": 2
   },
   "file_extension": ".py",
   "mimetype": "text/x-python",
   "name": "python",
   "nbconvert_exporter": "python",
   "pygments_lexer": "ipython2",
   "version": "2.7.6"
  }
 },
 "nbformat": 4,
 "nbformat_minor": 0
}