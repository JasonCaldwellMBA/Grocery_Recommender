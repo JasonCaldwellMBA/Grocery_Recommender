{
 "cells": [
  {
   "cell_type": "markdown",
   "metadata": {
    "collapsed": true,
    "pycharm": {
     "name": "#%% md\n"
    }
   },
   "source": [
    "## Imports"
   ]
  },
  {
   "cell_type": "code",
   "execution_count": 1,
   "outputs": [],
   "source": [
    "import pandas as pd"
   ],
   "metadata": {
    "collapsed": false,
    "pycharm": {
     "name": "#%%\n"
    }
   }
  },
  {
   "cell_type": "markdown",
   "source": [
    "## Data Summary"
   ],
   "metadata": {
    "collapsed": false
   }
  },
  {
   "cell_type": "code",
   "execution_count": 2,
   "outputs": [],
   "source": [
    "df = pd.read_csv('../Data/eda_data.csv')"
   ],
   "metadata": {
    "collapsed": false,
    "pycharm": {
     "name": "#%%\n"
    }
   }
  },
  {
   "cell_type": "code",
   "execution_count": 3,
   "outputs": [
    {
     "data": {
      "text/plain": "                                            category  \\\n0  ['Grocery & Gourmet Food', 'Beverages', 'Coffe...   \n1  ['Grocery & Gourmet Food', 'Beverages', 'Coffe...   \n\n                                         description  \\\n0  ['Lipton Yellow Label Tea use only the finest ...   \n1  ['Lipton Yellow Label Tea use only the finest ...   \n\n                                        title  \\\n0  Lipton Yellow Label Tea (loose tea) - 450g   \n1  Lipton Yellow Label Tea (loose tea) - 450g   \n\n                                            also_buy   brand  \\\n0  ['B00886E4K0', 'B00CREXSHY', 'B001QTRGAQ', 'B0...  Lipton   \n1  ['B00886E4K0', 'B00CREXSHY', 'B001QTRGAQ', 'B0...  Lipton   \n\n                                 rank main_cat        asin details  overall  \\\n0  30,937 in Grocery & Gourmet Food (  Grocery  4639725043     NaN      5.0   \n1  30,937 in Grocery & Gourmet Food (  Grocery  4639725043     NaN      3.0   \n\n   verified      reviewerID  \\\n0      True  A1J205ZK25TZ6W   \n1      True   ACOICLIJQYECU   \n\n                                          reviewText  \\\n0  I make the best brewed iced tea with this yell...   \n1  I have recently started drinking hot tea again...   \n\n                     summary  \n0  Best for brewed iced tea.  \n1       Not Bad for iced Tea  ",
      "text/html": "<div>\n<style scoped>\n    .dataframe tbody tr th:only-of-type {\n        vertical-align: middle;\n    }\n\n    .dataframe tbody tr th {\n        vertical-align: top;\n    }\n\n    .dataframe thead th {\n        text-align: right;\n    }\n</style>\n<table border=\"1\" class=\"dataframe\">\n  <thead>\n    <tr style=\"text-align: right;\">\n      <th></th>\n      <th>category</th>\n      <th>description</th>\n      <th>title</th>\n      <th>also_buy</th>\n      <th>brand</th>\n      <th>rank</th>\n      <th>main_cat</th>\n      <th>asin</th>\n      <th>details</th>\n      <th>overall</th>\n      <th>verified</th>\n      <th>reviewerID</th>\n      <th>reviewText</th>\n      <th>summary</th>\n    </tr>\n  </thead>\n  <tbody>\n    <tr>\n      <th>0</th>\n      <td>['Grocery &amp; Gourmet Food', 'Beverages', 'Coffe...</td>\n      <td>['Lipton Yellow Label Tea use only the finest ...</td>\n      <td>Lipton Yellow Label Tea (loose tea) - 450g</td>\n      <td>['B00886E4K0', 'B00CREXSHY', 'B001QTRGAQ', 'B0...</td>\n      <td>Lipton</td>\n      <td>30,937 in Grocery &amp; Gourmet Food (</td>\n      <td>Grocery</td>\n      <td>4639725043</td>\n      <td>NaN</td>\n      <td>5.0</td>\n      <td>True</td>\n      <td>A1J205ZK25TZ6W</td>\n      <td>I make the best brewed iced tea with this yell...</td>\n      <td>Best for brewed iced tea.</td>\n    </tr>\n    <tr>\n      <th>1</th>\n      <td>['Grocery &amp; Gourmet Food', 'Beverages', 'Coffe...</td>\n      <td>['Lipton Yellow Label Tea use only the finest ...</td>\n      <td>Lipton Yellow Label Tea (loose tea) - 450g</td>\n      <td>['B00886E4K0', 'B00CREXSHY', 'B001QTRGAQ', 'B0...</td>\n      <td>Lipton</td>\n      <td>30,937 in Grocery &amp; Gourmet Food (</td>\n      <td>Grocery</td>\n      <td>4639725043</td>\n      <td>NaN</td>\n      <td>3.0</td>\n      <td>True</td>\n      <td>ACOICLIJQYECU</td>\n      <td>I have recently started drinking hot tea again...</td>\n      <td>Not Bad for iced Tea</td>\n    </tr>\n  </tbody>\n</table>\n</div>"
     },
     "execution_count": 3,
     "metadata": {},
     "output_type": "execute_result"
    }
   ],
   "source": [
    "df.head(2)"
   ],
   "metadata": {
    "collapsed": false,
    "pycharm": {
     "name": "#%%\n"
    }
   }
  },
  {
   "cell_type": "code",
   "execution_count": 8,
   "outputs": [
    {
     "name": "stdout",
     "output_type": "stream",
     "text": [
      "<class 'pandas.core.frame.DataFrame'>\n",
      "RangeIndex: 1086548 entries, 0 to 1086547\n",
      "Data columns (total 14 columns):\n",
      " #   Column       Non-Null Count    Dtype  \n",
      "---  ------       --------------    -----  \n",
      " 0   category     1086548 non-null  object \n",
      " 1   description  993137 non-null   object \n",
      " 2   title        1086548 non-null  object \n",
      " 3   also_buy     929733 non-null   object \n",
      " 4   brand        1078563 non-null  object \n",
      " 5   rank         1042485 non-null  object \n",
      " 6   main_cat     1085268 non-null  object \n",
      " 7   asin         1086548 non-null  object \n",
      " 8   details      1086497 non-null  object \n",
      " 9   overall      1086548 non-null  float64\n",
      " 10  verified     1086548 non-null  bool   \n",
      " 11  reviewerID   1086548 non-null  object \n",
      " 12  reviewText   1086175 non-null  object \n",
      " 13  summary      1086335 non-null  object \n",
      "dtypes: bool(1), float64(1), object(12)\n",
      "memory usage: 108.8+ MB\n"
     ]
    }
   ],
   "source": [
    "df.info()"
   ],
   "metadata": {
    "collapsed": false,
    "pycharm": {
     "name": "#%%\n"
    }
   }
  },
  {
   "cell_type": "markdown",
   "source": [
    "### Preprocessing: split ratings into train and test sets"
   ],
   "metadata": {
    "collapsed": false
   }
  },
  {
   "cell_type": "code",
   "execution_count": 9,
   "outputs": [
    {
     "name": "stdout",
     "output_type": "stream",
     "text": [
      "(1086548, 14)\n",
      "127496\n",
      "41280\n"
     ]
    }
   ],
   "source": [
    "print(df.shape)\n",
    "print(df.reviewerID.nunique())\n",
    "print(df.asin.nunique())"
   ],
   "metadata": {
    "collapsed": false,
    "pycharm": {
     "name": "#%%\n"
    }
   }
  }
 ],
 "metadata": {
  "kernelspec": {
   "name": "pycharm-cef1f773",
   "language": "python",
   "display_name": "PyCharm (pycon2015_tutorial322)"
  },
  "language_info": {
   "codemirror_mode": {
    "name": "ipython",
    "version": 2
   },
   "file_extension": ".py",
   "mimetype": "text/x-python",
   "name": "python",
   "nbconvert_exporter": "python",
   "pygments_lexer": "ipython2",
   "version": "2.7.6"
  }
 },
 "nbformat": 4,
 "nbformat_minor": 0
}