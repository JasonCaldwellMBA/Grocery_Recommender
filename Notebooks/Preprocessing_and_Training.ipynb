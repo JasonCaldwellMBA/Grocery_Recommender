{
 "cells": [
  {
   "cell_type": "markdown",
   "source": [
    "# Minimal Recommendation Engine"
   ],
   "metadata": {
    "collapsed": false
   }
  },
  {
   "cell_type": "markdown",
   "source": [
    "### Notation <sup>[1]</sup>\n",
    "\n",
    "- $U$ is the set of users in our domain. Its size is $|U|$.\n",
    "- $I$ is the set of items in our domain. Its size is $|I|$.\n",
    "- $I(u)$ is the set of items that user $u$ has rated.\n",
    "- $-I(u)$ is the complement of $I(u)$ i.e., the set of items not yet seen by user $u$.\n",
    "- $U(i)$ is the set of users that have rated item $i$.\n",
    "- $-U(i)$ is the complement of $U(i)$.\n",
    "- $S(u,i)$ is a function that measures the utility of item $i$ for user $u$."
   ],
   "metadata": {
    "collapsed": false
   }
  },
  {
   "cell_type": "markdown",
   "source": [
    "### Goal of a recommendation system <sup>[1]</sup>\n",
    "\n",
    "$\n",
    "i^{*} = argmax_{i \\in -I(u)} S(u,i), \\forall{u \\in U}\n",
    "$"
   ],
   "metadata": {
    "collapsed": false
   }
  },
  {
   "cell_type": "markdown",
   "source": [
    "### Problem statement <sup>[1]</sup>\n",
    "\n",
    "The recommendation problem in its most basic form is quite simple to define:\n",
    "\n",
    "```\n",
    "|-------------------+-----+-----+-----+-----+-----|\n",
    "|  user_id, asin    | a_1 | a_2 | a_3 | a_4 | a_5 |\n",
    "|-------------------+-----+-----+-----+-----+-----|\n",
    "| u_1               | ?   | ?   | 4   | ?   | 1   |\n",
    "|-------------------+-----+-----+-----+-----+-----|\n",
    "| u_2               | 3   | ?   | ?   | 2   | 2   |\n",
    "|-------------------+-----+-----+-----+-----+-----|\n",
    "| u_3               | 3   | ?   | ?   | ?   | ?   |\n",
    "|-------------------+-----+-----+-----+-----+-----|\n",
    "| u_4               | ?   | 1   | 2   | 1   | 1   |\n",
    "|-------------------+-----+-----+-----+-----+-----|\n",
    "| u_5               | ?   | ?   | ?   | ?   | ?   |\n",
    "|-------------------+-----+-----+-----+-----+-----|\n",
    "| u_6               | 2   | ?   | 2   | ?   | ?   |\n",
    "|-------------------+-----+-----+-----+-----+-----|\n",
    "| u_7               | ?   | ?   | ?   | ?   | ?   |\n",
    "|-------------------+-----+-----+-----+-----+-----|\n",
    "| u_8               | 3   | 1   | 5   | ?   | ?   |\n",
    "|-------------------+-----+-----+-----+-----+-----|\n",
    "| u_9               | ?   | ?   | ?   | ?   | 2   |\n",
    "|-------------------+-----+-----+-----+-----+-----|\n",
    "```\n",
    "\n",
    "*Given a partially filled matrix of ratings ($|U|x|I|$), estimate the missing values.*"
   ],
   "metadata": {
    "collapsed": false
   }
  },
  {
   "cell_type": "markdown",
   "metadata": {
    "collapsed": true,
    "pycharm": {
     "name": "#%% md\n"
    }
   },
   "source": [
    "## Imports"
   ]
  },
  {
   "cell_type": "code",
   "execution_count": 1,
   "outputs": [],
   "source": [
    "import numpy as np\n",
    "import pandas as pd\n",
    "from sklearn.model_selection import train_test_split"
   ],
   "metadata": {
    "collapsed": false,
    "pycharm": {
     "name": "#%%\n"
    }
   }
  },
  {
   "cell_type": "markdown",
   "source": [
    "## Load Data"
   ],
   "metadata": {
    "collapsed": false
   }
  },
  {
   "cell_type": "code",
   "execution_count": 2,
   "outputs": [],
   "source": [
    "df = pd.read_csv('../Data/eda_data.csv')"
   ],
   "metadata": {
    "collapsed": false,
    "pycharm": {
     "name": "#%%\n"
    }
   }
  },
  {
   "cell_type": "code",
   "execution_count": 3,
   "outputs": [
    {
     "data": {
      "text/plain": "                                            category  \\\n0  ['Grocery & Gourmet Food', 'Beverages', 'Coffe...   \n1  ['Grocery & Gourmet Food', 'Beverages', 'Coffe...   \n\n                                        title  \\\n0  Lipton Yellow Label Tea (loose tea) - 450g   \n1  Lipton Yellow Label Tea (loose tea) - 450g   \n\n                                            also_buy   brand  \\\n0  ['B00886E4K0', 'B00CREXSHY', 'B001QTRGAQ', 'B0...  Lipton   \n1  ['B00886E4K0', 'B00CREXSHY', 'B001QTRGAQ', 'B0...  Lipton   \n\n                                 rank  \\\n0  30,937 in Grocery & Gourmet Food (   \n1  30,937 in Grocery & Gourmet Food (   \n\n                                           also_view main_cat  price  \\\n0  ['B00CREXSHY', 'B001QTRGAQ', 'B000JSQK70', 'B0...  Grocery  12.46   \n1  ['B00CREXSHY', 'B001QTRGAQ', 'B000JSQK70', 'B0...  Grocery  12.46   \n\n         asin  overall  verified      reviewerID  vote style  \n0  4639725043      5.0      True  A1J205ZK25TZ6W   8.0   NaN  \n1  4639725043      3.0      True   ACOICLIJQYECU   9.0   NaN  ",
      "text/html": "<div>\n<style scoped>\n    .dataframe tbody tr th:only-of-type {\n        vertical-align: middle;\n    }\n\n    .dataframe tbody tr th {\n        vertical-align: top;\n    }\n\n    .dataframe thead th {\n        text-align: right;\n    }\n</style>\n<table border=\"1\" class=\"dataframe\">\n  <thead>\n    <tr style=\"text-align: right;\">\n      <th></th>\n      <th>category</th>\n      <th>title</th>\n      <th>also_buy</th>\n      <th>brand</th>\n      <th>rank</th>\n      <th>also_view</th>\n      <th>main_cat</th>\n      <th>price</th>\n      <th>asin</th>\n      <th>overall</th>\n      <th>verified</th>\n      <th>reviewerID</th>\n      <th>vote</th>\n      <th>style</th>\n    </tr>\n  </thead>\n  <tbody>\n    <tr>\n      <th>0</th>\n      <td>['Grocery &amp; Gourmet Food', 'Beverages', 'Coffe...</td>\n      <td>Lipton Yellow Label Tea (loose tea) - 450g</td>\n      <td>['B00886E4K0', 'B00CREXSHY', 'B001QTRGAQ', 'B0...</td>\n      <td>Lipton</td>\n      <td>30,937 in Grocery &amp; Gourmet Food (</td>\n      <td>['B00CREXSHY', 'B001QTRGAQ', 'B000JSQK70', 'B0...</td>\n      <td>Grocery</td>\n      <td>12.46</td>\n      <td>4639725043</td>\n      <td>5.0</td>\n      <td>True</td>\n      <td>A1J205ZK25TZ6W</td>\n      <td>8.0</td>\n      <td>NaN</td>\n    </tr>\n    <tr>\n      <th>1</th>\n      <td>['Grocery &amp; Gourmet Food', 'Beverages', 'Coffe...</td>\n      <td>Lipton Yellow Label Tea (loose tea) - 450g</td>\n      <td>['B00886E4K0', 'B00CREXSHY', 'B001QTRGAQ', 'B0...</td>\n      <td>Lipton</td>\n      <td>30,937 in Grocery &amp; Gourmet Food (</td>\n      <td>['B00CREXSHY', 'B001QTRGAQ', 'B000JSQK70', 'B0...</td>\n      <td>Grocery</td>\n      <td>12.46</td>\n      <td>4639725043</td>\n      <td>3.0</td>\n      <td>True</td>\n      <td>ACOICLIJQYECU</td>\n      <td>9.0</td>\n      <td>NaN</td>\n    </tr>\n  </tbody>\n</table>\n</div>"
     },
     "execution_count": 3,
     "metadata": {},
     "output_type": "execute_result"
    }
   ],
   "source": [
    "df.head(2)"
   ],
   "metadata": {
    "collapsed": false,
    "pycharm": {
     "name": "#%%\n"
    }
   }
  },
  {
   "cell_type": "code",
   "execution_count": 4,
   "outputs": [
    {
     "name": "stdout",
     "output_type": "stream",
     "text": [
      "<class 'pandas.core.frame.DataFrame'>\n",
      "RangeIndex: 1083170 entries, 0 to 1083169\n",
      "Data columns (total 14 columns):\n",
      " #   Column      Non-Null Count    Dtype  \n",
      "---  ------      --------------    -----  \n",
      " 0   category    1083170 non-null  object \n",
      " 1   title       1083170 non-null  object \n",
      " 2   also_buy    926546 non-null   object \n",
      " 3   brand       1075197 non-null  object \n",
      " 4   rank        1039163 non-null  object \n",
      " 5   also_view   577060 non-null   object \n",
      " 6   main_cat    1081896 non-null  object \n",
      " 7   price       750231 non-null   float64\n",
      " 8   asin        1083170 non-null  object \n",
      " 9   overall     1083170 non-null  float64\n",
      " 10  verified    1083170 non-null  bool   \n",
      " 11  reviewerID  1083170 non-null  object \n",
      " 12  vote        149247 non-null   float64\n",
      " 13  style       559212 non-null   object \n",
      "dtypes: bool(1), float64(3), object(10)\n",
      "memory usage: 108.5+ MB\n"
     ]
    }
   ],
   "source": [
    "df.info()"
   ],
   "metadata": {
    "collapsed": false,
    "pycharm": {
     "name": "#%%\n"
    }
   }
  },
  {
   "cell_type": "markdown",
   "source": [
    "### Preprocessing"
   ],
   "metadata": {
    "collapsed": false
   }
  },
  {
   "cell_type": "code",
   "execution_count": 5,
   "outputs": [
    {
     "name": "stdout",
     "output_type": "stream",
     "text": [
      "(1083170, 14)\n",
      "127496\n",
      "41280\n"
     ]
    }
   ],
   "source": [
    "# Full grocery data set\n",
    "print(df.shape)\n",
    "print(df.reviewerID.nunique())\n",
    "print(df.asin.nunique())"
   ],
   "metadata": {
    "collapsed": false,
    "pycharm": {
     "name": "#%%\n"
    }
   }
  },
  {
   "cell_type": "code",
   "execution_count": 6,
   "outputs": [
    {
     "name": "stdout",
     "output_type": "stream",
     "text": [
      "(10000, 14)\n",
      "9382\n",
      "6686\n"
     ]
    }
   ],
   "source": [
    "# Subset of grocery dataset for testing a speed reasons\n",
    "df_subset = df.iloc[np.random.choice(df.index, size=10000, replace=False)]\n",
    "print(df_subset.shape)\n",
    "print(df_subset.reviewerID.nunique())\n",
    "print(df_subset.asin.nunique())"
   ],
   "metadata": {
    "collapsed": false,
    "pycharm": {
     "name": "#%%\n"
    }
   }
  },
  {
   "cell_type": "markdown",
   "source": [
    "### Train test split\n",
    "Using an 80/20 split."
   ],
   "metadata": {
    "collapsed": false,
    "pycharm": {
     "name": "#%% md\n"
    }
   }
  },
  {
   "cell_type": "code",
   "execution_count": 7,
   "outputs": [
    {
     "name": "stdout",
     "output_type": "stream",
     "text": [
      "(1083170, 14)\n",
      "(866536, 14)\n",
      "(216634, 14)\n"
     ]
    }
   ],
   "source": [
    "df_train, df_test = train_test_split(df, test_size=0.2, random_state=26)\n",
    "print(df.shape)\n",
    "print(df_train.shape)\n",
    "print(df_test.shape)\n",
    "assert len(df_train.index.intersection(df_test.index)) == 0"
   ],
   "metadata": {
    "collapsed": false,
    "pycharm": {
     "name": "#%%\n"
    }
   }
  },
  {
   "cell_type": "code",
   "execution_count": 8,
   "outputs": [
    {
     "data": {
      "text/plain": "                                                 category  \\\n573045  ['Grocery & Gourmet Food', 'Beverages', 'Coffe...   \n66933   ['Grocery & Gourmet Food', 'Cooking & Baking',...   \n\n                                                    title  \\\n573045  Nescafe Gold Blend Instant Coffee Refill Packe...   \n66933   SweetLeaf Sweet Drops Liquid Stevia Sweetener,...   \n\n                                                 also_buy      brand  \\\n573045  ['B0046DM09G', 'B0085H9YHK', 'B01B50WLWS', 'B0...     Nescaf   \n66933   ['B000ELQNRE', 'B00H4HKNA4', 'B00282UD0K', 'B0...  SweetLeaf   \n\n                                      rank  \\\n573045  34,306 in Grocery & Gourmet Food (   \n66933                                  NaN   \n\n                                                also_view main_cat  price  \\\n573045                                                NaN  Grocery  19.38   \n66933   ['B00GRY33AC', 'B002LMBIVA', 'B000ELQNRE', 'B0...  Grocery   9.49   \n\n              asin  overall  verified     reviewerID  vote  \\\n573045  B006R9F6TI      5.0      True  A9LGCFXYIJ4GO   NaN   \n66933   B000E8WIAS      5.0      True  AOIXKRX33QSEV   NaN   \n\n                        style  \n573045                    NaN  \n66933   {'Size:': ' 2 Ounce'}  ",
      "text/html": "<div>\n<style scoped>\n    .dataframe tbody tr th:only-of-type {\n        vertical-align: middle;\n    }\n\n    .dataframe tbody tr th {\n        vertical-align: top;\n    }\n\n    .dataframe thead th {\n        text-align: right;\n    }\n</style>\n<table border=\"1\" class=\"dataframe\">\n  <thead>\n    <tr style=\"text-align: right;\">\n      <th></th>\n      <th>category</th>\n      <th>title</th>\n      <th>also_buy</th>\n      <th>brand</th>\n      <th>rank</th>\n      <th>also_view</th>\n      <th>main_cat</th>\n      <th>price</th>\n      <th>asin</th>\n      <th>overall</th>\n      <th>verified</th>\n      <th>reviewerID</th>\n      <th>vote</th>\n      <th>style</th>\n    </tr>\n  </thead>\n  <tbody>\n    <tr>\n      <th>573045</th>\n      <td>['Grocery &amp; Gourmet Food', 'Beverages', 'Coffe...</td>\n      <td>Nescafe Gold Blend Instant Coffee Refill Packe...</td>\n      <td>['B0046DM09G', 'B0085H9YHK', 'B01B50WLWS', 'B0...</td>\n      <td>Nescaf</td>\n      <td>34,306 in Grocery &amp; Gourmet Food (</td>\n      <td>NaN</td>\n      <td>Grocery</td>\n      <td>19.38</td>\n      <td>B006R9F6TI</td>\n      <td>5.0</td>\n      <td>True</td>\n      <td>A9LGCFXYIJ4GO</td>\n      <td>NaN</td>\n      <td>NaN</td>\n    </tr>\n    <tr>\n      <th>66933</th>\n      <td>['Grocery &amp; Gourmet Food', 'Cooking &amp; Baking',...</td>\n      <td>SweetLeaf Sweet Drops Liquid Stevia Sweetener,...</td>\n      <td>['B000ELQNRE', 'B00H4HKNA4', 'B00282UD0K', 'B0...</td>\n      <td>SweetLeaf</td>\n      <td>NaN</td>\n      <td>['B00GRY33AC', 'B002LMBIVA', 'B000ELQNRE', 'B0...</td>\n      <td>Grocery</td>\n      <td>9.49</td>\n      <td>B000E8WIAS</td>\n      <td>5.0</td>\n      <td>True</td>\n      <td>AOIXKRX33QSEV</td>\n      <td>NaN</td>\n      <td>{'Size:': ' 2 Ounce'}</td>\n    </tr>\n  </tbody>\n</table>\n</div>"
     },
     "execution_count": 8,
     "metadata": {},
     "output_type": "execute_result"
    }
   ],
   "source": [
    "df_train.head(2)"
   ],
   "metadata": {
    "collapsed": false,
    "pycharm": {
     "name": "#%%\n"
    }
   }
  },
  {
   "cell_type": "code",
   "execution_count": 9,
   "outputs": [
    {
     "data": {
      "text/plain": "                                                  category  \\\n1006152    ['Grocery & Gourmet Food', 'Candy & Chocolate']   \n1036443  ['Grocery & Gourmet Food', 'Cooking & Baking',...   \n\n                                                     title  \\\n1006152  SKITTLES &amp; STARBURST Full Size Candy Varie...   \n1036443  FRESH 2018/19 Harvest PJ KABOS 16.9Floz Greek ...   \n\n                                                  also_buy      brand  \\\n1006152  ['B01KH9SUBY', 'B000WL39JQ', 'B003N0R5BG', 'B0...  Wrigley's   \n1036443  ['B01MTR4NV9', 'B00CMGRNAK', 'B01NCJBLG9', 'B0...   PJ KABOS   \n\n                                       rank also_view main_cat  price  \\\n1006152     587 in Grocery & Gourmet Food (       NaN  Grocery  15.09   \n1036443  16,057 in Grocery & Gourmet Food (       NaN  Grocery  22.95   \n\n               asin  overall  verified      reviewerID  vote  \\\n1006152  B011B45FZS      1.0      True   A342ULF8S62BG   NaN   \n1036443  B018KRPLH6      3.0      True  A33DGWR9R1LMSN   NaN   \n\n                                                style  \n1006152             {'Size:': ' 30 Full Size Pieces'}  \n1036443  {'Size:': ' Delicate-Medium (16.9Floz Tin)'}  ",
      "text/html": "<div>\n<style scoped>\n    .dataframe tbody tr th:only-of-type {\n        vertical-align: middle;\n    }\n\n    .dataframe tbody tr th {\n        vertical-align: top;\n    }\n\n    .dataframe thead th {\n        text-align: right;\n    }\n</style>\n<table border=\"1\" class=\"dataframe\">\n  <thead>\n    <tr style=\"text-align: right;\">\n      <th></th>\n      <th>category</th>\n      <th>title</th>\n      <th>also_buy</th>\n      <th>brand</th>\n      <th>rank</th>\n      <th>also_view</th>\n      <th>main_cat</th>\n      <th>price</th>\n      <th>asin</th>\n      <th>overall</th>\n      <th>verified</th>\n      <th>reviewerID</th>\n      <th>vote</th>\n      <th>style</th>\n    </tr>\n  </thead>\n  <tbody>\n    <tr>\n      <th>1006152</th>\n      <td>['Grocery &amp; Gourmet Food', 'Candy &amp; Chocolate']</td>\n      <td>SKITTLES &amp;amp; STARBURST Full Size Candy Varie...</td>\n      <td>['B01KH9SUBY', 'B000WL39JQ', 'B003N0R5BG', 'B0...</td>\n      <td>Wrigley's</td>\n      <td>587 in Grocery &amp; Gourmet Food (</td>\n      <td>NaN</td>\n      <td>Grocery</td>\n      <td>15.09</td>\n      <td>B011B45FZS</td>\n      <td>1.0</td>\n      <td>True</td>\n      <td>A342ULF8S62BG</td>\n      <td>NaN</td>\n      <td>{'Size:': ' 30 Full Size Pieces'}</td>\n    </tr>\n    <tr>\n      <th>1036443</th>\n      <td>['Grocery &amp; Gourmet Food', 'Cooking &amp; Baking',...</td>\n      <td>FRESH 2018/19 Harvest PJ KABOS 16.9Floz Greek ...</td>\n      <td>['B01MTR4NV9', 'B00CMGRNAK', 'B01NCJBLG9', 'B0...</td>\n      <td>PJ KABOS</td>\n      <td>16,057 in Grocery &amp; Gourmet Food (</td>\n      <td>NaN</td>\n      <td>Grocery</td>\n      <td>22.95</td>\n      <td>B018KRPLH6</td>\n      <td>3.0</td>\n      <td>True</td>\n      <td>A33DGWR9R1LMSN</td>\n      <td>NaN</td>\n      <td>{'Size:': ' Delicate-Medium (16.9Floz Tin)'}</td>\n    </tr>\n  </tbody>\n</table>\n</div>"
     },
     "execution_count": 9,
     "metadata": {},
     "output_type": "execute_result"
    }
   ],
   "source": [
    "df_test.head(2)"
   ],
   "metadata": {
    "collapsed": false,
    "pycharm": {
     "name": "#%%\n"
    }
   }
  },
  {
   "cell_type": "code",
   "execution_count": 10,
   "outputs": [
    {
     "name": "stdout",
     "output_type": "stream",
     "text": [
      "(10000, 15)\n",
      "(8000, 15)\n",
      "(2000, 15)\n"
     ]
    }
   ],
   "source": [
    "# Copying various dataframes to prevent SettingWithCopyWarning.\n",
    "df_subset = df_subset.copy()\n",
    "df_subset['for_testing'] = False\n",
    "df_train_subset, df_test_subset = train_test_split(df_subset, test_size=0.2, random_state=123)\n",
    "df_test_subset = df_test_subset.copy()\n",
    "df_test_subset['for_testing'] = True\n",
    "print(df_subset.shape)\n",
    "print(df_train_subset.shape)\n",
    "print(df_test_subset.shape)\n",
    "assert len(df_train_subset.index.intersection(df_test_subset.index)) == 0"
   ],
   "metadata": {
    "collapsed": false,
    "pycharm": {
     "name": "#%%\n"
    }
   }
  },
  {
   "cell_type": "code",
   "execution_count": 11,
   "outputs": [
    {
     "name": "stdout",
     "output_type": "stream",
     "text": [
      "<class 'pandas.core.frame.DataFrame'>\n",
      "Int64Index: 8000 entries, 611135 to 146834\n",
      "Data columns (total 15 columns):\n",
      " #   Column       Non-Null Count  Dtype  \n",
      "---  ------       --------------  -----  \n",
      " 0   category     8000 non-null   object \n",
      " 1   title        8000 non-null   object \n",
      " 2   also_buy     6857 non-null   object \n",
      " 3   brand        7958 non-null   object \n",
      " 4   rank         7680 non-null   object \n",
      " 5   also_view    4278 non-null   object \n",
      " 6   main_cat     7991 non-null   object \n",
      " 7   price        5537 non-null   float64\n",
      " 8   asin         8000 non-null   object \n",
      " 9   overall      8000 non-null   float64\n",
      " 10  verified     8000 non-null   bool   \n",
      " 11  reviewerID   8000 non-null   object \n",
      " 12  vote         1069 non-null   float64\n",
      " 13  style        4120 non-null   object \n",
      " 14  for_testing  8000 non-null   bool   \n",
      "dtypes: bool(2), float64(3), object(10)\n",
      "memory usage: 890.6+ KB\n"
     ]
    }
   ],
   "source": [
    "df_train_subset.info()"
   ],
   "metadata": {
    "collapsed": false,
    "pycharm": {
     "name": "#%%\n"
    }
   }
  },
  {
   "cell_type": "code",
   "execution_count": 12,
   "outputs": [
    {
     "name": "stdout",
     "output_type": "stream",
     "text": [
      "<class 'pandas.core.frame.DataFrame'>\n",
      "Int64Index: 2000 entries, 278403 to 60643\n",
      "Data columns (total 15 columns):\n",
      " #   Column       Non-Null Count  Dtype  \n",
      "---  ------       --------------  -----  \n",
      " 0   category     2000 non-null   object \n",
      " 1   title        2000 non-null   object \n",
      " 2   also_buy     1718 non-null   object \n",
      " 3   brand        1980 non-null   object \n",
      " 4   rank         1932 non-null   object \n",
      " 5   also_view    1064 non-null   object \n",
      " 6   main_cat     1996 non-null   object \n",
      " 7   price        1381 non-null   float64\n",
      " 8   asin         2000 non-null   object \n",
      " 9   overall      2000 non-null   float64\n",
      " 10  verified     2000 non-null   bool   \n",
      " 11  reviewerID   2000 non-null   object \n",
      " 12  vote         292 non-null    float64\n",
      " 13  style        1058 non-null   object \n",
      " 14  for_testing  2000 non-null   bool   \n",
      "dtypes: bool(2), float64(3), object(10)\n",
      "memory usage: 222.7+ KB\n"
     ]
    }
   ],
   "source": [
    "df_test_subset.info()"
   ],
   "metadata": {
    "collapsed": false,
    "pycharm": {
     "name": "#%%\n"
    }
   }
  },
  {
   "cell_type": "markdown",
   "source": [
    "## Save Data"
   ],
   "metadata": {
    "collapsed": false,
    "pycharm": {
     "name": "#%% md\n"
    }
   }
  },
  {
   "cell_type": "code",
   "execution_count": 13,
   "outputs": [],
   "source": [
    "df_train.to_csv('../Data/training_data.csv', index=False)\n",
    "df_test.to_csv('../Data/testing_data.csv', index=False)\n",
    "df_train_subset.to_csv('../Data/training_data_subset.csv', index=False)\n",
    "df_test_subset.to_csv('../Data/testing_data_subset.csv', index=False)"
   ],
   "metadata": {
    "collapsed": false,
    "pycharm": {
     "name": "#%%\n"
    }
   }
  },
  {
   "cell_type": "markdown",
   "source": [
    "## Summary\n",
    "- Performed an 80/20 train/test split on the dataset.\n",
    "- Also, created a random subset of the original dataset and performed an 80/20 split on it as well.\n",
    "- The data subset will be used for this project going forward for speed and proof of concept reasons.\n",
    "- Would also do this step first on most projects to get feedback as fast as possible. \n",
    "Then, would use the most promising models to run against the entire dataset.\n",
    "- Note: The full dataset they took 2-6 hours to return results on a couple of the models initially tested."
   ],
   "metadata": {
    "collapsed": false,
    "pycharm": {
     "name": "#%% md\n"
    }
   }
  },
  {
   "cell_type": "markdown",
   "source": [
    "## References\n",
    "1) Unata 2015 [Hands-on with PyData: How to Build a Minimal Recommendation Engine](https://www.youtube.com/watch?v=F6gWjOc1FUs).  "
   ],
   "metadata": {
    "collapsed": false
   }
  }
 ],
 "metadata": {
  "kernelspec": {
   "name": "pycharm-cef1f773",
   "language": "python",
   "display_name": "PyCharm (pycon2015_tutorial322)"
  },
  "language_info": {
   "codemirror_mode": {
    "name": "ipython",
    "version": 2
   },
   "file_extension": ".py",
   "mimetype": "text/x-python",
   "name": "python",
   "nbconvert_exporter": "python",
   "pygments_lexer": "ipython2",
   "version": "2.7.6"
  }
 },
 "nbformat": 4,
 "nbformat_minor": 0
}