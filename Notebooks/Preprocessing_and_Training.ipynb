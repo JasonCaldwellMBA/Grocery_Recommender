{
 "cells": [
  {
   "cell_type": "markdown",
   "source": [
    "# Minimal Recommendation Engine"
   ],
   "metadata": {
    "collapsed": false
   }
  },
  {
   "cell_type": "markdown",
   "source": [
    "### Notation <sup>[1]</sup>\n",
    "\n",
    "- $U$ is the set of users in our domain. Its size is $|U|$.\n",
    "- $I$ is the set of items in our domain. Its size is $|I|$.\n",
    "- $I(u)$ is the set of items that user $u$ has rated.\n",
    "- $-I(u)$ is the complement of $I(u)$ i.e., the set of items not yet seen by user $u$.\n",
    "- $U(i)$ is the set of users that have rated item $i$.\n",
    "- $-U(i)$ is the complement of $U(i)$.\n",
    "- $S(u,i)$ is a function that measures the utility of item $i$ for user $u$."
   ],
   "metadata": {
    "collapsed": false
   }
  },
  {
   "cell_type": "markdown",
   "source": [
    "### Goal of a recommendation system <sup>[1]</sup>\n",
    "\n",
    "$\n",
    "i^{*} = argmax_{i \\in -I(u)} S(u,i), \\forall{u \\in U}\n",
    "$"
   ],
   "metadata": {
    "collapsed": false
   }
  },
  {
   "cell_type": "markdown",
   "source": [
    "### Problem statement <sup>[1]</sup>\n",
    "\n",
    "The recommendation problem in its most basic form is quite simple to define:\n",
    "\n",
    "```\n",
    "|-------------------+-----+-----+-----+-----+-----|\n",
    "|  user_id, asin    | a_1 | a_2 | a_3 | a_4 | a_5 |\n",
    "|-------------------+-----+-----+-----+-----+-----|\n",
    "| u_1               | ?   | ?   | 4   | ?   | 1   |\n",
    "|-------------------+-----+-----+-----+-----+-----|\n",
    "| u_2               | 3   | ?   | ?   | 2   | 2   |\n",
    "|-------------------+-----+-----+-----+-----+-----|\n",
    "| u_3               | 3   | ?   | ?   | ?   | ?   |\n",
    "|-------------------+-----+-----+-----+-----+-----|\n",
    "| u_4               | ?   | 1   | 2   | 1   | 1   |\n",
    "|-------------------+-----+-----+-----+-----+-----|\n",
    "| u_5               | ?   | ?   | ?   | ?   | ?   |\n",
    "|-------------------+-----+-----+-----+-----+-----|\n",
    "| u_6               | 2   | ?   | 2   | ?   | ?   |\n",
    "|-------------------+-----+-----+-----+-----+-----|\n",
    "| u_7               | ?   | ?   | ?   | ?   | ?   |\n",
    "|-------------------+-----+-----+-----+-----+-----|\n",
    "| u_8               | 3   | 1   | 5   | ?   | ?   |\n",
    "|-------------------+-----+-----+-----+-----+-----|\n",
    "| u_9               | ?   | ?   | ?   | ?   | 2   |\n",
    "|-------------------+-----+-----+-----+-----+-----|\n",
    "```\n",
    "\n",
    "*Given a partially filled matrix of ratings ($|U|x|I|$), estimate the missing values.*"
   ],
   "metadata": {
    "collapsed": false
   }
  },
  {
   "cell_type": "markdown",
   "metadata": {
    "collapsed": true,
    "pycharm": {
     "name": "#%% md\n"
    }
   },
   "source": [
    "## Imports"
   ]
  },
  {
   "cell_type": "code",
   "execution_count": 1,
   "outputs": [],
   "source": [
    "import numpy as np\n",
    "import pandas as pd\n",
    "from sklearn.model_selection import train_test_split"
   ],
   "metadata": {
    "collapsed": false,
    "pycharm": {
     "name": "#%%\n"
    }
   }
  },
  {
   "cell_type": "markdown",
   "source": [
    "## Load Data"
   ],
   "metadata": {
    "collapsed": false
   }
  },
  {
   "cell_type": "code",
   "execution_count": 2,
   "outputs": [],
   "source": [
    "df = pd.read_csv('../Data/eda_data.csv')"
   ],
   "metadata": {
    "collapsed": false,
    "pycharm": {
     "name": "#%%\n"
    }
   }
  },
  {
   "cell_type": "code",
   "execution_count": 3,
   "outputs": [
    {
     "data": {
      "text/plain": "                                            category  \\\n0  ['Grocery & Gourmet Food', 'Beverages', 'Coffe...   \n1  ['Grocery & Gourmet Food', 'Beverages', 'Coffe...   \n\n                                         description  \\\n0  ['Lipton Yellow Label Tea use only the finest ...   \n1  ['Lipton Yellow Label Tea use only the finest ...   \n\n                                        title  \\\n0  Lipton Yellow Label Tea (loose tea) - 450g   \n1  Lipton Yellow Label Tea (loose tea) - 450g   \n\n                                            also_buy   brand  \\\n0  ['B00886E4K0', 'B00CREXSHY', 'B001QTRGAQ', 'B0...  Lipton   \n1  ['B00886E4K0', 'B00CREXSHY', 'B001QTRGAQ', 'B0...  Lipton   \n\n                                 rank  \\\n0  30,937 in Grocery & Gourmet Food (   \n1  30,937 in Grocery & Gourmet Food (   \n\n                                           also_view main_cat  price  \\\n0  ['B00CREXSHY', 'B001QTRGAQ', 'B000JSQK70', 'B0...  Grocery  12.46   \n1  ['B00CREXSHY', 'B001QTRGAQ', 'B000JSQK70', 'B0...  Grocery  12.46   \n\n         asin details  overall  verified      reviewerID  \\\n0  4639725043     NaN      5.0      True  A1J205ZK25TZ6W   \n1  4639725043     NaN      3.0      True   ACOICLIJQYECU   \n\n                                          reviewText  \\\n0  I make the best brewed iced tea with this yell...   \n1  I have recently started drinking hot tea again...   \n\n                     summary  vote style  \n0  Best for brewed iced tea.   8.0   NaN  \n1       Not Bad for iced Tea   9.0   NaN  ",
      "text/html": "<div>\n<style scoped>\n    .dataframe tbody tr th:only-of-type {\n        vertical-align: middle;\n    }\n\n    .dataframe tbody tr th {\n        vertical-align: top;\n    }\n\n    .dataframe thead th {\n        text-align: right;\n    }\n</style>\n<table border=\"1\" class=\"dataframe\">\n  <thead>\n    <tr style=\"text-align: right;\">\n      <th></th>\n      <th>category</th>\n      <th>description</th>\n      <th>title</th>\n      <th>also_buy</th>\n      <th>brand</th>\n      <th>rank</th>\n      <th>also_view</th>\n      <th>main_cat</th>\n      <th>price</th>\n      <th>asin</th>\n      <th>details</th>\n      <th>overall</th>\n      <th>verified</th>\n      <th>reviewerID</th>\n      <th>reviewText</th>\n      <th>summary</th>\n      <th>vote</th>\n      <th>style</th>\n    </tr>\n  </thead>\n  <tbody>\n    <tr>\n      <th>0</th>\n      <td>['Grocery &amp; Gourmet Food', 'Beverages', 'Coffe...</td>\n      <td>['Lipton Yellow Label Tea use only the finest ...</td>\n      <td>Lipton Yellow Label Tea (loose tea) - 450g</td>\n      <td>['B00886E4K0', 'B00CREXSHY', 'B001QTRGAQ', 'B0...</td>\n      <td>Lipton</td>\n      <td>30,937 in Grocery &amp; Gourmet Food (</td>\n      <td>['B00CREXSHY', 'B001QTRGAQ', 'B000JSQK70', 'B0...</td>\n      <td>Grocery</td>\n      <td>12.46</td>\n      <td>4639725043</td>\n      <td>NaN</td>\n      <td>5.0</td>\n      <td>True</td>\n      <td>A1J205ZK25TZ6W</td>\n      <td>I make the best brewed iced tea with this yell...</td>\n      <td>Best for brewed iced tea.</td>\n      <td>8.0</td>\n      <td>NaN</td>\n    </tr>\n    <tr>\n      <th>1</th>\n      <td>['Grocery &amp; Gourmet Food', 'Beverages', 'Coffe...</td>\n      <td>['Lipton Yellow Label Tea use only the finest ...</td>\n      <td>Lipton Yellow Label Tea (loose tea) - 450g</td>\n      <td>['B00886E4K0', 'B00CREXSHY', 'B001QTRGAQ', 'B0...</td>\n      <td>Lipton</td>\n      <td>30,937 in Grocery &amp; Gourmet Food (</td>\n      <td>['B00CREXSHY', 'B001QTRGAQ', 'B000JSQK70', 'B0...</td>\n      <td>Grocery</td>\n      <td>12.46</td>\n      <td>4639725043</td>\n      <td>NaN</td>\n      <td>3.0</td>\n      <td>True</td>\n      <td>ACOICLIJQYECU</td>\n      <td>I have recently started drinking hot tea again...</td>\n      <td>Not Bad for iced Tea</td>\n      <td>9.0</td>\n      <td>NaN</td>\n    </tr>\n  </tbody>\n</table>\n</div>"
     },
     "execution_count": 3,
     "metadata": {},
     "output_type": "execute_result"
    }
   ],
   "source": [
    "df.head(2)"
   ],
   "metadata": {
    "collapsed": false,
    "pycharm": {
     "name": "#%%\n"
    }
   }
  },
  {
   "cell_type": "code",
   "execution_count": 4,
   "outputs": [
    {
     "name": "stdout",
     "output_type": "stream",
     "text": [
      "<class 'pandas.core.frame.DataFrame'>\n",
      "RangeIndex: 1086548 entries, 0 to 1086547\n",
      "Data columns (total 18 columns):\n",
      " #   Column       Non-Null Count    Dtype  \n",
      "---  ------       --------------    -----  \n",
      " 0   category     1086548 non-null  object \n",
      " 1   description  993137 non-null   object \n",
      " 2   title        1086548 non-null  object \n",
      " 3   also_buy     929733 non-null   object \n",
      " 4   brand        1078563 non-null  object \n",
      " 5   rank         1042485 non-null  object \n",
      " 6   also_view    578911 non-null   object \n",
      " 7   main_cat     1085268 non-null  object \n",
      " 8   price        752804 non-null   float64\n",
      " 9   asin         1086548 non-null  object \n",
      " 10  details      1086497 non-null  object \n",
      " 11  overall      1086548 non-null  float64\n",
      " 12  verified     1086548 non-null  bool   \n",
      " 13  reviewerID   1086548 non-null  object \n",
      " 14  reviewText   1086175 non-null  object \n",
      " 15  summary      1086335 non-null  object \n",
      " 16  vote         149486 non-null   float64\n",
      " 17  style        561516 non-null   object \n",
      "dtypes: bool(1), float64(3), object(14)\n",
      "memory usage: 142.0+ MB\n"
     ]
    }
   ],
   "source": [
    "df.info()"
   ],
   "metadata": {
    "collapsed": false,
    "pycharm": {
     "name": "#%%\n"
    }
   }
  },
  {
   "cell_type": "markdown",
   "source": [
    "### Preprocessing: split ratings into train and test sets"
   ],
   "metadata": {
    "collapsed": false
   }
  },
  {
   "cell_type": "code",
   "execution_count": 5,
   "outputs": [
    {
     "name": "stdout",
     "output_type": "stream",
     "text": [
      "(1086548, 18)\n",
      "127496\n",
      "41280\n"
     ]
    }
   ],
   "source": [
    "# Full grocery data set\n",
    "print(df.shape)\n",
    "print(df.reviewerID.nunique())\n",
    "print(df.asin.nunique())"
   ],
   "metadata": {
    "collapsed": false,
    "pycharm": {
     "name": "#%%\n"
    }
   }
  },
  {
   "cell_type": "code",
   "execution_count": 6,
   "outputs": [
    {
     "name": "stdout",
     "output_type": "stream",
     "text": [
      "(10000, 18)\n",
      "9412\n",
      "6540\n"
     ]
    }
   ],
   "source": [
    "# Subset of grocery dataset for testing a speed reasons\n",
    "df_subset = df.iloc[np.random.choice(df.index, size=10000, replace=False)]\n",
    "print(df_subset.shape)\n",
    "print(df_subset.reviewerID.nunique())\n",
    "print(df_subset.asin.nunique())"
   ],
   "metadata": {
    "collapsed": false,
    "pycharm": {
     "name": "#%%\n"
    }
   }
  },
  {
   "cell_type": "markdown",
   "source": [
    "### Train test split using custom function\n",
    "Generate train and test subsets using an 80/20 split."
   ],
   "metadata": {
    "collapsed": false,
    "pycharm": {
     "name": "#%% md\n"
    }
   }
  },
  {
   "cell_type": "code",
   "execution_count": 7,
   "outputs": [
    {
     "name": "stdout",
     "output_type": "stream",
     "text": [
      "(1086548, 18)\n",
      "(869238, 18)\n",
      "(217310, 18)\n"
     ]
    }
   ],
   "source": [
    "df_train, df_test = train_test_split(df, test_size=0.2, random_state=26)\n",
    "print(df.shape)\n",
    "print(df_train.shape)\n",
    "print(df_test.shape)\n",
    "assert len(df_train.index.intersection(df_test.index)) == 0"
   ],
   "metadata": {
    "collapsed": false,
    "pycharm": {
     "name": "#%%\n"
    }
   }
  },
  {
   "cell_type": "code",
   "execution_count": 8,
   "outputs": [
    {
     "data": {
      "text/plain": "                                                 category  \\\n93329   ['Grocery & Gourmet Food', 'Snack Foods', 'Coo...   \n481878  ['Grocery & Gourmet Food', 'Cooking & Baking',...   \n\n                                              description  \\\n93329   ['The Original Digestive: Wheat meal Biscuit. ...   \n481878  [\"Over time, CARNATION Milk has found its way ...   \n\n                                                    title  \\\n93329   McVitie's Digestive Biscuits -400g 3 Pack, Ori...   \n481878  Nestle Carnation Instant Nonfat Dry Milk, 25.6...   \n\n                                                 also_buy      brand  \\\n93329   ['B000F9X40O', 'B00I8VS45G', 'B009CS3LNE', 'B0...  McVitie's   \n481878  ['B005CUM0J2', 'B0054DDBGI', 'B00FRFRZF6', 'B0...  Carnation   \n\n                                      rank  \\\n93329    7,580 in Grocery & Gourmet Food (   \n481878  20,889 in Grocery & Gourmet Food (   \n\n                                                also_view main_cat  price  \\\n93329   ['B000JSOC0C', 'B000F9X40O', 'B00I8VS45G', 'B0...  Grocery  12.59   \n481878  ['B0054DDBGI', 'B00FRFRZF6', 'B004K0862K', 'B0...  Grocery    NaN   \n\n              asin                                            details  \\\n93329   B000FA8SH2  {'\\n    Product Dimensions: \\n    ': '6 x 4 x ...   \n481878  B004VITI0K  {'Shipping Weight:': '1.7 pounds', 'Domestic S...   \n\n        overall  verified     reviewerID  \\\n93329       5.0      True  A6KL17KKN0A5L   \n481878      4.0      True  AAOY6JB236XZW   \n\n                                               reviewText  \\\n93329   I grew up with Digestives biscuits, and nothin...   \n481878  Expensive but what can you do?  I need it for ...   \n\n                                            summary  vote  \\\n93329   and nothing goes better with tea than these   NaN   \n481878                                         Good   NaN   \n\n                          style  \n93329   {'Size:': ' Pack of 3'}  \n481878  {'Size:': ' Pack of 1'}  ",
      "text/html": "<div>\n<style scoped>\n    .dataframe tbody tr th:only-of-type {\n        vertical-align: middle;\n    }\n\n    .dataframe tbody tr th {\n        vertical-align: top;\n    }\n\n    .dataframe thead th {\n        text-align: right;\n    }\n</style>\n<table border=\"1\" class=\"dataframe\">\n  <thead>\n    <tr style=\"text-align: right;\">\n      <th></th>\n      <th>category</th>\n      <th>description</th>\n      <th>title</th>\n      <th>also_buy</th>\n      <th>brand</th>\n      <th>rank</th>\n      <th>also_view</th>\n      <th>main_cat</th>\n      <th>price</th>\n      <th>asin</th>\n      <th>details</th>\n      <th>overall</th>\n      <th>verified</th>\n      <th>reviewerID</th>\n      <th>reviewText</th>\n      <th>summary</th>\n      <th>vote</th>\n      <th>style</th>\n    </tr>\n  </thead>\n  <tbody>\n    <tr>\n      <th>93329</th>\n      <td>['Grocery &amp; Gourmet Food', 'Snack Foods', 'Coo...</td>\n      <td>['The Original Digestive: Wheat meal Biscuit. ...</td>\n      <td>McVitie's Digestive Biscuits -400g 3 Pack, Ori...</td>\n      <td>['B000F9X40O', 'B00I8VS45G', 'B009CS3LNE', 'B0...</td>\n      <td>McVitie's</td>\n      <td>7,580 in Grocery &amp; Gourmet Food (</td>\n      <td>['B000JSOC0C', 'B000F9X40O', 'B00I8VS45G', 'B0...</td>\n      <td>Grocery</td>\n      <td>12.59</td>\n      <td>B000FA8SH2</td>\n      <td>{'\\n    Product Dimensions: \\n    ': '6 x 4 x ...</td>\n      <td>5.0</td>\n      <td>True</td>\n      <td>A6KL17KKN0A5L</td>\n      <td>I grew up with Digestives biscuits, and nothin...</td>\n      <td>and nothing goes better with tea than these</td>\n      <td>NaN</td>\n      <td>{'Size:': ' Pack of 3'}</td>\n    </tr>\n    <tr>\n      <th>481878</th>\n      <td>['Grocery &amp; Gourmet Food', 'Cooking &amp; Baking',...</td>\n      <td>[\"Over time, CARNATION Milk has found its way ...</td>\n      <td>Nestle Carnation Instant Nonfat Dry Milk, 25.6...</td>\n      <td>['B005CUM0J2', 'B0054DDBGI', 'B00FRFRZF6', 'B0...</td>\n      <td>Carnation</td>\n      <td>20,889 in Grocery &amp; Gourmet Food (</td>\n      <td>['B0054DDBGI', 'B00FRFRZF6', 'B004K0862K', 'B0...</td>\n      <td>Grocery</td>\n      <td>NaN</td>\n      <td>B004VITI0K</td>\n      <td>{'Shipping Weight:': '1.7 pounds', 'Domestic S...</td>\n      <td>4.0</td>\n      <td>True</td>\n      <td>AAOY6JB236XZW</td>\n      <td>Expensive but what can you do?  I need it for ...</td>\n      <td>Good</td>\n      <td>NaN</td>\n      <td>{'Size:': ' Pack of 1'}</td>\n    </tr>\n  </tbody>\n</table>\n</div>"
     },
     "execution_count": 8,
     "metadata": {},
     "output_type": "execute_result"
    }
   ],
   "source": [
    "df_train.head(2)"
   ],
   "metadata": {
    "collapsed": false,
    "pycharm": {
     "name": "#%%\n"
    }
   }
  },
  {
   "cell_type": "code",
   "execution_count": 9,
   "outputs": [
    {
     "data": {
      "text/plain": "                                                 category  \\\n906154  ['Grocery & Gourmet Food', 'Beverages', 'Bottl...   \n663706  ['Grocery & Gourmet Food', 'Beverages', 'Coffe...   \n\n                                              description  \\\n906154  ['Bai Bubbles Jamaica Blood Orange is a refres...   \n663706  ['The awesome, centering energy of golden turm...   \n\n                                                    title  \\\n906154  Bai Bubbles, Sparkling Water, Jamaica Blood Or...   \n663706  Rishi Tea Organic Caffeine-Free Turmeric Ginge...   \n\n                                                 also_buy      brand  \\\n906154  ['B004JLRYCS', 'B0799978Q3', 'B017W3QUL0', 'B0...        bai   \n663706  ['B008YDOKL0', 'B00E7VTFHC', 'B00CX33V6C', 'B0...  Rishi Tea   \n\n                                     rank  \\\n906154  3,954 in Grocery & Gourmet Food (   \n663706  4,193 in Grocery & Gourmet Food (   \n\n                                                also_view main_cat  price  \\\n906154                                                NaN  Grocery  20.02   \n663706  ['B017TNT4K2', 'B01CIW4ELI', 'B006PTWQJI', 'B0...  Grocery    NaN   \n\n              asin                                            details  \\\n906154  B00N14ZDDQ  {'\\n    Item Weight: \\n    ': '11.5 ounces', '...   \n663706  B00AR6Q5JC  {'\\n    Product Dimensions: \\n    ': '2.8 x 2....   \n\n        overall  verified      reviewerID  \\\n906154      4.0     False   APYHSY5CVS48I   \n663706      5.0      True  A2E7UZ9BLOTZVO   \n\n                                               reviewText  \\\n906154  This is probably my favorite Bai bubbles.  I s...   \n663706  I love the taste and it helps my chronic tendo...   \n\n                                       summary  vote  \\\n906154  Pretty good.  My favorite Bai Bubbles!   NaN   \n663706                           Great product   NaN   \n\n                                       style  \n906154  {'Flavor:': ' Waikiki Coconut Lime'}  \n663706                                   NaN  ",
      "text/html": "<div>\n<style scoped>\n    .dataframe tbody tr th:only-of-type {\n        vertical-align: middle;\n    }\n\n    .dataframe tbody tr th {\n        vertical-align: top;\n    }\n\n    .dataframe thead th {\n        text-align: right;\n    }\n</style>\n<table border=\"1\" class=\"dataframe\">\n  <thead>\n    <tr style=\"text-align: right;\">\n      <th></th>\n      <th>category</th>\n      <th>description</th>\n      <th>title</th>\n      <th>also_buy</th>\n      <th>brand</th>\n      <th>rank</th>\n      <th>also_view</th>\n      <th>main_cat</th>\n      <th>price</th>\n      <th>asin</th>\n      <th>details</th>\n      <th>overall</th>\n      <th>verified</th>\n      <th>reviewerID</th>\n      <th>reviewText</th>\n      <th>summary</th>\n      <th>vote</th>\n      <th>style</th>\n    </tr>\n  </thead>\n  <tbody>\n    <tr>\n      <th>906154</th>\n      <td>['Grocery &amp; Gourmet Food', 'Beverages', 'Bottl...</td>\n      <td>['Bai Bubbles Jamaica Blood Orange is a refres...</td>\n      <td>Bai Bubbles, Sparkling Water, Jamaica Blood Or...</td>\n      <td>['B004JLRYCS', 'B0799978Q3', 'B017W3QUL0', 'B0...</td>\n      <td>bai</td>\n      <td>3,954 in Grocery &amp; Gourmet Food (</td>\n      <td>NaN</td>\n      <td>Grocery</td>\n      <td>20.02</td>\n      <td>B00N14ZDDQ</td>\n      <td>{'\\n    Item Weight: \\n    ': '11.5 ounces', '...</td>\n      <td>4.0</td>\n      <td>False</td>\n      <td>APYHSY5CVS48I</td>\n      <td>This is probably my favorite Bai bubbles.  I s...</td>\n      <td>Pretty good.  My favorite Bai Bubbles!</td>\n      <td>NaN</td>\n      <td>{'Flavor:': ' Waikiki Coconut Lime'}</td>\n    </tr>\n    <tr>\n      <th>663706</th>\n      <td>['Grocery &amp; Gourmet Food', 'Beverages', 'Coffe...</td>\n      <td>['The awesome, centering energy of golden turm...</td>\n      <td>Rishi Tea Organic Caffeine-Free Turmeric Ginge...</td>\n      <td>['B008YDOKL0', 'B00E7VTFHC', 'B00CX33V6C', 'B0...</td>\n      <td>Rishi Tea</td>\n      <td>4,193 in Grocery &amp; Gourmet Food (</td>\n      <td>['B017TNT4K2', 'B01CIW4ELI', 'B006PTWQJI', 'B0...</td>\n      <td>Grocery</td>\n      <td>NaN</td>\n      <td>B00AR6Q5JC</td>\n      <td>{'\\n    Product Dimensions: \\n    ': '2.8 x 2....</td>\n      <td>5.0</td>\n      <td>True</td>\n      <td>A2E7UZ9BLOTZVO</td>\n      <td>I love the taste and it helps my chronic tendo...</td>\n      <td>Great product</td>\n      <td>NaN</td>\n      <td>NaN</td>\n    </tr>\n  </tbody>\n</table>\n</div>"
     },
     "execution_count": 9,
     "metadata": {},
     "output_type": "execute_result"
    }
   ],
   "source": [
    "df_test.head(2)"
   ],
   "metadata": {
    "collapsed": false,
    "pycharm": {
     "name": "#%%\n"
    }
   }
  },
  {
   "cell_type": "code",
   "execution_count": 10,
   "outputs": [
    {
     "name": "stdout",
     "output_type": "stream",
     "text": [
      "(10000, 19)\n",
      "(8000, 19)\n",
      "(2000, 19)\n"
     ]
    }
   ],
   "source": [
    "# Copying various dataframes to fix SettingWithCopyWarning.\n",
    "df_subset = df_subset.copy()\n",
    "df_subset['for_testing'] = False\n",
    "df_train_subset, df_test_subset = train_test_split(df_subset, test_size=0.2, random_state=123)\n",
    "df_test_subset = df_test_subset.copy()\n",
    "df_test_subset['for_testing'] = True\n",
    "print(df_subset.shape)\n",
    "print(df_train_subset.shape)\n",
    "print(df_test_subset.shape)"
   ],
   "metadata": {
    "collapsed": false,
    "pycharm": {
     "name": "#%%\n"
    }
   }
  },
  {
   "cell_type": "code",
   "execution_count": 11,
   "outputs": [
    {
     "data": {
      "text/plain": "                                                 category  \\\n691517  ['Grocery & Gourmet Food', 'Sauces, Gravies & ...   \n845080  ['Grocery & Gourmet Food', 'Breakfast Foods', ...   \n\n                                              description  \\\n691517  ['Sriracha chili sauce made from sun ripened c...   \n845080  ['belVita Chocolate Breakfast Biscuits are lig...   \n\n                                                    title  \\\n691517  Huy Fong Sriracha Chili Sauce, 28 Ounce Bottle...   \n845080  belVita Chocolate Breakfast Biscuits, 5 Count ...   \n\n                                                 also_buy     brand  \\\n691517  ['B001E5DZZM', 'B003NROMC4', 'B00U9VTL5U', 'B0...  Huy Fong   \n845080  ['B00QF27JL0', 'B01BNIN5ZO', 'B01FLPFPOY', 'B0...   Belvita   \n\n                                       rank  \\\n691517  145,292 in Grocery & Gourmet Food (   \n845080   19,427 in Grocery & Gourmet Food (   \n\n                                                also_view main_cat  price  \\\n691517  ['B001E5DZZM', 'B008AV5HLS', 'B00U9VTL5U', 'B0...  Grocery    NaN   \n845080  ['B01COWTO4O', 'B01FLPFPOY', 'B00QF27JL0', 'B0...  Grocery    NaN   \n\n              asin                                            details  \\\n691517  B00BT7C9R0  {'Shipping Weight:': '11.4 pounds', 'ASIN: ': ...   \n845080  B00IO2DO2W  {'Shipping Weight:': '4.1 pounds', 'Domestic S...   \n\n        overall  verified      reviewerID  \\\n691517      5.0      True  A3FYXMWYC9KUCK   \n845080      5.0      True  A2OWR2PL3DLWS4   \n\n                                               reviewText  \\\n691517  I have been using Sriracha for several years n...   \n845080  My daughter is a Belvita addict.  She likes al...   \n\n                     summary  vote style  for_testing  \n691517  This stuff is great!   NaN   NaN        False  \n845080             Delciious   NaN   NaN        False  ",
      "text/html": "<div>\n<style scoped>\n    .dataframe tbody tr th:only-of-type {\n        vertical-align: middle;\n    }\n\n    .dataframe tbody tr th {\n        vertical-align: top;\n    }\n\n    .dataframe thead th {\n        text-align: right;\n    }\n</style>\n<table border=\"1\" class=\"dataframe\">\n  <thead>\n    <tr style=\"text-align: right;\">\n      <th></th>\n      <th>category</th>\n      <th>description</th>\n      <th>title</th>\n      <th>also_buy</th>\n      <th>brand</th>\n      <th>rank</th>\n      <th>also_view</th>\n      <th>main_cat</th>\n      <th>price</th>\n      <th>asin</th>\n      <th>details</th>\n      <th>overall</th>\n      <th>verified</th>\n      <th>reviewerID</th>\n      <th>reviewText</th>\n      <th>summary</th>\n      <th>vote</th>\n      <th>style</th>\n      <th>for_testing</th>\n    </tr>\n  </thead>\n  <tbody>\n    <tr>\n      <th>691517</th>\n      <td>['Grocery &amp; Gourmet Food', 'Sauces, Gravies &amp; ...</td>\n      <td>['Sriracha chili sauce made from sun ripened c...</td>\n      <td>Huy Fong Sriracha Chili Sauce, 28 Ounce Bottle...</td>\n      <td>['B001E5DZZM', 'B003NROMC4', 'B00U9VTL5U', 'B0...</td>\n      <td>Huy Fong</td>\n      <td>145,292 in Grocery &amp; Gourmet Food (</td>\n      <td>['B001E5DZZM', 'B008AV5HLS', 'B00U9VTL5U', 'B0...</td>\n      <td>Grocery</td>\n      <td>NaN</td>\n      <td>B00BT7C9R0</td>\n      <td>{'Shipping Weight:': '11.4 pounds', 'ASIN: ': ...</td>\n      <td>5.0</td>\n      <td>True</td>\n      <td>A3FYXMWYC9KUCK</td>\n      <td>I have been using Sriracha for several years n...</td>\n      <td>This stuff is great!</td>\n      <td>NaN</td>\n      <td>NaN</td>\n      <td>False</td>\n    </tr>\n    <tr>\n      <th>845080</th>\n      <td>['Grocery &amp; Gourmet Food', 'Breakfast Foods', ...</td>\n      <td>['belVita Chocolate Breakfast Biscuits are lig...</td>\n      <td>belVita Chocolate Breakfast Biscuits, 5 Count ...</td>\n      <td>['B00QF27JL0', 'B01BNIN5ZO', 'B01FLPFPOY', 'B0...</td>\n      <td>Belvita</td>\n      <td>19,427 in Grocery &amp; Gourmet Food (</td>\n      <td>['B01COWTO4O', 'B01FLPFPOY', 'B00QF27JL0', 'B0...</td>\n      <td>Grocery</td>\n      <td>NaN</td>\n      <td>B00IO2DO2W</td>\n      <td>{'Shipping Weight:': '4.1 pounds', 'Domestic S...</td>\n      <td>5.0</td>\n      <td>True</td>\n      <td>A2OWR2PL3DLWS4</td>\n      <td>My daughter is a Belvita addict.  She likes al...</td>\n      <td>Delciious</td>\n      <td>NaN</td>\n      <td>NaN</td>\n      <td>False</td>\n    </tr>\n  </tbody>\n</table>\n</div>"
     },
     "execution_count": 11,
     "metadata": {},
     "output_type": "execute_result"
    }
   ],
   "source": [
    "df_train_subset.head(2)"
   ],
   "metadata": {
    "collapsed": false,
    "pycharm": {
     "name": "#%%\n"
    }
   }
  },
  {
   "cell_type": "code",
   "execution_count": 12,
   "outputs": [
    {
     "data": {
      "text/plain": "                                                 category  \\\n164274  ['Grocery & Gourmet Food', 'Produce', 'Fresh V...   \n169791  ['Grocery & Gourmet Food', 'Cooking & Baking',...   \n\n                                              description  \\\n164274  ['<div class=\"aplus\"> <div class=\"three-fourth...   \n169791  ['Light & Fluffy. Just add water. Made with re...   \n\n                                                   title  \\\n164274                     Organic Green Cabbage, 1 Head   \n169791  Krusteaz Complete Pancake Mix, Buttermilk, 32 oz   \n\n                                                 also_buy          brand rank  \\\n164274                                                NaN  produce aisle  NaN   \n169791  ['B000R32RJC', 'B07CX6LN8T', 'B000PXZZQG', 'B0...       Krusteaz  NaN   \n\n                                                also_view main_cat  price  \\\n164274                                                NaN  Grocery    NaN   \n169791  ['B00DXGGSBI', 'B00CEMP2Z0', 'B00BP2RY42', 'B0...  Grocery    NaN   \n\n              asin                                            details  \\\n164274  B000P6H29Q  {'\\n    Product Dimensions: \\n    ': '7.5 x 6....   \n169791  B000QCLEB6  {'\\n    Product Dimensions: \\n    ': '6.1 x 2....   \n\n        overall  verified      reviewerID  \\\n164274      5.0      True  A1NKRXSU63EA4M   \n169791      5.0      True  A3TR0FIT13SSVN   \n\n                                               reviewText  \\\n164274                                 Hugh and delicious   \n169791  Great flavor and surprisingly fluffy out of th...   \n\n                     summary  vote style  for_testing  \n164274            Five Stars   NaN   NaN         True  \n169791  Surprisingly good :)   6.0   NaN         True  ",
      "text/html": "<div>\n<style scoped>\n    .dataframe tbody tr th:only-of-type {\n        vertical-align: middle;\n    }\n\n    .dataframe tbody tr th {\n        vertical-align: top;\n    }\n\n    .dataframe thead th {\n        text-align: right;\n    }\n</style>\n<table border=\"1\" class=\"dataframe\">\n  <thead>\n    <tr style=\"text-align: right;\">\n      <th></th>\n      <th>category</th>\n      <th>description</th>\n      <th>title</th>\n      <th>also_buy</th>\n      <th>brand</th>\n      <th>rank</th>\n      <th>also_view</th>\n      <th>main_cat</th>\n      <th>price</th>\n      <th>asin</th>\n      <th>details</th>\n      <th>overall</th>\n      <th>verified</th>\n      <th>reviewerID</th>\n      <th>reviewText</th>\n      <th>summary</th>\n      <th>vote</th>\n      <th>style</th>\n      <th>for_testing</th>\n    </tr>\n  </thead>\n  <tbody>\n    <tr>\n      <th>164274</th>\n      <td>['Grocery &amp; Gourmet Food', 'Produce', 'Fresh V...</td>\n      <td>['&lt;div class=\"aplus\"&gt; &lt;div class=\"three-fourth...</td>\n      <td>Organic Green Cabbage, 1 Head</td>\n      <td>NaN</td>\n      <td>produce aisle</td>\n      <td>NaN</td>\n      <td>NaN</td>\n      <td>Grocery</td>\n      <td>NaN</td>\n      <td>B000P6H29Q</td>\n      <td>{'\\n    Product Dimensions: \\n    ': '7.5 x 6....</td>\n      <td>5.0</td>\n      <td>True</td>\n      <td>A1NKRXSU63EA4M</td>\n      <td>Hugh and delicious</td>\n      <td>Five Stars</td>\n      <td>NaN</td>\n      <td>NaN</td>\n      <td>True</td>\n    </tr>\n    <tr>\n      <th>169791</th>\n      <td>['Grocery &amp; Gourmet Food', 'Cooking &amp; Baking',...</td>\n      <td>['Light &amp; Fluffy. Just add water. Made with re...</td>\n      <td>Krusteaz Complete Pancake Mix, Buttermilk, 32 oz</td>\n      <td>['B000R32RJC', 'B07CX6LN8T', 'B000PXZZQG', 'B0...</td>\n      <td>Krusteaz</td>\n      <td>NaN</td>\n      <td>['B00DXGGSBI', 'B00CEMP2Z0', 'B00BP2RY42', 'B0...</td>\n      <td>Grocery</td>\n      <td>NaN</td>\n      <td>B000QCLEB6</td>\n      <td>{'\\n    Product Dimensions: \\n    ': '6.1 x 2....</td>\n      <td>5.0</td>\n      <td>True</td>\n      <td>A3TR0FIT13SSVN</td>\n      <td>Great flavor and surprisingly fluffy out of th...</td>\n      <td>Surprisingly good :)</td>\n      <td>6.0</td>\n      <td>NaN</td>\n      <td>True</td>\n    </tr>\n  </tbody>\n</table>\n</div>"
     },
     "execution_count": 12,
     "metadata": {},
     "output_type": "execute_result"
    }
   ],
   "source": [
    "df_test_subset.head(2)"
   ],
   "metadata": {
    "collapsed": false,
    "pycharm": {
     "name": "#%%\n"
    }
   }
  },
  {
   "cell_type": "markdown",
   "source": [
    "## Save Data"
   ],
   "metadata": {
    "collapsed": false,
    "pycharm": {
     "name": "#%% md\n"
    }
   }
  },
  {
   "cell_type": "code",
   "execution_count": 13,
   "outputs": [],
   "source": [
    "df_train.to_csv('../Data/training_data.csv', index=False)\n",
    "df_test.to_csv('../Data/testing_data.csv', index=False)\n",
    "df_train_subset.to_csv('../Data/training_data_subset.csv', index=False)\n",
    "df_test_subset.to_csv('../Data/testing_data_subset.csv', index=False)"
   ],
   "metadata": {
    "collapsed": false,
    "pycharm": {
     "name": "#%%\n"
    }
   }
  },
  {
   "cell_type": "markdown",
   "source": [
    "## References\n",
    "1) Unata 2015 [Hands-on with PyData: How to Build a Minimal Recommendation Engine](https://www.youtube.com/watch?v=F6gWjOc1FUs).  "
   ],
   "metadata": {
    "collapsed": false
   }
  }
 ],
 "metadata": {
  "kernelspec": {
   "name": "pycharm-cef1f773",
   "language": "python",
   "display_name": "PyCharm (pycon2015_tutorial322)"
  },
  "language_info": {
   "codemirror_mode": {
    "name": "ipython",
    "version": 2
   },
   "file_extension": ".py",
   "mimetype": "text/x-python",
   "name": "python",
   "nbconvert_exporter": "python",
   "pygments_lexer": "ipython2",
   "version": "2.7.6"
  }
 },
 "nbformat": 4,
 "nbformat_minor": 0
}