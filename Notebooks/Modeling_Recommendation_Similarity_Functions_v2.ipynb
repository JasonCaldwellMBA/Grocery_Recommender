{
 "cells": [
  {
   "cell_type": "markdown",
   "metadata": {
    "collapsed": true,
    "pycharm": {
     "name": "#%% md\n"
    }
   },
   "source": [
    "# Recommendations Using Custom Similarity Functions <sup>1</sup>"
   ]
  },
  {
   "cell_type": "markdown",
   "source": [
    "## Imports"
   ],
   "metadata": {
    "collapsed": false,
    "pycharm": {
     "name": "#%% md\n"
    }
   }
  },
  {
   "cell_type": "code",
   "execution_count": 1,
   "outputs": [],
   "source": [
    "import numpy as np\n",
    "import pandas as pd\n",
    "from scipy.special import logsumexp"
   ],
   "metadata": {
    "collapsed": false,
    "pycharm": {
     "name": "#%%\n"
    }
   }
  },
  {
   "cell_type": "markdown",
   "source": [
    "## Load Data\n",
    "\n",
    "Only loading a subset of the original data set for proof of concept reasons."
   ],
   "metadata": {
    "collapsed": false
   }
  },
  {
   "cell_type": "code",
   "execution_count": 2,
   "outputs": [],
   "source": [
    "# 80/20 split earlier\n",
    "df_train = pd.read_csv('../Data/training_data_subset.csv')\n",
    "df_test = pd.read_csv('../Data/testing_data_subset.csv')"
   ],
   "metadata": {
    "collapsed": false,
    "pycharm": {
     "name": "#%%\n"
    }
   }
  },
  {
   "cell_type": "code",
   "execution_count": 3,
   "outputs": [
    {
     "data": {
      "text/plain": "                                            category  \\\n0  ['Grocery & Gourmet Food', 'Candy & Chocolate'...   \n1  ['Grocery & Gourmet Food', 'Jams, Jellies & Sw...   \n\n                                               title  \\\n0             YumEarth Organic Gummy Bears, 10 Count   \n1  Bell Plantation Powdered PB2 Bundle: 1 Peanut ...   \n\n                                            also_buy     brand  \\\n0  ['B008CC8UXC', 'B00C25LO8S', 'B073RWDCMD', 'B0...  YumEarth   \n1  ['B06W9N8X9H', 'B06X15V3DC', 'B01ENYJX3S', 'B0...       PB2   \n\n                                  rank  \\\n0  129,438 in Grocery & Gourmet Food (   \n1    1,214 in Grocery & Gourmet Food (   \n\n                                           also_view main_cat  price  \\\n0  ['B008CC8UXC', 'B00C25LNWA', 'B008CC8ULY', 'B0...  Grocery    NaN   \n1                                                NaN  Grocery  18.49   \n\n         asin  overall  verified      reviewerID  vote  \\\n0  B008B7JNRA      3.0      True  A35KP4ROS9KWPO   NaN   \n1  B00H9H56QA      5.0      True   AVAMZWS7AAI1S   NaN   \n\n                                               style  for_testing  \n0  {'Size:': ' 10 Count', 'Style:': ' Natural Gum...        False  \n1            {'Size:': ' Pack of 2 (1 each flavor)'}        False  ",
      "text/html": "<div>\n<style scoped>\n    .dataframe tbody tr th:only-of-type {\n        vertical-align: middle;\n    }\n\n    .dataframe tbody tr th {\n        vertical-align: top;\n    }\n\n    .dataframe thead th {\n        text-align: right;\n    }\n</style>\n<table border=\"1\" class=\"dataframe\">\n  <thead>\n    <tr style=\"text-align: right;\">\n      <th></th>\n      <th>category</th>\n      <th>title</th>\n      <th>also_buy</th>\n      <th>brand</th>\n      <th>rank</th>\n      <th>also_view</th>\n      <th>main_cat</th>\n      <th>price</th>\n      <th>asin</th>\n      <th>overall</th>\n      <th>verified</th>\n      <th>reviewerID</th>\n      <th>vote</th>\n      <th>style</th>\n      <th>for_testing</th>\n    </tr>\n  </thead>\n  <tbody>\n    <tr>\n      <th>0</th>\n      <td>['Grocery &amp; Gourmet Food', 'Candy &amp; Chocolate'...</td>\n      <td>YumEarth Organic Gummy Bears, 10 Count</td>\n      <td>['B008CC8UXC', 'B00C25LO8S', 'B073RWDCMD', 'B0...</td>\n      <td>YumEarth</td>\n      <td>129,438 in Grocery &amp; Gourmet Food (</td>\n      <td>['B008CC8UXC', 'B00C25LNWA', 'B008CC8ULY', 'B0...</td>\n      <td>Grocery</td>\n      <td>NaN</td>\n      <td>B008B7JNRA</td>\n      <td>3.0</td>\n      <td>True</td>\n      <td>A35KP4ROS9KWPO</td>\n      <td>NaN</td>\n      <td>{'Size:': ' 10 Count', 'Style:': ' Natural Gum...</td>\n      <td>False</td>\n    </tr>\n    <tr>\n      <th>1</th>\n      <td>['Grocery &amp; Gourmet Food', 'Jams, Jellies &amp; Sw...</td>\n      <td>Bell Plantation Powdered PB2 Bundle: 1 Peanut ...</td>\n      <td>['B06W9N8X9H', 'B06X15V3DC', 'B01ENYJX3S', 'B0...</td>\n      <td>PB2</td>\n      <td>1,214 in Grocery &amp; Gourmet Food (</td>\n      <td>NaN</td>\n      <td>Grocery</td>\n      <td>18.49</td>\n      <td>B00H9H56QA</td>\n      <td>5.0</td>\n      <td>True</td>\n      <td>AVAMZWS7AAI1S</td>\n      <td>NaN</td>\n      <td>{'Size:': ' Pack of 2 (1 each flavor)'}</td>\n      <td>False</td>\n    </tr>\n  </tbody>\n</table>\n</div>"
     },
     "execution_count": 3,
     "metadata": {},
     "output_type": "execute_result"
    }
   ],
   "source": [
    "df_train.head(2)"
   ],
   "metadata": {
    "collapsed": false,
    "pycharm": {
     "name": "#%%\n"
    }
   }
  },
  {
   "cell_type": "code",
   "execution_count": 4,
   "outputs": [
    {
     "data": {
      "text/plain": "                                            category  \\\n0  ['Grocery & Gourmet Food', 'Snack Foods', 'Bar...   \n1  ['Grocery & Gourmet Food', 'Snack Foods', 'Chi...   \n\n                                               title  \\\n0                     Grocery &amp; Gourmet Food\" />   \n1  Gourmet Basics Smart Fries 4-Flavor Variety Pa...   \n\n                                            also_buy           brand  \\\n0  ['B01MT0QDPO', 'B00NL17FE4', 'B01NBM9OJN', 'B0...   Nature Valley   \n1  ['B0763SHX4W', 'B0040FIHS8', 'B00FYR5HS4', 'B0...  Gourmet Basics   \n\n                                 rank also_view main_cat  price        asin  \\\n0  16,921 in Grocery & Gourmet Food (       NaN  Grocery  18.04  B001E6GFR6   \n1  53,167 in Grocery & Gourmet Food (       NaN  Grocery  23.99  B003AZ2ECY   \n\n   overall  verified      reviewerID  vote style  for_testing  \n0      5.0      True  A2IUE299OONA73   NaN   NaN         True  \n1      4.0      True  A38NO7J1TK4R1W   NaN   NaN         True  ",
      "text/html": "<div>\n<style scoped>\n    .dataframe tbody tr th:only-of-type {\n        vertical-align: middle;\n    }\n\n    .dataframe tbody tr th {\n        vertical-align: top;\n    }\n\n    .dataframe thead th {\n        text-align: right;\n    }\n</style>\n<table border=\"1\" class=\"dataframe\">\n  <thead>\n    <tr style=\"text-align: right;\">\n      <th></th>\n      <th>category</th>\n      <th>title</th>\n      <th>also_buy</th>\n      <th>brand</th>\n      <th>rank</th>\n      <th>also_view</th>\n      <th>main_cat</th>\n      <th>price</th>\n      <th>asin</th>\n      <th>overall</th>\n      <th>verified</th>\n      <th>reviewerID</th>\n      <th>vote</th>\n      <th>style</th>\n      <th>for_testing</th>\n    </tr>\n  </thead>\n  <tbody>\n    <tr>\n      <th>0</th>\n      <td>['Grocery &amp; Gourmet Food', 'Snack Foods', 'Bar...</td>\n      <td>Grocery &amp;amp; Gourmet Food\" /&gt;</td>\n      <td>['B01MT0QDPO', 'B00NL17FE4', 'B01NBM9OJN', 'B0...</td>\n      <td>Nature Valley</td>\n      <td>16,921 in Grocery &amp; Gourmet Food (</td>\n      <td>NaN</td>\n      <td>Grocery</td>\n      <td>18.04</td>\n      <td>B001E6GFR6</td>\n      <td>5.0</td>\n      <td>True</td>\n      <td>A2IUE299OONA73</td>\n      <td>NaN</td>\n      <td>NaN</td>\n      <td>True</td>\n    </tr>\n    <tr>\n      <th>1</th>\n      <td>['Grocery &amp; Gourmet Food', 'Snack Foods', 'Chi...</td>\n      <td>Gourmet Basics Smart Fries 4-Flavor Variety Pa...</td>\n      <td>['B0763SHX4W', 'B0040FIHS8', 'B00FYR5HS4', 'B0...</td>\n      <td>Gourmet Basics</td>\n      <td>53,167 in Grocery &amp; Gourmet Food (</td>\n      <td>NaN</td>\n      <td>Grocery</td>\n      <td>23.99</td>\n      <td>B003AZ2ECY</td>\n      <td>4.0</td>\n      <td>True</td>\n      <td>A38NO7J1TK4R1W</td>\n      <td>NaN</td>\n      <td>NaN</td>\n      <td>True</td>\n    </tr>\n  </tbody>\n</table>\n</div>"
     },
     "execution_count": 4,
     "metadata": {},
     "output_type": "execute_result"
    }
   ],
   "source": [
    "df_test.head(2)"
   ],
   "metadata": {
    "collapsed": false,
    "pycharm": {
     "name": "#%%\n"
    }
   }
  },
  {
   "cell_type": "code",
   "execution_count": 5,
   "outputs": [],
   "source": [
    "# Also, load the entire original dataset to make a user index.\n",
    "# Note: If using the full train/test dataset several of the methods below can takes 2-6 hours to run.\n",
    "df_original = pd.read_csv('../Data/eda_data.csv')"
   ],
   "metadata": {
    "collapsed": false,
    "pycharm": {
     "name": "#%%\n"
    }
   }
  },
  {
   "cell_type": "code",
   "execution_count": 6,
   "outputs": [
    {
     "name": "stdout",
     "output_type": "stream",
     "text": [
      "<class 'pandas.core.frame.DataFrame'>\n",
      "RangeIndex: 1083170 entries, 0 to 1083169\n",
      "Data columns (total 14 columns):\n",
      " #   Column      Non-Null Count    Dtype  \n",
      "---  ------      --------------    -----  \n",
      " 0   category    1083170 non-null  object \n",
      " 1   title       1083170 non-null  object \n",
      " 2   also_buy    926546 non-null   object \n",
      " 3   brand       1075197 non-null  object \n",
      " 4   rank        1039163 non-null  object \n",
      " 5   also_view   577060 non-null   object \n",
      " 6   main_cat    1081896 non-null  object \n",
      " 7   price       750231 non-null   float64\n",
      " 8   asin        1083170 non-null  object \n",
      " 9   overall     1083170 non-null  float64\n",
      " 10  verified    1083170 non-null  bool   \n",
      " 11  reviewerID  1083170 non-null  object \n",
      " 12  vote        149247 non-null   float64\n",
      " 13  style       559212 non-null   object \n",
      "dtypes: bool(1), float64(3), object(10)\n",
      "memory usage: 108.5+ MB\n"
     ]
    }
   ],
   "source": [
    "df_original.info()"
   ],
   "metadata": {
    "collapsed": false,
    "pycharm": {
     "name": "#%%\n"
    }
   }
  },
  {
   "cell_type": "markdown",
   "source": [
    "### RMSE"
   ],
   "metadata": {
    "collapsed": false,
    "pycharm": {
     "name": "#%% md\n"
    }
   }
  },
  {
   "cell_type": "code",
   "execution_count": 7,
   "outputs": [],
   "source": [
    "def compute_rmse(y_pred, y_true):\n",
    "    \"\"\" Compute Root Mean Squared Error. \"\"\"\n",
    "    \n",
    "    return np.sqrt(np.mean(np.power(y_pred - y_true, 2)))"
   ],
   "metadata": {
    "collapsed": false,
    "pycharm": {
     "name": "#%%\n"
    }
   }
  },
  {
   "cell_type": "markdown",
   "source": [
    "### Evaluation method"
   ],
   "metadata": {
    "collapsed": false
   }
  },
  {
   "cell_type": "code",
   "execution_count": 8,
   "outputs": [],
   "source": [
    "def evaluate(estimate_f):\n",
    "    \"\"\" RMSE-based predictive performance evaluation with pandas. \"\"\"\n",
    "    \n",
    "    ids_to_estimate = zip(df_test.reviewerID, df_test.asin)\n",
    "    estimated = np.array([estimate_f(u,i) for (u,i) in ids_to_estimate])\n",
    "    real = df_test.overall.values\n",
    "    return compute_rmse(estimated, real)"
   ],
   "metadata": {
    "collapsed": false,
    "pycharm": {
     "name": "#%%\n"
    }
   }
  },
  {
   "cell_type": "markdown",
   "source": [
    "### Create a user index\n",
    "To retrieve information given a specific user_id in a more convenient way."
   ],
   "metadata": {
    "collapsed": false
   }
  },
  {
   "cell_type": "code",
   "execution_count": 9,
   "outputs": [
    {
     "data": {
      "text/plain": "                                                     title  \\\nreviewerID                                                   \nA1J205ZK25TZ6W  Lipton Yellow Label Tea (loose tea) - 450g   \nACOICLIJQYECU   Lipton Yellow Label Tea (loose tea) - 450g   \n\n                                                         also_buy  \\\nreviewerID                                                          \nA1J205ZK25TZ6W  ['B00886E4K0', 'B00CREXSHY', 'B001QTRGAQ', 'B0...   \nACOICLIJQYECU   ['B00886E4K0', 'B00CREXSHY', 'B001QTRGAQ', 'B0...   \n\n                                                        also_view  price  \\\nreviewerID                                                                 \nA1J205ZK25TZ6W  ['B00CREXSHY', 'B001QTRGAQ', 'B000JSQK70', 'B0...  12.46   \nACOICLIJQYECU   ['B00CREXSHY', 'B001QTRGAQ', 'B000JSQK70', 'B0...  12.46   \n\n                                              rank        asin  vote  \nreviewerID                                                            \nA1J205ZK25TZ6W  30,937 in Grocery & Gourmet Food (  4639725043   8.0  \nACOICLIJQYECU   30,937 in Grocery & Gourmet Food (  4639725043   9.0  ",
      "text/html": "<div>\n<style scoped>\n    .dataframe tbody tr th:only-of-type {\n        vertical-align: middle;\n    }\n\n    .dataframe tbody tr th {\n        vertical-align: top;\n    }\n\n    .dataframe thead th {\n        text-align: right;\n    }\n</style>\n<table border=\"1\" class=\"dataframe\">\n  <thead>\n    <tr style=\"text-align: right;\">\n      <th></th>\n      <th>title</th>\n      <th>also_buy</th>\n      <th>also_view</th>\n      <th>price</th>\n      <th>rank</th>\n      <th>asin</th>\n      <th>vote</th>\n    </tr>\n    <tr>\n      <th>reviewerID</th>\n      <th></th>\n      <th></th>\n      <th></th>\n      <th></th>\n      <th></th>\n      <th></th>\n      <th></th>\n    </tr>\n  </thead>\n  <tbody>\n    <tr>\n      <th>A1J205ZK25TZ6W</th>\n      <td>Lipton Yellow Label Tea (loose tea) - 450g</td>\n      <td>['B00886E4K0', 'B00CREXSHY', 'B001QTRGAQ', 'B0...</td>\n      <td>['B00CREXSHY', 'B001QTRGAQ', 'B000JSQK70', 'B0...</td>\n      <td>12.46</td>\n      <td>30,937 in Grocery &amp; Gourmet Food (</td>\n      <td>4639725043</td>\n      <td>8.0</td>\n    </tr>\n    <tr>\n      <th>ACOICLIJQYECU</th>\n      <td>Lipton Yellow Label Tea (loose tea) - 450g</td>\n      <td>['B00886E4K0', 'B00CREXSHY', 'B001QTRGAQ', 'B0...</td>\n      <td>['B00CREXSHY', 'B001QTRGAQ', 'B000JSQK70', 'B0...</td>\n      <td>12.46</td>\n      <td>30,937 in Grocery &amp; Gourmet Food (</td>\n      <td>4639725043</td>\n      <td>9.0</td>\n    </tr>\n  </tbody>\n</table>\n</div>"
     },
     "execution_count": 9,
     "metadata": {},
     "output_type": "execute_result"
    }
   ],
   "source": [
    "# The key features and ids from earlier analysis.\n",
    "# Note that additional features could be included if desired; except for the target feature: 'overall'.\n",
    "user_info = df_original[['title', 'also_buy', 'also_view', 'price', 'rank', 'asin', 'reviewerID', 'vote']]\n",
    "user_info.set_index('reviewerID', inplace=True)\n",
    "user_info.head(2)"
   ],
   "metadata": {
    "collapsed": false,
    "pycharm": {
     "name": "#%%\n"
    }
   }
  },
  {
   "cell_type": "markdown",
   "source": [
    "### Euclidean 'similarity'\n",
    "\n",
    "$$ sim(x,y) = \\frac{1}{1 + \\sqrt{\\sum (x - y)^2}}$$"
   ],
   "metadata": {
    "collapsed": false,
    "pycharm": {
     "name": "#%% md\n"
    }
   }
  },
  {
   "cell_type": "code",
   "execution_count": 10,
   "outputs": [],
   "source": [
    "def euclidean(s1, s2):\n",
    "    \"\"\"Take two pd.Series objects and return their euclidean 'similarity'.\"\"\"\n",
    "    diff = s1 - s2\n",
    "    return 1 / (1 + np.sqrt(np.sum(diff ** 2)))"
   ],
   "metadata": {
    "collapsed": false,
    "pycharm": {
     "name": "#%%\n"
    }
   }
  },
  {
   "cell_type": "markdown",
   "source": [
    "### Cosine similarity\n",
    "\n",
    "$$ sim(x,y) = \\frac{(x . y)}{\\sqrt{(x . x) (y . y)}} $$"
   ],
   "metadata": {
    "collapsed": false,
    "pycharm": {
     "name": "#%% md\n"
    }
   }
  },
  {
   "cell_type": "code",
   "execution_count": 11,
   "outputs": [],
   "source": [
    "def cosine(s1, s2):\n",
    "    \"\"\"Take two pd.Series objects and return their cosine similarity.\"\"\"\n",
    "    return np.sum(s1 * s2) / np.sqrt(np.sum(s1 ** 2) * np.sum(s2 ** 2))"
   ],
   "metadata": {
    "collapsed": false,
    "pycharm": {
     "name": "#%%\n"
    }
   }
  },
  {
   "cell_type": "markdown",
   "source": [
    "### Pearson correlation\n",
    "\n",
    "$$ sim(x,y) = \\frac{(x - \\bar x).(y - \\bar y)}{\\sqrt{(x - \\bar x).(x - \\bar x) * (y - \\bar y)(y - \\bar y)}} $$"
   ],
   "metadata": {
    "collapsed": false
   }
  },
  {
   "cell_type": "code",
   "execution_count": 12,
   "outputs": [],
   "source": [
    "def pearson(s1, s2):\n",
    "    \"\"\"Take two pd.Series objects and return a pearson correlation.\"\"\"\n",
    "    s1_c = s1 - s1.mean()\n",
    "    s2_c = s2 - s2.mean()\n",
    "    return np.sum(s1_c * s2_c) / np.sqrt(np.sum(logsumexp(s1_c ** 2)) * np.sum(logsumexp(s2_c ** 2)))"
   ],
   "metadata": {
    "collapsed": false,
    "pycharm": {
     "name": "#%%\n"
    }
   }
  },
  {
   "cell_type": "markdown",
   "source": [
    "### Jaccard similarity\n",
    "\n",
    "$$ sim(x,y) = \\frac{(x . y)}{(x . x) + (y . y) - (x . y)} $$"
   ],
   "metadata": {
    "collapsed": false
   }
  },
  {
   "cell_type": "code",
   "execution_count": 13,
   "outputs": [],
   "source": [
    "def jaccard(s1, s2):\n",
    "    dotp = np.sum(s1 * s2)\n",
    "    return dotp / (np.sum(s1 ** 2) + np.sum(s2 ** 2) - dotp)\n",
    "\n",
    "def binjaccard(s1, s2):\n",
    "    dotp = s1.index.intersection(s2.index).size\n",
    "    return dotp / (s1.sum() + s2.sum() - dotp)"
   ],
   "metadata": {
    "collapsed": false,
    "pycharm": {
     "name": "#%%\n"
    }
   }
  },
  {
   "cell_type": "code",
   "execution_count": 14,
   "outputs": [],
   "source": [
    "class CollaborativeSimilarityRecommendation:\n",
    "    \"\"\" Collaborative filtering using a custom sim(u,u'). \"\"\"\n",
    "\n",
    "    def __init__(self, similarity=None):\n",
    "        \"\"\" Prepare datastructures for estimation. \"\"\"\n",
    "        \n",
    "        self.all_user_profiles = df_train.pivot_table('overall', index='asin', columns='reviewerID')\n",
    "        self._similarity = similarity\n",
    "        \n",
    "    @property\n",
    "    def similarity(self):\n",
    "        return self._similarity\n",
    "    \n",
    "    @similarity.setter\n",
    "    def similarity(self, value):\n",
    "        self._similarity = value\n",
    "        \n",
    "    def estimate(self, user_id, product_id):\n",
    "        \"\"\" Ratings weighted by custom similarity. \"\"\"\n",
    "        \n",
    "        user_condition = df_train.reviewerID != user_id\n",
    "        movie_condition = df_train.asin == product_id\n",
    "        ratings_by_others = df_train.loc[user_condition & movie_condition]\n",
    "        if ratings_by_others.empty: \n",
    "            return 4.0\n",
    "        \n",
    "        ratings_by_others.set_index('reviewerID', inplace=True)\n",
    "        their_ids = ratings_by_others.index\n",
    "        their_ratings = ratings_by_others.overall\n",
    "        their_profiles = self.all_user_profiles[their_ids]\n",
    "        user_profile = self.all_user_profiles[user_id]\n",
    "        sims = their_profiles.apply(lambda profile: self.similarity(profile, user_profile), axis=0)\n",
    "        ratings_sims = pd.DataFrame({'sim': sims, 'overall': their_ratings})\n",
    "        ratings_sims = ratings_sims[ratings_sims.sim > 0]\n",
    "        if ratings_sims.empty:\n",
    "            return their_ratings.mean()\n",
    "        else:\n",
    "            return np.average(ratings_sims.overall, weights=ratings_sims.sim)\n",
    "        "
   ],
   "metadata": {
    "collapsed": false,
    "pycharm": {
     "name": "#%%\n"
    }
   }
  },
  {
   "cell_type": "code",
   "execution_count": 15,
   "outputs": [
    {
     "ename": "KeyError",
     "evalue": "'A2IUE299OONA73'",
     "output_type": "error",
     "traceback": [
      "\u001B[1;31m---------------------------------------------------------------------------\u001B[0m",
      "\u001B[1;31mKeyError\u001B[0m                                  Traceback (most recent call last)",
      "\u001B[1;32m~\\anaconda3\\lib\\site-packages\\pandas\\core\\indexes\\base.py\u001B[0m in \u001B[0;36mget_loc\u001B[1;34m(self, key, method, tolerance)\u001B[0m\n\u001B[0;32m   3080\u001B[0m             \u001B[1;32mtry\u001B[0m\u001B[1;33m:\u001B[0m\u001B[1;33m\u001B[0m\u001B[1;33m\u001B[0m\u001B[0m\n\u001B[1;32m-> 3081\u001B[1;33m                 \u001B[1;32mreturn\u001B[0m \u001B[0mself\u001B[0m\u001B[1;33m.\u001B[0m\u001B[0m_engine\u001B[0m\u001B[1;33m.\u001B[0m\u001B[0mget_loc\u001B[0m\u001B[1;33m(\u001B[0m\u001B[0mcasted_key\u001B[0m\u001B[1;33m)\u001B[0m\u001B[1;33m\u001B[0m\u001B[1;33m\u001B[0m\u001B[0m\n\u001B[0m\u001B[0;32m   3082\u001B[0m             \u001B[1;32mexcept\u001B[0m \u001B[0mKeyError\u001B[0m \u001B[1;32mas\u001B[0m \u001B[0merr\u001B[0m\u001B[1;33m:\u001B[0m\u001B[1;33m\u001B[0m\u001B[1;33m\u001B[0m\u001B[0m\n",
      "\u001B[1;32mpandas\\_libs\\index.pyx\u001B[0m in \u001B[0;36mpandas._libs.index.IndexEngine.get_loc\u001B[1;34m()\u001B[0m\n",
      "\u001B[1;32mpandas\\_libs\\index.pyx\u001B[0m in \u001B[0;36mpandas._libs.index.IndexEngine.get_loc\u001B[1;34m()\u001B[0m\n",
      "\u001B[1;32mpandas\\_libs\\hashtable_class_helper.pxi\u001B[0m in \u001B[0;36mpandas._libs.hashtable.PyObjectHashTable.get_item\u001B[1;34m()\u001B[0m\n",
      "\u001B[1;32mpandas\\_libs\\hashtable_class_helper.pxi\u001B[0m in \u001B[0;36mpandas._libs.hashtable.PyObjectHashTable.get_item\u001B[1;34m()\u001B[0m\n",
      "\u001B[1;31mKeyError\u001B[0m: 'A2IUE299OONA73'",
      "\nThe above exception was the direct cause of the following exception:\n",
      "\u001B[1;31mKeyError\u001B[0m                                  Traceback (most recent call last)",
      "\u001B[1;32m<ipython-input-15-4f258a42da23>\u001B[0m in \u001B[0;36m<module>\u001B[1;34m\u001B[0m\n\u001B[0;32m      1\u001B[0m \u001B[0mreco\u001B[0m \u001B[1;33m=\u001B[0m \u001B[0mCollaborativeSimilarityRecommendation\u001B[0m\u001B[1;33m(\u001B[0m\u001B[0mpearson\u001B[0m\u001B[1;33m)\u001B[0m\u001B[1;33m\u001B[0m\u001B[1;33m\u001B[0m\u001B[0m\n\u001B[1;32m----> 2\u001B[1;33m \u001B[0mprint\u001B[0m\u001B[1;33m(\u001B[0m\u001B[1;34m'RMSE for Pearson: %s'\u001B[0m \u001B[1;33m%\u001B[0m \u001B[0mevaluate\u001B[0m\u001B[1;33m(\u001B[0m\u001B[0mreco\u001B[0m\u001B[1;33m.\u001B[0m\u001B[0mestimate\u001B[0m\u001B[1;33m)\u001B[0m\u001B[1;33m)\u001B[0m\u001B[1;33m\u001B[0m\u001B[1;33m\u001B[0m\u001B[0m\n\u001B[0m\u001B[0;32m      3\u001B[0m \u001B[1;33m\u001B[0m\u001B[0m\n",
      "\u001B[1;32m<ipython-input-8-4e0a0dc82fd9>\u001B[0m in \u001B[0;36mevaluate\u001B[1;34m(estimate_f)\u001B[0m\n\u001B[0;32m      3\u001B[0m \u001B[1;33m\u001B[0m\u001B[0m\n\u001B[0;32m      4\u001B[0m     \u001B[0mids_to_estimate\u001B[0m \u001B[1;33m=\u001B[0m \u001B[0mzip\u001B[0m\u001B[1;33m(\u001B[0m\u001B[0mdf_test\u001B[0m\u001B[1;33m.\u001B[0m\u001B[0mreviewerID\u001B[0m\u001B[1;33m,\u001B[0m \u001B[0mdf_test\u001B[0m\u001B[1;33m.\u001B[0m\u001B[0masin\u001B[0m\u001B[1;33m)\u001B[0m\u001B[1;33m\u001B[0m\u001B[1;33m\u001B[0m\u001B[0m\n\u001B[1;32m----> 5\u001B[1;33m     \u001B[0mestimated\u001B[0m \u001B[1;33m=\u001B[0m \u001B[0mnp\u001B[0m\u001B[1;33m.\u001B[0m\u001B[0marray\u001B[0m\u001B[1;33m(\u001B[0m\u001B[1;33m[\u001B[0m\u001B[0mestimate_f\u001B[0m\u001B[1;33m(\u001B[0m\u001B[0mu\u001B[0m\u001B[1;33m,\u001B[0m\u001B[0mi\u001B[0m\u001B[1;33m)\u001B[0m \u001B[1;32mfor\u001B[0m \u001B[1;33m(\u001B[0m\u001B[0mu\u001B[0m\u001B[1;33m,\u001B[0m\u001B[0mi\u001B[0m\u001B[1;33m)\u001B[0m \u001B[1;32min\u001B[0m \u001B[0mids_to_estimate\u001B[0m\u001B[1;33m]\u001B[0m\u001B[1;33m)\u001B[0m\u001B[1;33m\u001B[0m\u001B[1;33m\u001B[0m\u001B[0m\n\u001B[0m\u001B[0;32m      6\u001B[0m     \u001B[0mreal\u001B[0m \u001B[1;33m=\u001B[0m \u001B[0mdf_test\u001B[0m\u001B[1;33m.\u001B[0m\u001B[0moverall\u001B[0m\u001B[1;33m.\u001B[0m\u001B[0mvalues\u001B[0m\u001B[1;33m\u001B[0m\u001B[1;33m\u001B[0m\u001B[0m\n\u001B[0;32m      7\u001B[0m     \u001B[1;32mreturn\u001B[0m \u001B[0mcompute_rmse\u001B[0m\u001B[1;33m(\u001B[0m\u001B[0mestimated\u001B[0m\u001B[1;33m,\u001B[0m \u001B[0mreal\u001B[0m\u001B[1;33m)\u001B[0m\u001B[1;33m\u001B[0m\u001B[1;33m\u001B[0m\u001B[0m\n",
      "\u001B[1;32m<ipython-input-8-4e0a0dc82fd9>\u001B[0m in \u001B[0;36m<listcomp>\u001B[1;34m(.0)\u001B[0m\n\u001B[0;32m      3\u001B[0m \u001B[1;33m\u001B[0m\u001B[0m\n\u001B[0;32m      4\u001B[0m     \u001B[0mids_to_estimate\u001B[0m \u001B[1;33m=\u001B[0m \u001B[0mzip\u001B[0m\u001B[1;33m(\u001B[0m\u001B[0mdf_test\u001B[0m\u001B[1;33m.\u001B[0m\u001B[0mreviewerID\u001B[0m\u001B[1;33m,\u001B[0m \u001B[0mdf_test\u001B[0m\u001B[1;33m.\u001B[0m\u001B[0masin\u001B[0m\u001B[1;33m)\u001B[0m\u001B[1;33m\u001B[0m\u001B[1;33m\u001B[0m\u001B[0m\n\u001B[1;32m----> 5\u001B[1;33m     \u001B[0mestimated\u001B[0m \u001B[1;33m=\u001B[0m \u001B[0mnp\u001B[0m\u001B[1;33m.\u001B[0m\u001B[0marray\u001B[0m\u001B[1;33m(\u001B[0m\u001B[1;33m[\u001B[0m\u001B[0mestimate_f\u001B[0m\u001B[1;33m(\u001B[0m\u001B[0mu\u001B[0m\u001B[1;33m,\u001B[0m\u001B[0mi\u001B[0m\u001B[1;33m)\u001B[0m \u001B[1;32mfor\u001B[0m \u001B[1;33m(\u001B[0m\u001B[0mu\u001B[0m\u001B[1;33m,\u001B[0m\u001B[0mi\u001B[0m\u001B[1;33m)\u001B[0m \u001B[1;32min\u001B[0m \u001B[0mids_to_estimate\u001B[0m\u001B[1;33m]\u001B[0m\u001B[1;33m)\u001B[0m\u001B[1;33m\u001B[0m\u001B[1;33m\u001B[0m\u001B[0m\n\u001B[0m\u001B[0;32m      6\u001B[0m     \u001B[0mreal\u001B[0m \u001B[1;33m=\u001B[0m \u001B[0mdf_test\u001B[0m\u001B[1;33m.\u001B[0m\u001B[0moverall\u001B[0m\u001B[1;33m.\u001B[0m\u001B[0mvalues\u001B[0m\u001B[1;33m\u001B[0m\u001B[1;33m\u001B[0m\u001B[0m\n\u001B[0;32m      7\u001B[0m     \u001B[1;32mreturn\u001B[0m \u001B[0mcompute_rmse\u001B[0m\u001B[1;33m(\u001B[0m\u001B[0mestimated\u001B[0m\u001B[1;33m,\u001B[0m \u001B[0mreal\u001B[0m\u001B[1;33m)\u001B[0m\u001B[1;33m\u001B[0m\u001B[1;33m\u001B[0m\u001B[0m\n",
      "\u001B[1;32m<ipython-input-14-4a1a38bfaa84>\u001B[0m in \u001B[0;36mestimate\u001B[1;34m(self, user_id, product_id)\u001B[0m\n\u001B[0;32m     29\u001B[0m         \u001B[0mtheir_ratings\u001B[0m \u001B[1;33m=\u001B[0m \u001B[0mratings_by_others\u001B[0m\u001B[1;33m.\u001B[0m\u001B[0moverall\u001B[0m\u001B[1;33m\u001B[0m\u001B[1;33m\u001B[0m\u001B[0m\n\u001B[0;32m     30\u001B[0m         \u001B[0mtheir_profiles\u001B[0m \u001B[1;33m=\u001B[0m \u001B[0mself\u001B[0m\u001B[1;33m.\u001B[0m\u001B[0mall_user_profiles\u001B[0m\u001B[1;33m[\u001B[0m\u001B[0mtheir_ids\u001B[0m\u001B[1;33m]\u001B[0m\u001B[1;33m\u001B[0m\u001B[1;33m\u001B[0m\u001B[0m\n\u001B[1;32m---> 31\u001B[1;33m         \u001B[0muser_profile\u001B[0m \u001B[1;33m=\u001B[0m \u001B[0mself\u001B[0m\u001B[1;33m.\u001B[0m\u001B[0mall_user_profiles\u001B[0m\u001B[1;33m[\u001B[0m\u001B[0muser_id\u001B[0m\u001B[1;33m]\u001B[0m\u001B[1;33m\u001B[0m\u001B[1;33m\u001B[0m\u001B[0m\n\u001B[0m\u001B[0;32m     32\u001B[0m         \u001B[0msims\u001B[0m \u001B[1;33m=\u001B[0m \u001B[0mtheir_profiles\u001B[0m\u001B[1;33m.\u001B[0m\u001B[0mapply\u001B[0m\u001B[1;33m(\u001B[0m\u001B[1;32mlambda\u001B[0m \u001B[0mprofile\u001B[0m\u001B[1;33m:\u001B[0m \u001B[0mself\u001B[0m\u001B[1;33m.\u001B[0m\u001B[0msimilarity\u001B[0m\u001B[1;33m(\u001B[0m\u001B[0mprofile\u001B[0m\u001B[1;33m,\u001B[0m \u001B[0muser_profile\u001B[0m\u001B[1;33m)\u001B[0m\u001B[1;33m,\u001B[0m \u001B[0maxis\u001B[0m\u001B[1;33m=\u001B[0m\u001B[1;36m0\u001B[0m\u001B[1;33m)\u001B[0m\u001B[1;33m\u001B[0m\u001B[1;33m\u001B[0m\u001B[0m\n\u001B[0;32m     33\u001B[0m         \u001B[0mratings_sims\u001B[0m \u001B[1;33m=\u001B[0m \u001B[0mpd\u001B[0m\u001B[1;33m.\u001B[0m\u001B[0mDataFrame\u001B[0m\u001B[1;33m(\u001B[0m\u001B[1;33m{\u001B[0m\u001B[1;34m'sim'\u001B[0m\u001B[1;33m:\u001B[0m \u001B[0msims\u001B[0m\u001B[1;33m,\u001B[0m \u001B[1;34m'overall'\u001B[0m\u001B[1;33m:\u001B[0m \u001B[0mtheir_ratings\u001B[0m\u001B[1;33m}\u001B[0m\u001B[1;33m)\u001B[0m\u001B[1;33m\u001B[0m\u001B[1;33m\u001B[0m\u001B[0m\n",
      "\u001B[1;32m~\\anaconda3\\lib\\site-packages\\pandas\\core\\frame.py\u001B[0m in \u001B[0;36m__getitem__\u001B[1;34m(self, key)\u001B[0m\n\u001B[0;32m   3022\u001B[0m             \u001B[1;32mif\u001B[0m \u001B[0mself\u001B[0m\u001B[1;33m.\u001B[0m\u001B[0mcolumns\u001B[0m\u001B[1;33m.\u001B[0m\u001B[0mnlevels\u001B[0m \u001B[1;33m>\u001B[0m \u001B[1;36m1\u001B[0m\u001B[1;33m:\u001B[0m\u001B[1;33m\u001B[0m\u001B[1;33m\u001B[0m\u001B[0m\n\u001B[0;32m   3023\u001B[0m                 \u001B[1;32mreturn\u001B[0m \u001B[0mself\u001B[0m\u001B[1;33m.\u001B[0m\u001B[0m_getitem_multilevel\u001B[0m\u001B[1;33m(\u001B[0m\u001B[0mkey\u001B[0m\u001B[1;33m)\u001B[0m\u001B[1;33m\u001B[0m\u001B[1;33m\u001B[0m\u001B[0m\n\u001B[1;32m-> 3024\u001B[1;33m             \u001B[0mindexer\u001B[0m \u001B[1;33m=\u001B[0m \u001B[0mself\u001B[0m\u001B[1;33m.\u001B[0m\u001B[0mcolumns\u001B[0m\u001B[1;33m.\u001B[0m\u001B[0mget_loc\u001B[0m\u001B[1;33m(\u001B[0m\u001B[0mkey\u001B[0m\u001B[1;33m)\u001B[0m\u001B[1;33m\u001B[0m\u001B[1;33m\u001B[0m\u001B[0m\n\u001B[0m\u001B[0;32m   3025\u001B[0m             \u001B[1;32mif\u001B[0m \u001B[0mis_integer\u001B[0m\u001B[1;33m(\u001B[0m\u001B[0mindexer\u001B[0m\u001B[1;33m)\u001B[0m\u001B[1;33m:\u001B[0m\u001B[1;33m\u001B[0m\u001B[1;33m\u001B[0m\u001B[0m\n\u001B[0;32m   3026\u001B[0m                 \u001B[0mindexer\u001B[0m \u001B[1;33m=\u001B[0m \u001B[1;33m[\u001B[0m\u001B[0mindexer\u001B[0m\u001B[1;33m]\u001B[0m\u001B[1;33m\u001B[0m\u001B[1;33m\u001B[0m\u001B[0m\n",
      "\u001B[1;32m~\\anaconda3\\lib\\site-packages\\pandas\\core\\indexes\\base.py\u001B[0m in \u001B[0;36mget_loc\u001B[1;34m(self, key, method, tolerance)\u001B[0m\n\u001B[0;32m   3081\u001B[0m                 \u001B[1;32mreturn\u001B[0m \u001B[0mself\u001B[0m\u001B[1;33m.\u001B[0m\u001B[0m_engine\u001B[0m\u001B[1;33m.\u001B[0m\u001B[0mget_loc\u001B[0m\u001B[1;33m(\u001B[0m\u001B[0mcasted_key\u001B[0m\u001B[1;33m)\u001B[0m\u001B[1;33m\u001B[0m\u001B[1;33m\u001B[0m\u001B[0m\n\u001B[0;32m   3082\u001B[0m             \u001B[1;32mexcept\u001B[0m \u001B[0mKeyError\u001B[0m \u001B[1;32mas\u001B[0m \u001B[0merr\u001B[0m\u001B[1;33m:\u001B[0m\u001B[1;33m\u001B[0m\u001B[1;33m\u001B[0m\u001B[0m\n\u001B[1;32m-> 3083\u001B[1;33m                 \u001B[1;32mraise\u001B[0m \u001B[0mKeyError\u001B[0m\u001B[1;33m(\u001B[0m\u001B[0mkey\u001B[0m\u001B[1;33m)\u001B[0m \u001B[1;32mfrom\u001B[0m \u001B[0merr\u001B[0m\u001B[1;33m\u001B[0m\u001B[1;33m\u001B[0m\u001B[0m\n\u001B[0m\u001B[0;32m   3084\u001B[0m \u001B[1;33m\u001B[0m\u001B[0m\n\u001B[0;32m   3085\u001B[0m         \u001B[1;32mif\u001B[0m \u001B[0mtolerance\u001B[0m \u001B[1;32mis\u001B[0m \u001B[1;32mnot\u001B[0m \u001B[1;32mNone\u001B[0m\u001B[1;33m:\u001B[0m\u001B[1;33m\u001B[0m\u001B[1;33m\u001B[0m\u001B[0m\n",
      "\u001B[1;31mKeyError\u001B[0m: 'A2IUE299OONA73'"
     ]
    }
   ],
   "source": [
    "reco = CollaborativeSimilarityRecommendation(pearson)\n",
    "print('RMSE for Pearson: %s' % evaluate(reco.estimate))"
   ],
   "metadata": {
    "collapsed": false,
    "pycharm": {
     "name": "#%%\n"
    }
   }
  },
  {
   "cell_type": "markdown",
   "source": [
    "## TODO: Troubleshooting\n",
    "\n",
    "Neither the test or train datasets have this reviewerID so I wasn't sure where it is coming from.\n",
    "However, it is in the original dataframe (see below).\n",
    "\n",
    "I was able to get this class to work in the tutorial code after refactoring several items to Python 3.\n",
    "But, I'm doing things a little differently than the tutorial for the user_info table because the tutorial used the user database to set the index.\n",
    "I cannot do that because the review dataset only has the reviewerID and overall rating that is being used here.\n",
    "All the other features of interest are in the product database; so I'm trying to use the combined\n",
    "\n",
    "Possible areas where the problem may be:\n",
    "- The process may be too different with all the refactored code.\n",
    "- May need to reset the database's index. I've tried resetting both columns and rows unsuccessfully.\n",
    "- There are duplicate reviewerIDs in certain cases. \n",
    "When I set the user_info to use this as the index it could be losing some of the data.\n",
    "If this is the case, probably need to reference the reviewerID in a different way for the comparisons.\n",
    "- Could have transposed or mixed up something in the class after I copied it from the tutorial.\n",
    "If this is the case a second pair of eyes could help."
   ],
   "metadata": {
    "collapsed": false,
    "pycharm": {
     "name": "#%% md\n"
    }
   }
  },
  {
   "cell_type": "code",
   "execution_count": 19,
   "outputs": [
    {
     "data": {
      "text/plain": "                                                            title  \\\nreviewerID                                                          \nA2IUE299OONA73  Splenda--No Calorie Sweetener Value Pack--1000...   \nA2IUE299OONA73                   M&amp;M's Peanut Candy, 62 Ounce   \nA2IUE299OONA73  York Peppermint Patties, 175-Count Changemaker...   \nA2IUE299OONA73  Austin, Cookies and Crackers, Variety Pack, 68...   \nA2IUE299OONA73                     Grocery &amp; Gourmet Food\" />   \nA2IUE299OONA73  TWIZZLERS Pull 'n' Peel Licorice Candy, Cherry...   \nA2IUE299OONA73  MILKY WAY Milk Chocolate Fun Size Candy Bars 1...   \nA2IUE299OONA73  Lance Fresh Sandwich Crackers Variety Pack - 3...   \nA2IUE299OONA73  York Peppermint Patties, 175-Count Changemaker...   \nA2IUE299OONA73  Bulk No Calorie Sweetener - 1000 Yellow Packet...   \nA2IUE299OONA73  Keebler Toast and Peanut Butter Sandwich Crack...   \nA2IUE299OONA73  Green Mountain Coffee, Breakfast Blend Decaf, ...   \nA2IUE299OONA73  Green Mountain Coffee, Breakfast Blend Decaf, ...   \n\n                                                         also_buy  \\\nreviewerID                                                          \nA2IUE299OONA73  ['B00J0EKV3I', 'B00451ZJB0', 'B00F3SQBVQ', 'B0...   \nA2IUE299OONA73  ['B072J938RF', 'B00I332L6M', 'B00CFVDIKG', 'B0...   \nA2IUE299OONA73  ['B00374XTQI', 'B005CULDQI', 'B008DQI0UK', 'B0...   \nA2IUE299OONA73  ['B01GQ5WNC0', 'B008GVJ9S4', 'B00HFC2E82', 'B0...   \nA2IUE299OONA73  ['B01MT0QDPO', 'B00NL17FE4', 'B01NBM9OJN', 'B0...   \nA2IUE299OONA73  ['B005CUM6CS', 'B0029JU0ZU', 'B007F1JP26', 'B0...   \nA2IUE299OONA73  ['B0029J6J14', 'B015NCA6VM', 'B01MRQKCX6', 'B0...   \nA2IUE299OONA73  ['B008GVJ9S4', 'B00BXGB4NW', 'B00HFC2E82', 'B0...   \nA2IUE299OONA73  ['B00374XTQI', 'B016WNGJZ8', 'B000NME632', 'B0...   \nA2IUE299OONA73  ['B00R56L7TA', 'B00DY4J6YU', 'B07J9RGGC8', 'B0...   \nA2IUE299OONA73  ['B000AYFC72', 'B00DQCB7GA', 'B00BXGB4FK', 'B0...   \nA2IUE299OONA73  ['B00I08JAYG', 'B0798DYJW1', 'B00I08JKF0', 'B0...   \nA2IUE299OONA73  ['B00I08JAYG', 'B0798DYJW1', 'B00I08JKF0', 'B0...   \n\n                                                        also_view  price  \\\nreviewerID                                                                 \nA2IUE299OONA73  ['B002FJM46C', 'B0014CWT6G', 'B01IKPTL5Q', 'B0...  24.66   \nA2IUE299OONA73  ['B00CFVDIKG', 'B078BQZ5BP', 'B01MCWEDU7', 'B0...  17.52   \nA2IUE299OONA73  ['B00374XTQI', 'B008DQI0UK', 'B016WNGJZ8', 'B0...    NaN   \nA2IUE299OONA73                                                NaN  10.19   \nA2IUE299OONA73                                                NaN  18.04   \nA2IUE299OONA73                                                NaN  26.49   \nA2IUE299OONA73                                                NaN  42.25   \nA2IUE299OONA73  ['B00BXGB4NW', 'B073MJDJD7', 'B00MMHVIUK', 'B0...  17.39   \nA2IUE299OONA73  ['B00374XTQI', 'B008DQI0UK', 'B016WNGJZ8', 'B0...    NaN   \nA2IUE299OONA73                                                NaN  20.99   \nA2IUE299OONA73  ['B000AYFC72', 'B003YH3T72', 'B073C2KCBB', 'B0...    NaN   \nA2IUE299OONA73                                                NaN  41.58   \nA2IUE299OONA73                                                NaN  41.58   \n\n                                               rank        asin  vote  \nreviewerID                                                             \nA2IUE299OONA73    2,053 in Grocery & Gourmet Food (  B000F3N7AC   2.0  \nA2IUE299OONA73   32,540 in Grocery & Gourmet Food (  B000NMCEJK   NaN  \nA2IUE299OONA73  177,795 in Grocery & Gourmet Food (  B000NME632   NaN  \nA2IUE299OONA73      849 in Grocery & Gourmet Food (  B000P6MSOU   NaN  \nA2IUE299OONA73   16,921 in Grocery & Gourmet Food (  B001E6GFR6   NaN  \nA2IUE299OONA73  104,525 in Grocery & Gourmet Food (  B001EQ4AKU   NaN  \nA2IUE299OONA73  252,442 in Grocery & Gourmet Food (  B001M074O2   NaN  \nA2IUE299OONA73    4,941 in Grocery & Gourmet Food (  B001PAS5GK   NaN  \nA2IUE299OONA73   85,327 in Grocery & Gourmet Food (  B005CULDQI   NaN  \nA2IUE299OONA73   21,824 in Grocery & Gourmet Food (  B00PL99TT8   NaN  \nA2IUE299OONA73                                  NaN  B00WBGIX9Q   NaN  \nA2IUE299OONA73    6,517 in Grocery & Gourmet Food (  B01E5XTW24   NaN  \nA2IUE299OONA73    6,517 in Grocery & Gourmet Food (  B01E5XTW24   NaN  ",
      "text/html": "<div>\n<style scoped>\n    .dataframe tbody tr th:only-of-type {\n        vertical-align: middle;\n    }\n\n    .dataframe tbody tr th {\n        vertical-align: top;\n    }\n\n    .dataframe thead th {\n        text-align: right;\n    }\n</style>\n<table border=\"1\" class=\"dataframe\">\n  <thead>\n    <tr style=\"text-align: right;\">\n      <th></th>\n      <th>title</th>\n      <th>also_buy</th>\n      <th>also_view</th>\n      <th>price</th>\n      <th>rank</th>\n      <th>asin</th>\n      <th>vote</th>\n    </tr>\n    <tr>\n      <th>reviewerID</th>\n      <th></th>\n      <th></th>\n      <th></th>\n      <th></th>\n      <th></th>\n      <th></th>\n      <th></th>\n    </tr>\n  </thead>\n  <tbody>\n    <tr>\n      <th>A2IUE299OONA73</th>\n      <td>Splenda--No Calorie Sweetener Value Pack--1000...</td>\n      <td>['B00J0EKV3I', 'B00451ZJB0', 'B00F3SQBVQ', 'B0...</td>\n      <td>['B002FJM46C', 'B0014CWT6G', 'B01IKPTL5Q', 'B0...</td>\n      <td>24.66</td>\n      <td>2,053 in Grocery &amp; Gourmet Food (</td>\n      <td>B000F3N7AC</td>\n      <td>2.0</td>\n    </tr>\n    <tr>\n      <th>A2IUE299OONA73</th>\n      <td>M&amp;amp;M's Peanut Candy, 62 Ounce</td>\n      <td>['B072J938RF', 'B00I332L6M', 'B00CFVDIKG', 'B0...</td>\n      <td>['B00CFVDIKG', 'B078BQZ5BP', 'B01MCWEDU7', 'B0...</td>\n      <td>17.52</td>\n      <td>32,540 in Grocery &amp; Gourmet Food (</td>\n      <td>B000NMCEJK</td>\n      <td>NaN</td>\n    </tr>\n    <tr>\n      <th>A2IUE299OONA73</th>\n      <td>York Peppermint Patties, 175-Count Changemaker...</td>\n      <td>['B00374XTQI', 'B005CULDQI', 'B008DQI0UK', 'B0...</td>\n      <td>['B00374XTQI', 'B008DQI0UK', 'B016WNGJZ8', 'B0...</td>\n      <td>NaN</td>\n      <td>177,795 in Grocery &amp; Gourmet Food (</td>\n      <td>B000NME632</td>\n      <td>NaN</td>\n    </tr>\n    <tr>\n      <th>A2IUE299OONA73</th>\n      <td>Austin, Cookies and Crackers, Variety Pack, 68...</td>\n      <td>['B01GQ5WNC0', 'B008GVJ9S4', 'B00HFC2E82', 'B0...</td>\n      <td>NaN</td>\n      <td>10.19</td>\n      <td>849 in Grocery &amp; Gourmet Food (</td>\n      <td>B000P6MSOU</td>\n      <td>NaN</td>\n    </tr>\n    <tr>\n      <th>A2IUE299OONA73</th>\n      <td>Grocery &amp;amp; Gourmet Food\" /&gt;</td>\n      <td>['B01MT0QDPO', 'B00NL17FE4', 'B01NBM9OJN', 'B0...</td>\n      <td>NaN</td>\n      <td>18.04</td>\n      <td>16,921 in Grocery &amp; Gourmet Food (</td>\n      <td>B001E6GFR6</td>\n      <td>NaN</td>\n    </tr>\n    <tr>\n      <th>A2IUE299OONA73</th>\n      <td>TWIZZLERS Pull 'n' Peel Licorice Candy, Cherry...</td>\n      <td>['B005CUM6CS', 'B0029JU0ZU', 'B007F1JP26', 'B0...</td>\n      <td>NaN</td>\n      <td>26.49</td>\n      <td>104,525 in Grocery &amp; Gourmet Food (</td>\n      <td>B001EQ4AKU</td>\n      <td>NaN</td>\n    </tr>\n    <tr>\n      <th>A2IUE299OONA73</th>\n      <td>MILKY WAY Milk Chocolate Fun Size Candy Bars 1...</td>\n      <td>['B0029J6J14', 'B015NCA6VM', 'B01MRQKCX6', 'B0...</td>\n      <td>NaN</td>\n      <td>42.25</td>\n      <td>252,442 in Grocery &amp; Gourmet Food (</td>\n      <td>B001M074O2</td>\n      <td>NaN</td>\n    </tr>\n    <tr>\n      <th>A2IUE299OONA73</th>\n      <td>Lance Fresh Sandwich Crackers Variety Pack - 3...</td>\n      <td>['B008GVJ9S4', 'B00BXGB4NW', 'B00HFC2E82', 'B0...</td>\n      <td>['B00BXGB4NW', 'B073MJDJD7', 'B00MMHVIUK', 'B0...</td>\n      <td>17.39</td>\n      <td>4,941 in Grocery &amp; Gourmet Food (</td>\n      <td>B001PAS5GK</td>\n      <td>NaN</td>\n    </tr>\n    <tr>\n      <th>A2IUE299OONA73</th>\n      <td>York Peppermint Patties, 175-Count Changemaker...</td>\n      <td>['B00374XTQI', 'B016WNGJZ8', 'B000NME632', 'B0...</td>\n      <td>['B00374XTQI', 'B008DQI0UK', 'B016WNGJZ8', 'B0...</td>\n      <td>NaN</td>\n      <td>85,327 in Grocery &amp; Gourmet Food (</td>\n      <td>B005CULDQI</td>\n      <td>NaN</td>\n    </tr>\n    <tr>\n      <th>A2IUE299OONA73</th>\n      <td>Bulk No Calorie Sweetener - 1000 Yellow Packet...</td>\n      <td>['B00R56L7TA', 'B00DY4J6YU', 'B07J9RGGC8', 'B0...</td>\n      <td>NaN</td>\n      <td>20.99</td>\n      <td>21,824 in Grocery &amp; Gourmet Food (</td>\n      <td>B00PL99TT8</td>\n      <td>NaN</td>\n    </tr>\n    <tr>\n      <th>A2IUE299OONA73</th>\n      <td>Keebler Toast and Peanut Butter Sandwich Crack...</td>\n      <td>['B000AYFC72', 'B00DQCB7GA', 'B00BXGB4FK', 'B0...</td>\n      <td>['B000AYFC72', 'B003YH3T72', 'B073C2KCBB', 'B0...</td>\n      <td>NaN</td>\n      <td>NaN</td>\n      <td>B00WBGIX9Q</td>\n      <td>NaN</td>\n    </tr>\n    <tr>\n      <th>A2IUE299OONA73</th>\n      <td>Green Mountain Coffee, Breakfast Blend Decaf, ...</td>\n      <td>['B00I08JAYG', 'B0798DYJW1', 'B00I08JKF0', 'B0...</td>\n      <td>NaN</td>\n      <td>41.58</td>\n      <td>6,517 in Grocery &amp; Gourmet Food (</td>\n      <td>B01E5XTW24</td>\n      <td>NaN</td>\n    </tr>\n    <tr>\n      <th>A2IUE299OONA73</th>\n      <td>Green Mountain Coffee, Breakfast Blend Decaf, ...</td>\n      <td>['B00I08JAYG', 'B0798DYJW1', 'B00I08JKF0', 'B0...</td>\n      <td>NaN</td>\n      <td>41.58</td>\n      <td>6,517 in Grocery &amp; Gourmet Food (</td>\n      <td>B01E5XTW24</td>\n      <td>NaN</td>\n    </tr>\n  </tbody>\n</table>\n</div>"
     },
     "execution_count": 19,
     "metadata": {},
     "output_type": "execute_result"
    }
   ],
   "source": [
    "user_info[user_info.index == 'A2IUE299OONA73']"
   ],
   "metadata": {
    "collapsed": false,
    "pycharm": {
     "name": "#%%\n"
    }
   }
  },
  {
   "cell_type": "code",
   "execution_count": 20,
   "outputs": [
    {
     "data": {
      "text/plain": "Empty DataFrame\nColumns: [category, title, also_buy, brand, rank, also_view, main_cat, price, asin, overall, verified, reviewerID, vote, style, for_testing]\nIndex: []",
      "text/html": "<div>\n<style scoped>\n    .dataframe tbody tr th:only-of-type {\n        vertical-align: middle;\n    }\n\n    .dataframe tbody tr th {\n        vertical-align: top;\n    }\n\n    .dataframe thead th {\n        text-align: right;\n    }\n</style>\n<table border=\"1\" class=\"dataframe\">\n  <thead>\n    <tr style=\"text-align: right;\">\n      <th></th>\n      <th>category</th>\n      <th>title</th>\n      <th>also_buy</th>\n      <th>brand</th>\n      <th>rank</th>\n      <th>also_view</th>\n      <th>main_cat</th>\n      <th>price</th>\n      <th>asin</th>\n      <th>overall</th>\n      <th>verified</th>\n      <th>reviewerID</th>\n      <th>vote</th>\n      <th>style</th>\n      <th>for_testing</th>\n    </tr>\n  </thead>\n  <tbody>\n  </tbody>\n</table>\n</div>"
     },
     "execution_count": 20,
     "metadata": {},
     "output_type": "execute_result"
    }
   ],
   "source": [
    "df_test[df_test.index == 'A2IUE299OONA73']"
   ],
   "metadata": {
    "collapsed": false,
    "pycharm": {
     "name": "#%%\n"
    }
   }
  },
  {
   "cell_type": "code",
   "execution_count": 21,
   "outputs": [
    {
     "data": {
      "text/plain": "Empty DataFrame\nColumns: [category, title, also_buy, brand, rank, also_view, main_cat, price, asin, overall, verified, reviewerID, vote, style, for_testing]\nIndex: []",
      "text/html": "<div>\n<style scoped>\n    .dataframe tbody tr th:only-of-type {\n        vertical-align: middle;\n    }\n\n    .dataframe tbody tr th {\n        vertical-align: top;\n    }\n\n    .dataframe thead th {\n        text-align: right;\n    }\n</style>\n<table border=\"1\" class=\"dataframe\">\n  <thead>\n    <tr style=\"text-align: right;\">\n      <th></th>\n      <th>category</th>\n      <th>title</th>\n      <th>also_buy</th>\n      <th>brand</th>\n      <th>rank</th>\n      <th>also_view</th>\n      <th>main_cat</th>\n      <th>price</th>\n      <th>asin</th>\n      <th>overall</th>\n      <th>verified</th>\n      <th>reviewerID</th>\n      <th>vote</th>\n      <th>style</th>\n      <th>for_testing</th>\n    </tr>\n  </thead>\n  <tbody>\n  </tbody>\n</table>\n</div>"
     },
     "execution_count": 21,
     "metadata": {},
     "output_type": "execute_result"
    }
   ],
   "source": [
    "df_train[df_train.index == 'A2IUE299OONA73']"
   ],
   "metadata": {
    "collapsed": false,
    "pycharm": {
     "name": "#%%\n"
    }
   }
  },
  {
   "cell_type": "markdown",
   "source": [
    "## Summary\n",
    "- TODO"
   ],
   "metadata": {
    "collapsed": false,
    "pycharm": {
     "name": "#%% md\n"
    }
   }
  },
  {
   "cell_type": "markdown",
   "source": [
    "## References\n",
    "1) Unata 2015 [Hands-on with PyData: How to Build a Minimal Recommendation Engine](https://www.youtube.com/watch?v=F6gWjOc1FUs).  "
   ],
   "metadata": {
    "collapsed": false
   }
  }
 ],
 "metadata": {
  "kernelspec": {
   "name": "pycharm-cef1f773",
   "language": "python",
   "display_name": "PyCharm (pycon2015_tutorial322)"
  },
  "language_info": {
   "codemirror_mode": {
    "name": "ipython",
    "version": 2
   },
   "file_extension": ".py",
   "mimetype": "text/x-python",
   "name": "python",
   "nbconvert_exporter": "python",
   "pygments_lexer": "ipython2",
   "version": "2.7.6"
  }
 },
 "nbformat": 4,
 "nbformat_minor": 0
}