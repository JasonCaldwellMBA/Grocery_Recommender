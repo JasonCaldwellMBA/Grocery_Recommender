{
 "cells": [
  {
   "cell_type": "markdown",
   "metadata": {
    "collapsed": true,
    "pycharm": {
     "name": "#%% md\n"
    }
   },
   "source": [
    "# Recommendations Using Custom Similarity Functions <sup>1</sup>"
   ]
  },
  {
   "cell_type": "markdown",
   "source": [
    "## Imports"
   ],
   "metadata": {
    "collapsed": false,
    "pycharm": {
     "name": "#%% md\n"
    }
   }
  },
  {
   "cell_type": "code",
   "execution_count": 26,
   "outputs": [],
   "source": [
    "import numpy as np\n",
    "import pandas as pd\n",
    "from scipy.special import logsumexp"
   ],
   "metadata": {
    "collapsed": false,
    "pycharm": {
     "name": "#%%\n"
    }
   }
  },
  {
   "cell_type": "markdown",
   "source": [
    "## Load Data\n",
    "\n",
    "Only loading a subset of the original data set for proof of concept reasons."
   ],
   "metadata": {
    "collapsed": false
   }
  },
  {
   "cell_type": "code",
   "execution_count": 27,
   "outputs": [],
   "source": [
    "# 80/20 split earlier\n",
    "df_train = pd.read_csv('../Data/training_data_subset.csv')\n",
    "df_test = pd.read_csv('../Data/testing_data_subset.csv')"
   ],
   "metadata": {
    "collapsed": false,
    "pycharm": {
     "name": "#%%\n"
    }
   }
  },
  {
   "cell_type": "code",
   "execution_count": 28,
   "outputs": [
    {
     "data": {
      "text/plain": "                                            category  \\\n0  ['Grocery & Gourmet Food', 'Sauces, Gravies & ...   \n1  ['Grocery & Gourmet Food', 'Breakfast Foods', ...   \n\n                                         description  \\\n0  ['Sriracha chili sauce made from sun ripened c...   \n1  ['belVita Chocolate Breakfast Biscuits are lig...   \n\n                                               title  \\\n0  Huy Fong Sriracha Chili Sauce, 28 Ounce Bottle...   \n1  belVita Chocolate Breakfast Biscuits, 5 Count ...   \n\n                                            also_buy     brand  \\\n0  ['B001E5DZZM', 'B003NROMC4', 'B00U9VTL5U', 'B0...  Huy Fong   \n1  ['B00QF27JL0', 'B01BNIN5ZO', 'B01FLPFPOY', 'B0...   Belvita   \n\n                                  rank  \\\n0  145,292 in Grocery & Gourmet Food (   \n1   19,427 in Grocery & Gourmet Food (   \n\n                                           also_view main_cat  price  \\\n0  ['B001E5DZZM', 'B008AV5HLS', 'B00U9VTL5U', 'B0...  Grocery    NaN   \n1  ['B01COWTO4O', 'B01FLPFPOY', 'B00QF27JL0', 'B0...  Grocery    NaN   \n\n         asin                                            details  overall  \\\n0  B00BT7C9R0  {'Shipping Weight:': '11.4 pounds', 'ASIN: ': ...      5.0   \n1  B00IO2DO2W  {'Shipping Weight:': '4.1 pounds', 'Domestic S...      5.0   \n\n   verified      reviewerID  \\\n0      True  A3FYXMWYC9KUCK   \n1      True  A2OWR2PL3DLWS4   \n\n                                          reviewText               summary  \\\n0  I have been using Sriracha for several years n...  This stuff is great!   \n1  My daughter is a Belvita addict.  She likes al...             Delciious   \n\n   vote style  for_testing  \n0   NaN   NaN        False  \n1   NaN   NaN        False  ",
      "text/html": "<div>\n<style scoped>\n    .dataframe tbody tr th:only-of-type {\n        vertical-align: middle;\n    }\n\n    .dataframe tbody tr th {\n        vertical-align: top;\n    }\n\n    .dataframe thead th {\n        text-align: right;\n    }\n</style>\n<table border=\"1\" class=\"dataframe\">\n  <thead>\n    <tr style=\"text-align: right;\">\n      <th></th>\n      <th>category</th>\n      <th>description</th>\n      <th>title</th>\n      <th>also_buy</th>\n      <th>brand</th>\n      <th>rank</th>\n      <th>also_view</th>\n      <th>main_cat</th>\n      <th>price</th>\n      <th>asin</th>\n      <th>details</th>\n      <th>overall</th>\n      <th>verified</th>\n      <th>reviewerID</th>\n      <th>reviewText</th>\n      <th>summary</th>\n      <th>vote</th>\n      <th>style</th>\n      <th>for_testing</th>\n    </tr>\n  </thead>\n  <tbody>\n    <tr>\n      <th>0</th>\n      <td>['Grocery &amp; Gourmet Food', 'Sauces, Gravies &amp; ...</td>\n      <td>['Sriracha chili sauce made from sun ripened c...</td>\n      <td>Huy Fong Sriracha Chili Sauce, 28 Ounce Bottle...</td>\n      <td>['B001E5DZZM', 'B003NROMC4', 'B00U9VTL5U', 'B0...</td>\n      <td>Huy Fong</td>\n      <td>145,292 in Grocery &amp; Gourmet Food (</td>\n      <td>['B001E5DZZM', 'B008AV5HLS', 'B00U9VTL5U', 'B0...</td>\n      <td>Grocery</td>\n      <td>NaN</td>\n      <td>B00BT7C9R0</td>\n      <td>{'Shipping Weight:': '11.4 pounds', 'ASIN: ': ...</td>\n      <td>5.0</td>\n      <td>True</td>\n      <td>A3FYXMWYC9KUCK</td>\n      <td>I have been using Sriracha for several years n...</td>\n      <td>This stuff is great!</td>\n      <td>NaN</td>\n      <td>NaN</td>\n      <td>False</td>\n    </tr>\n    <tr>\n      <th>1</th>\n      <td>['Grocery &amp; Gourmet Food', 'Breakfast Foods', ...</td>\n      <td>['belVita Chocolate Breakfast Biscuits are lig...</td>\n      <td>belVita Chocolate Breakfast Biscuits, 5 Count ...</td>\n      <td>['B00QF27JL0', 'B01BNIN5ZO', 'B01FLPFPOY', 'B0...</td>\n      <td>Belvita</td>\n      <td>19,427 in Grocery &amp; Gourmet Food (</td>\n      <td>['B01COWTO4O', 'B01FLPFPOY', 'B00QF27JL0', 'B0...</td>\n      <td>Grocery</td>\n      <td>NaN</td>\n      <td>B00IO2DO2W</td>\n      <td>{'Shipping Weight:': '4.1 pounds', 'Domestic S...</td>\n      <td>5.0</td>\n      <td>True</td>\n      <td>A2OWR2PL3DLWS4</td>\n      <td>My daughter is a Belvita addict.  She likes al...</td>\n      <td>Delciious</td>\n      <td>NaN</td>\n      <td>NaN</td>\n      <td>False</td>\n    </tr>\n  </tbody>\n</table>\n</div>"
     },
     "execution_count": 28,
     "metadata": {},
     "output_type": "execute_result"
    }
   ],
   "source": [
    "df_train.head(2)"
   ],
   "metadata": {
    "collapsed": false,
    "pycharm": {
     "name": "#%%\n"
    }
   }
  },
  {
   "cell_type": "code",
   "execution_count": 29,
   "outputs": [
    {
     "data": {
      "text/plain": "                                            category  \\\n0  ['Grocery & Gourmet Food', 'Produce', 'Fresh V...   \n1  ['Grocery & Gourmet Food', 'Cooking & Baking',...   \n\n                                         description  \\\n0  ['<div class=\"aplus\"> <div class=\"three-fourth...   \n1  ['Light & Fluffy. Just add water. Made with re...   \n\n                                              title  \\\n0                     Organic Green Cabbage, 1 Head   \n1  Krusteaz Complete Pancake Mix, Buttermilk, 32 oz   \n\n                                            also_buy          brand rank  \\\n0                                                NaN  produce aisle  NaN   \n1  ['B000R32RJC', 'B07CX6LN8T', 'B000PXZZQG', 'B0...       Krusteaz  NaN   \n\n                                           also_view main_cat  price  \\\n0                                                NaN  Grocery    NaN   \n1  ['B00DXGGSBI', 'B00CEMP2Z0', 'B00BP2RY42', 'B0...  Grocery    NaN   \n\n         asin                                            details  overall  \\\n0  B000P6H29Q  {'\\n    Product Dimensions: \\n    ': '7.5 x 6....      5.0   \n1  B000QCLEB6  {'\\n    Product Dimensions: \\n    ': '6.1 x 2....      5.0   \n\n   verified      reviewerID  \\\n0      True  A1NKRXSU63EA4M   \n1      True  A3TR0FIT13SSVN   \n\n                                          reviewText               summary  \\\n0                                 Hugh and delicious            Five Stars   \n1  Great flavor and surprisingly fluffy out of th...  Surprisingly good :)   \n\n   vote style  for_testing  \n0   NaN   NaN         True  \n1   6.0   NaN         True  ",
      "text/html": "<div>\n<style scoped>\n    .dataframe tbody tr th:only-of-type {\n        vertical-align: middle;\n    }\n\n    .dataframe tbody tr th {\n        vertical-align: top;\n    }\n\n    .dataframe thead th {\n        text-align: right;\n    }\n</style>\n<table border=\"1\" class=\"dataframe\">\n  <thead>\n    <tr style=\"text-align: right;\">\n      <th></th>\n      <th>category</th>\n      <th>description</th>\n      <th>title</th>\n      <th>also_buy</th>\n      <th>brand</th>\n      <th>rank</th>\n      <th>also_view</th>\n      <th>main_cat</th>\n      <th>price</th>\n      <th>asin</th>\n      <th>details</th>\n      <th>overall</th>\n      <th>verified</th>\n      <th>reviewerID</th>\n      <th>reviewText</th>\n      <th>summary</th>\n      <th>vote</th>\n      <th>style</th>\n      <th>for_testing</th>\n    </tr>\n  </thead>\n  <tbody>\n    <tr>\n      <th>0</th>\n      <td>['Grocery &amp; Gourmet Food', 'Produce', 'Fresh V...</td>\n      <td>['&lt;div class=\"aplus\"&gt; &lt;div class=\"three-fourth...</td>\n      <td>Organic Green Cabbage, 1 Head</td>\n      <td>NaN</td>\n      <td>produce aisle</td>\n      <td>NaN</td>\n      <td>NaN</td>\n      <td>Grocery</td>\n      <td>NaN</td>\n      <td>B000P6H29Q</td>\n      <td>{'\\n    Product Dimensions: \\n    ': '7.5 x 6....</td>\n      <td>5.0</td>\n      <td>True</td>\n      <td>A1NKRXSU63EA4M</td>\n      <td>Hugh and delicious</td>\n      <td>Five Stars</td>\n      <td>NaN</td>\n      <td>NaN</td>\n      <td>True</td>\n    </tr>\n    <tr>\n      <th>1</th>\n      <td>['Grocery &amp; Gourmet Food', 'Cooking &amp; Baking',...</td>\n      <td>['Light &amp; Fluffy. Just add water. Made with re...</td>\n      <td>Krusteaz Complete Pancake Mix, Buttermilk, 32 oz</td>\n      <td>['B000R32RJC', 'B07CX6LN8T', 'B000PXZZQG', 'B0...</td>\n      <td>Krusteaz</td>\n      <td>NaN</td>\n      <td>['B00DXGGSBI', 'B00CEMP2Z0', 'B00BP2RY42', 'B0...</td>\n      <td>Grocery</td>\n      <td>NaN</td>\n      <td>B000QCLEB6</td>\n      <td>{'\\n    Product Dimensions: \\n    ': '6.1 x 2....</td>\n      <td>5.0</td>\n      <td>True</td>\n      <td>A3TR0FIT13SSVN</td>\n      <td>Great flavor and surprisingly fluffy out of th...</td>\n      <td>Surprisingly good :)</td>\n      <td>6.0</td>\n      <td>NaN</td>\n      <td>True</td>\n    </tr>\n  </tbody>\n</table>\n</div>"
     },
     "execution_count": 29,
     "metadata": {},
     "output_type": "execute_result"
    }
   ],
   "source": [
    "df_test.head(2)"
   ],
   "metadata": {
    "collapsed": false,
    "pycharm": {
     "name": "#%%\n"
    }
   }
  },
  {
   "cell_type": "code",
   "execution_count": 30,
   "outputs": [],
   "source": [
    "# Also, load the entire original dataset to make a user index.\n",
    "# Note: If using the full train/test dataset several of the methods below can takes 2-6 hours to run.\n",
    "df_original = pd.read_csv('../Data/eda_data.csv')"
   ],
   "metadata": {
    "collapsed": false,
    "pycharm": {
     "name": "#%%\n"
    }
   }
  },
  {
   "cell_type": "code",
   "execution_count": 31,
   "outputs": [
    {
     "name": "stdout",
     "output_type": "stream",
     "text": [
      "<class 'pandas.core.frame.DataFrame'>\n",
      "RangeIndex: 1086548 entries, 0 to 1086547\n",
      "Data columns (total 18 columns):\n",
      " #   Column       Non-Null Count    Dtype  \n",
      "---  ------       --------------    -----  \n",
      " 0   category     1086548 non-null  object \n",
      " 1   description  993137 non-null   object \n",
      " 2   title        1086548 non-null  object \n",
      " 3   also_buy     929733 non-null   object \n",
      " 4   brand        1078563 non-null  object \n",
      " 5   rank         1042485 non-null  object \n",
      " 6   also_view    578911 non-null   object \n",
      " 7   main_cat     1085268 non-null  object \n",
      " 8   price        752804 non-null   float64\n",
      " 9   asin         1086548 non-null  object \n",
      " 10  details      1086497 non-null  object \n",
      " 11  overall      1086548 non-null  float64\n",
      " 12  verified     1086548 non-null  bool   \n",
      " 13  reviewerID   1086548 non-null  object \n",
      " 14  reviewText   1086175 non-null  object \n",
      " 15  summary      1086335 non-null  object \n",
      " 16  vote         149486 non-null   float64\n",
      " 17  style        561516 non-null   object \n",
      "dtypes: bool(1), float64(3), object(14)\n",
      "memory usage: 142.0+ MB\n"
     ]
    }
   ],
   "source": [
    "df_original.info()"
   ],
   "metadata": {
    "collapsed": false,
    "pycharm": {
     "name": "#%%\n"
    }
   }
  },
  {
   "cell_type": "markdown",
   "source": [
    "### RMSE"
   ],
   "metadata": {
    "collapsed": false,
    "pycharm": {
     "name": "#%% md\n"
    }
   }
  },
  {
   "cell_type": "code",
   "execution_count": 32,
   "outputs": [],
   "source": [
    "def compute_rmse(y_pred, y_true):\n",
    "    \"\"\" Compute Root Mean Squared Error. \"\"\"\n",
    "    \n",
    "    return np.sqrt(np.mean(np.power(y_pred - y_true, 2)))"
   ],
   "metadata": {
    "collapsed": false,
    "pycharm": {
     "name": "#%%\n"
    }
   }
  },
  {
   "cell_type": "markdown",
   "source": [
    "### Evaluation method"
   ],
   "metadata": {
    "collapsed": false
   }
  },
  {
   "cell_type": "code",
   "execution_count": 33,
   "outputs": [],
   "source": [
    "def evaluate(estimate_f):\n",
    "    \"\"\" RMSE-based predictive performance evaluation with pandas. \"\"\"\n",
    "    \n",
    "    ids_to_estimate = zip(df_test.reviewerID, df_test.asin)\n",
    "    estimated = np.array([estimate_f(u,i) for (u,i) in ids_to_estimate])\n",
    "    real = df_test.overall.values\n",
    "    return compute_rmse(estimated, real)"
   ],
   "metadata": {
    "collapsed": false,
    "pycharm": {
     "name": "#%%\n"
    }
   }
  },
  {
   "cell_type": "markdown",
   "source": [
    "### Create a user index\n",
    "To retrieve information given a specific user_id in a more convenient way."
   ],
   "metadata": {
    "collapsed": false
   }
  },
  {
   "cell_type": "code",
   "execution_count": 34,
   "outputs": [
    {
     "data": {
      "text/plain": "                                                     title  \\\nreviewerID                                                   \nA1J205ZK25TZ6W  Lipton Yellow Label Tea (loose tea) - 450g   \nACOICLIJQYECU   Lipton Yellow Label Tea (loose tea) - 450g   \n\n                                                         also_buy  \\\nreviewerID                                                          \nA1J205ZK25TZ6W  ['B00886E4K0', 'B00CREXSHY', 'B001QTRGAQ', 'B0...   \nACOICLIJQYECU   ['B00886E4K0', 'B00CREXSHY', 'B001QTRGAQ', 'B0...   \n\n                                                        also_view  price  \\\nreviewerID                                                                 \nA1J205ZK25TZ6W  ['B00CREXSHY', 'B001QTRGAQ', 'B000JSQK70', 'B0...  12.46   \nACOICLIJQYECU   ['B00CREXSHY', 'B001QTRGAQ', 'B000JSQK70', 'B0...  12.46   \n\n                                              rank        asin  vote  \\\nreviewerID                                                             \nA1J205ZK25TZ6W  30,937 in Grocery & Gourmet Food (  4639725043   8.0   \nACOICLIJQYECU   30,937 in Grocery & Gourmet Food (  4639725043   9.0   \n\n                                                       reviewText  \\\nreviewerID                                                          \nA1J205ZK25TZ6W  I make the best brewed iced tea with this yell...   \nACOICLIJQYECU   I have recently started drinking hot tea again...   \n\n                                  summary  \nreviewerID                                 \nA1J205ZK25TZ6W  Best for brewed iced tea.  \nACOICLIJQYECU        Not Bad for iced Tea  ",
      "text/html": "<div>\n<style scoped>\n    .dataframe tbody tr th:only-of-type {\n        vertical-align: middle;\n    }\n\n    .dataframe tbody tr th {\n        vertical-align: top;\n    }\n\n    .dataframe thead th {\n        text-align: right;\n    }\n</style>\n<table border=\"1\" class=\"dataframe\">\n  <thead>\n    <tr style=\"text-align: right;\">\n      <th></th>\n      <th>title</th>\n      <th>also_buy</th>\n      <th>also_view</th>\n      <th>price</th>\n      <th>rank</th>\n      <th>asin</th>\n      <th>vote</th>\n      <th>reviewText</th>\n      <th>summary</th>\n    </tr>\n    <tr>\n      <th>reviewerID</th>\n      <th></th>\n      <th></th>\n      <th></th>\n      <th></th>\n      <th></th>\n      <th></th>\n      <th></th>\n      <th></th>\n      <th></th>\n    </tr>\n  </thead>\n  <tbody>\n    <tr>\n      <th>A1J205ZK25TZ6W</th>\n      <td>Lipton Yellow Label Tea (loose tea) - 450g</td>\n      <td>['B00886E4K0', 'B00CREXSHY', 'B001QTRGAQ', 'B0...</td>\n      <td>['B00CREXSHY', 'B001QTRGAQ', 'B000JSQK70', 'B0...</td>\n      <td>12.46</td>\n      <td>30,937 in Grocery &amp; Gourmet Food (</td>\n      <td>4639725043</td>\n      <td>8.0</td>\n      <td>I make the best brewed iced tea with this yell...</td>\n      <td>Best for brewed iced tea.</td>\n    </tr>\n    <tr>\n      <th>ACOICLIJQYECU</th>\n      <td>Lipton Yellow Label Tea (loose tea) - 450g</td>\n      <td>['B00886E4K0', 'B00CREXSHY', 'B001QTRGAQ', 'B0...</td>\n      <td>['B00CREXSHY', 'B001QTRGAQ', 'B000JSQK70', 'B0...</td>\n      <td>12.46</td>\n      <td>30,937 in Grocery &amp; Gourmet Food (</td>\n      <td>4639725043</td>\n      <td>9.0</td>\n      <td>I have recently started drinking hot tea again...</td>\n      <td>Not Bad for iced Tea</td>\n    </tr>\n  </tbody>\n</table>\n</div>"
     },
     "execution_count": 34,
     "metadata": {},
     "output_type": "execute_result"
    }
   ],
   "source": [
    "# The key features and ids from earlier analysis.\n",
    "# Note that additional features could be included if desired; except for the target feature: 'overall'.\n",
    "user_info = df_original[['title', 'also_buy', 'also_view', 'price', 'rank', 'asin', 'reviewerID', 'vote', 'reviewText', 'summary']]\n",
    "user_info.set_index('reviewerID', inplace=True)\n",
    "user_info.head(2)"
   ],
   "metadata": {
    "collapsed": false,
    "pycharm": {
     "name": "#%%\n"
    }
   }
  },
  {
   "cell_type": "code",
   "execution_count": 35,
   "outputs": [
    {
     "data": {
      "text/plain": "                                                            title  \\\nreviewerID                                                          \nA2HF7X0UUO13I5                Red Star Bread Machine Yeast, 4 oz    \nA2HF7X0UUO13I5  Hodgson Mill Best For  Bread Flour, 32-Ounce (...   \nA2HF7X0UUO13I5         White Lily Unbleached Bread Flour, 5 Pound   \nA2HF7X0UUO13I5  Stur - Classic Variety Pack, Natural Water Enh...   \nA2HF7X0UUO13I5  Jell-O Sugar Free Gelatin Sampler (Bundle of 8...   \nA2HF7X0UUO13I5  Stur Fruit Punch Water Flavor 1.62 ounce (Single)   \n\n                                                         also_buy  \\\nreviewerID                                                          \nA2HF7X0UUO13I5  ['155832156X', 'B00DVWWS7C', 'B00BC3WVNS', 'B0...   \nA2HF7X0UUO13I5  ['B00C3XU688', 'B00BC3WVNS', 'B0000CEQ6H', 'B0...   \nA2HF7X0UUO13I5  ['B00BC3WVNS', 'B009UP5DQC', 'B00RP3EACY', 'B0...   \nA2HF7X0UUO13I5  ['B0092H2K6E', 'B01A2L9PHU', 'B003QZNABC', 'B0...   \nA2HF7X0UUO13I5  ['B00DJZPV84', 'B00JD8WU3U', 'B004B9MUT0', 'B0...   \nA2HF7X0UUO13I5  ['B01MATERKP', 'B01MAT7ZC4', 'B01M311CXS', 'B0...   \n\n                                                        also_view  price  \\\nreviewerID                                                                 \nA2HF7X0UUO13I5  ['B00DVWWS7C', 'B0001CXUHW', 'B00BC3WVNS', 'B0...    NaN   \nA2HF7X0UUO13I5                                                NaN  32.47   \nA2HF7X0UUO13I5  ['B006E5E8O4', 'B005QQ1MB4', 'B00KQ12BQ4', 'B0...    NaN   \nA2HF7X0UUO13I5                                                NaN  19.95   \nA2HF7X0UUO13I5                                                NaN  14.99   \nA2HF7X0UUO13I5                                                NaN   7.35   \n\n                                               rank        asin  vote  \\\nreviewerID                                                              \nA2HF7X0UUO13I5   25,911 in Grocery & Gourmet Food (  B002CIP40E   NaN   \nA2HF7X0UUO13I5   45,196 in Grocery & Gourmet Food (  B004IMYB1K   NaN   \nA2HF7X0UUO13I5  100,574 in Grocery & Gourmet Food (  B005QQ1L10   NaN   \nA2HF7X0UUO13I5      290 in Grocery & Gourmet Food (  B00C1LXBFC   NaN   \nA2HF7X0UUO13I5    8,971 in Grocery & Gourmet Food (  B00DJZUPHQ   NaN   \nA2HF7X0UUO13I5   31,570 in Grocery & Gourmet Food (  B00JS8XK52   NaN   \n\n                                                       reviewText  \\\nreviewerID                                                          \nA2HF7X0UUO13I5                                        works great   \nA2HF7X0UUO13I5  Good flour for the bread machine.  No complain...   \nA2HF7X0UUO13I5     the most delicious bread I have tasted so far.   \nA2HF7X0UUO13I5  good flavor, right sweetener.  Great for low c...   \nA2HF7X0UUO13I5  I'd like it better if they use Stevia instead ...   \nA2HF7X0UUO13I5  so glad they make these.  Great for the Atkins...   \n\n                            summary  \nreviewerID                           \nA2HF7X0UUO13I5           Five Stars  \nA2HF7X0UUO13I5  Good quality flour.  \nA2HF7X0UUO13I5           Five Stars  \nA2HF7X0UUO13I5           Four Stars  \nA2HF7X0UUO13I5          Three Stars  \nA2HF7X0UUO13I5           Five Stars  ",
      "text/html": "<div>\n<style scoped>\n    .dataframe tbody tr th:only-of-type {\n        vertical-align: middle;\n    }\n\n    .dataframe tbody tr th {\n        vertical-align: top;\n    }\n\n    .dataframe thead th {\n        text-align: right;\n    }\n</style>\n<table border=\"1\" class=\"dataframe\">\n  <thead>\n    <tr style=\"text-align: right;\">\n      <th></th>\n      <th>title</th>\n      <th>also_buy</th>\n      <th>also_view</th>\n      <th>price</th>\n      <th>rank</th>\n      <th>asin</th>\n      <th>vote</th>\n      <th>reviewText</th>\n      <th>summary</th>\n    </tr>\n    <tr>\n      <th>reviewerID</th>\n      <th></th>\n      <th></th>\n      <th></th>\n      <th></th>\n      <th></th>\n      <th></th>\n      <th></th>\n      <th></th>\n      <th></th>\n    </tr>\n  </thead>\n  <tbody>\n    <tr>\n      <th>A2HF7X0UUO13I5</th>\n      <td>Red Star Bread Machine Yeast, 4 oz</td>\n      <td>['155832156X', 'B00DVWWS7C', 'B00BC3WVNS', 'B0...</td>\n      <td>['B00DVWWS7C', 'B0001CXUHW', 'B00BC3WVNS', 'B0...</td>\n      <td>NaN</td>\n      <td>25,911 in Grocery &amp; Gourmet Food (</td>\n      <td>B002CIP40E</td>\n      <td>NaN</td>\n      <td>works great</td>\n      <td>Five Stars</td>\n    </tr>\n    <tr>\n      <th>A2HF7X0UUO13I5</th>\n      <td>Hodgson Mill Best For  Bread Flour, 32-Ounce (...</td>\n      <td>['B00C3XU688', 'B00BC3WVNS', 'B0000CEQ6H', 'B0...</td>\n      <td>NaN</td>\n      <td>32.47</td>\n      <td>45,196 in Grocery &amp; Gourmet Food (</td>\n      <td>B004IMYB1K</td>\n      <td>NaN</td>\n      <td>Good flour for the bread machine.  No complain...</td>\n      <td>Good quality flour.</td>\n    </tr>\n    <tr>\n      <th>A2HF7X0UUO13I5</th>\n      <td>White Lily Unbleached Bread Flour, 5 Pound</td>\n      <td>['B00BC3WVNS', 'B009UP5DQC', 'B00RP3EACY', 'B0...</td>\n      <td>['B006E5E8O4', 'B005QQ1MB4', 'B00KQ12BQ4', 'B0...</td>\n      <td>NaN</td>\n      <td>100,574 in Grocery &amp; Gourmet Food (</td>\n      <td>B005QQ1L10</td>\n      <td>NaN</td>\n      <td>the most delicious bread I have tasted so far.</td>\n      <td>Five Stars</td>\n    </tr>\n    <tr>\n      <th>A2HF7X0UUO13I5</th>\n      <td>Stur - Classic Variety Pack, Natural Water Enh...</td>\n      <td>['B0092H2K6E', 'B01A2L9PHU', 'B003QZNABC', 'B0...</td>\n      <td>NaN</td>\n      <td>19.95</td>\n      <td>290 in Grocery &amp; Gourmet Food (</td>\n      <td>B00C1LXBFC</td>\n      <td>NaN</td>\n      <td>good flavor, right sweetener.  Great for low c...</td>\n      <td>Four Stars</td>\n    </tr>\n    <tr>\n      <th>A2HF7X0UUO13I5</th>\n      <td>Jell-O Sugar Free Gelatin Sampler (Bundle of 8...</td>\n      <td>['B00DJZPV84', 'B00JD8WU3U', 'B004B9MUT0', 'B0...</td>\n      <td>NaN</td>\n      <td>14.99</td>\n      <td>8,971 in Grocery &amp; Gourmet Food (</td>\n      <td>B00DJZUPHQ</td>\n      <td>NaN</td>\n      <td>I'd like it better if they use Stevia instead ...</td>\n      <td>Three Stars</td>\n    </tr>\n    <tr>\n      <th>A2HF7X0UUO13I5</th>\n      <td>Stur Fruit Punch Water Flavor 1.62 ounce (Single)</td>\n      <td>['B01MATERKP', 'B01MAT7ZC4', 'B01M311CXS', 'B0...</td>\n      <td>NaN</td>\n      <td>7.35</td>\n      <td>31,570 in Grocery &amp; Gourmet Food (</td>\n      <td>B00JS8XK52</td>\n      <td>NaN</td>\n      <td>so glad they make these.  Great for the Atkins...</td>\n      <td>Five Stars</td>\n    </tr>\n  </tbody>\n</table>\n</div>"
     },
     "execution_count": 35,
     "metadata": {},
     "output_type": "execute_result"
    }
   ],
   "source": [
    "user_info[user_info.index == 'A2HF7X0UUO13I5']"
   ],
   "metadata": {
    "collapsed": false,
    "pycharm": {
     "name": "#%%\n"
    }
   }
  },
  {
   "cell_type": "code",
   "execution_count": 36,
   "outputs": [
    {
     "data": {
      "text/plain": "Empty DataFrame\nColumns: [category, description, title, also_buy, brand, rank, also_view, main_cat, price, asin, details, overall, verified, reviewerID, reviewText, summary, vote, style, for_testing]\nIndex: []",
      "text/html": "<div>\n<style scoped>\n    .dataframe tbody tr th:only-of-type {\n        vertical-align: middle;\n    }\n\n    .dataframe tbody tr th {\n        vertical-align: top;\n    }\n\n    .dataframe thead th {\n        text-align: right;\n    }\n</style>\n<table border=\"1\" class=\"dataframe\">\n  <thead>\n    <tr style=\"text-align: right;\">\n      <th></th>\n      <th>category</th>\n      <th>description</th>\n      <th>title</th>\n      <th>also_buy</th>\n      <th>brand</th>\n      <th>rank</th>\n      <th>also_view</th>\n      <th>main_cat</th>\n      <th>price</th>\n      <th>asin</th>\n      <th>details</th>\n      <th>overall</th>\n      <th>verified</th>\n      <th>reviewerID</th>\n      <th>reviewText</th>\n      <th>summary</th>\n      <th>vote</th>\n      <th>style</th>\n      <th>for_testing</th>\n    </tr>\n  </thead>\n  <tbody>\n  </tbody>\n</table>\n</div>"
     },
     "execution_count": 36,
     "metadata": {},
     "output_type": "execute_result"
    }
   ],
   "source": [
    "df_test[df_test.index == 'A2HF7X0UUO13I5']"
   ],
   "metadata": {
    "collapsed": false,
    "pycharm": {
     "name": "#%%\n"
    }
   }
  },
  {
   "cell_type": "code",
   "execution_count": 37,
   "outputs": [
    {
     "data": {
      "text/plain": "Empty DataFrame\nColumns: [category, description, title, also_buy, brand, rank, also_view, main_cat, price, asin, details, overall, verified, reviewerID, reviewText, summary, vote, style, for_testing]\nIndex: []",
      "text/html": "<div>\n<style scoped>\n    .dataframe tbody tr th:only-of-type {\n        vertical-align: middle;\n    }\n\n    .dataframe tbody tr th {\n        vertical-align: top;\n    }\n\n    .dataframe thead th {\n        text-align: right;\n    }\n</style>\n<table border=\"1\" class=\"dataframe\">\n  <thead>\n    <tr style=\"text-align: right;\">\n      <th></th>\n      <th>category</th>\n      <th>description</th>\n      <th>title</th>\n      <th>also_buy</th>\n      <th>brand</th>\n      <th>rank</th>\n      <th>also_view</th>\n      <th>main_cat</th>\n      <th>price</th>\n      <th>asin</th>\n      <th>details</th>\n      <th>overall</th>\n      <th>verified</th>\n      <th>reviewerID</th>\n      <th>reviewText</th>\n      <th>summary</th>\n      <th>vote</th>\n      <th>style</th>\n      <th>for_testing</th>\n    </tr>\n  </thead>\n  <tbody>\n  </tbody>\n</table>\n</div>"
     },
     "execution_count": 37,
     "metadata": {},
     "output_type": "execute_result"
    }
   ],
   "source": [
    "df_train[df_train.index == 'A2HF7X0UUO13I5']"
   ],
   "metadata": {
    "collapsed": false,
    "pycharm": {
     "name": "#%%\n"
    }
   }
  },
  {
   "cell_type": "markdown",
   "source": [
    "### Euclidean 'similarity'\n",
    "\n",
    "$$ sim(x,y) = \\frac{1}{1 + \\sqrt{\\sum (x - y)^2}}$$"
   ],
   "metadata": {
    "collapsed": false,
    "pycharm": {
     "name": "#%% md\n"
    }
   }
  },
  {
   "cell_type": "code",
   "execution_count": 38,
   "outputs": [],
   "source": [
    "def euclidean(s1, s2):\n",
    "    \"\"\"Take two pd.Series objects and return their euclidean 'similarity'.\"\"\"\n",
    "    diff = s1 - s2\n",
    "    return 1 / (1 + np.sqrt(np.sum(diff ** 2)))"
   ],
   "metadata": {
    "collapsed": false,
    "pycharm": {
     "name": "#%%\n"
    }
   }
  },
  {
   "cell_type": "markdown",
   "source": [
    "### Cosine similarity\n",
    "\n",
    "$$ sim(x,y) = \\frac{(x . y)}{\\sqrt{(x . x) (y . y)}} $$"
   ],
   "metadata": {
    "collapsed": false,
    "pycharm": {
     "name": "#%% md\n"
    }
   }
  },
  {
   "cell_type": "code",
   "execution_count": 39,
   "outputs": [],
   "source": [
    "def cosine(s1, s2):\n",
    "    \"\"\"Take two pd.Series objects and return their cosine similarity.\"\"\"\n",
    "    return np.sum(s1 * s2) / np.sqrt(np.sum(s1 ** 2) * np.sum(s2 ** 2))"
   ],
   "metadata": {
    "collapsed": false,
    "pycharm": {
     "name": "#%%\n"
    }
   }
  },
  {
   "cell_type": "markdown",
   "source": [
    "### Pearson correlation\n",
    "\n",
    "$$ sim(x,y) = \\frac{(x - \\bar x).(y - \\bar y)}{\\sqrt{(x - \\bar x).(x - \\bar x) * (y - \\bar y)(y - \\bar y)}} $$"
   ],
   "metadata": {
    "collapsed": false
   }
  },
  {
   "cell_type": "code",
   "execution_count": 40,
   "outputs": [],
   "source": [
    "def pearson(s1, s2):\n",
    "    \"\"\"Take two pd.Series objects and return a pearson correlation.\"\"\"\n",
    "    s1_c = s1 - s1.mean()\n",
    "    s2_c = s2 - s2.mean()\n",
    "    return np.sum(s1_c * s2_c) / np.sqrt(np.sum(logsumexp(s1_c ** 2)) * np.sum(logsumexp(s2_c ** 2)))"
   ],
   "metadata": {
    "collapsed": false,
    "pycharm": {
     "name": "#%%\n"
    }
   }
  },
  {
   "cell_type": "markdown",
   "source": [
    "### Jaccard similarity\n",
    "\n",
    "$$ sim(x,y) = \\frac{(x . y)}{(x . x) + (y . y) - (x . y)} $$"
   ],
   "metadata": {
    "collapsed": false
   }
  },
  {
   "cell_type": "code",
   "execution_count": 41,
   "outputs": [],
   "source": [
    "def jaccard(s1, s2):\n",
    "    dotp = np.sum(s1 * s2)\n",
    "    return dotp / (np.sum(s1 ** 2) + np.sum(s2 ** 2) - dotp)\n",
    "\n",
    "def binjaccard(s1, s2):\n",
    "    dotp = s1.index.intersection(s2.index).size\n",
    "    return dotp / (s1.sum() + s2.sum() - dotp)"
   ],
   "metadata": {
    "collapsed": false,
    "pycharm": {
     "name": "#%%\n"
    }
   }
  },
  {
   "cell_type": "code",
   "execution_count": 42,
   "outputs": [],
   "source": [
    "class CollaborativeSimilarityRecommendation:\n",
    "    \"\"\" Collaborative filtering using a custom sim(u,u'). \"\"\"\n",
    "\n",
    "    def __init__(self, similarity=None):\n",
    "        \"\"\" Prepare datastructures for estimation. \"\"\"\n",
    "        \n",
    "        self.all_user_profiles = df_train.pivot_table('overall', index='asin', columns='reviewerID')\n",
    "        self._similarity = similarity\n",
    "        \n",
    "    @property\n",
    "    def similarity(self):\n",
    "        return self._similarity\n",
    "    \n",
    "    @similarity.setter\n",
    "    def similarity(self, value):\n",
    "        self._similarity = value\n",
    "        \n",
    "    def estimate(self, user_id, product_id):\n",
    "        \"\"\" Ratings weighted by custom similarity. \"\"\"\n",
    "        \n",
    "        user_condition = df_train.reviewerID != user_id\n",
    "        movie_condition = df_train.asin == product_id\n",
    "        ratings_by_others = df_train.loc[user_condition & movie_condition]\n",
    "        if ratings_by_others.empty: \n",
    "            return 4.0\n",
    "        \n",
    "        ratings_by_others.set_index('reviewerID', inplace=True)\n",
    "        their_ids = ratings_by_others.index\n",
    "        their_ratings = ratings_by_others.overall\n",
    "        their_profiles = self.all_user_profiles[their_ids]\n",
    "        user_profile = self.all_user_profiles[user_id]\n",
    "        sims = their_profiles.apply(lambda profile: self.similarity(profile, user_profile), axis=0)\n",
    "        ratings_sims = pd.DataFrame({'sim': sims, 'overall': their_ratings})\n",
    "        ratings_sims = ratings_sims[ratings_sims.sim > 0]\n",
    "        if ratings_sims.empty:\n",
    "            return their_ratings.mean()\n",
    "        else:\n",
    "            return np.average(ratings_sims.overall, weights=ratings_sims.sim)\n",
    "        "
   ],
   "metadata": {
    "collapsed": false,
    "pycharm": {
     "name": "#%%\n"
    }
   }
  },
  {
   "cell_type": "code",
   "execution_count": 43,
   "outputs": [
    {
     "ename": "KeyError",
     "evalue": "'A2HF7X0UUO13I5'",
     "output_type": "error",
     "traceback": [
      "\u001B[1;31m---------------------------------------------------------------------------\u001B[0m",
      "\u001B[1;31mKeyError\u001B[0m                                  Traceback (most recent call last)",
      "\u001B[1;32m~\\anaconda3\\lib\\site-packages\\pandas\\core\\indexes\\base.py\u001B[0m in \u001B[0;36mget_loc\u001B[1;34m(self, key, method, tolerance)\u001B[0m\n\u001B[0;32m   3080\u001B[0m             \u001B[1;32mtry\u001B[0m\u001B[1;33m:\u001B[0m\u001B[1;33m\u001B[0m\u001B[1;33m\u001B[0m\u001B[0m\n\u001B[1;32m-> 3081\u001B[1;33m                 \u001B[1;32mreturn\u001B[0m \u001B[0mself\u001B[0m\u001B[1;33m.\u001B[0m\u001B[0m_engine\u001B[0m\u001B[1;33m.\u001B[0m\u001B[0mget_loc\u001B[0m\u001B[1;33m(\u001B[0m\u001B[0mcasted_key\u001B[0m\u001B[1;33m)\u001B[0m\u001B[1;33m\u001B[0m\u001B[1;33m\u001B[0m\u001B[0m\n\u001B[0m\u001B[0;32m   3082\u001B[0m             \u001B[1;32mexcept\u001B[0m \u001B[0mKeyError\u001B[0m \u001B[1;32mas\u001B[0m \u001B[0merr\u001B[0m\u001B[1;33m:\u001B[0m\u001B[1;33m\u001B[0m\u001B[1;33m\u001B[0m\u001B[0m\n",
      "\u001B[1;32mpandas\\_libs\\index.pyx\u001B[0m in \u001B[0;36mpandas._libs.index.IndexEngine.get_loc\u001B[1;34m()\u001B[0m\n",
      "\u001B[1;32mpandas\\_libs\\index.pyx\u001B[0m in \u001B[0;36mpandas._libs.index.IndexEngine.get_loc\u001B[1;34m()\u001B[0m\n",
      "\u001B[1;32mpandas\\_libs\\hashtable_class_helper.pxi\u001B[0m in \u001B[0;36mpandas._libs.hashtable.PyObjectHashTable.get_item\u001B[1;34m()\u001B[0m\n",
      "\u001B[1;32mpandas\\_libs\\hashtable_class_helper.pxi\u001B[0m in \u001B[0;36mpandas._libs.hashtable.PyObjectHashTable.get_item\u001B[1;34m()\u001B[0m\n",
      "\u001B[1;31mKeyError\u001B[0m: 'A2HF7X0UUO13I5'",
      "\nThe above exception was the direct cause of the following exception:\n",
      "\u001B[1;31mKeyError\u001B[0m                                  Traceback (most recent call last)",
      "\u001B[1;32m<ipython-input-43-4f258a42da23>\u001B[0m in \u001B[0;36m<module>\u001B[1;34m\u001B[0m\n\u001B[0;32m      1\u001B[0m \u001B[0mreco\u001B[0m \u001B[1;33m=\u001B[0m \u001B[0mCollaborativeSimilarityRecommendation\u001B[0m\u001B[1;33m(\u001B[0m\u001B[0mpearson\u001B[0m\u001B[1;33m)\u001B[0m\u001B[1;33m\u001B[0m\u001B[1;33m\u001B[0m\u001B[0m\n\u001B[1;32m----> 2\u001B[1;33m \u001B[0mprint\u001B[0m\u001B[1;33m(\u001B[0m\u001B[1;34m'RMSE for Pearson: %s'\u001B[0m \u001B[1;33m%\u001B[0m \u001B[0mevaluate\u001B[0m\u001B[1;33m(\u001B[0m\u001B[0mreco\u001B[0m\u001B[1;33m.\u001B[0m\u001B[0mestimate\u001B[0m\u001B[1;33m)\u001B[0m\u001B[1;33m)\u001B[0m\u001B[1;33m\u001B[0m\u001B[1;33m\u001B[0m\u001B[0m\n\u001B[0m\u001B[0;32m      3\u001B[0m \u001B[1;33m\u001B[0m\u001B[0m\n",
      "\u001B[1;32m<ipython-input-33-4e0a0dc82fd9>\u001B[0m in \u001B[0;36mevaluate\u001B[1;34m(estimate_f)\u001B[0m\n\u001B[0;32m      3\u001B[0m \u001B[1;33m\u001B[0m\u001B[0m\n\u001B[0;32m      4\u001B[0m     \u001B[0mids_to_estimate\u001B[0m \u001B[1;33m=\u001B[0m \u001B[0mzip\u001B[0m\u001B[1;33m(\u001B[0m\u001B[0mdf_test\u001B[0m\u001B[1;33m.\u001B[0m\u001B[0mreviewerID\u001B[0m\u001B[1;33m,\u001B[0m \u001B[0mdf_test\u001B[0m\u001B[1;33m.\u001B[0m\u001B[0masin\u001B[0m\u001B[1;33m)\u001B[0m\u001B[1;33m\u001B[0m\u001B[1;33m\u001B[0m\u001B[0m\n\u001B[1;32m----> 5\u001B[1;33m     \u001B[0mestimated\u001B[0m \u001B[1;33m=\u001B[0m \u001B[0mnp\u001B[0m\u001B[1;33m.\u001B[0m\u001B[0marray\u001B[0m\u001B[1;33m(\u001B[0m\u001B[1;33m[\u001B[0m\u001B[0mestimate_f\u001B[0m\u001B[1;33m(\u001B[0m\u001B[0mu\u001B[0m\u001B[1;33m,\u001B[0m\u001B[0mi\u001B[0m\u001B[1;33m)\u001B[0m \u001B[1;32mfor\u001B[0m \u001B[1;33m(\u001B[0m\u001B[0mu\u001B[0m\u001B[1;33m,\u001B[0m\u001B[0mi\u001B[0m\u001B[1;33m)\u001B[0m \u001B[1;32min\u001B[0m \u001B[0mids_to_estimate\u001B[0m\u001B[1;33m]\u001B[0m\u001B[1;33m)\u001B[0m\u001B[1;33m\u001B[0m\u001B[1;33m\u001B[0m\u001B[0m\n\u001B[0m\u001B[0;32m      6\u001B[0m     \u001B[0mreal\u001B[0m \u001B[1;33m=\u001B[0m \u001B[0mdf_test\u001B[0m\u001B[1;33m.\u001B[0m\u001B[0moverall\u001B[0m\u001B[1;33m.\u001B[0m\u001B[0mvalues\u001B[0m\u001B[1;33m\u001B[0m\u001B[1;33m\u001B[0m\u001B[0m\n\u001B[0;32m      7\u001B[0m     \u001B[1;32mreturn\u001B[0m \u001B[0mcompute_rmse\u001B[0m\u001B[1;33m(\u001B[0m\u001B[0mestimated\u001B[0m\u001B[1;33m,\u001B[0m \u001B[0mreal\u001B[0m\u001B[1;33m)\u001B[0m\u001B[1;33m\u001B[0m\u001B[1;33m\u001B[0m\u001B[0m\n",
      "\u001B[1;32m<ipython-input-33-4e0a0dc82fd9>\u001B[0m in \u001B[0;36m<listcomp>\u001B[1;34m(.0)\u001B[0m\n\u001B[0;32m      3\u001B[0m \u001B[1;33m\u001B[0m\u001B[0m\n\u001B[0;32m      4\u001B[0m     \u001B[0mids_to_estimate\u001B[0m \u001B[1;33m=\u001B[0m \u001B[0mzip\u001B[0m\u001B[1;33m(\u001B[0m\u001B[0mdf_test\u001B[0m\u001B[1;33m.\u001B[0m\u001B[0mreviewerID\u001B[0m\u001B[1;33m,\u001B[0m \u001B[0mdf_test\u001B[0m\u001B[1;33m.\u001B[0m\u001B[0masin\u001B[0m\u001B[1;33m)\u001B[0m\u001B[1;33m\u001B[0m\u001B[1;33m\u001B[0m\u001B[0m\n\u001B[1;32m----> 5\u001B[1;33m     \u001B[0mestimated\u001B[0m \u001B[1;33m=\u001B[0m \u001B[0mnp\u001B[0m\u001B[1;33m.\u001B[0m\u001B[0marray\u001B[0m\u001B[1;33m(\u001B[0m\u001B[1;33m[\u001B[0m\u001B[0mestimate_f\u001B[0m\u001B[1;33m(\u001B[0m\u001B[0mu\u001B[0m\u001B[1;33m,\u001B[0m\u001B[0mi\u001B[0m\u001B[1;33m)\u001B[0m \u001B[1;32mfor\u001B[0m \u001B[1;33m(\u001B[0m\u001B[0mu\u001B[0m\u001B[1;33m,\u001B[0m\u001B[0mi\u001B[0m\u001B[1;33m)\u001B[0m \u001B[1;32min\u001B[0m \u001B[0mids_to_estimate\u001B[0m\u001B[1;33m]\u001B[0m\u001B[1;33m)\u001B[0m\u001B[1;33m\u001B[0m\u001B[1;33m\u001B[0m\u001B[0m\n\u001B[0m\u001B[0;32m      6\u001B[0m     \u001B[0mreal\u001B[0m \u001B[1;33m=\u001B[0m \u001B[0mdf_test\u001B[0m\u001B[1;33m.\u001B[0m\u001B[0moverall\u001B[0m\u001B[1;33m.\u001B[0m\u001B[0mvalues\u001B[0m\u001B[1;33m\u001B[0m\u001B[1;33m\u001B[0m\u001B[0m\n\u001B[0;32m      7\u001B[0m     \u001B[1;32mreturn\u001B[0m \u001B[0mcompute_rmse\u001B[0m\u001B[1;33m(\u001B[0m\u001B[0mestimated\u001B[0m\u001B[1;33m,\u001B[0m \u001B[0mreal\u001B[0m\u001B[1;33m)\u001B[0m\u001B[1;33m\u001B[0m\u001B[1;33m\u001B[0m\u001B[0m\n",
      "\u001B[1;32m<ipython-input-42-4a1a38bfaa84>\u001B[0m in \u001B[0;36mestimate\u001B[1;34m(self, user_id, product_id)\u001B[0m\n\u001B[0;32m     29\u001B[0m         \u001B[0mtheir_ratings\u001B[0m \u001B[1;33m=\u001B[0m \u001B[0mratings_by_others\u001B[0m\u001B[1;33m.\u001B[0m\u001B[0moverall\u001B[0m\u001B[1;33m\u001B[0m\u001B[1;33m\u001B[0m\u001B[0m\n\u001B[0;32m     30\u001B[0m         \u001B[0mtheir_profiles\u001B[0m \u001B[1;33m=\u001B[0m \u001B[0mself\u001B[0m\u001B[1;33m.\u001B[0m\u001B[0mall_user_profiles\u001B[0m\u001B[1;33m[\u001B[0m\u001B[0mtheir_ids\u001B[0m\u001B[1;33m]\u001B[0m\u001B[1;33m\u001B[0m\u001B[1;33m\u001B[0m\u001B[0m\n\u001B[1;32m---> 31\u001B[1;33m         \u001B[0muser_profile\u001B[0m \u001B[1;33m=\u001B[0m \u001B[0mself\u001B[0m\u001B[1;33m.\u001B[0m\u001B[0mall_user_profiles\u001B[0m\u001B[1;33m[\u001B[0m\u001B[0muser_id\u001B[0m\u001B[1;33m]\u001B[0m\u001B[1;33m\u001B[0m\u001B[1;33m\u001B[0m\u001B[0m\n\u001B[0m\u001B[0;32m     32\u001B[0m         \u001B[0msims\u001B[0m \u001B[1;33m=\u001B[0m \u001B[0mtheir_profiles\u001B[0m\u001B[1;33m.\u001B[0m\u001B[0mapply\u001B[0m\u001B[1;33m(\u001B[0m\u001B[1;32mlambda\u001B[0m \u001B[0mprofile\u001B[0m\u001B[1;33m:\u001B[0m \u001B[0mself\u001B[0m\u001B[1;33m.\u001B[0m\u001B[0msimilarity\u001B[0m\u001B[1;33m(\u001B[0m\u001B[0mprofile\u001B[0m\u001B[1;33m,\u001B[0m \u001B[0muser_profile\u001B[0m\u001B[1;33m)\u001B[0m\u001B[1;33m,\u001B[0m \u001B[0maxis\u001B[0m\u001B[1;33m=\u001B[0m\u001B[1;36m0\u001B[0m\u001B[1;33m)\u001B[0m\u001B[1;33m\u001B[0m\u001B[1;33m\u001B[0m\u001B[0m\n\u001B[0;32m     33\u001B[0m         \u001B[0mratings_sims\u001B[0m \u001B[1;33m=\u001B[0m \u001B[0mpd\u001B[0m\u001B[1;33m.\u001B[0m\u001B[0mDataFrame\u001B[0m\u001B[1;33m(\u001B[0m\u001B[1;33m{\u001B[0m\u001B[1;34m'sim'\u001B[0m\u001B[1;33m:\u001B[0m \u001B[0msims\u001B[0m\u001B[1;33m,\u001B[0m \u001B[1;34m'overall'\u001B[0m\u001B[1;33m:\u001B[0m \u001B[0mtheir_ratings\u001B[0m\u001B[1;33m}\u001B[0m\u001B[1;33m)\u001B[0m\u001B[1;33m\u001B[0m\u001B[1;33m\u001B[0m\u001B[0m\n",
      "\u001B[1;32m~\\anaconda3\\lib\\site-packages\\pandas\\core\\frame.py\u001B[0m in \u001B[0;36m__getitem__\u001B[1;34m(self, key)\u001B[0m\n\u001B[0;32m   3022\u001B[0m             \u001B[1;32mif\u001B[0m \u001B[0mself\u001B[0m\u001B[1;33m.\u001B[0m\u001B[0mcolumns\u001B[0m\u001B[1;33m.\u001B[0m\u001B[0mnlevels\u001B[0m \u001B[1;33m>\u001B[0m \u001B[1;36m1\u001B[0m\u001B[1;33m:\u001B[0m\u001B[1;33m\u001B[0m\u001B[1;33m\u001B[0m\u001B[0m\n\u001B[0;32m   3023\u001B[0m                 \u001B[1;32mreturn\u001B[0m \u001B[0mself\u001B[0m\u001B[1;33m.\u001B[0m\u001B[0m_getitem_multilevel\u001B[0m\u001B[1;33m(\u001B[0m\u001B[0mkey\u001B[0m\u001B[1;33m)\u001B[0m\u001B[1;33m\u001B[0m\u001B[1;33m\u001B[0m\u001B[0m\n\u001B[1;32m-> 3024\u001B[1;33m             \u001B[0mindexer\u001B[0m \u001B[1;33m=\u001B[0m \u001B[0mself\u001B[0m\u001B[1;33m.\u001B[0m\u001B[0mcolumns\u001B[0m\u001B[1;33m.\u001B[0m\u001B[0mget_loc\u001B[0m\u001B[1;33m(\u001B[0m\u001B[0mkey\u001B[0m\u001B[1;33m)\u001B[0m\u001B[1;33m\u001B[0m\u001B[1;33m\u001B[0m\u001B[0m\n\u001B[0m\u001B[0;32m   3025\u001B[0m             \u001B[1;32mif\u001B[0m \u001B[0mis_integer\u001B[0m\u001B[1;33m(\u001B[0m\u001B[0mindexer\u001B[0m\u001B[1;33m)\u001B[0m\u001B[1;33m:\u001B[0m\u001B[1;33m\u001B[0m\u001B[1;33m\u001B[0m\u001B[0m\n\u001B[0;32m   3026\u001B[0m                 \u001B[0mindexer\u001B[0m \u001B[1;33m=\u001B[0m \u001B[1;33m[\u001B[0m\u001B[0mindexer\u001B[0m\u001B[1;33m]\u001B[0m\u001B[1;33m\u001B[0m\u001B[1;33m\u001B[0m\u001B[0m\n",
      "\u001B[1;32m~\\anaconda3\\lib\\site-packages\\pandas\\core\\indexes\\base.py\u001B[0m in \u001B[0;36mget_loc\u001B[1;34m(self, key, method, tolerance)\u001B[0m\n\u001B[0;32m   3081\u001B[0m                 \u001B[1;32mreturn\u001B[0m \u001B[0mself\u001B[0m\u001B[1;33m.\u001B[0m\u001B[0m_engine\u001B[0m\u001B[1;33m.\u001B[0m\u001B[0mget_loc\u001B[0m\u001B[1;33m(\u001B[0m\u001B[0mcasted_key\u001B[0m\u001B[1;33m)\u001B[0m\u001B[1;33m\u001B[0m\u001B[1;33m\u001B[0m\u001B[0m\n\u001B[0;32m   3082\u001B[0m             \u001B[1;32mexcept\u001B[0m \u001B[0mKeyError\u001B[0m \u001B[1;32mas\u001B[0m \u001B[0merr\u001B[0m\u001B[1;33m:\u001B[0m\u001B[1;33m\u001B[0m\u001B[1;33m\u001B[0m\u001B[0m\n\u001B[1;32m-> 3083\u001B[1;33m                 \u001B[1;32mraise\u001B[0m \u001B[0mKeyError\u001B[0m\u001B[1;33m(\u001B[0m\u001B[0mkey\u001B[0m\u001B[1;33m)\u001B[0m \u001B[1;32mfrom\u001B[0m \u001B[0merr\u001B[0m\u001B[1;33m\u001B[0m\u001B[1;33m\u001B[0m\u001B[0m\n\u001B[0m\u001B[0;32m   3084\u001B[0m \u001B[1;33m\u001B[0m\u001B[0m\n\u001B[0;32m   3085\u001B[0m         \u001B[1;32mif\u001B[0m \u001B[0mtolerance\u001B[0m \u001B[1;32mis\u001B[0m \u001B[1;32mnot\u001B[0m \u001B[1;32mNone\u001B[0m\u001B[1;33m:\u001B[0m\u001B[1;33m\u001B[0m\u001B[1;33m\u001B[0m\u001B[0m\n",
      "\u001B[1;31mKeyError\u001B[0m: 'A2HF7X0UUO13I5'"
     ]
    }
   ],
   "source": [
    "reco = CollaborativeSimilarityRecommendation(pearson)\n",
    "print('RMSE for Pearson: %s' % evaluate(reco.estimate))"
   ],
   "metadata": {
    "collapsed": false,
    "pycharm": {
     "name": "#%%\n"
    }
   }
  },
  {
   "cell_type": "markdown",
   "source": [
    "## Summary\n",
    "- TODO"
   ],
   "metadata": {
    "collapsed": false,
    "pycharm": {
     "name": "#%% md\n"
    }
   }
  },
  {
   "cell_type": "markdown",
   "source": [
    "## References\n",
    "1) Unata 2015 [Hands-on with PyData: How to Build a Minimal Recommendation Engine](https://www.youtube.com/watch?v=F6gWjOc1FUs).  "
   ],
   "metadata": {
    "collapsed": false
   }
  }
 ],
 "metadata": {
  "kernelspec": {
   "name": "pycharm-cef1f773",
   "language": "python",
   "display_name": "PyCharm (pycon2015_tutorial322)"
  },
  "language_info": {
   "codemirror_mode": {
    "name": "ipython",
    "version": 2
   },
   "file_extension": ".py",
   "mimetype": "text/x-python",
   "name": "python",
   "nbconvert_exporter": "python",
   "pygments_lexer": "ipython2",
   "version": "2.7.6"
  }
 },
 "nbformat": 4,
 "nbformat_minor": 0
}