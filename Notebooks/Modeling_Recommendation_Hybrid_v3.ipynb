{
 "cells": [
  {
   "cell_type": "markdown",
   "metadata": {
    "collapsed": true,
    "pycharm": {
     "name": "#%% md\n"
    }
   },
   "source": [
    "# Recommendations Using Hybrid solutions <sup>1</sup>"
   ]
  },
  {
   "cell_type": "markdown",
   "source": [
    "Lots of examples of systems that try to combine the strengths of the two main approaches.\n",
    "This can be done in a number of ways:\n",
    "\n",
    "- Combine the predictions of a content-based system and a collaborative system.\n",
    "- Incorporate content-based techniques into a collaborative approach.\n",
    "- Incorporate collaborative techniques into a content-based approach.\n",
    "- Unifying model."
   ],
   "metadata": {
    "collapsed": false
   }
  },
  {
   "cell_type": "markdown",
   "source": [
    "## Imports"
   ],
   "metadata": {
    "collapsed": false
   }
  },
  {
   "cell_type": "code",
   "execution_count": 1,
   "outputs": [],
   "source": [
    "import numpy as np\n",
    "import pandas as pd\n",
    "from scipy.special import logsumexp"
   ],
   "metadata": {
    "collapsed": false,
    "pycharm": {
     "name": "#%%\n"
    }
   }
  },
  {
   "cell_type": "markdown",
   "source": [
    "## Load Data\n",
    "\n",
    "Only loading a subset of the original data set for proof of concept reasons."
   ],
   "metadata": {
    "collapsed": false
   }
  },
  {
   "cell_type": "code",
   "execution_count": 2,
   "outputs": [],
   "source": [
    "# 80/20 split earlier\n",
    "df_train = pd.read_csv('../Data/training_data_subset.csv')\n",
    "df_test = pd.read_csv('../Data/testing_data_subset.csv')"
   ],
   "metadata": {
    "collapsed": false,
    "pycharm": {
     "name": "#%%\n"
    }
   }
  },
  {
   "cell_type": "code",
   "execution_count": 3,
   "outputs": [
    {
     "data": {
      "text/plain": "                                            category  \\\n0  ['Grocery & Gourmet Food', 'Snack Foods', 'Bar...   \n1  ['Grocery & Gourmet Food', 'Snack Foods', 'Chi...   \n\n                                               title  \\\n0                     Grocery &amp; Gourmet Food\" />   \n1  Gourmet Basics Smart Fries 4-Flavor Variety Pa...   \n\n                                            also_buy           brand  \\\n0  ['B01MT0QDPO', 'B00NL17FE4', 'B01NBM9OJN', 'B0...   Nature Valley   \n1  ['B0763SHX4W', 'B0040FIHS8', 'B00FYR5HS4', 'B0...  Gourmet Basics   \n\n                                 rank also_view main_cat  price        asin  \\\n0  16,921 in Grocery & Gourmet Food (       NaN  Grocery  18.04  B001E6GFR6   \n1  53,167 in Grocery & Gourmet Food (       NaN  Grocery  23.99  B003AZ2ECY   \n\n   overall  verified      reviewerID  vote style  for_testing  \n0      5.0      True  A2IUE299OONA73   NaN   NaN         True  \n1      4.0      True  A38NO7J1TK4R1W   NaN   NaN         True  ",
      "text/html": "<div>\n<style scoped>\n    .dataframe tbody tr th:only-of-type {\n        vertical-align: middle;\n    }\n\n    .dataframe tbody tr th {\n        vertical-align: top;\n    }\n\n    .dataframe thead th {\n        text-align: right;\n    }\n</style>\n<table border=\"1\" class=\"dataframe\">\n  <thead>\n    <tr style=\"text-align: right;\">\n      <th></th>\n      <th>category</th>\n      <th>title</th>\n      <th>also_buy</th>\n      <th>brand</th>\n      <th>rank</th>\n      <th>also_view</th>\n      <th>main_cat</th>\n      <th>price</th>\n      <th>asin</th>\n      <th>overall</th>\n      <th>verified</th>\n      <th>reviewerID</th>\n      <th>vote</th>\n      <th>style</th>\n      <th>for_testing</th>\n    </tr>\n  </thead>\n  <tbody>\n    <tr>\n      <th>0</th>\n      <td>['Grocery &amp; Gourmet Food', 'Snack Foods', 'Bar...</td>\n      <td>Grocery &amp;amp; Gourmet Food\" /&gt;</td>\n      <td>['B01MT0QDPO', 'B00NL17FE4', 'B01NBM9OJN', 'B0...</td>\n      <td>Nature Valley</td>\n      <td>16,921 in Grocery &amp; Gourmet Food (</td>\n      <td>NaN</td>\n      <td>Grocery</td>\n      <td>18.04</td>\n      <td>B001E6GFR6</td>\n      <td>5.0</td>\n      <td>True</td>\n      <td>A2IUE299OONA73</td>\n      <td>NaN</td>\n      <td>NaN</td>\n      <td>True</td>\n    </tr>\n    <tr>\n      <th>1</th>\n      <td>['Grocery &amp; Gourmet Food', 'Snack Foods', 'Chi...</td>\n      <td>Gourmet Basics Smart Fries 4-Flavor Variety Pa...</td>\n      <td>['B0763SHX4W', 'B0040FIHS8', 'B00FYR5HS4', 'B0...</td>\n      <td>Gourmet Basics</td>\n      <td>53,167 in Grocery &amp; Gourmet Food (</td>\n      <td>NaN</td>\n      <td>Grocery</td>\n      <td>23.99</td>\n      <td>B003AZ2ECY</td>\n      <td>4.0</td>\n      <td>True</td>\n      <td>A38NO7J1TK4R1W</td>\n      <td>NaN</td>\n      <td>NaN</td>\n      <td>True</td>\n    </tr>\n  </tbody>\n</table>\n</div>"
     },
     "execution_count": 3,
     "metadata": {},
     "output_type": "execute_result"
    }
   ],
   "source": [
    "df_test.head(2)"
   ],
   "metadata": {
    "collapsed": false,
    "pycharm": {
     "name": "#%%\n"
    }
   }
  },
  {
   "cell_type": "code",
   "execution_count": 4,
   "outputs": [
    {
     "data": {
      "text/plain": "                                            category  \\\n0  ['Grocery & Gourmet Food', 'Candy & Chocolate'...   \n1  ['Grocery & Gourmet Food', 'Jams, Jellies & Sw...   \n\n                                               title  \\\n0             YumEarth Organic Gummy Bears, 10 Count   \n1  Bell Plantation Powdered PB2 Bundle: 1 Peanut ...   \n\n                                            also_buy     brand  \\\n0  ['B008CC8UXC', 'B00C25LO8S', 'B073RWDCMD', 'B0...  YumEarth   \n1  ['B06W9N8X9H', 'B06X15V3DC', 'B01ENYJX3S', 'B0...       PB2   \n\n                                  rank  \\\n0  129,438 in Grocery & Gourmet Food (   \n1    1,214 in Grocery & Gourmet Food (   \n\n                                           also_view main_cat  price  \\\n0  ['B008CC8UXC', 'B00C25LNWA', 'B008CC8ULY', 'B0...  Grocery    NaN   \n1                                                NaN  Grocery  18.49   \n\n         asin  overall  verified      reviewerID  vote  \\\n0  B008B7JNRA      3.0      True  A35KP4ROS9KWPO   NaN   \n1  B00H9H56QA      5.0      True   AVAMZWS7AAI1S   NaN   \n\n                                               style  for_testing  \n0  {'Size:': ' 10 Count', 'Style:': ' Natural Gum...        False  \n1            {'Size:': ' Pack of 2 (1 each flavor)'}        False  ",
      "text/html": "<div>\n<style scoped>\n    .dataframe tbody tr th:only-of-type {\n        vertical-align: middle;\n    }\n\n    .dataframe tbody tr th {\n        vertical-align: top;\n    }\n\n    .dataframe thead th {\n        text-align: right;\n    }\n</style>\n<table border=\"1\" class=\"dataframe\">\n  <thead>\n    <tr style=\"text-align: right;\">\n      <th></th>\n      <th>category</th>\n      <th>title</th>\n      <th>also_buy</th>\n      <th>brand</th>\n      <th>rank</th>\n      <th>also_view</th>\n      <th>main_cat</th>\n      <th>price</th>\n      <th>asin</th>\n      <th>overall</th>\n      <th>verified</th>\n      <th>reviewerID</th>\n      <th>vote</th>\n      <th>style</th>\n      <th>for_testing</th>\n    </tr>\n  </thead>\n  <tbody>\n    <tr>\n      <th>0</th>\n      <td>['Grocery &amp; Gourmet Food', 'Candy &amp; Chocolate'...</td>\n      <td>YumEarth Organic Gummy Bears, 10 Count</td>\n      <td>['B008CC8UXC', 'B00C25LO8S', 'B073RWDCMD', 'B0...</td>\n      <td>YumEarth</td>\n      <td>129,438 in Grocery &amp; Gourmet Food (</td>\n      <td>['B008CC8UXC', 'B00C25LNWA', 'B008CC8ULY', 'B0...</td>\n      <td>Grocery</td>\n      <td>NaN</td>\n      <td>B008B7JNRA</td>\n      <td>3.0</td>\n      <td>True</td>\n      <td>A35KP4ROS9KWPO</td>\n      <td>NaN</td>\n      <td>{'Size:': ' 10 Count', 'Style:': ' Natural Gum...</td>\n      <td>False</td>\n    </tr>\n    <tr>\n      <th>1</th>\n      <td>['Grocery &amp; Gourmet Food', 'Jams, Jellies &amp; Sw...</td>\n      <td>Bell Plantation Powdered PB2 Bundle: 1 Peanut ...</td>\n      <td>['B06W9N8X9H', 'B06X15V3DC', 'B01ENYJX3S', 'B0...</td>\n      <td>PB2</td>\n      <td>1,214 in Grocery &amp; Gourmet Food (</td>\n      <td>NaN</td>\n      <td>Grocery</td>\n      <td>18.49</td>\n      <td>B00H9H56QA</td>\n      <td>5.0</td>\n      <td>True</td>\n      <td>AVAMZWS7AAI1S</td>\n      <td>NaN</td>\n      <td>{'Size:': ' Pack of 2 (1 each flavor)'}</td>\n      <td>False</td>\n    </tr>\n  </tbody>\n</table>\n</div>"
     },
     "execution_count": 4,
     "metadata": {},
     "output_type": "execute_result"
    }
   ],
   "source": [
    "df_train.head(2)"
   ],
   "metadata": {
    "collapsed": false,
    "pycharm": {
     "name": "#%%\n"
    }
   }
  },
  {
   "cell_type": "markdown",
   "source": [
    "### Evaluate"
   ],
   "metadata": {
    "collapsed": false
   }
  },
  {
   "cell_type": "code",
   "execution_count": 9,
   "outputs": [],
   "source": [
    "def compute_rmse(y_pred, y_true):\n",
    "    \"\"\" Compute Root Mean Squared Error. \"\"\"\n",
    "    \n",
    "    return np.sqrt(np.mean(np.power(y_pred - y_true, 2)))\n",
    "\n",
    "def evaluate(estimate_f):\n",
    "    \"\"\" RMSE-based predictive performance evaluation with pandas. \"\"\"\n",
    "    \n",
    "    ids_to_estimate = zip(df_train.reviewerID, df_train.asin)\n",
    "    estimated = np.array([estimate_f(u,i) for (u,i) in ids_to_estimate])\n",
    "    real = df_train.overall.values\n",
    "    return compute_rmse(estimated, real)"
   ],
   "metadata": {
    "collapsed": false,
    "pycharm": {
     "name": "#%%\n"
    }
   }
  },
  {
   "cell_type": "code",
   "execution_count": 10,
   "outputs": [],
   "source": [
    "def evaluate_test(estimate_f):\n",
    "    \"\"\" RMSE-based predictive performance evaluation with pandas. \"\"\"\n",
    "    \n",
    "    ids_to_estimate = zip(df_test.reviewerID, df_test.asin)\n",
    "    estimated = np.array([estimate_f(u,i) for (u,i) in ids_to_estimate])\n",
    "    real = df_test.overall.values\n",
    "    return compute_rmse(estimated, real)"
   ],
   "metadata": {
    "collapsed": false,
    "pycharm": {
     "name": "#%%\n"
    }
   }
  },
  {
   "cell_type": "markdown",
   "source": [
    "## Similarity functions"
   ],
   "metadata": {
    "collapsed": false,
    "pycharm": {
     "name": "#%% md\n"
    }
   }
  },
  {
   "cell_type": "code",
   "execution_count": 11,
   "outputs": [],
   "source": [
    "def euclidean(s1, s2):\n",
    "    \"\"\"Take two pd.Series objects and return their euclidean 'similarity'.\"\"\"\n",
    "    diff = s1 - s2\n",
    "    return 1 / (1 + np.sqrt(np.sum(diff ** 2)))\n",
    "\n",
    "def cosine(s1, s2):\n",
    "    \"\"\"Take two pd.Series objects and return their cosine similarity.\"\"\"\n",
    "    return np.sum(s1 * s2) / np.sqrt(np.sum(s1 ** 2) * np.sum(s2 ** 2))\n",
    "\n",
    "def pearson(s1, s2):\n",
    "    \"\"\"Take two pd.Series objects and return a pearson correlation.\"\"\"\n",
    "    s1_c = s1 - s1.mean()\n",
    "    s2_c = s2 - s2.mean()\n",
    "    return np.sum(s1_c * s2_c) / np.sqrt(np.sum(logsumexp(s1_c ** 2)) * np.sum(logsumexp(s2_c ** 2)))\n",
    "\n",
    "def jaccard(s1, s2):\n",
    "    dotp = np.sum(s1 * s2)\n",
    "    return dotp / (np.sum(s1 ** 2) + np.sum(s2 ** 2) - dotp)"
   ],
   "metadata": {
    "collapsed": false,
    "pycharm": {
     "name": "#%%\n"
    }
   }
  },
  {
   "cell_type": "code",
   "execution_count": 12,
   "outputs": [],
   "source": [
    "class Recommender(object):\n",
    "    def __init__(self, similarity=pearson):\n",
    "        self.overall_mean = df_train['overall'].mean()\n",
    "        self.all_user_profiles = df_train.pivot_table('overall', index='asin', columns='reviewerID')\n",
    "        self._similarity = similarity\n",
    "        \n",
    "    @property\n",
    "    def similarity(self):\n",
    "        return self._similarity\n",
    "    \n",
    "    @similarity.setter\n",
    "    def similarity(self, value):\n",
    "        self._similarity = value\n",
    "    \n",
    "    def estimate_product(self, user_id, product_id):\n",
    "        all_ratings = df_train.loc[df_train.asin == product_id]\n",
    "        if all_ratings.empty:\n",
    "            return self.overall_mean\n",
    "        all_ratings.set_index('reviewerID', inplace=True)\n",
    "        their_ids = all_ratings.index\n",
    "        their_ratings = all_ratings.overall\n",
    "        their_profiles = self.all_user_profiles[their_ids]\n",
    "        user_profile = self.all_user_profiles[user_id]\n",
    "        sims = their_profiles.apply(lambda profile: self.similarity(profile, user_profile), axis=0)\n",
    "        ratings_sims = pd.DataFrame({'sim': sims, 'overall': their_ratings})\n",
    "        ratings_sims = ratings_sims[ratings_sims.sim > 0]\n",
    "        if ratings_sims.empty:\n",
    "            return their_ratings.mean()\n",
    "        else:\n",
    "            return np.average(ratings_sims.overall, weights=ratings_sims.sim)\n",
    "\n",
    "    def estimate_user(self, user_id):\n",
    "        similar = df_train.loc[df_train.reviewerID == user_id]\n",
    "        \n",
    "        if similar.empty:\n",
    "            return self.overall_mean\n",
    "        else:\n",
    "            return similar['overall'].mean()\n",
    "\n",
    "    def estimate(self, user_id, movie_id):\n",
    "        return 0.9 * self.estimate_user(user_id) + 0.1 * self.estimate_product(user_id, movie_id)"
   ],
   "metadata": {
    "collapsed": false,
    "pycharm": {
     "name": "#%%\n"
    }
   }
  },
  {
   "cell_type": "code",
   "execution_count": 21,
   "outputs": [
    {
     "name": "stdout",
     "output_type": "stream",
     "text": [
      "RMSE using euclidean: 0.2026571693473235\n"
     ]
    }
   ],
   "source": [
    "rec = Recommender(euclidean)\n",
    "print('RMSE using euclidean: %s' % evaluate(rec.estimate))"
   ],
   "metadata": {
    "collapsed": false,
    "pycharm": {
     "name": "#%%\n"
    }
   }
  },
  {
   "cell_type": "code",
   "execution_count": 22,
   "outputs": [
    {
     "name": "stdout",
     "output_type": "stream",
     "text": [
      "RMSE using cosine: 0.2076234970442699\n"
     ]
    }
   ],
   "source": [
    "rec = Recommender(cosine)\n",
    "print('RMSE using cosine: %s' % evaluate(rec.estimate))"
   ],
   "metadata": {
    "collapsed": false,
    "pycharm": {
     "name": "#%%\n"
    }
   }
  },
  {
   "cell_type": "code",
   "execution_count": 23,
   "outputs": [
    {
     "name": "stdout",
     "output_type": "stream",
     "text": [
      "RMSE using pearson: 0.21002381594394504\n"
     ]
    }
   ],
   "source": [
    "rec = Recommender(pearson)\n",
    "print('RMSE using pearson: %s' % evaluate(rec.estimate))"
   ],
   "metadata": {
    "collapsed": false,
    "pycharm": {
     "name": "#%%\n"
    }
   }
  },
  {
   "cell_type": "code",
   "execution_count": 24,
   "outputs": [
    {
     "name": "stdout",
     "output_type": "stream",
     "text": [
      "RMSE using jaccard: 0.20355713315116886\n"
     ]
    }
   ],
   "source": [
    "rec = Recommender(jaccard)\n",
    "print('RMSE using jaccard: %s' % evaluate(rec.estimate))"
   ],
   "metadata": {
    "collapsed": false,
    "pycharm": {
     "name": "#%%\n"
    }
   }
  },
  {
   "cell_type": "markdown",
   "source": [
    "## Summary\n",
    "- Evaluated estimated recommendations using several hybrid methods.\n",
    "- In all cases, the estimates were significantly better than all previous notebook versions.\n",
    "- The best performing was euclidean with a RMSE of 0.2027.\n",
    "- The worse performing was pearson with a RMSE of 0.21."
   ],
   "metadata": {
    "collapsed": false
   }
  },
  {
   "cell_type": "markdown",
   "source": [
    "## References\n",
    "1) Unata 2015 [Hands-on with PyData: How to Build a Minimal Recommendation Engine](https://www.youtube.com/watch?v=F6gWjOc1FUs).  "
   ],
   "metadata": {
    "collapsed": false
   }
  }
 ],
 "metadata": {
  "kernelspec": {
   "name": "pycharm-cef1f773",
   "language": "python",
   "display_name": "PyCharm (pycon2015_tutorial322)"
  },
  "language_info": {
   "codemirror_mode": {
    "name": "ipython",
    "version": 2
   },
   "file_extension": ".py",
   "mimetype": "text/x-python",
   "name": "python",
   "nbconvert_exporter": "python",
   "pygments_lexer": "ipython2",
   "version": "2.7.6"
  }
 },
 "nbformat": 4,
 "nbformat_minor": 0
}