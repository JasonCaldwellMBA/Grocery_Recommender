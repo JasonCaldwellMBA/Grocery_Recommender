{
 "cells": [
  {
   "cell_type": "markdown",
   "metadata": {
    "collapsed": true,
    "pycharm": {
     "name": "#%% md\n"
    }
   },
   "source": [
    "# Recommendations Using Hybrid solutions <sup>1</sup>"
   ]
  },
  {
   "cell_type": "markdown",
   "source": [
    "Lots of examples of systems that try to combine the strengths of the two main approaches.\n",
    "This can be done in a number of ways:\n",
    "\n",
    "- Combine the predictions of a content-based system and a collaborative system.\n",
    "- Incorporate content-based techniques into a collaborative approach.\n",
    "- Incorporate collaborative techniques into a content-based approach.\n",
    "- Unifying model."
   ],
   "metadata": {
    "collapsed": false
   }
  },
  {
   "cell_type": "markdown",
   "source": [
    "## Imports"
   ],
   "metadata": {
    "collapsed": false
   }
  },
  {
   "cell_type": "code",
   "execution_count": 1,
   "outputs": [],
   "source": [
    "import numpy as np\n",
    "import pandas as pd\n",
    "from scipy.special import logsumexp\n",
    "from sklearn.preprocessing import label_binarize\n",
    "import matplotlib.pyplot as plt\n",
    "from sklearn.metrics import confusion_matrix\n",
    "import seaborn as sns\n",
    "from sklearn.metrics import accuracy_score, classification_report\n",
    "from sklearn.metrics import precision_recall_curve\n",
    "from sklearn.metrics import average_precision_score\n",
    "from itertools import cycle\n",
    "import random"
   ],
   "metadata": {
    "collapsed": false,
    "pycharm": {
     "name": "#%%\n"
    }
   }
  },
  {
   "cell_type": "markdown",
   "source": [
    "## Load Data\n",
    "\n",
    "Only loading a subset of the original data set for proof of concept reasons."
   ],
   "metadata": {
    "collapsed": false
   }
  },
  {
   "cell_type": "code",
   "execution_count": 2,
   "outputs": [],
   "source": [
    "# 80/20 split earlier\n",
    "df_train = pd.read_csv('../Data/training_data_subset.csv')\n",
    "df_test = pd.read_csv('../Data/testing_data_subset.csv')"
   ],
   "metadata": {
    "collapsed": false,
    "pycharm": {
     "name": "#%%\n"
    }
   }
  },
  {
   "cell_type": "code",
   "execution_count": 3,
   "outputs": [
    {
     "data": {
      "text/plain": "                                            category  \\\n0  ['Grocery & Gourmet Food', 'Candy & Chocolate'...   \n1  ['Grocery & Gourmet Food', 'Jams, Jellies & Sw...   \n\n                                               title  \\\n0             YumEarth Organic Gummy Bears, 10 Count   \n1  Bell Plantation Powdered PB2 Bundle: 1 Peanut ...   \n\n                                            also_buy     brand  \\\n0  ['B008CC8UXC', 'B00C25LO8S', 'B073RWDCMD', 'B0...  YumEarth   \n1  ['B06W9N8X9H', 'B06X15V3DC', 'B01ENYJX3S', 'B0...       PB2   \n\n                                  rank  \\\n0  129,438 in Grocery & Gourmet Food (   \n1    1,214 in Grocery & Gourmet Food (   \n\n                                           also_view main_cat  price  \\\n0  ['B008CC8UXC', 'B00C25LNWA', 'B008CC8ULY', 'B0...  Grocery    NaN   \n1                                                NaN  Grocery  18.49   \n\n         asin  overall  verified      reviewerID  vote  \\\n0  B008B7JNRA      3.0      True  A35KP4ROS9KWPO   NaN   \n1  B00H9H56QA      5.0      True   AVAMZWS7AAI1S   NaN   \n\n                                               style  for_testing  \n0  {'Size:': ' 10 Count', 'Style:': ' Natural Gum...        False  \n1            {'Size:': ' Pack of 2 (1 each flavor)'}        False  ",
      "text/html": "<div>\n<style scoped>\n    .dataframe tbody tr th:only-of-type {\n        vertical-align: middle;\n    }\n\n    .dataframe tbody tr th {\n        vertical-align: top;\n    }\n\n    .dataframe thead th {\n        text-align: right;\n    }\n</style>\n<table border=\"1\" class=\"dataframe\">\n  <thead>\n    <tr style=\"text-align: right;\">\n      <th></th>\n      <th>category</th>\n      <th>title</th>\n      <th>also_buy</th>\n      <th>brand</th>\n      <th>rank</th>\n      <th>also_view</th>\n      <th>main_cat</th>\n      <th>price</th>\n      <th>asin</th>\n      <th>overall</th>\n      <th>verified</th>\n      <th>reviewerID</th>\n      <th>vote</th>\n      <th>style</th>\n      <th>for_testing</th>\n    </tr>\n  </thead>\n  <tbody>\n    <tr>\n      <th>0</th>\n      <td>['Grocery &amp; Gourmet Food', 'Candy &amp; Chocolate'...</td>\n      <td>YumEarth Organic Gummy Bears, 10 Count</td>\n      <td>['B008CC8UXC', 'B00C25LO8S', 'B073RWDCMD', 'B0...</td>\n      <td>YumEarth</td>\n      <td>129,438 in Grocery &amp; Gourmet Food (</td>\n      <td>['B008CC8UXC', 'B00C25LNWA', 'B008CC8ULY', 'B0...</td>\n      <td>Grocery</td>\n      <td>NaN</td>\n      <td>B008B7JNRA</td>\n      <td>3.0</td>\n      <td>True</td>\n      <td>A35KP4ROS9KWPO</td>\n      <td>NaN</td>\n      <td>{'Size:': ' 10 Count', 'Style:': ' Natural Gum...</td>\n      <td>False</td>\n    </tr>\n    <tr>\n      <th>1</th>\n      <td>['Grocery &amp; Gourmet Food', 'Jams, Jellies &amp; Sw...</td>\n      <td>Bell Plantation Powdered PB2 Bundle: 1 Peanut ...</td>\n      <td>['B06W9N8X9H', 'B06X15V3DC', 'B01ENYJX3S', 'B0...</td>\n      <td>PB2</td>\n      <td>1,214 in Grocery &amp; Gourmet Food (</td>\n      <td>NaN</td>\n      <td>Grocery</td>\n      <td>18.49</td>\n      <td>B00H9H56QA</td>\n      <td>5.0</td>\n      <td>True</td>\n      <td>AVAMZWS7AAI1S</td>\n      <td>NaN</td>\n      <td>{'Size:': ' Pack of 2 (1 each flavor)'}</td>\n      <td>False</td>\n    </tr>\n  </tbody>\n</table>\n</div>"
     },
     "execution_count": 3,
     "metadata": {},
     "output_type": "execute_result"
    }
   ],
   "source": [
    "df_train.head(2)"
   ],
   "metadata": {
    "collapsed": false,
    "pycharm": {
     "name": "#%%\n"
    }
   }
  },
  {
   "cell_type": "code",
   "execution_count": 4,
   "outputs": [
    {
     "data": {
      "text/plain": "                                            category  \\\n0  ['Grocery & Gourmet Food', 'Snack Foods', 'Bar...   \n1  ['Grocery & Gourmet Food', 'Snack Foods', 'Chi...   \n\n                                               title  \\\n0                     Grocery &amp; Gourmet Food\" />   \n1  Gourmet Basics Smart Fries 4-Flavor Variety Pa...   \n\n                                            also_buy           brand  \\\n0  ['B01MT0QDPO', 'B00NL17FE4', 'B01NBM9OJN', 'B0...   Nature Valley   \n1  ['B0763SHX4W', 'B0040FIHS8', 'B00FYR5HS4', 'B0...  Gourmet Basics   \n\n                                 rank also_view main_cat  price        asin  \\\n0  16,921 in Grocery & Gourmet Food (       NaN  Grocery  18.04  B001E6GFR6   \n1  53,167 in Grocery & Gourmet Food (       NaN  Grocery  23.99  B003AZ2ECY   \n\n   overall  verified      reviewerID  vote style  for_testing  \n0      5.0      True  A2IUE299OONA73   NaN   NaN         True  \n1      4.0      True  A38NO7J1TK4R1W   NaN   NaN         True  ",
      "text/html": "<div>\n<style scoped>\n    .dataframe tbody tr th:only-of-type {\n        vertical-align: middle;\n    }\n\n    .dataframe tbody tr th {\n        vertical-align: top;\n    }\n\n    .dataframe thead th {\n        text-align: right;\n    }\n</style>\n<table border=\"1\" class=\"dataframe\">\n  <thead>\n    <tr style=\"text-align: right;\">\n      <th></th>\n      <th>category</th>\n      <th>title</th>\n      <th>also_buy</th>\n      <th>brand</th>\n      <th>rank</th>\n      <th>also_view</th>\n      <th>main_cat</th>\n      <th>price</th>\n      <th>asin</th>\n      <th>overall</th>\n      <th>verified</th>\n      <th>reviewerID</th>\n      <th>vote</th>\n      <th>style</th>\n      <th>for_testing</th>\n    </tr>\n  </thead>\n  <tbody>\n    <tr>\n      <th>0</th>\n      <td>['Grocery &amp; Gourmet Food', 'Snack Foods', 'Bar...</td>\n      <td>Grocery &amp;amp; Gourmet Food\" /&gt;</td>\n      <td>['B01MT0QDPO', 'B00NL17FE4', 'B01NBM9OJN', 'B0...</td>\n      <td>Nature Valley</td>\n      <td>16,921 in Grocery &amp; Gourmet Food (</td>\n      <td>NaN</td>\n      <td>Grocery</td>\n      <td>18.04</td>\n      <td>B001E6GFR6</td>\n      <td>5.0</td>\n      <td>True</td>\n      <td>A2IUE299OONA73</td>\n      <td>NaN</td>\n      <td>NaN</td>\n      <td>True</td>\n    </tr>\n    <tr>\n      <th>1</th>\n      <td>['Grocery &amp; Gourmet Food', 'Snack Foods', 'Chi...</td>\n      <td>Gourmet Basics Smart Fries 4-Flavor Variety Pa...</td>\n      <td>['B0763SHX4W', 'B0040FIHS8', 'B00FYR5HS4', 'B0...</td>\n      <td>Gourmet Basics</td>\n      <td>53,167 in Grocery &amp; Gourmet Food (</td>\n      <td>NaN</td>\n      <td>Grocery</td>\n      <td>23.99</td>\n      <td>B003AZ2ECY</td>\n      <td>4.0</td>\n      <td>True</td>\n      <td>A38NO7J1TK4R1W</td>\n      <td>NaN</td>\n      <td>NaN</td>\n      <td>True</td>\n    </tr>\n  </tbody>\n</table>\n</div>"
     },
     "execution_count": 4,
     "metadata": {},
     "output_type": "execute_result"
    }
   ],
   "source": [
    "df_test.head(2)"
   ],
   "metadata": {
    "collapsed": false,
    "pycharm": {
     "name": "#%%\n"
    }
   }
  },
  {
   "cell_type": "markdown",
   "source": [
    "### Evaluate"
   ],
   "metadata": {
    "collapsed": false
   }
  },
  {
   "cell_type": "code",
   "execution_count": 5,
   "outputs": [],
   "source": [
    "def compute_rmse(y_pred, y_true):\n",
    "    \"\"\" Compute Root Mean Squared Error. \"\"\"\n",
    "    \n",
    "    return np.sqrt(np.mean(np.power(y_pred - y_true, 2)))\n",
    "\n",
    "def evaluate_train(estimate_f):\n",
    "    \"\"\" RMSE-based predictive performance evaluation with pandas. \"\"\"\n",
    "    \n",
    "    ids_to_estimate = zip(df_train.reviewerID, df_train.asin)\n",
    "    estimated = np.array([estimate_f(u,i) for (u,i) in ids_to_estimate])\n",
    "    real = df_train.overall.values\n",
    "    return compute_rmse(estimated, real)"
   ],
   "metadata": {
    "collapsed": false,
    "pycharm": {
     "name": "#%%\n"
    }
   }
  },
  {
   "cell_type": "markdown",
   "source": [
    "## Similarity functions"
   ],
   "metadata": {
    "collapsed": false,
    "pycharm": {
     "name": "#%% md\n"
    }
   }
  },
  {
   "cell_type": "code",
   "execution_count": 6,
   "outputs": [],
   "source": [
    "def euclidean(s1, s2):\n",
    "    \"\"\"Take two pd.Series objects and return their euclidean 'similarity'.\"\"\"\n",
    "    diff = s1 - s2\n",
    "    return 1 / (1 + np.sqrt(np.sum(diff ** 2)))\n",
    "\n",
    "def cosine(s1, s2):\n",
    "    \"\"\"Take two pd.Series objects and return their cosine similarity.\"\"\"\n",
    "    return np.sum(s1 * s2) / np.sqrt(np.sum(s1 ** 2) * np.sum(s2 ** 2))\n",
    "\n",
    "def pearson(s1, s2):\n",
    "    \"\"\"Take two pd.Series objects and return a pearson correlation.\"\"\"\n",
    "    s1_c = s1 - s1.mean()\n",
    "    s2_c = s2 - s2.mean()\n",
    "    return np.sum(s1_c * s2_c) / np.sqrt(np.sum(logsumexp(s1_c ** 2)) * np.sum(logsumexp(s2_c ** 2)))\n",
    "\n",
    "def jaccard(s1, s2):\n",
    "    dotp = np.sum(s1 * s2)\n",
    "    return dotp / (np.sum(s1 ** 2) + np.sum(s2 ** 2) - dotp)"
   ],
   "metadata": {
    "collapsed": false,
    "pycharm": {
     "name": "#%%\n"
    }
   }
  },
  {
   "cell_type": "code",
   "execution_count": 7,
   "outputs": [],
   "source": [
    "class Recommender(object):\n",
    "    def __init__(self, similarity=pearson):\n",
    "        self.overall_mean = df_train['overall'].mean()\n",
    "        self.all_user_profiles = df_train.pivot_table('overall', index='asin', columns='reviewerID')\n",
    "        self._similarity = similarity\n",
    "        \n",
    "    @property\n",
    "    def similarity(self):\n",
    "        return self._similarity\n",
    "    \n",
    "    @similarity.setter\n",
    "    def similarity(self, value):\n",
    "        self._similarity = value\n",
    "    \n",
    "    def estimate_product(self, user_id, product_id):\n",
    "        all_ratings = df_train.loc[df_train.asin == product_id]\n",
    "        if all_ratings.empty:\n",
    "            return self.overall_mean\n",
    "        all_ratings.set_index('reviewerID', inplace=True)\n",
    "        their_ids = all_ratings.index\n",
    "        their_ratings = all_ratings.overall\n",
    "        their_profiles = self.all_user_profiles[their_ids]\n",
    "        try:\n",
    "            user_profile = self.all_user_profiles[user_id]\n",
    "        except KeyError:\n",
    "            return 4.0 * 0.5 + self.overall_mean * 0.5\n",
    "        sims = their_profiles.apply(lambda profile: self.similarity(profile, user_profile), axis=0)\n",
    "        ratings_sims = pd.DataFrame({'sim': sims, 'overall': their_ratings})\n",
    "        ratings_sims = ratings_sims[ratings_sims.sim > 0]\n",
    "        if ratings_sims.empty:\n",
    "            return their_ratings.mean()\n",
    "        else:\n",
    "            return np.average(ratings_sims.overall, weights=ratings_sims.sim)\n",
    "\n",
    "    def estimate_user(self, user_id):\n",
    "        similar = df_train.loc[df_train.reviewerID == user_id]\n",
    "        \n",
    "        if similar.empty:\n",
    "            return self.overall_mean\n",
    "        else:\n",
    "            return similar['overall'].mean()\n",
    "\n",
    "    def estimate(self, user_id, product_id):\n",
    "        return 0.9 * self.estimate_user(user_id) + 0.1 * self.estimate_product(user_id, product_id)\n",
    "    \n",
    "    def estimate_top_products(self, user_id, product_id):\n",
    "        all_ratings = df_train.loc[df_train.asin == product_id]\n",
    "        if all_ratings.empty:\n",
    "            return self.overall_mean\n",
    "        all_ratings.set_index('reviewerID', inplace=True)\n",
    "        their_ids = all_ratings.index\n",
    "        their_ratings = all_ratings.overall\n",
    "        their_profiles = self.all_user_profiles[their_ids]\n",
    "        try:\n",
    "            user_profile = self.all_user_profiles[user_id]\n",
    "        except KeyError:\n",
    "            return self.overall_mean\n",
    "        sims = their_profiles.apply(lambda profile: self.similarity(profile, user_profile), axis=0)\n",
    "        ratings_sims = pd.DataFrame({'sim': sims, 'overall': their_ratings})\n",
    "        ratings_sims = ratings_sims[ratings_sims.sim > 0]\n",
    "        if ratings_sims.empty:\n",
    "            return their_ratings.mean()\n",
    "        else:\n",
    "            return np.average(ratings_sims.overall, weights=ratings_sims.sim)\n",
    "\n",
    "    def estimate_top_users(self, user_id):\n",
    "        similar = df_train.loc[df_train.reviewerID == user_id]\n",
    "        \n",
    "        if similar.empty:\n",
    "            return self.overall_mean\n",
    "        else:\n",
    "            return similar['overall'].mean()\n",
    "\n",
    "    def estimate_top_x(self, user_id, product_id):\n",
    "        return 0.5 * self.estimate_top_users(user_id) + 0.5 * self.estimate_top_products(user_id, product_id)"
   ],
   "metadata": {
    "collapsed": false,
    "pycharm": {
     "name": "#%%\n"
    }
   }
  },
  {
   "cell_type": "code",
   "execution_count": 8,
   "outputs": [
    {
     "name": "stdout",
     "output_type": "stream",
     "text": [
      "RMSE using euclidean: 0.2027.\n",
      "RMSE using cosine: 0.2076.\n",
      "RMSE using pearson: 0.2100.\n",
      "RMSE using jaccard: 0.2036.\n"
     ]
    }
   ],
   "source": [
    "functions = [euclidean, cosine, pearson, jaccard]\n",
    "for estimate in functions:\n",
    "    rec = Recommender(estimate)\n",
    "    print(f'RMSE using {estimate.__name__}: {evaluate_train(rec.estimate):.4f}.')"
   ],
   "metadata": {
    "collapsed": false,
    "pycharm": {
     "name": "#%%\n"
    }
   }
  },
  {
   "cell_type": "markdown",
   "source": [
    "## Evaluate and predict on test data\n",
    "\n",
    "Only using the most accurate similarity function, euclidean, found earlier."
   ],
   "metadata": {
    "collapsed": false,
    "pycharm": {
     "name": "#%% md\n"
    }
   }
  },
  {
   "cell_type": "code",
   "execution_count": 9,
   "outputs": [],
   "source": [
    "def evaluate_test(estimate_f):\n",
    "    \"\"\" RMSE-based predictive performance evaluation with pandas. \"\"\"\n",
    "\n",
    "    ids_to_estimate = zip(df_test.reviewerID, df_test.asin)\n",
    "    estimated = np.array([estimate_f(u,i) for (u,i) in ids_to_estimate])\n",
    "    real = df_test.overall.values\n",
    "    return compute_rmse(estimated, real)"
   ],
   "metadata": {
    "collapsed": false,
    "pycharm": {
     "name": "#%%\n"
    }
   }
  },
  {
   "cell_type": "code",
   "execution_count": 10,
   "outputs": [
    {
     "name": "stdout",
     "output_type": "stream",
     "text": [
      "RMSE for Euclidean: 1.1413154367862572\n"
     ]
    }
   ],
   "source": [
    "reco = Recommender(euclidean)\n",
    "print('RMSE for Euclidean: %s' % evaluate_test(reco.estimate))"
   ],
   "metadata": {
    "collapsed": false,
    "pycharm": {
     "name": "#%%\n"
    }
   }
  },
  {
   "cell_type": "markdown",
   "source": [
    "The recommendation for the test data is much less accurate than the estimates on the training data.\n",
    "However, this is the best results so far and is better than the initial baseline found in v0."
   ],
   "metadata": {
    "collapsed": false,
    "pycharm": {
     "name": "#%% md\n"
    }
   }
  },
  {
   "cell_type": "markdown",
   "source": [
    "## Other Performance Evaluation Systems"
   ],
   "metadata": {
    "collapsed": false,
    "pycharm": {
     "name": "#%% md\n"
    }
   }
  },
  {
   "cell_type": "code",
   "execution_count": 11,
   "outputs": [],
   "source": [
    "rec = Recommender(euclidean)\n",
    "ids_to_estimate = zip(df_test.reviewerID, df_test.asin)\n",
    "y_pred = np.array([rec.estimate(u,i) for (u,i) in ids_to_estimate])\n",
    "y_test = df_test.overall.values"
   ],
   "metadata": {
    "collapsed": false,
    "pycharm": {
     "name": "#%%\n"
    }
   }
  },
  {
   "cell_type": "code",
   "execution_count": 12,
   "outputs": [],
   "source": [
    "# Make both np arrays int for comparison\n",
    "y_pred = np.rint(y_pred)"
   ],
   "metadata": {
    "collapsed": false,
    "pycharm": {
     "name": "#%%\n"
    }
   }
  },
  {
   "cell_type": "markdown",
   "source": [
    "### Confusion Matrix"
   ],
   "metadata": {
    "collapsed": false,
    "pycharm": {
     "name": "#%% md\n"
    }
   }
  },
  {
   "cell_type": "code",
   "execution_count": 13,
   "outputs": [
    {
     "data": {
      "text/plain": "<AxesSubplot:>"
     },
     "execution_count": 13,
     "metadata": {},
     "output_type": "execute_result"
    },
    {
     "data": {
      "text/plain": "<Figure size 432x288 with 2 Axes>",
      "image/png": "[encoded data removed]"
     },
     "metadata": {
      "needs_background": "light"
     },
     "output_type": "display_data"
    }
   ],
   "source": [
    "cm = confusion_matrix(y_test, y_pred)\n",
    "sns.heatmap(cm, annot=True, fmt='d', xticklabels=[1,2,3,4,5], yticklabels=[1,2,3,4,5])"
   ],
   "metadata": {
    "collapsed": false,
    "pycharm": {
     "name": "#%%\n"
    }
   }
  },
  {
   "cell_type": "markdown",
   "source": [
    "### Accuracy, Precision, Recall, and F1-Score"
   ],
   "metadata": {
    "collapsed": false
   }
  },
  {
   "cell_type": "code",
   "execution_count": 14,
   "outputs": [
    {
     "name": "stdout",
     "output_type": "stream",
     "text": [
      "Accuracy score: 0.1765\n",
      "Classification report:\n",
      "              precision    recall  f1-score   support\n",
      "\n",
      "         1.0       0.00      0.00      0.00       103\n",
      "         2.0       1.00      0.01      0.03        75\n",
      "         3.0       0.40      0.01      0.02       160\n",
      "         4.0       0.13      0.95      0.23       258\n",
      "         5.0       0.75      0.08      0.14      1404\n",
      "\n",
      "    accuracy                           0.18      2000\n",
      "   macro avg       0.46      0.21      0.08      2000\n",
      "weighted avg       0.61      0.18      0.13      2000\n",
      "\n"
     ]
    }
   ],
   "source": [
    "print(f\"Accuracy score: {accuracy_score(y_test, y_pred)}\")\n",
    "print('Classification report:')\n",
    "print(classification_report(y_test, y_pred))"
   ],
   "metadata": {
    "collapsed": false,
    "pycharm": {
     "name": "#%%\n"
    }
   }
  },
  {
   "cell_type": "markdown",
   "source": [
    "These evaluation metrics are all significantly lower than desired."
   ],
   "metadata": {
    "collapsed": false
   }
  },
  {
   "cell_type": "markdown",
   "source": [
    "#### Precision-Recall curve in multi-label settings <sup>2</sup>\n",
    "\n",
    "##### The average precision score in multi-label settings"
   ],
   "metadata": {
    "collapsed": false,
    "pycharm": {
     "name": "#%% md\n"
    }
   }
  },
  {
   "cell_type": "code",
   "execution_count": 15,
   "outputs": [],
   "source": [
    "# Allow multi-classification comparisons for the test and prediction scores.\n",
    "y_test_bi = label_binarize(y_test, classes=[1,2,3,4,5])\n",
    "y_pred_bi = label_binarize(y_pred, classes=[1,2,3,4,5])\n",
    "n_classes = 5"
   ],
   "metadata": {
    "collapsed": false,
    "pycharm": {
     "name": "#%%\n"
    }
   }
  },
  {
   "cell_type": "code",
   "execution_count": 16,
   "outputs": [
    {
     "name": "stdout",
     "output_type": "stream",
     "text": [
      "Average precision score, micro-averaged over all classes: 0.20\n"
     ]
    }
   ],
   "source": [
    "# For each class\n",
    "precision = dict()\n",
    "recall = dict()\n",
    "average_precision = dict()\n",
    "for i in range(n_classes):\n",
    "    precision[i], recall[i], _ = precision_recall_curve(y_test_bi[:, i],\n",
    "                                                        y_pred_bi[:, i])\n",
    "    average_precision[i] = average_precision_score(y_test_bi[:, i], y_pred_bi[:, i])\n",
    "\n",
    "# A \"micro-average\": quantifying score on all classes jointly\n",
    "precision[\"micro\"], recall[\"micro\"], _ = precision_recall_curve(y_test_bi.ravel(), y_pred_bi.ravel())\n",
    "average_precision[\"micro\"] = average_precision_score(y_test_bi, y_pred_bi,\n",
    "                                                     average=\"micro\")\n",
    "print('Average precision score, micro-averaged over all classes: {0:0.2f}'.format(average_precision[\"micro\"]))"
   ],
   "metadata": {
    "collapsed": false,
    "pycharm": {
     "name": "#%%\n"
    }
   }
  },
  {
   "cell_type": "markdown",
   "source": [
    "#### Plot the micro-averaged Precision-Recall curve"
   ],
   "metadata": {
    "collapsed": false,
    "pycharm": {
     "name": "#%% md\n"
    }
   }
  },
  {
   "cell_type": "code",
   "execution_count": 17,
   "outputs": [
    {
     "data": {
      "text/plain": "Text(0.5, 1.0, 'Average precision score, micro-averaged over all classes: AP=0.20')"
     },
     "execution_count": 17,
     "metadata": {},
     "output_type": "execute_result"
    },
    {
     "data": {
      "text/plain": "<Figure size 432x288 with 1 Axes>",
      "image/png": "[encoded data removed]"
     },
     "metadata": {
      "needs_background": "light"
     },
     "output_type": "display_data"
    }
   ],
   "source": [
    "plt.figure()\n",
    "plt.step(recall['micro'], precision['micro'], where='post')\n",
    "\n",
    "plt.xlabel('Recall')\n",
    "plt.ylabel('Precision')\n",
    "plt.ylim([0.0, 1.05])\n",
    "plt.xlim([0.0, 1.0])\n",
    "plt.title('Average precision score, micro-averaged over all classes: AP={0:0.2f}'\n",
    "    .format(average_precision[\"micro\"]))"
   ],
   "metadata": {
    "collapsed": false,
    "pycharm": {
     "name": "#%%\n"
    }
   }
  },
  {
   "cell_type": "markdown",
   "source": [
    "#### Plot Precision-Recall curve for each class and iso-f1 curves"
   ],
   "metadata": {
    "collapsed": false,
    "pycharm": {
     "name": "#%% md\n"
    }
   }
  },
  {
   "cell_type": "code",
   "execution_count": 18,
   "outputs": [
    {
     "data": {
      "text/plain": "<Figure size 504x576 with 1 Axes>",
      "image/png": "[encoded data removed]"
     },
     "metadata": {
      "needs_background": "light"
     },
     "output_type": "display_data"
    }
   ],
   "source": [
    "colors = cycle(['navy', 'turquoise', 'darkorange', 'cornflowerblue', 'teal'])\n",
    "\n",
    "plt.figure(figsize=(7, 8))\n",
    "f_scores = np.linspace(0.2, 0.8, num=4)\n",
    "lines = []\n",
    "labels = []\n",
    "for f_score in f_scores:\n",
    "    x = np.linspace(0.01, 1)\n",
    "    y = f_score * x / (2 * x - f_score)\n",
    "    l, = plt.plot(x[y >= 0], y[y >= 0], color='gray', alpha=0.2)\n",
    "    plt.annotate('f1={0:0.1f}'.format(f_score), xy=(0.9, y[45] + 0.02))\n",
    "\n",
    "lines.append(l)\n",
    "labels.append('iso-f1 curves')\n",
    "l, = plt.plot(recall[\"micro\"], precision[\"micro\"], color='gold', lw=2)\n",
    "lines.append(l)\n",
    "labels.append('micro-average Precision-recall (area = {0:0.2f})'\n",
    "              ''.format(average_precision[\"micro\"]))\n",
    "\n",
    "for i, color in zip(range(n_classes), colors):\n",
    "    l, = plt.plot(recall[i], precision[i], color=color, lw=2)\n",
    "    lines.append(l)\n",
    "    labels.append('Precision-recall for class {0} (area = {1:0.2f})'\n",
    "                  ''.format(i + 1, average_precision[i]))\n",
    "\n",
    "fig = plt.gcf()\n",
    "fig.subplots_adjust(bottom=0.25)\n",
    "plt.xlim([0.0, 1.0])\n",
    "plt.ylim([0.0, 1.05])\n",
    "plt.xlabel('Recall')\n",
    "plt.ylabel('Precision')\n",
    "plt.title('Extension of Precision-Recall curve to multi-class')\n",
    "plt.legend(lines, labels, loc=(0, -.55), prop=dict(size=14))\n",
    "plt.show()"
   ],
   "metadata": {
    "collapsed": false,
    "pycharm": {
     "name": "#%%\n"
    }
   }
  },
  {
   "cell_type": "markdown",
   "source": [
    "## Top X number of recommendations"
   ],
   "metadata": {
    "collapsed": false,
    "pycharm": {
     "name": "#%% md\n"
    }
   }
  },
  {
   "cell_type": "code",
   "execution_count": 19,
   "outputs": [
    {
     "name": "stdout",
     "output_type": "stream",
     "text": [
      "RMSE using euclidean: 1.1218.\n"
     ]
    }
   ],
   "source": [
    "functions = [euclidean]\n",
    "for similarity in functions:\n",
    "    rec = Recommender(similarity)\n",
    "    print(f'RMSE using {similarity.__name__}: {evaluate_test(rec.estimate_top_x):.4f}.') "
   ],
   "metadata": {
    "collapsed": false,
    "pycharm": {
     "name": "#%%\n"
    }
   }
  },
  {
   "cell_type": "code",
   "execution_count": 20,
   "outputs": [],
   "source": [
    "rec = Recommender(euclidean)\n",
    "ids_to_estimate = zip(df_test.reviewerID, df_test.asin)\n",
    "y_pred = np.array([rec.estimate_top_x(u,i) for (u,i) in ids_to_estimate])\n",
    "y_test = df_test.overall.values\n",
    "# Make both np arrays int for comparison\n",
    "y_pred = np.rint(y_pred)"
   ],
   "metadata": {
    "collapsed": false,
    "pycharm": {
     "name": "#%%\n"
    }
   }
  },
  {
   "cell_type": "code",
   "execution_count": 21,
   "outputs": [],
   "source": [
    "def provide_x_recommendations(list_a, list_b, top_x=10):\n",
    "    \"\"\" Return a random x (10 is default) recommendations that are an exact match.\"\"\"\n",
    "    match = []\n",
    "    y_pred_rec_x = []\n",
    "    y_test_rec_x = []\n",
    "    assert len(list_a) == len(list_b)\n",
    "    for i in range(len(list_a)):\n",
    "        # Only include 5 star recommendations\n",
    "        if list_a[i] > 4:\n",
    "            match.append(i)\n",
    "    recommendations = random.sample(match, top_x)\n",
    "    for i in recommendations:\n",
    "        y_pred_rec_x.append(int(y_pred[i]))\n",
    "        y_test_rec_x.append(int(y_test[i]))\n",
    "    return y_pred_rec_x[:top_x], y_test_rec_x[:top_x]"
   ],
   "metadata": {
    "collapsed": false,
    "pycharm": {
     "name": "#%%\n"
    }
   }
  },
  {
   "cell_type": "code",
   "execution_count": 29,
   "outputs": [],
   "source": [
    "y_pred_sample, y_test_sample = provide_x_recommendations(y_pred, y_test)"
   ],
   "metadata": {
    "collapsed": false,
    "pycharm": {
     "name": "#%%\n"
    }
   }
  },
  {
   "cell_type": "code",
   "execution_count": 30,
   "outputs": [
    {
     "data": {
      "text/plain": "<AxesSubplot:>"
     },
     "execution_count": 30,
     "metadata": {},
     "output_type": "execute_result"
    },
    {
     "data": {
      "text/plain": "<Figure size 432x288 with 2 Axes>",
      "image/png": "[encoded data removed]"
     },
     "metadata": {
      "needs_background": "light"
     },
     "output_type": "display_data"
    }
   ],
   "source": [
    "labels = set(y_test_sample)\n",
    "cm = confusion_matrix(y_test_sample, y_pred_sample)\n",
    "sns.heatmap(cm, annot=True, fmt='d', xticklabels=labels, yticklabels=labels)"
   ],
   "metadata": {
    "collapsed": false,
    "pycharm": {
     "name": "#%%\n"
    }
   }
  },
  {
   "cell_type": "code",
   "execution_count": 31,
   "outputs": [
    {
     "name": "stdout",
     "output_type": "stream",
     "text": [
      "Accuracy score: 0.9\n",
      "Classification report:\n",
      "              precision    recall  f1-score   support\n",
      "\n",
      "           1       0.00      0.00      0.00         1\n",
      "           5       0.90      1.00      0.95         9\n",
      "\n",
      "    accuracy                           0.90        10\n",
      "   macro avg       0.45      0.50      0.47        10\n",
      "weighted avg       0.81      0.90      0.85        10\n",
      "\n"
     ]
    }
   ],
   "source": [
    "print(f\"Accuracy score: {accuracy_score(y_test_sample, y_pred_sample)}\")\n",
    "print('Classification report:')\n",
    "print(classification_report(y_test_sample, y_pred_sample, zero_division=0))"
   ],
   "metadata": {
    "collapsed": false,
    "pycharm": {
     "name": "#%%\n"
    }
   }
  },
  {
   "cell_type": "markdown",
   "source": [
    "## Summary\n",
    "- Evaluated estimated recommendations using several hybrid methods with RMSE.\n",
    "- In all cases, the estimates on the training data were significantly better than all previous notebook versions.\n",
    "- The best performing was euclidean with a RMSE of 0.2027.\n",
    "- The worse performing was pearson with a RMSE of 0.21.\n",
    "- However, the estimates on the testing data were not as good at 1.1413. Despite this, they were still better than all previous versions.\n",
    "- Also added other performance evaluation systems; such as precision, recall, f1-score, and precision-recall curve. \n",
    "- The results for these were not good. The weighted averages were:\n",
    "    - precision: 0.61\n",
    "    - recall: 0.18\n",
    "    - f1-score: 0.13\n",
    "- Several popular recommendation systems return only 10 to 20 results.\n",
    "- Creating a function to return the top x recommendations worked much better.\n",
    "    - This RMSE was the best at 1.1218.\n",
    "    - Limiting it to a sample of recommendations improved the results further.\n",
    "        - Choosing a random sample of 10 by default.\n",
    "        - Only including recommendations that were 5-stars.\n",
    "        - The weighted averages were:\n",
    "            - accuracy: 0.90\n",
    "            - precision: 0.81\n",
    "            - recall: 0.90\n",
    "            - f1-score: 0.85\n",
    "- These results could be improved in future versions by using more data to train on before making predictions. "
   ],
   "metadata": {
    "collapsed": false
   }
  },
  {
   "cell_type": "markdown",
   "source": [
    "## References\n",
    "1) Unata 2015 [Hands-on with PyData: How to Build a Minimal Recommendation Engine](https://www.youtube.com/watch?v=F6gWjOc1FUs).  \n",
    "2) Scikit Learn 0.24.2 2021 [Precision-Recall](https://scikit-learn.org/stable/auto_examples/model_selection/plot_precision_recall.html).  "
   ],
   "metadata": {
    "collapsed": false
   }
  }
 ],
 "metadata": {
  "kernelspec": {
   "name": "pycharm-cef1f773",
   "language": "python",
   "display_name": "PyCharm (pycon2015_tutorial322)"
  },
  "language_info": {
   "codemirror_mode": {
    "name": "ipython",
    "version": 2
   },
   "file_extension": ".py",
   "mimetype": "text/x-python",
   "name": "python",
   "nbconvert_exporter": "python",
   "pygments_lexer": "ipython2",
   "version": "2.7.6"
  }
 },
 "nbformat": 4,
 "nbformat_minor": 0
}