{
 "cells": [
  {
   "cell_type": "markdown",
   "metadata": {
    "collapsed": true,
    "pycharm": {
     "name": "#%% md\n"
    }
   },
   "source": [
    "# Recommendations Using Hybrid solutions <sup>1</sup>"
   ]
  },
  {
   "cell_type": "markdown",
   "source": [
    "Lots of examples of systems that try to combine the strengths of the two main approaches.\n",
    "This can be done in a number of ways:\n",
    "\n",
    "- Combine the predictions of a content-based system and a collaborative system.\n",
    "- Incorporate content-based techniques into a collaborative approach.\n",
    "- Incorporate collaborative techniques into a content-based approach.\n",
    "- Unifying model."
   ],
   "metadata": {
    "collapsed": false
   }
  },
  {
   "cell_type": "markdown",
   "source": [
    "Possible"
   ],
   "metadata": {
    "collapsed": false,
    "pycharm": {
     "name": "#%% md\n"
    }
   }
  },
  {
   "cell_type": "markdown",
   "source": [
    "## Imports"
   ],
   "metadata": {
    "collapsed": false
   }
  },
  {
   "cell_type": "code",
   "execution_count": 1,
   "outputs": [],
   "source": [
    "import numpy as np\n",
    "import pandas as pd"
   ],
   "metadata": {
    "collapsed": false,
    "pycharm": {
     "name": "#%%\n"
    }
   }
  },
  {
   "cell_type": "markdown",
   "source": [
    "## Load Data\n",
    "\n",
    "Only loading a subset of the original data set for proof of concept reasons."
   ],
   "metadata": {
    "collapsed": false
   }
  },
  {
   "cell_type": "code",
   "execution_count": 2,
   "outputs": [],
   "source": [
    "# 80/20 split earlier\n",
    "df_train = pd.read_csv('../Data/training_data_subset.csv')\n",
    "df_test = pd.read_csv('../Data/testing_data_subset.csv')"
   ],
   "metadata": {
    "collapsed": false,
    "pycharm": {
     "name": "#%%\n"
    }
   }
  },
  {
   "cell_type": "code",
   "execution_count": 3,
   "outputs": [],
   "source": [
    "# Also, load the entire original dataset to make a user index.\n",
    "# Note: If using the full train/test dataset several of the methods below can takes 2-6 hours to run.\n",
    "df_original = pd.read_csv('../Data/eda_data.csv')"
   ],
   "metadata": {
    "collapsed": false,
    "pycharm": {
     "name": "#%%\n"
    }
   }
  },
  {
   "cell_type": "code",
   "execution_count": 4,
   "outputs": [
    {
     "name": "stdout",
     "output_type": "stream",
     "text": [
      "<class 'pandas.core.frame.DataFrame'>\n",
      "RangeIndex: 1083170 entries, 0 to 1083169\n",
      "Data columns (total 14 columns):\n",
      " #   Column      Non-Null Count    Dtype  \n",
      "---  ------      --------------    -----  \n",
      " 0   category    1083170 non-null  object \n",
      " 1   title       1083170 non-null  object \n",
      " 2   also_buy    926546 non-null   object \n",
      " 3   brand       1075197 non-null  object \n",
      " 4   rank        1039163 non-null  object \n",
      " 5   also_view   577060 non-null   object \n",
      " 6   main_cat    1081896 non-null  object \n",
      " 7   price       750231 non-null   float64\n",
      " 8   asin        1083170 non-null  object \n",
      " 9   overall     1083170 non-null  float64\n",
      " 10  verified    1083170 non-null  bool   \n",
      " 11  reviewerID  1083170 non-null  object \n",
      " 12  vote        149247 non-null   float64\n",
      " 13  style       559212 non-null   object \n",
      "dtypes: bool(1), float64(3), object(10)\n",
      "memory usage: 108.5+ MB\n"
     ]
    }
   ],
   "source": [
    "df_original.info()"
   ],
   "metadata": {
    "collapsed": false,
    "pycharm": {
     "name": "#%%\n"
    }
   }
  },
  {
   "cell_type": "code",
   "execution_count": 5,
   "outputs": [],
   "source": [
    "import logging\n",
    "logging.basicConfig(filename='../Logging/troubleshoot_index.log', filemode='w+', level=logging.DEBUG)"
   ],
   "metadata": {
    "collapsed": false,
    "pycharm": {
     "name": "#%%\n"
    }
   }
  },
  {
   "cell_type": "markdown",
   "source": [
    "### Create a user index\n",
    "To retrieve information given a specific user_id in a more convenient way."
   ],
   "metadata": {
    "collapsed": false
   }
  },
  {
   "cell_type": "code",
   "execution_count": 6,
   "outputs": [
    {
     "data": {
      "text/plain": "                                                     title  \\\nreviewerID                                                   \nA1J205ZK25TZ6W  Lipton Yellow Label Tea (loose tea) - 450g   \nACOICLIJQYECU   Lipton Yellow Label Tea (loose tea) - 450g   \n\n                                                         also_buy  \\\nreviewerID                                                          \nA1J205ZK25TZ6W  ['B00886E4K0', 'B00CREXSHY', 'B001QTRGAQ', 'B0...   \nACOICLIJQYECU   ['B00886E4K0', 'B00CREXSHY', 'B001QTRGAQ', 'B0...   \n\n                                                        also_view  price  \\\nreviewerID                                                                 \nA1J205ZK25TZ6W  ['B00CREXSHY', 'B001QTRGAQ', 'B000JSQK70', 'B0...  12.46   \nACOICLIJQYECU   ['B00CREXSHY', 'B001QTRGAQ', 'B000JSQK70', 'B0...  12.46   \n\n                                              rank        asin  vote  \nreviewerID                                                            \nA1J205ZK25TZ6W  30,937 in Grocery & Gourmet Food (  4639725043   8.0  \nACOICLIJQYECU   30,937 in Grocery & Gourmet Food (  4639725043   9.0  ",
      "text/html": "<div>\n<style scoped>\n    .dataframe tbody tr th:only-of-type {\n        vertical-align: middle;\n    }\n\n    .dataframe tbody tr th {\n        vertical-align: top;\n    }\n\n    .dataframe thead th {\n        text-align: right;\n    }\n</style>\n<table border=\"1\" class=\"dataframe\">\n  <thead>\n    <tr style=\"text-align: right;\">\n      <th></th>\n      <th>title</th>\n      <th>also_buy</th>\n      <th>also_view</th>\n      <th>price</th>\n      <th>rank</th>\n      <th>asin</th>\n      <th>vote</th>\n    </tr>\n    <tr>\n      <th>reviewerID</th>\n      <th></th>\n      <th></th>\n      <th></th>\n      <th></th>\n      <th></th>\n      <th></th>\n      <th></th>\n    </tr>\n  </thead>\n  <tbody>\n    <tr>\n      <th>A1J205ZK25TZ6W</th>\n      <td>Lipton Yellow Label Tea (loose tea) - 450g</td>\n      <td>['B00886E4K0', 'B00CREXSHY', 'B001QTRGAQ', 'B0...</td>\n      <td>['B00CREXSHY', 'B001QTRGAQ', 'B000JSQK70', 'B0...</td>\n      <td>12.46</td>\n      <td>30,937 in Grocery &amp; Gourmet Food (</td>\n      <td>4639725043</td>\n      <td>8.0</td>\n    </tr>\n    <tr>\n      <th>ACOICLIJQYECU</th>\n      <td>Lipton Yellow Label Tea (loose tea) - 450g</td>\n      <td>['B00886E4K0', 'B00CREXSHY', 'B001QTRGAQ', 'B0...</td>\n      <td>['B00CREXSHY', 'B001QTRGAQ', 'B000JSQK70', 'B0...</td>\n      <td>12.46</td>\n      <td>30,937 in Grocery &amp; Gourmet Food (</td>\n      <td>4639725043</td>\n      <td>9.0</td>\n    </tr>\n  </tbody>\n</table>\n</div>"
     },
     "execution_count": 6,
     "metadata": {},
     "output_type": "execute_result"
    }
   ],
   "source": [
    "# The key features and ids from earlier analysis.\n",
    "# Note that additional features could be included if desired; except for the target feature: 'overall'.\n",
    "user_info = df_original[['title', 'also_buy', 'also_view', 'price', 'rank', 'asin', 'reviewerID', 'vote']]\n",
    "user_info.set_index('reviewerID', inplace=True)\n",
    "user_info.head(2)"
   ],
   "metadata": {
    "collapsed": false,
    "pycharm": {
     "name": "#%%\n"
    }
   }
  },
  {
   "cell_type": "code",
   "execution_count": 7,
   "outputs": [],
   "source": [
    "def compute_rmse(y_pred, y_true):\n",
    "    \"\"\" Compute Root Mean Squared Error. \"\"\"\n",
    "    \n",
    "    return np.sqrt(np.mean(np.power(y_pred - y_true, 2)))"
   ],
   "metadata": {
    "collapsed": false,
    "pycharm": {
     "name": "#%%\n"
    }
   }
  },
  {
   "cell_type": "code",
   "execution_count": 8,
   "outputs": [],
   "source": [
    "def evaluate(estimate_f):\n",
    "    \"\"\" RMSE-based predictive performance evaluation with pandas. \"\"\"\n",
    "    \n",
    "    ids_to_estimate = zip(df_test.reviewerID, df_test.asin)\n",
    "    estimated = np.array([estimate_f(u,i) for (u,i) in ids_to_estimate])\n",
    "    real = df_test.overall.values\n",
    "    return compute_rmse(estimated, real)"
   ],
   "metadata": {
    "collapsed": false,
    "pycharm": {
     "name": "#%%\n"
    }
   }
  },
  {
   "cell_type": "code",
   "execution_count": 9,
   "outputs": [],
   "source": [
    "class CollaborativeRecommendation:\n",
    "    \"\"\" Collaborative filtering using an implicit sim(u,u'). \"\"\"\n",
    "\n",
    "    def __init__(self, feature):\n",
    "        \"\"\" Prepare data structures for estimation. \"\"\"\n",
    "        self._feature = feature\n",
    "        self.means_by_feature = df_train.pivot_table('overall', index='asin', columns=self.feature)\n",
    "\n",
    "    @property\n",
    "    def feature(self):\n",
    "        return self._feature\n",
    "        \n",
    "    def estimate(self, reviewer_id, product_id):\n",
    "        \"\"\" Mean ratings by other users of the same feature. \"\"\"\n",
    "        \n",
    "        if product_id not in self.means_by_feature.index: \n",
    "            return 4.0\n",
    "        \n",
    "        user_feature = user_info.loc[reviewer_id, self.feature]\n",
    "        if ~np.isnan(self.means_by_feature.loc[product_id, user_feature]):\n",
    "            return self.means_by_feature.loc[product_id, user_feature]\n",
    "        else:\n",
    "            return self.means_by_feature.loc[product_id].mean()\n",
    "        "
   ],
   "metadata": {
    "collapsed": false,
    "pycharm": {
     "name": "#%%\n"
    }
   }
  },
  {
   "cell_type": "code",
   "execution_count": 10,
   "outputs": [
    {
     "ename": "KeyError",
     "evalue": "\"Passing list-likes to .loc or [] with any missing labels is no longer supported. The following labels were missing: Index([                                                                                                                                                                                                                                                                                                                                                                                                                                                                                                                                                                                                                                                                                                                                         nan,\\n                                                                                                                                                                                                                                                                                                                                                                                                                                                                                                                                                                                                                                                                                                                                                nan,\\n       '['B015GBCSWK', 'B01M4P5L9A', 'B01KXRZPPE', 'B07BL69CD2', 'B079YZGVQ5', 'B06W2K24CZ', 'B07BB1VV9K', '1508421064', 'B071SH212S', 'B06ZYSLT5D', 'B01M2A5BL2', 'B01LVZ7N8G', 'B00LB6L87G', 'B074BDFXLS', 'B00K7A2VRS', 'B06Y5K54F9', 'B079NPB2X8', 'B075LFVQGR', 'B0176Q6RE8', 'B000MGR302', 'B00XB2YFBE', 'B00XQ2XGAA', 'B00K6JUG4K', 'B005KG7EDU', 'B0774P2MWS', 'B01LXADO9Z', 'B01A1G47L0', 'B07FMH447D', 'B01N4I84PY', 'B071VGJTBH', 'B071S8D69C', 'B07FKRMT81', 'B074VH9C6J', 'B07C7S9Q4F', 'B0127MNEX8', 'B07CKB9291', 'B0761S4B22', 'B01M3Q4086', 'B077SWQFXR', 'B07CGWQ5YG', 'B0778JQSJ5', 'B00NLQXXDQ', 'B00KSMVZJ0', 'B01I2HUUS4', 'B077LHTLZD', 'B0176QKIJI', 'B0759X2RLL', 'B0019LRY8A', 'B00NLR1PX0', 'B01LDNBAC4', 'B00J074W7Q']'],\\n      dtype='object', name='also_view'). See https://pandas.pydata.org/pandas-docs/stable/user_guide/indexing.html#deprecate-loc-reindex-listlike\"",
     "output_type": "error",
     "traceback": [
      "\u001B[1;31m---------------------------------------------------------------------------\u001B[0m",
      "\u001B[1;31mKeyError\u001B[0m                                  Traceback (most recent call last)",
      "\u001B[1;32m<ipython-input-10-fdfc7a012825>\u001B[0m in \u001B[0;36m<module>\u001B[1;34m\u001B[0m\n\u001B[0;32m      1\u001B[0m \u001B[0mgender\u001B[0m \u001B[1;33m=\u001B[0m \u001B[0mCollaborativeRecommendation\u001B[0m\u001B[1;33m(\u001B[0m\u001B[1;34m'also_view'\u001B[0m\u001B[1;33m)\u001B[0m\u001B[1;33m\u001B[0m\u001B[1;33m\u001B[0m\u001B[0m\n\u001B[1;32m----> 2\u001B[1;33m \u001B[0mprint\u001B[0m\u001B[1;33m(\u001B[0m\u001B[1;34m'RMSE for Gender: %s'\u001B[0m \u001B[1;33m%\u001B[0m \u001B[0mevaluate\u001B[0m\u001B[1;33m(\u001B[0m\u001B[0mgender\u001B[0m\u001B[1;33m.\u001B[0m\u001B[0mestimate\u001B[0m\u001B[1;33m)\u001B[0m\u001B[1;33m)\u001B[0m\u001B[1;33m\u001B[0m\u001B[1;33m\u001B[0m\u001B[0m\n\u001B[0m",
      "\u001B[1;32m<ipython-input-8-4e0a0dc82fd9>\u001B[0m in \u001B[0;36mevaluate\u001B[1;34m(estimate_f)\u001B[0m\n\u001B[0;32m      3\u001B[0m \u001B[1;33m\u001B[0m\u001B[0m\n\u001B[0;32m      4\u001B[0m     \u001B[0mids_to_estimate\u001B[0m \u001B[1;33m=\u001B[0m \u001B[0mzip\u001B[0m\u001B[1;33m(\u001B[0m\u001B[0mdf_test\u001B[0m\u001B[1;33m.\u001B[0m\u001B[0mreviewerID\u001B[0m\u001B[1;33m,\u001B[0m \u001B[0mdf_test\u001B[0m\u001B[1;33m.\u001B[0m\u001B[0masin\u001B[0m\u001B[1;33m)\u001B[0m\u001B[1;33m\u001B[0m\u001B[1;33m\u001B[0m\u001B[0m\n\u001B[1;32m----> 5\u001B[1;33m     \u001B[0mestimated\u001B[0m \u001B[1;33m=\u001B[0m \u001B[0mnp\u001B[0m\u001B[1;33m.\u001B[0m\u001B[0marray\u001B[0m\u001B[1;33m(\u001B[0m\u001B[1;33m[\u001B[0m\u001B[0mestimate_f\u001B[0m\u001B[1;33m(\u001B[0m\u001B[0mu\u001B[0m\u001B[1;33m,\u001B[0m\u001B[0mi\u001B[0m\u001B[1;33m)\u001B[0m \u001B[1;32mfor\u001B[0m \u001B[1;33m(\u001B[0m\u001B[0mu\u001B[0m\u001B[1;33m,\u001B[0m\u001B[0mi\u001B[0m\u001B[1;33m)\u001B[0m \u001B[1;32min\u001B[0m \u001B[0mids_to_estimate\u001B[0m\u001B[1;33m]\u001B[0m\u001B[1;33m)\u001B[0m\u001B[1;33m\u001B[0m\u001B[1;33m\u001B[0m\u001B[0m\n\u001B[0m\u001B[0;32m      6\u001B[0m     \u001B[0mreal\u001B[0m \u001B[1;33m=\u001B[0m \u001B[0mdf_test\u001B[0m\u001B[1;33m.\u001B[0m\u001B[0moverall\u001B[0m\u001B[1;33m.\u001B[0m\u001B[0mvalues\u001B[0m\u001B[1;33m\u001B[0m\u001B[1;33m\u001B[0m\u001B[0m\n\u001B[0;32m      7\u001B[0m     \u001B[1;32mreturn\u001B[0m \u001B[0mcompute_rmse\u001B[0m\u001B[1;33m(\u001B[0m\u001B[0mestimated\u001B[0m\u001B[1;33m,\u001B[0m \u001B[0mreal\u001B[0m\u001B[1;33m)\u001B[0m\u001B[1;33m\u001B[0m\u001B[1;33m\u001B[0m\u001B[0m\n",
      "\u001B[1;32m<ipython-input-8-4e0a0dc82fd9>\u001B[0m in \u001B[0;36m<listcomp>\u001B[1;34m(.0)\u001B[0m\n\u001B[0;32m      3\u001B[0m \u001B[1;33m\u001B[0m\u001B[0m\n\u001B[0;32m      4\u001B[0m     \u001B[0mids_to_estimate\u001B[0m \u001B[1;33m=\u001B[0m \u001B[0mzip\u001B[0m\u001B[1;33m(\u001B[0m\u001B[0mdf_test\u001B[0m\u001B[1;33m.\u001B[0m\u001B[0mreviewerID\u001B[0m\u001B[1;33m,\u001B[0m \u001B[0mdf_test\u001B[0m\u001B[1;33m.\u001B[0m\u001B[0masin\u001B[0m\u001B[1;33m)\u001B[0m\u001B[1;33m\u001B[0m\u001B[1;33m\u001B[0m\u001B[0m\n\u001B[1;32m----> 5\u001B[1;33m     \u001B[0mestimated\u001B[0m \u001B[1;33m=\u001B[0m \u001B[0mnp\u001B[0m\u001B[1;33m.\u001B[0m\u001B[0marray\u001B[0m\u001B[1;33m(\u001B[0m\u001B[1;33m[\u001B[0m\u001B[0mestimate_f\u001B[0m\u001B[1;33m(\u001B[0m\u001B[0mu\u001B[0m\u001B[1;33m,\u001B[0m\u001B[0mi\u001B[0m\u001B[1;33m)\u001B[0m \u001B[1;32mfor\u001B[0m \u001B[1;33m(\u001B[0m\u001B[0mu\u001B[0m\u001B[1;33m,\u001B[0m\u001B[0mi\u001B[0m\u001B[1;33m)\u001B[0m \u001B[1;32min\u001B[0m \u001B[0mids_to_estimate\u001B[0m\u001B[1;33m]\u001B[0m\u001B[1;33m)\u001B[0m\u001B[1;33m\u001B[0m\u001B[1;33m\u001B[0m\u001B[0m\n\u001B[0m\u001B[0;32m      6\u001B[0m     \u001B[0mreal\u001B[0m \u001B[1;33m=\u001B[0m \u001B[0mdf_test\u001B[0m\u001B[1;33m.\u001B[0m\u001B[0moverall\u001B[0m\u001B[1;33m.\u001B[0m\u001B[0mvalues\u001B[0m\u001B[1;33m\u001B[0m\u001B[1;33m\u001B[0m\u001B[0m\n\u001B[0;32m      7\u001B[0m     \u001B[1;32mreturn\u001B[0m \u001B[0mcompute_rmse\u001B[0m\u001B[1;33m(\u001B[0m\u001B[0mestimated\u001B[0m\u001B[1;33m,\u001B[0m \u001B[0mreal\u001B[0m\u001B[1;33m)\u001B[0m\u001B[1;33m\u001B[0m\u001B[1;33m\u001B[0m\u001B[0m\n",
      "\u001B[1;32m<ipython-input-9-f527e6710a3c>\u001B[0m in \u001B[0;36mestimate\u001B[1;34m(self, reviewer_id, product_id)\u001B[0m\n\u001B[0;32m     18\u001B[0m \u001B[1;33m\u001B[0m\u001B[0m\n\u001B[0;32m     19\u001B[0m         \u001B[0muser_feature\u001B[0m \u001B[1;33m=\u001B[0m \u001B[0muser_info\u001B[0m\u001B[1;33m.\u001B[0m\u001B[0mloc\u001B[0m\u001B[1;33m[\u001B[0m\u001B[0mreviewer_id\u001B[0m\u001B[1;33m,\u001B[0m \u001B[0mself\u001B[0m\u001B[1;33m.\u001B[0m\u001B[0mfeature\u001B[0m\u001B[1;33m]\u001B[0m\u001B[1;33m\u001B[0m\u001B[1;33m\u001B[0m\u001B[0m\n\u001B[1;32m---> 20\u001B[1;33m         \u001B[1;32mif\u001B[0m \u001B[1;33m~\u001B[0m\u001B[0mnp\u001B[0m\u001B[1;33m.\u001B[0m\u001B[0misnan\u001B[0m\u001B[1;33m(\u001B[0m\u001B[0mself\u001B[0m\u001B[1;33m.\u001B[0m\u001B[0mmeans_by_feature\u001B[0m\u001B[1;33m.\u001B[0m\u001B[0mloc\u001B[0m\u001B[1;33m[\u001B[0m\u001B[0mproduct_id\u001B[0m\u001B[1;33m,\u001B[0m \u001B[0muser_feature\u001B[0m\u001B[1;33m]\u001B[0m\u001B[1;33m)\u001B[0m\u001B[1;33m:\u001B[0m\u001B[1;33m\u001B[0m\u001B[1;33m\u001B[0m\u001B[0m\n\u001B[0m\u001B[0;32m     21\u001B[0m             \u001B[1;32mreturn\u001B[0m \u001B[0mself\u001B[0m\u001B[1;33m.\u001B[0m\u001B[0mmeans_by_feature\u001B[0m\u001B[1;33m.\u001B[0m\u001B[0mloc\u001B[0m\u001B[1;33m[\u001B[0m\u001B[0mproduct_id\u001B[0m\u001B[1;33m,\u001B[0m \u001B[0muser_feature\u001B[0m\u001B[1;33m]\u001B[0m\u001B[1;33m\u001B[0m\u001B[1;33m\u001B[0m\u001B[0m\n\u001B[0;32m     22\u001B[0m         \u001B[1;32melse\u001B[0m\u001B[1;33m:\u001B[0m\u001B[1;33m\u001B[0m\u001B[1;33m\u001B[0m\u001B[0m\n",
      "\u001B[1;32m~\\anaconda3\\lib\\site-packages\\pandas\\core\\indexing.py\u001B[0m in \u001B[0;36m__getitem__\u001B[1;34m(self, key)\u001B[0m\n\u001B[0;32m    887\u001B[0m                     \u001B[1;31m# AttributeError for IntervalTree get_value\u001B[0m\u001B[1;33m\u001B[0m\u001B[1;33m\u001B[0m\u001B[1;33m\u001B[0m\u001B[0m\n\u001B[0;32m    888\u001B[0m                     \u001B[1;32mreturn\u001B[0m \u001B[0mself\u001B[0m\u001B[1;33m.\u001B[0m\u001B[0mobj\u001B[0m\u001B[1;33m.\u001B[0m\u001B[0m_get_value\u001B[0m\u001B[1;33m(\u001B[0m\u001B[1;33m*\u001B[0m\u001B[0mkey\u001B[0m\u001B[1;33m,\u001B[0m \u001B[0mtakeable\u001B[0m\u001B[1;33m=\u001B[0m\u001B[0mself\u001B[0m\u001B[1;33m.\u001B[0m\u001B[0m_takeable\u001B[0m\u001B[1;33m)\u001B[0m\u001B[1;33m\u001B[0m\u001B[1;33m\u001B[0m\u001B[0m\n\u001B[1;32m--> 889\u001B[1;33m             \u001B[1;32mreturn\u001B[0m \u001B[0mself\u001B[0m\u001B[1;33m.\u001B[0m\u001B[0m_getitem_tuple\u001B[0m\u001B[1;33m(\u001B[0m\u001B[0mkey\u001B[0m\u001B[1;33m)\u001B[0m\u001B[1;33m\u001B[0m\u001B[1;33m\u001B[0m\u001B[0m\n\u001B[0m\u001B[0;32m    890\u001B[0m         \u001B[1;32melse\u001B[0m\u001B[1;33m:\u001B[0m\u001B[1;33m\u001B[0m\u001B[1;33m\u001B[0m\u001B[0m\n\u001B[0;32m    891\u001B[0m             \u001B[1;31m# we by definition only have the 0th axis\u001B[0m\u001B[1;33m\u001B[0m\u001B[1;33m\u001B[0m\u001B[1;33m\u001B[0m\u001B[0m\n",
      "\u001B[1;32m~\\anaconda3\\lib\\site-packages\\pandas\\core\\indexing.py\u001B[0m in \u001B[0;36m_getitem_tuple\u001B[1;34m(self, tup)\u001B[0m\n\u001B[0;32m   1058\u001B[0m     \u001B[1;32mdef\u001B[0m \u001B[0m_getitem_tuple\u001B[0m\u001B[1;33m(\u001B[0m\u001B[0mself\u001B[0m\u001B[1;33m,\u001B[0m \u001B[0mtup\u001B[0m\u001B[1;33m:\u001B[0m \u001B[0mTuple\u001B[0m\u001B[1;33m)\u001B[0m\u001B[1;33m:\u001B[0m\u001B[1;33m\u001B[0m\u001B[1;33m\u001B[0m\u001B[0m\n\u001B[0;32m   1059\u001B[0m         \u001B[1;32mwith\u001B[0m \u001B[0msuppress\u001B[0m\u001B[1;33m(\u001B[0m\u001B[0mIndexingError\u001B[0m\u001B[1;33m)\u001B[0m\u001B[1;33m:\u001B[0m\u001B[1;33m\u001B[0m\u001B[1;33m\u001B[0m\u001B[0m\n\u001B[1;32m-> 1060\u001B[1;33m             \u001B[1;32mreturn\u001B[0m \u001B[0mself\u001B[0m\u001B[1;33m.\u001B[0m\u001B[0m_getitem_lowerdim\u001B[0m\u001B[1;33m(\u001B[0m\u001B[0mtup\u001B[0m\u001B[1;33m)\u001B[0m\u001B[1;33m\u001B[0m\u001B[1;33m\u001B[0m\u001B[0m\n\u001B[0m\u001B[0;32m   1061\u001B[0m \u001B[1;33m\u001B[0m\u001B[0m\n\u001B[0;32m   1062\u001B[0m         \u001B[1;31m# no multi-index, so validate all of the indexers\u001B[0m\u001B[1;33m\u001B[0m\u001B[1;33m\u001B[0m\u001B[1;33m\u001B[0m\u001B[0m\n",
      "\u001B[1;32m~\\anaconda3\\lib\\site-packages\\pandas\\core\\indexing.py\u001B[0m in \u001B[0;36m_getitem_lowerdim\u001B[1;34m(self, tup)\u001B[0m\n\u001B[0;32m    829\u001B[0m                     \u001B[1;32mreturn\u001B[0m \u001B[0msection\u001B[0m\u001B[1;33m\u001B[0m\u001B[1;33m\u001B[0m\u001B[0m\n\u001B[0;32m    830\u001B[0m                 \u001B[1;31m# This is an elided recursive call to iloc/loc\u001B[0m\u001B[1;33m\u001B[0m\u001B[1;33m\u001B[0m\u001B[1;33m\u001B[0m\u001B[0m\n\u001B[1;32m--> 831\u001B[1;33m                 \u001B[1;32mreturn\u001B[0m \u001B[0mgetattr\u001B[0m\u001B[1;33m(\u001B[0m\u001B[0msection\u001B[0m\u001B[1;33m,\u001B[0m \u001B[0mself\u001B[0m\u001B[1;33m.\u001B[0m\u001B[0mname\u001B[0m\u001B[1;33m)\u001B[0m\u001B[1;33m[\u001B[0m\u001B[0mnew_key\u001B[0m\u001B[1;33m]\u001B[0m\u001B[1;33m\u001B[0m\u001B[1;33m\u001B[0m\u001B[0m\n\u001B[0m\u001B[0;32m    832\u001B[0m \u001B[1;33m\u001B[0m\u001B[0m\n\u001B[0;32m    833\u001B[0m         \u001B[1;32mraise\u001B[0m \u001B[0mIndexingError\u001B[0m\u001B[1;33m(\u001B[0m\u001B[1;34m\"not applicable\"\u001B[0m\u001B[1;33m)\u001B[0m\u001B[1;33m\u001B[0m\u001B[1;33m\u001B[0m\u001B[0m\n",
      "\u001B[1;32m~\\anaconda3\\lib\\site-packages\\pandas\\core\\indexing.py\u001B[0m in \u001B[0;36m__getitem__\u001B[1;34m(self, key)\u001B[0m\n\u001B[0;32m    893\u001B[0m \u001B[1;33m\u001B[0m\u001B[0m\n\u001B[0;32m    894\u001B[0m             \u001B[0mmaybe_callable\u001B[0m \u001B[1;33m=\u001B[0m \u001B[0mcom\u001B[0m\u001B[1;33m.\u001B[0m\u001B[0mapply_if_callable\u001B[0m\u001B[1;33m(\u001B[0m\u001B[0mkey\u001B[0m\u001B[1;33m,\u001B[0m \u001B[0mself\u001B[0m\u001B[1;33m.\u001B[0m\u001B[0mobj\u001B[0m\u001B[1;33m)\u001B[0m\u001B[1;33m\u001B[0m\u001B[1;33m\u001B[0m\u001B[0m\n\u001B[1;32m--> 895\u001B[1;33m             \u001B[1;32mreturn\u001B[0m \u001B[0mself\u001B[0m\u001B[1;33m.\u001B[0m\u001B[0m_getitem_axis\u001B[0m\u001B[1;33m(\u001B[0m\u001B[0mmaybe_callable\u001B[0m\u001B[1;33m,\u001B[0m \u001B[0maxis\u001B[0m\u001B[1;33m=\u001B[0m\u001B[0maxis\u001B[0m\u001B[1;33m)\u001B[0m\u001B[1;33m\u001B[0m\u001B[1;33m\u001B[0m\u001B[0m\n\u001B[0m\u001B[0;32m    896\u001B[0m \u001B[1;33m\u001B[0m\u001B[0m\n\u001B[0;32m    897\u001B[0m     \u001B[1;32mdef\u001B[0m \u001B[0m_is_scalar_access\u001B[0m\u001B[1;33m(\u001B[0m\u001B[0mself\u001B[0m\u001B[1;33m,\u001B[0m \u001B[0mkey\u001B[0m\u001B[1;33m:\u001B[0m \u001B[0mTuple\u001B[0m\u001B[1;33m)\u001B[0m\u001B[1;33m:\u001B[0m\u001B[1;33m\u001B[0m\u001B[1;33m\u001B[0m\u001B[0m\n",
      "\u001B[1;32m~\\anaconda3\\lib\\site-packages\\pandas\\core\\indexing.py\u001B[0m in \u001B[0;36m_getitem_axis\u001B[1;34m(self, key, axis)\u001B[0m\n\u001B[0;32m   1111\u001B[0m                     \u001B[1;32mraise\u001B[0m \u001B[0mValueError\u001B[0m\u001B[1;33m(\u001B[0m\u001B[1;34m\"Cannot index with multidimensional key\"\u001B[0m\u001B[1;33m)\u001B[0m\u001B[1;33m\u001B[0m\u001B[1;33m\u001B[0m\u001B[0m\n\u001B[0;32m   1112\u001B[0m \u001B[1;33m\u001B[0m\u001B[0m\n\u001B[1;32m-> 1113\u001B[1;33m                 \u001B[1;32mreturn\u001B[0m \u001B[0mself\u001B[0m\u001B[1;33m.\u001B[0m\u001B[0m_getitem_iterable\u001B[0m\u001B[1;33m(\u001B[0m\u001B[0mkey\u001B[0m\u001B[1;33m,\u001B[0m \u001B[0maxis\u001B[0m\u001B[1;33m=\u001B[0m\u001B[0maxis\u001B[0m\u001B[1;33m)\u001B[0m\u001B[1;33m\u001B[0m\u001B[1;33m\u001B[0m\u001B[0m\n\u001B[0m\u001B[0;32m   1114\u001B[0m \u001B[1;33m\u001B[0m\u001B[0m\n\u001B[0;32m   1115\u001B[0m             \u001B[1;31m# nested tuple slicing\u001B[0m\u001B[1;33m\u001B[0m\u001B[1;33m\u001B[0m\u001B[1;33m\u001B[0m\u001B[0m\n",
      "\u001B[1;32m~\\anaconda3\\lib\\site-packages\\pandas\\core\\indexing.py\u001B[0m in \u001B[0;36m_getitem_iterable\u001B[1;34m(self, key, axis)\u001B[0m\n\u001B[0;32m   1051\u001B[0m \u001B[1;33m\u001B[0m\u001B[0m\n\u001B[0;32m   1052\u001B[0m         \u001B[1;31m# A collection of keys\u001B[0m\u001B[1;33m\u001B[0m\u001B[1;33m\u001B[0m\u001B[1;33m\u001B[0m\u001B[0m\n\u001B[1;32m-> 1053\u001B[1;33m         \u001B[0mkeyarr\u001B[0m\u001B[1;33m,\u001B[0m \u001B[0mindexer\u001B[0m \u001B[1;33m=\u001B[0m \u001B[0mself\u001B[0m\u001B[1;33m.\u001B[0m\u001B[0m_get_listlike_indexer\u001B[0m\u001B[1;33m(\u001B[0m\u001B[0mkey\u001B[0m\u001B[1;33m,\u001B[0m \u001B[0maxis\u001B[0m\u001B[1;33m,\u001B[0m \u001B[0mraise_missing\u001B[0m\u001B[1;33m=\u001B[0m\u001B[1;32mFalse\u001B[0m\u001B[1;33m)\u001B[0m\u001B[1;33m\u001B[0m\u001B[1;33m\u001B[0m\u001B[0m\n\u001B[0m\u001B[0;32m   1054\u001B[0m         return self.obj._reindex_with_indexers(\n\u001B[0;32m   1055\u001B[0m             \u001B[1;33m{\u001B[0m\u001B[0maxis\u001B[0m\u001B[1;33m:\u001B[0m \u001B[1;33m[\u001B[0m\u001B[0mkeyarr\u001B[0m\u001B[1;33m,\u001B[0m \u001B[0mindexer\u001B[0m\u001B[1;33m]\u001B[0m\u001B[1;33m}\u001B[0m\u001B[1;33m,\u001B[0m \u001B[0mcopy\u001B[0m\u001B[1;33m=\u001B[0m\u001B[1;32mTrue\u001B[0m\u001B[1;33m,\u001B[0m \u001B[0mallow_dups\u001B[0m\u001B[1;33m=\u001B[0m\u001B[1;32mTrue\u001B[0m\u001B[1;33m\u001B[0m\u001B[1;33m\u001B[0m\u001B[0m\n",
      "\u001B[1;32m~\\anaconda3\\lib\\site-packages\\pandas\\core\\indexing.py\u001B[0m in \u001B[0;36m_get_listlike_indexer\u001B[1;34m(self, key, axis, raise_missing)\u001B[0m\n\u001B[0;32m   1264\u001B[0m             \u001B[0mkeyarr\u001B[0m\u001B[1;33m,\u001B[0m \u001B[0mindexer\u001B[0m\u001B[1;33m,\u001B[0m \u001B[0mnew_indexer\u001B[0m \u001B[1;33m=\u001B[0m \u001B[0max\u001B[0m\u001B[1;33m.\u001B[0m\u001B[0m_reindex_non_unique\u001B[0m\u001B[1;33m(\u001B[0m\u001B[0mkeyarr\u001B[0m\u001B[1;33m)\u001B[0m\u001B[1;33m\u001B[0m\u001B[1;33m\u001B[0m\u001B[0m\n\u001B[0;32m   1265\u001B[0m \u001B[1;33m\u001B[0m\u001B[0m\n\u001B[1;32m-> 1266\u001B[1;33m         \u001B[0mself\u001B[0m\u001B[1;33m.\u001B[0m\u001B[0m_validate_read_indexer\u001B[0m\u001B[1;33m(\u001B[0m\u001B[0mkeyarr\u001B[0m\u001B[1;33m,\u001B[0m \u001B[0mindexer\u001B[0m\u001B[1;33m,\u001B[0m \u001B[0maxis\u001B[0m\u001B[1;33m,\u001B[0m \u001B[0mraise_missing\u001B[0m\u001B[1;33m=\u001B[0m\u001B[0mraise_missing\u001B[0m\u001B[1;33m)\u001B[0m\u001B[1;33m\u001B[0m\u001B[1;33m\u001B[0m\u001B[0m\n\u001B[0m\u001B[0;32m   1267\u001B[0m         \u001B[1;32mreturn\u001B[0m \u001B[0mkeyarr\u001B[0m\u001B[1;33m,\u001B[0m \u001B[0mindexer\u001B[0m\u001B[1;33m\u001B[0m\u001B[1;33m\u001B[0m\u001B[0m\n\u001B[0;32m   1268\u001B[0m \u001B[1;33m\u001B[0m\u001B[0m\n",
      "\u001B[1;32m~\\anaconda3\\lib\\site-packages\\pandas\\core\\indexing.py\u001B[0m in \u001B[0;36m_validate_read_indexer\u001B[1;34m(self, key, indexer, axis, raise_missing)\u001B[0m\n\u001B[0;32m   1319\u001B[0m \u001B[1;33m\u001B[0m\u001B[0m\n\u001B[0;32m   1320\u001B[0m             \u001B[1;32mwith\u001B[0m \u001B[0moption_context\u001B[0m\u001B[1;33m(\u001B[0m\u001B[1;34m\"display.max_seq_items\"\u001B[0m\u001B[1;33m,\u001B[0m \u001B[1;36m10\u001B[0m\u001B[1;33m,\u001B[0m \u001B[1;34m\"display.width\"\u001B[0m\u001B[1;33m,\u001B[0m \u001B[1;36m80\u001B[0m\u001B[1;33m)\u001B[0m\u001B[1;33m:\u001B[0m\u001B[1;33m\u001B[0m\u001B[1;33m\u001B[0m\u001B[0m\n\u001B[1;32m-> 1321\u001B[1;33m                 raise KeyError(\n\u001B[0m\u001B[0;32m   1322\u001B[0m                     \u001B[1;34m\"Passing list-likes to .loc or [] with any missing labels \"\u001B[0m\u001B[1;33m\u001B[0m\u001B[1;33m\u001B[0m\u001B[0m\n\u001B[0;32m   1323\u001B[0m                     \u001B[1;34m\"is no longer supported. \"\u001B[0m\u001B[1;33m\u001B[0m\u001B[1;33m\u001B[0m\u001B[0m\n",
      "\u001B[1;31mKeyError\u001B[0m: \"Passing list-likes to .loc or [] with any missing labels is no longer supported. The following labels were missing: Index([                                                                                                                                                                                                                                                                                                                                                                                                                                                                                                                                                                                                                                                                                                                                         nan,\\n                                                                                                                                                                                                                                                                                                                                                                                                                                                                                                                                                                                                                                                                                                                                                nan,\\n       '['B015GBCSWK', 'B01M4P5L9A', 'B01KXRZPPE', 'B07BL69CD2', 'B079YZGVQ5', 'B06W2K24CZ', 'B07BB1VV9K', '1508421064', 'B071SH212S', 'B06ZYSLT5D', 'B01M2A5BL2', 'B01LVZ7N8G', 'B00LB6L87G', 'B074BDFXLS', 'B00K7A2VRS', 'B06Y5K54F9', 'B079NPB2X8', 'B075LFVQGR', 'B0176Q6RE8', 'B000MGR302', 'B00XB2YFBE', 'B00XQ2XGAA', 'B00K6JUG4K', 'B005KG7EDU', 'B0774P2MWS', 'B01LXADO9Z', 'B01A1G47L0', 'B07FMH447D', 'B01N4I84PY', 'B071VGJTBH', 'B071S8D69C', 'B07FKRMT81', 'B074VH9C6J', 'B07C7S9Q4F', 'B0127MNEX8', 'B07CKB9291', 'B0761S4B22', 'B01M3Q4086', 'B077SWQFXR', 'B07CGWQ5YG', 'B0778JQSJ5', 'B00NLQXXDQ', 'B00KSMVZJ0', 'B01I2HUUS4', 'B077LHTLZD', 'B0176QKIJI', 'B0759X2RLL', 'B0019LRY8A', 'B00NLR1PX0', 'B01LDNBAC4', 'B00J074W7Q']'],\\n      dtype='object', name='also_view'). See https://pandas.pydata.org/pandas-docs/stable/user_guide/indexing.html#deprecate-loc-reindex-listlike\""
     ]
    }
   ],
   "source": [
    "gender = CollaborativeRecommendation('also_view')\n",
    "print('RMSE for Gender: %s' % evaluate(gender.estimate))"
   ],
   "metadata": {
    "collapsed": false,
    "pycharm": {
     "name": "#%%\n"
    }
   }
  }
 ],
 "metadata": {
  "kernelspec": {
   "name": "pycharm-cef1f773",
   "language": "python",
   "display_name": "PyCharm (pycon2015_tutorial322)"
  },
  "language_info": {
   "codemirror_mode": {
    "name": "ipython",
    "version": 2
   },
   "file_extension": ".py",
   "mimetype": "text/x-python",
   "name": "python",
   "nbconvert_exporter": "python",
   "pygments_lexer": "ipython2",
   "version": "2.7.6"
  }
 },
 "nbformat": 4,
 "nbformat_minor": 0
}