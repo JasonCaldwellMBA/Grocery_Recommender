{
 "cells": [
  {
   "cell_type": "markdown",
   "metadata": {
    "collapsed": true,
    "pycharm": {
     "name": "#%% md\n"
    }
   },
   "source": [
    "# Recommendations Using Hybrid solutions <sup>1</sup>"
   ]
  },
  {
   "cell_type": "markdown",
   "source": [
    "Lots of examples of systems that try to combine the strengths of the two main approaches.\n",
    "This can be done in a number of ways:\n",
    "\n",
    "- Combine the predictions of a content-based system and a collaborative system.\n",
    "- Incorporate content-based techniques into a collaborative approach.\n",
    "- Incorporate collaborative techniques into a content-based approach.\n",
    "- Unifying model."
   ],
   "metadata": {
    "collapsed": false
   }
  },
  {
   "cell_type": "markdown",
   "source": [
    "## Imports"
   ],
   "metadata": {
    "collapsed": false
   }
  },
  {
   "cell_type": "code",
   "execution_count": 1,
   "outputs": [],
   "source": [
    "import numpy as np\n",
    "import pandas as pd\n",
    "from scipy.special import logsumexp"
   ],
   "metadata": {
    "collapsed": false,
    "pycharm": {
     "name": "#%%\n"
    }
   }
  },
  {
   "cell_type": "markdown",
   "source": [
    "## Load Data\n",
    "\n",
    "Only loading a subset of the original data set for proof of concept reasons."
   ],
   "metadata": {
    "collapsed": false
   }
  },
  {
   "cell_type": "code",
   "execution_count": 2,
   "outputs": [],
   "source": [
    "# 80/20 split earlier\n",
    "df_train = pd.read_csv('../Data/training_data_subset.csv')\n",
    "df_test = pd.read_csv('../Data/testing_data_subset.csv')"
   ],
   "metadata": {
    "collapsed": false,
    "pycharm": {
     "name": "#%%\n"
    }
   }
  },
  {
   "cell_type": "code",
   "execution_count": 3,
   "outputs": [],
   "source": [
    "# Also, load the entire original dataset to make a user index.\n",
    "# Note: If using the full train/test dataset several of the methods below can takes 2-6 hours to run.\n",
    "df_original = pd.read_csv('../Data/eda_data.csv')"
   ],
   "metadata": {
    "collapsed": false,
    "pycharm": {
     "name": "#%%\n"
    }
   }
  },
  {
   "cell_type": "code",
   "execution_count": 4,
   "outputs": [
    {
     "data": {
      "text/plain": "                                            category  \\\n0  ['Grocery & Gourmet Food', 'Candy & Chocolate'...   \n1  ['Grocery & Gourmet Food', 'Jams, Jellies & Sw...   \n2  ['Grocery & Gourmet Food', 'Beverages', 'Coffe...   \n3  ['Grocery & Gourmet Food', 'Candy & Chocolate'...   \n4  ['Grocery & Gourmet Food', 'Canned, Jarred & P...   \n\n                                               title  \\\n0             YumEarth Organic Gummy Bears, 10 Count   \n1  Bell Plantation Powdered PB2 Bundle: 1 Peanut ...   \n2                  Cruz De Malta 1/2 Kilo Yerba Mate   \n3  Sheila G Brownie Brittle, Traditional Walnut, ...   \n4  Thai Red Curry Meal Kit by Marion's Kitchen, 5...   \n\n                                            also_buy             brand  \\\n0  ['B008CC8UXC', 'B00C25LO8S', 'B073RWDCMD', 'B0...          YumEarth   \n1  ['B06W9N8X9H', 'B06X15V3DC', 'B01ENYJX3S', 'B0...               PB2   \n2  ['B01M1N9U23', 'B07H4Y4HS3', 'B07C1GJB5Q', 'B0...     Cruz de Malta   \n3                                                NaN          Sheila G   \n4  ['B07HQY62FP', 'B07HQW7J3Y', 'B01LEC66KA', 'B0...  Marion's Kitchen   \n\n                                  rank  \\\n0  129,438 in Grocery & Gourmet Food (   \n1    1,214 in Grocery & Gourmet Food (   \n2    4,168 in Grocery & Gourmet Food (   \n3  814,161 in Grocery & Gourmet Food (   \n4   50,529 in Grocery & Gourmet Food (   \n\n                                           also_view main_cat  price  \\\n0  ['B008CC8UXC', 'B00C25LNWA', 'B008CC8ULY', 'B0...  Grocery    NaN   \n1                                                NaN  Grocery  18.49   \n2                                                NaN  Grocery   8.96   \n3                                                NaN  Grocery    NaN   \n4  ['B071GZNTM1', 'B07HQY62FP', 'B07HQW7J3Y', 'B0...  Grocery  34.95   \n\n         asin  overall  verified      reviewerID  vote  \\\n0  B008B7JNRA      3.0      True  A35KP4ROS9KWPO   NaN   \n1  B00H9H56QA      5.0      True   AVAMZWS7AAI1S   NaN   \n2  B001UO90BA      3.0      True  A3TBH6LM7PSZOM   NaN   \n3  B00AKSDGL2      5.0      True  A1CFMGYN17AJTT   NaN   \n4  B0141KOO5Q      5.0      True  A1V4KHN1SPG1PS   NaN   \n\n                                               style  for_testing  \n0  {'Size:': ' 10 Count', 'Style:': ' Natural Gum...        False  \n1            {'Size:': ' Pack of 2 (1 each flavor)'}        False  \n2                 {'Size:': ' 500 Grams (1/2 Kilo)'}        False  \n3                      {'Flavor:': ' Toffee Crunch'}        False  \n4                   {'Flavor:': ' Thai Green Curry'}        False  ",
      "text/html": "<div>\n<style scoped>\n    .dataframe tbody tr th:only-of-type {\n        vertical-align: middle;\n    }\n\n    .dataframe tbody tr th {\n        vertical-align: top;\n    }\n\n    .dataframe thead th {\n        text-align: right;\n    }\n</style>\n<table border=\"1\" class=\"dataframe\">\n  <thead>\n    <tr style=\"text-align: right;\">\n      <th></th>\n      <th>category</th>\n      <th>title</th>\n      <th>also_buy</th>\n      <th>brand</th>\n      <th>rank</th>\n      <th>also_view</th>\n      <th>main_cat</th>\n      <th>price</th>\n      <th>asin</th>\n      <th>overall</th>\n      <th>verified</th>\n      <th>reviewerID</th>\n      <th>vote</th>\n      <th>style</th>\n      <th>for_testing</th>\n    </tr>\n  </thead>\n  <tbody>\n    <tr>\n      <th>0</th>\n      <td>['Grocery &amp; Gourmet Food', 'Candy &amp; Chocolate'...</td>\n      <td>YumEarth Organic Gummy Bears, 10 Count</td>\n      <td>['B008CC8UXC', 'B00C25LO8S', 'B073RWDCMD', 'B0...</td>\n      <td>YumEarth</td>\n      <td>129,438 in Grocery &amp; Gourmet Food (</td>\n      <td>['B008CC8UXC', 'B00C25LNWA', 'B008CC8ULY', 'B0...</td>\n      <td>Grocery</td>\n      <td>NaN</td>\n      <td>B008B7JNRA</td>\n      <td>3.0</td>\n      <td>True</td>\n      <td>A35KP4ROS9KWPO</td>\n      <td>NaN</td>\n      <td>{'Size:': ' 10 Count', 'Style:': ' Natural Gum...</td>\n      <td>False</td>\n    </tr>\n    <tr>\n      <th>1</th>\n      <td>['Grocery &amp; Gourmet Food', 'Jams, Jellies &amp; Sw...</td>\n      <td>Bell Plantation Powdered PB2 Bundle: 1 Peanut ...</td>\n      <td>['B06W9N8X9H', 'B06X15V3DC', 'B01ENYJX3S', 'B0...</td>\n      <td>PB2</td>\n      <td>1,214 in Grocery &amp; Gourmet Food (</td>\n      <td>NaN</td>\n      <td>Grocery</td>\n      <td>18.49</td>\n      <td>B00H9H56QA</td>\n      <td>5.0</td>\n      <td>True</td>\n      <td>AVAMZWS7AAI1S</td>\n      <td>NaN</td>\n      <td>{'Size:': ' Pack of 2 (1 each flavor)'}</td>\n      <td>False</td>\n    </tr>\n    <tr>\n      <th>2</th>\n      <td>['Grocery &amp; Gourmet Food', 'Beverages', 'Coffe...</td>\n      <td>Cruz De Malta 1/2 Kilo Yerba Mate</td>\n      <td>['B01M1N9U23', 'B07H4Y4HS3', 'B07C1GJB5Q', 'B0...</td>\n      <td>Cruz de Malta</td>\n      <td>4,168 in Grocery &amp; Gourmet Food (</td>\n      <td>NaN</td>\n      <td>Grocery</td>\n      <td>8.96</td>\n      <td>B001UO90BA</td>\n      <td>3.0</td>\n      <td>True</td>\n      <td>A3TBH6LM7PSZOM</td>\n      <td>NaN</td>\n      <td>{'Size:': ' 500 Grams (1/2 Kilo)'}</td>\n      <td>False</td>\n    </tr>\n    <tr>\n      <th>3</th>\n      <td>['Grocery &amp; Gourmet Food', 'Candy &amp; Chocolate'...</td>\n      <td>Sheila G Brownie Brittle, Traditional Walnut, ...</td>\n      <td>NaN</td>\n      <td>Sheila G</td>\n      <td>814,161 in Grocery &amp; Gourmet Food (</td>\n      <td>NaN</td>\n      <td>Grocery</td>\n      <td>NaN</td>\n      <td>B00AKSDGL2</td>\n      <td>5.0</td>\n      <td>True</td>\n      <td>A1CFMGYN17AJTT</td>\n      <td>NaN</td>\n      <td>{'Flavor:': ' Toffee Crunch'}</td>\n      <td>False</td>\n    </tr>\n    <tr>\n      <th>4</th>\n      <td>['Grocery &amp; Gourmet Food', 'Canned, Jarred &amp; P...</td>\n      <td>Thai Red Curry Meal Kit by Marion's Kitchen, 5...</td>\n      <td>['B07HQY62FP', 'B07HQW7J3Y', 'B01LEC66KA', 'B0...</td>\n      <td>Marion's Kitchen</td>\n      <td>50,529 in Grocery &amp; Gourmet Food (</td>\n      <td>['B071GZNTM1', 'B07HQY62FP', 'B07HQW7J3Y', 'B0...</td>\n      <td>Grocery</td>\n      <td>34.95</td>\n      <td>B0141KOO5Q</td>\n      <td>5.0</td>\n      <td>True</td>\n      <td>A1V4KHN1SPG1PS</td>\n      <td>NaN</td>\n      <td>{'Flavor:': ' Thai Green Curry'}</td>\n      <td>False</td>\n    </tr>\n  </tbody>\n</table>\n</div>"
     },
     "execution_count": 4,
     "metadata": {},
     "output_type": "execute_result"
    }
   ],
   "source": [
    "df_train.head()"
   ],
   "metadata": {
    "collapsed": false,
    "pycharm": {
     "name": "#%%\n"
    }
   }
  },
  {
   "cell_type": "code",
   "execution_count": 5,
   "outputs": [
    {
     "name": "stdout",
     "output_type": "stream",
     "text": [
      "<class 'pandas.core.frame.DataFrame'>\n",
      "RangeIndex: 1083170 entries, 0 to 1083169\n",
      "Data columns (total 14 columns):\n",
      " #   Column      Non-Null Count    Dtype  \n",
      "---  ------      --------------    -----  \n",
      " 0   category    1083170 non-null  object \n",
      " 1   title       1083170 non-null  object \n",
      " 2   also_buy    926546 non-null   object \n",
      " 3   brand       1075197 non-null  object \n",
      " 4   rank        1039163 non-null  object \n",
      " 5   also_view   577060 non-null   object \n",
      " 6   main_cat    1081896 non-null  object \n",
      " 7   price       750231 non-null   float64\n",
      " 8   asin        1083170 non-null  object \n",
      " 9   overall     1083170 non-null  float64\n",
      " 10  verified    1083170 non-null  bool   \n",
      " 11  reviewerID  1083170 non-null  object \n",
      " 12  vote        149247 non-null   float64\n",
      " 13  style       559212 non-null   object \n",
      "dtypes: bool(1), float64(3), object(10)\n",
      "memory usage: 108.5+ MB\n"
     ]
    }
   ],
   "source": [
    "df_original.info()"
   ],
   "metadata": {
    "collapsed": false,
    "pycharm": {
     "name": "#%%\n"
    }
   }
  },
  {
   "cell_type": "markdown",
   "source": [
    "### Create a user index\n",
    "To retrieve information given a specific user_id in a more convenient way."
   ],
   "metadata": {
    "collapsed": false
   }
  },
  {
   "cell_type": "code",
   "execution_count": 15,
   "outputs": [],
   "source": [
    "def compute_rmse(y_pred, y_true):\n",
    "    \"\"\" Compute Root Mean Squared Error. \"\"\"\n",
    "    \n",
    "    return np.sqrt(np.mean(np.power(y_pred - y_true, 2)))"
   ],
   "metadata": {
    "collapsed": false,
    "pycharm": {
     "name": "#%%\n"
    }
   }
  },
  {
   "cell_type": "code",
   "execution_count": 16,
   "outputs": [],
   "source": [
    "def evaluate(estimate_f):\n",
    "    \"\"\" RMSE-based predictive performance evaluation with pandas. \"\"\"\n",
    "    \n",
    "    ids_to_estimate = zip(df_test.reviewerID, df_test.asin)\n",
    "    estimated = np.array([estimate_f(u,i) for (u,i) in ids_to_estimate])\n",
    "    real = df_test.overall.values\n",
    "    return compute_rmse(estimated, real)"
   ],
   "metadata": {
    "collapsed": false,
    "pycharm": {
     "name": "#%%\n"
    }
   }
  },
  {
   "cell_type": "markdown",
   "source": [
    "## Similarity functions"
   ],
   "metadata": {
    "collapsed": false,
    "pycharm": {
     "name": "#%% md\n"
    }
   }
  },
  {
   "cell_type": "markdown",
   "source": [
    "### Euclidean 'similarity'\n",
    "\n",
    "$$ sim(x,y) = \\frac{1}{1 + \\sqrt{\\sum (x - y)^2}}$$"
   ],
   "metadata": {
    "collapsed": false
   }
  },
  {
   "cell_type": "code",
   "execution_count": 20,
   "outputs": [],
   "source": [
    "def euclidean(s1, s2):\n",
    "    \"\"\"Take two pd.Series objects and return their euclidean 'similarity'.\"\"\"\n",
    "    diff = s1 - s2\n",
    "    return 1 / (1 + np.sqrt(np.sum(diff ** 2)))"
   ],
   "metadata": {
    "collapsed": false,
    "pycharm": {
     "name": "#%%\n"
    }
   }
  },
  {
   "cell_type": "markdown",
   "source": [
    "### Cosine similarity\n",
    "\n",
    "$$ sim(x,y) = \\frac{(x . y)}{\\sqrt{(x . x) (y . y)}} $$"
   ],
   "metadata": {
    "collapsed": false
   }
  },
  {
   "cell_type": "code",
   "execution_count": 21,
   "outputs": [],
   "source": [
    "def cosine(s1, s2):\n",
    "    \"\"\"Take two pd.Series objects and return their cosine similarity.\"\"\"\n",
    "    return np.sum(s1 * s2) / np.sqrt(np.sum(s1 ** 2) * np.sum(s2 ** 2))"
   ],
   "metadata": {
    "collapsed": false,
    "pycharm": {
     "name": "#%%\n"
    }
   }
  },
  {
   "cell_type": "markdown",
   "source": [
    "### Pearson correlation\n",
    "\n",
    "$$ sim(x,y) = \\frac{(x - \\bar x).(y - \\bar y)}{\\sqrt{(x - \\bar x).(x - \\bar x) * (y - \\bar y)(y - \\bar y)}} $$"
   ],
   "metadata": {
    "collapsed": false
   }
  },
  {
   "cell_type": "code",
   "execution_count": 22,
   "outputs": [],
   "source": [
    "def pearson(s1, s2):\n",
    "    \"\"\"Take two pd.Series objects and return a pearson correlation.\"\"\"\n",
    "    s1_c = s1 - s1.mean()\n",
    "    s2_c = s2 - s2.mean()\n",
    "    return np.sum(s1_c * s2_c) / np.sqrt(np.sum(logsumexp(s1_c ** 2)) * np.sum(logsumexp(s2_c ** 2)))"
   ],
   "metadata": {
    "collapsed": false,
    "pycharm": {
     "name": "#%%\n"
    }
   }
  },
  {
   "cell_type": "markdown",
   "source": [
    "### Jaccard similarity\n",
    "\n",
    "$$ sim(x,y) = \\frac{(x . y)}{(x . x) + (y . y) - (x . y)} $$"
   ],
   "metadata": {
    "collapsed": false
   }
  },
  {
   "cell_type": "code",
   "execution_count": 23,
   "outputs": [],
   "source": [
    "def jaccard(s1, s2):\n",
    "    dotp = np.sum(s1 * s2)\n",
    "    return dotp / (np.sum(s1 ** 2) + np.sum(s2 ** 2) - dotp)"
   ],
   "metadata": {
    "collapsed": false,
    "pycharm": {
     "name": "#%%\n"
    }
   }
  },
  {
   "cell_type": "code",
   "execution_count": 28,
   "outputs": [],
   "source": [
    "class Recommender(object):\n",
    "    def __init__(self, similarity=pearson):\n",
    "        self.overall_mean = df_test['overall'].mean()\n",
    "        self.all_user_profiles = df_test.pivot_table('overall', index='asin', columns='reviewerID')\n",
    "        self._similarity = similarity\n",
    "        \n",
    "    @property\n",
    "    def similarity(self):\n",
    "        return self._similarity\n",
    "    \n",
    "    @similarity.setter\n",
    "    def similarity(self, value):\n",
    "        self._similarity = value\n",
    "    \n",
    "    def estimate_product(self, user_id, product_id):\n",
    "        all_ratings = df_test.loc[df_test.asin == product_id]\n",
    "        if all_ratings.empty:\n",
    "            return self.overall_mean\n",
    "        all_ratings.set_index('reviewerID', inplace=True)\n",
    "        their_ids = all_ratings.index\n",
    "        their_ratings = all_ratings.overall\n",
    "        their_profiles = self.all_user_profiles[their_ids]\n",
    "        user_profile = self.all_user_profiles[user_id]\n",
    "        sims = their_profiles.apply(lambda profile: self.similarity(profile, user_profile), axis=0)\n",
    "        ratings_sims = pd.DataFrame({'sim': sims, 'overall': their_ratings})\n",
    "        ratings_sims = ratings_sims[ratings_sims.sim > 0]\n",
    "        if ratings_sims.empty:\n",
    "            return their_ratings.mean()\n",
    "        else:\n",
    "            return np.average(ratings_sims.overall, weights=ratings_sims.sim)\n",
    "\n",
    "    def estimate_user(self):\n",
    "        return self.overall_mean\n",
    "\n",
    "    def estimate(self, user_id, movie_id):\n",
    "        return 0.5 * self.estimate_user() + 0.5 * self.estimate_product(user_id, movie_id)"
   ],
   "metadata": {
    "collapsed": false,
    "pycharm": {
     "name": "#%%\n"
    }
   }
  },
  {
   "cell_type": "code",
   "execution_count": 29,
   "outputs": [
    {
     "name": "stdout",
     "output_type": "stream",
     "text": [
      "RMSE for recommender estimate class using euclidean: 0.5895197895124215\n"
     ]
    }
   ],
   "source": [
    "rec = Recommender(euclidean)\n",
    "print('RMSE for recommender estimate class using euclidean: %s' % evaluate(rec.estimate))"
   ],
   "metadata": {
    "collapsed": false,
    "pycharm": {
     "name": "#%%\n"
    }
   }
  },
  {
   "cell_type": "code",
   "execution_count": 30,
   "outputs": [
    {
     "name": "stdout",
     "output_type": "stream",
     "text": [
      "RMSE for recommender estimate class using cosine: 0.6383217858949748\n"
     ]
    }
   ],
   "source": [
    "rec = Recommender(cosine)\n",
    "print('RMSE for recommender estimate class using cosine: %s' % evaluate(rec.estimate))"
   ],
   "metadata": {
    "collapsed": false,
    "pycharm": {
     "name": "#%%\n"
    }
   }
  },
  {
   "cell_type": "code",
   "execution_count": 31,
   "outputs": [
    {
     "name": "stdout",
     "output_type": "stream",
     "text": [
      "RMSE for recommender estimate class using pearson: 0.6392390495737882\n"
     ]
    }
   ],
   "source": [
    "rec = Recommender(pearson)\n",
    "print('RMSE for recommender estimate class using pearson: %s' % evaluate(rec.estimate))"
   ],
   "metadata": {
    "collapsed": false,
    "pycharm": {
     "name": "#%%\n"
    }
   }
  },
  {
   "cell_type": "code",
   "execution_count": 32,
   "outputs": [
    {
     "name": "stdout",
     "output_type": "stream",
     "text": [
      "RMSE for recommender estimate class using jaccard: 0.6052358162303417\n"
     ]
    }
   ],
   "source": [
    "rec = Recommender(jaccard)\n",
    "print('RMSE for recommender estimate class using jaccard: %s' % evaluate(rec.estimate))"
   ],
   "metadata": {
    "collapsed": false,
    "pycharm": {
     "name": "#%%\n"
    }
   }
  },
  {
   "cell_type": "markdown",
   "source": [
    "## Summary\n",
    "- Evaluated estimated recommendations using several hybrid methods.\n",
    "- In all cases, the estimates were:\n",
    "    - fairly close to one another.\n",
    "    - significantly better than all previous notebook versions.\n",
    "- The best performing function was euclidean with a RMSE of 0.5895.\n",
    "- The worse performing function was pearson with a RMSE of 0.6392."
   ],
   "metadata": {
    "collapsed": false
   }
  },
  {
   "cell_type": "markdown",
   "source": [
    "## References\n",
    "1) Unata 2015 [Hands-on with PyData: How to Build a Minimal Recommendation Engine](https://www.youtube.com/watch?v=F6gWjOc1FUs).  "
   ],
   "metadata": {
    "collapsed": false
   }
  }
 ],
 "metadata": {
  "kernelspec": {
   "name": "pycharm-cef1f773",
   "language": "python",
   "display_name": "PyCharm (pycon2015_tutorial322)"
  },
  "language_info": {
   "codemirror_mode": {
    "name": "ipython",
    "version": 2
   },
   "file_extension": ".py",
   "mimetype": "text/x-python",
   "name": "python",
   "nbconvert_exporter": "python",
   "pygments_lexer": "ipython2",
   "version": "2.7.6"
  }
 },
 "nbformat": 4,
 "nbformat_minor": 0
}