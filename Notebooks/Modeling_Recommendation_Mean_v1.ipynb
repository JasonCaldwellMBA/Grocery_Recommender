{
 "cells": [
  {
   "cell_type": "markdown",
   "source": [
    "# Recommendations Using the Mean"
   ],
   "metadata": {
    "collapsed": false,
    "pycharm": {
     "name": "#%% md\n"
    }
   }
  },
  {
   "cell_type": "markdown",
   "metadata": {
    "collapsed": true,
    "pycharm": {
     "name": "#%% md\n"
    }
   },
   "source": [
    "## Imports"
   ]
  },
  {
   "cell_type": "code",
   "execution_count": 1,
   "outputs": [],
   "source": [
    "import numpy as np\n",
    "import pandas as pd"
   ],
   "metadata": {
    "collapsed": false,
    "pycharm": {
     "name": "#%%\n"
    }
   }
  },
  {
   "cell_type": "markdown",
   "source": [
    "## Load Data\n",
    "\n",
    "Only loading a subset of the original data set for proof of concept reasons."
   ],
   "metadata": {
    "collapsed": false
   }
  },
  {
   "cell_type": "code",
   "execution_count": 2,
   "outputs": [],
   "source": [
    "# 80/20 split earlier\n",
    "df_train = pd.read_csv('../Data/training_data_subset.csv')\n",
    "df_test = pd.read_csv('../Data/testing_data_subset.csv')"
   ],
   "metadata": {
    "collapsed": false,
    "pycharm": {
     "name": "#%%\n"
    }
   }
  },
  {
   "cell_type": "code",
   "execution_count": 3,
   "outputs": [
    {
     "data": {
      "text/plain": "                                            category  \\\n0  ['Grocery & Gourmet Food', 'Sauces, Gravies & ...   \n1  ['Grocery & Gourmet Food', 'Breakfast Foods', ...   \n\n                                         description  \\\n0  ['Sriracha chili sauce made from sun ripened c...   \n1  ['belVita Chocolate Breakfast Biscuits are lig...   \n\n                                               title  \\\n0  Huy Fong Sriracha Chili Sauce, 28 Ounce Bottle...   \n1  belVita Chocolate Breakfast Biscuits, 5 Count ...   \n\n                                            also_buy     brand  \\\n0  ['B001E5DZZM', 'B003NROMC4', 'B00U9VTL5U', 'B0...  Huy Fong   \n1  ['B00QF27JL0', 'B01BNIN5ZO', 'B01FLPFPOY', 'B0...   Belvita   \n\n                                  rank  \\\n0  145,292 in Grocery & Gourmet Food (   \n1   19,427 in Grocery & Gourmet Food (   \n\n                                           also_view main_cat  price  \\\n0  ['B001E5DZZM', 'B008AV5HLS', 'B00U9VTL5U', 'B0...  Grocery    NaN   \n1  ['B01COWTO4O', 'B01FLPFPOY', 'B00QF27JL0', 'B0...  Grocery    NaN   \n\n         asin                                            details  overall  \\\n0  B00BT7C9R0  {'Shipping Weight:': '11.4 pounds', 'ASIN: ': ...      5.0   \n1  B00IO2DO2W  {'Shipping Weight:': '4.1 pounds', 'Domestic S...      5.0   \n\n   verified      reviewerID  \\\n0      True  A3FYXMWYC9KUCK   \n1      True  A2OWR2PL3DLWS4   \n\n                                          reviewText               summary  \\\n0  I have been using Sriracha for several years n...  This stuff is great!   \n1  My daughter is a Belvita addict.  She likes al...             Delciious   \n\n   vote style  for_testing  \n0   NaN   NaN        False  \n1   NaN   NaN        False  ",
      "text/html": "<div>\n<style scoped>\n    .dataframe tbody tr th:only-of-type {\n        vertical-align: middle;\n    }\n\n    .dataframe tbody tr th {\n        vertical-align: top;\n    }\n\n    .dataframe thead th {\n        text-align: right;\n    }\n</style>\n<table border=\"1\" class=\"dataframe\">\n  <thead>\n    <tr style=\"text-align: right;\">\n      <th></th>\n      <th>category</th>\n      <th>description</th>\n      <th>title</th>\n      <th>also_buy</th>\n      <th>brand</th>\n      <th>rank</th>\n      <th>also_view</th>\n      <th>main_cat</th>\n      <th>price</th>\n      <th>asin</th>\n      <th>details</th>\n      <th>overall</th>\n      <th>verified</th>\n      <th>reviewerID</th>\n      <th>reviewText</th>\n      <th>summary</th>\n      <th>vote</th>\n      <th>style</th>\n      <th>for_testing</th>\n    </tr>\n  </thead>\n  <tbody>\n    <tr>\n      <th>0</th>\n      <td>['Grocery &amp; Gourmet Food', 'Sauces, Gravies &amp; ...</td>\n      <td>['Sriracha chili sauce made from sun ripened c...</td>\n      <td>Huy Fong Sriracha Chili Sauce, 28 Ounce Bottle...</td>\n      <td>['B001E5DZZM', 'B003NROMC4', 'B00U9VTL5U', 'B0...</td>\n      <td>Huy Fong</td>\n      <td>145,292 in Grocery &amp; Gourmet Food (</td>\n      <td>['B001E5DZZM', 'B008AV5HLS', 'B00U9VTL5U', 'B0...</td>\n      <td>Grocery</td>\n      <td>NaN</td>\n      <td>B00BT7C9R0</td>\n      <td>{'Shipping Weight:': '11.4 pounds', 'ASIN: ': ...</td>\n      <td>5.0</td>\n      <td>True</td>\n      <td>A3FYXMWYC9KUCK</td>\n      <td>I have been using Sriracha for several years n...</td>\n      <td>This stuff is great!</td>\n      <td>NaN</td>\n      <td>NaN</td>\n      <td>False</td>\n    </tr>\n    <tr>\n      <th>1</th>\n      <td>['Grocery &amp; Gourmet Food', 'Breakfast Foods', ...</td>\n      <td>['belVita Chocolate Breakfast Biscuits are lig...</td>\n      <td>belVita Chocolate Breakfast Biscuits, 5 Count ...</td>\n      <td>['B00QF27JL0', 'B01BNIN5ZO', 'B01FLPFPOY', 'B0...</td>\n      <td>Belvita</td>\n      <td>19,427 in Grocery &amp; Gourmet Food (</td>\n      <td>['B01COWTO4O', 'B01FLPFPOY', 'B00QF27JL0', 'B0...</td>\n      <td>Grocery</td>\n      <td>NaN</td>\n      <td>B00IO2DO2W</td>\n      <td>{'Shipping Weight:': '4.1 pounds', 'Domestic S...</td>\n      <td>5.0</td>\n      <td>True</td>\n      <td>A2OWR2PL3DLWS4</td>\n      <td>My daughter is a Belvita addict.  She likes al...</td>\n      <td>Delciious</td>\n      <td>NaN</td>\n      <td>NaN</td>\n      <td>False</td>\n    </tr>\n  </tbody>\n</table>\n</div>"
     },
     "execution_count": 3,
     "metadata": {},
     "output_type": "execute_result"
    }
   ],
   "source": [
    "df_train.head(2)"
   ],
   "metadata": {
    "collapsed": false,
    "pycharm": {
     "name": "#%%\n"
    }
   }
  },
  {
   "cell_type": "code",
   "execution_count": 4,
   "outputs": [
    {
     "data": {
      "text/plain": "                                            category  \\\n0  ['Grocery & Gourmet Food', 'Produce', 'Fresh V...   \n1  ['Grocery & Gourmet Food', 'Cooking & Baking',...   \n\n                                         description  \\\n0  ['<div class=\"aplus\"> <div class=\"three-fourth...   \n1  ['Light & Fluffy. Just add water. Made with re...   \n\n                                              title  \\\n0                     Organic Green Cabbage, 1 Head   \n1  Krusteaz Complete Pancake Mix, Buttermilk, 32 oz   \n\n                                            also_buy          brand rank  \\\n0                                                NaN  produce aisle  NaN   \n1  ['B000R32RJC', 'B07CX6LN8T', 'B000PXZZQG', 'B0...       Krusteaz  NaN   \n\n                                           also_view main_cat  price  \\\n0                                                NaN  Grocery    NaN   \n1  ['B00DXGGSBI', 'B00CEMP2Z0', 'B00BP2RY42', 'B0...  Grocery    NaN   \n\n         asin                                            details  overall  \\\n0  B000P6H29Q  {'\\n    Product Dimensions: \\n    ': '7.5 x 6....      5.0   \n1  B000QCLEB6  {'\\n    Product Dimensions: \\n    ': '6.1 x 2....      5.0   \n\n   verified      reviewerID  \\\n0      True  A1NKRXSU63EA4M   \n1      True  A3TR0FIT13SSVN   \n\n                                          reviewText               summary  \\\n0                                 Hugh and delicious            Five Stars   \n1  Great flavor and surprisingly fluffy out of th...  Surprisingly good :)   \n\n   vote style  for_testing  \n0   NaN   NaN         True  \n1   6.0   NaN         True  ",
      "text/html": "<div>\n<style scoped>\n    .dataframe tbody tr th:only-of-type {\n        vertical-align: middle;\n    }\n\n    .dataframe tbody tr th {\n        vertical-align: top;\n    }\n\n    .dataframe thead th {\n        text-align: right;\n    }\n</style>\n<table border=\"1\" class=\"dataframe\">\n  <thead>\n    <tr style=\"text-align: right;\">\n      <th></th>\n      <th>category</th>\n      <th>description</th>\n      <th>title</th>\n      <th>also_buy</th>\n      <th>brand</th>\n      <th>rank</th>\n      <th>also_view</th>\n      <th>main_cat</th>\n      <th>price</th>\n      <th>asin</th>\n      <th>details</th>\n      <th>overall</th>\n      <th>verified</th>\n      <th>reviewerID</th>\n      <th>reviewText</th>\n      <th>summary</th>\n      <th>vote</th>\n      <th>style</th>\n      <th>for_testing</th>\n    </tr>\n  </thead>\n  <tbody>\n    <tr>\n      <th>0</th>\n      <td>['Grocery &amp; Gourmet Food', 'Produce', 'Fresh V...</td>\n      <td>['&lt;div class=\"aplus\"&gt; &lt;div class=\"three-fourth...</td>\n      <td>Organic Green Cabbage, 1 Head</td>\n      <td>NaN</td>\n      <td>produce aisle</td>\n      <td>NaN</td>\n      <td>NaN</td>\n      <td>Grocery</td>\n      <td>NaN</td>\n      <td>B000P6H29Q</td>\n      <td>{'\\n    Product Dimensions: \\n    ': '7.5 x 6....</td>\n      <td>5.0</td>\n      <td>True</td>\n      <td>A1NKRXSU63EA4M</td>\n      <td>Hugh and delicious</td>\n      <td>Five Stars</td>\n      <td>NaN</td>\n      <td>NaN</td>\n      <td>True</td>\n    </tr>\n    <tr>\n      <th>1</th>\n      <td>['Grocery &amp; Gourmet Food', 'Cooking &amp; Baking',...</td>\n      <td>['Light &amp; Fluffy. Just add water. Made with re...</td>\n      <td>Krusteaz Complete Pancake Mix, Buttermilk, 32 oz</td>\n      <td>['B000R32RJC', 'B07CX6LN8T', 'B000PXZZQG', 'B0...</td>\n      <td>Krusteaz</td>\n      <td>NaN</td>\n      <td>['B00DXGGSBI', 'B00CEMP2Z0', 'B00BP2RY42', 'B0...</td>\n      <td>Grocery</td>\n      <td>NaN</td>\n      <td>B000QCLEB6</td>\n      <td>{'\\n    Product Dimensions: \\n    ': '6.1 x 2....</td>\n      <td>5.0</td>\n      <td>True</td>\n      <td>A3TR0FIT13SSVN</td>\n      <td>Great flavor and surprisingly fluffy out of th...</td>\n      <td>Surprisingly good :)</td>\n      <td>6.0</td>\n      <td>NaN</td>\n      <td>True</td>\n    </tr>\n  </tbody>\n</table>\n</div>"
     },
     "execution_count": 4,
     "metadata": {},
     "output_type": "execute_result"
    }
   ],
   "source": [
    "df_test.head(2)"
   ],
   "metadata": {
    "collapsed": false,
    "pycharm": {
     "name": "#%%\n"
    }
   }
  },
  {
   "cell_type": "markdown",
   "source": [
    "### RMSE"
   ],
   "metadata": {
    "collapsed": false
   }
  },
  {
   "cell_type": "code",
   "execution_count": 5,
   "outputs": [],
   "source": [
    "def compute_rmse(y_pred, y_true):\n",
    "    \"\"\" Compute Root Mean Squared Error. \"\"\"\n",
    "    \n",
    "    return np.sqrt(np.mean(np.power(y_pred - y_true, 2)))"
   ],
   "metadata": {
    "collapsed": false,
    "pycharm": {
     "name": "#%%\n"
    }
   }
  },
  {
   "cell_type": "markdown",
   "source": [
    "### Evaluation method"
   ],
   "metadata": {
    "collapsed": false
   }
  },
  {
   "cell_type": "code",
   "execution_count": 6,
   "outputs": [],
   "source": [
    "def evaluate(estimate_f):\n",
    "    \"\"\" RMSE-based predictive performance evaluation with pandas. \"\"\"\n",
    "    \n",
    "    ids_to_estimate = zip(df_test.reviewerID, df_test.asin)\n",
    "    estimated = np.array([estimate_f(u,i) for (u,i) in ids_to_estimate])\n",
    "    real = df_test.overall.values\n",
    "    return compute_rmse(estimated, real)"
   ],
   "metadata": {
    "collapsed": false,
    "pycharm": {
     "name": "#%%\n"
    }
   }
  },
  {
   "cell_type": "markdown",
   "source": [
    "## Well-known Solutions to the Recommendation Problem"
   ],
   "metadata": {
    "collapsed": false
   }
  },
  {
   "cell_type": "markdown",
   "source": [
    "### Content-based filtering\n",
    "\n",
    "*Recommend based on the user's rating history.* \n",
    "\n",
    "Generic expression (notice how this is kind of a 'row-based' approach):\n",
    "\n",
    "$$ \\newcommand{\\aggr}{\\mathop{\\rm aggr}\\nolimits}r_{u,i} = \\aggr_{i' \\in I(u)} [r_{u,i'}]$$"
   ],
   "metadata": {
    "collapsed": false
   }
  },
  {
   "cell_type": "markdown",
   "source": [
    "A simple example using the mean as an aggregation function:\n",
    "\n",
    "$$ r_{u,i} = \\bar r_u = \\frac{\\sum_{i' \\in I(u)} r_{u,i'}}{|I(u)|} $$"
   ],
   "metadata": {
    "collapsed": false
   }
  },
  {
   "cell_type": "code",
   "execution_count": 7,
   "outputs": [],
   "source": [
    "def content_mean(product_id, movie_id):\n",
    "    \"\"\" Simple content-filtering based on mean ratings. \"\"\"\n",
    "    \n",
    "    user_condition = df_train.reviewerID == product_id\n",
    "    return df_train.loc[user_condition, 'overall'].mean()"
   ],
   "metadata": {
    "collapsed": false,
    "pycharm": {
     "name": "#%%\n"
    }
   }
  },
  {
   "cell_type": "code",
   "execution_count": 8,
   "outputs": [
    {
     "data": {
      "text/plain": "nan"
     },
     "execution_count": 8,
     "metadata": {},
     "output_type": "execute_result"
    }
   ],
   "source": [
    "# Specific example\n",
    "content_mean('ACOICLIJQYECU', '4639725043')"
   ],
   "metadata": {
    "collapsed": false,
    "pycharm": {
     "name": "#%%\n"
    }
   }
  },
  {
   "cell_type": "code",
   "execution_count": 9,
   "outputs": [],
   "source": [
    "# Test model\n",
    "print('RMSE for content mean: %s' % evaluate(content_mean))"
   ],
   "metadata": {
    "collapsed": false,
    "pycharm": {
     "name": "#%%\n"
    }
   }
  },
  {
   "cell_type": "markdown",
   "source": [
    "TODO: Research ways to fix.\n",
    "In case the output is cleared, the RMSE using content mean is nan."
   ],
   "metadata": {
    "collapsed": false
   }
  },
  {
   "cell_type": "markdown",
   "source": [
    "### Collaborative filtering\n",
    "\n",
    "*Recommend based on other user's rating histories.* \n",
    "\n",
    "Generic expression (notice how this is kind of a 'col-based' approach):\n",
    "\n",
    "$$ \\newcommand{\\aggr}{\\mathop{\\rm aggr}\\nolimits}r_{u,i} = \\aggr_{u' \\in U(i)} [r_{u',i}] $$"
   ],
   "metadata": {
    "collapsed": false
   }
  },
  {
   "cell_type": "markdown",
   "source": [
    "A simple example using the mean as an aggregation function:\n",
    "\n",
    "$$ r_{u,i} = \\bar r_i = \\frac{\\sum_{u' \\in U(i)} r_{u',i}}{|U(i)|} $$"
   ],
   "metadata": {
    "collapsed": false
   }
  },
  {
   "cell_type": "code",
   "execution_count": 10,
   "outputs": [],
   "source": [
    "def collaborative_mean(user_id, product_id):\n",
    "    \"\"\" Simple collaborative filter based on mean ratings. \"\"\"\n",
    "    \n",
    "    user_condition = df_train.reviewerID != user_id\n",
    "    movie_condition = df_train.asin == product_id\n",
    "    ratings_by_others = df_train.loc[user_condition & movie_condition]\n",
    "    if ratings_by_others.empty:\n",
    "        return 4.0\n",
    "    else:\n",
    "        return ratings_by_others.overall.mean()\n",
    "    "
   ],
   "metadata": {
    "collapsed": false,
    "pycharm": {
     "name": "#%%\n"
    }
   }
  },
  {
   "cell_type": "code",
   "execution_count": 11,
   "outputs": [
    {
     "data": {
      "text/plain": "4.0"
     },
     "execution_count": 11,
     "metadata": {},
     "output_type": "execute_result"
    }
   ],
   "source": [
    "# Specific example\n",
    "collaborative_mean('ACOICLIJQYECU', '4639725043')"
   ],
   "metadata": {
    "collapsed": false,
    "pycharm": {
     "name": "#%%\n"
    }
   }
  },
  {
   "cell_type": "markdown",
   "source": [
    "The review rating for the collaborative mean is higher than the rating using the content mean above."
   ],
   "metadata": {
    "collapsed": false
   }
  },
  {
   "cell_type": "code",
   "execution_count": 13,
   "outputs": [
    {
     "name": "stdout",
     "output_type": "stream",
     "text": [
      "RMSE for collaborative mean is: 1.2031960408756872.\n"
     ]
    }
   ],
   "source": [
    "# Test model\n",
    "print(f'RMSE for collaborative mean is: {evaluate(collaborative_mean)}.')"
   ],
   "metadata": {
    "collapsed": false,
    "pycharm": {
     "name": "#%%\n"
    }
   }
  },
  {
   "cell_type": "markdown",
   "source": [
    "In case the output is cleared, the RMSE for collaborative mean is 1.0631020146075487.\n",
    "This is the best results so far."
   ],
   "metadata": {
    "collapsed": false
   }
  },
  {
   "cell_type": "markdown",
   "source": [
    "### Generalizations of the aggregation function for content-based filtering: incorporating similarities\n",
    "\n",
    "Possibly incorporating metadata about items, which makes the term 'content' make more sense now.\n",
    "\n",
    "$$ r_{u,i} = k \\sum_{i' \\in I(u)} sim(i, i') \\; r_{u,i'} $$\n",
    "\n",
    "$$ r_{u,i} = \\bar r_u + k \\sum_{i' \\in I(u)} sim(i, i') \\; (r_{u,i'} - \\bar r_u) $$\n",
    "\n",
    "Here $k$ is a normalizing factor,\n",
    "\n",
    "$$ k = \\frac{1}{\\sum_{i' \\in I(u)} |sim(i,i')|} $$\n",
    "\n",
    "and $\\bar r_u$ is the average rating of user u:\n",
    "\n",
    "$$ \\bar r_u = \\frac{\\sum_{i \\in I(u)} r_{u,i}}{|I(u)|} $$\n"
   ],
   "metadata": {
    "collapsed": false
   }
  },
  {
   "cell_type": "markdown",
   "source": [
    "### Generalizations of the aggregation function for collaborative filtering: incorporating similarities\n",
    "\n",
    "Possibly incorporating metadata about users.\n",
    "\n",
    "$$ r_{u,i} = k \\sum_{u' \\in U(i)} sim(u, u') \\; r_{u',i} $$\n",
    "\n",
    "$$ r_{u,i} = \\bar r_u + k \\sum_{u' \\in U(i)} sim(u, u') \\; (r_{u',i} - \\bar r_u) $$\n",
    "\n",
    "Here $k$ is a normalizing factor,\n",
    "\n",
    "$$ k = \\frac{1}{\\sum_{u' \\in U(i)} |sim(u,u')|} $$\n",
    "\n",
    "and $\\bar r_u$ is the average rating of user u:\n",
    "\n",
    "$$ \\bar r_u = \\frac{\\sum_{i \\in I(u)} r_{u,i}}{|I(u)|} $$"
   ],
   "metadata": {
    "collapsed": false
   }
  },
  {
   "cell_type": "markdown",
   "source": [
    "## Summary\n",
    "- TODO"
   ],
   "metadata": {
    "collapsed": false
   }
  },
  {
   "cell_type": "markdown",
   "source": [
    "## References\n",
    "1) Unata 2015 [Hands-on with PyData: How to Build a Minimal Recommendation Engine](https://www.youtube.com/watch?v=F6gWjOc1FUs).  "
   ],
   "metadata": {
    "collapsed": false
   }
  }
 ],
 "metadata": {
  "kernelspec": {
   "name": "pycharm-cef1f773",
   "language": "python",
   "display_name": "PyCharm (pycon2015_tutorial322)"
  },
  "language_info": {
   "codemirror_mode": {
    "name": "ipython",
    "version": 2
   },
   "file_extension": ".py",
   "mimetype": "text/x-python",
   "name": "python",
   "nbconvert_exporter": "python",
   "pygments_lexer": "ipython2",
   "version": "2.7.6"
  }
 },
 "nbformat": 4,
 "nbformat_minor": 0
}