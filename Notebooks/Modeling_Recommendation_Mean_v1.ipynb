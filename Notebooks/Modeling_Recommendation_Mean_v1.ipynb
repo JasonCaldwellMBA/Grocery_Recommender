{
 "cells": [
  {
   "cell_type": "markdown",
   "source": [
    "# Recommendations Using the Mean"
   ],
   "metadata": {
    "collapsed": false,
    "pycharm": {
     "name": "#%% md\n"
    }
   }
  },
  {
   "cell_type": "markdown",
   "metadata": {
    "collapsed": true,
    "pycharm": {
     "name": "#%% md\n"
    }
   },
   "source": [
    "## Imports"
   ]
  },
  {
   "cell_type": "code",
   "execution_count": 1,
   "outputs": [],
   "source": [
    "import numpy as np\n",
    "import pandas as pd"
   ],
   "metadata": {
    "collapsed": false,
    "pycharm": {
     "name": "#%%\n"
    }
   }
  },
  {
   "cell_type": "markdown",
   "source": [
    "## Load Data\n",
    "\n",
    "Only loading a subset of the original data set for proof of concept reasons."
   ],
   "metadata": {
    "collapsed": false
   }
  },
  {
   "cell_type": "code",
   "execution_count": 2,
   "outputs": [],
   "source": [
    "# 80/20 split earlier\n",
    "df_train = pd.read_csv('../Data/training_data_subset.csv')\n",
    "df_test = pd.read_csv('../Data/testing_data_subset.csv')"
   ],
   "metadata": {
    "collapsed": false,
    "pycharm": {
     "name": "#%%\n"
    }
   }
  },
  {
   "cell_type": "code",
   "execution_count": 3,
   "outputs": [
    {
     "data": {
      "text/plain": "                                            category  \\\n0  ['Grocery & Gourmet Food', 'Candy & Chocolate'...   \n1  ['Grocery & Gourmet Food', 'Jams, Jellies & Sw...   \n\n                                               title  \\\n0             YumEarth Organic Gummy Bears, 10 Count   \n1  Bell Plantation Powdered PB2 Bundle: 1 Peanut ...   \n\n                                            also_buy     brand  \\\n0  ['B008CC8UXC', 'B00C25LO8S', 'B073RWDCMD', 'B0...  YumEarth   \n1  ['B06W9N8X9H', 'B06X15V3DC', 'B01ENYJX3S', 'B0...       PB2   \n\n                                  rank  \\\n0  129,438 in Grocery & Gourmet Food (   \n1    1,214 in Grocery & Gourmet Food (   \n\n                                           also_view main_cat  price  \\\n0  ['B008CC8UXC', 'B00C25LNWA', 'B008CC8ULY', 'B0...  Grocery    NaN   \n1                                                NaN  Grocery  18.49   \n\n         asin  overall  verified      reviewerID  vote  \\\n0  B008B7JNRA      3.0      True  A35KP4ROS9KWPO   NaN   \n1  B00H9H56QA      5.0      True   AVAMZWS7AAI1S   NaN   \n\n                                               style  for_testing  \n0  {'Size:': ' 10 Count', 'Style:': ' Natural Gum...        False  \n1            {'Size:': ' Pack of 2 (1 each flavor)'}        False  ",
      "text/html": "<div>\n<style scoped>\n    .dataframe tbody tr th:only-of-type {\n        vertical-align: middle;\n    }\n\n    .dataframe tbody tr th {\n        vertical-align: top;\n    }\n\n    .dataframe thead th {\n        text-align: right;\n    }\n</style>\n<table border=\"1\" class=\"dataframe\">\n  <thead>\n    <tr style=\"text-align: right;\">\n      <th></th>\n      <th>category</th>\n      <th>title</th>\n      <th>also_buy</th>\n      <th>brand</th>\n      <th>rank</th>\n      <th>also_view</th>\n      <th>main_cat</th>\n      <th>price</th>\n      <th>asin</th>\n      <th>overall</th>\n      <th>verified</th>\n      <th>reviewerID</th>\n      <th>vote</th>\n      <th>style</th>\n      <th>for_testing</th>\n    </tr>\n  </thead>\n  <tbody>\n    <tr>\n      <th>0</th>\n      <td>['Grocery &amp; Gourmet Food', 'Candy &amp; Chocolate'...</td>\n      <td>YumEarth Organic Gummy Bears, 10 Count</td>\n      <td>['B008CC8UXC', 'B00C25LO8S', 'B073RWDCMD', 'B0...</td>\n      <td>YumEarth</td>\n      <td>129,438 in Grocery &amp; Gourmet Food (</td>\n      <td>['B008CC8UXC', 'B00C25LNWA', 'B008CC8ULY', 'B0...</td>\n      <td>Grocery</td>\n      <td>NaN</td>\n      <td>B008B7JNRA</td>\n      <td>3.0</td>\n      <td>True</td>\n      <td>A35KP4ROS9KWPO</td>\n      <td>NaN</td>\n      <td>{'Size:': ' 10 Count', 'Style:': ' Natural Gum...</td>\n      <td>False</td>\n    </tr>\n    <tr>\n      <th>1</th>\n      <td>['Grocery &amp; Gourmet Food', 'Jams, Jellies &amp; Sw...</td>\n      <td>Bell Plantation Powdered PB2 Bundle: 1 Peanut ...</td>\n      <td>['B06W9N8X9H', 'B06X15V3DC', 'B01ENYJX3S', 'B0...</td>\n      <td>PB2</td>\n      <td>1,214 in Grocery &amp; Gourmet Food (</td>\n      <td>NaN</td>\n      <td>Grocery</td>\n      <td>18.49</td>\n      <td>B00H9H56QA</td>\n      <td>5.0</td>\n      <td>True</td>\n      <td>AVAMZWS7AAI1S</td>\n      <td>NaN</td>\n      <td>{'Size:': ' Pack of 2 (1 each flavor)'}</td>\n      <td>False</td>\n    </tr>\n  </tbody>\n</table>\n</div>"
     },
     "execution_count": 3,
     "metadata": {},
     "output_type": "execute_result"
    }
   ],
   "source": [
    "df_train.head(2)"
   ],
   "metadata": {
    "collapsed": false,
    "pycharm": {
     "name": "#%%\n"
    }
   }
  },
  {
   "cell_type": "code",
   "execution_count": 4,
   "outputs": [
    {
     "data": {
      "text/plain": "                                            category  \\\n0  ['Grocery & Gourmet Food', 'Snack Foods', 'Bar...   \n1  ['Grocery & Gourmet Food', 'Snack Foods', 'Chi...   \n\n                                               title  \\\n0                     Grocery &amp; Gourmet Food\" />   \n1  Gourmet Basics Smart Fries 4-Flavor Variety Pa...   \n\n                                            also_buy           brand  \\\n0  ['B01MT0QDPO', 'B00NL17FE4', 'B01NBM9OJN', 'B0...   Nature Valley   \n1  ['B0763SHX4W', 'B0040FIHS8', 'B00FYR5HS4', 'B0...  Gourmet Basics   \n\n                                 rank also_view main_cat  price        asin  \\\n0  16,921 in Grocery & Gourmet Food (       NaN  Grocery  18.04  B001E6GFR6   \n1  53,167 in Grocery & Gourmet Food (       NaN  Grocery  23.99  B003AZ2ECY   \n\n   overall  verified      reviewerID  vote style  for_testing  \n0      5.0      True  A2IUE299OONA73   NaN   NaN         True  \n1      4.0      True  A38NO7J1TK4R1W   NaN   NaN         True  ",
      "text/html": "<div>\n<style scoped>\n    .dataframe tbody tr th:only-of-type {\n        vertical-align: middle;\n    }\n\n    .dataframe tbody tr th {\n        vertical-align: top;\n    }\n\n    .dataframe thead th {\n        text-align: right;\n    }\n</style>\n<table border=\"1\" class=\"dataframe\">\n  <thead>\n    <tr style=\"text-align: right;\">\n      <th></th>\n      <th>category</th>\n      <th>title</th>\n      <th>also_buy</th>\n      <th>brand</th>\n      <th>rank</th>\n      <th>also_view</th>\n      <th>main_cat</th>\n      <th>price</th>\n      <th>asin</th>\n      <th>overall</th>\n      <th>verified</th>\n      <th>reviewerID</th>\n      <th>vote</th>\n      <th>style</th>\n      <th>for_testing</th>\n    </tr>\n  </thead>\n  <tbody>\n    <tr>\n      <th>0</th>\n      <td>['Grocery &amp; Gourmet Food', 'Snack Foods', 'Bar...</td>\n      <td>Grocery &amp;amp; Gourmet Food\" /&gt;</td>\n      <td>['B01MT0QDPO', 'B00NL17FE4', 'B01NBM9OJN', 'B0...</td>\n      <td>Nature Valley</td>\n      <td>16,921 in Grocery &amp; Gourmet Food (</td>\n      <td>NaN</td>\n      <td>Grocery</td>\n      <td>18.04</td>\n      <td>B001E6GFR6</td>\n      <td>5.0</td>\n      <td>True</td>\n      <td>A2IUE299OONA73</td>\n      <td>NaN</td>\n      <td>NaN</td>\n      <td>True</td>\n    </tr>\n    <tr>\n      <th>1</th>\n      <td>['Grocery &amp; Gourmet Food', 'Snack Foods', 'Chi...</td>\n      <td>Gourmet Basics Smart Fries 4-Flavor Variety Pa...</td>\n      <td>['B0763SHX4W', 'B0040FIHS8', 'B00FYR5HS4', 'B0...</td>\n      <td>Gourmet Basics</td>\n      <td>53,167 in Grocery &amp; Gourmet Food (</td>\n      <td>NaN</td>\n      <td>Grocery</td>\n      <td>23.99</td>\n      <td>B003AZ2ECY</td>\n      <td>4.0</td>\n      <td>True</td>\n      <td>A38NO7J1TK4R1W</td>\n      <td>NaN</td>\n      <td>NaN</td>\n      <td>True</td>\n    </tr>\n  </tbody>\n</table>\n</div>"
     },
     "execution_count": 4,
     "metadata": {},
     "output_type": "execute_result"
    }
   ],
   "source": [
    "df_test.head(2)"
   ],
   "metadata": {
    "collapsed": false,
    "pycharm": {
     "name": "#%%\n"
    }
   }
  },
  {
   "cell_type": "markdown",
   "source": [
    "### RMSE"
   ],
   "metadata": {
    "collapsed": false
   }
  },
  {
   "cell_type": "code",
   "execution_count": 5,
   "outputs": [],
   "source": [
    "def compute_rmse(y_pred, y_true):\n",
    "    \"\"\" Compute Root Mean Squared Error. \"\"\"\n",
    "    \n",
    "    return np.sqrt(np.mean(np.power(y_pred - y_true, 2)))"
   ],
   "metadata": {
    "collapsed": false,
    "pycharm": {
     "name": "#%%\n"
    }
   }
  },
  {
   "cell_type": "markdown",
   "source": [
    "### Evaluation method"
   ],
   "metadata": {
    "collapsed": false
   }
  },
  {
   "cell_type": "code",
   "execution_count": 6,
   "outputs": [],
   "source": [
    "def evaluate(estimate_f):\n",
    "    \"\"\" RMSE-based predictive performance evaluation with pandas. \"\"\"\n",
    "    \n",
    "    ids_to_estimate = zip(df_test.reviewerID, df_test.asin)\n",
    "    estimated = np.array([estimate_f(u,i) for (u,i) in ids_to_estimate])\n",
    "    real = df_test.overall.values\n",
    "    return compute_rmse(estimated, real)"
   ],
   "metadata": {
    "collapsed": false,
    "pycharm": {
     "name": "#%%\n"
    }
   }
  },
  {
   "cell_type": "markdown",
   "source": [
    "## Well-known Solutions to the Recommendation Problem"
   ],
   "metadata": {
    "collapsed": false
   }
  },
  {
   "cell_type": "markdown",
   "source": [
    "### Content-based filtering\n",
    "\n",
    "*Recommend based on the user's rating history.* \n",
    "\n",
    "Generic expression (notice how this is kind of a 'row-based' approach):\n",
    "\n",
    "$$\\newcommand{\\aggr}{\\mathop{\\rm aggr}\\nolimits}r_{u,i} = \\aggr_{i' \\in I(u)} [r_{u,i'}]$$"
   ],
   "metadata": {
    "collapsed": false
   }
  },
  {
   "cell_type": "markdown",
   "source": [
    "A simple example using the mean as an aggregation function:\n",
    "\n",
    "$$ r_{u,i} = \\bar r_u = \\frac{\\sum_{i' \\in I(u)} r_{u,i'}}{|I(u)|} $$"
   ],
   "metadata": {
    "collapsed": false
   }
  },
  {
   "cell_type": "code",
   "execution_count": 7,
   "outputs": [],
   "source": [
    "def content_mean(product_id, user_id):\n",
    "    \"\"\" Simple content-filtering based on mean ratings. \"\"\"\n",
    "    \n",
    "    user_condition = df_train.reviewerID != user_id\n",
    "    movie_condition = df_train.asin == product_id\n",
    "    ratings_by_others = df_train.loc[user_condition & movie_condition]\n",
    "    if ratings_by_others.empty:\n",
    "        return 4.0\n",
    "    else:\n",
    "        return df_train.loc[user_condition, 'overall'].mean()"
   ],
   "metadata": {
    "collapsed": false,
    "pycharm": {
     "name": "#%%\n"
    }
   }
  },
  {
   "cell_type": "code",
   "execution_count": 8,
   "outputs": [
    {
     "name": "stdout",
     "output_type": "stream",
     "text": [
      "RMSE for content mean: 1.1813128290169375\n"
     ]
    }
   ],
   "source": [
    "# Test model\n",
    "print('RMSE for content mean: %s' % evaluate(content_mean))"
   ],
   "metadata": {
    "collapsed": false,
    "pycharm": {
     "name": "#%%\n"
    }
   }
  },
  {
   "cell_type": "markdown",
   "source": [
    "### Collaborative filtering\n",
    "\n",
    "*Recommend based on other user's rating histories.* \n",
    "\n",
    "Generic expression (notice how this is kind of a 'col-based' approach):\n",
    "\n",
    "$$\\newcommand{\\aggr}{\\mathop{\\rm aggr}\\nolimits}r_{u,i} = \\aggr_{u' \\in U(i)} [r_{u',i}]$$"
   ],
   "metadata": {
    "collapsed": false
   }
  },
  {
   "cell_type": "markdown",
   "source": [
    "A simple example using the mean as an aggregation function:\n",
    "\n",
    "$$ r_{u,i} = \\bar r_i = \\frac{\\sum_{u' \\in U(i)} r_{u',i}}{|U(i)|} $$"
   ],
   "metadata": {
    "collapsed": false
   }
  },
  {
   "cell_type": "code",
   "execution_count": 9,
   "outputs": [],
   "source": [
    "def collaborative_mean(user_id, product_id):\n",
    "    \"\"\" Simple collaborative filter based on mean ratings. \"\"\"\n",
    "    \n",
    "    user_condition = df_train.reviewerID != user_id\n",
    "    movie_condition = df_train.asin == product_id\n",
    "    ratings_by_others = df_train.loc[user_condition & movie_condition]\n",
    "    if ratings_by_others.empty:\n",
    "        return 4.0\n",
    "    else:\n",
    "        return ratings_by_others.overall.mean()"
   ],
   "metadata": {
    "collapsed": false,
    "pycharm": {
     "name": "#%%\n"
    }
   }
  },
  {
   "cell_type": "code",
   "source": [
    "# Test model\n",
    "print(f'RMSE for collaborative mean is: {evaluate(collaborative_mean)}.')"
   ],
   "metadata": {
    "collapsed": false,
    "pycharm": {
     "name": "#%%\n"
    }
   },
   "execution_count": 10,
   "outputs": [
    {
     "name": "stdout",
     "output_type": "stream",
     "text": [
      "RMSE for collaborative mean is: 1.2344329617156664.\n"
     ]
    }
   ]
  },
  {
   "cell_type": "markdown",
   "source": [
    "The rating for the collaborative mean is worse (higher error) than the rating using the content mean above."
   ],
   "metadata": {
    "collapsed": false,
    "pycharm": {
     "name": "#%% md\n"
    }
   }
  },
  {
   "cell_type": "markdown",
   "source": [
    "### Generalizations of the aggregation function for content-based filtering: incorporating similarities\n",
    "\n",
    "Possibly incorporating metadata about items, which makes the term 'content' make more sense now.\n",
    "\n",
    "$$ r_{u,i} = k \\sum_{i' \\in I(u)} sim(i, i') \\; r_{u,i'} $$\n",
    "\n",
    "$$ r_{u,i} = \\bar r_u + k \\sum_{i' \\in I(u)} sim(i, i') \\; (r_{u,i'} - \\bar r_u) $$\n",
    "\n",
    "Here $k$ is a normalizing factor,\n",
    "\n",
    "$$ k = \\frac{1}{\\sum_{i' \\in I(u)} |sim(i,i')|} $$\n",
    "\n",
    "and $\\bar r_u$ is the average rating of user u:\n",
    "\n",
    "$$ \\bar r_u = \\frac{\\sum_{i \\in I(u)} r_{u,i}}{|I(u)|} $$"
   ],
   "metadata": {
    "collapsed": false
   }
  },
  {
   "cell_type": "markdown",
   "source": [
    "### Generalizations of the aggregation function for collaborative filtering: incorporating similarities\n",
    "\n",
    "Possibly incorporating metadata about users.\n",
    "\n",
    "$$ r_{u,i} = k \\sum_{u' \\in U(i)} sim(u, u') \\; r_{u',i} $$\n",
    "\n",
    "$$ r_{u,i} = \\bar r_u + k \\sum_{u' \\in U(i)} sim(u, u') \\; (r_{u',i} - \\bar r_u) $$\n",
    "\n",
    "Here $k$ is a normalizing factor,\n",
    "\n",
    "$$ k = \\frac{1}{\\sum_{u' \\in U(i)} |sim(u,u')|} $$\n",
    "\n",
    "and $\\bar r_u$ is the average rating of user u:\n",
    "\n",
    "$$ \\bar r_u = \\frac{\\sum_{i \\in I(u)} r_{u,i}}{|I(u)|} $$"
   ],
   "metadata": {
    "collapsed": false
   }
  },
  {
   "cell_type": "markdown",
   "source": [
    "## Summary\n",
    "- The content mean (simple average of the product) is better (has a lower error) than the collaborative mean (simple average of the users).\n",
    "- However, this RMSE of 1.1813 is still worse than the best baseline function in the earlier version.\n",
    "- Therefore, will use custom similarity functions in the next version of the notebooks for improvements."
   ],
   "metadata": {
    "collapsed": false
   }
  },
  {
   "cell_type": "markdown",
   "source": [
    "## References\n",
    "1) Unata 2015 [Hands-on with PyData: How to Build a Minimal Recommendation Engine](https://www.youtube.com/watch?v=F6gWjOc1FUs).  "
   ],
   "metadata": {
    "collapsed": false
   }
  }
 ],
 "metadata": {
  "kernelspec": {
   "name": "pycharm-cef1f773",
   "language": "python",
   "display_name": "PyCharm (pycon2015_tutorial322)"
  },
  "language_info": {
   "codemirror_mode": {
    "name": "ipython",
    "version": 2
   },
   "file_extension": ".py",
   "mimetype": "text/x-python",
   "name": "python",
   "nbconvert_exporter": "python",
   "pygments_lexer": "ipython2",
   "version": "2.7.6"
  }
 },
 "nbformat": 4,
 "nbformat_minor": 0
}