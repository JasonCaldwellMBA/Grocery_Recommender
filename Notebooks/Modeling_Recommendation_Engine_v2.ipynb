{
 "cells": [
  {
   "cell_type": "markdown",
   "metadata": {
    "collapsed": true,
    "pycharm": {
     "name": "#%% md\n"
    }
   },
   "source": [
    "# Modeling Recommendation Engine v2 <sup>[1]</sup>"
   ]
  },
  {
   "cell_type": "markdown",
   "source": [
    "## Imports"
   ],
   "metadata": {
    "collapsed": false,
    "pycharm": {
     "name": "#%% md\n"
    }
   }
  },
  {
   "cell_type": "code",
   "execution_count": 2,
   "outputs": [],
   "source": [
    "import numpy as np\n",
    "import pandas as pd\n",
    "from scipy.special import logsumexp\n",
    "\n",
    "# set some print options\n",
    "np.set_printoptions(precision=4)\n",
    "np.set_printoptions(threshold=5)\n",
    "np.set_printoptions(suppress=True)\n",
    "pd.set_option('precision', 3, 'notebook_repr_html', True, )\n",
    "\n",
    "# init random gen\n",
    "np.random.seed(2)"
   ],
   "metadata": {
    "collapsed": false,
    "pycharm": {
     "name": "#%%\n"
    }
   }
  },
  {
   "cell_type": "markdown",
   "source": [
    "## Load Data"
   ],
   "metadata": {
    "collapsed": false
   }
  },
  {
   "cell_type": "code",
   "execution_count": 3,
   "outputs": [],
   "source": [
    "# 80/20 split earlier\n",
    "df_train = pd.read_csv('../Data/training_data.csv')\n",
    "df_test = pd.read_csv('../Data/testing_data.csv')"
   ],
   "metadata": {
    "collapsed": false,
    "pycharm": {
     "name": "#%%\n"
    }
   }
  },
  {
   "cell_type": "code",
   "execution_count": 4,
   "outputs": [
    {
     "data": {
      "text/plain": "                                            category  \\\n0  ['Grocery & Gourmet Food', 'Beverages', 'Coffe...   \n1  ['Grocery & Gourmet Food', 'Beverages', 'Coffe...   \n\n                                         description  \\\n0  ['Lipton Yellow Label Tea use only the finest ...   \n1  ['Lipton Yellow Label Tea use only the finest ...   \n\n                                        title  \\\n0  Lipton Yellow Label Tea (loose tea) - 450g   \n1  Lipton Yellow Label Tea (loose tea) - 450g   \n\n                                            also_buy   brand  \\\n0  ['B00886E4K0', 'B00CREXSHY', 'B001QTRGAQ', 'B0...  Lipton   \n1  ['B00886E4K0', 'B00CREXSHY', 'B001QTRGAQ', 'B0...  Lipton   \n\n                                 rank main_cat        asin details  overall  \\\n0  30,937 in Grocery & Gourmet Food (  Grocery  4639725043     NaN      5.0   \n1  30,937 in Grocery & Gourmet Food (  Grocery  4639725043     NaN      3.0   \n\n   verified      reviewerID  \\\n0      True  A1J205ZK25TZ6W   \n1      True   ACOICLIJQYECU   \n\n                                          reviewText  \\\n0  I make the best brewed iced tea with this yell...   \n1  I have recently started drinking hot tea again...   \n\n                     summary  for_testing  \n0  Best for brewed iced tea.        False  \n1       Not Bad for iced Tea        False  ",
      "text/html": "<div>\n<style scoped>\n    .dataframe tbody tr th:only-of-type {\n        vertical-align: middle;\n    }\n\n    .dataframe tbody tr th {\n        vertical-align: top;\n    }\n\n    .dataframe thead th {\n        text-align: right;\n    }\n</style>\n<table border=\"1\" class=\"dataframe\">\n  <thead>\n    <tr style=\"text-align: right;\">\n      <th></th>\n      <th>category</th>\n      <th>description</th>\n      <th>title</th>\n      <th>also_buy</th>\n      <th>brand</th>\n      <th>rank</th>\n      <th>main_cat</th>\n      <th>asin</th>\n      <th>details</th>\n      <th>overall</th>\n      <th>verified</th>\n      <th>reviewerID</th>\n      <th>reviewText</th>\n      <th>summary</th>\n      <th>for_testing</th>\n    </tr>\n  </thead>\n  <tbody>\n    <tr>\n      <th>0</th>\n      <td>['Grocery &amp; Gourmet Food', 'Beverages', 'Coffe...</td>\n      <td>['Lipton Yellow Label Tea use only the finest ...</td>\n      <td>Lipton Yellow Label Tea (loose tea) - 450g</td>\n      <td>['B00886E4K0', 'B00CREXSHY', 'B001QTRGAQ', 'B0...</td>\n      <td>Lipton</td>\n      <td>30,937 in Grocery &amp; Gourmet Food (</td>\n      <td>Grocery</td>\n      <td>4639725043</td>\n      <td>NaN</td>\n      <td>5.0</td>\n      <td>True</td>\n      <td>A1J205ZK25TZ6W</td>\n      <td>I make the best brewed iced tea with this yell...</td>\n      <td>Best for brewed iced tea.</td>\n      <td>False</td>\n    </tr>\n    <tr>\n      <th>1</th>\n      <td>['Grocery &amp; Gourmet Food', 'Beverages', 'Coffe...</td>\n      <td>['Lipton Yellow Label Tea use only the finest ...</td>\n      <td>Lipton Yellow Label Tea (loose tea) - 450g</td>\n      <td>['B00886E4K0', 'B00CREXSHY', 'B001QTRGAQ', 'B0...</td>\n      <td>Lipton</td>\n      <td>30,937 in Grocery &amp; Gourmet Food (</td>\n      <td>Grocery</td>\n      <td>4639725043</td>\n      <td>NaN</td>\n      <td>3.0</td>\n      <td>True</td>\n      <td>ACOICLIJQYECU</td>\n      <td>I have recently started drinking hot tea again...</td>\n      <td>Not Bad for iced Tea</td>\n      <td>False</td>\n    </tr>\n  </tbody>\n</table>\n</div>"
     },
     "execution_count": 4,
     "metadata": {},
     "output_type": "execute_result"
    }
   ],
   "source": [
    "df_train.head(2)"
   ],
   "metadata": {
    "collapsed": false,
    "pycharm": {
     "name": "#%%\n"
    }
   }
  },
  {
   "cell_type": "code",
   "execution_count": 5,
   "outputs": [
    {
     "data": {
      "text/plain": "                                            category  \\\n0  ['Grocery & Gourmet Food', 'Beverages', 'Coffe...   \n1  ['Grocery & Gourmet Food', 'Beverages', 'Coffe...   \n\n                                         description  \\\n0  ['Lipton Yellow Label Tea use only the finest ...   \n1  ['Lipton Yellow Label Tea use only the finest ...   \n\n                                        title  \\\n0  Lipton Yellow Label Tea (loose tea) - 450g   \n1  Lipton Yellow Label Tea (loose tea) - 450g   \n\n                                            also_buy   brand  \\\n0  ['B00886E4K0', 'B00CREXSHY', 'B001QTRGAQ', 'B0...  Lipton   \n1  ['B00886E4K0', 'B00CREXSHY', 'B001QTRGAQ', 'B0...  Lipton   \n\n                                 rank main_cat        asin details  overall  \\\n0  30,937 in Grocery & Gourmet Food (  Grocery  4639725043     NaN      5.0   \n1  30,937 in Grocery & Gourmet Food (  Grocery  4639725043     NaN      5.0   \n\n   verified      reviewerID  \\\n0      True  A29RCQA5G0B1BA   \n1      True  A3ALL8JW7604P7   \n\n                                          reviewText  \\\n0  I like pretty much all of Lipton's tea... I ju...   \n1  My second favorite tea!  Drink lots it'll make...   \n\n                                      summary  for_testing  \n0                           A Great Cuppa...!        False  \n1  Good Stuff for those who like a strong tea        False  ",
      "text/html": "<div>\n<style scoped>\n    .dataframe tbody tr th:only-of-type {\n        vertical-align: middle;\n    }\n\n    .dataframe tbody tr th {\n        vertical-align: top;\n    }\n\n    .dataframe thead th {\n        text-align: right;\n    }\n</style>\n<table border=\"1\" class=\"dataframe\">\n  <thead>\n    <tr style=\"text-align: right;\">\n      <th></th>\n      <th>category</th>\n      <th>description</th>\n      <th>title</th>\n      <th>also_buy</th>\n      <th>brand</th>\n      <th>rank</th>\n      <th>main_cat</th>\n      <th>asin</th>\n      <th>details</th>\n      <th>overall</th>\n      <th>verified</th>\n      <th>reviewerID</th>\n      <th>reviewText</th>\n      <th>summary</th>\n      <th>for_testing</th>\n    </tr>\n  </thead>\n  <tbody>\n    <tr>\n      <th>0</th>\n      <td>['Grocery &amp; Gourmet Food', 'Beverages', 'Coffe...</td>\n      <td>['Lipton Yellow Label Tea use only the finest ...</td>\n      <td>Lipton Yellow Label Tea (loose tea) - 450g</td>\n      <td>['B00886E4K0', 'B00CREXSHY', 'B001QTRGAQ', 'B0...</td>\n      <td>Lipton</td>\n      <td>30,937 in Grocery &amp; Gourmet Food (</td>\n      <td>Grocery</td>\n      <td>4639725043</td>\n      <td>NaN</td>\n      <td>5.0</td>\n      <td>True</td>\n      <td>A29RCQA5G0B1BA</td>\n      <td>I like pretty much all of Lipton's tea... I ju...</td>\n      <td>A Great Cuppa...!</td>\n      <td>False</td>\n    </tr>\n    <tr>\n      <th>1</th>\n      <td>['Grocery &amp; Gourmet Food', 'Beverages', 'Coffe...</td>\n      <td>['Lipton Yellow Label Tea use only the finest ...</td>\n      <td>Lipton Yellow Label Tea (loose tea) - 450g</td>\n      <td>['B00886E4K0', 'B00CREXSHY', 'B001QTRGAQ', 'B0...</td>\n      <td>Lipton</td>\n      <td>30,937 in Grocery &amp; Gourmet Food (</td>\n      <td>Grocery</td>\n      <td>4639725043</td>\n      <td>NaN</td>\n      <td>5.0</td>\n      <td>True</td>\n      <td>A3ALL8JW7604P7</td>\n      <td>My second favorite tea!  Drink lots it'll make...</td>\n      <td>Good Stuff for those who like a strong tea</td>\n      <td>False</td>\n    </tr>\n  </tbody>\n</table>\n</div>"
     },
     "execution_count": 5,
     "metadata": {},
     "output_type": "execute_result"
    }
   ],
   "source": [
    "df_test.head(2)"
   ],
   "metadata": {
    "collapsed": false,
    "pycharm": {
     "name": "#%%\n"
    }
   }
  },
  {
   "cell_type": "markdown",
   "source": [
    "## Evaluation functions\n",
    "\n",
    "Used to test your `estimate` method."
   ],
   "metadata": {
    "collapsed": false,
    "pycharm": {
     "name": "#%% md\n"
    }
   }
  },
  {
   "cell_type": "code",
   "execution_count": 7,
   "outputs": [],
   "source": [
    "def compute_rmse(y_pred, y_true):\n",
    "    \"\"\" Compute Root Mean Squared Error. \"\"\"\n",
    "    \n",
    "    return np.sqrt(np.mean(np.power(y_pred - y_true, 2)))"
   ],
   "metadata": {
    "collapsed": false,
    "pycharm": {
     "name": "#%%\n"
    }
   }
  },
  {
   "cell_type": "code",
   "execution_count": 8,
   "outputs": [],
   "source": [
    "def evaluate(estimate_f):\n",
    "    \"\"\" RMSE-based predictive performance evaluation with pandas. \"\"\"\n",
    "    \n",
    "    ids_to_estimate = zip(df_test.reviewerID, df_test.asin)\n",
    "    estimated = np.array([estimate_f(u,i) for (u,i) in ids_to_estimate])\n",
    "    real = df_test.overall.values\n",
    "    return compute_rmse(estimated, real)"
   ],
   "metadata": {
    "collapsed": false,
    "pycharm": {
     "name": "#%%\n"
    }
   }
  },
  {
   "cell_type": "markdown",
   "source": [
    "## Several Custom Similarity Functions\n",
    "\n",
    "### Euclidean 'similarity'\n",
    "\n",
    "$$ sim(x,y) = \\frac{1}{1 + \\sqrt{\\sum (x - y)^2}}$$"
   ],
   "metadata": {
    "collapsed": false,
    "pycharm": {
     "name": "#%% md\n"
    }
   }
  },
  {
   "cell_type": "code",
   "execution_count": 9,
   "outputs": [],
   "source": [
    "def euclidean(s1, s2):\n",
    "    \"\"\"Take two pd.Series objects and return their euclidean 'similarity'.\"\"\"\n",
    "    diff = s1 - s2\n",
    "    return 1 / (1 + np.sqrt(np.sum(diff ** 2)))"
   ],
   "metadata": {
    "collapsed": false,
    "pycharm": {
     "name": "#%%\n"
    }
   }
  },
  {
   "cell_type": "markdown",
   "source": [
    "### Cosine similarity\n",
    "\n",
    "$$ sim(x,y) = \\frac{(x . y)}{\\sqrt{(x . x) (y . y)}} $$"
   ],
   "metadata": {
    "collapsed": false,
    "pycharm": {
     "name": "#%% md\n"
    }
   }
  },
  {
   "cell_type": "code",
   "execution_count": 10,
   "outputs": [],
   "source": [
    "def cosine(s1, s2):\n",
    "    \"\"\"Take two pd.Series objects and return their cosine similarity.\"\"\"\n",
    "    return np.sum(s1 * s2) / np.sqrt(np.sum(s1 ** 2) * np.sum(s2 ** 2))"
   ],
   "metadata": {
    "collapsed": false,
    "pycharm": {
     "name": "#%%\n"
    }
   }
  },
  {
   "cell_type": "markdown",
   "source": [
    "- Pearson correlation\n",
    "\n",
    "$$ sim(x,y) = \\frac{(x - \\bar x).(y - \\bar y)}{\\sqrt{(x - \\bar x).(x - \\bar x) * (y - \\bar y)(y - \\bar y)}} $$"
   ],
   "metadata": {
    "collapsed": false
   }
  },
  {
   "cell_type": "code",
   "execution_count": 11,
   "outputs": [],
   "source": [
    "def pearson(s1, s2):\n",
    "    \"\"\"Take two pd.Series objects and return a pearson correlation.\"\"\"\n",
    "    s1_c = s1 - s1.mean()\n",
    "    s2_c = s2 - s2.mean()\n",
    "    return np.sum(s1_c * s2_c) / np.sqrt(np.sum(logsumexp(s1_c ** 2)) * np.sum(logsumexp(s2_c ** 2)))"
   ],
   "metadata": {
    "collapsed": false,
    "pycharm": {
     "name": "#%%\n"
    }
   }
  },
  {
   "cell_type": "markdown",
   "source": [
    "- Jaccard similarity\n",
    "\n",
    "$$ sim(x,y) = \\frac{(x . y)}{(x . x) + (y . y) - (x . y)} $$"
   ],
   "metadata": {
    "collapsed": false
   }
  },
  {
   "cell_type": "code",
   "execution_count": 12,
   "outputs": [],
   "source": [
    "def jaccard(s1, s2):\n",
    "    dotp = np.sum(s1 * s2)\n",
    "    return dotp / (np.sum(s1 ** 2) + np.sum(s2 ** 2) - dotp)\n",
    "\n",
    "def binjaccard(s1, s2):\n",
    "    dotp = s1.index.intersection(s2.index).size\n",
    "    return dotp / (s1.sum() + s2.sum() - dotp)"
   ],
   "metadata": {
    "collapsed": false,
    "pycharm": {
     "name": "#%%\n"
    }
   }
  },
  {
   "cell_type": "markdown",
   "source": [
    "## References\n",
    "1) Unata 2015 [Hands-on with PyData: How to Build a Minimal Recommendation Engine](https://www.youtube.com/watch?v=F6gWjOc1FUs).  "
   ],
   "metadata": {
    "collapsed": false
   }
  }
 ],
 "metadata": {
  "kernelspec": {
   "name": "pycharm-cef1f773",
   "language": "python",
   "display_name": "PyCharm (pycon2015_tutorial322)"
  },
  "language_info": {
   "codemirror_mode": {
    "name": "ipython",
    "version": 2
   },
   "file_extension": ".py",
   "mimetype": "text/x-python",
   "name": "python",
   "nbconvert_exporter": "python",
   "pygments_lexer": "ipython2",
   "version": "2.7.6"
  }
 },
 "nbformat": 4,
 "nbformat_minor": 0
}